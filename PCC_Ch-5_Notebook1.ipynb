{
 "cells": [
  {
   "cell_type": "markdown",
   "metadata": {},
   "source": [
    "# If Statements"
   ]
  },
  {
   "cell_type": "markdown",
   "metadata": {},
   "source": [
    "Programming often involves examining\n",
    "a set of conditions and deciding which\n",
    "action to take based on those conditions.\n",
    "Python’s **`if`** statement allows you to examine the\n",
    "current state of a program and respond appropriately\n",
    "to that state.\n",
    "\n",
    "In this chapter you’ll learn to write conditional tests, which allow you to\n",
    "check any condition of interest. You’ll learn to write simple if statements,\n",
    "and you’ll learn how to create a more complex series of if statements to\n",
    "identify when the exact conditions you want are present. You’ll then apply\n",
    "this concept to lists, so you’ll be able to write a for loop that handles most\n",
    "items in a list one way but handles certain items with specific values in a\n",
    "different way."
   ]
  },
  {
   "cell_type": "markdown",
   "metadata": {},
   "source": [
    "The following short example shows how if tests let you respond to special\n",
    "situations correctly. Imagine you have a list of cars and you want to print\n",
    "out the name of each car. Car names are proper names, so the names of\n",
    "most cars should be printed in title case. However, the value 'bmw' should\n",
    "be printed in all uppercase. The following code loops through a list of car\n",
    "names and looks for the value 'bmw'. Whenever the value is 'bmw', it’s printed\n",
    "in uppercase instead of title case:\n",
    "\n",
    "The loop in this example first checks if the current value of car is 'bmw' u.\n",
    "If it is, the value is printed in uppercase. If the value of car is anything other\n",
    "than 'bmw', it’s printed in title case:"
   ]
  },
  {
   "cell_type": "code",
   "execution_count": 1,
   "metadata": {},
   "outputs": [
    {
     "name": "stdout",
     "output_type": "stream",
     "text": [
      "Audi\n",
      "BMW\n",
      "Subaru\n",
      "Toyota\n"
     ]
    }
   ],
   "source": [
    "cars = ['audi', 'bmw', 'subaru', 'toyota']\n",
    "\n",
    "for car in cars:\n",
    "    if car == 'bmw':\n",
    "        print(car.upper())\n",
    "    else:\n",
    "        print(car.title())"
   ]
  },
  {
   "cell_type": "markdown",
   "metadata": {},
   "source": [
    "# Conditional Tests\n",
    "\n",
    "At the heart of every if statement is an expression that can be evaluated as\n",
    "**True or False** and is called a **`conditional test`**. Python uses the values True and\n",
    "False to decide whether the code in an if statement should be executed. If a\n",
    "conditional test evaluates to True, Python executes the code following the if\n",
    "statement. If the test evaluates to False, Python ignores the code following\n",
    "the if statement."
   ]
  },
  {
   "cell_type": "markdown",
   "metadata": {},
   "source": [
    "## Checking for Equality\n",
    "\n",
    "Most conditional tests compare the current value of a variable to a specific\n",
    "value of interest. The simplest conditional test checks whether the value of a\n",
    "variable is equal to the value of interest:\n",
    "\n",
    "The line at u sets the value of car to 'bmw' using a single equal sign,\n",
    "as you’ve seen many times already. The line at v checks whether the value\n",
    "of car is 'bmw' using a double equal sign (==). This equality operator returns\n",
    "True if the values on the left and right side of the operator match, and\n",
    "False if they don’t match. The values in this example match, so Python\n",
    "returns True.\n",
    "When the value of car is anything other than 'bmw', this test returns\n",
    "False:\n",
    "\n",
    "**A single equal sign is really a statement**; you might read the code at u\n",
    "as “Set the value of car equal to 'audi'.” On the other hand, a double equal\n",
    "sign, like the one at v, asks a question: “Is the value of car equal to 'bmw'?”\n",
    "Most programming languages use equal signs in this way."
   ]
  },
  {
   "cell_type": "code",
   "execution_count": 2,
   "metadata": {},
   "outputs": [
    {
     "data": {
      "text/plain": [
       "True"
      ]
     },
     "execution_count": 2,
     "metadata": {},
     "output_type": "execute_result"
    }
   ],
   "source": [
    "car = 'bmw'\n",
    "car == 'bmw'"
   ]
  },
  {
   "cell_type": "code",
   "execution_count": 3,
   "metadata": {},
   "outputs": [
    {
     "data": {
      "text/plain": [
       "False"
      ]
     },
     "execution_count": 3,
     "metadata": {},
     "output_type": "execute_result"
    }
   ],
   "source": [
    "car = 'bmw'\n",
    "car == 'audi'"
   ]
  },
  {
   "cell_type": "markdown",
   "metadata": {},
   "source": [
    "## Ignoring Case When Checking for Equality\n",
    "\n",
    "Testing for equality is case sensitive in Python. For example, two values with\n",
    "different capitalization are not considered equal:\n",
    "\n",
    "If case matters, this behavior is advantageous. But if case doesn’t matter\n",
    "and instead you just want to test the value of a variable, you can convert the\n",
    "variable’s value to lowercase before doing the comparison: \n",
    "\n",
    "This test would return True no matter how the value 'Audi' is formatted\n",
    "because the test is now case insensitive. The lower() function doesn’t change\n",
    "the value that was originally stored in car, so you can do this kind of comparison\n",
    "without affecting the original variable:"
   ]
  },
  {
   "cell_type": "markdown",
   "metadata": {},
   "source": [
    "**Websites enforce certain rules for the data that users enter in a manner similar to this**. For example, a site might use a conditional test\n",
    "like this to ensure that every user has a truly unique username, not just a\n",
    "variation on the capitalization of another person’s username. When someone\n",
    "submits a new username, that new username is converted to lowercase\n",
    "and compared to the lowercase versions of all existing usernames. During\n",
    "this check, a username like 'John' will be rejected if any variation of 'john'\n",
    "is already in use."
   ]
  },
  {
   "cell_type": "code",
   "execution_count": 4,
   "metadata": {},
   "outputs": [
    {
     "data": {
      "text/plain": [
       "False"
      ]
     },
     "execution_count": 4,
     "metadata": {},
     "output_type": "execute_result"
    }
   ],
   "source": [
    "car = 'Audi'\n",
    "car == 'audi'"
   ]
  },
  {
   "cell_type": "code",
   "execution_count": 7,
   "metadata": {},
   "outputs": [
    {
     "data": {
      "text/plain": [
       "True"
      ]
     },
     "execution_count": 7,
     "metadata": {},
     "output_type": "execute_result"
    }
   ],
   "source": [
    "car = 'Audi'\n",
    "car.lower() == 'audi'"
   ]
  },
  {
   "cell_type": "code",
   "execution_count": 9,
   "metadata": {},
   "outputs": [
    {
     "data": {
      "text/plain": [
       "'Audi'"
      ]
     },
     "execution_count": 9,
     "metadata": {},
     "output_type": "execute_result"
    }
   ],
   "source": [
    "# The value stored in car has not been affected by the lower() method.\n",
    "car"
   ]
  },
  {
   "cell_type": "markdown",
   "metadata": {},
   "source": [
    "## Checking for Inequality\n",
    "\n",
    "When you want to determine whether two values are not equal, you can\n",
    "combine an exclamation point and an equal sign (**`!=`**). The exclamation\n",
    "point represents ***not***, as it does in many programming languages.\n",
    "\n",
    "Let’s use another if statement to examine how to use the inequality\n",
    "operator. We’ll store a requested pizza topping in a variable and then print\n",
    "a message if the person did not order anchovies:\n",
    "\n",
    "The line at u compares the value of requested_topping to the value\n",
    "'anchovies'. If these two values do not match, Python returns True and executes\n",
    "the code following the if statement. If the two values match, Python\n",
    "returns False and does not run the code following the if statement.\n",
    "\n",
    "Because the value of requested_topping is not 'anchovies', the print()\n",
    "function is executed:"
   ]
  },
  {
   "cell_type": "code",
   "execution_count": 10,
   "metadata": {},
   "outputs": [
    {
     "name": "stdout",
     "output_type": "stream",
     "text": [
      "Hold the anchovies!\n"
     ]
    }
   ],
   "source": [
    "requested_topping = 'mushrooms'\n",
    "\n",
    "if requested_topping != 'anchovies':\n",
    "    print('Hold the anchovies!')"
   ]
  },
  {
   "cell_type": "markdown",
   "metadata": {},
   "source": [
    "*Most of the conditional expressions you write will test for equality, but sometimes you’ll find it more efficient to test for inequality.*"
   ]
  },
  {
   "cell_type": "markdown",
   "metadata": {},
   "source": [
    "## Numerical Comparisons\n",
    "\n",
    "Testing numerical values is pretty straightforward. For example, the following\n",
    "code checks whether a person is 18 years old:"
   ]
  },
  {
   "cell_type": "code",
   "execution_count": 11,
   "metadata": {},
   "outputs": [
    {
     "data": {
      "text/plain": [
       "True"
      ]
     },
     "execution_count": 11,
     "metadata": {},
     "output_type": "execute_result"
    }
   ],
   "source": [
    "age = 18\n",
    "\n",
    "age == 18"
   ]
  },
  {
   "cell_type": "markdown",
   "metadata": {},
   "source": [
    "You can also test to see if two numbers are not equal. For example, the\n",
    "following code prints a message if the given answer is not correct:\n",
    "\n",
    "The conditional test at u passes, because the value of answer (17) is not\n",
    "equal to 42. Because the test passes, the indented code block is executed:"
   ]
  },
  {
   "cell_type": "code",
   "execution_count": 12,
   "metadata": {},
   "outputs": [
    {
     "name": "stdout",
     "output_type": "stream",
     "text": [
      "That is not the correct answer. Please try again!\n"
     ]
    }
   ],
   "source": [
    "answer = 17\n",
    "\n",
    "if answer != 42:\n",
    "    print(\"That is not the correct answer. Please try again!\")"
   ]
  },
  {
   "cell_type": "markdown",
   "metadata": {},
   "source": [
    "You can include various mathematical comparisons in your conditional\n",
    "statements as well, such as less than, less than or equal to, greater than, and\n",
    "greater than or equal to:\n",
    "\n",
    "***Each mathematical comparison can be used as part of an if statement, which can help you detect the exact conditions of interest.***"
   ]
  },
  {
   "cell_type": "code",
   "execution_count": 13,
   "metadata": {},
   "outputs": [
    {
     "data": {
      "text/plain": [
       "True"
      ]
     },
     "execution_count": 13,
     "metadata": {},
     "output_type": "execute_result"
    }
   ],
   "source": [
    "age = 19\n",
    "\n",
    "age < 21"
   ]
  },
  {
   "cell_type": "code",
   "execution_count": 14,
   "metadata": {},
   "outputs": [
    {
     "data": {
      "text/plain": [
       "True"
      ]
     },
     "execution_count": 14,
     "metadata": {},
     "output_type": "execute_result"
    }
   ],
   "source": [
    "age <= 21"
   ]
  },
  {
   "cell_type": "code",
   "execution_count": 15,
   "metadata": {},
   "outputs": [
    {
     "data": {
      "text/plain": [
       "False"
      ]
     },
     "execution_count": 15,
     "metadata": {},
     "output_type": "execute_result"
    }
   ],
   "source": [
    "age > 21"
   ]
  },
  {
   "cell_type": "code",
   "execution_count": 16,
   "metadata": {},
   "outputs": [
    {
     "data": {
      "text/plain": [
       "False"
      ]
     },
     "execution_count": 16,
     "metadata": {},
     "output_type": "execute_result"
    }
   ],
   "source": [
    "age >= 21"
   ]
  },
  {
   "cell_type": "markdown",
   "metadata": {},
   "source": [
    "## Checking Multiple Conditions\n",
    "\n",
    "You may want to check multiple conditions at the same time. For example,\n",
    "sometimes you might need two conditions to be True to take an action. Other\n",
    "times you might be satisfied with just one condition being True. The keywords\n",
    "and and or can help you in these situations."
   ]
  },
  {
   "cell_type": "markdown",
   "metadata": {},
   "source": [
    "### Using `and` to Check Multiple Conditions\n",
    "\n",
    "To check whether two conditions are both True simultaneously, use the keyword\n",
    "and to combine the two conditional tests; if each test passes, the overall\n",
    "expression evaluates to True. If either test fails or if both tests fail, the\n",
    "expression evaluates to False.\n",
    "\n",
    "For example, you can check whether two people are both over 21 using\n",
    "the following test:\n",
    "\n",
    "At u we define two ages, age_0 and age_1. At v we check whether both\n",
    "ages are 21 or older. The test on the left passes, but the test on the right fails,\n",
    "so the overall conditional expression evaluates to False. At w we change age_1\n",
    "to 22. The value of age_1 is now greater than 21, so both individual tests pass,\n",
    "causing the overall conditional expression to evaluate as True."
   ]
  },
  {
   "cell_type": "code",
   "execution_count": 17,
   "metadata": {},
   "outputs": [
    {
     "data": {
      "text/plain": [
       "False"
      ]
     },
     "execution_count": 17,
     "metadata": {},
     "output_type": "execute_result"
    }
   ],
   "source": [
    "age_0 = 22\n",
    "age_1 = 18\n",
    "\n",
    "age_0 >= 21 and age_1 >= 21"
   ]
  },
  {
   "cell_type": "code",
   "execution_count": 18,
   "metadata": {},
   "outputs": [
    {
     "data": {
      "text/plain": [
       "True"
      ]
     },
     "execution_count": 18,
     "metadata": {},
     "output_type": "execute_result"
    }
   ],
   "source": [
    "age_0 = 22\n",
    "age_1 = 23\n",
    "\n",
    "age_0 >= 21 and age_1 >= 21"
   ]
  },
  {
   "cell_type": "markdown",
   "metadata": {},
   "source": [
    "To improve readability, you can use parentheses around the individual\n",
    "tests, but they are not required. If you use parentheses, your test would look\n",
    "like this:"
   ]
  },
  {
   "cell_type": "code",
   "execution_count": 19,
   "metadata": {},
   "outputs": [
    {
     "data": {
      "text/plain": [
       "True"
      ]
     },
     "execution_count": 19,
     "metadata": {},
     "output_type": "execute_result"
    }
   ],
   "source": [
    "(age_0 >= 21) and (age_1 >= 21)"
   ]
  },
  {
   "cell_type": "markdown",
   "metadata": {},
   "source": [
    "### Using `or` to Check Multiple Conditions\n",
    "\n",
    "The keyword or allows you to check multiple conditions as well, but it\n",
    "passes when either or both of the individual tests pass. An or expression\n",
    "fails only when both individual tests fail.\n",
    "\n",
    "Let’s consider two ages again, but this time we’ll look for only one person\n",
    "to be over 21:\n",
    "\n",
    "We start with two age variables again at u. Because the test for age_0 at v\n",
    "passes, the overall expression evaluates to True. We then lower age_0 to 18. In\n",
    "the test at w, both tests now fail and the overall expression evaluates to False."
   ]
  },
  {
   "cell_type": "code",
   "execution_count": 20,
   "metadata": {},
   "outputs": [
    {
     "data": {
      "text/plain": [
       "True"
      ]
     },
     "execution_count": 20,
     "metadata": {},
     "output_type": "execute_result"
    }
   ],
   "source": [
    "age_0 = 22\n",
    "age_1 = 18\n",
    "\n",
    "age_0 >= 21 or age_1 >= 21"
   ]
  },
  {
   "cell_type": "code",
   "execution_count": 21,
   "metadata": {},
   "outputs": [
    {
     "data": {
      "text/plain": [
       "False"
      ]
     },
     "execution_count": 21,
     "metadata": {},
     "output_type": "execute_result"
    }
   ],
   "source": [
    "age_0 = 18\n",
    "age_1 = 18\n",
    "\n",
    "age_0 >= 21 or age_1 >= 21"
   ]
  },
  {
   "cell_type": "code",
   "execution_count": null,
   "metadata": {},
   "outputs": [],
   "source": []
  }
 ],
 "metadata": {
  "interpreter": {
   "hash": "fbc05aefc5138339e86326c0933e0017460d8d382a1640adfde37b07fe7115b6"
  },
  "kernelspec": {
   "display_name": "Python 3.9.7 64-bit",
   "name": "python3"
  },
  "language_info": {
   "codemirror_mode": {
    "name": "ipython",
    "version": 3
   },
   "file_extension": ".py",
   "mimetype": "text/x-python",
   "name": "python",
   "nbconvert_exporter": "python",
   "pygments_lexer": "ipython3",
   "version": "3.9.7"
  },
  "orig_nbformat": 4
 },
 "nbformat": 4,
 "nbformat_minor": 2
}
