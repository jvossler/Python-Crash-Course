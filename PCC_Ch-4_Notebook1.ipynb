{
 "cells": [
  {
   "cell_type": "markdown",
   "source": [
    "# Chapter 4: Working With Lists"
   ],
   "metadata": {}
  },
  {
   "cell_type": "markdown",
   "source": [
    "### In Chapter 3 you learned how to make a simple list, and you learned to work with the individual elements in a list. In this chapter you’ll learn how to loop through an entire list using just a few lines of code regardless of how long the list is. Looping allows you to take the same action, or set of actions, with every item in a list. As a result, you’ll be able to work efficiently with lists of any length, including those with thousands or even millions of items."
   ],
   "metadata": {}
  },
  {
   "cell_type": "markdown",
   "source": [
    "## Looping Through an Entire List\r\n",
    "\r\n",
    "You’ll often want to run through all entries in a list, performing the same\r\n",
    "task with each item. For example, in a game you might want to move every\r\n",
    "element on the screen by the same amount, or in a list of numbers you\r\n",
    "might want to perform the same statistical operation on every element. Or\r\n",
    "perhaps you’ll want to display each headline from a list of articles on a website.\r\n",
    "When you want to do the same action with every item in a list, you can\r\n",
    "use Python’s **`for`** loop.\r\n",
    "\r\n",
    "Let’s say we have a list of magicians’ names, and we want to print out\r\n",
    "each name in the list. We could do this by retrieving each name from the\r\n",
    "list individually, but this approach could cause several problems. For one,\r\n",
    "it would be repetitive to do this with a long list of names. Also, we’d have to\r\n",
    "change our code each time the list’s length changed. \r\n",
    "**A for loop avoids both of these issues by letting Python manage these issues internally.**\r\n",
    "\r\n",
    "We begin by defining a list at u, just as we did in Chapter 3. At v,\r\n",
    "we define a for loop. This line tells Python to pull a name from the list\r\n",
    "magicians, and associate it with the variable magician. At w we tell Python to\r\n",
    "print the name that’s just been assigned to magician. Python then repeats\r\n",
    "lines v and w, once for each name in the list. It might help to read this\r\n",
    "code as “For every magician in the list of magicians, print the magician’s\r\n",
    "name.” \r\n",
    "\r\n",
    "The output is a simple printout of each name in the list:"
   ],
   "metadata": {}
  },
  {
   "cell_type": "code",
   "execution_count": 2,
   "source": [
    "magicians = ['alice', 'david', 'carolina']\r\n",
    "for magician in magicians:\r\n",
    "    print(magician.title())"
   ],
   "outputs": [
    {
     "output_type": "stream",
     "name": "stdout",
     "text": [
      "Alice\n",
      "David\n",
      "Carolina\n"
     ]
    }
   ],
   "metadata": {}
  },
  {
   "cell_type": "markdown",
   "source": [
    "## A Closer Look at Looping"
   ],
   "metadata": {}
  },
  {
   "cell_type": "markdown",
   "source": [
    "When you’re using loops for the first time, keep in mind that the set of\r\n",
    "steps is repeated once for each item in the list, no matter how many items\r\n",
    "are in the list. If you have a million items in your list, Python repeats these\r\n",
    "steps a million times—and usually very quickly.\r\n",
    "\r\n",
    "Also keep in mind when writing your own for loops that you can choose\r\n",
    "any name you want for the temporary variable that will be associated with\r\n",
    "each value in the list. However, it’s helpful to choose a meaningful name\r\n",
    "that represents a single item from the list.\r\n",
    "- for cat in cats:\r\n",
    "- for dog in dogs:\r\n",
    "- for item in list_of_items:\r\n",
    "\r\n",
    "These naming conventions can help you follow the action being done\r\n",
    "on each item within a for loop. Using singular and plural names can help\r\n",
    "you identify whether a section of code is working with a single element from\r\n",
    "the list or the entire list."
   ],
   "metadata": {}
  },
  {
   "cell_type": "markdown",
   "source": [
    "## Doing More Work Within a for Loop\r\n",
    "You can do just about anything with each item in a for loop.\r\n",
    "\r\n",
    "The only difference in this code is at u where we compose a message to\r\n",
    "each magician, starting with that magician’s name. The first time through\r\n",
    "the loop the value of magician is 'alice', so Python starts the first message\r\n",
    "with the name 'Alice'. The second time through the message will begin with\r\n",
    "'David', and the third time through the message will begin with 'Carolina'."
   ],
   "metadata": {}
  },
  {
   "cell_type": "code",
   "execution_count": 3,
   "source": [
    "magicians = ['alice', 'david', 'carolina']\r\n",
    "for magician in magicians:\r\n",
    "    print(f\"{magician.title()}, that was a great trick!\")"
   ],
   "outputs": [
    {
     "output_type": "stream",
     "name": "stdout",
     "text": [
      "Alice, that was a great trick!\n",
      "David, that was a great trick!\n",
      "Carolina, that was a great trick!\n"
     ]
    }
   ],
   "metadata": {}
  },
  {
   "cell_type": "markdown",
   "source": [
    "You can also write as many lines of code as you like in the for loop.\r\n",
    "Every indented line following the line for magician in magicians is considered\r\n",
    "inside the loop, and each indented line is executed once for each\r\n",
    "value in the list. Therefore, you can do as much work as you like with\r\n",
    "each value in the list.\r\n",
    "\r\n",
    "Let’s add a second line to our message, telling each magician that we’re\r\n",
    "looking forward to their next trick:\r\n",
    "\r\n",
    "Because we have indented both calls to print(), each line will be executed\r\n",
    "once for every magician in the list. The newline (\"\\n\") in the second print()\r\n",
    "call u inserts a blank line after each pass through the loop. This creates a set\r\n",
    "of messages that are neatly grouped for each person in the list:"
   ],
   "metadata": {}
  },
  {
   "cell_type": "code",
   "execution_count": 4,
   "source": [
    "magicians = ['alice', 'david', 'carolina']\r\n",
    "for magician in magicians:\r\n",
    "    print(f\"{magician.title()}, that was a great trick!\")\r\n",
    "    print(f\"I can't wait to see your next trick, {magician.title()}.\\n\")"
   ],
   "outputs": [
    {
     "output_type": "stream",
     "name": "stdout",
     "text": [
      "Alice, that was a great trick!\n",
      "I can't wait to see your next trick, Alice.\n",
      "\n",
      "David, that was a great trick!\n",
      "I can't wait to see your next trick, David.\n",
      "\n",
      "Carolina, that was a great trick!\n",
      "I can't wait to see your next trick, Carolina.\n",
      "\n"
     ]
    }
   ],
   "metadata": {}
  },
  {
   "cell_type": "markdown",
   "source": [
    "## Doing Something After a for Loop\r\n",
    "\r\n",
    "What happens once a for loop has finished executing? Usually, you’ll want\r\n",
    "to summarize a block of output or move on to other work that your program\r\n",
    "must accomplish.\r\n",
    "\r\n",
    "Any lines of code after the for loop that are not indented are executed\r\n",
    "once without repetition. Let’s write a thank you to the group of magicians\r\n",
    "as a whole, thanking them for putting on an excellent show. To display this\r\n",
    "group message after all of the individual messages have been printed, we\r\n",
    "place the thank you message after the for loop without indentation:\r\n",
    "\r\n",
    "The first two calls to print() are repeated once for each magician in the\r\n",
    "list, as you saw earlier. However, because the line at u is not indented, it’s\r\n",
    "printed only once:"
   ],
   "metadata": {}
  },
  {
   "cell_type": "code",
   "execution_count": 5,
   "source": [
    "magicians = ['alice', 'david', 'carolina']\r\n",
    "for magician in magicians:\r\n",
    "    print(f\"{magician.title()}, that was a great trick!\")\r\n",
    "    print(f\"I can't wait to see your next trick, {magician.title()}.\\n\")\r\n",
    "print(\"Thank you, everyone. That was a great show!\")"
   ],
   "outputs": [
    {
     "output_type": "stream",
     "name": "stdout",
     "text": [
      "Alice, that was a great trick!\n",
      "I can't wait to see your next trick, Alice.\n",
      "\n",
      "David, that was a great trick!\n",
      "I can't wait to see your next trick, David.\n",
      "\n",
      "Carolina, that was a great trick!\n",
      "I can't wait to see your next trick, Carolina.\n",
      "\n",
      "Thank you, everyone. That was a great show!\n"
     ]
    }
   ],
   "metadata": {}
  },
  {
   "cell_type": "markdown",
   "source": [
    "## Avoiding Indentation Errors\r\n",
    "\r\n",
    "Python uses indentation to determine how a line, or group of lines, is related\r\n",
    "to the rest of the program. In the previous examples, the lines that printed\r\n",
    "messages to individual magicians were part of the for loop because they\r\n",
    "were indented. Python’s use of indentation makes code very easy to read.\r\n",
    "\r\n",
    "Basically, it uses whitespace to force you to write neatly formatted code\r\n",
    "with a clear visual structure. In longer Python programs, you’ll notice\r\n",
    "blocks of code indented at a few different levels. These indentation levels\r\n",
    "help you gain a general sense of the overall program’s organization.\r\n",
    "\r\n",
    "As you begin to write code that relies on proper indentation, you’ll\r\n",
    "need to watch for a few common **`indentation errors`**. For example, people\r\n",
    "sometimes indent lines of code that don’t need to be indented or forget\r\n",
    "to indent lines that need to be indented. Seeing examples of these errors\r\n",
    "now will help you avoid them in the future and correct them when they do\r\n",
    "appear in your own programs.\r\n",
    "\r\n",
    "Let’s examine some of the more common indentation errors."
   ],
   "metadata": {}
  },
  {
   "cell_type": "markdown",
   "source": [
    "## Forgetting to Indent\r\n",
    "\r\n",
    "Always indent the line after the for statement in a loop. If you forget, Python\r\n",
    "will remind you:\r\n",
    "\r\n"
   ],
   "metadata": {}
  },
  {
   "cell_type": "code",
   "execution_count": 7,
   "source": [
    "# magicians = ['alice', 'david', 'carolina']\r\n",
    "# for magician in magicians:\r\n",
    "# print(magician)"
   ],
   "outputs": [],
   "metadata": {}
  },
  {
   "cell_type": "markdown",
   "source": [
    "The call to print() u should be indented, but it’s not. When Python\r\n",
    "expects an indented block and doesn’t find one, it lets you know which line\r\n",
    "it had a problem with.\r\n",
    "\r\n",
    "You can usually resolve this kind of indentation error by indenting the\r\n",
    "line or lines immediately after the for statement."
   ],
   "metadata": {}
  },
  {
   "cell_type": "markdown",
   "source": [
    "## Forgetting to Indent Additional Lines\r\n",
    "\r\n",
    "Sometimes your loop will run without any errors but won’t produce the\r\n",
    "expected result. This can happen when you’re trying to do several tasks in\r\n",
    "a loop and you forget to indent some of its lines.\r\n",
    "\r\n",
    "For example, this is what happens when we forget to indent the second\r\n",
    "line in the loop that tells each magician we’re looking forward to their next\r\n",
    "trick:"
   ],
   "metadata": {}
  },
  {
   "cell_type": "code",
   "execution_count": null,
   "source": [],
   "outputs": [],
   "metadata": {}
  }
 ],
 "metadata": {
  "orig_nbformat": 4,
  "language_info": {
   "name": "python",
   "version": "3.9.7",
   "mimetype": "text/x-python",
   "codemirror_mode": {
    "name": "ipython",
    "version": 3
   },
   "pygments_lexer": "ipython3",
   "nbconvert_exporter": "python",
   "file_extension": ".py"
  },
  "kernelspec": {
   "name": "python3",
   "display_name": "Python 3.9.7 64-bit"
  },
  "interpreter": {
   "hash": "fbc05aefc5138339e86326c0933e0017460d8d382a1640adfde37b07fe7115b6"
  }
 },
 "nbformat": 4,
 "nbformat_minor": 2
}