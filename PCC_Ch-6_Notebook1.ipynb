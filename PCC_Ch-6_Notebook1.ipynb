{
 "cells": [
  {
   "cell_type": "markdown",
   "metadata": {},
   "source": [
    "# Python Crach Course - Chapter 6: Dictionaries"
   ]
  },
  {
   "cell_type": "markdown",
   "metadata": {},
   "source": [
    "In this chapter you’ll learn how to use\n",
    "Python’s dictionaries, which allow you to\n",
    "connect pieces of related information. You’ll\n",
    "learn how to access the information once it’s\n",
    "in a dictionary and how to modify that information.\n",
    "Because dictionaries can store an almost limitless\n",
    "amount of information, I’ll show you how to loop\n",
    "through the data in a dictionary. Additionally, you’ll learn to nest dictionaries\n",
    "inside lists, lists inside dictionaries, and even dictionaries inside other\n",
    "dictionaries.\n",
    "\n",
    "Understanding dictionaries allows you to model a variety of real-world\n",
    "objects more accurately. You’ll be able to create a dictionary representing\n",
    "a person and then store as much information as you want about that\n",
    "person. You can store their name, age, location, profession, and any other\n",
    "aspect of a person you can describe. You’ll be able to store any two kinds of\n",
    "information that can be matched up, such as a list of words and their meanings,\n",
    "a list of people’s names and their favorite numbers, a list of mountains\n",
    "and their elevations, and so forth."
   ]
  },
  {
   "cell_type": "markdown",
   "metadata": {},
   "source": [
    "# A Simple Dictionary\n",
    "\n",
    "Consider a game featuring aliens that can have different colors and point\n",
    "values. This simple dictionary stores information about a particular alien:\n",
    "\n",
    "The dictionary alien_0 stores the alien’s color and point value. The last\n",
    "two lines access and display that information, as shown here:\n",
    "\n",
    "As with most new programming concepts, using dictionaries takes\n",
    "practice. Once you’ve worked with dictionaries for a bit you’ll soon see how\n",
    "effectively they can model real-world situations."
   ]
  },
  {
   "cell_type": "code",
   "execution_count": 1,
   "metadata": {},
   "outputs": [
    {
     "name": "stdout",
     "output_type": "stream",
     "text": [
      "green\n",
      "5\n"
     ]
    }
   ],
   "source": [
    "alien_0 = {'color' : 'green', 'points' : 5}\n",
    "\n",
    "print(alien_0['color'])\n",
    "print(alien_0['points'])"
   ]
  },
  {
   "cell_type": "markdown",
   "metadata": {},
   "source": [
    "# Working with Dictionaries\n",
    "A **`dictionary`** in Python is a collection of **`key-value pairs`**. **Each key is connected to a value, and you can use a key to access the value associated with that key.**\n",
    "A key’s value can be a number, a string, a list, or even another dictionary.\n",
    "In fact, ***you can use any object that you can create in Python as a value in a\n",
    "dictionary***.\n",
    "\n",
    "In Python, a dictionary is wrapped in braces, **`{}`**, with a series of keyvalue\n",
    "pairs inside the braces, as shown in the earlier example:\n",
    "\n",
    "alien_0 = {'color': 'green', 'points': 5}\n",
    "\n",
    "**`A key-value pair is a set of values associated with each other.`** When you\n",
    "provide a key, Python returns the value associated with that key. ***Every key is connected to its value by a colon, and individual key-value pairs are separated by commas***. You can store as many key-value pairs as you want in a\n",
    "dictionary.\n",
    "\n",
    "The simplest dictionary has exactly one key-value pair, as shown in this\n",
    "modified version of the alien_0 dictionary:\n",
    "\n",
    "alien_0 = {'color': 'green'}\n",
    "\n",
    "This dictionary stores one piece of information about alien_0, namely\n",
    "the alien’s color. The string 'color' is a key in this dictionary, and its associated\n",
    "value is 'green'."
   ]
  },
  {
   "cell_type": "markdown",
   "metadata": {},
   "source": [
    "# Accessing Values in a Dictionary\n",
    "To get the value associated with a key, give the name of the dictionary and\n",
    "then place the key inside a set of square brackets, as shown here:\n",
    "\n",
    "alien_0 = {'color': 'green'}\n",
    "\n",
    "print(alien_0['color'])\n",
    "\n",
    "This returns the value associated with the key 'color' from the dictionary\n",
    "alien_0:\n",
    "\n",
    "green\n",
    "\n",
    "**You can have an unlimited number of key-value pairs in a dictionary.**\n",
    "For example, here’s the original alien_0 dictionary with two key-value pairs:\n",
    "\n",
    "alien_0 = {'color': 'green', 'points': 5}\n",
    "\n",
    "Now you can access either the color or the point value of alien_0. If a\n",
    "player shoots down this alien, you can look up how many points they should\n",
    "earn using code like this:\n",
    "\n",
    "alien_0 = {'color': 'green', 'points': 5}\n",
    "\n",
    "u new_points = alien_0['points']\n",
    "\n",
    "v print(f\"You just earned {new_points} points!\")\n",
    "\n",
    "Once the dictionary has been defined, the code at u pulls the value\n",
    "associated with the key 'points' from the dictionary. This value is then\n",
    "assigned to the variable new_points. The line at v prints a statement about\n",
    "how many points the player just earned:\n",
    "\n",
    "You just earned 5 points!\n",
    "\n",
    "If you run this code every time an alien is shot down, the alien’s point\n",
    "value will be retrieved."
   ]
  },
  {
   "cell_type": "markdown",
   "metadata": {},
   "source": [
    "# Adding New Key-Value Pairs\n",
    "Dictionaries are dynamic structures, and you can add new key-value pairs\n",
    "to a dictionary at any time. For example, to add a new key-value pair, you\n",
    "would give the name of the dictionary followed by the new key in square\n",
    "brackets along with the new value.\n",
    "\n",
    "Let’s add two new pieces of information to the alien_0 dictionary:\n",
    "the alien’s x- and y-coordinates, which will help us display the alien in a\n",
    "particular position on the screen. Let’s place the alien on the left edge of\n",
    "the screen, 25 pixels down from the top. Because screen coordinates usually\n",
    "start at the upper-left corner of the screen, we’ll place the alien on the left\n",
    "edge of the screen by setting the x-coordinate to 0 and 25 pixels from the\n",
    "top by setting its y-coordinate to positive 25, as shown here:\n",
    "\n",
    "alien_0 = {'color': 'green', 'points': 5}\n",
    "\n",
    "print(alien_0)\n",
    "\n",
    "u alien_0['x_position'] = 0\n",
    "\n",
    "v alien_0['y_position'] = 25\n",
    "\n",
    "print(alien_0)\n",
    "\n",
    "We start by defining the same dictionary that we’ve been working with.\n",
    "We then print this dictionary, displaying a snapshot of its information. At u\n",
    "we add a new key-value pair to the dictionary: key 'x_position' and value 0.\n",
    "We do the same for key 'y_position' at v. When we print the modified dictionary,\n",
    "we see the two additional key-value pairs:\n",
    "\n",
    "{'color': 'green', 'points': 5}\n",
    "\n",
    "{'color': 'green', 'points': 5, 'x_position': 0, 'y_position': 25}\n",
    "\n",
    "The final version of the dictionary contains four key-value pairs. The\n",
    "original two specify color and point value, and two more specify the alien’s\n",
    "position.\n",
    "\n",
    "**NOTE** As of Python 3.7, dictionaries retain the order in which they were defined. When you\n",
    "print a dictionary or loop through its elements, you will see the elements in the same\n",
    "order in which they were added to the dictionary."
   ]
  },
  {
   "cell_type": "code",
   "execution_count": 2,
   "metadata": {},
   "outputs": [
    {
     "name": "stdout",
     "output_type": "stream",
     "text": [
      "{'color': 'green', 'points': 5}\n",
      "{'color': 'green', 'points': 5, 'x_position': 0, 'y_position': 25}\n"
     ]
    }
   ],
   "source": [
    "alien_0 = {'color': 'green', 'points': 5}\n",
    "print(alien_0)\n",
    "\n",
    "alien_0['x_position'] = 0\n",
    "alien_0['y_position'] = 25\n",
    "print(alien_0)"
   ]
  },
  {
   "cell_type": "markdown",
   "metadata": {},
   "source": [
    "# Starting with an Empty Dictionary\n",
    "It’s sometimes convenient, or even necessary, to start with an empty dictionary\n",
    "and then add each new item to it. To start filling an empty dictionary,\n",
    "define a dictionary with an empty set of braces and then add each key-value\n",
    "pair on its own line. For example, here’s how to build the alien_0 dictionary\n",
    "using this approach:\n",
    "\n",
    "alien_0 = {}\n",
    "\n",
    "alien_0['color'] = 'green'\n",
    "\n",
    "alien_0['points'] = 5\n",
    "\n",
    "print(alien_0)\n",
    "\n",
    "Here we define an empty alien_0 dictionary, and then add color and\n",
    "point values to it. The result is the dictionary we’ve been using in previous\n",
    "examples:\n",
    "\n",
    "{'color': 'green', 'points': 5}\n",
    "\n",
    "**Typically, you’ll use empty dictionaries when storing user-supplied data in a dictionary or when you write code that generates a large number of key-value pairs automatically.**"
   ]
  },
  {
   "cell_type": "code",
   "execution_count": 3,
   "metadata": {},
   "outputs": [
    {
     "name": "stdout",
     "output_type": "stream",
     "text": [
      "{'color': 'green', 'points': 5}\n"
     ]
    }
   ],
   "source": [
    "alien_0 = {}\n",
    "\n",
    "alien_0['color'] = 'green'\n",
    "alien_0['points'] = 5\n",
    "\n",
    "print(alien_0)"
   ]
  },
  {
   "cell_type": "markdown",
   "metadata": {},
   "source": [
    "# Modifying Values in a Dictionary\n",
    "To modify a value in a dictionary, give the name of the dictionary with the\n",
    "key in square brackets and then the new value you want associated with\n",
    "that key. For example, consider an alien that changes from green to yellow\n",
    "as a game progresses:\n",
    "\n",
    "alien_0 = {'color': 'green'}\n",
    "\n",
    "print(f\"The alien is {alien_0['color']}.\")\n",
    "\n",
    "alien_0['color'] = 'yellow'\n",
    "\n",
    "print(f\"The alien is now {alien_0['color']}.\")\n",
    "\n",
    "We first define a dictionary for alien_0 that contains only the alien’s\n",
    "color; then we change the value associated with the key 'color' to 'yellow'.\n",
    "\n",
    "The output shows that the alien has indeed changed from green to yellow:\n",
    "\n",
    "The alien is green.\n",
    "\n",
    "The alien is now yellow.\n",
    "\n",
    "For a more interesting example, let’s track the position of an alien that\n",
    "can move at different speeds. We’ll store a value representing the alien’s\n",
    "current speed and then use it to determine how far to the right the alien\n",
    "should move:\n",
    "\n",
    "alien_0 = {'x_position': 0, 'y_position': 25, 'speed': 'medium'}\n",
    "\n",
    "print(f\"Original position: {alien_0['x_position']}\")\n",
    "\n",
    "#Move the alien to the right.\n",
    "\n",
    "#Determine how far to move the alien based on its current speed.\n",
    "\n",
    "u if alien_0['speed'] == 'slow':\n",
    "\n",
    "x_increment = 1\n",
    "\n",
    "elif alien_0['speed'] == 'medium':\n",
    "\n",
    "x_increment = 2\n",
    "\n",
    "else:\n",
    "\n",
    "#This must be a fast alien.\n",
    "\n",
    "x_increment = 3\n",
    "\n",
    "#The new position is the old position plus the increment.\n",
    "\n",
    "v alien_0['x_position'] = alien_0['x_position'] + x_increment\n",
    "\n",
    "print(f\"New position: {alien_0['x_position']}\")\n",
    "\n",
    "We start by defining an alien with an initial x position and y position,\n",
    "and a speed of 'medium'. We’ve omitted the color and point values for the\n",
    "sake of simplicity, but this example would work the same way if you included\n",
    "those key-value pairs as well. We also print the original value of x_position to\n",
    "see how far the alien moves to the right.\n",
    "\n",
    "At u, an if-elif-else chain determines how far the alien should move\n",
    "to the right and assigns this value to the variable x_increment. If the alien’s\n",
    "speed is 'slow', it moves one unit to the right; if the speed is 'medium', it\n",
    "moves two units to the right; and if it’s 'fast', it moves three units to the\n",
    "right. Once the increment has been calculated, it’s added to the value of\n",
    "x_position at v, and the result is stored in the dictionary’s x_position.\n",
    "\n",
    "Because this is a medium-speed alien, its position shifts two units to the\n",
    "right:\n",
    "\n",
    "Original x-position: 0\n",
    "\n",
    "New x-position: 2\n",
    "\n",
    "This technique is pretty cool: by changing one value in the alien’s dictionary,\n",
    "you can change the overall behavior of the alien. For example, to\n",
    "turn this medium-speed alien into a fast alien, you would add the line:\n",
    "\n",
    "alien_0['speed'] = 'fast'\n",
    "\n",
    "The if-elif-else block would then assign a larger value to x_increment\n",
    "the next time the code runs."
   ]
  },
  {
   "cell_type": "code",
   "execution_count": 4,
   "metadata": {},
   "outputs": [
    {
     "name": "stdout",
     "output_type": "stream",
     "text": [
      "The alien is green.\n",
      "The alien is now yellow.\n"
     ]
    }
   ],
   "source": [
    "alien_0 = {'color' : 'green'}\n",
    "print(f\"The alien is {alien_0['color']}.\")\n",
    "\n",
    "alien_0['color'] = 'yellow'\n",
    "print(f\"The alien is now {alien_0['color']}.\")"
   ]
  },
  {
   "cell_type": "code",
   "execution_count": 5,
   "metadata": {},
   "outputs": [
    {
     "name": "stdout",
     "output_type": "stream",
     "text": [
      "Original position: 0\n",
      "New position: 2\n"
     ]
    }
   ],
   "source": [
    "alien_0 = {'x_position' : 0, 'y_position' : 25, 'speed' : 'medium'}\n",
    "print(f\"Original position: {alien_0['x_position']}\")\n",
    "\n",
    "# Move the alien to the right\n",
    "# Determine how far to move the alien based on its current speed\n",
    "if alien_0['speed'] == 'slow':\n",
    "    x_increment = 1\n",
    "elif alien_0['speed'] == 'medium':\n",
    "    x_increment = 2\n",
    "else:\n",
    "    # This must be a fast alien.\n",
    "    x_increment = 3\n",
    "\n",
    "# The new position is the old position plus the increment\n",
    "alien_0['x_position'] = alien_0['x_position'] + x_increment\n",
    "\n",
    "print(f\"New position: {alien_0['x_position']}\")"
   ]
  },
  {
   "cell_type": "markdown",
   "metadata": {},
   "source": [
    "# Removing Key-Value Pairs\n",
    "When you no longer need a piece of information that’s stored in a dictionary,\n",
    "you can use the del statement to completely remove a key-value pair.\n",
    "\n",
    "All del needs is the name of the dictionary and the key that you want to\n",
    "remove.\n",
    "\n",
    "For example, let’s remove the key 'points' from the alien_0 dictionary\n",
    "along with its value:\n",
    "\n",
    "alien_0 = {'color': 'green', 'points': 5}\n",
    "\n",
    "print(alien_0)\n",
    "\n",
    "u del alien_0['points']\n",
    "\n",
    "print(alien_0)\n",
    "\n",
    "The line at u tells Python to delete the key 'points' from the dictionary\n",
    "alien_0 and to remove the value associated with that key as well. The output\n",
    "shows that the key 'points' and its value of 5 are deleted from the dictionary,\n",
    "but the rest of the dictionary is unaffected:\n",
    "\n",
    "{'color': 'green', 'points': 5}\n",
    "\n",
    "{'color': 'green'}\n",
    "\n",
    "**NOTE** Be aware that the deleted key-value pair is removed permanently."
   ]
  },
  {
   "cell_type": "code",
   "execution_count": 6,
   "metadata": {},
   "outputs": [
    {
     "name": "stdout",
     "output_type": "stream",
     "text": [
      "{'color': 'green', 'points': 5}\n",
      "{'color': 'green'}\n"
     ]
    }
   ],
   "source": [
    "alien_0 = {'color' : 'green', 'points' : 5}\n",
    "print(alien_0)\n",
    "\n",
    "# del alien_0[:]\n",
    "del alien_0['points']\n",
    "print(alien_0)\n",
    "\n"
   ]
  },
  {
   "cell_type": "markdown",
   "metadata": {},
   "source": [
    "# A Dictionary of Similar Objects\n",
    "The previous example involved storing different kinds of information about\n",
    "one object, an alien in a game. You can also use a dictionary to store one\n",
    "kind of information about many objects. For example, say you want to poll a\n",
    "number of people and ask them what their favorite programming language\n",
    "is. A dictionary is useful for storing the results of a simple poll, like this:\n",
    "\n",
    "favorite_languages = {\n",
    "\n",
    "'jen': 'python',\n",
    "\n",
    "'sarah': 'c',\n",
    "\n",
    "'edward': 'ruby',\n",
    "\n",
    "'phil': 'python',\n",
    "\n",
    "}\n",
    "\n",
    "As you can see, we’ve broken a larger dictionary into several lines. Each\n",
    "key is the name of a person who responded to the poll, and each value is\n",
    "their language choice. When you know you’ll need more than one line to\n",
    "define a dictionary, press enter after the opening brace. Then indent the\n",
    "next line one level (four spaces), and write the first key-value pair, followed\n",
    "by a comma. From this point forward when you press enter, your text editor\n",
    "should automatically indent all subsequent key-value pairs to match the\n",
    "first key-value pair.\n",
    "\n",
    "Once you’ve finished defining the dictionary, add a closing brace on a\n",
    "new line after the last key-value pair and indent it one level so it aligns with\n",
    "the keys in the dictionary. ***It’s good practice to include a comma after the\n",
    "last key-value pair as well, so you’re ready to add a new key-value pair on the\n",
    "next line.***\n",
    "\n",
    "**NOTE** Most editors have some functionality that helps you format extended lists and dictionaries in a similar manner to this example. Other acceptable ways to format long\n",
    "dictionaries are available as well, so you may see slightly different formatting in your\n",
    "editor, or in other sources.\n",
    "\n",
    "To use this dictionary, given the name of a person who took the poll,\n",
    "you can easily look up their favorite language:\n",
    "\n",
    "favorite_languages = {\n",
    "\n",
    "'jen': 'python',\n",
    "\n",
    "'sarah': 'c',\n",
    "\n",
    "'edward': 'ruby',\n",
    "\n",
    "'phil': 'python',\n",
    "\n",
    "}\n",
    "\n",
    "u language = favorite_languages['sarah'].title()\n",
    "\n",
    "print(f\"Sarah's favorite language is {language}.\")\n",
    "\n",
    "To see which language Sarah chose, we ask for the value at:\n",
    "favorite_languages['sarah']\n",
    "\n",
    "We use this syntax to pull Sarah’s favorite language from the dictionary\n",
    "at u and assign it to the variable language. Creating a new variable here\n",
    "makes for a much cleaner print() call. The output shows Sarah’s favorite\n",
    "language:\n",
    "\n",
    "Sarah's favorite language is C.\n",
    "\n",
    "You could use this same syntax with any individual represented in the\n",
    "dictionary."
   ]
  },
  {
   "cell_type": "code",
   "execution_count": 7,
   "metadata": {},
   "outputs": [
    {
     "name": "stdout",
     "output_type": "stream",
     "text": [
      "Sarah's favorite language is C.\n",
      "\n",
      "Sarah's favorite language is C.\n",
      "\n",
      "Sarah's favorite language is C.\n"
     ]
    }
   ],
   "source": [
    "favorite_languages = {\n",
    "    'jen': 'python',\n",
    "    'sarah': 'c',\n",
    "    'edward': 'ruby',\n",
    "    'phil': 'python',\n",
    "}\n",
    "\n",
    "language = favorite_languages['sarah'].title()\n",
    "print(f\"Sarah's favorite language is {language}.\")\n",
    "\n",
    "# Other ways to do it\n",
    "print(f\"\\nSarah's favorite language is {favorite_languages['sarah'].title()}.\")\n",
    "print(f\"\\nSarah's favorite language is {favorite_languages['sarah'][0].title()}.\")"
   ]
  },
  {
   "cell_type": "markdown",
   "metadata": {},
   "source": [
    "# Using get() to Access Values\n",
    "\n",
    "Using keys in square brackets to retrieve the value you’re interested in\n",
    "from a dictionary might cause one potential problem: if the key you ask for\n",
    "doesn’t exist, you’ll get an error.\n",
    "\n",
    "Let’s see what happens when you ask for the point value of an alien that\n",
    "doesn’t have a point value set:\n",
    "\n",
    "alien_0 = {'color': 'green', 'speed': 'slow'}\n",
    "\n",
    "print(alien_0['points'])\n",
    "\n",
    "This results in a traceback, showing a KeyError:\n",
    "\n",
    "Traceback (most recent call last):\n",
    "\n",
    "File \"alien_no_points.py\", line 2, in <module>\n",
    "\n",
    "print(alien_0['points'])\n",
    "\n",
    "KeyError: 'points'\n",
    "\n",
    "You’ll learn more about how to handle errors like this in general in\n",
    "Chapter 10. For dictionaries, specifically, you can use the get() method to\n",
    "set a default value that will be returned if the requested key doesn’t exist.\n",
    "The get() method requires a key as a first argument. As a second\n",
    "optional argument, you can pass the value to be returned if the key doesn’t\n",
    "exist:\n",
    "\n",
    "alien_0 = {'color': 'green', 'speed': 'slow'}\n",
    "\n",
    "point_value = alien_0.get('points', 'No point value assigned.')\n",
    "\n",
    "print(point_value)\n",
    "\n",
    "If the key 'points' exists in the dictionary, you’ll get the corresponding\n",
    "value. If it doesn’t, you get the default value. In this case, points doesn’t\n",
    "exist, and we get a clean message instead of an error:\n",
    "\n",
    "No point value assigned.\n",
    "\n",
    "***If there’s a chance the key you’re asking for might not exist, consider\n",
    "using the get() method instead of the square bracket notation.***\n",
    "\n",
    "**NOTE** If you leave out the second argument in the call to get() and the key doesn’t exist,\n",
    "Python will return the value None. `The special value None means “no value exists.”`\n",
    "***This is not an error: it’s a special value meant to indicate the absence of a value.***\n",
    "You’ll see more uses for None in Chapter 8."
   ]
  },
  {
   "cell_type": "code",
   "execution_count": 8,
   "metadata": {},
   "outputs": [
    {
     "name": "stdout",
     "output_type": "stream",
     "text": [
      "No point value assigned.\n"
     ]
    }
   ],
   "source": [
    "alien_0 = {'color': 'green', 'speed': 'slow'}\n",
    "\n",
    "# For dictionaries, specifically, you can use the get() method to set\n",
    "# a default value that will be returned if the requested key doesn’t exist.\n",
    "point_value = alien_0.get('points', 'No point value assigned.')\n",
    "\n",
    "# If the key 'points' exists in the dictionary, you’ll get the corresponding\n",
    "# value. If it doesn’t, you get the default value. In this case, points doesn’t\n",
    "# exist, and we get a clean message instead of an error:\n",
    "print(point_value)\n",
    "\n",
    "# If there’s a chance the key you’re asking for might not exist, consider\n",
    "# using the get() method instead of the square bracket notation."
   ]
  },
  {
   "cell_type": "markdown",
   "metadata": {},
   "source": [
    "# Try It Yourself\n",
    "6-1. Person: Use a dictionary to store information about a person you know.\n",
    "Store their first name, last name, age, and the city in which they live. You\n",
    "should have keys such as first_name, last_name, age, and city. Print each\n",
    "piece of information stored in your dictionary.\n",
    "\n",
    "6-2. Favorite Numbers: Use a dictionary to store people’s favorite numbers.\n",
    "Think of five names, and use them as keys in your dictionary. Think of a favorite\n",
    "number for each person, and store each as a value in your dictionary. Print\n",
    "each person’s name and their favorite number. For even more fun, poll a few\n",
    "friends and get some actual data for your program.\n",
    "\n",
    "6-3. Glossary: A Python dictionary can be used to model an actual dictionary.\n",
    "However, to avoid confusion, let’s call it a glossary.\n",
    "- Think of five programming words you’ve learned about in the previous\n",
    "chapters. Use these words as the keys in your glossary, and store their\n",
    "meanings as values.\n",
    "- Print each word and its meaning as neatly formatted output. You might\n",
    "print the word followed by a colon and then its meaning, or print the word\n",
    "on one line and then print its meaning indented on a second line. Use the\n",
    "newline character (\\n) to insert a blank line between each word-meaning\n",
    "pair in your output."
   ]
  },
  {
   "cell_type": "code",
   "execution_count": 9,
   "metadata": {},
   "outputs": [
    {
     "name": "stdout",
     "output_type": "stream",
     "text": [
      "{'first_name': 'johan', 'last_name': 'deljulio', 'age': '28', 'address': '123 East Main Street', 'city': 'big apple', 'state': 'new york', 'zip code': '54321'}\n"
     ]
    }
   ],
   "source": [
    "person_info = {\n",
    "    'first_name' : 'johan',\n",
    "    'last_name' : 'deljulio',\n",
    "    'age' : '28',\n",
    "    'address' : '123 East Main Street',\n",
    "    'city' : 'big apple',\n",
    "    'state' : 'new york',\n",
    "    'zip code' : '54321',\n",
    "}\n",
    "\n",
    "print(person_info)"
   ]
  },
  {
   "cell_type": "code",
   "execution_count": 10,
   "metadata": {},
   "outputs": [
    {
     "name": "stdout",
     "output_type": "stream",
     "text": [
      "{'john': 25, 'jacob': 28, 'jingle': 31, 'heimer': 34, 'schmidt': 37}\n"
     ]
    }
   ],
   "source": [
    "favorite_numbers = {\n",
    "    'john' : 25,\n",
    "    'jacob' : 28,\n",
    "    'jingle' : 31,\n",
    "    'heimer' : 34,\n",
    "    'schmidt' : 37,\n",
    "}\n",
    "\n",
    "print(favorite_numbers)"
   ]
  },
  {
   "cell_type": "code",
   "execution_count": 11,
   "metadata": {},
   "outputs": [
    {
     "name": "stdout",
     "output_type": "stream",
     "text": [
      "{'key': 'A key used to find a value in a dictionary.', 'value': 'A value assigned to a key in a dictionary', 'pair': 'A pairing of a key and a value in a dictionary.'}\n"
     ]
    }
   ],
   "source": [
    "glossary = {\n",
    "    'key' : 'A key used to find a value in a dictionary.',\n",
    "    'value' : 'A value assigned to a key in a dictionary',\n",
    "    'pair' : 'A pairing of a key and a value in a dictionary.',\n",
    "}\n",
    "\n",
    "print(glossary)"
   ]
  },
  {
   "cell_type": "code",
   "execution_count": 12,
   "metadata": {},
   "outputs": [
    {
     "name": "stdout",
     "output_type": "stream",
     "text": [
      "\n",
      "Key : key\n",
      "Value : A key used to find a value in a dictionary.\n",
      "\n",
      "Key : value\n",
      "Value : A value assigned to a key in a dictionary\n",
      "\n",
      "Key : pair\n",
      "Value : A pairing of a key and a value in a dictionary.\n"
     ]
    }
   ],
   "source": [
    "# ## My first attempt\n",
    "# for i in glossary:\n",
    "#     print(str(i) + ' : ' + i)\n",
    "\n",
    "for key, value in glossary.items():\n",
    "    print(f\"\\nKey : {key}\")\n",
    "    print(f\"Value : {value}\")"
   ]
  },
  {
   "cell_type": "markdown",
   "metadata": {},
   "source": [
    "# Looping Through a Dictionary\n",
    "\n",
    "A single Python dictionary can contain just a few key-value pairs or millions\n",
    "of pairs. Because a dictionary can contain large amounts of data, Python lets\n",
    "you loop through a dictionary. Dictionaries can be used to store information\n",
    "in a variety of ways; therefore, several different ways exist to loop through\n",
    "them. You can loop through all of a dictionary’s key-value pairs, through its\n",
    "keys, or through its values."
   ]
  },
  {
   "cell_type": "markdown",
   "metadata": {},
   "source": [
    "## Looping Through All Key-Value Pairs\n",
    "\n",
    "Before we explore the different approaches to looping, let’s consider a new\n",
    "dictionary designed to store information about a user on a website. The\n",
    "following dictionary would store one person’s username, first name, and\n",
    "\n",
    "last name:\n",
    "\n",
    "user_0 = {\n",
    "\n",
    "'username': 'efermi',\n",
    "\n",
    "'first': 'enrico',\n",
    "\n",
    "'last': 'fermi',\n",
    "\n",
    "}\n",
    "\n",
    "You can access any single piece of information about user_0 based\n",
    "on what you’ve already learned in this chapter. But what if you wanted to\n",
    "see everything stored in this user’s dictionary? To do so, you could loop\n",
    "through the dictionary using a for loop:\n",
    "\n",
    "user_0 = {\n",
    "\n",
    "'username': 'efermi',\n",
    "\n",
    "'first': 'enrico',\n",
    "\n",
    "'last': 'fermi',\n",
    "\n",
    "}\n",
    "\n",
    "u for key, value in user_0.items():\n",
    "\n",
    "v print(f\"\\nKey: {key}\")\n",
    "\n",
    "w print(f\"Value: {value}\")\n",
    "\n",
    "**As shown at u, to write a for loop for a dictionary, you create names\n",
    "for the two variables that will hold the key and value in each key-value\n",
    "pair. You can choose any names you want for these two variables. This\n",
    "code would work just as well if you had used abbreviations for the variable\n",
    "names, like this:**\n",
    "\n",
    "for k, v in user_0.items()\n",
    "\n",
    "The second half of the for statement at u includes the name of the\n",
    "dictionary followed by the method **`items()`**, which returns a list of key-value\n",
    "pairs. The for loop then assigns each of these pairs to the two variables provided.\n",
    "In the preceding example, we use the variables to print each key v,\n",
    "followed by the associated value w. The \"\\n\" in the first print() call ensures\n",
    "that a blank line is inserted before each key-value pair in the output:\n",
    "\n",
    "Key: username\n",
    "\n",
    "Value: efermi\n",
    "\n",
    "Key: first\n",
    "\n",
    "Value: enrico\n",
    "\n",
    "Key: last\n",
    "\n",
    "Value: fermi\n",
    "\n",
    "Looping through all key-value pairs works particularly well for dictionaries\n",
    "like the favorite_languages.py example on page 97, which stores the\n",
    "same kind of information for many different keys. If you loop through the\n",
    "favorite_languages dictionary, you get the name of each person in the dictionary\n",
    "and their favorite programming language. Because the keys always\n",
    "refer to a person’s name and the value is always a language, we’ll use the\n",
    "variables name and language in the loop instead of key and value. This will\n",
    "make it easier to follow what’s happening inside the loop:\n",
    "\n",
    "favorite_languages = {\n",
    "\n",
    "'jen': 'python',\n",
    "\n",
    "'sarah': 'c',\n",
    "\n",
    "'edward': 'ruby',\n",
    "\n",
    "'phil': 'python',\n",
    "\n",
    "}\n",
    "\n",
    "u for name, language in favorite_languages.items():\n",
    "\n",
    "v print(f\"{name.title()}'s favorite language is {language.title()}.\")\n",
    "\n",
    "The code at u tells Python to loop through each key-value pair in the\n",
    "dictionary. As it works through each pair the key is assigned to the variable\n",
    "name, and the value is assigned to the variable language. These descriptive\n",
    "names make it much easier to see what the print() call at v is doing.\n",
    "\n",
    "Now, in just a few lines of code, we can display all of the information\n",
    "from the poll:\n",
    "\n",
    "Jen's favorite language is Python.\n",
    "\n",
    "Sarah's favorite language is C.\n",
    "\n",
    "Edward's favorite language is Ruby.\n",
    "\n",
    "Phil's favorite language is Python."
   ]
  },
  {
   "cell_type": "code",
   "execution_count": 13,
   "metadata": {},
   "outputs": [
    {
     "name": "stdout",
     "output_type": "stream",
     "text": [
      "\n",
      "Key : username\n",
      "Value : efermi\n",
      "\n",
      "Key : first\n",
      "Value : enrico\n",
      "\n",
      "Key : last\n",
      "Value : fermi\n"
     ]
    }
   ],
   "source": [
    "user_0 = {\n",
    "'username': 'efermi',\n",
    "'first': 'enrico',\n",
    "'last': 'fermi',\n",
    "}\n",
    "\n",
    "for key, value in user_0.items():\n",
    "    print(f\"\\nKey : {key}\")\n",
    "    print(f\"Value : {value}\")"
   ]
  },
  {
   "cell_type": "code",
   "execution_count": 14,
   "metadata": {},
   "outputs": [
    {
     "name": "stdout",
     "output_type": "stream",
     "text": [
      "Jen's favorite language is Python.\n",
      "Sarah's favorite language is C.\n",
      "Edward's favorite language is Ruby.\n",
      "Phil's favorite language is Python.\n"
     ]
    }
   ],
   "source": [
    "favorite_languages = {\n",
    "'jen': 'python',\n",
    "'sarah': 'c',\n",
    "'edward': 'ruby',\n",
    "'phil': 'python',\n",
    "}\n",
    "\n",
    "for name, language in favorite_languages.items():\n",
    "    print(f\"{name.title()}'s favorite language is {language.title()}.\")\n",
    "    # print(f\"\\n{name.title()}'s favorite language is {language.title()}.\\n\")"
   ]
  },
  {
   "cell_type": "markdown",
   "metadata": {},
   "source": [
    "## Looping Through All the Keys in a Dictionary\n",
    "The **`keys()`** method is useful when you don’t need to work with all of the\n",
    "values\n",
    "in a dictionary. Let’s loop through the favorite_languages dictionary\n",
    "and print the names of everyone who took the poll:\n",
    "\n",
    "favorite_languages = {\n",
    "\n",
    "'jen': 'python',\n",
    "\n",
    "'sarah': 'c',\n",
    "\n",
    "'edward': 'ruby',\n",
    "\n",
    "'phil': 'python',\n",
    "\n",
    "}\n",
    "\n",
    "u for name in favorite_languages.keys():\n",
    "\n",
    "print(name.title())\n",
    "\n",
    "The line at u tells Python to pull all the keys from the dictionary\n",
    "favorite_\n",
    "languages and assign them one at a time to the variable name. The\n",
    "output shows the names of everyone who took the poll:\n",
    "\n",
    "Jen\n",
    "\n",
    "Sarah\n",
    "\n",
    "Edward\n",
    "\n",
    "Phil\n",
    "\n",
    "**Looping through the keys is actually the default behavior when looping\n",
    "through a dictionary**, so this code would have exactly the same output if you\n",
    "wrote . . .\n",
    "\n",
    "for name in favorite_languages:\n",
    "\n",
    "rather than . . .\n",
    "\n",
    "for name in favorite_languages.keys():\n",
    "\n",
    "You can choose to use the keys() method explicitly if it makes your code\n",
    "easier to read, or you can omit it if you wish.\n",
    "\n",
    "You can access the value associated with any key you care about inside\n",
    "the loop by using the current key. Let’s print a message to a couple of friends\n",
    "about the languages they chose. We’ll loop through the names in the dictionary\n",
    "as we did previously, but when the name matches one of our friends, we’ll\n",
    "display a message about their favorite language:\n",
    "\n",
    "favorite_languages = {\n",
    "\n",
    "--snip--\n",
    "\n",
    "}\n",
    "\n",
    "u friends = ['phil', 'sarah']\n",
    "\n",
    "for name in favorite_languages.keys():\n",
    "\n",
    "print(f\"Hi {name.title()}.\")\n",
    "\n",
    "v if name in friends:\n",
    "\n",
    "w language = favorite_languages[name].title()\n",
    "\n",
    "print(f\"\\t{name.title()}, I see you love {language}!\")\n",
    "\n",
    "At u we make a list of friends that we want to print a message to. Inside\n",
    "the loop, we print each person’s name. Then at v we check whether the\n",
    "name we’re working with is in the list friends. If it is, we determine the person’s\n",
    "favorite language using the name of the dictionary and the current\n",
    "value of name as the key w. We then print a special greeting, including a reference\n",
    "to their language of choice.\n",
    "\n",
    "Everyone’s name is printed, but our friends receive a special message:\n",
    "\n",
    "Hi Jen.\n",
    "\n",
    "Hi Sarah.\n",
    "\n",
    "Sarah, I see you love C!\n",
    "\n",
    "Hi Edward."
   ]
  },
  {
   "cell_type": "code",
   "execution_count": 15,
   "metadata": {},
   "outputs": [],
   "source": [
    "favorite_languages = {\n",
    "'jen': 'python',\n",
    "'sarah': 'c',\n",
    "'edward': 'ruby',\n",
    "'phil': 'python',\n",
    "}"
   ]
  },
  {
   "cell_type": "code",
   "execution_count": 16,
   "metadata": {},
   "outputs": [
    {
     "name": "stdout",
     "output_type": "stream",
     "text": [
      "Jen\n",
      "Sarah\n",
      "Edward\n",
      "Phil\n",
      "\n",
      "\n",
      "Python\n",
      "C\n",
      "Ruby\n",
      "Python\n"
     ]
    }
   ],
   "source": [
    "# You can choose to use the keys() method explicitly if it makes your code\n",
    "# easier to read, or you can omit it if you wish.\n",
    "for name in favorite_languages.keys():\n",
    "    print(name.title())\n",
    "\n",
    "# To print the value in the dictionary key-value pair, you must specify .value()\n",
    "print(\"\\n\")\n",
    "for language in favorite_languages.values():\n",
    "    print(language.title())"
   ]
  },
  {
   "cell_type": "code",
   "execution_count": 17,
   "metadata": {},
   "outputs": [
    {
     "name": "stdout",
     "output_type": "stream",
     "text": [
      "Hi Jen.\n",
      "Hi Sarah.\n",
      "\tSarah, I see you love C!\n",
      "Hi Edward.\n",
      "Hi Phil.\n",
      "\tPhil, I see you love Python!\n"
     ]
    }
   ],
   "source": [
    "favorite_languages = {\n",
    "'jen': 'python',\n",
    "'sarah': 'c',\n",
    "'edward': 'ruby',\n",
    "'phil': 'python',\n",
    "}\n",
    "\n",
    "friends = ['phil', 'sarah']\n",
    "for name in favorite_languages.keys():\n",
    "    print(f\"Hi {name.title()}.\")\n",
    "\n",
    "    if name in friends:\n",
    "        language = favorite_languages[name].title()\n",
    "        print(f\"\\t{name.title()}, I see you love {language}!\")"
   ]
  },
  {
   "cell_type": "code",
   "execution_count": 18,
   "metadata": {},
   "outputs": [
    {
     "name": "stdout",
     "output_type": "stream",
     "text": [
      "Erin, please take our poll!\n"
     ]
    }
   ],
   "source": [
    "# You can also use the keys() method to find out if a particular person\n",
    "# was polled. This time, let’s find out if Erin took the poll:\n",
    "favorite_languages = {\n",
    "'jen': 'python',\n",
    "'sarah': 'c',\n",
    "'edward': 'ruby',\n",
    "'phil': 'python',\n",
    "}\n",
    "\n",
    "if 'erin' not in favorite_languages.keys():\n",
    "    print(\"Erin, please take our poll!\")\n",
    "\n",
    "# The keys() method isn’t just for looping: it actually returns a list of all\n",
    "# the keys, and the line at u simply checks if 'erin' is in this list. Because\n",
    "# she’s not, a message is printed inviting her to take the poll:"
   ]
  },
  {
   "cell_type": "markdown",
   "metadata": {},
   "source": [
    "## Looping Through a Dictionary’s Keys in a Particular Order\n",
    "Starting in Python 3.7, looping through a dictionary returns the items in\n",
    "the same order they were inserted. Sometimes, though, you’ll want to loop\n",
    "through a dictionary in a different order.\n",
    "\n",
    "One way to do this is to sort the keys as they’re returned in the for loop.\n",
    "\n",
    "You can use the **`sorted()`** function to get a copy of the keys in order:\n",
    "\n",
    "favorite_languages = {\n",
    "\n",
    "'jen': 'python',\n",
    "\n",
    "'sarah': 'c',\n",
    "\n",
    "'edward': 'ruby',\n",
    "\n",
    "'phil': 'python',\n",
    "\n",
    "}\n",
    "\n",
    "for name in sorted(favorite_languages.keys()):\n",
    "\n",
    "print(f\"{name.title()}, thank you for taking the poll.\")\n",
    "\n",
    "This for statement is like other for statements except that we’ve\n",
    "wrapped the sorted() function around the dictionary.keys() method. This\n",
    "tells Python to list all keys in the dictionary and sort that list before looping\n",
    "through it. The output shows everyone who took the poll, with the names\n",
    "displayed in order:\n",
    "\n",
    "Edward, thank you for taking the poll.\n",
    "\n",
    "Jen, thank you for taking the poll.\n",
    "\n",
    "Phil, thank you for taking the poll.\n",
    "\n",
    "Sarah, thank you for taking the poll."
   ]
  },
  {
   "cell_type": "code",
   "execution_count": 19,
   "metadata": {},
   "outputs": [
    {
     "name": "stdout",
     "output_type": "stream",
     "text": [
      "Edward, thank you for taking the poll.\n",
      "Jen, thank you for taking the poll.\n",
      "Phil, thank you for taking the poll.\n",
      "Sarah, thank you for taking the poll.\n"
     ]
    }
   ],
   "source": [
    "favorite_languages = {\n",
    "'jen': 'python',\n",
    "'sarah': 'c',\n",
    "'edward': 'ruby',\n",
    "'phil': 'python',\n",
    "}\n",
    "\n",
    "for name in sorted(favorite_languages.keys()):\n",
    "    print(f\"{name.title()}, thank you for taking the poll.\")"
   ]
  },
  {
   "cell_type": "markdown",
   "metadata": {},
   "source": [
    "## Looping Through All Values in a Dictionary\n",
    "If you are primarily interested in the values that a dictionary contains,\n",
    "you can use the values() method to return a list of values without any keys.\n",
    "\n",
    "For example,\n",
    "say we simply want a list of all languages chosen in our programming\n",
    "language poll without the name of the person who chose each\n",
    "language:\n",
    "\n",
    "favorite_languages = {\n",
    "\n",
    "'jen': 'python',\n",
    "\n",
    "'sarah': 'c',\n",
    "\n",
    "'edward': 'ruby',\n",
    "\n",
    "'phil': 'python',\n",
    "\n",
    "}\n",
    "\n",
    "print(\"The following languages have been mentioned:\")\n",
    "\n",
    "for language in favorite_languages.values():\n",
    "\n",
    "print(language.title())\n",
    "\n",
    "The for statement here pulls each value from the dictionary and assigns\n",
    "it to the variable language. When these values are printed, we get a list of all\n",
    "chosen languages:\n",
    "\n",
    "The following languages have been mentioned:\n",
    "\n",
    "Python\n",
    "\n",
    "C\n",
    "\n",
    "Ruby\n",
    "\n",
    "Python\n",
    "\n",
    "This approach pulls all the values from the dictionary without checking\n",
    "for repeats. That might work fine with a small number of values, but in a\n",
    "poll with a large number of respondents, this would result in a very repetitive\n",
    "list. To see each language chosen without repetition, we can use a **`set`**.\n",
    "\n",
    "***`A set is a collection in which each item must be unique:`***\n",
    "\n",
    "favorite_languages = {\n",
    "\n",
    "--snip--\n",
    "\n",
    "}\n",
    "\n",
    "print(\"The following languages have been mentioned:\")\n",
    "\n",
    "u for language in set(favorite_languages.values()):\n",
    "\n",
    "print(language.title())\n",
    "\n",
    "When you wrap set() around a list that contains duplicate items, Python\n",
    "identifies the unique items in the list and builds a set from those items. At u\n",
    "we use set() to pull out the unique languages in favorite_languages.values().\n",
    "\n",
    "The result is a nonrepetitive list of languages that have been mentioned\n",
    "by people taking the poll:\n",
    "\n",
    "The following languages have been mentioned:\n",
    "\n",
    "Python\n",
    "\n",
    "C\n",
    "\n",
    "Ruby\n",
    "\n",
    "As you continue learning about Python, you’ll often find a built-in feature\n",
    "of the language that helps you do exactly what you want with your data.\n",
    "\n",
    "**NOTE** You can build a set directly using braces and separating the elements with commas:\n",
    "\n",
    "languages = {'python', 'ruby', 'python', 'c'}\n",
    "\n",
    "languages\n",
    "\n",
    "{'ruby', 'python', 'c'}\n",
    "\n",
    "It’s easy to mistake sets for dictionaries because they’re both wrapped in braces.\n",
    "When you see braces but no key-value pairs, you’re probably looking at a set. Unlike\n",
    "lists and dictionaries, sets do not retain items in any specific order."
   ]
  },
  {
   "cell_type": "code",
   "execution_count": 20,
   "metadata": {},
   "outputs": [
    {
     "name": "stdout",
     "output_type": "stream",
     "text": [
      "The following languages have been mentioned:\n",
      "Python\n",
      "C\n",
      "Ruby\n",
      "Python\n"
     ]
    }
   ],
   "source": [
    "favorite_languages = {\n",
    "    'jen': 'python',\n",
    "    'sarah': 'c',\n",
    "    'edward': 'ruby',\n",
    "    'phil': 'python',\n",
    "}\n",
    "\n",
    "print(\"The following languages have been mentioned:\")\n",
    "for language in favorite_languages.values():\n",
    "    print(language.title())"
   ]
  },
  {
   "cell_type": "code",
   "execution_count": 21,
   "metadata": {},
   "outputs": [
    {
     "name": "stdout",
     "output_type": "stream",
     "text": [
      "The following languages have been mentioned:\n",
      "C\n",
      "Python\n",
      "Ruby\n"
     ]
    }
   ],
   "source": [
    "favorite_languages = {\n",
    "    'jen': 'python',\n",
    "    'sarah': 'c',\n",
    "    'edward': 'ruby',\n",
    "    'phil': 'python',\n",
    "}\n",
    "\n",
    "print(\"The following languages have been mentioned:\")\n",
    "for language in set(favorite_languages.values()):\n",
    "    print(language.title())"
   ]
  },
  {
   "cell_type": "code",
   "execution_count": 22,
   "metadata": {},
   "outputs": [
    {
     "data": {
      "text/plain": [
       "{'c', 'python', 'ruby'}"
      ]
     },
     "execution_count": 22,
     "metadata": {},
     "output_type": "execute_result"
    }
   ],
   "source": [
    "# A set is a collection in which each item must be unique\n",
    "# You can build a set directly using braces and separating the elements with commas\n",
    "languages = {'python', 'ruby', 'python', 'c'}\n",
    "languages"
   ]
  },
  {
   "cell_type": "markdown",
   "metadata": {},
   "source": [
    "# Try It Yourself\n",
    "\n",
    "6-4. Glossary 2: Now that you know how to loop through a dictionary, clean\n",
    "up the code from Exercise 6-3 (page 99) by replacing your series of print()\n",
    "calls with a loop that runs through the dictionary’s keys and values. When\n",
    "you’re sure that your loop works, add five more Python terms to your glossary.\n",
    "When you run your program again, these new words and meanings should\n",
    "automatically be included in the output.\n",
    "\n",
    "6-5. Rivers: Make a dictionary containing three major rivers and the country\n",
    "each river runs through. One key-value pair might be 'nile': 'egypt'.\n",
    "- Use a loop to print a sentence about each river, such as The Nile runs\n",
    "through Egypt.\n",
    "- Use a loop to print the name of each river included in the dictionary.\n",
    "- Use a loop to print the name of each country included in the dictionary.\n",
    "\n",
    "6-6. Polling: Use the code in favorite_languages.py (page 97).\n",
    "- Make a list of people who should take the favorite languages poll. Include\n",
    "some names that are already in the dictionary and some that are not.\n",
    "- Loop through the list of people who should take the poll. If they have\n",
    "already taken the poll, print a message thanking them for responding.\n",
    "If they have not yet taken the poll, print a message inviting them to take\n",
    "the poll."
   ]
  },
  {
   "cell_type": "code",
   "execution_count": 23,
   "metadata": {},
   "outputs": [
    {
     "name": "stdout",
     "output_type": "stream",
     "text": [
      "Key : A key used to find a value in a dictionary.\n",
      "Value : A value assigned to a key in a dictionary\n",
      "Pair : A pairing of a key and a value in a dictionary.\n"
     ]
    }
   ],
   "source": [
    "glossary = {\n",
    "    'key' : 'A key used to find a value in a dictionary.',\n",
    "    'value' : 'A value assigned to a key in a dictionary',\n",
    "    'pair' : 'A pairing of a key and a value in a dictionary.',\n",
    "}\n",
    "\n",
    "# for keys, values\n",
    "\n",
    "for key, value in glossary.items():\n",
    "    print(f\"{key.title()} : {value.capitalize()}\")"
   ]
  },
  {
   "cell_type": "markdown",
   "metadata": {},
   "source": [
    "# Nesting\n",
    "Sometimes you’ll want to store multiple dictionaries in a list, or a list of\n",
    "items as a value in a dictionary. This is called nesting. You can nest dictionaries\n",
    "inside a list, a list of items inside a dictionary, or even a dictionary inside\n",
    "another dictionary. Nesting is a powerful feature, as the following examples\n",
    "will demonstrate."
   ]
  },
  {
   "cell_type": "markdown",
   "metadata": {},
   "source": [
    "## A List of Dictionaries\n",
    "\n",
    "The alien_0 dictionary contains a variety of information about one alien,\n",
    "but it has no room to store information about a second alien, much less a\n",
    "screen full of aliens. How can you manage a fleet of aliens? One way is to\n",
    "make a list of aliens in which each alien is a dictionary of information about\n",
    "that alien.\n",
    "\n",
    "We first create three dictionaries, each representing a different alien.\n",
    "At u we store each of these dictionaries in a list called aliens. Finally, we\n",
    "loop through the list and print out each alien:"
   ]
  },
  {
   "cell_type": "code",
   "execution_count": 24,
   "metadata": {},
   "outputs": [
    {
     "name": "stdout",
     "output_type": "stream",
     "text": [
      "{'color': 'green', 'points': 5}\n",
      "{'color': 'yellow', 'points': 10}\n",
      "{'color': 'red', 'points': 15}\n"
     ]
    }
   ],
   "source": [
    "alien_0 = {'color': 'green', 'points': 5}\n",
    "alien_1 = {'color': 'yellow', 'points': 10}\n",
    "alien_2 = {'color': 'red', 'points': 15}\n",
    "\n",
    "aliens = [alien_0, alien_1, alien_2]\n",
    "\n",
    "for alien in aliens:\n",
    "    print(alien)"
   ]
  },
  {
   "cell_type": "markdown",
   "metadata": {},
   "source": [
    "A more realistic example would involve more than three aliens with\n",
    "code that automatically generates each alien. In the following example we\n",
    "use **`range()`** to create a fleet of 30 aliens:\n",
    "\n",
    "This example begins with an empty list to hold all of the aliens that\n",
    "will be created. At u range() returns a series of numbers, which just tells\n",
    "Python how many times we want the loop to repeat. Each time the loop\n",
    "runs we create a new alien v and then append each new alien to the list\n",
    "aliens w. At x we use a slice to print the first five aliens, and then at y we\n",
    "print the length of the list to prove we’ve actually generated the full fleet of\n",
    "30 aliens:"
   ]
  },
  {
   "cell_type": "code",
   "execution_count": 25,
   "metadata": {},
   "outputs": [
    {
     "name": "stdout",
     "output_type": "stream",
     "text": [
      "{'color': 'green', 'points': 5, 'speed': 'slow'}\n",
      "{'color': 'green', 'points': 5, 'speed': 'slow'}\n",
      "{'color': 'green', 'points': 5, 'speed': 'slow'}\n",
      "{'color': 'green', 'points': 5, 'speed': 'slow'}\n",
      "{'color': 'green', 'points': 5, 'speed': 'slow'}\n",
      "...\n",
      "Total number of aliens: 30\n"
     ]
    }
   ],
   "source": [
    "# Make an empty list for storing aliens\n",
    "aliens = []\n",
    "\n",
    "# Make 30 green aliens\n",
    "for alien_number in range(30):\n",
    "    new_alien = {'color' : 'green', 'points' : 5, 'speed' : 'slow'}\n",
    "    aliens.append(new_alien)\n",
    "\n",
    "# Show first 5 aliens\n",
    "for alien in aliens[:5]:\n",
    "    print(alien)\n",
    "print(\"...\")\n",
    "\n",
    "# Show how many aliens have been created\n",
    "print(f\"Total number of aliens: {len(aliens)}\")"
   ]
  },
  {
   "cell_type": "markdown",
   "metadata": {},
   "source": [
    "These aliens all have the same characteristics, but Python considers\n",
    "each one a separate object, which allows us to modify each alien\n",
    "individually.\n",
    "\n",
    "How might you work with a group of aliens like this? Imagine that one\n",
    "aspect of a game has some aliens changing color and moving faster as the\n",
    "game progresses. When it’s time to change colors, we can use a for loop and\n",
    "an if statement to change the color of aliens. For example, to change the\n",
    "first three aliens to yellow, medium-speed aliens worth 10 points each, we\n",
    "could do this:\n",
    "\n",
    "Because we want to modify the first three aliens, we loop through a\n",
    "slice that includes only the first three aliens. All of the aliens are green now\n",
    "but that won’t always be the case, so we write an if statement to make sure\n",
    "we’re only modifying green aliens. If the alien is green, we change the color\n",
    "to 'yellow', the speed to 'medium', and the point value to 10, as shown in the\n",
    "following output:"
   ]
  },
  {
   "cell_type": "code",
   "execution_count": 26,
   "metadata": {},
   "outputs": [
    {
     "name": "stdout",
     "output_type": "stream",
     "text": [
      "{'color': 'yellow', 'points': 10, 'speed': 'medium'}\n",
      "{'color': 'yellow', 'points': 10, 'speed': 'medium'}\n",
      "{'color': 'yellow', 'points': 10, 'speed': 'medium'}\n",
      "{'color': 'green', 'points': 5, 'speed': 'slow'}\n",
      "{'color': 'green', 'points': 5, 'speed': 'slow'}\n",
      "...\n"
     ]
    }
   ],
   "source": [
    "# Make an empty list for storing aliens.\n",
    "aliens = []\n",
    "\n",
    "# Make 30 green aliens.\n",
    "for alien_number in range (30):\n",
    "    new_alien = {'color' : 'green', 'points' : 5, 'speed' : 'slow'}\n",
    "    aliens.append(new_alien)\n",
    "\n",
    "for alien in aliens[:3]:\n",
    "    if alien['color'] == 'green':\n",
    "        alien['color'] = 'yellow'\n",
    "        alien['speed'] = 'medium'\n",
    "        alien['points'] = 10\n",
    "\n",
    "# Show the first 5 aliens\n",
    "for alien in aliens[:5]:\n",
    "    print(alien)\n",
    "print(\"...\")"
   ]
  },
  {
   "cell_type": "markdown",
   "metadata": {},
   "source": [
    "You could expand this loop by adding an elif block that turns yellow\n",
    "aliens into red, fast-moving ones worth 15 points each. Without showing the\n",
    "entire program again, that loop would look like this:"
   ]
  },
  {
   "cell_type": "code",
   "execution_count": 27,
   "metadata": {},
   "outputs": [
    {
     "name": "stdout",
     "output_type": "stream",
     "text": [
      "{'color': 'yellow', 'points': 10, 'speed': 'medium'}\n",
      "{'color': 'yellow', 'points': 10, 'speed': 'medium'}\n",
      "{'color': 'yellow', 'points': 10, 'speed': 'medium'}\n",
      "{'color': 'green', 'points': 5, 'speed': 'slow'}\n",
      "{'color': 'green', 'points': 5, 'speed': 'slow'}\n",
      "...\n"
     ]
    }
   ],
   "source": [
    "# Make an empty list for storing aliens.\n",
    "aliens = []\n",
    "\n",
    "# Make 30 green aliens.\n",
    "for alien_number in range (30):\n",
    "    new_alien = {'color' : 'green', 'points' : 5, 'speed' : 'slow'}\n",
    "    aliens.append(new_alien)\n",
    "\n",
    "for alien in aliens[0:3]:\n",
    "    if alien['color'] == 'green':\n",
    "        alien['color'] = 'yellow'\n",
    "        alien['speed'] = 'medium'\n",
    "        alien['points'] = 10\n",
    "    elif alien['color'] == 'yellow':\n",
    "        alien['color'] = 'red'\n",
    "        alien['speed'] = 'fast'\n",
    "        alitn['points'] = 15\n",
    "\n",
    "# Show the first 5 aliens\n",
    "for alien in aliens[:5]:\n",
    "    print(alien)\n",
    "print(\"...\")"
   ]
  },
  {
   "cell_type": "markdown",
   "metadata": {},
   "source": [
    "It’s common to store a number of dictionaries in a list when each dictionary\n",
    "contains many kinds of information about one object. For example,\n",
    "you might create a dictionary for each user on a website, as we did in user.py\n",
    "on page 100, and store the individual dictionaries in a list called users. All\n",
    "of the dictionaries in the list should have an identical structure so you can\n",
    "loop through the list and work with each dictionary object in the same way."
   ]
  },
  {
   "cell_type": "markdown",
   "metadata": {},
   "source": [
    "## A List in a Dictionary\n",
    "Rather than putting a dictionary inside a list, it’s sometimes useful to put\n",
    "a list inside a dictionary. For example, consider how you might describe a\n",
    "pizza that someone is ordering. If you were to use only a list, all you could\n",
    "really store is a list of the pizza’s toppings. With a dictionary, a list of toppings\n",
    "can be just one aspect of the pizza you’re describing.\n",
    "\n",
    "In the following example, two kinds of information are stored for each\n",
    "pizza: a type of crust and a list of toppings. The list of toppings is a value\n",
    "associated with the key 'toppings'. To use the items in the list, we give the\n",
    "name of the dictionary and the key 'toppings', as we would any value in the\n",
    "dictionary. Instead of returning a single value, we get a list of toppings:\n",
    "\n",
    "We begin at u with a dictionary that holds information about a\n",
    "pizza that has been ordered. One key in the dictionary is 'crust', and\n",
    "the associated value is the string 'thick'. The next key, 'toppings', has a\n",
    "list as its value that stores all requested toppings. At v we summarize the\n",
    "order before building the pizza. ***`When you need to break up a long line\n",
    "in a print() call, choose an appropriate point at which to break the line\n",
    "being printed, and end the line with a quotation mark. Indent the next\n",
    "line, add an opening quotation mark, and continue the string. Python\n",
    "will automatically combine all of the strings it finds inside the parentheses.`***\n",
    "To print the toppings, we write a for loop w. To access the list of\n",
    "toppings, we use the key 'toppings', and Python grabs the list of toppings\n",
    "from the dictionary.\n",
    "\n",
    "The following output summarizes the pizza that we plan to build:"
   ]
  },
  {
   "cell_type": "code",
   "execution_count": 28,
   "metadata": {},
   "outputs": [
    {
     "name": "stdout",
     "output_type": "stream",
     "text": [
      "You ordered a thick-crust pizza with the following toppings:\n",
      "\tmushrooms\n",
      "\textra cheese\n"
     ]
    }
   ],
   "source": [
    "# Store information about a pizza being ordered.\n",
    "pizza = {\n",
    "    'crust' : 'thick',\n",
    "    'toppings' : ['mushrooms', 'extra cheese'],\n",
    "}\n",
    "\n",
    "# Summarize the order\n",
    "print(f\"You ordered a {pizza['crust']}-crust pizza \"\n",
    "    \"with the following toppings:\")\n",
    "\n",
    "for topping in pizza['toppings']:\n",
    "    print(f\"\\t{topping}\")"
   ]
  },
  {
   "cell_type": "markdown",
   "metadata": {},
   "source": [
    "You can nest a list inside a dictionary any time you want more than\n",
    "one value to be associated with a single key in a dictionary. In the earlier\n",
    "example of favorite programming languages, if we were to store each\n",
    "person’s responses in a list, people could choose more than one favorite\n",
    "language. When we loop through the dictionary, the value associated with\n",
    "each person would be a list of languages rather than a single language.\n",
    "Inside the dictionary’s for loop, we use another for loop to run through\n",
    "the list of languages associated with each person:\n",
    "\n",
    "As you can see at u the value associated with each name is now a\n",
    "list. Notice that some people have one favorite language and others have\n",
    "multiple favorites. When we loop through the dictionary at v, we use the\n",
    "variable name languages to hold each value from the dictionary, because we\n",
    "know that each value will be a list. Inside the main dictionary loop, we use\n",
    "another for loop w to run through each person’s list of favorite languages.\n",
    "Now each person can list as many favorite languages as they like:"
   ]
  },
  {
   "cell_type": "code",
   "execution_count": 29,
   "metadata": {},
   "outputs": [
    {
     "name": "stdout",
     "output_type": "stream",
     "text": [
      "\n",
      "Jen's favorite languages are:\n",
      "\tPython\n",
      "\tRuby\n",
      "\n",
      "Sarah's favorite languages are:\n",
      "\tC\n",
      "\n",
      "Edward's favorite languages are:\n",
      "\tRuby\n",
      "\tGo\n",
      "\n",
      "Phil's favorite languages are:\n",
      "\tPython\n",
      "\tHaskell\n"
     ]
    }
   ],
   "source": [
    "favorite_languages = {\n",
    "    'jen': ['python', 'ruby'],\n",
    "    'sarah': ['c'],\n",
    "    'edward': ['ruby', 'go'],\n",
    "    'phil': ['python', 'haskell'],\n",
    "}\n",
    "\n",
    "for name, languages in favorite_languages.items():\n",
    "    print(f\"\\n{name.title()}'s favorite languages are:\")\n",
    "    for language in languages:\n",
    "        print(f\"\\t{language.title()}\")"
   ]
  },
  {
   "cell_type": "markdown",
   "metadata": {},
   "source": [
    "To refine this program even further, you could include an if statement\n",
    "at the beginning of the dictionary’s for loop to see whether each\n",
    "person has more than one favorite language by examining the value of\n",
    "len(languages). If a person has more than one favorite, the output would\n",
    "stay the same. If the person has only one favorite language, you could\n",
    "change the wording to reflect that. For example, you could say Sarah's\n",
    "favorite language is C.\n",
    "\n",
    "**NOTE** You should not nest lists and dictionaries too deeply. If you’re nesting items much\n",
    "deeper than what you see in the preceding examples or you’re working with someone\n",
    "else’s code with significant levels of nesting, most likely a simpler way to solve the\n",
    "problem exists."
   ]
  },
  {
   "cell_type": "markdown",
   "metadata": {},
   "source": [
    "## Dictionary in a Dictionary\n",
    "You can nest a dictionary inside another dictionary, but your code can get\n",
    "complicated quickly when you do. For example, if you have several users\n",
    "for a website, each with a unique username, you can use the usernames as\n",
    "the keys in a dictionary. You can then store information about each user by\n",
    "using a dictionary as the value associated with their username. In the following\n",
    "listing, we store three pieces of information about each user: their\n",
    "first name, last name, and location. We’ll access this information by looping\n",
    "through the usernames and the dictionary of information associated with\n",
    "each username:\n",
    "\n",
    "We first define a dictionary called users with two keys: one each for the\n",
    "usernames 'aeinstein' and 'mcurie'. The value associated with each key is a\n",
    "dictionary that includes each user’s first name, last name, and location. At u\n",
    "we loop through the users dictionary. Python assigns each key to the variable\n",
    "username, and the dictionary associated with each username is assigned to the\n",
    "variable user_info. Once inside the main dictionary loop, we print the username\n",
    "at v.\n",
    "\n",
    "At w we start accessing the inner dictionary. The variable user_info,\n",
    "which contains the dictionary of user information, has three keys: 'first',\n",
    "'last', and 'location'. We use each key to generate a neatly formatted full\n",
    "name and location for each person, and then print a summary of what we\n",
    "know about each user x:\n",
    "\n",
    "Notice that the structure of each user’s dictionary is identical. Although\n",
    "not required by Python, this structure makes nested dictionaries easier to\n",
    "work with. If each user’s dictionary had different keys, the code inside the\n",
    "for loop would be more complicated."
   ]
  },
  {
   "cell_type": "code",
   "execution_count": 30,
   "metadata": {},
   "outputs": [
    {
     "name": "stdout",
     "output_type": "stream",
     "text": [
      "\n",
      "Username: aeinstein\n",
      "\tFull name: Albert Einstein\n",
      "\tLocation: Princeton\n",
      "\n",
      "Username: mcurie\n",
      "\tFull name: Marie Curie\n",
      "\tLocation: Paris\n"
     ]
    }
   ],
   "source": [
    "users = {\n",
    "    'aeinstein' : {\n",
    "        'first' : 'albert',\n",
    "        'last' : 'einstein',\n",
    "        'location' : 'princeton',\n",
    "    },\n",
    "    'mcurie' : {\n",
    "        'first' : 'marie',\n",
    "        'last' : 'curie',\n",
    "        'location' : 'paris',\n",
    "    },\n",
    "}\n",
    "\n",
    "for username, user_info in users.items():\n",
    "    print(f\"\\nUsername: {username}\")\n",
    "    full_name = f\"{user_info['first']} {user_info['last']}\"\n",
    "    location = user_info['location']\n",
    "\n",
    "    print(f\"\\tFull name: {full_name.title()}\")\n",
    "    print(f\"\\tLocation: {location.title()}\")"
   ]
  },
  {
   "cell_type": "markdown",
   "metadata": {},
   "source": [
    "## Try It Yourself\n",
    "6-7. People: Start with the program you wrote for Exercise 6-1 (page 99).\n",
    "Make two new dictionaries representing different people, and store all three\n",
    "dictionaries in a list called people. Loop through your list of people. As you\n",
    "loop through the list, print everything you know about each person.\n",
    "\n",
    "6-8. Pets: Make several dictionaries, where each dictionary represents a different\n",
    "pet. In each dictionary, include the kind of animal and the owner’s name.\n",
    "Store these dictionaries in a list called pets. Next, loop through your list and as\n",
    "you do, print everything you know about each pet.\n",
    "\n",
    "6-9. Favorite Places: Make a dictionary called favorite_places. Think of three\n",
    "names to use as keys in the dictionary, and store one to three favorite places\n",
    "for each person. To make this exercise a bit more interesting, ask some friends\n",
    "to name a few of their favorite places. Loop through the dictionary, and print\n",
    "each person’s name and their favorite places.\n",
    "\n",
    "6-10. Favorite Numbers: Modify your program from Exercise 6-2 (page 99)\n",
    "so each person can have more than one favorite number. Then print each person’s\n",
    "name along with their favorite numbers.\n",
    "\n",
    "6-11. Cities: Make a dictionary called cities. Use the names of three cities as\n",
    "keys in your dictionary. Create a dictionary of information about each city and\n",
    "include the country that the city is in, its approximate population, and one fact\n",
    "about that city. The keys for each city’s dictionary should be something like\n",
    "country, population, and fact. Print the name of each city and all of the information\n",
    "you have stored about it.\n",
    "\n",
    "6-12. Extensions: We’re now working with examples that are complex enough\n",
    "that they can be extended in any number of ways. Use one of the example programs\n",
    "from this chapter, and extend it by adding new keys and values, changing\n",
    "the context of the program or improving the formatting of the output."
   ]
  },
  {
   "cell_type": "code",
   "execution_count": 31,
   "metadata": {},
   "outputs": [
    {
     "name": "stdout",
     "output_type": "stream",
     "text": [
      "\n",
      "Username: deljulio\n",
      "\tFirst_Name : Johan\n",
      "\tLast_Name : Deljulio\n",
      "\tAge : 28\n",
      "\tAddress : 123 East Main Street\n",
      "\tCity : Big Apple\n",
      "\tState : New York\n",
      "\tZip Code : 54321\n",
      "\n",
      "Username: lsmith\n",
      "\tFirst_Name : Lisa\n",
      "\tLast_Name : Smith\n",
      "\tAge : 24\n",
      "\tAddress : 567 Canary Boulevard Southwest\n",
      "\tCity : Chicago\n",
      "\tState : Illinois\n",
      "\tZip Code : 84726\n",
      "\n",
      "Username: bramirez\n",
      "\tFirst_Name : Benny\n",
      "\tLast_Name : Ramirez\n",
      "\tAge : 33\n",
      "\tAddress : 11809 45Th Street\n",
      "\tCity : Los Angeles\n",
      "\tState : California\n",
      "\tZip Code : 92374\n"
     ]
    }
   ],
   "source": [
    "people = {\n",
    "    'deljulio' : {\n",
    "        'first_name' : 'johan',\n",
    "        'last_name' : 'deljulio',\n",
    "        'age' : '28',\n",
    "        'address' : '123 East Main Street',\n",
    "        'city' : 'big apple',\n",
    "        'state' : 'new york',\n",
    "        'zip code' : '54321',\n",
    "    },\n",
    "    'lsmith' : {\n",
    "        'first_name' : 'lisa',\n",
    "        'last_name' : 'smith',\n",
    "        'age' : '24',\n",
    "        'address' : '567 Canary Boulevard Southwest',\n",
    "        'city' : 'chicago',\n",
    "        'state' : 'illinois',\n",
    "        'zip code' : '84726',\n",
    "    },\n",
    "    'bramirez' : {\n",
    "        'first_name' : 'benny',\n",
    "        'last_name' : 'ramirez',\n",
    "        'age' : '33',\n",
    "        'address' : '11809 45th Street',\n",
    "        'city' : 'los angeles',\n",
    "        'state' : 'california',\n",
    "        'zip code' : '92374',        \n",
    "    }\n",
    " \n",
    "}\n",
    "\n",
    "for person, details in people.items():\n",
    "    print(f\"\\nUsername: {person}\")\n",
    "    for category, data in details.items():\n",
    "        print(f\"\\t{category[:].title()} : {data[:].title()}\")\n",
    "\n",
    "\n",
    "# print(people)"
   ]
  },
  {
   "cell_type": "code",
   "execution_count": 44,
   "metadata": {},
   "outputs": [
    {
     "name": "stdout",
     "output_type": "stream",
     "text": [
      "[{'deljulio': {'first_name': 'johan', 'last_name': 'deljulio', 'age': '28', 'address': '123 East Main Street', 'city': 'big apple', 'state': 'new york', 'zip code': '54321'}, 'lsmith': {'first_name': 'lisa', 'last_name': 'smith', 'age': '24', 'address': '567 Canary Boulevard Southwest', 'city': 'chicago', 'state': 'illinois', 'zip code': '84726'}, 'bramirez': {'first_name': 'benny', 'last_name': 'ramirez', 'age': '33', 'address': '11809 45th Street', 'city': 'los angeles', 'state': 'california', 'zip code': '92374'}}]\n"
     ]
    }
   ],
   "source": [
    "person_1 = {\n",
    "    'deljulio' : {\n",
    "        'first_name' : 'johan',\n",
    "        'last_name' : 'deljulio',\n",
    "        'age' : '28',\n",
    "        'address' : '123 East Main Street',\n",
    "        'city' : 'big apple',\n",
    "        'state' : 'new york',\n",
    "        'zip code' : '54321',\n",
    "    },\n",
    "}\n",
    "\n",
    "person_2 = {\n",
    "    'lsmith' : {\n",
    "        'first_name' : 'lisa',\n",
    "        'last_name' : 'smith',\n",
    "        'age' : '24',\n",
    "        'address' : '567 Canary Boulevard Southwest',\n",
    "        'city' : 'chicago',\n",
    "        'state' : 'illinois',\n",
    "        'zip code' : '84726',\n",
    "    },\n",
    "}\n",
    "\n",
    "person_3 = {\n",
    "    'bramirez' : {\n",
    "        'first_name' : 'benny',\n",
    "        'last_name' : 'ramirez',\n",
    "        'age' : '33',\n",
    "        'address' : '11809 45th Street',\n",
    "        'city' : 'los angeles',\n",
    "        'state' : 'california',\n",
    "        'zip code' : '92374',        \n",
    "    },\n",
    "}\n",
    "\n",
    "# Make an empty list for storing people\n",
    "people_list = []\n",
    "\n",
    "for person in range(1):\n",
    "    persons = {\n",
    "        'deljulio' : {\n",
    "            'first_name' : 'johan',\n",
    "            'last_name' : 'deljulio',\n",
    "            'age' : '28',\n",
    "            'address' : '123 East Main Street',\n",
    "            'city' : 'big apple',\n",
    "            'state' : 'new york',\n",
    "            'zip code' : '54321',\n",
    "        },\n",
    "        'lsmith' : {\n",
    "            'first_name' : 'lisa',\n",
    "            'last_name' : 'smith',\n",
    "            'age' : '24',\n",
    "            'address' : '567 Canary Boulevard Southwest',\n",
    "            'city' : 'chicago',\n",
    "            'state' : 'illinois',\n",
    "            'zip code' : '84726',\n",
    "        },\n",
    "        'bramirez' : {\n",
    "            'first_name' : 'benny',\n",
    "            'last_name' : 'ramirez',\n",
    "            'age' : '33',\n",
    "            'address' : '11809 45th Street',\n",
    "            'city' : 'los angeles',\n",
    "            'state' : 'california',\n",
    "            'zip code' : '92374',        \n",
    "        },\n",
    "    }\n",
    "\n",
    "    people_list.append(persons)\n",
    "print(people_list)"
   ]
  },
  {
   "cell_type": "markdown",
   "metadata": {},
   "source": [
    "# Summary\n",
    "In this chapter you learned how to define a dictionary and how to work\n",
    "with the information stored in a dictionary. You learned how to access and\n",
    "modify individual elements in a dictionary, and how to loop through all of\n",
    "the information in a dictionary. You learned to loop through a dictionary’s\n",
    "key-value pairs, its keys, and its values. You also learned how to nest multiple\n",
    "dictionaries in a list, nest lists in a dictionary, and nest a dictionary inside\n",
    "a dictionary.\n",
    "\n",
    "In the next chapter you’ll learn about while loops and how to accept\n",
    "input from people who are using your programs. This will be an exciting\n",
    "chapter, because you’ll learn to make all of your programs interactive:\n",
    "they’ll be able to respond to user input."
   ]
  },
  {
   "cell_type": "code",
   "execution_count": null,
   "metadata": {},
   "outputs": [],
   "source": []
  }
 ],
 "metadata": {
  "interpreter": {
   "hash": "382911a3b25c08601c92d532ecf77b76535fbec3aff100266cbea416b7e83b72"
  },
  "kernelspec": {
   "display_name": "Python 3.10.0 64-bit",
   "name": "python3"
  },
  "language_info": {
   "codemirror_mode": {
    "name": "ipython",
    "version": 3
   },
   "file_extension": ".py",
   "mimetype": "text/x-python",
   "name": "python",
   "nbconvert_exporter": "python",
   "pygments_lexer": "ipython3",
   "version": "3.8.12"
  },
  "orig_nbformat": 4
 },
 "nbformat": 4,
 "nbformat_minor": 2
}
