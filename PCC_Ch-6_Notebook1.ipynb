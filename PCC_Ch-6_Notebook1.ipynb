{
 "cells": [
  {
   "cell_type": "markdown",
   "metadata": {},
   "source": [
    "# Python Crach Course - Chapter 6: Dictionaries"
   ]
  },
  {
   "cell_type": "markdown",
   "metadata": {},
   "source": [
    "In this chapter you’ll learn how to use\n",
    "Python’s dictionaries, which allow you to\n",
    "connect pieces of related information. You’ll\n",
    "learn how to access the information once it’s\n",
    "in a dictionary and how to modify that information.\n",
    "Because dictionaries can store an almost limitless\n",
    "amount of information, I’ll show you how to loop\n",
    "through the data in a dictionary. Additionally, you’ll learn to nest dictionaries\n",
    "inside lists, lists inside dictionaries, and even dictionaries inside other\n",
    "dictionaries.\n",
    "\n",
    "Understanding dictionaries allows you to model a variety of real-world\n",
    "objects more accurately. You’ll be able to create a dictionary representing\n",
    "a person and then store as much information as you want about that\n",
    "person. You can store their name, age, location, profession, and any other\n",
    "aspect of a person you can describe. You’ll be able to store any two kinds of\n",
    "information that can be matched up, such as a list of words and their meanings,\n",
    "a list of people’s names and their favorite numbers, a list of mountains\n",
    "and their elevations, and so forth."
   ]
  },
  {
   "cell_type": "markdown",
   "metadata": {},
   "source": [
    "# A Simple Dictionary\n",
    "\n",
    "Consider a game featuring aliens that can have different colors and point\n",
    "values. This simple dictionary stores information about a particular alien:\n",
    "\n",
    "The dictionary alien_0 stores the alien’s color and point value. The last\n",
    "two lines access and display that information, as shown here:\n",
    "\n",
    "As with most new programming concepts, using dictionaries takes\n",
    "practice. Once you’ve worked with dictionaries for a bit you’ll soon see how\n",
    "effectively they can model real-world situations."
   ]
  },
  {
   "cell_type": "code",
   "execution_count": 1,
   "metadata": {},
   "outputs": [
    {
     "name": "stdout",
     "output_type": "stream",
     "text": [
      "green\n",
      "5\n"
     ]
    }
   ],
   "source": [
    "alien_0 = {'color' : 'green', 'points' : 5}\n",
    "\n",
    "print(alien_0['color'])\n",
    "print(alien_0['points'])"
   ]
  },
  {
   "cell_type": "markdown",
   "metadata": {},
   "source": [
    "# Working with Dictionaries\n",
    "A **`dictionary`** in Python is a collection of **`key-value pairs`**. **Each key is connected to a value, and you can use a key to access the value associated with that key.**\n",
    "A key’s value can be a number, a string, a list, or even another dictionary.\n",
    "In fact, ***you can use any object that you can create in Python as a value in a\n",
    "dictionary***.\n",
    "\n",
    "In Python, a dictionary is wrapped in braces, **`{}`**, with a series of keyvalue\n",
    "pairs inside the braces, as shown in the earlier example:\n",
    "\n",
    "alien_0 = {'color': 'green', 'points': 5}\n",
    "\n",
    "**`A key-value pair is a set of values associated with each other.`** When you\n",
    "provide a key, Python returns the value associated with that key. ***Every key is connected to its value by a colon, and individual key-value pairs are separated by commas***. You can store as many key-value pairs as you want in a\n",
    "dictionary.\n",
    "\n",
    "The simplest dictionary has exactly one key-value pair, as shown in this\n",
    "modified version of the alien_0 dictionary:\n",
    "\n",
    "alien_0 = {'color': 'green'}\n",
    "\n",
    "This dictionary stores one piece of information about alien_0, namely\n",
    "the alien’s color. The string 'color' is a key in this dictionary, and its associated\n",
    "value is 'green'."
   ]
  },
  {
   "cell_type": "markdown",
   "metadata": {},
   "source": [
    "# Accessing Values in a Dictionary\n",
    "To get the value associated with a key, give the name of the dictionary and\n",
    "then place the key inside a set of square brackets, as shown here:\n",
    "\n",
    "alien_0 = {'color': 'green'}\n",
    "\n",
    "print(alien_0['color'])\n",
    "\n",
    "This returns the value associated with the key 'color' from the dictionary\n",
    "alien_0:\n",
    "\n",
    "green\n",
    "\n",
    "**You can have an unlimited number of key-value pairs in a dictionary.**\n",
    "For example, here’s the original alien_0 dictionary with two key-value pairs:\n",
    "\n",
    "alien_0 = {'color': 'green', 'points': 5}\n",
    "\n",
    "Now you can access either the color or the point value of alien_0. If a\n",
    "player shoots down this alien, you can look up how many points they should\n",
    "earn using code like this:\n",
    "\n",
    "alien_0 = {'color': 'green', 'points': 5}\n",
    "\n",
    "u new_points = alien_0['points']\n",
    "\n",
    "v print(f\"You just earned {new_points} points!\")\n",
    "\n",
    "Once the dictionary has been defined, the code at u pulls the value\n",
    "associated with the key 'points' from the dictionary. This value is then\n",
    "assigned to the variable new_points. The line at v prints a statement about\n",
    "how many points the player just earned:\n",
    "\n",
    "You just earned 5 points!\n",
    "\n",
    "If you run this code every time an alien is shot down, the alien’s point\n",
    "value will be retrieved."
   ]
  },
  {
   "cell_type": "markdown",
   "metadata": {},
   "source": [
    "# Adding New Key-Value Pairs\n",
    "Dictionaries are dynamic structures, and you can add new key-value pairs\n",
    "to a dictionary at any time. For example, to add a new key-value pair, you\n",
    "would give the name of the dictionary followed by the new key in square\n",
    "brackets along with the new value.\n",
    "\n",
    "Let’s add two new pieces of information to the alien_0 dictionary:\n",
    "the alien’s x- and y-coordinates, which will help us display the alien in a\n",
    "particular position on the screen. Let’s place the alien on the left edge of\n",
    "the screen, 25 pixels down from the top. Because screen coordinates usually\n",
    "start at the upper-left corner of the screen, we’ll place the alien on the left\n",
    "edge of the screen by setting the x-coordinate to 0 and 25 pixels from the\n",
    "top by setting its y-coordinate to positive 25, as shown here:\n",
    "\n",
    "alien_0 = {'color': 'green', 'points': 5}\n",
    "\n",
    "print(alien_0)\n",
    "\n",
    "u alien_0['x_position'] = 0\n",
    "\n",
    "v alien_0['y_position'] = 25\n",
    "\n",
    "print(alien_0)\n",
    "\n",
    "We start by defining the same dictionary that we’ve been working with.\n",
    "We then print this dictionary, displaying a snapshot of its information. At u\n",
    "we add a new key-value pair to the dictionary: key 'x_position' and value 0.\n",
    "We do the same for key 'y_position' at v. When we print the modified dictionary,\n",
    "we see the two additional key-value pairs:\n",
    "\n",
    "{'color': 'green', 'points': 5}\n",
    "\n",
    "{'color': 'green', 'points': 5, 'x_position': 0, 'y_position': 25}\n",
    "\n",
    "The final version of the dictionary contains four key-value pairs. The\n",
    "original two specify color and point value, and two more specify the alien’s\n",
    "position.\n",
    "\n",
    "**NOTE** As of Python 3.7, dictionaries retain the order in which they were defined. When you\n",
    "print a dictionary or loop through its elements, you will see the elements in the same\n",
    "order in which they were added to the dictionary."
   ]
  },
  {
   "cell_type": "code",
   "execution_count": 2,
   "metadata": {},
   "outputs": [
    {
     "name": "stdout",
     "output_type": "stream",
     "text": [
      "{'color': 'green', 'points': 5}\n",
      "{'color': 'green', 'points': 5, 'x_position': 0, 'y_position': 25}\n"
     ]
    }
   ],
   "source": [
    "alien_0 = {'color': 'green', 'points': 5}\n",
    "print(alien_0)\n",
    "\n",
    "alien_0['x_position'] = 0\n",
    "alien_0['y_position'] = 25\n",
    "print(alien_0)"
   ]
  },
  {
   "cell_type": "markdown",
   "metadata": {},
   "source": [
    "# Starting with an Empty Dictionary\n",
    "It’s sometimes convenient, or even necessary, to start with an empty dictionary\n",
    "and then add each new item to it. To start filling an empty dictionary,\n",
    "define a dictionary with an empty set of braces and then add each key-value\n",
    "pair on its own line. For example, here’s how to build the alien_0 dictionary\n",
    "using this approach:\n",
    "\n",
    "alien_0 = {}\n",
    "\n",
    "alien_0['color'] = 'green'\n",
    "\n",
    "alien_0['points'] = 5\n",
    "\n",
    "print(alien_0)\n",
    "\n",
    "Here we define an empty alien_0 dictionary, and then add color and\n",
    "point values to it. The result is the dictionary we’ve been using in previous\n",
    "examples:\n",
    "\n",
    "{'color': 'green', 'points': 5}\n",
    "\n",
    "**Typically, you’ll use empty dictionaries when storing user-supplied data in a dictionary or when you write code that generates a large number of key-value pairs automatically.**"
   ]
  },
  {
   "cell_type": "code",
   "execution_count": 3,
   "metadata": {},
   "outputs": [
    {
     "name": "stdout",
     "output_type": "stream",
     "text": [
      "{'color': 'green', 'points': 5}\n"
     ]
    }
   ],
   "source": [
    "alien_0 = {}\n",
    "\n",
    "alien_0['color'] = 'green'\n",
    "alien_0['points'] = 5\n",
    "\n",
    "print(alien_0)"
   ]
  },
  {
   "cell_type": "markdown",
   "metadata": {},
   "source": [
    "# Modifying Values in a Dictionary\n",
    "To modify a value in a dictionary, give the name of the dictionary with the\n",
    "key in square brackets and then the new value you want associated with\n",
    "that key. For example, consider an alien that changes from green to yellow\n",
    "as a game progresses:\n",
    "\n",
    "alien_0 = {'color': 'green'}\n",
    "\n",
    "print(f\"The alien is {alien_0['color']}.\")\n",
    "\n",
    "alien_0['color'] = 'yellow'\n",
    "\n",
    "print(f\"The alien is now {alien_0['color']}.\")\n",
    "\n",
    "We first define a dictionary for alien_0 that contains only the alien’s\n",
    "color; then we change the value associated with the key 'color' to 'yellow'.\n",
    "\n",
    "The output shows that the alien has indeed changed from green to yellow:\n",
    "\n",
    "The alien is green.\n",
    "\n",
    "The alien is now yellow.\n",
    "\n",
    "For a more interesting example, let’s track the position of an alien that\n",
    "can move at different speeds. We’ll store a value representing the alien’s\n",
    "current speed and then use it to determine how far to the right the alien\n",
    "should move:\n",
    "\n",
    "alien_0 = {'x_position': 0, 'y_position': 25, 'speed': 'medium'}\n",
    "\n",
    "print(f\"Original position: {alien_0['x_position']}\")\n",
    "\n",
    "#Move the alien to the right.\n",
    "\n",
    "#Determine how far to move the alien based on its current speed.\n",
    "\n",
    "u if alien_0['speed'] == 'slow':\n",
    "\n",
    "x_increment = 1\n",
    "\n",
    "elif alien_0['speed'] == 'medium':\n",
    "\n",
    "x_increment = 2\n",
    "\n",
    "else:\n",
    "\n",
    "#This must be a fast alien.\n",
    "\n",
    "x_increment = 3\n",
    "\n",
    "#The new position is the old position plus the increment.\n",
    "\n",
    "v alien_0['x_position'] = alien_0['x_position'] + x_increment\n",
    "\n",
    "print(f\"New position: {alien_0['x_position']}\")\n",
    "\n",
    "We start by defining an alien with an initial x position and y position,\n",
    "and a speed of 'medium'. We’ve omitted the color and point values for the\n",
    "sake of simplicity, but this example would work the same way if you included\n",
    "those key-value pairs as well. We also print the original value of x_position to\n",
    "see how far the alien moves to the right.\n",
    "\n",
    "At u, an if-elif-else chain determines how far the alien should move\n",
    "to the right and assigns this value to the variable x_increment. If the alien’s\n",
    "speed is 'slow', it moves one unit to the right; if the speed is 'medium', it\n",
    "moves two units to the right; and if it’s 'fast', it moves three units to the\n",
    "right. Once the increment has been calculated, it’s added to the value of\n",
    "x_position at v, and the result is stored in the dictionary’s x_position.\n",
    "\n",
    "Because this is a medium-speed alien, its position shifts two units to the\n",
    "right:\n",
    "\n",
    "Original x-position: 0\n",
    "\n",
    "New x-position: 2\n",
    "\n",
    "This technique is pretty cool: by changing one value in the alien’s dictionary,\n",
    "you can change the overall behavior of the alien. For example, to\n",
    "turn this medium-speed alien into a fast alien, you would add the line:\n",
    "\n",
    "alien_0['speed'] = 'fast'\n",
    "\n",
    "The if-elif-else block would then assign a larger value to x_increment\n",
    "the next time the code runs."
   ]
  },
  {
   "cell_type": "code",
   "execution_count": 4,
   "metadata": {},
   "outputs": [
    {
     "name": "stdout",
     "output_type": "stream",
     "text": [
      "The alien is green.\n",
      "The alien is now yellow.\n"
     ]
    }
   ],
   "source": [
    "alien_0 = {'color' : 'green'}\n",
    "print(f\"The alien is {alien_0['color']}.\")\n",
    "\n",
    "alien_0['color'] = 'yellow'\n",
    "print(f\"The alien is now {alien_0['color']}.\")"
   ]
  },
  {
   "cell_type": "code",
   "execution_count": 5,
   "metadata": {},
   "outputs": [
    {
     "name": "stdout",
     "output_type": "stream",
     "text": [
      "Original position: 0\n",
      "New position: 2\n"
     ]
    }
   ],
   "source": [
    "alien_0 = {'x_position' : 0, 'y_position' : 25, 'speed' : 'medium'}\n",
    "print(f\"Original position: {alien_0['x_position']}\")\n",
    "\n",
    "# Move the alien to the right\n",
    "# Determine how far to move the alien based on its current speed\n",
    "if alien_0['speed'] == 'slow':\n",
    "    x_increment = 1\n",
    "elif alien_0['speed'] == 'medium':\n",
    "    x_increment = 2\n",
    "else:\n",
    "    # This must be a fast alien.\n",
    "    x_increment = 3\n",
    "\n",
    "# The new position is the old position plus the increment\n",
    "alien_0['x_position'] = alien_0['x_position'] + x_increment\n",
    "\n",
    "print(f\"New position: {alien_0['x_position']}\")"
   ]
  },
  {
   "cell_type": "markdown",
   "metadata": {},
   "source": [
    "# Removing Key-Value Pairs\n",
    "When you no longer need a piece of information that’s stored in a dictionary,\n",
    "you can use the del statement to completely remove a key-value pair.\n",
    "\n",
    "All del needs is the name of the dictionary and the key that you want to\n",
    "remove.\n",
    "\n",
    "For example, let’s remove the key 'points' from the alien_0 dictionary\n",
    "along with its value:\n",
    "\n",
    "alien_0 = {'color': 'green', 'points': 5}\n",
    "\n",
    "print(alien_0)\n",
    "\n",
    "u del alien_0['points']\n",
    "\n",
    "print(alien_0)\n",
    "\n",
    "The line at u tells Python to delete the key 'points' from the dictionary\n",
    "alien_0 and to remove the value associated with that key as well. The output\n",
    "shows that the key 'points' and its value of 5 are deleted from the dictionary,\n",
    "but the rest of the dictionary is unaffected:\n",
    "\n",
    "{'color': 'green', 'points': 5}\n",
    "\n",
    "{'color': 'green'}\n",
    "\n",
    "**NOTE** Be aware that the deleted key-value pair is removed permanently."
   ]
  },
  {
   "cell_type": "code",
   "execution_count": 6,
   "metadata": {},
   "outputs": [
    {
     "name": "stdout",
     "output_type": "stream",
     "text": [
      "{'color': 'green', 'points': 5}\n",
      "{'color': 'green'}\n"
     ]
    }
   ],
   "source": [
    "alien_0 = {'color' : 'green', 'points' : 5}\n",
    "print(alien_0)\n",
    "\n",
    "# del alien_0[:]\n",
    "del alien_0['points']\n",
    "print(alien_0)\n",
    "\n"
   ]
  },
  {
   "cell_type": "markdown",
   "metadata": {},
   "source": [
    "# A Dictionary of Similar Objects\n",
    "The previous example involved storing different kinds of information about\n",
    "one object, an alien in a game. You can also use a dictionary to store one\n",
    "kind of information about many objects. For example, say you want to poll a\n",
    "number of people and ask them what their favorite programming language\n",
    "is. A dictionary is useful for storing the results of a simple poll, like this:\n",
    "\n",
    "favorite_languages = {\n",
    "\n",
    "'jen': 'python',\n",
    "\n",
    "'sarah': 'c',\n",
    "\n",
    "'edward': 'ruby',\n",
    "\n",
    "'phil': 'python',\n",
    "\n",
    "}\n",
    "\n",
    "As you can see, we’ve broken a larger dictionary into several lines. Each\n",
    "key is the name of a person who responded to the poll, and each value is\n",
    "their language choice. When you know you’ll need more than one line to\n",
    "define a dictionary, press enter after the opening brace. Then indent the\n",
    "next line one level (four spaces), and write the first key-value pair, followed\n",
    "by a comma. From this point forward when you press enter, your text editor\n",
    "should automatically indent all subsequent key-value pairs to match the\n",
    "first key-value pair.\n",
    "\n",
    "Once you’ve finished defining the dictionary, add a closing brace on a\n",
    "new line after the last key-value pair and indent it one level so it aligns with\n",
    "the keys in the dictionary. ***It’s good practice to include a comma after the\n",
    "last key-value pair as well, so you’re ready to add a new key-value pair on the\n",
    "next line.***\n",
    "\n",
    "**NOTE** Most editors have some functionality that helps you format extended lists and dictionaries in a similar manner to this example. Other acceptable ways to format long\n",
    "dictionaries are available as well, so you may see slightly different formatting in your\n",
    "editor, or in other sources.\n",
    "\n",
    "To use this dictionary, given the name of a person who took the poll,\n",
    "you can easily look up their favorite language:\n",
    "\n",
    "favorite_languages = {\n",
    "\n",
    "'jen': 'python',\n",
    "\n",
    "'sarah': 'c',\n",
    "\n",
    "'edward': 'ruby',\n",
    "\n",
    "'phil': 'python',\n",
    "\n",
    "}\n",
    "\n",
    "u language = favorite_languages['sarah'].title()\n",
    "\n",
    "print(f\"Sarah's favorite language is {language}.\")\n",
    "\n",
    "To see which language Sarah chose, we ask for the value at:\n",
    "favorite_languages['sarah']\n",
    "\n",
    "We use this syntax to pull Sarah’s favorite language from the dictionary\n",
    "at u and assign it to the variable language. Creating a new variable here\n",
    "makes for a much cleaner print() call. The output shows Sarah’s favorite\n",
    "language:\n",
    "\n",
    "Sarah's favorite language is C.\n",
    "\n",
    "You could use this same syntax with any individual represented in the\n",
    "dictionary."
   ]
  },
  {
   "cell_type": "code",
   "execution_count": 7,
   "metadata": {},
   "outputs": [
    {
     "name": "stdout",
     "output_type": "stream",
     "text": [
      "Sarah's favorite language is C.\n",
      "\n",
      "Sarah's favorite language is C.\n",
      "\n",
      "Sarah's favorite language is C.\n"
     ]
    }
   ],
   "source": [
    "favorite_languages = {\n",
    "    'jen': 'python',\n",
    "    'sarah': 'c',\n",
    "    'edward': 'ruby',\n",
    "    'phil': 'python',\n",
    "}\n",
    "\n",
    "language = favorite_languages['sarah'].title()\n",
    "print(f\"Sarah's favorite language is {language}.\")\n",
    "\n",
    "# Other ways to do it\n",
    "print(f\"\\nSarah's favorite language is {favorite_languages['sarah'].title()}.\")\n",
    "print(f\"\\nSarah's favorite language is {favorite_languages['sarah'][0].title()}.\")"
   ]
  },
  {
   "cell_type": "markdown",
   "metadata": {},
   "source": [
    "# Using get() to Access Values\n",
    "\n",
    "Using keys in square brackets to retrieve the value you’re interested in\n",
    "from a dictionary might cause one potential problem: if the key you ask for\n",
    "doesn’t exist, you’ll get an error.\n",
    "\n",
    "Let’s see what happens when you ask for the point value of an alien that\n",
    "doesn’t have a point value set:\n",
    "\n",
    "alien_0 = {'color': 'green', 'speed': 'slow'}\n",
    "\n",
    "print(alien_0['points'])\n",
    "\n",
    "This results in a traceback, showing a KeyError:\n",
    "\n",
    "Traceback (most recent call last):\n",
    "\n",
    "File \"alien_no_points.py\", line 2, in <module>\n",
    "\n",
    "print(alien_0['points'])\n",
    "\n",
    "KeyError: 'points'\n",
    "\n",
    "You’ll learn more about how to handle errors like this in general in\n",
    "Chapter 10. For dictionaries, specifically, you can use the get() method to\n",
    "set a default value that will be returned if the requested key doesn’t exist.\n",
    "The get() method requires a key as a first argument. As a second\n",
    "optional argument, you can pass the value to be returned if the key doesn’t\n",
    "exist:\n",
    "\n",
    "alien_0 = {'color': 'green', 'speed': 'slow'}\n",
    "\n",
    "point_value = alien_0.get('points', 'No point value assigned.')\n",
    "\n",
    "print(point_value)\n",
    "\n",
    "If the key 'points' exists in the dictionary, you’ll get the corresponding\n",
    "value. If it doesn’t, you get the default value. In this case, points doesn’t\n",
    "exist, and we get a clean message instead of an error:\n",
    "\n",
    "No point value assigned.\n",
    "\n",
    "***If there’s a chance the key you’re asking for might not exist, consider\n",
    "using the get() method instead of the square bracket notation.***\n",
    "\n",
    "**NOTE** If you leave out the second argument in the call to get() and the key doesn’t exist,\n",
    "Python will return the value None. `The special value None means “no value exists.”`\n",
    "***This is not an error: it’s a special value meant to indicate the absence of a value.***\n",
    "You’ll see more uses for None in Chapter 8."
   ]
  },
  {
   "cell_type": "code",
   "execution_count": 8,
   "metadata": {},
   "outputs": [
    {
     "name": "stdout",
     "output_type": "stream",
     "text": [
      "No point value assigned.\n"
     ]
    }
   ],
   "source": [
    "alien_0 = {'color': 'green', 'speed': 'slow'}\n",
    "\n",
    "# For dictionaries, specifically, you can use the get() method to set\n",
    "# a default value that will be returned if the requested key doesn’t exist.\n",
    "point_value = alien_0.get('points', 'No point value assigned.')\n",
    "\n",
    "# If the key 'points' exists in the dictionary, you’ll get the corresponding\n",
    "# value. If it doesn’t, you get the default value. In this case, points doesn’t\n",
    "# exist, and we get a clean message instead of an error:\n",
    "print(point_value)\n",
    "\n",
    "# If there’s a chance the key you’re asking for might not exist, consider\n",
    "# using the get() method instead of the square bracket notation."
   ]
  },
  {
   "cell_type": "markdown",
   "metadata": {},
   "source": [
    "# Try It Yourself\n",
    "6-1. Person: Use a dictionary to store information about a person you know.\n",
    "Store their first name, last name, age, and the city in which they live. You\n",
    "should have keys such as first_name, last_name, age, and city. Print each\n",
    "piece of information stored in your dictionary.\n",
    "\n",
    "6-2. Favorite Numbers: Use a dictionary to store people’s favorite numbers.\n",
    "Think of five names, and use them as keys in your dictionary. Think of a favorite\n",
    "number for each person, and store each as a value in your dictionary. Print\n",
    "each person’s name and their favorite number. For even more fun, poll a few\n",
    "friends and get some actual data for your program.\n",
    "\n",
    "6-3. Glossary: A Python dictionary can be used to model an actual dictionary.\n",
    "However, to avoid confusion, let’s call it a glossary.\n",
    "- Think of five programming words you’ve learned about in the previous\n",
    "chapters. Use these words as the keys in your glossary, and store their\n",
    "meanings as values.\n",
    "- Print each word and its meaning as neatly formatted output. You might\n",
    "print the word followed by a colon and then its meaning, or print the word\n",
    "on one line and then print its meaning indented on a second line. Use the\n",
    "newline character (\\n) to insert a blank line between each word-meaning\n",
    "pair in your output."
   ]
  },
  {
   "cell_type": "code",
   "execution_count": 9,
   "metadata": {},
   "outputs": [
    {
     "name": "stdout",
     "output_type": "stream",
     "text": [
      "{'first_name': 'johan', 'last_name': 'deljulio', 'age': '28', 'address': '123 East Main Street', 'city': 'big apple', 'state': 'new york', 'zip code': '54321'}\n"
     ]
    }
   ],
   "source": [
    "person_info = {\n",
    "    'first_name' : 'johan',\n",
    "    'last_name' : 'deljulio',\n",
    "    'age' : '28',\n",
    "    'address' : '123 East Main Street',\n",
    "    'city' : 'big apple',\n",
    "    'state' : 'new york',\n",
    "    'zip code' : '54321',\n",
    "}\n",
    "\n",
    "print(person_info)"
   ]
  },
  {
   "cell_type": "code",
   "execution_count": 10,
   "metadata": {},
   "outputs": [
    {
     "name": "stdout",
     "output_type": "stream",
     "text": [
      "{'john': 25, 'jacob': 28, 'jingle': 31, 'heimer': 34, 'schmidt': 37}\n"
     ]
    }
   ],
   "source": [
    "favorite_numbers = {\n",
    "    'john' : 25,\n",
    "    'jacob' : 28,\n",
    "    'jingle' : 31,\n",
    "    'heimer' : 34,\n",
    "    'schmidt' : 37,\n",
    "}\n",
    "\n",
    "print(favorite_numbers)"
   ]
  },
  {
   "cell_type": "code",
   "execution_count": 11,
   "metadata": {},
   "outputs": [
    {
     "name": "stdout",
     "output_type": "stream",
     "text": [
      "{'key': 'A key used to find a value in a dictionary.', 'value': 'A value assigned to a key in a dictionary', 'pair': 'A pairing of a key and a value in a dictionary.'}\n"
     ]
    }
   ],
   "source": [
    "glossary = {\n",
    "    'key' : 'A key used to find a value in a dictionary.',\n",
    "    'value' : 'A value assigned to a key in a dictionary',\n",
    "    'pair' : 'A pairing of a key and a value in a dictionary.',\n",
    "}\n",
    "\n",
    "print(glossary)"
   ]
  },
  {
   "cell_type": "code",
   "execution_count": 12,
   "metadata": {},
   "outputs": [
    {
     "name": "stdout",
     "output_type": "stream",
     "text": [
      "\n",
      "Key : key\n",
      "Value : A key used to find a value in a dictionary.\n",
      "\n",
      "Key : value\n",
      "Value : A value assigned to a key in a dictionary\n",
      "\n",
      "Key : pair\n",
      "Value : A pairing of a key and a value in a dictionary.\n"
     ]
    }
   ],
   "source": [
    "# ## My first attempt\n",
    "# for i in glossary:\n",
    "#     print(str(i) + ' : ' + i)\n",
    "\n",
    "for key, value in glossary.items():\n",
    "    print(f\"\\nKey : {key}\")\n",
    "    print(f\"Value : {value}\")"
   ]
  },
  {
   "cell_type": "markdown",
   "metadata": {},
   "source": [
    "# Looping Through a Dictionary\n",
    "\n",
    "A single Python dictionary can contain just a few key-value pairs or millions\n",
    "of pairs. Because a dictionary can contain large amounts of data, Python lets\n",
    "you loop through a dictionary. Dictionaries can be used to store information\n",
    "in a variety of ways; therefore, several different ways exist to loop through\n",
    "them. You can loop through all of a dictionary’s key-value pairs, through its\n",
    "keys, or through its values."
   ]
  },
  {
   "cell_type": "markdown",
   "metadata": {},
   "source": [
    "## Looping Through All Key-Value Pairs\n",
    "\n",
    "Before we explore the different approaches to looping, let’s consider a new\n",
    "dictionary designed to store information about a user on a website. The\n",
    "following dictionary would store one person’s username, first name, and\n",
    "\n",
    "last name:\n",
    "\n",
    "user_0 = {\n",
    "\n",
    "'username': 'efermi',\n",
    "\n",
    "'first': 'enrico',\n",
    "\n",
    "'last': 'fermi',\n",
    "\n",
    "}\n",
    "\n",
    "You can access any single piece of information about user_0 based\n",
    "on what you’ve already learned in this chapter. But what if you wanted to\n",
    "see everything stored in this user’s dictionary? To do so, you could loop\n",
    "through the dictionary using a for loop:\n",
    "\n",
    "user_0 = {\n",
    "\n",
    "'username': 'efermi',\n",
    "\n",
    "'first': 'enrico',\n",
    "\n",
    "'last': 'fermi',\n",
    "\n",
    "}\n",
    "\n",
    "u for key, value in user_0.items():\n",
    "\n",
    "v print(f\"\\nKey: {key}\")\n",
    "\n",
    "w print(f\"Value: {value}\")\n",
    "\n",
    "**As shown at u, to write a for loop for a dictionary, you create names\n",
    "for the two variables that will hold the key and value in each key-value\n",
    "pair. You can choose any names you want for these two variables. This\n",
    "code would work just as well if you had used abbreviations for the variable\n",
    "names, like this:**\n",
    "\n",
    "for k, v in user_0.items()\n",
    "\n",
    "The second half of the for statement at u includes the name of the\n",
    "dictionary followed by the method **`items()`**, which returns a list of key-value\n",
    "pairs. The for loop then assigns each of these pairs to the two variables provided.\n",
    "In the preceding example, we use the variables to print each key v,\n",
    "followed by the associated value w. The \"\\n\" in the first print() call ensures\n",
    "that a blank line is inserted before each key-value pair in the output:\n",
    "\n",
    "Key: username\n",
    "\n",
    "Value: efermi\n",
    "\n",
    "Key: first\n",
    "\n",
    "Value: enrico\n",
    "\n",
    "Key: last\n",
    "\n",
    "Value: fermi\n",
    "\n",
    "Looping through all key-value pairs works particularly well for dictionaries\n",
    "like the favorite_languages.py example on page 97, which stores the\n",
    "same kind of information for many different keys. If you loop through the\n",
    "favorite_languages dictionary, you get the name of each person in the dictionary\n",
    "and their favorite programming language. Because the keys always\n",
    "refer to a person’s name and the value is always a language, we’ll use the\n",
    "variables name and language in the loop instead of key and value. This will\n",
    "make it easier to follow what’s happening inside the loop:\n",
    "\n",
    "favorite_languages = {\n",
    "\n",
    "'jen': 'python',\n",
    "\n",
    "'sarah': 'c',\n",
    "\n",
    "'edward': 'ruby',\n",
    "\n",
    "'phil': 'python',\n",
    "\n",
    "}\n",
    "\n",
    "u for name, language in favorite_languages.items():\n",
    "\n",
    "v print(f\"{name.title()}'s favorite language is {language.title()}.\")\n",
    "\n",
    "The code at u tells Python to loop through each key-value pair in the\n",
    "dictionary. As it works through each pair the key is assigned to the variable\n",
    "name, and the value is assigned to the variable language. These descriptive\n",
    "names make it much easier to see what the print() call at v is doing.\n",
    "\n",
    "Now, in just a few lines of code, we can display all of the information\n",
    "from the poll:\n",
    "\n",
    "Jen's favorite language is Python.\n",
    "\n",
    "Sarah's favorite language is C.\n",
    "\n",
    "Edward's favorite language is Ruby.\n",
    "\n",
    "Phil's favorite language is Python."
   ]
  },
  {
   "cell_type": "code",
   "execution_count": 15,
   "metadata": {},
   "outputs": [
    {
     "name": "stdout",
     "output_type": "stream",
     "text": [
      "\n",
      "Key : username\n",
      "Value : efermi\n",
      "\n",
      "Key : first\n",
      "Value : enrico\n",
      "\n",
      "Key : last\n",
      "Value : fermi\n"
     ]
    }
   ],
   "source": [
    "user_0 = {\n",
    "'username': 'efermi',\n",
    "'first': 'enrico',\n",
    "'last': 'fermi',\n",
    "}\n",
    "\n",
    "for key, value in user_0.items():\n",
    "    print(f\"\\nKey : {key}\")\n",
    "    print(f\"Value : {value}\")"
   ]
  },
  {
   "cell_type": "code",
   "execution_count": 22,
   "metadata": {},
   "outputs": [
    {
     "name": "stdout",
     "output_type": "stream",
     "text": [
      "Jen's favorite language is Python.\n",
      "Sarah's favorite language is C.\n",
      "Edward's favorite language is Ruby.\n",
      "Phil's favorite language is Python.\n"
     ]
    }
   ],
   "source": [
    "favorite_languages = {\n",
    "'jen': 'python',\n",
    "'sarah': 'c',\n",
    "'edward': 'ruby',\n",
    "'phil': 'python',\n",
    "}\n",
    "\n",
    "for name, language in favorite_languages.items():\n",
    "    print(f\"{name.title()}'s favorite language is {language.title()}.\")\n",
    "    # print(f\"\\n{name.title()}'s favorite language is {language.title()}.\\n\")"
   ]
  },
  {
   "cell_type": "markdown",
   "metadata": {},
   "source": [
    "## Looping Through All the Keys in a Dictionary\n",
    "The **`keys()`** method is useful when you don’t need to work with all of the\n",
    "values\n",
    "in a dictionary. Let’s loop through the favorite_languages dictionary\n",
    "and print the names of everyone who took the poll:\n",
    "\n",
    "favorite_languages = {\n",
    "\n",
    "'jen': 'python',\n",
    "\n",
    "'sarah': 'c',\n",
    "\n",
    "'edward': 'ruby',\n",
    "\n",
    "'phil': 'python',\n",
    "\n",
    "}\n",
    "\n",
    "u for name in favorite_languages.keys():\n",
    "\n",
    "print(name.title())\n",
    "\n",
    "The line at u tells Python to pull all the keys from the dictionary\n",
    "favorite_\n",
    "languages and assign them one at a time to the variable name. The\n",
    "output shows the names of everyone who took the poll:\n",
    "\n",
    "Jen\n",
    "\n",
    "Sarah\n",
    "\n",
    "Edward\n",
    "\n",
    "Phil\n",
    "\n",
    "**Looping through the keys is actually the default behavior when looping\n",
    "through a dictionary**, so this code would have exactly the same output if you\n",
    "wrote . . .\n",
    "\n",
    "for name in favorite_languages:\n",
    "\n",
    "rather than . . .\n",
    "\n",
    "for name in favorite_languages.keys():\n",
    "\n",
    "You can choose to use the keys() method explicitly if it makes your code\n",
    "easier to read, or you can omit it if you wish.\n",
    "\n",
    "You can access the value associated with any key you care about inside\n",
    "the loop by using the current key. Let’s print a message to a couple of friends\n",
    "about the languages they chose. We’ll loop through the names in the dictionary\n",
    "as we did previously, but when the name matches one of our friends, we’ll\n",
    "display a message about their favorite language:\n",
    "\n",
    "favorite_languages = {\n",
    "\n",
    "--snip--\n",
    "\n",
    "}\n",
    "\n",
    "u friends = ['phil', 'sarah']\n",
    "\n",
    "for name in favorite_languages.keys():\n",
    "\n",
    "print(f\"Hi {name.title()}.\")\n",
    "\n",
    "v if name in friends:\n",
    "\n",
    "w language = favorite_languages[name].title()\n",
    "\n",
    "print(f\"\\t{name.title()}, I see you love {language}!\")\n",
    "\n",
    "At u we make a list of friends that we want to print a message to. Inside\n",
    "the loop, we print each person’s name. Then at v we check whether the\n",
    "name we’re working with is in the list friends. If it is, we determine the person’s\n",
    "favorite language using the name of the dictionary and the current\n",
    "value of name as the key w. We then print a special greeting, including a reference\n",
    "to their language of choice.\n",
    "\n",
    "Everyone’s name is printed, but our friends receive a special message:\n",
    "\n",
    "Hi Jen.\n",
    "\n",
    "Hi Sarah.\n",
    "\n",
    "Sarah, I see you love C!\n",
    "\n",
    "Hi Edward."
   ]
  },
  {
   "cell_type": "code",
   "execution_count": 23,
   "metadata": {},
   "outputs": [
    {
     "name": "stdout",
     "output_type": "stream",
     "text": [
      "Jen\n",
      "Sarah\n",
      "Edward\n",
      "Phil\n"
     ]
    }
   ],
   "source": [
    "favorite_languages = {\n",
    "'jen': 'python',\n",
    "'sarah': 'c',\n",
    "'edward': 'ruby',\n",
    "'phil': 'python',\n",
    "}\n",
    "\n",
    "for name in favorite_languages.keys():\n",
    "    print(name.title())"
   ]
  },
  {
   "cell_type": "code",
   "execution_count": 24,
   "metadata": {},
   "outputs": [
    {
     "name": "stdout",
     "output_type": "stream",
     "text": [
      "Python\n",
      "C\n",
      "Ruby\n",
      "Python\n"
     ]
    }
   ],
   "source": [
    "for language in favorite_languages.values():\n",
    "    print(language.title())"
   ]
  },
  {
   "cell_type": "code",
   "execution_count": null,
   "metadata": {},
   "outputs": [],
   "source": []
  }
 ],
 "metadata": {
  "interpreter": {
   "hash": "382911a3b25c08601c92d532ecf77b76535fbec3aff100266cbea416b7e83b72"
  },
  "kernelspec": {
   "display_name": "Python 3.10.0 64-bit",
   "name": "python3"
  },
  "language_info": {
   "codemirror_mode": {
    "name": "ipython",
    "version": 3
   },
   "file_extension": ".py",
   "mimetype": "text/x-python",
   "name": "python",
   "nbconvert_exporter": "python",
   "pygments_lexer": "ipython3",
   "version": "3.10.0"
  },
  "orig_nbformat": 4
 },
 "nbformat": 4,
 "nbformat_minor": 2
}
