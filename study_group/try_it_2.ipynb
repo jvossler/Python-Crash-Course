{
 "cells": [
  {
   "cell_type": "code",
   "execution_count": 1,
   "metadata": {},
   "outputs": [
    {
     "name": "stdout",
     "output_type": "stream",
     "text": [
      "2019 Audi A4\n",
      "The 2019 Audi A4 has 23 miles on it.\n"
     ]
    }
   ],
   "source": [
    "from car import Car\n",
    "\n",
    "my_new_car = Car('audi', 'a4', 2019)\n",
    "print(my_new_car.get_descriptive_name())\n",
    "\n",
    "my_new_car.odometer_reading = 23\n",
    "my_new_car.read_odometer()"
   ]
  },
  {
   "cell_type": "code",
   "execution_count": 2,
   "metadata": {},
   "outputs": [
    {
     "name": "stdout",
     "output_type": "stream",
     "text": [
      "2019 Tesla Model S\n",
      "The 2019 Tesla Model S has a 75-kWh battery.\n",
      "The 2019 Tesla Model S has a 75-kWh battery and can go about 260 miles on full charge.\n"
     ]
    }
   ],
   "source": [
    "from car import ElectricCar\n",
    "\n",
    "my_tesla = ElectricCar('tesla', 'model s', 2019)\n",
    "\n",
    "print(my_tesla.get_descriptive_name())\n",
    "print(my_tesla.battery.describe_battery())\n",
    "print(my_tesla.battery.get_range())"
   ]
  },
  {
   "cell_type": "code",
   "execution_count": 3,
   "metadata": {},
   "outputs": [
    {
     "name": "stdout",
     "output_type": "stream",
     "text": [
      "2019 Volkswagen Beetle\n",
      "2019 Tesle Roadster\n"
     ]
    }
   ],
   "source": [
    "# Importing Multiple Classes from a Module\n",
    "from car import Car, ElectricCar\n",
    "\n",
    "my_beetle = Car('volkswagen', 'beetle', 2019)\n",
    "print(my_beetle.get_descriptive_name())\n",
    "\n",
    "my_tesla = Car('tesle', 'roadster', 2019)\n",
    "print(my_tesla.get_descriptive_name())"
   ]
  },
  {
   "cell_type": "code",
   "execution_count": 4,
   "metadata": {},
   "outputs": [],
   "source": [
    "# Importing an Entire Module\n",
    "from car import *"
   ]
  },
  {
   "cell_type": "code",
   "execution_count": 5,
   "metadata": {},
   "outputs": [
    {
     "name": "stdout",
     "output_type": "stream",
     "text": [
      "2019 Volkswagen Beetle\n",
      "2019 Tesle Roadster\n"
     ]
    }
   ],
   "source": [
    "# Importing a Module into a Module\n",
    "from car import Car\n",
    "from car import ElectricCar\n",
    "\n",
    "my_beetle = Car('volkswagen', 'beetle', 2019)\n",
    "print(my_beetle.get_descriptive_name())\n",
    "\n",
    "my_tesla = Car('tesle', 'roadster', 2019)\n",
    "print(my_tesla.get_descriptive_name())"
   ]
  },
  {
   "cell_type": "code",
   "execution_count": 6,
   "metadata": {},
   "outputs": [
    {
     "name": "stdout",
     "output_type": "stream",
     "text": [
      "2019 Tesla Roadster\n"
     ]
    }
   ],
   "source": [
    "# Using Aliases\n",
    "from car import ElectricCar as EC\n",
    "\n",
    "my_tesla = EC('tesla', 'roadster', 2019)\n",
    "print(my_tesla.get_descriptive_name())"
   ]
  },
  {
   "cell_type": "markdown",
   "metadata": {},
   "source": [
    "9-10. Imported Restaurant: Using your latest Restaurant class, store it in a module.\n",
    "Make a separate file that imports Restaurant. Make a Restaurant instance,\n",
    "and call one of Restaurant’s methods to show that the import statement is working\n",
    "properly."
   ]
  },
  {
   "cell_type": "code",
   "execution_count": 7,
   "metadata": {},
   "outputs": [
    {
     "name": "stdout",
     "output_type": "stream",
     "text": [
      "Dave'S Pizza Joint offers pizza as a cuisine option.\n"
     ]
    }
   ],
   "source": [
    "from restaurant import Restaurant\n",
    "\n",
    "my_restaurant = Restaurant(\"dave's pizza joint\", 'pizza')\n",
    "print(my_restaurant.describe_restaurant())"
   ]
  },
  {
   "cell_type": "markdown",
   "metadata": {},
   "source": [
    "9-11. Imported Admin: Start with your work from Exercise 9-8 (page 173).\n",
    "Store the classes User, Privileges, and Admin in one module. Create a separate\n",
    "file, make an Admin instance, and call show_privileges() to show that\n",
    "everything is working correctly."
   ]
  },
  {
   "cell_type": "code",
   "execution_count": 8,
   "metadata": {},
   "outputs": [
    {
     "name": "stdout",
     "output_type": "stream",
     "text": [
      "User: John Jacob\n",
      " Username: j_jacob\n",
      " Email: j_jacob@example.com\n",
      " Location: Alaska\n",
      "\n",
      "John Jacob has the current privileges of:\n",
      "None\n",
      "\n",
      "John Jacob has the current privileges of:\n",
      "- can reset passwords\n",
      "- can moderate discussions\n",
      "- can suspend accounts\n",
      "None\n"
     ]
    }
   ],
   "source": [
    "from user import User, Admin, Privileges\n",
    "\n",
    "admin_privileges = Admin(\"john\", \"jacob\", \"j_jacob\", \"j_jacob@example.com\", \"alaska\")\n",
    "\n",
    "print(admin_privileges.describe_user())\n",
    "print(admin_privileges.privileges.show_privileges())\n",
    "\n",
    "privileges = [\n",
    "    'can reset passwords',\n",
    "    'can moderate discussions',\n",
    "    'can suspend accounts',\n",
    "    ]\n",
    "\n",
    "# user2.privileges.privileges = user2_privileges\n",
    "\n",
    "admin_privileges.privileges.privileges = privileges\n",
    "\n",
    "print(admin_privileges.privileges.show_privileges())"
   ]
  },
  {
   "cell_type": "markdown",
   "metadata": {},
   "source": [
    "9-12. Multiple Modules: Store the User class in one module, and store the\n",
    "Privileges and Admin classes in a separate module. In a separate file, create\n",
    "an Admin instance and call show_privileges() to show that everything is still\n",
    "working correctly."
   ]
  },
  {
   "cell_type": "code",
   "execution_count": 9,
   "metadata": {},
   "outputs": [
    {
     "name": "stdout",
     "output_type": "stream",
     "text": [
      "User: John Jacob\n",
      " Username: j_jacob\n",
      " Email: j_jacob@example.com\n",
      " Location: Alaska\n",
      "\n",
      "John Jacob has the current privileges of:\n",
      "None\n",
      "\n",
      "John Jacob has the current privileges of:\n",
      "- can reset passwords\n",
      "- can moderate discussions\n",
      "- can suspend accounts\n",
      "None\n"
     ]
    }
   ],
   "source": [
    "from user import User, Admin, Privileges\n",
    "\n",
    "admin_privileges = Admin(\"john\", \"jacob\", \"j_jacob\", \"j_jacob@example.com\", \"alaska\")\n",
    "\n",
    "print(admin_privileges.describe_user())\n",
    "print(admin_privileges.privileges.show_privileges())\n",
    "\n",
    "privileges = [\n",
    "    'can reset passwords',\n",
    "    'can moderate discussions',\n",
    "    'can suspend accounts',\n",
    "    ]\n",
    "\n",
    "# user2.privileges.privileges = user2_privileges\n",
    "\n",
    "admin_privileges.privileges.privileges = privileges\n",
    "\n",
    "print(admin_privileges.privileges.show_privileges())"
   ]
  },
  {
   "cell_type": "markdown",
   "metadata": {},
   "source": [
    "## The Python Standard Library\n",
    "The Python standard library is a set of modules included with every Python\n",
    "installation.\n",
    "\n",
    "`The random module shouldn’t be used when building security-related\n",
    "applications`"
   ]
  },
  {
   "cell_type": "code",
   "execution_count": 10,
   "metadata": {},
   "outputs": [],
   "source": [
    "# from random import randint\n",
    "\n",
    "# randint(1, 6)"
   ]
  },
  {
   "cell_type": "code",
   "execution_count": 11,
   "metadata": {},
   "outputs": [
    {
     "data": {
      "text/plain": [
       "'eli'"
      ]
     },
     "execution_count": 11,
     "metadata": {},
     "output_type": "execute_result"
    }
   ],
   "source": [
    "from random import choice\n",
    "\n",
    "players = ['charles', 'martina', 'michael', 'florence', 'eli']\n",
    "first_up = choice(players)\n",
    "first_up"
   ]
  },
  {
   "cell_type": "markdown",
   "metadata": {},
   "source": [
    "9-13. Dice: Make a class Die with one attribute called sides, which has a default\n",
    "value of 6. Write a method called roll_die() that prints a random number\n",
    "between 1 and the number of sides the die has. Make a 6-sided die and roll it\n",
    "10 times.\n",
    "Make a 10-sided die and a 20-sided die. Roll each die 10 times."
   ]
  },
  {
   "cell_type": "code",
   "execution_count": 12,
   "metadata": {},
   "outputs": [
    {
     "name": "stdout",
     "output_type": "stream",
     "text": [
      "You rolled a 2.\n",
      "You rolled a 3.\n",
      "You rolled a 3.\n",
      "You rolled a 2.\n",
      "You rolled a 5.\n",
      "You rolled a 5.\n",
      "You rolled a 2.\n",
      "You rolled a 3.\n",
      "You rolled a 6.\n",
      "You rolled a 2.\n",
      "You rolled a 5.\n",
      "You rolled a 2.\n",
      "You rolled a 2.\n",
      "You rolled a 3.\n",
      "You rolled a 2.\n",
      "You rolled a 2.\n",
      "You rolled a 3.\n",
      "You rolled a 9.\n",
      "You rolled a 10.\n",
      "You rolled a 1.\n",
      "You rolled a 15.\n",
      "You rolled a 4.\n",
      "You rolled a 5.\n",
      "You rolled a 11.\n",
      "You rolled a 14.\n",
      "You rolled a 16.\n",
      "You rolled a 11.\n",
      "You rolled a 18.\n",
      "You rolled a 15.\n",
      "You rolled a 14.\n"
     ]
    }
   ],
   "source": [
    "from dice import Die\n",
    "\n",
    "dice_roll = Die(6)\n",
    "number_of_rolls = 0\n",
    "while number_of_rolls < 10:\n",
    "    dice_roll.roll_die()\n",
    "    number_of_rolls += 1\n",
    "\n",
    "dice_roll = Die(10)\n",
    "number_of_rolls = 0\n",
    "while number_of_rolls < 10:\n",
    "    dice_roll.roll_die()\n",
    "    number_of_rolls += 1\n",
    "\n",
    "dice_roll = Die(20)\n",
    "number_of_rolls = 0\n",
    "while number_of_rolls < 10:\n",
    "    dice_roll.roll_die()\n",
    "    number_of_rolls += 1"
   ]
  },
  {
   "cell_type": "code",
   "execution_count": null,
   "metadata": {},
   "outputs": [],
   "source": []
  }
 ],
 "metadata": {
  "interpreter": {
   "hash": "77b0fca11f5c97acb8aefe74dba7b131a51b5f55730f888d94f92ef2c92d313a"
  },
  "kernelspec": {
   "display_name": "Python 3.10.0 64-bit",
   "language": "python",
   "name": "python3"
  },
  "language_info": {
   "codemirror_mode": {
    "name": "ipython",
    "version": 3
   },
   "file_extension": ".py",
   "mimetype": "text/x-python",
   "name": "python",
   "nbconvert_exporter": "python",
   "pygments_lexer": "ipython3",
   "version": "3.10.0"
  },
  "orig_nbformat": 4
 },
 "nbformat": 4,
 "nbformat_minor": 2
}
