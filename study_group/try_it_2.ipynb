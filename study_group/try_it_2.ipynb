{
 "cells": [
  {
   "cell_type": "code",
   "execution_count": 1,
   "metadata": {},
   "outputs": [
    {
     "name": "stdout",
     "output_type": "stream",
     "text": [
      "2019 Audi A4\n",
      "The 2019 Audi A4 has 23 miles on it.\n"
     ]
    }
   ],
   "source": [
    "from car import Car\n",
    "\n",
    "my_new_car = Car('audi', 'a4', 2019)\n",
    "print(my_new_car.get_descriptive_name())\n",
    "\n",
    "my_new_car.odometer_reading = 23\n",
    "my_new_car.read_odometer()"
   ]
  },
  {
   "cell_type": "code",
   "execution_count": 2,
   "metadata": {},
   "outputs": [
    {
     "name": "stdout",
     "output_type": "stream",
     "text": [
      "2019 Tesla Model S\n",
      "The 2019 Tesla Model S has a 75-kWh battery.\n",
      "The 2019 Tesla Model S has a 75-kWh battery and can go about 260 miles on full charge.\n"
     ]
    }
   ],
   "source": [
    "from car import ElectricCar\n",
    "\n",
    "my_tesla = ElectricCar('tesla', 'model s', 2019)\n",
    "\n",
    "print(my_tesla.get_descriptive_name())\n",
    "print(my_tesla.battery.describe_battery())\n",
    "print(my_tesla.battery.get_range())"
   ]
  },
  {
   "cell_type": "code",
   "execution_count": 3,
   "metadata": {},
   "outputs": [
    {
     "name": "stdout",
     "output_type": "stream",
     "text": [
      "2019 Volkswagen Beetle\n",
      "2019 Tesla Roadster\n"
     ]
    }
   ],
   "source": [
    "# Importing Multiple Classes from a Module\n",
    "from car import Car, ElectricCar\n",
    "\n",
    "my_beetle = Car('volkswagen', 'beetle', 2019)\n",
    "print(my_beetle.get_descriptive_name())\n",
    "\n",
    "my_tesla = Car('tesla', 'roadster', 2019)\n",
    "print(my_tesla.get_descriptive_name())"
   ]
  },
  {
   "cell_type": "code",
   "execution_count": 4,
   "metadata": {},
   "outputs": [],
   "source": [
    "# Importing an Entire Module\n",
    "from car import *"
   ]
  },
  {
   "cell_type": "code",
   "execution_count": 5,
   "metadata": {},
   "outputs": [
    {
     "name": "stdout",
     "output_type": "stream",
     "text": [
      "2019 Volkswagen Beetle\n",
      "2019 Tesla Roadster\n"
     ]
    }
   ],
   "source": [
    "# Importing a Module into a Module\n",
    "from car import Car\n",
    "from car import ElectricCar\n",
    "\n",
    "my_beetle = Car('volkswagen', 'beetle', 2019)\n",
    "print(my_beetle.get_descriptive_name())\n",
    "\n",
    "my_tesla = Car('tesla', 'roadster', 2019)\n",
    "print(my_tesla.get_descriptive_name())"
   ]
  },
  {
   "cell_type": "code",
   "execution_count": 6,
   "metadata": {},
   "outputs": [
    {
     "name": "stdout",
     "output_type": "stream",
     "text": [
      "2019 Tesla Roadster\n"
     ]
    }
   ],
   "source": [
    "# Using Aliases\n",
    "from car import ElectricCar as EC\n",
    "\n",
    "my_tesla = EC('tesla', 'roadster', 2019)\n",
    "print(my_tesla.get_descriptive_name())"
   ]
  },
  {
   "cell_type": "markdown",
   "metadata": {},
   "source": [
    "9-10. Imported Restaurant: Using your latest Restaurant class, store it in a module.\n",
    "Make a separate file that imports Restaurant. Make a Restaurant instance,\n",
    "and call one of Restaurant’s methods to show that the import statement is working\n",
    "properly."
   ]
  },
  {
   "cell_type": "code",
   "execution_count": 7,
   "metadata": {},
   "outputs": [
    {
     "name": "stdout",
     "output_type": "stream",
     "text": [
      "Dave'S Pizza Joint offers pizza as a cuisine option.\n"
     ]
    }
   ],
   "source": [
    "from restaurant import Restaurant\n",
    "\n",
    "my_restaurant = Restaurant(\"dave's pizza joint\", 'pizza')\n",
    "print(my_restaurant.describe_restaurant())"
   ]
  },
  {
   "cell_type": "markdown",
   "metadata": {},
   "source": [
    "9-11. Imported Admin: Start with your work from Exercise 9-8 (page 173).\n",
    "Store the classes User, Privileges, and Admin in one module. Create a separate\n",
    "file, make an Admin instance, and call show_privileges() to show that\n",
    "everything is working correctly."
   ]
  },
  {
   "cell_type": "code",
   "execution_count": 8,
   "metadata": {},
   "outputs": [
    {
     "name": "stdout",
     "output_type": "stream",
     "text": [
      "User: John Jacob\n",
      " Username: j_jacob\n",
      " Email: j_jacob@example.com\n",
      " Location: Alaska\n",
      "\n",
      "John Jacob has the current privileges of:\n",
      "None\n",
      "\n",
      "John Jacob has the current privileges of:\n",
      "- can reset passwords\n",
      "- can moderate discussions\n",
      "- can suspend accounts\n",
      "None\n"
     ]
    }
   ],
   "source": [
    "from user import User, Admin, Privileges\n",
    "\n",
    "admin_privileges = Admin(\"john\", \"jacob\", \"j_jacob\", \"j_jacob@example.com\", \"alaska\")\n",
    "\n",
    "print(admin_privileges.describe_user())\n",
    "print(admin_privileges.privileges.show_privileges())\n",
    "\n",
    "privileges = [\n",
    "    'can reset passwords',\n",
    "    'can moderate discussions',\n",
    "    'can suspend accounts',\n",
    "    ]\n",
    "\n",
    "# user2.privileges.privileges = user2_privileges\n",
    "\n",
    "admin_privileges.privileges.privileges = privileges\n",
    "\n",
    "print(admin_privileges.privileges.show_privileges())"
   ]
  },
  {
   "cell_type": "markdown",
   "metadata": {},
   "source": [
    "9-12. Multiple Modules: Store the User class in one module, and store the\n",
    "Privileges and Admin classes in a separate module. In a separate file, create\n",
    "an Admin instance and call show_privileges() to show that everything is still\n",
    "working correctly."
   ]
  },
  {
   "cell_type": "code",
   "execution_count": 9,
   "metadata": {},
   "outputs": [
    {
     "name": "stdout",
     "output_type": "stream",
     "text": [
      "User: John Jacob\n",
      " Username: j_jacob\n",
      " Email: j_jacob@example.com\n",
      " Location: Alaska\n",
      "\n",
      "John Jacob has the current privileges of:\n",
      "None\n",
      "\n",
      "John Jacob has the current privileges of:\n",
      "- can reset passwords\n",
      "- can moderate discussions\n",
      "- can suspend accounts\n",
      "None\n"
     ]
    }
   ],
   "source": [
    "from user import User, Admin, Privileges\n",
    "\n",
    "admin_privileges = Admin(\"john\", \"jacob\", \"j_jacob\", \"j_jacob@example.com\", \"alaska\")\n",
    "\n",
    "print(admin_privileges.describe_user())\n",
    "print(admin_privileges.privileges.show_privileges())\n",
    "\n",
    "privileges = [\n",
    "    'can reset passwords',\n",
    "    'can moderate discussions',\n",
    "    'can suspend accounts',\n",
    "    ]\n",
    "\n",
    "# user2.privileges.privileges = user2_privileges\n",
    "\n",
    "admin_privileges.privileges.privileges = privileges\n",
    "\n",
    "print(admin_privileges.privileges.show_privileges())"
   ]
  },
  {
   "cell_type": "markdown",
   "metadata": {},
   "source": [
    "## The Python Standard Library\n",
    "The Python standard library is a set of modules included with every Python\n",
    "installation.\n",
    "\n",
    "`The random module shouldn’t be used when building security-related\n",
    "applications`"
   ]
  },
  {
   "cell_type": "code",
   "execution_count": 10,
   "metadata": {},
   "outputs": [],
   "source": [
    "# from random import randint\n",
    "\n",
    "# randint(1, 6)"
   ]
  },
  {
   "cell_type": "code",
   "execution_count": 11,
   "metadata": {},
   "outputs": [
    {
     "data": {
      "text/plain": [
       "'charles'"
      ]
     },
     "execution_count": 11,
     "metadata": {},
     "output_type": "execute_result"
    }
   ],
   "source": [
    "from random import choice\n",
    "\n",
    "players = ['charles', 'martina', 'michael', 'florence', 'eli']\n",
    "first_up = choice(players)\n",
    "first_up"
   ]
  },
  {
   "cell_type": "markdown",
   "metadata": {},
   "source": [
    "9-13. Dice: Make a class Die with one attribute called sides, which has a default\n",
    "value of 6. Write a method called roll_die() that prints a random number\n",
    "between 1 and the number of sides the die has. Make a 6-sided die and roll it\n",
    "10 times.\n",
    "Make a 10-sided die and a 20-sided die. Roll each die 10 times."
   ]
  },
  {
   "cell_type": "code",
   "execution_count": 12,
   "metadata": {},
   "outputs": [
    {
     "name": "stdout",
     "output_type": "stream",
     "text": [
      "You rolled a 3.\n",
      "You rolled a 4.\n",
      "You rolled a 4.\n",
      "You rolled a 1.\n",
      "You rolled a 6.\n",
      "You rolled a 2.\n",
      "You rolled a 1.\n",
      "You rolled a 3.\n",
      "You rolled a 1.\n",
      "You rolled a 4.\n",
      "You rolled a 5.\n",
      "You rolled a 7.\n",
      "You rolled a 5.\n",
      "You rolled a 4.\n",
      "You rolled a 2.\n",
      "You rolled a 9.\n",
      "You rolled a 7.\n",
      "You rolled a 10.\n",
      "You rolled a 9.\n",
      "You rolled a 9.\n",
      "You rolled a 20.\n",
      "You rolled a 17.\n",
      "You rolled a 10.\n",
      "You rolled a 1.\n",
      "You rolled a 12.\n",
      "You rolled a 3.\n",
      "You rolled a 16.\n",
      "You rolled a 8.\n",
      "You rolled a 14.\n",
      "You rolled a 19.\n"
     ]
    }
   ],
   "source": [
    "from dice import Die\n",
    "\n",
    "dice_roll = Die(6)\n",
    "number_of_rolls = 0\n",
    "while number_of_rolls < 10:\n",
    "    dice_roll.roll_die()\n",
    "    number_of_rolls += 1\n",
    "\n",
    "dice_roll = Die(10)\n",
    "number_of_rolls = 0\n",
    "while number_of_rolls < 10:\n",
    "    dice_roll.roll_die()\n",
    "    number_of_rolls += 1\n",
    "\n",
    "dice_roll = Die(20)\n",
    "number_of_rolls = 0\n",
    "while number_of_rolls < 10:\n",
    "    dice_roll.roll_die()\n",
    "    number_of_rolls += 1"
   ]
  },
  {
   "cell_type": "code",
   "execution_count": 13,
   "metadata": {},
   "outputs": [
    {
     "name": "stdout",
     "output_type": "stream",
     "text": [
      "You rolled a 6.\n",
      "You rolled a 4.\n",
      "You rolled a 4.\n",
      "You rolled a 3.\n",
      "You rolled a 5.\n",
      "You rolled a 1.\n",
      "You rolled a 4.\n",
      "You rolled a 2.\n",
      "You rolled a 5.\n",
      "You rolled a 5.\n",
      "You rolled a 8.\n",
      "You rolled a 9.\n",
      "You rolled a 9.\n",
      "You rolled a 2.\n",
      "You rolled a 6.\n",
      "You rolled a 1.\n",
      "You rolled a 2.\n",
      "You rolled a 6.\n",
      "You rolled a 2.\n",
      "You rolled a 1.\n",
      "You rolled a 11.\n",
      "You rolled a 16.\n",
      "You rolled a 3.\n",
      "You rolled a 9.\n",
      "You rolled a 2.\n",
      "You rolled a 9.\n",
      "You rolled a 11.\n",
      "You rolled a 17.\n",
      "You rolled a 6.\n",
      "You rolled a 7.\n"
     ]
    }
   ],
   "source": [
    "# 9-13\n",
    "from dice import Die\n",
    "\n",
    "# Make a 6-sided die, and show the results of 10 rolls.\n",
    "dice_roll = Die(6)\n",
    "number_of_rolls = 0\n",
    "while number_of_rolls < 10:\n",
    "    dice_roll.roll_die()\n",
    "    number_of_rolls += 1\n",
    "\n",
    "# Make a 10-sided die, and show the results of 10 rolls.\n",
    "dice_roll = Die(10)\n",
    "number_of_rolls = 0\n",
    "while number_of_rolls < 10:\n",
    "    dice_roll.roll_die()\n",
    "    number_of_rolls += 1\n",
    "\n",
    "# Make a 20-sided die, and show the results of 10 rolls.\n",
    "dice_roll = Die(20)\n",
    "number_of_rolls = 0\n",
    "while number_of_rolls < 10:\n",
    "    dice_roll.roll_die()\n",
    "    number_of_rolls += 1"
   ]
  },
  {
   "cell_type": "code",
   "execution_count": 14,
   "metadata": {},
   "outputs": [
    {
     "name": "stdout",
     "output_type": "stream",
     "text": [
      "Any ticket matching there four numbers or letters wins a prize:\n",
      "\n",
      "['i', 3, 9, 'e', 1]\n"
     ]
    }
   ],
   "source": [
    "# 9-14\n",
    "from random import choice\n",
    "\n",
    "lottery_list = (1, 2, 3, 4, 5, 6, 7, 8, 9, 10, 'a', 'e', 'i', 'o', 'u')\n",
    "\n",
    "lottery_selection = []\n",
    "for i in range(5):\n",
    "    selection = choice(lottery_list)\n",
    "    lottery_selection.append(selection)\n",
    "\n",
    "print(f\"Any ticket matching there four numbers or letters wins a prize:\\n\")\n",
    "print(lottery_selection)\n",
    "\n",
    "### DOES NOT WORK\n",
    "# lottery_selection = [lottery_list*5 for lottery_list in range(5)]\n",
    "\n",
    "# print(choice(lottery_selection))"
   ]
  },
  {
   "cell_type": "code",
   "execution_count": 15,
   "metadata": {},
   "outputs": [
    {
     "name": "stdout",
     "output_type": "stream",
     "text": [
      "Let's see what the winning ticket is...\n",
      "  We pulled a 4!\n",
      "  We pulled a 6!\n",
      "  We pulled a 1!\n",
      "  We pulled a b!\n"
     ]
    }
   ],
   "source": [
    "# 9-14\n",
    "from random import choice\n",
    "\n",
    "possibilities = [1, 2, 3, 4, 5, 6, 7, 8, 9, 10, 'a', 'b', 'c', 'd', 'e']\n",
    "\n",
    "winning_ticket = []\n",
    "print(\"Let's see what the winning ticket is...\")\n",
    "\n",
    "# We don't want to repeat winning numbers or letters, so we'll use a\n",
    "#   while loop.\n",
    "while len(winning_ticket) < 4:\n",
    "    pulled_item = choice(possibilities)\n",
    "\n",
    "    # Only add the pulled item to the winning ticket if it hasn't\n",
    "    #   already been pulled.\n",
    "    if pulled_item not in winning_ticket:\n",
    "        print(f\"  We pulled a {pulled_item}!\")\n",
    "        winning_ticket.append(pulled_item)"
   ]
  },
  {
   "cell_type": "code",
   "execution_count": 16,
   "metadata": {},
   "outputs": [
    {
     "name": "stdout",
     "output_type": "stream",
     "text": [
      "We have a winning ticket!\n",
      "Your ticket: [2, 16, 20, 12]\n",
      "Winning ticket: [12, 16, 20, 2]\n",
      "It only took 10287 tries to win!\n"
     ]
    }
   ],
   "source": [
    "# 9-15\n",
    "from random import choice\n",
    "\n",
    "def get_winning_ticket(possibilities):\n",
    "    \"\"\"Return a winning ticket from a set of possibilities.\"\"\"\n",
    "    winning_ticket = []\n",
    "\n",
    "    # We don't want to repeat winning numbers or letters, so we'll use a\n",
    "    #   while loop.\n",
    "    while len(winning_ticket) < 4:\n",
    "        pulled_item = choice(possibilities)\n",
    "\n",
    "        # Only add the pulled item to the winning ticket if it hasn't\n",
    "        #   already been pulled.\n",
    "        if pulled_item not in winning_ticket:\n",
    "            winning_ticket.append(pulled_item)\n",
    "\n",
    "    return winning_ticket\n",
    "\n",
    "def check_ticket(played_ticket, winning_ticket):\n",
    "    # Check all elements in the played ticket. If any are not in the \n",
    "    #   winning ticket, return False.\n",
    "    for element in played_ticket:\n",
    "        if element not in winning_ticket:\n",
    "            return False\n",
    "\n",
    "    # We must have a winning ticket!\n",
    "    return True\n",
    "\n",
    "def make_random_ticket(possibilities):\n",
    "    \"\"\"Return a random ticket from a set of possibilities.\"\"\"\n",
    "    ticket = []\n",
    "    # We don't want to repeat numbers or letters, so we'll use a while loop.\n",
    "    while len(ticket) < 4:\n",
    "        pulled_item = choice(possibilities)\n",
    "\n",
    "        # Only add the pulled item to the ticket if it hasn't already\n",
    "        #   been pulled.\n",
    "        if pulled_item not in ticket:\n",
    "            ticket.append(pulled_item)\n",
    "\n",
    "    return ticket\n",
    "\n",
    "\n",
    "possibilities = [1, 2, 3, 4, 5, 6, 7, 8, 9, 10, 11, 12, 13, 14, 15, 16, 17, 18, 19, 20, 'a', 'b', 'c', 'd', 'e', 'f', 'g']\n",
    "winning_ticket = get_winning_ticket(possibilities)\n",
    "\n",
    "plays = 0\n",
    "won = False\n",
    "\n",
    "# Let's set a max number of tries, in case this takes forever!\n",
    "max_tries = 1_000_000\n",
    "\n",
    "while not won:\n",
    "    new_ticket = make_random_ticket(possibilities)\n",
    "    won = check_ticket(new_ticket, winning_ticket)\n",
    "    plays += 1\n",
    "    if plays >= max_tries:\n",
    "        break\n",
    "\n",
    "if won:\n",
    "    print(\"We have a winning ticket!\")\n",
    "    print(f\"Your ticket: {new_ticket}\")\n",
    "    print(f\"Winning ticket: {winning_ticket}\")\n",
    "    print(f\"It only took {plays} tries to win!\")\n",
    "else:\n",
    "    print(f\"Tried {plays} times, without pulling a winner. :(\")\n",
    "    print(f\"Your ticket: {new_ticket}\")\n",
    "    print(f\"Winning ticket: {winning_ticket}\")"
   ]
  },
  {
   "cell_type": "markdown",
   "metadata": {},
   "source": [
    "## Ch. 10 - Files and Exceptions"
   ]
  },
  {
   "cell_type": "code",
   "execution_count": 17,
   "metadata": {},
   "outputs": [
    {
     "name": "stdout",
     "output_type": "stream",
     "text": [
      "3.1415926535\n",
      "8979323846\n",
      "2643383279\n"
     ]
    }
   ],
   "source": [
    "# Reading from a file\n",
    "# Reading an entire file\n",
    "# The keyword 'with' closes the file once access to it is no longer needed.\n",
    "with open('pi_digits.txt') as file_object:\n",
    "    contents = file_object.read()\n",
    "    contents = contents.rstrip()\n",
    "print(contents)\n",
    "# print(contents.rstrip())   # .rstrip() referenced on pg. 185"
   ]
  },
  {
   "cell_type": "markdown",
   "metadata": {},
   "source": [
    "rstrip()\n",
    "\n",
    "These blank lines appear because an invisible newline character is at\n",
    "the end of each line in the text file. The print function adds its own newline\n",
    "each time we call it, so we end up with two newline characters at the\n",
    "end of each line: one from the file and one from print(). Using rstrip()\n",
    "on each line in the print() call eliminates these extra blank lines"
   ]
  },
  {
   "cell_type": "code",
   "execution_count": 18,
   "metadata": {},
   "outputs": [
    {
     "name": "stdout",
     "output_type": "stream",
     "text": [
      "3.1415926535\n",
      "8979323846\n",
      "2643383279\n"
     ]
    }
   ],
   "source": [
    "# File Paths pp. 185-186\n",
    "# Reading line by line pg. 187\n",
    "\n",
    "filename = 'pi_digits.txt'\n",
    "\n",
    "with open(filename) as file_object:\n",
    "    for line in file_object:\n",
    "        print(line.rstrip())"
   ]
  },
  {
   "cell_type": "markdown",
   "metadata": {},
   "source": [
    "When you use with, the file object returned by open() is only available inside\n",
    "the with block that contains it. If you want to retain access to a file’s contents\n",
    "outside the with block, you can store the file’s lines in a list inside the\n",
    "block and then work with that list."
   ]
  },
  {
   "cell_type": "code",
   "execution_count": 19,
   "metadata": {},
   "outputs": [
    {
     "name": "stdout",
     "output_type": "stream",
     "text": [
      "3\n",
      ".\n",
      "1\n",
      "4\n",
      "1\n",
      "5\n",
      "9\n",
      "2\n",
      "6\n",
      "5\n",
      "3\n",
      "5\n",
      "\n"
     ]
    }
   ],
   "source": [
    "# Making a List of Lines from a File\n",
    "\n",
    "filename = 'pi_digits.txt'\n",
    "\n",
    "with open(filename) as file_object:\n",
    "    lines = file_object.readline()\n",
    "\n",
    "for line in lines:\n",
    "    print(line.rstrip())"
   ]
  },
  {
   "cell_type": "code",
   "execution_count": 20,
   "metadata": {},
   "outputs": [
    {
     "name": "stdout",
     "output_type": "stream",
     "text": [
      "3.141592653589793238462643383279\n",
      "32\n"
     ]
    }
   ],
   "source": [
    "# Working with a File’s Contents\n",
    "\n",
    "filename = 'pi_digits.txt'\n",
    "\n",
    "with open(filename) as file_object:\n",
    "    lines = file_object.readlines()\n",
    "\n",
    "pi_string = ''\n",
    "for line in lines:\n",
    "    pi_string += line.strip()\n",
    "    # pi_string += line.rstrip()\n",
    "    # The variable pi_string contains the whitespace that was on the left\n",
    "    # side of the digits in each line, but we can get rid of that by using strip()\n",
    "    # instead of rstrip()\n",
    "\n",
    "print(pi_string)\n",
    "print(len(pi_string))"
   ]
  },
  {
   "cell_type": "markdown",
   "metadata": {},
   "source": [
    "When Python reads from a text file, it interprets all text in the file as a string. If you\n",
    "read in a number and want to work with that value in a numerical context, you’ll\n",
    "have to convert it to an integer using the int() function or convert it to a float using\n",
    "the float() function."
   ]
  },
  {
   "cell_type": "code",
   "execution_count": 21,
   "metadata": {},
   "outputs": [
    {
     "name": "stdout",
     "output_type": "stream",
     "text": [
      "3.14159265358979323846264338327950288419716939937510...\n",
      "1000002\n"
     ]
    }
   ],
   "source": [
    "# Large Files: One Million Digits\n",
    "\n",
    "filename = 'pi_million_digits.txt'\n",
    "\n",
    "with open(filename) as file_object:\n",
    "    lines = file_object.readlines()\n",
    "\n",
    "pi_string = ''\n",
    "for line in lines:\n",
    "    pi_string += line.strip()\n",
    "\n",
    "print(f\"{pi_string[:52]}...\")\n",
    "print(len(pi_string))"
   ]
  },
  {
   "cell_type": "code",
   "execution_count": 22,
   "metadata": {},
   "outputs": [
    {
     "name": "stdout",
     "output_type": "stream",
     "text": [
      "Your birthday appears in the first million digits of pi!\n"
     ]
    }
   ],
   "source": [
    "# Is Your Birthday Contained in Pi?\n",
    "\n",
    "filename = 'pi_million_digits.txt'\n",
    "\n",
    "with open(filename) as file_object:\n",
    "    lines = file_object.readlines()\n",
    "\n",
    "pi_string = ''\n",
    "for line in lines:\n",
    "    pi_string += line.strip()\n",
    "\n",
    "birthday = input(\"Enter your birthday, in the form mmddyy: \")\n",
    "if birthday in pi_string:\n",
    "    print(\"Your birthday appears in the first million digits of pi!\")\n",
    "else:\n",
    "    print(\"Your birthday does not appear in the first million digits of pi.\")"
   ]
  },
  {
   "cell_type": "code",
   "execution_count": 23,
   "metadata": {},
   "outputs": [
    {
     "name": "stdout",
     "output_type": "stream",
     "text": [
      "['In Python you can create and modify lists, tuples, and dictionaries to write and store dataframes.\\n', '\\n', 'In Python you can perform mathematical functions.\\n', '\\n', 'In Python you can create classes and functions to perform operations.\\n', '\\n', 'In Python you can read and write to files for data storage and analysis.\\n', '\\n', 'In Python you can use APIs to interface with other applications and services.']\n",
      "In Python you can create and modify lists, tuples, and dictionaries to write and store dataframes.\n",
      "\n",
      "In Python you can perform mathematical functions.\n",
      "\n",
      "In Python you can create classes and functions to perform operations.\n",
      "\n",
      "In Python you can read and write to files for data storage and analysis.\n",
      "\n",
      "In Python you can use APIs to interface with other applications and services.\n",
      "In Python you can create and modify lists, tuples, and dictionaries to write and store dataframes.\n",
      "\n",
      "In Python you can perform mathematical functions.\n",
      "\n",
      "In Python you can create classes and functions to perform operations.\n",
      "\n",
      "In Python you can read and write to files for data storage and analysis.\n",
      "\n",
      "In Python you can use APIs to interface with other applications and services.\n"
     ]
    }
   ],
   "source": [
    "# 10-1\n",
    "\n",
    "filename = 'learning_python.txt'\n",
    "\n",
    "# Create a list named 'lines' that reads from the file\n",
    "with open(filename) as file_object:\n",
    "    lines = file_object.readlines()\n",
    "print(lines)\n",
    "\n",
    "for line in lines:\n",
    "    print(line.strip())\n",
    "\n",
    "with open(filename) as file_object:\n",
    "    print(file_object.read())"
   ]
  },
  {
   "cell_type": "code",
   "execution_count": 24,
   "metadata": {},
   "outputs": [
    {
     "name": "stdout",
     "output_type": "stream",
     "text": [
      "In Python you can create and modify lists, tuples, and dictionaries to write and store dataframes.\n",
      "\n",
      "In Python you can perform mathematical functions.\n",
      "\n",
      "In Python you can create classes and functions to perform operations.\n",
      "\n",
      "In Python you can read and write to files for data storage and analysis.\n",
      "\n",
      "In Python you can use APIs to interface with other applications and services.\n",
      "In C you can create and modify lists, tuples, and dictionaries to write and store dataframes.\n",
      "\n",
      "In C you can perform mathematical functions.\n",
      "\n",
      "In C you can create classes and functions to perform operations.\n",
      "\n",
      "In C you can read and write to files for data storage and analysis.\n",
      "\n",
      "In C you can use APIs to interface with other applications and services.\n",
      "In Python you can create and modify lists, tuples, and dictionaries to write and store dataframes.\n",
      "\n",
      "In Python you can perform mathematical functions.\n",
      "\n",
      "In Python you can create classes and functions to perform operations.\n",
      "\n",
      "In Python you can read and write to files for data storage and analysis.\n",
      "\n",
      "In Python you can use APIs to interface with other applications and services.\n"
     ]
    },
    {
     "data": {
      "text/plain": [
       "'In C you can create and modify lists, tuples, and dictionaries to write and store dataframes.\\n\\nIn C you can perform mathematical functions.\\n\\nIn C you can create classes and functions to perform operations.\\n\\nIn C you can read and write to files for data storage and analysis.\\n\\nIn C you can use APIs to interface with other applications and services.'"
      ]
     },
     "execution_count": 24,
     "metadata": {},
     "output_type": "execute_result"
    }
   ],
   "source": [
    "# 10-2\n",
    "\n",
    "filename = \"learning_python.txt\"\n",
    "\n",
    "with open(filename) as file_object:\n",
    "    lines = file_object.readlines()\n",
    "\n",
    "file_string = ''\n",
    "for line in lines:\n",
    "    line.replace('Python', 'C')\n",
    "    file_string += line\n",
    "\n",
    "print(file_string.strip())\n",
    "\n",
    "print(file_string.replace('Python', 'C').strip())\n",
    "\n",
    "print(file_string)\n",
    "\n",
    "file_string.replace('Python', 'C')\n",
    "\n",
    "# file_string.replace('Python','serpent')\n",
    "# print(file_string.strip())"
   ]
  },
  {
   "cell_type": "markdown",
   "metadata": {},
   "source": [
    "#### Writing to a FIle\n",
    "#### Writing to an Empty File\n",
    "\n",
    "To write text to a file, you need to call \n",
    "open() with a second argument telling\n",
    "Python that you want to write to the file.\n",
    "\n",
    "- The first argument is still the name of the file we want to open. The second argument, `'w'`, tells Python that we want to open the file in `write mode`. You can open a file in `read mode ('r')`, `write mode ('w')`, `append mode ('a')`, or a mode that allows you to `read and write to the file ('r+')`. If you omit the mode argument, *`Python opens the file in read-only mode by default`*.\n",
    "- The `open()` function automatically creates the file you’re writing to if\n",
    "it doesn’t already exist. However, be careful opening a file in write mode\n",
    "('w') because if the file does exist, Python will erase the contents of the file\n",
    "before returning the file object.\n",
    "- *Python can only write strings to a text file. If you want to store numerical data in a text file, you’ll have to convert the data to string format first using the str() function.*\n",
    "\n",
    "-- Chapter 10 Pg. 192"
   ]
  },
  {
   "cell_type": "code",
   "execution_count": 25,
   "metadata": {},
   "outputs": [],
   "source": [
    "# Writing to a FIle\n",
    "# Writing to an Empty File\n",
    "\n",
    "# To write text to a file, you need to call \n",
    "# open() with a second argument telling\n",
    "# Python that you want to write to the file.\n",
    "\n",
    "filename = 'programming.txt'\n",
    "\n",
    "with open(filename, 'w') as file_object:\n",
    "    file_object.write(\"I love programming.\")"
   ]
  },
  {
   "cell_type": "code",
   "execution_count": 26,
   "metadata": {},
   "outputs": [
    {
     "name": "stdout",
     "output_type": "stream",
     "text": [
      "I love programming.\n",
      "I love creating new games.\n"
     ]
    }
   ],
   "source": [
    "# Writing multiple lines\n",
    "\n",
    "filename = 'programming.txt'\n",
    "\n",
    "# Write to file\n",
    "with open(filename, 'w') as file_object:\n",
    "    file_object.write(\"I love programming.\\n\")\n",
    "    file_object.write(\"I love creating new games.\\n\")\n",
    "\n",
    "# Open and output file contents\n",
    "with open(filename) as file_object:\n",
    "    contents = file_object.read()\n",
    "    contents = contents.strip()\n",
    "print(contents)"
   ]
  },
  {
   "cell_type": "markdown",
   "metadata": {},
   "source": [
    "##### Appending to a File\n",
    "If you want to add content to a file instead of writing over existing content,\n",
    "you can open the file in *`append mode`*. When you open a file in append mode,\n",
    "Python doesn’t erase the contents of the file before returning the file object.\n",
    "Any lines you write to the file will be added at the end of the file. If the file\n",
    "doesn’t exist yet, Python will create an empty file for you.\n",
    "- We use the 'a' argument to open the file for appending rather than writing over the existing file."
   ]
  },
  {
   "cell_type": "code",
   "execution_count": 27,
   "metadata": {},
   "outputs": [
    {
     "name": "stdout",
     "output_type": "stream",
     "text": [
      "I love programming.\n",
      "I love creating new games.\n",
      "I also love finding meaning in large datasets.\n",
      "I love creating apps that can run in a browser.\n"
     ]
    }
   ],
   "source": [
    "# Appending to a File\n",
    "\n",
    "filename = 'programming.txt'\n",
    "\n",
    "with open(filename, 'a') as file_object:\n",
    "    file_object.write(\"I also love finding meaning in large datasets.\\n\")\n",
    "    file_object.write(\"I love creating apps that can run in a browser.\\n\")\n",
    "\n",
    "with open(filename) as file_object:\n",
    "    contents = file_object.read().strip()\n",
    "    # contents = contents.strip()\n",
    "print(contents)"
   ]
  },
  {
   "cell_type": "code",
   "execution_count": 28,
   "metadata": {},
   "outputs": [
    {
     "name": "stdout",
     "output_type": "stream",
     "text": [
      "\n"
     ]
    }
   ],
   "source": [
    "# 10-3\n",
    "\n",
    "name = input(\"What is your name? \")\n",
    "\n",
    "filename = 'guest.txt'\n",
    "\n",
    "with open(filename, 'w') as file_object:\n",
    "    file_object.write(name)\n",
    "\n",
    "with open(filename) as file_object:\n",
    "    contents = file_object.read().strip().title()    \n",
    "print(contents)"
   ]
  },
  {
   "cell_type": "code",
   "execution_count": 29,
   "metadata": {},
   "outputs": [
    {
     "name": "stdout",
     "output_type": "stream",
     "text": [
      "Enter 'quit' when you are finished.\n",
      "Hi Joe, you have been added to the guest book.\n",
      "Your entry was blank, you must enter a name.\n",
      "Your entry was blank, you must enter a name.\n",
      "Your entry was blank, you must enter a name.\n",
      "Your entry was blank, you must enter a name.\n",
      "Your entry was blank, you must enter a name.\n",
      "Your entry was blank, you must enter a name.\n",
      "Your entry was blank, you must enter a name.\n",
      "Your entry was blank, you must enter a name.\n",
      "Your entry was blank, you must enter a name.\n",
      "Your entry was blank, you must enter a name.\n",
      "Your entry was blank, you must enter a name.\n",
      "Your entry was blank, you must enter a name.\n",
      "Your entry was blank, you must enter a name.\n",
      "Mike\n",
      "Sally\n",
      "Dale\n",
      "Sharon\n",
      "Joe\n",
      "Kip\n",
      "Emily\n",
      "Joe\n",
      "Dale\n",
      "Mike\n",
      "Sally\n",
      "Joe\n",
      "Dale\n",
      "Joe\n"
     ]
    }
   ],
   "source": [
    "# 10-4\n",
    "\n",
    "filename = 'guest_book.txt'\n",
    "\n",
    "print(\"Enter 'quit' when you are finished.\")\n",
    "while True:\n",
    "    name = input(\"What is your name? \")\n",
    "    if name == 'quit':\n",
    "        break\n",
    "    elif name == '':\n",
    "        print(\"Your entry was blank, you must enter a name.\")\n",
    "    elif name in filename:\n",
    "        print(f\"{name.title} is already in the list.\")\n",
    "    else:\n",
    "        with open (filename, 'a') as file_object:\n",
    "            file_object.write(f\"{name.lower()}\\n\")\n",
    "        print(f\"Hi {name.title()}, you have been added to the guest book.\")\n",
    "\n",
    "with open(filename) as file_object:\n",
    "    guest_book = file_object.read().strip().title()\n",
    "print(guest_book)"
   ]
  },
  {
   "cell_type": "code",
   "execution_count": 30,
   "metadata": {},
   "outputs": [
    {
     "name": "stdout",
     "output_type": "stream",
     "text": [
      "Make Dat Monnneeeeyyyyyyyy\n",
      "Spend Dat Monnneeeeyyyyyyyy\n",
      "Just Cuz\n",
      "Make Dat Monnnneeeeyyyy\n",
      "Stuff\n",
      "Quit\n",
      "Quit\n"
     ]
    }
   ],
   "source": [
    "# 10-5\n",
    "\n",
    "filename = 'programming_poll.txt'\n",
    "\n",
    "responses = []\n",
    "while True:\n",
    "    response = input(\"\\nWhy do you like programming?\")\n",
    "    responses.append(response)\n",
    "\n",
    "    continue_poll = input(\"\\nWould you like to let someone else respond? (y/n) \")\n",
    "    if continue_poll == 'n':\n",
    "        break\n",
    "\n",
    "with open(filename, 'a') as file_object:\n",
    "    for response in responses:\n",
    "        file_object.write(f\"{response}\\n\")\n",
    "\n",
    "with open(filename) as file_object:\n",
    "    programming_poll_results = file_object.read().strip().title()\n",
    "print(programming_poll_results)"
   ]
  },
  {
   "cell_type": "markdown",
   "metadata": {},
   "source": [
    "### Exceptions"
   ]
  },
  {
   "cell_type": "code",
   "execution_count": 31,
   "metadata": {},
   "outputs": [
    {
     "name": "stdout",
     "output_type": "stream",
     "text": [
      "You can't divide by zero!\n"
     ]
    }
   ],
   "source": [
    "# Handling the ZeroDivisionError Exception\n",
    "# Using try-except Blocks\n",
    "\n",
    "try:\n",
    "    print(5/0)\n",
    "except ZeroDivisionError:\n",
    "    print(\"You can't divide by zero!\")"
   ]
  },
  {
   "cell_type": "code",
   "execution_count": 32,
   "metadata": {},
   "outputs": [],
   "source": [
    "# # Using Exceptions to Prevent Crashes\n",
    "\n",
    "# print(\"Give me two numbers, and I'll divide them.\")\n",
    "# print(\"Enter 'q' to quit.\")\n",
    "\n",
    "# while True:\n",
    "#     first_number = input(\"\\nFirst number: \")\n",
    "#     if first_number == 'q':\n",
    "#         break\n",
    "#     second_number = input(\"Second number: \")\n",
    "#     if second_number == 'q':\n",
    "#         break\n",
    "#     answer = int(first_number) / int(second_number)\n",
    "#     print(answer)"
   ]
  },
  {
   "cell_type": "code",
   "execution_count": 33,
   "metadata": {},
   "outputs": [
    {
     "name": "stdout",
     "output_type": "stream",
     "text": [
      "Give me two numbers, and I'll divide them.\n",
      "Enter 'q' to quit.\n",
      "0.5\n"
     ]
    },
    {
     "ename": "ValueError",
     "evalue": "invalid literal for int() with base 10: ''",
     "output_type": "error",
     "traceback": [
      "\u001b[0;31m---------------------------------------------------------------------------\u001b[0m",
      "\u001b[0;31mValueError\u001b[0m                                Traceback (most recent call last)",
      "\u001b[1;32m/home/voodoo/_Projects/_Repos/Python-Crash-Course/study_group/try_it_2.ipynb Cell 45'\u001b[0m in \u001b[0;36m<cell line: 7>\u001b[0;34m()\u001b[0m\n\u001b[1;32m     <a href='vscode-notebook-cell://wsl%2Bubuntu/home/voodoo/_Projects/_Repos/Python-Crash-Course/study_group/try_it_2.ipynb#ch0000044vscode-remote?line=11'>12</a>\u001b[0m     \u001b[39mbreak\u001b[39;00m\n\u001b[1;32m     <a href='vscode-notebook-cell://wsl%2Bubuntu/home/voodoo/_Projects/_Repos/Python-Crash-Course/study_group/try_it_2.ipynb#ch0000044vscode-remote?line=12'>13</a>\u001b[0m \u001b[39mtry\u001b[39;00m:\n\u001b[0;32m---> <a href='vscode-notebook-cell://wsl%2Bubuntu/home/voodoo/_Projects/_Repos/Python-Crash-Course/study_group/try_it_2.ipynb#ch0000044vscode-remote?line=13'>14</a>\u001b[0m     answer \u001b[39m=\u001b[39m \u001b[39mint\u001b[39;49m(first_number) \u001b[39m/\u001b[39m \u001b[39mint\u001b[39m(second_number)\n\u001b[1;32m     <a href='vscode-notebook-cell://wsl%2Bubuntu/home/voodoo/_Projects/_Repos/Python-Crash-Course/study_group/try_it_2.ipynb#ch0000044vscode-remote?line=14'>15</a>\u001b[0m \u001b[39mexcept\u001b[39;00m \u001b[39mZeroDivisionError\u001b[39;00m:\n\u001b[1;32m     <a href='vscode-notebook-cell://wsl%2Bubuntu/home/voodoo/_Projects/_Repos/Python-Crash-Course/study_group/try_it_2.ipynb#ch0000044vscode-remote?line=15'>16</a>\u001b[0m     \u001b[39mprint\u001b[39m(\u001b[39m\"\u001b[39m\u001b[39mYou can\u001b[39m\u001b[39m'\u001b[39m\u001b[39mt divide by 0!\u001b[39m\u001b[39m\"\u001b[39m)\n",
      "\u001b[0;31mValueError\u001b[0m: invalid literal for int() with base 10: ''"
     ]
    }
   ],
   "source": [
    "# The else Block\n",
    "\n",
    "print(\"Give me two numbers, and I'll divide them.\")\n",
    "print(\"Enter 'q' to quit.\")\n",
    "\n",
    "while True:\n",
    "    first_number = input(\"\\nFirst number: \")\n",
    "    if first_number == 'q':\n",
    "        break\n",
    "    second_number = input(\"Second number: \")\n",
    "    if second_number == 'q':\n",
    "        break\n",
    "    try:\n",
    "        answer = int(first_number) / int(second_number)\n",
    "    except ZeroDivisionError:\n",
    "        print(\"You can't divide by 0!\")\n",
    "    else:\n",
    "        print(answer)"
   ]
  },
  {
   "cell_type": "code",
   "execution_count": null,
   "metadata": {},
   "outputs": [
    {
     "ename": "",
     "evalue": "",
     "output_type": "error",
     "traceback": [
      "\u001b[1;31mRunning cells with 'Python 3.8.10 64-bit' requires ipykernel package.\n",
      "Run the following command to install 'ipykernel' into the Python environment. \n",
      "Command: '/usr/bin/python3 -m pip install ipykernel -U --user --force-reinstall'"
     ]
    },
    {
     "ename": "",
     "evalue": "",
     "output_type": "error",
     "traceback": [
      "\u001b[1;31mRunning cells with 'Python 3.8.10 64-bit' requires ipykernel package.\n",
      "Run the following command to install 'ipykernel' into the Python environment. \n",
      "Command: '/usr/bin/python3 -m pip install ipykernel -U --user --force-reinstall'"
     ]
    }
   ],
   "source": [
    "# Handling the FileNotFoundError Exception\n",
    "\n",
    "# The encoding argument is needed when your system’s default\n",
    "# encoding doesn’t match the encoding of the file that’s being read.\n",
    "\n",
    "filename = 'alice.txt'\n",
    "\n",
    "try:\n",
    "    with open(filename, encoding='utf-8') as file_object:\n",
    "        contents = file_object.read()\n",
    "except FileNotFoundError:\n",
    "    print(f\"Sorry, the file {filename} does not exist.\")"
   ]
  },
  {
   "cell_type": "code",
   "execution_count": 39,
   "metadata": {},
   "outputs": [
    {
     "name": "stdout",
     "output_type": "stream",
     "text": [
      "The file alice.txt has about 29465 words.\n"
     ]
    }
   ],
   "source": [
    "# Analyzing Text\n",
    "\n",
    "title = \"Alice in Wonderland\"\n",
    "title.split()\n",
    "\n",
    "filename = 'alice.txt'\n",
    "\n",
    "try:\n",
    "    with open(filename, encoding='utf-8') as file_object:\n",
    "        contents = file_object.read()\n",
    "except FileNotFoundError:\n",
    "    print(f\"Sorry, the file {filename} does not exist.\")\n",
    "else:\n",
    "    # Count the approximate number of words in the file.\n",
    "    words = contents.split()\n",
    "    num_words = len(words)\n",
    "    print(f\"The file {filename} has about {num_words} words.\")"
   ]
  },
  {
   "cell_type": "code",
   "execution_count": 38,
   "metadata": {},
   "outputs": [
    {
     "name": "stdout",
     "output_type": "stream",
     "text": [
      "The file alice.txt has about 29465 words.\n",
      "Sorry, the file siddhartha.txt does not exist.\n",
      "Sorry, the file moby_dick.txt does not exist.\n",
      "Sorry, the file little_women.txt does not exist.\n"
     ]
    }
   ],
   "source": [
    "# Working with Multiple Files\n",
    "\n",
    "def count_words(filename):\n",
    "    \"\"\"Count the approximate number of words in a file.\"\"\"\n",
    "    try:\n",
    "        with open(filename, encoding='utf-8') as file_object:\n",
    "            contents = file_object.read()\n",
    "    except FileNotFoundError:\n",
    "        print(f\"Sorry, the file {filename} does not exist.\")\n",
    "    else:\n",
    "        words = contents.split()\n",
    "        num_words = len(words)\n",
    "        print(f\"The file {filename} has about {num_words} words.\")\n",
    "\n",
    "# filename = 'alice.txt'\n",
    "# count_words(filename)\n",
    "\n",
    "filenames = ['alice.txt', 'siddhartha.txt', 'moby_dick.txt', 'little_women.txt']\n",
    "for filename in filenames:\n",
    "    count_words(filename)"
   ]
  },
  {
   "cell_type": "code",
   "execution_count": 37,
   "metadata": {},
   "outputs": [
    {
     "name": "stdout",
     "output_type": "stream",
     "text": [
      "The file alice.txt has about 29465 words.\n"
     ]
    }
   ],
   "source": [
    "# Failing Silently\n",
    "\n",
    "def count_words(filename):\n",
    "    \"\"\"Count the approximate number of words in a file.\"\"\"\n",
    "    try:\n",
    "        with open(filename, encoding='utf-8') as file_object:\n",
    "            contents = file_object.read()\n",
    "    except FileNotFoundError:\n",
    "        pass\n",
    "    else:\n",
    "        words = contents.split()\n",
    "        num_words = len(words)\n",
    "        print(f\"The file {filename} has about {num_words} words.\")\n",
    "\n",
    "# filename = 'alice.txt'\n",
    "# count_words(filename)\n",
    "\n",
    "filenames = ['alice.txt', 'siddhartha.txt', 'moby_dick.txt', 'little_women.txt']\n",
    "for filename in filenames:\n",
    "    count_words(filename)"
   ]
  },
  {
   "cell_type": "code",
   "execution_count": 41,
   "metadata": {},
   "outputs": [
    {
     "ename": "TypeError",
     "evalue": "unsupported operand type(s) for +: 'set' and 'set'",
     "output_type": "error",
     "traceback": [
      "\u001b[0;31m---------------------------------------------------------------------------\u001b[0m",
      "\u001b[0;31mTypeError\u001b[0m                                 Traceback (most recent call last)",
      "\u001b[1;32m/home/voodoo/_Projects/_Repos/Python-Crash-Course/study_group/try_it_2.ipynb Cell 50'\u001b[0m in \u001b[0;36m<cell line: 13>\u001b[0;34m()\u001b[0m\n\u001b[1;32m     <a href='vscode-notebook-cell://wsl%2Bubuntu/home/voodoo/_Projects/_Repos/Python-Crash-Course/study_group/try_it_2.ipynb#ch0000049vscode-remote?line=9'>10</a>\u001b[0m     \u001b[39melse\u001b[39;00m:\n\u001b[1;32m     <a href='vscode-notebook-cell://wsl%2Bubuntu/home/voodoo/_Projects/_Repos/Python-Crash-Course/study_group/try_it_2.ipynb#ch0000049vscode-remote?line=10'>11</a>\u001b[0m         \u001b[39mreturn\u001b[39;00m \u001b[39m\"\u001b[39m\u001b[39mThis isn\u001b[39m\u001b[39m'\u001b[39m\u001b[39mt working...\u001b[39m\u001b[39m\"\u001b[39m\n\u001b[0;32m---> <a href='vscode-notebook-cell://wsl%2Bubuntu/home/voodoo/_Projects/_Repos/Python-Crash-Course/study_group/try_it_2.ipynb#ch0000049vscode-remote?line=12'>13</a>\u001b[0m add_numbers(\u001b[39m1\u001b[39;49m,\u001b[39m6\u001b[39;49m)\n",
      "\u001b[1;32m/home/voodoo/_Projects/_Repos/Python-Crash-Course/study_group/try_it_2.ipynb Cell 50'\u001b[0m in \u001b[0;36madd_numbers\u001b[0;34m(value1, value2)\u001b[0m\n\u001b[1;32m      <a href='vscode-notebook-cell://wsl%2Bubuntu/home/voodoo/_Projects/_Repos/Python-Crash-Course/study_group/try_it_2.ipynb#ch0000049vscode-remote?line=3'>4</a>\u001b[0m \u001b[39m\"\"\"Adds two numbers together\"\"\"\u001b[39;00m\n\u001b[1;32m      <a href='vscode-notebook-cell://wsl%2Bubuntu/home/voodoo/_Projects/_Repos/Python-Crash-Course/study_group/try_it_2.ipynb#ch0000049vscode-remote?line=4'>5</a>\u001b[0m \u001b[39mtry\u001b[39;00m:\n\u001b[0;32m----> <a href='vscode-notebook-cell://wsl%2Bubuntu/home/voodoo/_Projects/_Repos/Python-Crash-Course/study_group/try_it_2.ipynb#ch0000049vscode-remote?line=5'>6</a>\u001b[0m     result \u001b[39m=\u001b[39m {value1} \u001b[39m+\u001b[39;49m {value2}\n\u001b[1;32m      <a href='vscode-notebook-cell://wsl%2Bubuntu/home/voodoo/_Projects/_Repos/Python-Crash-Course/study_group/try_it_2.ipynb#ch0000049vscode-remote?line=6'>7</a>\u001b[0m     \u001b[39mprint\u001b[39m(result)\n\u001b[1;32m      <a href='vscode-notebook-cell://wsl%2Bubuntu/home/voodoo/_Projects/_Repos/Python-Crash-Course/study_group/try_it_2.ipynb#ch0000049vscode-remote?line=7'>8</a>\u001b[0m \u001b[39mexcept\u001b[39;00m \u001b[39mValueError\u001b[39;00m:\n",
      "\u001b[0;31mTypeError\u001b[0m: unsupported operand type(s) for +: 'set' and 'set'"
     ]
    }
   ],
   "source": [
    "# 10-6\n",
    "\n",
    "def add_numbers(value1, value2):\n",
    "    \"\"\"Adds two numbers together\"\"\"\n",
    "    try:\n",
    "        result = {value1} + {value2}\n",
    "        print(result)\n",
    "    except ValueError:\n",
    "        pass\n",
    "    else:\n",
    "        return \"This isn't working...\"\n",
    "    \n",
    "add_numbers(1,6)\n",
    " "
   ]
  },
  {
   "cell_type": "code",
   "execution_count": null,
   "metadata": {},
   "outputs": [],
   "source": []
  }
 ],
 "metadata": {
  "kernelspec": {
   "display_name": "Python 3.8.10 64-bit",
   "language": "python",
   "name": "python3"
  },
  "language_info": {
   "codemirror_mode": {
    "name": "ipython",
    "version": 3
   },
   "file_extension": ".py",
   "mimetype": "text/x-python",
   "name": "python",
   "nbconvert_exporter": "python",
   "pygments_lexer": "ipython3",
   "version": "3.8.10"
  },
  "orig_nbformat": 4,
  "vscode": {
   "interpreter": {
    "hash": "31f2aee4e71d21fbe5cf8b01ff0e069b9275f58929596ceb00d14d90e3e16cd6"
   }
  }
 },
 "nbformat": 4,
 "nbformat_minor": 2
}
