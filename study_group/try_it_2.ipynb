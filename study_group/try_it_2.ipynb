{
 "cells": [
  {
   "cell_type": "code",
   "execution_count": 1,
   "metadata": {},
   "outputs": [
    {
     "name": "stdout",
     "output_type": "stream",
     "text": [
      "2019 Audi A4\n",
      "The 2019 Audi A4 has 23 miles on it.\n"
     ]
    }
   ],
   "source": [
    "from car import Car\n",
    "\n",
    "my_new_car = Car('audi', 'a4', 2019)\n",
    "print(my_new_car.get_descriptive_name())\n",
    "\n",
    "my_new_car.odometer_reading = 23\n",
    "my_new_car.read_odometer()"
   ]
  },
  {
   "cell_type": "code",
   "execution_count": 2,
   "metadata": {},
   "outputs": [
    {
     "name": "stdout",
     "output_type": "stream",
     "text": [
      "2019 Tesla Model S\n",
      "The 2019 Tesla Model S has a 75-kWh battery.\n",
      "The 2019 Tesla Model S has a 75-kWh battery and can go about 260 miles on full charge.\n"
     ]
    }
   ],
   "source": [
    "from car import ElectricCar\n",
    "\n",
    "my_tesla = ElectricCar('tesla', 'model s', 2019)\n",
    "\n",
    "print(my_tesla.get_descriptive_name())\n",
    "print(my_tesla.battery.describe_battery())\n",
    "print(my_tesla.battery.get_range())"
   ]
  },
  {
   "cell_type": "code",
   "execution_count": 3,
   "metadata": {},
   "outputs": [
    {
     "name": "stdout",
     "output_type": "stream",
     "text": [
      "2019 Volkswagen Beetle\n",
      "2019 Tesle Roadster\n"
     ]
    }
   ],
   "source": [
    "# Importing Multiple Classes from a Module\n",
    "from car import Car, ElectricCar\n",
    "\n",
    "my_beetle = Car('volkswagen', 'beetle', 2019)\n",
    "print(my_beetle.get_descriptive_name())\n",
    "\n",
    "my_tesla = Car('tesle', 'roadster', 2019)\n",
    "print(my_tesla.get_descriptive_name())"
   ]
  },
  {
   "cell_type": "code",
   "execution_count": 4,
   "metadata": {},
   "outputs": [],
   "source": [
    "# Importing an Entire Module\n",
    "from car import *"
   ]
  },
  {
   "cell_type": "code",
   "execution_count": 5,
   "metadata": {},
   "outputs": [
    {
     "name": "stdout",
     "output_type": "stream",
     "text": [
      "2019 Volkswagen Beetle\n",
      "2019 Tesle Roadster\n"
     ]
    }
   ],
   "source": [
    "# Importing a Module into a Module\n",
    "from car import Car\n",
    "from car import ElectricCar\n",
    "\n",
    "my_beetle = Car('volkswagen', 'beetle', 2019)\n",
    "print(my_beetle.get_descriptive_name())\n",
    "\n",
    "my_tesla = Car('tesle', 'roadster', 2019)\n",
    "print(my_tesla.get_descriptive_name())"
   ]
  },
  {
   "cell_type": "code",
   "execution_count": 6,
   "metadata": {},
   "outputs": [
    {
     "name": "stdout",
     "output_type": "stream",
     "text": [
      "2019 Tesla Roadster\n"
     ]
    }
   ],
   "source": [
    "# Using Aliases\n",
    "from car import ElectricCar as EC\n",
    "\n",
    "my_tesla = EC('tesla', 'roadster', 2019)\n",
    "print(my_tesla.get_descriptive_name())"
   ]
  },
  {
   "cell_type": "markdown",
   "metadata": {},
   "source": [
    "9-10. Imported Restaurant: Using your latest Restaurant class, store it in a module.\n",
    "Make a separate file that imports Restaurant. Make a Restaurant instance,\n",
    "and call one of Restaurant’s methods to show that the import statement is working\n",
    "properly."
   ]
  },
  {
   "cell_type": "code",
   "execution_count": 7,
   "metadata": {},
   "outputs": [
    {
     "name": "stdout",
     "output_type": "stream",
     "text": [
      "Dave'S Pizza Joint offers pizza as a cuisine option.\n"
     ]
    }
   ],
   "source": [
    "from restaurant import Restaurant\n",
    "\n",
    "my_restaurant = Restaurant(\"dave's pizza joint\", 'pizza')\n",
    "print(my_restaurant.describe_restaurant())"
   ]
  },
  {
   "cell_type": "markdown",
   "metadata": {},
   "source": [
    "9-11. Imported Admin: Start with your work from Exercise 9-8 (page 173).\n",
    "Store the classes User, Privileges, and Admin in one module. Create a separate\n",
    "file, make an Admin instance, and call show_privileges() to show that\n",
    "everything is working correctly."
   ]
  },
  {
   "cell_type": "code",
   "execution_count": 8,
   "metadata": {},
   "outputs": [
    {
     "name": "stdout",
     "output_type": "stream",
     "text": [
      "User: John Jacob\n",
      " Username: j_jacob\n",
      " Email: j_jacob@example.com\n",
      " Location: Alaska\n",
      "\n",
      "John Jacob has the current privileges of:\n",
      "None\n",
      "\n",
      "John Jacob has the current privileges of:\n",
      "- can reset passwords\n",
      "- can moderate discussions\n",
      "- can suspend accounts\n",
      "None\n"
     ]
    }
   ],
   "source": [
    "from user import User, Admin, Privileges\n",
    "\n",
    "admin_privileges = Admin(\"john\", \"jacob\", \"j_jacob\", \"j_jacob@example.com\", \"alaska\")\n",
    "\n",
    "print(admin_privileges.describe_user())\n",
    "print(admin_privileges.privileges.show_privileges())\n",
    "\n",
    "privileges = [\n",
    "    'can reset passwords',\n",
    "    'can moderate discussions',\n",
    "    'can suspend accounts',\n",
    "    ]\n",
    "\n",
    "# user2.privileges.privileges = user2_privileges\n",
    "\n",
    "admin_privileges.privileges.privileges = privileges\n",
    "\n",
    "print(admin_privileges.privileges.show_privileges())"
   ]
  },
  {
   "cell_type": "markdown",
   "metadata": {},
   "source": [
    "9-12. Multiple Modules: Store the User class in one module, and store the\n",
    "Privileges and Admin classes in a separate module. In a separate file, create\n",
    "an Admin instance and call show_privileges() to show that everything is still\n",
    "working correctly."
   ]
  },
  {
   "cell_type": "code",
   "execution_count": 9,
   "metadata": {},
   "outputs": [
    {
     "name": "stdout",
     "output_type": "stream",
     "text": [
      "User: John Jacob\n",
      " Username: j_jacob\n",
      " Email: j_jacob@example.com\n",
      " Location: Alaska\n",
      "\n",
      "John Jacob has the current privileges of:\n",
      "None\n",
      "\n",
      "John Jacob has the current privileges of:\n",
      "- can reset passwords\n",
      "- can moderate discussions\n",
      "- can suspend accounts\n",
      "None\n"
     ]
    }
   ],
   "source": [
    "from user import User, Admin, Privileges\n",
    "\n",
    "admin_privileges = Admin(\"john\", \"jacob\", \"j_jacob\", \"j_jacob@example.com\", \"alaska\")\n",
    "\n",
    "print(admin_privileges.describe_user())\n",
    "print(admin_privileges.privileges.show_privileges())\n",
    "\n",
    "privileges = [\n",
    "    'can reset passwords',\n",
    "    'can moderate discussions',\n",
    "    'can suspend accounts',\n",
    "    ]\n",
    "\n",
    "# user2.privileges.privileges = user2_privileges\n",
    "\n",
    "admin_privileges.privileges.privileges = privileges\n",
    "\n",
    "print(admin_privileges.privileges.show_privileges())"
   ]
  },
  {
   "cell_type": "markdown",
   "metadata": {},
   "source": [
    "## The Python Standard Library\n",
    "The Python standard library is a set of modules included with every Python\n",
    "installation.\n",
    "\n",
    "`The random module shouldn’t be used when building security-related\n",
    "applications`"
   ]
  },
  {
   "cell_type": "code",
   "execution_count": 10,
   "metadata": {},
   "outputs": [],
   "source": [
    "# from random import randint\n",
    "\n",
    "# randint(1, 6)"
   ]
  },
  {
   "cell_type": "code",
   "execution_count": 11,
   "metadata": {},
   "outputs": [
    {
     "data": {
      "text/plain": [
       "'charles'"
      ]
     },
     "execution_count": 11,
     "metadata": {},
     "output_type": "execute_result"
    }
   ],
   "source": [
    "from random import choice\n",
    "\n",
    "players = ['charles', 'martina', 'michael', 'florence', 'eli']\n",
    "first_up = choice(players)\n",
    "first_up"
   ]
  },
  {
   "cell_type": "markdown",
   "metadata": {},
   "source": [
    "9-13. Dice: Make a class Die with one attribute called sides, which has a default\n",
    "value of 6. Write a method called roll_die() that prints a random number\n",
    "between 1 and the number of sides the die has. Make a 6-sided die and roll it\n",
    "10 times.\n",
    "Make a 10-sided die and a 20-sided die. Roll each die 10 times."
   ]
  },
  {
   "cell_type": "code",
   "execution_count": 12,
   "metadata": {},
   "outputs": [
    {
     "name": "stdout",
     "output_type": "stream",
     "text": [
      "You rolled a 6.\n",
      "You rolled a 4.\n",
      "You rolled a 2.\n",
      "You rolled a 4.\n",
      "You rolled a 1.\n",
      "You rolled a 4.\n",
      "You rolled a 6.\n",
      "You rolled a 6.\n",
      "You rolled a 6.\n",
      "You rolled a 2.\n",
      "You rolled a 6.\n",
      "You rolled a 8.\n",
      "You rolled a 8.\n",
      "You rolled a 5.\n",
      "You rolled a 6.\n",
      "You rolled a 1.\n",
      "You rolled a 8.\n",
      "You rolled a 10.\n",
      "You rolled a 6.\n",
      "You rolled a 10.\n",
      "You rolled a 2.\n",
      "You rolled a 17.\n",
      "You rolled a 17.\n",
      "You rolled a 16.\n",
      "You rolled a 4.\n",
      "You rolled a 20.\n",
      "You rolled a 4.\n",
      "You rolled a 5.\n",
      "You rolled a 13.\n",
      "You rolled a 11.\n"
     ]
    }
   ],
   "source": [
    "from dice import Die\n",
    "\n",
    "dice_roll = Die(6)\n",
    "number_of_rolls = 0\n",
    "while number_of_rolls < 10:\n",
    "    dice_roll.roll_die()\n",
    "    number_of_rolls += 1\n",
    "\n",
    "dice_roll = Die(10)\n",
    "number_of_rolls = 0\n",
    "while number_of_rolls < 10:\n",
    "    dice_roll.roll_die()\n",
    "    number_of_rolls += 1\n",
    "\n",
    "dice_roll = Die(20)\n",
    "number_of_rolls = 0\n",
    "while number_of_rolls < 10:\n",
    "    dice_roll.roll_die()\n",
    "    number_of_rolls += 1"
   ]
  },
  {
   "cell_type": "code",
   "execution_count": 13,
   "metadata": {},
   "outputs": [
    {
     "name": "stdout",
     "output_type": "stream",
     "text": [
      "You rolled a 4.\n",
      "You rolled a 6.\n",
      "You rolled a 1.\n",
      "You rolled a 5.\n",
      "You rolled a 3.\n",
      "You rolled a 5.\n",
      "You rolled a 6.\n",
      "You rolled a 5.\n",
      "You rolled a 1.\n",
      "You rolled a 3.\n",
      "You rolled a 1.\n",
      "You rolled a 4.\n",
      "You rolled a 3.\n",
      "You rolled a 8.\n",
      "You rolled a 6.\n",
      "You rolled a 3.\n",
      "You rolled a 8.\n",
      "You rolled a 4.\n",
      "You rolled a 2.\n",
      "You rolled a 6.\n",
      "You rolled a 1.\n",
      "You rolled a 20.\n",
      "You rolled a 8.\n",
      "You rolled a 18.\n",
      "You rolled a 7.\n",
      "You rolled a 7.\n",
      "You rolled a 17.\n",
      "You rolled a 11.\n",
      "You rolled a 10.\n",
      "You rolled a 4.\n"
     ]
    }
   ],
   "source": [
    "# 9-13\n",
    "from dice import Die\n",
    "\n",
    "# Make a 6-sided die, and show the results of 10 rolls.\n",
    "dice_roll = Die(6)\n",
    "number_of_rolls = 0\n",
    "while number_of_rolls < 10:\n",
    "    dice_roll.roll_die()\n",
    "    number_of_rolls += 1\n",
    "\n",
    "# Make a 10-sided die, and show the results of 10 rolls.\n",
    "dice_roll = Die(10)\n",
    "number_of_rolls = 0\n",
    "while number_of_rolls < 10:\n",
    "    dice_roll.roll_die()\n",
    "    number_of_rolls += 1\n",
    "\n",
    "# Make a 20-sided die, and show the results of 10 rolls.\n",
    "dice_roll = Die(20)\n",
    "number_of_rolls = 0\n",
    "while number_of_rolls < 10:\n",
    "    dice_roll.roll_die()\n",
    "    number_of_rolls += 1"
   ]
  },
  {
   "cell_type": "code",
   "execution_count": 14,
   "metadata": {},
   "outputs": [
    {
     "name": "stdout",
     "output_type": "stream",
     "text": [
      "Any ticket matching there four numbers or letters wins a prize:\n",
      "\n",
      "[8, 10, 5, 9, 2]\n"
     ]
    }
   ],
   "source": [
    "# 9-14\n",
    "from random import choice\n",
    "\n",
    "lottery_list = (1, 2, 3, 4, 5, 6, 7, 8, 9, 10, 'a', 'e', 'i', 'o', 'u')\n",
    "\n",
    "lottery_selection = []\n",
    "for i in range(5):\n",
    "    selection = choice(lottery_list)\n",
    "    lottery_selection.append(selection)\n",
    "\n",
    "print(f\"Any ticket matching there four numbers or letters wins a prize:\\n\")\n",
    "print(lottery_selection)\n",
    "\n",
    "### DOES NOT WORK\n",
    "# lottery_selection = [lottery_list*5 for lottery_list in range(5)]\n",
    "\n",
    "# print(choice(lottery_selection))"
   ]
  },
  {
   "cell_type": "code",
   "execution_count": 15,
   "metadata": {},
   "outputs": [
    {
     "name": "stdout",
     "output_type": "stream",
     "text": [
      "Let's see what the winning ticket is...\n",
      "  We pulled a 1!\n",
      "  We pulled a b!\n",
      "  We pulled a 8!\n",
      "  We pulled a e!\n"
     ]
    }
   ],
   "source": [
    "# 9-14\n",
    "from random import choice\n",
    "\n",
    "possibilities = [1, 2, 3, 4, 5, 6, 7, 8, 9, 10, 'a', 'b', 'c', 'd', 'e']\n",
    "\n",
    "winning_ticket = []\n",
    "print(\"Let's see what the winning ticket is...\")\n",
    "\n",
    "# We don't want to repeat winning numbers or letters, so we'll use a\n",
    "#   while loop.\n",
    "while len(winning_ticket) < 4:\n",
    "    pulled_item = choice(possibilities)\n",
    "\n",
    "    # Only add the pulled item to the winning ticket if it hasn't\n",
    "    #   already been pulled.\n",
    "    if pulled_item not in winning_ticket:\n",
    "        print(f\"  We pulled a {pulled_item}!\")\n",
    "        winning_ticket.append(pulled_item)"
   ]
  },
  {
   "cell_type": "code",
   "execution_count": 16,
   "metadata": {},
   "outputs": [
    {
     "name": "stdout",
     "output_type": "stream",
     "text": [
      "We have a winning ticket!\n",
      "Your ticket: [2, 5, 20, 'a']\n",
      "Winning ticket: [20, 2, 5, 'a']\n",
      "It only took 3368 tries to win!\n"
     ]
    }
   ],
   "source": [
    "# 9-15\n",
    "from random import choice\n",
    "\n",
    "def get_winning_ticket(possibilities):\n",
    "    \"\"\"Return a winning ticket from a set of possibilities.\"\"\"\n",
    "    winning_ticket = []\n",
    "\n",
    "    # We don't want to repeat winning numbers or letters, so we'll use a\n",
    "    #   while loop.\n",
    "    while len(winning_ticket) < 4:\n",
    "        pulled_item = choice(possibilities)\n",
    "\n",
    "        # Only add the pulled item to the winning ticket if it hasn't\n",
    "        #   already been pulled.\n",
    "        if pulled_item not in winning_ticket:\n",
    "            winning_ticket.append(pulled_item)\n",
    "\n",
    "    return winning_ticket\n",
    "\n",
    "def check_ticket(played_ticket, winning_ticket):\n",
    "    # Check all elements in the played ticket. If any are not in the \n",
    "    #   winning ticket, return False.\n",
    "    for element in played_ticket:\n",
    "        if element not in winning_ticket:\n",
    "            return False\n",
    "\n",
    "    # We must have a winning ticket!\n",
    "    return True\n",
    "\n",
    "def make_random_ticket(possibilities):\n",
    "    \"\"\"Return a random ticket from a set of possibilities.\"\"\"\n",
    "    ticket = []\n",
    "    # We don't want to repeat numbers or letters, so we'll use a while loop.\n",
    "    while len(ticket) < 4:\n",
    "        pulled_item = choice(possibilities)\n",
    "\n",
    "        # Only add the pulled item to the ticket if it hasn't already\n",
    "        #   been pulled.\n",
    "        if pulled_item not in ticket:\n",
    "            ticket.append(pulled_item)\n",
    "\n",
    "    return ticket\n",
    "\n",
    "\n",
    "possibilities = [1, 2, 3, 4, 5, 6, 7, 8, 9, 10, 11, 12, 13, 14, 15, 16, 17, 18, 19, 20, 'a', 'b', 'c', 'd', 'e', 'f', 'g']\n",
    "winning_ticket = get_winning_ticket(possibilities)\n",
    "\n",
    "plays = 0\n",
    "won = False\n",
    "\n",
    "# Let's set a max number of tries, in case this takes forever!\n",
    "max_tries = 1_000_000\n",
    "\n",
    "while not won:\n",
    "    new_ticket = make_random_ticket(possibilities)\n",
    "    won = check_ticket(new_ticket, winning_ticket)\n",
    "    plays += 1\n",
    "    if plays >= max_tries:\n",
    "        break\n",
    "\n",
    "if won:\n",
    "    print(\"We have a winning ticket!\")\n",
    "    print(f\"Your ticket: {new_ticket}\")\n",
    "    print(f\"Winning ticket: {winning_ticket}\")\n",
    "    print(f\"It only took {plays} tries to win!\")\n",
    "else:\n",
    "    print(f\"Tried {plays} times, without pulling a winner. :(\")\n",
    "    print(f\"Your ticket: {new_ticket}\")\n",
    "    print(f\"Winning ticket: {winning_ticket}\")"
   ]
  },
  {
   "cell_type": "markdown",
   "metadata": {},
   "source": [
    "## Ch. 10 - Files and Exceptions"
   ]
  },
  {
   "cell_type": "code",
   "execution_count": 17,
   "metadata": {},
   "outputs": [
    {
     "name": "stdout",
     "output_type": "stream",
     "text": [
      "3.1415926535\n",
      "8979323846\n",
      "2643383279\n"
     ]
    }
   ],
   "source": [
    "# Reading from a file\n",
    "# Reading an entire file\n",
    "# The keyword 'with' closes the file once access to it is no longer needed.\n",
    "with open('pi_digits.txt') as file_object:\n",
    "    contents = file_object.read()\n",
    "    contents = contents.rstrip()\n",
    "print(contents)\n",
    "# print(contents.rstrip())   # .rstrip() referenced on pg. 185"
   ]
  },
  {
   "cell_type": "code",
   "execution_count": 18,
   "metadata": {},
   "outputs": [
    {
     "name": "stdout",
     "output_type": "stream",
     "text": [
      "3.1415926535\n",
      "8979323846\n",
      "2643383279\n"
     ]
    }
   ],
   "source": [
    "# File Paths pp. 185-186\n",
    "# Reading line by line pg. 187\n",
    "filename = 'pi_digits.txt'\n",
    "\n",
    "with open(filename) as file_object:\n",
    "    for line in file_object:\n",
    "        print(line.rstrip())"
   ]
  },
  {
   "cell_type": "code",
   "execution_count": null,
   "metadata": {},
   "outputs": [],
   "source": []
  }
 ],
 "metadata": {
  "interpreter": {
   "hash": "77b0fca11f5c97acb8aefe74dba7b131a51b5f55730f888d94f92ef2c92d313a"
  },
  "kernelspec": {
   "display_name": "Python 3.10.0 64-bit",
   "language": "python",
   "name": "python3"
  },
  "language_info": {
   "codemirror_mode": {
    "name": "ipython",
    "version": 3
   },
   "file_extension": ".py",
   "mimetype": "text/x-python",
   "name": "python",
   "nbconvert_exporter": "python",
   "pygments_lexer": "ipython3",
   "version": "3.10.0"
  },
  "orig_nbformat": 4
 },
 "nbformat": 4,
 "nbformat_minor": 2
}
