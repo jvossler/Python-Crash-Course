{
 "cells": [
  {
   "cell_type": "code",
   "execution_count": 1,
   "metadata": {},
   "outputs": [
    {
     "name": "stdout",
     "output_type": "stream",
     "text": [
      "2019 Audi A4\n",
      "The 2019 Audi A4 has 23 miles on it.\n"
     ]
    }
   ],
   "source": [
    "from car import Car\n",
    "\n",
    "my_new_car = Car('audi', 'a4', 2019)\n",
    "print(my_new_car.get_descriptive_name())\n",
    "\n",
    "my_new_car.odometer_reading = 23\n",
    "my_new_car.read_odometer()"
   ]
  },
  {
   "cell_type": "code",
   "execution_count": 2,
   "metadata": {},
   "outputs": [
    {
     "name": "stdout",
     "output_type": "stream",
     "text": [
      "2019 Tesla Model S\n",
      "The 2019 Tesla Model S has a 75-kWh battery.\n",
      "The 2019 Tesla Model S has a 75-kWh battery and can go about 260 miles on full charge.\n"
     ]
    }
   ],
   "source": [
    "from car import ElectricCar\n",
    "\n",
    "my_tesla = ElectricCar('tesla', 'model s', 2019)\n",
    "\n",
    "print(my_tesla.get_descriptive_name())\n",
    "print(my_tesla.battery.describe_battery())\n",
    "print(my_tesla.battery.get_range())"
   ]
  },
  {
   "cell_type": "code",
   "execution_count": null,
   "metadata": {},
   "outputs": [],
   "source": [
    "from car import Car, ElectricCar\n",
    "\n",
    "my_beetle = Car('volkswagen', 'beetle', 2019)"
   ]
  }
 ],
 "metadata": {
  "interpreter": {
   "hash": "77b0fca11f5c97acb8aefe74dba7b131a51b5f55730f888d94f92ef2c92d313a"
  },
  "kernelspec": {
   "display_name": "Python 3.10.0 64-bit",
   "language": "python",
   "name": "python3"
  },
  "language_info": {
   "codemirror_mode": {
    "name": "ipython",
    "version": 3
   },
   "file_extension": ".py",
   "mimetype": "text/x-python",
   "name": "python",
   "nbconvert_exporter": "python",
   "pygments_lexer": "ipython3",
   "version": "3.10.0"
  },
  "orig_nbformat": 4
 },
 "nbformat": 4,
 "nbformat_minor": 2
}
