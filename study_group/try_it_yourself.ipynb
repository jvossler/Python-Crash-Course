{
 "cells": [
  {
   "cell_type": "markdown",
   "metadata": {},
   "source": [
    "1-1. python.org: Explore the Python home page (https://python.org/) to find\n",
    "topics that interest you. As you become familiar with Python, different parts of\n",
    "the site will be more useful to you.\n",
    "\n",
    "1-2. Hello World Typos: Open the hello_world.py file you just created. Make a\n",
    "typo somewhere in the line and run the program again. Can you make a typo\n",
    "that generates an error? Can you make sense of the error message? Can you\n",
    "make a typo that doesn’t generate an error? Why do you think it didn’t make\n",
    "an error?\n",
    "\n",
    "1-3. Infinite Skills: If you had infinite programming skills, what would you build?\n",
    "You’re about to learn how to program. If you have an end goal in mind, you’ll\n",
    "have an immediate use for your new skills; now is a great time to draft descriptions\n",
    "of what you want to create. It’s a good habit to keep an “ideas” notebook\n",
    "that you can refer to whenever you want to start a new project. Take a few\n",
    "minutes now to describe three programs you want to create."
   ]
  },
  {
   "cell_type": "code",
   "execution_count": null,
   "metadata": {},
   "outputs": [],
   "source": []
  },
  {
   "cell_type": "markdown",
   "metadata": {},
   "source": [
    "Write a separate program to accomplish each of these exercises. Save each\n",
    "program with a filename that follows standard Python conventions, using\n",
    "lowercase\n",
    "letters and underscores, such as simple_message.py and simple\n",
    "_messages.py.\n",
    "\n",
    "2-1. Simple Message: Assign a message to a variable, and then print that\n",
    "message.\n",
    "\n",
    "2-2. Simple Messages: Assign a message to a variable, and print that message.\n",
    "Then change the value of the variable to a new message, and print the new\n",
    "message."
   ]
  },
  {
   "cell_type": "code",
   "execution_count": 3,
   "metadata": {},
   "outputs": [
    {
     "name": "stdout",
     "output_type": "stream",
     "text": [
      "Goodbye, forever!\n"
     ]
    }
   ],
   "source": [
    "# 2-1\n",
    "message_variable = \"Hello, World!\"\n",
    "message_variable\n",
    "\n",
    "# 2-2\n",
    "message_variable = \"Goodbye, forever!\"\n",
    "print(message_variable)"
   ]
  },
  {
   "cell_type": "markdown",
   "metadata": {},
   "source": [
    "Save each of the following exercises as a separate file with a name like\n",
    "name_cases.py. If you get stuck, take a break or see the suggestions in\n",
    "Appendix C.\n",
    "\n",
    "2-3. Personal Message: Use a variable to represent a person’s name, and print\n",
    "a message to that person. Your message should be simple, such as, “Hello Eric,\n",
    "would you like to learn some Python today?”\n",
    "\n",
    "2-4. Name Cases: Use a variable to represent a person’s name, and then print\n",
    "that person’s name in lowercase, uppercase, and title case.\n",
    "\n",
    "2-5. Famous Quote: Find a quote from a famous person you admire. Print the\n",
    "quote and the name of its author. Your output should look something like the\n",
    "following, including the quotation marks:\n",
    "Albert Einstein once said, “A person who never made a\n",
    "mistake never tried anything new.”\n",
    "\n",
    "2-6. Famous Quote 2: Repeat Exercise 2-5, but this time, represent the\n",
    "famous person’s name using a variable called famous_person. Then compose\n",
    "your message\n",
    "and represent it with a new variable called message. Print your\n",
    "message.\n",
    "\n",
    "2-7. Stripping Names: Use a variable to represent a person’s name, and include\n",
    "some whitespace characters at the beginning and end of the name. Make sure\n",
    "you use each character combination, \"\\t\" and \"\\n\", at least once.\n",
    "Print the name once, so the whitespace around the name is displayed.\n",
    "Then print the name using each of the three stripping functions, lstrip(),\n",
    "rstrip(), and strip()."
   ]
  },
  {
   "cell_type": "code",
   "execution_count": 5,
   "metadata": {},
   "outputs": [
    {
     "name": "stdout",
     "output_type": "stream",
     "text": [
      "Hello eric, would you like to learn some Python today?\n",
      "eric\n",
      "ERIC\n",
      "Eric\n",
      "Eric\n"
     ]
    }
   ],
   "source": [
    "# 2-3\n",
    "name = input(\"What is your name?\")\n",
    "print(f\"Hello {name}, would you like to learn some Python today?\")\n",
    "\n",
    "# 2-4\n",
    "print(name.lower())\n",
    "print(name.upper())\n",
    "print(name.capitalize())\n",
    "print(name.title())"
   ]
  },
  {
   "cell_type": "code",
   "execution_count": 21,
   "metadata": {},
   "outputs": [
    {
     "name": "stdout",
     "output_type": "stream",
     "text": [
      "William Shakespeare wrote: \"Two households, both alike in dignity. In fair Verona, where we lay our scene.\"\n",
      "William Shakespeare wrote: \"Two households, both alike in dignity. In fair Verona, where we lay our scene.\"\n",
      "  \n",
      "\tWilliam Shakespeare  \t wrote: \"Two households, both alike in dignity. In fair Verona, where we lay our scene.\"\n",
      "  \n",
      "\tWilliam Shakespeare  \t\n",
      "\n",
      "\n",
      "\n",
      "William Shakespeare  \t\n",
      "  \n",
      "\tWilliam Shakespeare\n",
      "William Shakespeare\n"
     ]
    }
   ],
   "source": [
    "# 2-5\n",
    "author = \"William Shakespeare\"\n",
    "quote = '\"Two households, both alike in dignity. In fair Verona, where we lay our scene.\"'\n",
    "print(f\"{author.title()} wrote: {quote}\")\n",
    "\n",
    "# 2-6\n",
    "famous_person = \"William Shakespeare\"\n",
    "quote = '\"Two households, both alike in dignity. In fair Verona, where we lay our scene.\"'\n",
    "message = f\"{famous_person.title()} wrote: {quote}\"\n",
    "print(message)\n",
    "\n",
    "# 2-7\n",
    "famous_person = \"  \\n\\tWilliam Shakespeare  \\t\"\n",
    "quote = '\"Two households, both alike in dignity. In fair Verona, where we lay our scene.\"'\n",
    "message = f\"{famous_person.title()} wrote: {quote}\"\n",
    "print(message)\n",
    "print(famous_person)\n",
    "print(\"\\n\" * 2)\n",
    "print(famous_person.lstrip())\n",
    "print(famous_person.rstrip())\n",
    "print(famous_person.strip())"
   ]
  },
  {
   "cell_type": "markdown",
   "metadata": {},
   "source": [
    "2-8. Number Eight: Write addition, subtraction, multiplication, and division\n",
    "operations that each result in the number 8. Be sure to enclose your operations\n",
    "in print() calls to see the results. You should create four lines that look like this:\n",
    "\n",
    "print(5+3)\n",
    "\n",
    "Your output should simply be four lines with the number 8 appearing once\n",
    "on each line.\n",
    "\n",
    "2-9. Favorite Number: Use a variable to represent your favorite number. Then,\n",
    "using that variable, create a message that reveals your favorite number. Print\n",
    "that message."
   ]
  },
  {
   "cell_type": "code",
   "execution_count": 29,
   "metadata": {},
   "outputs": [
    {
     "name": "stdout",
     "output_type": "stream",
     "text": [
      "8\n",
      "8\n",
      "8.0\n",
      "8\n",
      "8\n"
     ]
    }
   ],
   "source": [
    "# 2-8\n",
    "# Comment about stuff\n",
    "print(5 + 3)\n",
    "print(16 - 8)\n",
    "print(64 / 8)\n",
    "print(18 % 10)\n",
    "print(83 // 10)"
   ]
  },
  {
   "cell_type": "code",
   "execution_count": 30,
   "metadata": {},
   "outputs": [
    {
     "name": "stdout",
     "output_type": "stream",
     "text": [
      "18 is a pretty good number.\n"
     ]
    }
   ],
   "source": [
    "# 2-9\n",
    "# Comment about stuff\n",
    "favorite_number = input(\"What is your favorite number?\")\n",
    "print(f\"{favorite_number} is a pretty good number.\")"
   ]
  },
  {
   "cell_type": "code",
   "execution_count": 31,
   "metadata": {},
   "outputs": [
    {
     "name": "stdout",
     "output_type": "stream",
     "text": [
      "The Zen of Python, by Tim Peters\n",
      "\n",
      "Beautiful is better than ugly.\n",
      "Explicit is better than implicit.\n",
      "Simple is better than complex.\n",
      "Complex is better than complicated.\n",
      "Flat is better than nested.\n",
      "Sparse is better than dense.\n",
      "Readability counts.\n",
      "Special cases aren't special enough to break the rules.\n",
      "Although practicality beats purity.\n",
      "Errors should never pass silently.\n",
      "Unless explicitly silenced.\n",
      "In the face of ambiguity, refuse the temptation to guess.\n",
      "There should be one-- and preferably only one --obvious way to do it.\n",
      "Although that way may not be obvious at first unless you're Dutch.\n",
      "Now is better than never.\n",
      "Although never is often better than *right* now.\n",
      "If the implementation is hard to explain, it's a bad idea.\n",
      "If the implementation is easy to explain, it may be a good idea.\n",
      "Namespaces are one honking great idea -- let's do more of those!\n"
     ]
    }
   ],
   "source": [
    "# 2-10\n",
    "# The Zen of Python\n",
    "import this"
   ]
  },
  {
   "cell_type": "code",
   "execution_count": null,
   "metadata": {},
   "outputs": [],
   "source": []
  }
 ],
 "metadata": {
  "interpreter": {
   "hash": "77b0fca11f5c97acb8aefe74dba7b131a51b5f55730f888d94f92ef2c92d313a"
  },
  "kernelspec": {
   "display_name": "Python 3.10.0 64-bit",
   "language": "python",
   "name": "python3"
  },
  "language_info": {
   "codemirror_mode": {
    "name": "ipython",
    "version": 3
   },
   "file_extension": ".py",
   "mimetype": "text/x-python",
   "name": "python",
   "nbconvert_exporter": "python",
   "pygments_lexer": "ipython3",
   "version": "3.10.0"
  },
  "orig_nbformat": 4
 },
 "nbformat": 4,
 "nbformat_minor": 2
}
