{
 "cells": [
  {
   "cell_type": "markdown",
   "metadata": {},
   "source": [
    "1-1. python.org: Explore the Python home page (https://python.org/) to find\n",
    "topics that interest you. As you become familiar with Python, different parts of\n",
    "the site will be more useful to you.\n",
    "\n",
    "1-2. Hello World Typos: Open the hello_world.py file you just created. Make a\n",
    "typo somewhere in the line and run the program again. Can you make a typo\n",
    "that generates an error? Can you make sense of the error message? Can you\n",
    "make a typo that doesn’t generate an error? Why do you think it didn’t make\n",
    "an error?\n",
    "\n",
    "1-3. Infinite Skills: If you had infinite programming skills, what would you build?\n",
    "You’re about to learn how to program. If you have an end goal in mind, you’ll\n",
    "have an immediate use for your new skills; now is a great time to draft descriptions\n",
    "of what you want to create. It’s a good habit to keep an “ideas” notebook\n",
    "that you can refer to whenever you want to start a new project. Take a few\n",
    "minutes now to describe three programs you want to create."
   ]
  },
  {
   "cell_type": "code",
   "execution_count": null,
   "metadata": {},
   "outputs": [],
   "source": []
  },
  {
   "cell_type": "markdown",
   "metadata": {},
   "source": [
    "Write a separate program to accomplish each of these exercises. Save each\n",
    "program with a filename that follows standard Python conventions, using\n",
    "lowercase\n",
    "letters and underscores, such as simple_message.py and simple\n",
    "_messages.py.\n",
    "\n",
    "2-1. Simple Message: Assign a message to a variable, and then print that\n",
    "message.\n",
    "\n",
    "2-2. Simple Messages: Assign a message to a variable, and print that message.\n",
    "Then change the value of the variable to a new message, and print the new\n",
    "message."
   ]
  },
  {
   "cell_type": "code",
   "execution_count": 1,
   "metadata": {},
   "outputs": [
    {
     "name": "stdout",
     "output_type": "stream",
     "text": [
      "Goodbye, forever!\n"
     ]
    }
   ],
   "source": [
    "# 2-1\n",
    "message_variable = \"Hello, World!\"\n",
    "message_variable\n",
    "\n",
    "# 2-2\n",
    "message_variable = \"Goodbye, forever!\"\n",
    "print(message_variable)"
   ]
  },
  {
   "cell_type": "markdown",
   "metadata": {},
   "source": [
    "Save each of the following exercises as a separate file with a name like\n",
    "name_cases.py. If you get stuck, take a break or see the suggestions in\n",
    "Appendix C.\n",
    "\n",
    "2-3. Personal Message: Use a variable to represent a person’s name, and print\n",
    "a message to that person. Your message should be simple, such as, “Hello Eric,\n",
    "would you like to learn some Python today?”\n",
    "\n",
    "2-4. Name Cases: Use a variable to represent a person’s name, and then print\n",
    "that person’s name in lowercase, uppercase, and title case.\n",
    "\n",
    "2-5. Famous Quote: Find a quote from a famous person you admire. Print the\n",
    "quote and the name of its author. Your output should look something like the\n",
    "following, including the quotation marks:\n",
    "Albert Einstein once said, “A person who never made a\n",
    "mistake never tried anything new.”\n",
    "\n",
    "2-6. Famous Quote 2: Repeat Exercise 2-5, but this time, represent the\n",
    "famous person’s name using a variable called famous_person. Then compose\n",
    "your message\n",
    "and represent it with a new variable called message. Print your\n",
    "message.\n",
    "\n",
    "2-7. Stripping Names: Use a variable to represent a person’s name, and include\n",
    "some whitespace characters at the beginning and end of the name. Make sure\n",
    "you use each character combination, \"\\t\" and \"\\n\", at least once.\n",
    "Print the name once, so the whitespace around the name is displayed.\n",
    "Then print the name using each of the three stripping functions, lstrip(),\n",
    "rstrip(), and strip()."
   ]
  },
  {
   "cell_type": "code",
   "execution_count": 2,
   "metadata": {},
   "outputs": [
    {
     "name": "stdout",
     "output_type": "stream",
     "text": [
      "Hello mike, would you like to learn some Python today?\n",
      "mike\n",
      "MIKE\n",
      "Mike\n",
      "Mike\n"
     ]
    }
   ],
   "source": [
    "# 2-3\n",
    "name = input(\"What is your name?\")\n",
    "print(f\"Hello {name}, would you like to learn some Python today?\")\n",
    "\n",
    "# 2-4\n",
    "print(name.lower())\n",
    "print(name.upper())\n",
    "print(name.capitalize())\n",
    "print(name.title())"
   ]
  },
  {
   "cell_type": "code",
   "execution_count": 3,
   "metadata": {},
   "outputs": [
    {
     "name": "stdout",
     "output_type": "stream",
     "text": [
      "William Shakespeare wrote: \"Two households, both alike in dignity. In fair Verona, where we lay our scene.\"\n",
      "William Shakespeare wrote: \"Two households, both alike in dignity. In fair Verona, where we lay our scene.\"\n",
      "  \n",
      "\tWilliam Shakespeare  \t wrote: \"Two households, both alike in dignity. In fair Verona, where we lay our scene.\"\n",
      "  \n",
      "\tWilliam Shakespeare  \t\n",
      "\n",
      "\n",
      "\n",
      "William Shakespeare  \t\n",
      "  \n",
      "\tWilliam Shakespeare\n",
      "William Shakespeare\n"
     ]
    }
   ],
   "source": [
    "# 2-5\n",
    "author = \"William Shakespeare\"\n",
    "quote = '\"Two households, both alike in dignity. In fair Verona, where we lay our scene.\"'\n",
    "print(f\"{author.title()} wrote: {quote}\")\n",
    "\n",
    "# 2-6\n",
    "famous_person = \"William Shakespeare\"\n",
    "quote = '\"Two households, both alike in dignity. In fair Verona, where we lay our scene.\"'\n",
    "message = f\"{famous_person.title()} wrote: {quote}\"\n",
    "print(message)\n",
    "\n",
    "# 2-7\n",
    "famous_person = \"  \\n\\tWilliam Shakespeare  \\t\"\n",
    "quote = '\"Two households, both alike in dignity. In fair Verona, where we lay our scene.\"'\n",
    "message = f\"{famous_person.title()} wrote: {quote}\"\n",
    "print(message)\n",
    "print(famous_person)\n",
    "print(\"\\n\" * 2)\n",
    "print(famous_person.lstrip())\n",
    "print(famous_person.rstrip())\n",
    "print(famous_person.strip())"
   ]
  },
  {
   "cell_type": "markdown",
   "metadata": {},
   "source": [
    "2-8. Number Eight: Write addition, subtraction, multiplication, and division\n",
    "operations that each result in the number 8. Be sure to enclose your operations\n",
    "in print() calls to see the results. You should create four lines that look like this:\n",
    "\n",
    "print(5+3)\n",
    "\n",
    "Your output should simply be four lines with the number 8 appearing once\n",
    "on each line.\n",
    "\n",
    "2-9. Favorite Number: Use a variable to represent your favorite number. Then,\n",
    "using that variable, create a message that reveals your favorite number. Print\n",
    "that message."
   ]
  },
  {
   "cell_type": "code",
   "execution_count": 4,
   "metadata": {},
   "outputs": [
    {
     "name": "stdout",
     "output_type": "stream",
     "text": [
      "8\n",
      "8\n",
      "8.0\n",
      "8\n",
      "8\n"
     ]
    }
   ],
   "source": [
    "# 2-8\n",
    "# Comment about stuff\n",
    "print(5 + 3)\n",
    "print(16 - 8)\n",
    "print(64 / 8)\n",
    "print(18 % 10)\n",
    "print(83 // 10)"
   ]
  },
  {
   "cell_type": "code",
   "execution_count": 5,
   "metadata": {},
   "outputs": [
    {
     "name": "stdout",
     "output_type": "stream",
     "text": [
      "18 is a pretty good number.\n"
     ]
    }
   ],
   "source": [
    "# 2-9\n",
    "# Comment about stuff\n",
    "favorite_number = input(\"What is your favorite number?\")\n",
    "print(f\"{favorite_number} is a pretty good number.\")"
   ]
  },
  {
   "cell_type": "code",
   "execution_count": 6,
   "metadata": {},
   "outputs": [
    {
     "name": "stdout",
     "output_type": "stream",
     "text": [
      "The Zen of Python, by Tim Peters\n",
      "\n",
      "Beautiful is better than ugly.\n",
      "Explicit is better than implicit.\n",
      "Simple is better than complex.\n",
      "Complex is better than complicated.\n",
      "Flat is better than nested.\n",
      "Sparse is better than dense.\n",
      "Readability counts.\n",
      "Special cases aren't special enough to break the rules.\n",
      "Although practicality beats purity.\n",
      "Errors should never pass silently.\n",
      "Unless explicitly silenced.\n",
      "In the face of ambiguity, refuse the temptation to guess.\n",
      "There should be one-- and preferably only one --obvious way to do it.\n",
      "Although that way may not be obvious at first unless you're Dutch.\n",
      "Now is better than never.\n",
      "Although never is often better than *right* now.\n",
      "If the implementation is hard to explain, it's a bad idea.\n",
      "If the implementation is easy to explain, it may be a good idea.\n",
      "Namespaces are one honking great idea -- let's do more of those!\n"
     ]
    }
   ],
   "source": [
    "# 2-10\n",
    "# The Zen of Python\n",
    "import this"
   ]
  },
  {
   "cell_type": "markdown",
   "metadata": {},
   "source": [
    "3-1. Names: Store the names of a few of your friends in a list called names. Print\n",
    "each person’s name by accessing each element in the list, one at a time.\n",
    "\n",
    "3-2. Greetings: Start with the list you used in Exercise 3-1, but instead of just\n",
    "printing each person’s name, print a message to them. The text of each message\n",
    "should be the same, but each message should be personalized with the\n",
    "person’s name.\n",
    "\n",
    "3-3. Your Own List: Think of your favorite mode of transportation, such as a\n",
    "motorcycle or a car, and make a list that stores several examples. Use your list\n",
    "to print a series of statements about these items, such as “I would like to own a\n",
    "Honda motorcycle.”"
   ]
  },
  {
   "cell_type": "code",
   "execution_count": 7,
   "metadata": {},
   "outputs": [
    {
     "name": "stdout",
     "output_type": "stream",
     "text": [
      "mike\n",
      "larry\n",
      "moe\n",
      "elizabeth\n",
      "rachel\n"
     ]
    }
   ],
   "source": [
    "# 3-1\n",
    "friend_names = ['mike', 'larry', 'moe', 'elizabeth', 'rachel']\n",
    "\n",
    "for name in friend_names:\n",
    "    print(name)"
   ]
  },
  {
   "cell_type": "code",
   "execution_count": 8,
   "metadata": {},
   "outputs": [
    {
     "name": "stdout",
     "output_type": "stream",
     "text": [
      "Greetings, Mike!\n",
      "Greetings, Larry!\n",
      "Greetings, Moe!\n",
      "Greetings, Elizabeth!\n",
      "Greetings, Rachel!\n",
      "['rachel', 'elizabeth', 'moe', 'larry', 'mike']\n",
      "['larry', 'elizabeth']\n",
      "['mike', 'moe']\n",
      "['rachel', 'elizabeth']\n",
      "['mike', 'larry', 'moe', 'elizabeth']\n",
      "Mike\n"
     ]
    }
   ],
   "source": [
    "# 3-2\n",
    "for name in friend_names:\n",
    "    print(f\"Greetings, {name.title()}!\")\n",
    "\n",
    "print(friend_names[::-1])\n",
    "print(friend_names[1::2])\n",
    "print(friend_names[:4:2])\n",
    "print(friend_names[:2:-1])\n",
    "print(friend_names[:4])\n",
    "print(friend_names[0].title())"
   ]
  },
  {
   "cell_type": "code",
   "execution_count": 9,
   "metadata": {},
   "outputs": [
    {
     "name": "stdout",
     "output_type": "stream",
     "text": [
      "I would like to own a Motorcycle.\n",
      "I would like to own a Sedan.\n",
      "I would like to own a Dirt Bike.\n",
      "I would like to own a Train.\n",
      "I would like to own a Bicycle.\n"
     ]
    }
   ],
   "source": [
    "# 3-3\n",
    "transportation_types = ['motorcycle', 'sedan', 'dirt bike', 'train', 'bicycle']\n",
    "\n",
    "for vehicle in transportation_types:\n",
    "    print(f\"I would like to own a {vehicle.title()}.\")"
   ]
  },
  {
   "cell_type": "markdown",
   "metadata": {},
   "source": [
    "3-4. Guest List: If you could invite anyone, living or deceased, to dinner, who\n",
    "would you invite? Make a list that includes at least three people you’d like to\n",
    "invite to dinner. Then use your list to print a message to each person, inviting\n",
    "them to dinner.\n",
    "\n",
    "3-5. Changing Guest List: You just heard that one of your guests can’t make the\n",
    "dinner, so you need to send out a new set of invitations. You’ll have to think of\n",
    "someone else to invite.\n",
    "\n",
    "- Start with your program from Exercise 3-4. Add a print() call at the end\n",
    "of your program stating the name of the guest who can’t make it.\n",
    "- Modify your list, replacing the name of the guest who can’t make it with\n",
    "the name of the new person you are inviting.\n",
    "- Print a second set of invitation messages, one for each person who is still\n",
    "in your list.\n",
    "\n",
    "3-6. More Guests: You just found a bigger dinner table, so now more space is\n",
    "available. Think of three more guests to invite to dinner.\n",
    "- Start with your program from Exercise 3-4 or Exercise 3-5. Add a print()\n",
    "call to the end of your program informing people that you found a bigger\n",
    "dinner table.\n",
    "- Use insert() to add one new guest to the beginning of your list.\n",
    "- Use insert() to add one new guest to the middle of your list.\n",
    "- Use append() to add one new guest to the end of your list.\n",
    "- Print a new set of invitation messages, one for each person in your list.\n",
    "\n",
    "3-7. Shrinking Guest List: You just found out that your new dinner table won’t\n",
    "arrive in time for the dinner, and you have space for only two guests.\n",
    "- Start with your program from Exercise 3-6. Add a new line that prints a\n",
    "message saying that you can invite only two people for dinner.\n",
    "- Use pop() to remove guests from your list one at a time until only two\n",
    "names remain in your list. Each time you pop a name from your list, print\n",
    "a message to that person letting them know you’re sorry you can’t invite\n",
    "them to dinner.\n",
    "- Print a message to each of the two people still on your list, letting them\n",
    "know they’re still invited.\n",
    "- Use del to remove the last two names from your list, so you have an empty\n",
    "list. Print your list to make sure you actually have an empty list at the end\n",
    "of your program."
   ]
  },
  {
   "cell_type": "code",
   "execution_count": 10,
   "metadata": {},
   "outputs": [
    {
     "name": "stdout",
     "output_type": "stream",
     "text": [
      "Hello, Mike, you are cordially invited to my shindig.\n",
      "Hello, Larry, you are cordially invited to my shindig.\n",
      "Hello, Moe, you are cordially invited to my shindig.\n",
      "Hello, Elizabeth, you are cordially invited to my shindig.\n",
      "Hello, Rachel, you are cordially invited to my shindig.\n"
     ]
    }
   ],
   "source": [
    "# 3-4\n",
    "guest_list = ['mike', 'larry', 'moe', 'elizabeth', 'rachel']\n",
    "\n",
    "for guest in guest_list:\n",
    "    print(f\"Hello, {guest.title()}, you are cordially invited to my shindig.\")"
   ]
  },
  {
   "cell_type": "code",
   "execution_count": 11,
   "metadata": {},
   "outputs": [
    {
     "name": "stdout",
     "output_type": "stream",
     "text": [
      "Hello, Mike, you are cordially invited to my shindig.\n",
      "Hello, Larry, you are cordially invited to my shindig.\n",
      "Hello, Moe, you are cordially invited to my shindig.\n",
      "Hello, Elizabeth, you are cordially invited to my shindig.\n",
      "Hello, Rachel, you are cordially invited to my shindig.\n",
      "\n",
      "Oh no, you can't make it, Larry?! How dare you refuse.\n",
      "Fine, I will invite someone else.\n",
      "\n",
      "You see what you made me do, Larry?\n",
      "\n",
      "You made me invite Dave... DAVE\n",
      "\n",
      "I GUESS this is the guest list now... (damn it, Larry):\n",
      "Mike\n",
      "Dave\n",
      "Moe\n",
      "Elizabeth\n",
      "Rachel\n"
     ]
    }
   ],
   "source": [
    "# 3-5\n",
    "guest_list = ['mike', 'larry', 'moe', 'elizabeth', 'rachel']\n",
    "\n",
    "for guest in guest_list:\n",
    "    print(f\"Hello, {guest.title()}, you are cordially invited to my shindig.\")\n",
    "\n",
    "print(f\"\\nOh no, you can't make it, {guest_list[1].title()}?! How dare you refuse.\\n\"\n",
    "f\"Fine, I will invite someone else.\\n\"\n",
    "f\"\\nYou see what you made me do, {guest_list[1].title()}?\\n\")\n",
    "\n",
    "guest_list[1] = 'dave'\n",
    "\n",
    "print(f\"You made me invite {guest_list[1].title()}... {guest_list[1].upper()}\\n\")\n",
    "\n",
    "print(\"I GUESS this is the guest list now... (damn it, Larry):\")\n",
    "for guest in guest_list:\n",
    "    print(guest.title())"
   ]
  },
  {
   "cell_type": "code",
   "execution_count": 12,
   "metadata": {},
   "outputs": [
    {
     "name": "stdout",
     "output_type": "stream",
     "text": [
      "Hello Kael, you are invited to the party.\n",
      "Hello Mike, you are invited to the party.\n",
      "Hello Dan, you are invited to the party.\n",
      "Hello Dave, you are invited to the party.\n",
      "Hello Moe, you are invited to the party.\n",
      "Hello Elizabeth, you are invited to the party.\n",
      "Hello Rachel, you are invited to the party.\n",
      "Hello Avery, you are invited to the party.\n"
     ]
    }
   ],
   "source": [
    "# 3-6\n",
    "guest_list.insert(0, 'kael')\n",
    "guest_list.insert(2, 'dan')\n",
    "guest_list.append('avery')\n",
    "\n",
    "for guest in guest_list:\n",
    "    print(f\"Hello {guest.title()}, you are invited to the party.\")"
   ]
  },
  {
   "cell_type": "code",
   "execution_count": 13,
   "metadata": {},
   "outputs": [
    {
     "name": "stdout",
     "output_type": "stream",
     "text": [
      "I can only invite 2 people to dinner. I currently have 8 people invited.\n",
      "Sorry Avery, I have to let you go.\n",
      "Sorry Rachel, I have to let you go.\n",
      "Sorry Elizabeth, I have to let you go.\n",
      "Sorry Moe, I have to let you go.\n",
      "Sorry Dave, I have to let you go.\n",
      "Sorry Dan, I have to let you go.\n",
      "\n",
      "My new guest list has 2 total people:\n",
      "Kael\n",
      "Mike\n"
     ]
    }
   ],
   "source": [
    "# 3-7\n",
    "print(f\"I can only invite 2 people to dinner. I currently have {len(guest_list)} people invited.\")\n",
    "\n",
    "while len(guest_list) > 2:\n",
    "    print(f\"Sorry {guest_list[-1].title()}, I have to let you go.\")\n",
    "    guest_list.pop()\n",
    "\n",
    "print(f\"\\nMy new guest list has {len(guest_list)} total people:\")\n",
    "for guest in guest_list:\n",
    "    print(guest.title())"
   ]
  },
  {
   "cell_type": "markdown",
   "metadata": {},
   "source": [
    "3-8. Seeing the World: Think of at least five places in the world you’d like to\n",
    "visit.\n",
    "- Store the locations in a list. Make sure the list is not in alphabetical order.\n",
    "- Print your list in its original order. Don’t worry about printing the list neatly,\n",
    "just print it as a raw Python list.\n",
    "- Use sorted() to print your list in alphabetical order without modifying the\n",
    "actual list.\n",
    "- Show that your list is still in its original order by printing it.\n",
    "- Use sorted() to print your list in reverse alphabetical order without changing\n",
    "the order of the original list.\n",
    "- Show that your list is still in its original order by printing it again.\n",
    "- Use reverse() to change the order of your list. Print the list to show that its\n",
    "order has changed.\n",
    "- Use reverse() to change the order of your list again. Print the list to show\n",
    "it’s back to its original order.\n",
    "- Use sort() to change your list so it’s stored in alphabetical order. Print the\n",
    "list to show that its order has been changed.\n",
    "- Use sort() to change your list so it’s stored in reverse alphabetical order.\n",
    "Print the list to show that its order has changed.\n",
    "\n",
    "3-9. Dinner Guests: Working with one of the programs from Exercises 3-4\n",
    "through 3-7 (page 42), use len() to print a message indicating the number\n",
    "of people you are inviting to dinner.\n",
    "\n",
    "3-10. Every Function: Think of something you could store in a list. For example,\n",
    "you could make a list of mountains, rivers, countries, cities, languages, or anything\n",
    "else you’d like. Write a program that creates a list containing these items\n",
    "and then uses each function introduced in this chapter at least once."
   ]
  },
  {
   "cell_type": "code",
   "execution_count": 14,
   "metadata": {},
   "outputs": [
    {
     "name": "stdout",
     "output_type": "stream",
     "text": [
      "['taj mahal', 'rio de janiero', 'great barrier reef', 'pyramids of giza', 'bogota', 'seoul']\n",
      "['bogota', 'great barrier reef', 'pyramids of giza', 'rio de janiero', 'seoul', 'taj mahal']\n",
      "['taj mahal', 'rio de janiero', 'great barrier reef', 'pyramids of giza', 'bogota', 'seoul']\n",
      "['seoul', 'bogota', 'pyramids of giza', 'great barrier reef', 'rio de janiero', 'taj mahal']\n",
      "['taj mahal', 'seoul', 'rio de janiero', 'pyramids of giza', 'great barrier reef', 'bogota']\n",
      "['taj mahal', 'rio de janiero', 'great barrier reef', 'pyramids of giza', 'bogota', 'seoul']\n",
      "['bogota', 'great barrier reef', 'pyramids of giza', 'rio de janiero', 'seoul', 'taj mahal']\n",
      "['taj mahal', 'seoul', 'rio de janiero', 'pyramids of giza', 'great barrier reef', 'bogota']\n"
     ]
    }
   ],
   "source": [
    "# 3-8\n",
    "locations = ['taj mahal', 'rio de janiero', 'great barrier reef', 'pyramids of giza', 'bogota', 'seoul']\n",
    "print(locations)\n",
    "print(sorted(locations))\n",
    "print(locations)\n",
    "locations.reverse()\n",
    "print(locations)\n",
    "print(sorted(locations,reverse=True))\n",
    "locations.reverse()\n",
    "print(locations)\n",
    "locations.sort()\n",
    "print(locations)\n",
    "locations.sort(reverse=True)\n",
    "print(locations)"
   ]
  },
  {
   "cell_type": "code",
   "execution_count": 15,
   "metadata": {},
   "outputs": [
    {
     "data": {
      "text/plain": [
       "2"
      ]
     },
     "execution_count": 15,
     "metadata": {},
     "output_type": "execute_result"
    }
   ],
   "source": [
    "# 3-9\n",
    "len(guest_list)"
   ]
  },
  {
   "cell_type": "markdown",
   "metadata": {},
   "source": [
    "4-1. Pizzas: Think of at least three kinds of your favorite pizza. Store these\n",
    "pizza names in a list, and then use a for loop to print the name of each pizza.\n",
    "- Modify your for loop to print a sentence using the name of the pizza\n",
    "instead of printing just the name of the pizza. For each pizza you should\n",
    "have one line of output containing a simple statement like I like pepperoni\n",
    "pizza.\n",
    "- Add a line at the end of your program, outside the for loop, that states\n",
    "how much you like pizza. The output should consist of three or more lines\n",
    "about the kinds of pizza you like and then an additional sentence, such as\n",
    "I really love pizza!\n",
    "\n",
    "4-2. Animals: Think of at least three different animals that have a common characteristic.\n",
    "Store the names of these animals in a list, and then use a for loop to\n",
    "print out the name of each animal.\n",
    "- Modify your program to print a statement about each animal, such as\n",
    "A dog would make a great pet.\n",
    "- Add a line at the end of your program stating what these animals have in\n",
    "common. You could print a sentence such as Any of these animals would\n",
    "make a great pet!"
   ]
  },
  {
   "cell_type": "code",
   "execution_count": 16,
   "metadata": {},
   "outputs": [
    {
     "name": "stdout",
     "output_type": "stream",
     "text": [
      "You wanted a pepperoni pizza.\n",
      "You wanted a meatlovers pizza.\n",
      "You wanted a hawaiian pizza.\n",
      "I really love pizza!\n"
     ]
    }
   ],
   "source": [
    "# 4-1\n",
    "pizza_types = ['pepperoni', 'meatlovers', 'hawaiian']\n",
    "for pizza in pizza_types:\n",
    "    print(f'You wanted a {pizza} pizza.')\n",
    "\n",
    "print(\"I really love pizza!\")"
   ]
  },
  {
   "cell_type": "code",
   "execution_count": 17,
   "metadata": {},
   "outputs": [
    {
     "name": "stdout",
     "output_type": "stream",
     "text": [
      "A lion would make a horrible pet!\n",
      "A cougar would make a horrible pet!\n",
      "A leopard would make a horrible pet!\n",
      "All of these animals are wild cats!\n"
     ]
    }
   ],
   "source": [
    "# 4-2\n",
    "animals = ['lion', 'cougar', 'leopard']\n",
    "for animal in animals:\n",
    "    print(f\"A {animal} would make a horrible pet!\")\n",
    "print(\"All of these animals are wild cats!\")"
   ]
  },
  {
   "cell_type": "markdown",
   "metadata": {},
   "source": [
    "4-3. Counting to Twenty: Use a for loop to print the numbers from 1 to 20,\n",
    "inclusive.\n",
    "\n",
    "4-4. One Million: Make a list of the numbers from one to one million, and then\n",
    "use a for loop to print the numbers. (If the output is taking too long, stop it by\n",
    "pressing ctrl-C or by closing the output window.)\n",
    "\n",
    "4-5. Summing a Million: Make a list of the numbers from one to one million,\n",
    "and then use min() and max() to make sure your list actually starts at one and\n",
    "ends at one million. Also, use the sum() function to see how quickly Python can\n",
    "add a million numbers.\n",
    "\n",
    "4-6. Odd Numbers: Use the third argument of the range() function to make a\n",
    "list of the odd numbers from 1 to 20. Use a for loop to print each number.\n",
    "\n",
    "4-7. Threes: Make a list of the multiples of 3 from 3 to 30. Use a for loop to\n",
    "print the numbers in your list.\n",
    "\n",
    "4-8. Cubes: A number raised to the third power is called a cube. For example,\n",
    "the cube of 2 is written as 2**3 in Python. Make a list of the first 10 cubes (that\n",
    "is, the cube of each integer from 1 through 10), and use a for loop to print out\n",
    "the value of each cube.\n",
    "\n",
    "4-9. Cube Comprehension: Use a list comprehension to generate a list of the\n",
    "first 10 cubes."
   ]
  },
  {
   "cell_type": "code",
   "execution_count": 18,
   "metadata": {},
   "outputs": [
    {
     "name": "stdout",
     "output_type": "stream",
     "text": [
      "1\n",
      "2\n",
      "3\n",
      "4\n",
      "5\n",
      "6\n",
      "7\n",
      "8\n",
      "9\n",
      "10\n",
      "11\n",
      "12\n",
      "13\n",
      "14\n",
      "15\n",
      "16\n",
      "17\n",
      "18\n",
      "19\n",
      "20\n"
     ]
    }
   ],
   "source": [
    "# 4-3\n",
    "for i in range(1, 21):\n",
    "    print(i)"
   ]
  },
  {
   "cell_type": "code",
   "execution_count": 19,
   "metadata": {},
   "outputs": [],
   "source": [
    "# 4-4\n",
    "# numbers = list(range(1, 1000001))\n",
    "\n",
    "# for number in numbers:\n",
    "#     print(number)\n",
    "\n",
    "numbers = [number for number in list(range(1, 1000001))]\n",
    "# print(numbers)"
   ]
  },
  {
   "cell_type": "code",
   "execution_count": 20,
   "metadata": {},
   "outputs": [
    {
     "name": "stdout",
     "output_type": "stream",
     "text": [
      "1\n",
      "1000000\n",
      "500000500000\n"
     ]
    }
   ],
   "source": [
    "# 4-5\n",
    "# min(numbers)\n",
    "# max(numbers)\n",
    "# sum(numbers)\n",
    "\n",
    "print(min(numbers))\n",
    "print(max(numbers))\n",
    "print(sum(numbers))"
   ]
  },
  {
   "cell_type": "code",
   "execution_count": 21,
   "metadata": {},
   "outputs": [
    {
     "data": {
      "text/plain": [
       "[1, 3, 5, 7, 9, 11, 13, 15, 17, 19]"
      ]
     },
     "execution_count": 21,
     "metadata": {},
     "output_type": "execute_result"
    }
   ],
   "source": [
    "# 4-6\n",
    "odd_numbers = list(range(1, 21, 2))\n",
    "\n",
    "odd_numbers"
   ]
  },
  {
   "cell_type": "code",
   "execution_count": 22,
   "metadata": {},
   "outputs": [
    {
     "name": "stdout",
     "output_type": "stream",
     "text": [
      "[3, 6, 9, 12, 15, 18, 21, 24, 27, 30]\n",
      "3\n",
      "6\n",
      "9\n",
      "12\n",
      "15\n",
      "18\n",
      "21\n",
      "24\n",
      "27\n",
      "30\n"
     ]
    }
   ],
   "source": [
    "# 4-7\n",
    "multiples_of_three = list(range(3, 31, 3))\n",
    "print(multiples_of_three)\n",
    "\n",
    "multiples_of_three = list(range(3, 31))\n",
    "for number in multiples_of_three:\n",
    "    if number % 3 == 0:\n",
    "        print(number)\n",
    "# multiples_of_three"
   ]
  },
  {
   "cell_type": "code",
   "execution_count": 23,
   "metadata": {},
   "outputs": [
    {
     "name": "stdout",
     "output_type": "stream",
     "text": [
      "1\n",
      "8\n",
      "27\n",
      "64\n",
      "125\n",
      "216\n",
      "343\n",
      "512\n",
      "729\n",
      "1000\n",
      "1331\n",
      "1728\n",
      "2197\n",
      "2744\n",
      "3375\n",
      "4096\n",
      "4913\n",
      "5832\n",
      "6859\n",
      "8000\n",
      "9261\n",
      "10648\n",
      "12167\n",
      "13824\n",
      "15625\n",
      "17576\n",
      "19683\n",
      "21952\n",
      "24389\n",
      "27000\n",
      "29791\n",
      "32768\n",
      "35937\n",
      "39304\n",
      "42875\n",
      "46656\n",
      "50653\n",
      "54872\n",
      "59319\n",
      "64000\n",
      "68921\n",
      "74088\n",
      "79507\n",
      "85184\n",
      "91125\n",
      "97336\n",
      "103823\n",
      "110592\n",
      "117649\n",
      "125000\n",
      "132651\n",
      "140608\n",
      "148877\n",
      "157464\n",
      "166375\n",
      "175616\n",
      "185193\n",
      "195112\n",
      "205379\n",
      "216000\n",
      "226981\n",
      "238328\n",
      "250047\n",
      "262144\n",
      "274625\n",
      "287496\n",
      "300763\n",
      "314432\n",
      "328509\n",
      "343000\n",
      "357911\n",
      "373248\n",
      "389017\n",
      "405224\n",
      "421875\n",
      "438976\n",
      "456533\n",
      "474552\n",
      "493039\n",
      "512000\n",
      "531441\n",
      "551368\n",
      "571787\n",
      "592704\n",
      "614125\n",
      "636056\n",
      "658503\n",
      "681472\n",
      "704969\n",
      "729000\n",
      "753571\n",
      "778688\n",
      "804357\n",
      "830584\n",
      "857375\n",
      "884736\n",
      "912673\n",
      "941192\n",
      "970299\n",
      "1000000\n"
     ]
    }
   ],
   "source": [
    "# 4-8\n",
    "numbers = list(range(1, 101))\n",
    "for number in numbers:\n",
    "    print(number ** 3)\n"
   ]
  },
  {
   "cell_type": "code",
   "execution_count": 24,
   "metadata": {},
   "outputs": [
    {
     "data": {
      "text/plain": [
       "[1, 8, 27, 64, 125, 216, 343, 512, 729, 1000]"
      ]
     },
     "execution_count": 24,
     "metadata": {},
     "output_type": "execute_result"
    }
   ],
   "source": [
    "# 4-9 - List Comprehension\n",
    "squares = [number ** 3 for number in list(range(1, 11))]\n",
    "squares\n",
    "\n",
    "# [number ** 3 for number in list(range(1, 11))]"
   ]
  },
  {
   "cell_type": "markdown",
   "metadata": {},
   "source": [
    "4-10. Slices: Using one of the programs you wrote in this chapter, add several\n",
    "lines to the end of the program that do the following:\n",
    "- Print the message The first three items in the list are:. Then use a slice to\n",
    "print the first three items from that program’s list.\n",
    "- Print the message Three items from the middle of the list are:. Use a slice to\n",
    "pint three items from the middle of the list.\n",
    "- Print the message The last three items in the list are:. Use a slice to print the\n",
    "last three items in the list.\n",
    "\n",
    "4-11. My Pizzas, Your Pizzas: Start with your program from Exercise 4-1\n",
    "(page 56). Make a copy of the list of pizzas, and call it friend_pizzas.\n",
    "Then, do the following:\n",
    "- Add a new pizza to the original list.\n",
    "- Add a different pizza to the list friend_pizzas.\n",
    "- Prove that you have two separate lists. Print the message My favorite\n",
    "pizzas are:, and then use a for loop to print the first list. Print the message\n",
    "My friend’s favorite pizzas are:, and then use a for loop to print the second\n",
    "list. Make sure each new pizza is stored in the appropriate list.\n",
    "\n",
    "4-12. More Loops: All versions of foods.py in this section have avoided using\n",
    "for loops when printing to save space. Choose a version of foods.py, and\n",
    "write two for loops to print each list of foods."
   ]
  },
  {
   "cell_type": "code",
   "execution_count": 25,
   "metadata": {},
   "outputs": [
    {
     "name": "stdout",
     "output_type": "stream",
     "text": [
      "The first three items in the list are: [1, 2, 3].\n",
      "Some middle items in the list are: [81, 82, 83, 84, 85, 86, 87, 88, 89, 90].\n",
      "The last three items in the list are: [100, 99, 98].\n",
      "The last three items in the list are: [98, 99, 100].\n"
     ]
    }
   ],
   "source": [
    "# 4-10, pg. 65\n",
    "numbers_slice = numbers[:3]\n",
    "\n",
    "print(f\"The first three items in the list are: {numbers[:3]}.\")\n",
    "# print(numbers_slice)\n",
    "# for number in numbers_slice:\n",
    "#     print(f\"The first\")\n",
    "\n",
    "# numbers_slice = numbers[80:90]\n",
    "\n",
    "print(f\"Some middle items in the list are: {numbers[80:90]}.\")\n",
    "\n",
    "print(f\"The last three items in the list are: {numbers[:-4:-1]}.\")\n",
    "print(f\"The last three items in the list are: {numbers[-3::]}.\")"
   ]
  },
  {
   "cell_type": "code",
   "execution_count": 26,
   "metadata": {},
   "outputs": [
    {
     "name": "stdout",
     "output_type": "stream",
     "text": [
      "You wanted a pepperoni pizza.\n",
      "You wanted a meatlovers pizza.\n",
      "You wanted a hawaiian pizza.\n",
      "I really love pizza!\n",
      "\n",
      "Oh you like pepperoni pizza? Gross!\n",
      "Oh you like meatlovers pizza? Gross!\n",
      "Oh you like hawaiian pizza? Gross!\n",
      "Oh you like veggie pizza? Gross!\n",
      "Oh you like anchovie pizza? Gross!\n",
      "You should really try my pizza, you nasty, nasty person.\n"
     ]
    }
   ],
   "source": [
    "# 4-11\n",
    "friend_pizzas = ['pepperoni', 'meatlovers', 'hawaiian', 'veggie', 'anchovie']\n",
    "for pizza in pizza_types:\n",
    "    print(f'You wanted a {pizza} pizza.')\n",
    "\n",
    "print(\"I really love pizza!\\n\")\n",
    "\n",
    "for pizza in friend_pizzas:\n",
    "    print(f'Oh you like {pizza} pizza? Gross!')\n",
    "\n",
    "print('You should really try my pizza, you nasty, nasty person.')"
   ]
  },
  {
   "cell_type": "code",
   "execution_count": 27,
   "metadata": {},
   "outputs": [
    {
     "name": "stdout",
     "output_type": "stream",
     "text": [
      "pizza\n",
      "falafel\n",
      "carrot cake\n",
      "cannoli\n",
      "ice cream\n",
      "\n",
      "\n",
      "pepperoni\n",
      "meatlovers\n",
      "hawaiian\n",
      "veggie\n",
      "anchovie\n"
     ]
    }
   ],
   "source": [
    "# 4-12, pg. 65\n",
    "foods = ['pizza', 'falafel', 'carrot cake', 'cannoli', 'ice cream']\n",
    "pizzas = ['pepperoni', 'meatlovers', 'hawaiian', 'veggie', 'anchovie']\n",
    "\n",
    "for food in foods:\n",
    "    print(food)\n",
    "\n",
    "print(\"\\n\")\n",
    "\n",
    "for pizza in pizzas:\n",
    "    print(pizza)"
   ]
  },
  {
   "cell_type": "markdown",
   "metadata": {},
   "source": [
    "4-13. Buffet: A buffet-style restaurant offers only five basic foods. Think of five\n",
    "simple foods, and store them in a tuple.\n",
    "- Use a for loop to print each food the restaurant offers.\n",
    "- Try to modify one of the items, and make sure that Python rejects the\n",
    "change.\n",
    "- The restaurant changes its menu, replacing two of the items with different\n",
    "foods. Add a line that rewrites the tuple, and then use a for loop to print\n",
    "each of the items on the revised menu."
   ]
  },
  {
   "cell_type": "code",
   "execution_count": 28,
   "metadata": {},
   "outputs": [
    {
     "name": "stdout",
     "output_type": "stream",
     "text": [
      "pizza\n",
      "falafel\n",
      "carrot cake\n",
      "cannoli\n",
      "ice cream\n",
      "\n",
      "\n",
      "pizza\n",
      "falafel\n",
      "carrot cake\n",
      "cannoli\n",
      "ice cream\n",
      "pickles\n",
      "onions\n"
     ]
    }
   ],
   "source": [
    "# 4-13\n",
    "buffet_food = ('pizza', 'falafel', 'carrot cake', 'cannoli', 'ice cream')\n",
    "for food in buffet_food:\n",
    "    print(food)\n",
    "# buffet_food.append('test_food')\n",
    "print('\\n')\n",
    "\n",
    "buffet_food = ('pizza', 'falafel', 'carrot cake', 'cannoli', 'ice cream', 'pickles', 'onions')\n",
    "for food in buffet_food:\n",
    "    print(food)"
   ]
  },
  {
   "cell_type": "markdown",
   "metadata": {},
   "source": [
    "5-1. Conditional Tests: Write a series of conditional tests. Print a statement\n",
    "describing each test and your prediction for the results of each test. Your code\n",
    "should look something like this:\n",
    "\n",
    "car = 'subaru'\n",
    "\n",
    "print(\"Is car == 'subaru'? I predict True.\")\n",
    "\n",
    "print(car == 'subaru')\n",
    "\n",
    "print(\"\\nIs car == 'audi'? I predict False.\")\n",
    "\n",
    "print(car == 'audi')\n",
    "\n",
    "- Look closely at your results, and make sure you understand why each line\n",
    "evaluates to True or False.\n",
    "- Create at least ten tests. Have at least five tests evaluate to True and\n",
    "another five tests evaluate to False.\n",
    "\n",
    "5-2. More Conditional Tests: You don’t have to limit the number of tests you\n",
    "create to ten. If you want to try more comparisons, write more tests and add\n",
    "them to conditional_tests.py. Have at least one True and one False result for\n",
    "each of the following:\n",
    "- Tests for equality and inequality with strings\n",
    "- Tests using the lower() method\n",
    "- Numerical tests involving equality and inequality, greater than and\n",
    "less than, greater than or equal to, and less than or equal to\n",
    "- Tests using the and keyword and the or keyword\n",
    "- Test whether an item is in a list\n",
    "- Test whether an item is not in a list"
   ]
  },
  {
   "cell_type": "code",
   "execution_count": 29,
   "metadata": {},
   "outputs": [
    {
     "name": "stdout",
     "output_type": "stream",
     "text": [
      "Is this car a Subaru?\n",
      "False\n",
      "Is this car a Prius?\n",
      "True\n"
     ]
    }
   ],
   "source": [
    "# 5-1\n",
    "car = 'prius'\n",
    "print('Is this car a Subaru?')\n",
    "print(car == 'subaru')\n",
    "print('Is this car a Prius?')\n",
    "print(car == 'prius')"
   ]
  },
  {
   "cell_type": "code",
   "execution_count": 30,
   "metadata": {},
   "outputs": [
    {
     "data": {
      "text/plain": [
       "True"
      ]
     },
     "execution_count": 30,
     "metadata": {},
     "output_type": "execute_result"
    }
   ],
   "source": [
    "# 5-2\n",
    "foods = ['pizza', 'falafel', 'carrot cake', 'cannoli', 'ice cream', 'pepperoni', 'meatlovers', 'hawaiian', 'veggie', 'anchovie']\n",
    "'pepperoni' in foods and 'falafel' in foods"
   ]
  },
  {
   "cell_type": "code",
   "execution_count": 31,
   "metadata": {},
   "outputs": [
    {
     "data": {
      "text/plain": [
       "False"
      ]
     },
     "execution_count": 31,
     "metadata": {},
     "output_type": "execute_result"
    }
   ],
   "source": [
    "'spaghetti' in foods or not 'falafel' in foods"
   ]
  },
  {
   "cell_type": "code",
   "execution_count": 32,
   "metadata": {},
   "outputs": [
    {
     "data": {
      "text/plain": [
       "True"
      ]
     },
     "execution_count": 32,
     "metadata": {},
     "output_type": "execute_result"
    }
   ],
   "source": [
    "not 'spaghetti' in foods or 'falafel' in foods"
   ]
  },
  {
   "cell_type": "code",
   "execution_count": 33,
   "metadata": {},
   "outputs": [
    {
     "data": {
      "text/plain": [
       "True"
      ]
     },
     "execution_count": 33,
     "metadata": {},
     "output_type": "execute_result"
    }
   ],
   "source": [
    "'spaghetti' in foods or 'falafel' in foods"
   ]
  },
  {
   "cell_type": "markdown",
   "metadata": {},
   "source": [
    "## Try It Yourself\n",
    "5-3. Alien Colors #1: Imagine an alien was just shot down in a game. Create a\n",
    "variable called alien_color and assign it a value of 'green', 'yellow', or 'red'.\n",
    "- Write an if statement to test whether the alien’s color is green. If it is, print\n",
    "a message that the player just earned 5 points.\n",
    "- Write one version of this program that passes the if test and another that\n",
    "fails. (The version that fails will have no output.)\n",
    "\n",
    "5-4. Alien Colors #2: Choose a color for an alien as you did in Exercise 5-3, and\n",
    "write an if-else chain.\n",
    "- If the alien’s color is green, print a statement that the player just earned\n",
    "5 points for shooting the alien.\n",
    "- If the alien’s color isn’t green, print a statement that the player just earned\n",
    "10 points.\n",
    "- Write one version of this program that runs the if block and another that\n",
    "runs the else block."
   ]
  },
  {
   "cell_type": "code",
   "execution_count": 34,
   "metadata": {},
   "outputs": [
    {
     "name": "stdout",
     "output_type": "stream",
     "text": [
      "Player just earned 5 points!\n"
     ]
    }
   ],
   "source": [
    "# 5-3\n",
    "alien_color = 'green'\n",
    "if alien_color == 'green':\n",
    "    print('Player just earned 5 points!')\n",
    "if alien_color == 'yellow':\n",
    "    print('Player just earned 5 points!')"
   ]
  },
  {
   "cell_type": "code",
   "execution_count": 35,
   "metadata": {},
   "outputs": [
    {
     "name": "stdout",
     "output_type": "stream",
     "text": [
      "Player just earned 5 points!\n"
     ]
    }
   ],
   "source": [
    "# 5-4\n",
    "alien_color = 'green'\n",
    "if alien_color == 'green':\n",
    "    print('Player just earned 5 points!')\n",
    "else:\n",
    "    print('Player just earned 10 points!')"
   ]
  },
  {
   "cell_type": "code",
   "execution_count": 36,
   "metadata": {},
   "outputs": [
    {
     "name": "stdout",
     "output_type": "stream",
     "text": [
      "Player just earned 5 points!\n"
     ]
    }
   ],
   "source": [
    "# 5-5\n",
    "alien_color = 'green'\n",
    "if alien_color == 'green':\n",
    "    print('Player just earned 5 points!')\n",
    "elif alien_color == 'yellow':\n",
    "    print('Player just earned 10 points!')\n",
    "elif alien_color == 'red':\n",
    "    print('Player just earned 15 points!')"
   ]
  },
  {
   "cell_type": "code",
   "execution_count": 37,
   "metadata": {},
   "outputs": [
    {
     "name": "stdout",
     "output_type": "stream",
     "text": [
      "You are a teenager.\n"
     ]
    }
   ],
   "source": [
    "# 5-6\n",
    "age = int(input(\"How old are you?\"))\n",
    "\n",
    "if age < 2:\n",
    "    print('You are a baby.')\n",
    "elif age >= 2 and age < 4:\n",
    "    print('You are a toddler.')\n",
    "elif age >= 4 and age < 13:\n",
    "    print('You are a kid.')\n",
    "elif age >= 13 and age < 20:\n",
    "    print('You are a teenager.')\n",
    "elif age >= 20 and age < 65:\n",
    "    print('You are an adult.')\n",
    "elif age >= 65:\n",
    "    print('You are an elder.')\n",
    "else:\n",
    "    print('You did not enter a valid age. Please try again.')"
   ]
  },
  {
   "cell_type": "code",
   "execution_count": 38,
   "metadata": {},
   "outputs": [
    {
     "name": "stdout",
     "output_type": "stream",
     "text": [
      "You really like banana! I could really for a banana right now...\n"
     ]
    }
   ],
   "source": [
    "# 5-7\n",
    "fruits = ['kiwi', 'apple', 'orange', 'banana', 'grape', 'blueberry']\n",
    "\n",
    "fruit = input('What is your favorite fruit?')\n",
    "\n",
    "if fruit in fruits:\n",
    "    print(f'You really like {fruit}! I could really for a {fruit} right now...')\n",
    "else:\n",
    "    print(f'{fruit} is not something we have available.')"
   ]
  },
  {
   "cell_type": "code",
   "execution_count": 39,
   "metadata": {},
   "outputs": [
    {
     "name": "stdout",
     "output_type": "stream",
     "text": [
      "Adding mushrooms.\n",
      "Sorry, we don't have french fries.\n",
      "Adding extra cheese.\n",
      "\n",
      "Finished making your pizza!\n"
     ]
    }
   ],
   "source": [
    "available_toppings = ['mushrooms', 'olives', 'green peppers',\n",
    "'pepperoni', 'pineapple', 'extra cheese']\n",
    "requested_toppings = ['mushrooms', 'french fries', 'extra cheese']\n",
    "\n",
    "for requested_topping in requested_toppings:\n",
    "    if requested_topping in available_toppings:\n",
    "        print(f'Adding {requested_topping}.')\n",
    "    else:\n",
    "        print(f\"Sorry, we don't have {requested_topping}.\")\n",
    "\n",
    "print(\"\\nFinished making your pizza!\")"
   ]
  },
  {
   "cell_type": "code",
   "execution_count": 40,
   "metadata": {},
   "outputs": [
    {
     "name": "stdout",
     "output_type": "stream",
     "text": [
      "Hello mike, thank you for logging in.\n",
      "Hello sally, thank you for logging in.\n",
      "Hello jim, thank you for logging in.\n",
      "Hello jemi, thank you for logging in.\n",
      "Hello dave, thank you for logging in.\n",
      "Hello admin, would you like to see a status report?\n"
     ]
    }
   ],
   "source": [
    "# 5-8\n",
    "usernames = ['mike', 'sally', 'jim', 'jemi', 'dave', 'admin']\n",
    "for username in usernames:\n",
    "    if username == 'admin':\n",
    "        print(f\"Hello {username}, would you like to see a status report?\")\n",
    "    else:\n",
    "        print(f\"Hello {username}, thank you for logging in.\")"
   ]
  },
  {
   "cell_type": "code",
   "execution_count": 41,
   "metadata": {},
   "outputs": [
    {
     "name": "stdout",
     "output_type": "stream",
     "text": [
      "Hello mike, thank you for logging in.\n",
      "Hello sally, thank you for logging in.\n",
      "Hello jim, thank you for logging in.\n",
      "Hello jemi, thank you for logging in.\n",
      "Hello dave, thank you for logging in.\n",
      "Hello admin, would you like to see a status report?\n"
     ]
    }
   ],
   "source": [
    "# 5-9\n",
    "usernames = ['mike', 'sally', 'jim', 'jemi', 'dave', 'admin']\n",
    "\n",
    "for username in usernames:\n",
    "    if username == 'admin':\n",
    "        print(f\"Hello {username}, would you like to see a status report?\")\n",
    "    elif username in usernames and username != 'admin':\n",
    "        print(f\"Hello {username}, thank you for logging in.\")\n",
    "    elif username == '':\n",
    "        print(f\"We need to find some users!\")"
   ]
  },
  {
   "cell_type": "code",
   "execution_count": 42,
   "metadata": {},
   "outputs": [
    {
     "name": "stdout",
     "output_type": "stream",
     "text": [
      "A system error occurred. Please try again.\n"
     ]
    }
   ],
   "source": [
    "# 5-9\n",
    "usernames = ['mike', 'sally', 'jim', 'jemi', 'dave', 'admin']\n",
    "username_input = input(\"What is your username?\")\n",
    "\n",
    "for username in username_input:\n",
    "    if username == 'admin':\n",
    "        print(f\"Hello {username}, would you like to see a status report?\")\n",
    "    elif username in usernames and username != 'admin':\n",
    "        print(f\"Hello {username}, thank you for logging in.\")\n",
    "    elif username == '':\n",
    "        print(f\"We need to find some users!\")\n",
    "\n",
    "if username_input in usernames and username_input == 'admin':\n",
    "    print(f\"Hello {username}, would you like to see a status report?\")\n",
    "elif username_input in usernames and username_input != 'admin':\n",
    "    print(f\"Hello {username_input}, thank you for logging in.\")\n",
    "elif username_input not in usernames:\n",
    "    print(\"A system error occurred. Please try again.\")\n",
    "elif username_input == '':\n",
    "    print(f\"We need to find some users!\")"
   ]
  },
  {
   "cell_type": "code",
   "execution_count": 43,
   "metadata": {},
   "outputs": [
    {
     "name": "stdout",
     "output_type": "stream",
     "text": [
      "This username 'mike' is already in use. Normally I would not disclose such information, but this is for practice so cybersecurity and SecDevOps best practices obviously go out the window. Enter a different username since you now have solid information on one of the current usernames...\n",
      "This username 'sally' is already in use. Normally I would not disclose such information, but this is for practice so cybersecurity and SecDevOps best practices obviously go out the window. Enter a different username since you now have solid information on one of the current usernames...\n",
      "This username 'jim' is already in use. Normally I would not disclose such information, but this is for practice so cybersecurity and SecDevOps best practices obviously go out the window. Enter a different username since you now have solid information on one of the current usernames...\n",
      "The username 'frank' is available.\n",
      "The username 'ellie' is available.\n",
      "The username 'avery' is available.\n",
      "The username 'tim' is available.\n"
     ]
    }
   ],
   "source": [
    "# 5-10\n",
    "current_users = ['mike', 'sally', 'jim', 'jemi', 'dave', 'admin']\n",
    "new_users = ['mike', 'sally', 'jim', 'frank', 'ellie', 'avery', 'tim']\n",
    "\n",
    "for user in new_users:\n",
    "    if user.lower() in current_users:\n",
    "        print(f\"This username '{user}' is already in use. Normally I would not disclose \"\n",
    "        \"such information, but this is for practice so cybersecurity and SecDevOps best \"\n",
    "        \"practices obviously go out the window. Enter a different username \"\n",
    "        \"since you now have solid information on one of the current usernames...\")\n",
    "    elif user.lower() not in current_users:\n",
    "        print(f\"The username '{user}' is available.\")"
   ]
  },
  {
   "cell_type": "code",
   "execution_count": 44,
   "metadata": {},
   "outputs": [
    {
     "name": "stdout",
     "output_type": "stream",
     "text": [
      "1st\n",
      "2nd\n",
      "3rd\n",
      "4th\n",
      "5th\n",
      "6th\n",
      "7th\n",
      "8th\n",
      "9th\n"
     ]
    }
   ],
   "source": [
    "# 5-11\n",
    "# numbers = []\n",
    "# for i in range(1,10):\n",
    "#     numbers.append(i)\n",
    "# numbers\n",
    "\n",
    "numbers = [number for number in list(range(1, 10))]\n",
    "numbers\n",
    "\n",
    "for number in numbers:\n",
    "    if number == 1:\n",
    "        # print(f\"{number}st\")\n",
    "        print(str(number) + \"st\")\n",
    "    elif number == 2:\n",
    "        print(f\"{number}nd\")\n",
    "    elif number == 3:\n",
    "        print(f\"{number}rd\")\n",
    "    else:\n",
    "        print(f\"{number}th\")"
   ]
  },
  {
   "cell_type": "markdown",
   "metadata": {},
   "source": [
    "## Try It Yourself\n",
    "5-12. Styling if statements: Review the programs you wrote in this chapter, and\n",
    "make sure you styled your conditional tests appropriately.\n",
    "\n",
    "5-13. Your Ideas: At this point, you’re a more capable programmer than you\n",
    "were when you started this book. Now that you have a better sense of how\n",
    "real-world situations are modeled in programs, you might be thinking of some\n",
    "problems you could solve with your own programs. Record any new ideas you\n",
    "have about problems you might want to solve as your programming skills continue\n",
    "to improve. Consider games you might want to write, data sets you might\n",
    "want to explore, and web applications you’d like to create."
   ]
  },
  {
   "cell_type": "code",
   "execution_count": 45,
   "metadata": {},
   "outputs": [],
   "source": [
    "# 5-12\n"
   ]
  },
  {
   "cell_type": "code",
   "execution_count": 46,
   "metadata": {},
   "outputs": [],
   "source": [
    "# 5-13"
   ]
  },
  {
   "cell_type": "markdown",
   "metadata": {},
   "source": [
    "## Ch. 6"
   ]
  },
  {
   "cell_type": "markdown",
   "metadata": {},
   "source": [
    "6-1. Person: Use a dictionary to store information about a person you know.\n",
    "Store their first name, last name, age, and the city in which they live. You\n",
    "should have keys such as first_name, last_name, age, and city. Print each\n",
    "piece of information stored in your dictionary.\n",
    "\n",
    "6-2. Favorite Numbers: Use a dictionary to store people’s favorite numbers.\n",
    "Think of five names, and use them as keys in your dictionary. Think of a favorite\n",
    "number for each person, and store each as a value in your dictionary. Print\n",
    "each person’s name and their favorite number. For even more fun, poll a few\n",
    "friends and get some actual data for your program.\n",
    "\n",
    "6-3. Glossary: A Python dictionary can be used to model an actual dictionary.\n",
    "However, to avoid confusion, let’s call it a glossary.\n",
    "- Think of five programming words you’ve learned about in the previous\n",
    "chapters. Use these words as the keys in your glossary, and store their\n",
    "meanings as values.\n",
    "- Print each word and its meaning as neatly formatted output. You might\n",
    "print the word followed by a colon and then its meaning, or print the word\n",
    "on one line and then print its meaning indented on a second line. Use the\n",
    "newline character (\\n) to insert a blank line between each word-meaning\n",
    "pair in your output."
   ]
  },
  {
   "cell_type": "code",
   "execution_count": 47,
   "metadata": {},
   "outputs": [
    {
     "name": "stdout",
     "output_type": "stream",
     "text": [
      "{'first_name': 'john', 'last_name': 'smith', 'age': '28', 'city': 'Seattle'}\n",
      "dict_keys(['first_name', 'last_name', 'age', 'city'])\n",
      "dict_values(['john', 'smith', '28', 'Seattle'])\n"
     ]
    }
   ],
   "source": [
    "# 6-1\n",
    "person = {\n",
    "    'first_name' : 'john',\n",
    "    'last_name' : 'smith',\n",
    "    'age' : '28',\n",
    "    'city' : 'Seattle',\n",
    "}\n",
    "\n",
    "print(person)\n",
    "print(person.keys())\n",
    "print(person.values())"
   ]
  },
  {
   "cell_type": "code",
   "execution_count": 48,
   "metadata": {},
   "outputs": [
    {
     "name": "stdout",
     "output_type": "stream",
     "text": [
      "{'julie': '57', 'dan': '21', 'michael': '37', 'jake': '18', 'triston': '9'}\n",
      "List of prople: dict_keys(['julie', 'dan', 'michael', 'jake', 'triston'])\n",
      "List of favorite numbers: dict_values(['57', '21', '37', '18', '9'])\n",
      "julie\n",
      "dan\n",
      "michael\n",
      "jake\n",
      "triston\n",
      "57\n",
      "21\n",
      "37\n",
      "18\n",
      "9\n",
      "['julie', 'dan', 'michael', 'jake', 'triston']\n",
      "['57', '21', '37', '18', '9']\n"
     ]
    }
   ],
   "source": [
    "# 6-2\n",
    "favorite_number = {\n",
    "    'julie' : '57',\n",
    "    'dan' : '21',\n",
    "    'michael' : '37',\n",
    "    'jake' : '18',\n",
    "    'triston' : '9',\n",
    "}\n",
    "\n",
    "print(favorite_number)\n",
    "print(f\"List of prople: {favorite_number.keys()}\")\n",
    "print(f\"List of favorite numbers: {favorite_number.values()}\")\n",
    "\n",
    "for key in favorite_number.keys():\n",
    "    print(key)\n",
    "\n",
    "for value in favorite_number.values():\n",
    "    print(value)\n",
    "\n",
    "key = [key for key in favorite_number.keys()]\n",
    "key\n",
    "print([key for key in favorite_number.keys()])\n",
    "\n",
    "value = [value for value in favorite_number.values()]\n",
    "print(value)\n",
    "# [value for value in favorite_number.values()]"
   ]
  },
  {
   "cell_type": "code",
   "execution_count": 49,
   "metadata": {},
   "outputs": [
    {
     "name": "stdout",
     "output_type": "stream",
     "text": [
      "{'julie': '57', 'dan': '21', 'michael': '37', 'jake': '18', 'triston': '9'}\n",
      "List of prople: dict_keys(['julie', 'dan', 'michael', 'jake', 'triston'])\n",
      "\n",
      "List of favorite numbers: dict_values(['57', '21', '37', '18', '9'])\n"
     ]
    }
   ],
   "source": [
    "# 6-3\n",
    "print(favorite_number)\n",
    "print(f\"List of prople: {favorite_number.keys()}\\n\")\n",
    "print(f\"List of favorite numbers: {favorite_number.values()}\")"
   ]
  },
  {
   "cell_type": "markdown",
   "metadata": {},
   "source": [
    "6-4. Glossary 2: Now that you know how to loop through a dictionary, clean\n",
    "up the code from Exercise 6-3 (page 99) by replacing your series of print()\n",
    "calls with a loop that runs through the dictionary’s keys and values. When\n",
    "you’re sure that your loop works, add five more Python terms to your glossary.\n",
    "When you run your program again, these new words and meanings should\n",
    "automatically be included in the output.\n",
    "\n",
    "6-5. Rivers: Make a dictionary containing three major rivers and the country\n",
    "each river runs through. One key-value pair might be 'nile': 'egypt'.\n",
    "- Use a loop to print a sentence about each river, such as The Nile runs\n",
    "through Egypt.\n",
    "- Use a loop to print the name of each river included in the dictionary.\n",
    "- Use a loop to print the name of each country included in the dictionary.\n",
    "\n",
    "6-6. Polling: Use the code in favorite_languages.py (page 97).\n",
    "- Make a list of people who should take the favorite languages poll. Include\n",
    "some names that are already in the dictionary and some that are not.\n",
    "- Loop through the list of people who should take the poll. If they have\n",
    "already taken the poll, print a message thanking them for responding.\n",
    "If they have not yet taken the poll, print a message inviting them to take\n",
    "the poll."
   ]
  },
  {
   "cell_type": "code",
   "execution_count": 50,
   "metadata": {},
   "outputs": [
    {
     "name": "stdout",
     "output_type": "stream",
     "text": [
      "{'first_name': 'john', 'last_name': 'smith', 'age': '28', 'city': 'Seattle'}\n",
      "dict_keys(['first_name', 'last_name', 'age', 'city'])\n",
      "dict_values(['john', 'smith', '28', 'Seattle'])\n",
      "first_name : john\n",
      "last_name : smith\n",
      "age : 28\n",
      "city : Seattle\n",
      "[['first_name', 'john'], ['last_name', 'smith'], ['age', '28'], ['city', 'Seattle']]\n",
      "[('first_name', 'john'), ('last_name', 'smith'), ('age', '28'), ('city', 'Seattle')]\n"
     ]
    }
   ],
   "source": [
    "# 6-4\n",
    "print(person)\n",
    "print(person.keys())\n",
    "print(person.values())\n",
    "\n",
    "for key, value in person.items():\n",
    "    print(f\"{key} : {value}\")\n",
    "\n",
    "key_value = [[key, value] for [key, value] in person.items()]\n",
    "print(key_value)\n",
    "\n",
    "key_value = [(key, value) for (key, value) in person.items()]\n",
    "print(key_value)\n",
    "\n",
    "# for key in person.keys():\n",
    "#     for value in person.values():\n",
    "#         print(f\"{key} : {value}\")\n",
    "\n",
    "# for value in person\n",
    "\n",
    "# for key, value in person.items():\n",
    "#     print(f\"\\nKey: {key}\")\n",
    "#     print(f\"Value: {value}\")\n",
    "\n",
    "# for key, value in person.key(), person.values():\n",
    "#     print(f\"{key} : {value}\")"
   ]
  },
  {
   "cell_type": "code",
   "execution_count": 51,
   "metadata": {},
   "outputs": [
    {
     "name": "stdout",
     "output_type": "stream",
     "text": [
      "The Nile River runs through Egypt.\n",
      "The Amazon River runs through Brazil.\n",
      "The Mississippi River runs through United States.\n",
      "The Xiangzhe River runs through China.\n"
     ]
    }
   ],
   "source": [
    "# 6-5\n",
    "rivers = {\n",
    "    'nile' : 'egypt',\n",
    "    'amazon' : 'brazil',\n",
    "    'mississippi' : 'united states',\n",
    "    'xiangzhe' : 'china',\n",
    "}\n",
    "\n",
    "for key, value in rivers.items():\n",
    "    print(f\"The {key.title()} River runs through {value.title()}.\")"
   ]
  },
  {
   "cell_type": "code",
   "execution_count": 52,
   "metadata": {},
   "outputs": [
    {
     "name": "stdout",
     "output_type": "stream",
     "text": [
      "Thank you Julie for taking the poll! I like Python too!\n",
      "Thank you Dan for taking the poll! I like Ruby too!\n",
      "Thank you Michael for taking the poll! I like C too!\n",
      "Thank you Jake for taking the poll! I like Rust too!\n",
      "Thank you Triston for taking the poll! I like Java too!\n"
     ]
    }
   ],
   "source": [
    "# 6-6\n",
    "# favorite_languages = {'python', 'ruby', 'python', 'c'}\n",
    "# favorite_languages\n",
    "\n",
    "favorite_languages = {\n",
    "    'julie' : 'python',\n",
    "    'dan' : 'ruby',\n",
    "    'michael' : 'c',\n",
    "    'jake' : 'rust',\n",
    "    'triston' : 'java',\n",
    "}\n",
    "\n",
    "for key, value in favorite_languages.items():\n",
    "    print(f\"Thank you {key.title()} for taking the poll! I like {value.title()} too!\")"
   ]
  },
  {
   "cell_type": "markdown",
   "metadata": {},
   "source": [
    "6-7. People: Start with the program you wrote for Exercise 6-1 (page 99).\n",
    "Make two new dictionaries representing different people, and store all three\n",
    "dictionaries in a list called people. Loop through your list of people. As you\n",
    "loop through the list, print everything you know about each person.\n",
    "\n",
    "6-8. Pets: Make several dictionaries, where each dictionary represents a different\n",
    "pet. In each dictionary, include the kind of animal and the owner’s name.\n",
    "Store these dictionaries in a list called pets. Next, loop through your list and as\n",
    "you do, print everything you know about each pet.\n",
    "\n",
    "6-9. Favorite Places: Make a dictionary called favorite_places. Think of three\n",
    "names to use as keys in the dictionary, and store one to three favorite places\n",
    "for each person. To make this exercise a bit more interesting, ask some friends\n",
    "to name a few of their favorite places. Loop through the dictionary, and print\n",
    "each person’s name and their favorite places.\n",
    "\n",
    "6-10. Favorite Numbers: Modify your program from Exercise 6-2 (page 99)\n",
    "so each person can have more than one favorite number. Then print each person’s\n",
    "name along with their favorite numbers.\n",
    "\n",
    "6-11. Cities: Make a dictionary called cities. Use the names of three cities as\n",
    "keys in your dictionary. Create a dictionary of information about each city and\n",
    "include the country that the city is in, its approximate population, and one fact\n",
    "about that city. The keys for each city’s dictionary should be something like\n",
    "country, population, and fact. Print the name of each city and all of the information\n",
    "you have stored about it.\n",
    "\n",
    "6-12. Extensions: We’re now working with examples that are complex enough\n",
    "that they can be extended in any number of ways. Use one of the example programs\n",
    "from this chapter, and extend it by adding new keys and values, changing\n",
    "the context of the program or improving the formatting of the output."
   ]
  },
  {
   "cell_type": "code",
   "execution_count": 55,
   "metadata": {},
   "outputs": [
    {
     "name": "stdout",
     "output_type": "stream",
     "text": [
      "{'first_name': 'john', 'last_name': 'smith', 'age': '28', 'city': 'Seattle'}\n",
      "dict_keys(['first_name', 'last_name', 'age', 'city'])\n",
      "dict_values(['john', 'smith', '28', 'Seattle'])\n"
     ]
    }
   ],
   "source": [
    "# 6-7\n",
    "# people_dictionary = {\n",
    "#     'jsmith' : {\n",
    "#         'first_name' : 'john',\n",
    "#         'last_name' : 'smith',\n",
    "#         'age' : '28',\n",
    "#         'city' : 'Seattle',\n",
    "#         },\n",
    "#     'mgreen' : {\n",
    "#         'first_name' : 'mary',\n",
    "#         'last_name' : 'green',\n",
    "#         'age' : '30',\n",
    "#         'city' : 'los angeles',        \n",
    "#         },\n",
    "#     'mdavis' : {\n",
    "#         'first_name' : 'mike',\n",
    "#         'last_name' : 'davis',\n",
    "#         'age' : '25',\n",
    "#         'city' : 'atlanta',        \n",
    "#         },\n",
    "#     }\n",
    "\n",
    "person1 = {\n",
    "    'username' : 'jsmith',\n",
    "    'first_name' : 'john',\n",
    "    'last_name' : 'smith',\n",
    "    'age' : '28',\n",
    "    'city' : 'Seattle',\n",
    "    }\n",
    "\n",
    "person2 = {\n",
    "    'username' : 'mgreen',\n",
    "    'first_name' : 'mary',\n",
    "    'last_name' : 'green',\n",
    "    'age' : '30',\n",
    "    'city' : 'los angeles',        \n",
    "    }\n",
    "\n",
    "person3 = {\n",
    "    'username' : 'mdavis',\n",
    "    'first_name' : 'mike',\n",
    "    'last_name' : 'davis',\n",
    "    'age' : '25',\n",
    "    'city' : 'atlanta',        \n",
    "    }\n",
    "\n",
    "people = [person1, person2, person3]\n",
    "\n",
    "# for key, value in people.items():\n",
    "#     print(f\"{key}\")\n",
    "#     print(f\"{value}\")\n",
    "\n",
    "# for person in people.items():\n",
    "#     print(person)\n",
    "\n",
    "\n",
    "print(person)\n",
    "print(person.keys())\n",
    "print(person.values())"
   ]
  },
  {
   "cell_type": "markdown",
   "metadata": {},
   "source": [
    "7-1. Rental Car: Write a program that asks the user what kind of rental car they\n",
    "would like. Print a message about that car, such as “Let me see if I can find you\n",
    "a Subaru.”\n",
    "\n",
    "7-2. Restaurant Seating: Write a program that asks the user how many people\n",
    "are in their dinner group. If the answer is more than eight, print a message saying\n",
    "they’ll have to wait for a table. Otherwise, report that their table is ready.\n",
    "\n",
    "7-3. Multiples of Ten: Ask the user for a number, and then report whether the\n",
    "number is a multiple of 10 or not."
   ]
  },
  {
   "cell_type": "code",
   "execution_count": 57,
   "metadata": {},
   "outputs": [
    {
     "name": "stdout",
     "output_type": "stream",
     "text": [
      "Let me see if I can find you a Subaru.\n"
     ]
    }
   ],
   "source": [
    "# 7-1\n",
    "rental_car = input(\"What kind of rental car would you like?\")\n",
    "\n",
    "print(f\"Let me see if I can find you a {rental_car.title()}.\")"
   ]
  },
  {
   "cell_type": "code",
   "execution_count": 63,
   "metadata": {},
   "outputs": [
    {
     "name": "stdout",
     "output_type": "stream",
     "text": [
      "I am sorry, we currently do not have seating available for a party of 9. You will have to wait about 45 minutes.\n"
     ]
    }
   ],
   "source": [
    "# 7-2\n",
    "dinner_group_size = input(\"How many people do you have in your party?\")\n",
    "dinner_group_size = int(dinner_group_size)\n",
    "\n",
    "if dinner_group_size > 8:\n",
    "    print(f\"I am sorry, we currently do not have seating available for a party of {dinner_group_size}.\"\n",
    "    \" You will have to wait about 45 minutes.\")\n",
    "elif dinner_group_size <= 8:\n",
    "    print(f\"Party of {dinner_group_size}, your table is ready. Please follow the hostess.\")"
   ]
  },
  {
   "cell_type": "code",
   "execution_count": 67,
   "metadata": {},
   "outputs": [
    {
     "name": "stdout",
     "output_type": "stream",
     "text": [
      "Conrats, the number 90 is divisible by 10!\n"
     ]
    }
   ],
   "source": [
    "# 7-3\n",
    "user_number = input(\"Tell me a number and I will tell you if it is divisible by 10.\")\n",
    "user_number = int(user_number)\n",
    "\n",
    "if user_number % 10 == 0:\n",
    "    print(f\"Conrats, the number {user_number} is divisible by 10!\")\n",
    "elif user_number % 10 != 0:\n",
    "    print(f\"Sorry, the number {user_number} is not divisible by 10.\")"
   ]
  },
  {
   "cell_type": "markdown",
   "metadata": {},
   "source": [
    "7-4. Pizza Toppings: Write a loop that prompts the user to enter a series of\n",
    "pizza toppings until they enter a 'quit' value. As they enter each topping,\n",
    "print a message saying you’ll add that topping to their pizza.\n",
    "\n",
    "7-5. Movie Tickets: A movie theater charges different ticket prices depending on\n",
    "a person’s age. If a person is under the age of 3, the ticket is free; if they are\n",
    "between 3 and 12, the ticket is $10; and if they are over age 12, the ticket is\n",
    "$15. Write a loop in which you ask users their age, and then tell them the cost\n",
    "of their movie ticket.\n",
    "\n",
    "7-6. Three Exits: Write different versions of either Exercise 7-4 or Exercise 7-5\n",
    "that do each of the following at least once:\n",
    "- Use a conditional test in the while statement to stop the loop.\n",
    "- Use an active variable to control how long the loop runs.\n",
    "- Use a break statement to exit the loop when the user enters a 'quit' value.\n",
    "\n",
    "7-7. Infinity: Write a loop that never ends, and run it. (To end the loop, press\n",
    "ctrl-C or close the window displaying the output.)"
   ]
  },
  {
   "cell_type": "code",
   "execution_count": 71,
   "metadata": {},
   "outputs": [
    {
     "name": "stdout",
     "output_type": "stream",
     "text": [
      "Adding pepperoni to your pizza topping list.\n",
      "Adding salami to your pizza topping list.\n",
      "Adding anchovies to your pizza topping list.\n",
      "\n",
      "You added ['pepperoni', 'salami', 'anchovies'] to your pizza.\n"
     ]
    }
   ],
   "source": [
    "# 7-4\n",
    "prompt = \"\\nPlease enter which topping you want on your pizza:\"\n",
    "prompt += \"\\nEnter 'quit' when you are finished.\"\n",
    "\n",
    "toppings = []\n",
    "\n",
    "while True:\n",
    "    topping = input(prompt)\n",
    "\n",
    "    if topping == 'quit':\n",
    "        print(f\"\\nYou added {toppings} to your pizza.\")\n",
    "        break\n",
    "    else:\n",
    "        print(f\"Adding {topping} to your pizza topping list.\")\n",
    "        toppings.append(topping)"
   ]
  },
  {
   "cell_type": "code",
   "execution_count": 81,
   "metadata": {},
   "outputs": [
    {
     "name": "stdout",
     "output_type": "stream",
     "text": [
      "You are over the age of 90 so GIMME DAT MONEY. Price is $10, fool.\n"
     ]
    }
   ],
   "source": [
    "# 7-5\n",
    "# 7-5. Movie Tickets: A movie theater charges different ticket prices depending on\n",
    "# a person’s age. If a person is under the age of 3, the ticket is free; if they are\n",
    "# between 3 and 12, the ticket is $10; and if they are over age 12, the ticket is\n",
    "# $15. Write a loop in which you ask users their age, and then tell them the cost\n",
    "# of their movie ticket.\n",
    "\n",
    "prompt = \"\\nPlease enter your age to receive an estimate of your total charge for the movie:\"\n",
    "prompt += \"\\nNo cheating!\"\n",
    "prompt += \"\\nEnter 'quit' when you are finished \"\n",
    "\n",
    "while True:\n",
    "    age = input(prompt)\n",
    "\n",
    "    if age == 'quit':\n",
    "        break\n",
    "    elif int(age) < 3:\n",
    "        print(\"Your ticket is free\")\n",
    "    elif int(age) >= 3 and int(age) <= 12:\n",
    "        print(f\"You are {age} so your ticket is $10.\")\n",
    "    elif int(age) > 12:\n",
    "        print(f\"You are over the age of {age} so GIMME DAT MONEY. Price is $10, fool.\")"
   ]
  },
  {
   "cell_type": "code",
   "execution_count": 82,
   "metadata": {},
   "outputs": [
    {
     "name": "stdout",
     "output_type": "stream",
     "text": [
      "Adding pepperoni to your pizza topping list.\n",
      "Adding salami to your pizza topping list.\n",
      "Adding pineapple to your pizza topping list.\n",
      "\n",
      "You added ['pepperoni', 'salami', 'pineapple'] to your pizza.\n",
      "You have reached 3 toppings, which is the maximum toppings you can have.\n"
     ]
    }
   ],
   "source": [
    "# 7-6. \n",
    "# Three Exits: Write different versions of either Exercise 7-4 or Exercise 7-5\n",
    "# that do each of the following at least once:\n",
    "# - Use a conditional test in the while statement to stop the loop.\n",
    "# - Use an active variable to control how long the loop runs.\n",
    "# - Use a break statement to exit the loop when the user enters a 'quit' value.\n",
    "\n",
    "prompt = \"\\nPlease enter which topping you want on your pizza:\"\n",
    "prompt += \"\\nEnter 'quit' when you are finished.\"\n",
    "\n",
    "toppings = []\n",
    "topping_count = 0\n",
    "\n",
    "while True:\n",
    "    topping = input(prompt)\n",
    "\n",
    "    if topping == 'quit':\n",
    "        print(f\"\\nYou added {toppings} toppings to your pizza.\")\n",
    "        break\n",
    "    else:\n",
    "        print(f\"Adding {topping} to your pizza topping list.\")\n",
    "        toppings.append(topping)\n",
    "        topping_count += 1\n",
    "        if topping_count <= 2:\n",
    "            continue\n",
    "        elif topping_count > 2:\n",
    "            print(f\"\\nYou added {toppings} to your pizza.\")\n",
    "            print(f\"You have reached 3 toppings, which is the maximum toppings you can have.\")\n",
    "            break"
   ]
  },
  {
   "cell_type": "markdown",
   "metadata": {},
   "source": [
    "7-8. Deli: Make a list called sandwich_orders and fill it with the names of various\n",
    "sandwiches. Then make an empty list called finished_sandwiches. Loop\n",
    "through the list of sandwich orders and print a message for each order, such\n",
    "as I made your tuna sandwich. As each sandwich is made, move it to the list\n",
    "of finished sandwiches. After all the sandwiches have been made, print a\n",
    "message listing each sandwich that was made.\n",
    "\n",
    "7-9. No Pastrami: Using the list sandwich_orders from Exercise 7-8, make sure\n",
    "the sandwich 'pastrami' appears in the list at least three times. Add code\n",
    "near the beginning of your program to print a message saying the deli has\n",
    "run out of pastrami, and then use a while loop to remove all occurrences of\n",
    "'pastrami' from sandwich_orders. Make sure no pastrami sandwiches end up\n",
    "in finished_sandwiches.\n",
    "\n",
    "7-10. Dream Vacation: Write a program that polls users about their dream vacation.\n",
    "Write a prompt similar to If you could visit one place in the world, where\n",
    "would you go? Include a block of code that prints the results of the poll."
   ]
  },
  {
   "cell_type": "code",
   "execution_count": null,
   "metadata": {},
   "outputs": [],
   "source": []
  }
 ],
 "metadata": {
  "interpreter": {
   "hash": "77b0fca11f5c97acb8aefe74dba7b131a51b5f55730f888d94f92ef2c92d313a"
  },
  "kernelspec": {
   "display_name": "Python 3.10.0 64-bit",
   "language": "python",
   "name": "python3"
  },
  "language_info": {
   "codemirror_mode": {
    "name": "ipython",
    "version": 3
   },
   "file_extension": ".py",
   "mimetype": "text/x-python",
   "name": "python",
   "nbconvert_exporter": "python",
   "pygments_lexer": "ipython3",
   "version": "3.10.0"
  },
  "orig_nbformat": 4
 },
 "nbformat": 4,
 "nbformat_minor": 2
}
