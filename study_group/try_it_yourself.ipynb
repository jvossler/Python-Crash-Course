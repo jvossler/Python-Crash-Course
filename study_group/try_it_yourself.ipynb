{
 "cells": [
  {
   "cell_type": "markdown",
   "metadata": {},
   "source": [
    "1-1. python.org: Explore the Python home page (https://python.org/) to find\n",
    "topics that interest you. As you become familiar with Python, different parts of\n",
    "the site will be more useful to you.\n",
    "\n",
    "1-2. Hello World Typos: Open the hello_world.py file you just created. Make a\n",
    "typo somewhere in the line and run the program again. Can you make a typo\n",
    "that generates an error? Can you make sense of the error message? Can you\n",
    "make a typo that doesn’t generate an error? Why do you think it didn’t make\n",
    "an error?\n",
    "\n",
    "1-3. Infinite Skills: If you had infinite programming skills, what would you build?\n",
    "You’re about to learn how to program. If you have an end goal in mind, you’ll\n",
    "have an immediate use for your new skills; now is a great time to draft descriptions\n",
    "of what you want to create. It’s a good habit to keep an “ideas” notebook\n",
    "that you can refer to whenever you want to start a new project. Take a few\n",
    "minutes now to describe three programs you want to create."
   ]
  },
  {
   "cell_type": "code",
   "execution_count": null,
   "metadata": {},
   "outputs": [],
   "source": []
  },
  {
   "cell_type": "markdown",
   "metadata": {},
   "source": [
    "Write a separate program to accomplish each of these exercises. Save each\n",
    "program with a filename that follows standard Python conventions, using\n",
    "lowercase\n",
    "letters and underscores, such as simple_message.py and simple\n",
    "_messages.py.\n",
    "\n",
    "2-1. Simple Message: Assign a message to a variable, and then print that\n",
    "message.\n",
    "\n",
    "2-2. Simple Messages: Assign a message to a variable, and print that message.\n",
    "Then change the value of the variable to a new message, and print the new\n",
    "message."
   ]
  },
  {
   "cell_type": "code",
   "execution_count": 92,
   "metadata": {},
   "outputs": [
    {
     "name": "stdout",
     "output_type": "stream",
     "text": [
      "Goodbye, forever!\n"
     ]
    }
   ],
   "source": [
    "# 2-1\n",
    "message_variable = \"Hello, World!\"\n",
    "message_variable\n",
    "\n",
    "# 2-2\n",
    "message_variable = \"Goodbye, forever!\"\n",
    "print(message_variable)"
   ]
  },
  {
   "cell_type": "markdown",
   "metadata": {},
   "source": [
    "Save each of the following exercises as a separate file with a name like\n",
    "name_cases.py. If you get stuck, take a break or see the suggestions in\n",
    "Appendix C.\n",
    "\n",
    "2-3. Personal Message: Use a variable to represent a person’s name, and print\n",
    "a message to that person. Your message should be simple, such as, “Hello Eric,\n",
    "would you like to learn some Python today?”\n",
    "\n",
    "2-4. Name Cases: Use a variable to represent a person’s name, and then print\n",
    "that person’s name in lowercase, uppercase, and title case.\n",
    "\n",
    "2-5. Famous Quote: Find a quote from a famous person you admire. Print the\n",
    "quote and the name of its author. Your output should look something like the\n",
    "following, including the quotation marks:\n",
    "Albert Einstein once said, “A person who never made a\n",
    "mistake never tried anything new.”\n",
    "\n",
    "2-6. Famous Quote 2: Repeat Exercise 2-5, but this time, represent the\n",
    "famous person’s name using a variable called famous_person. Then compose\n",
    "your message\n",
    "and represent it with a new variable called message. Print your\n",
    "message.\n",
    "\n",
    "2-7. Stripping Names: Use a variable to represent a person’s name, and include\n",
    "some whitespace characters at the beginning and end of the name. Make sure\n",
    "you use each character combination, \"\\t\" and \"\\n\", at least once.\n",
    "Print the name once, so the whitespace around the name is displayed.\n",
    "Then print the name using each of the three stripping functions, lstrip(),\n",
    "rstrip(), and strip()."
   ]
  },
  {
   "cell_type": "code",
   "execution_count": 93,
   "metadata": {},
   "outputs": [
    {
     "name": "stdout",
     "output_type": "stream",
     "text": [
      "Hello mike, would you like to learn some Python today?\n",
      "mike\n",
      "MIKE\n",
      "Mike\n",
      "Mike\n"
     ]
    }
   ],
   "source": [
    "# 2-3\n",
    "name = input(\"What is your name?\")\n",
    "print(f\"Hello {name}, would you like to learn some Python today?\")\n",
    "\n",
    "# 2-4\n",
    "print(name.lower())\n",
    "print(name.upper())\n",
    "print(name.capitalize())\n",
    "print(name.title())"
   ]
  },
  {
   "cell_type": "code",
   "execution_count": 94,
   "metadata": {},
   "outputs": [
    {
     "name": "stdout",
     "output_type": "stream",
     "text": [
      "William Shakespeare wrote: \"Two households, both alike in dignity. In fair Verona, where we lay our scene.\"\n",
      "William Shakespeare wrote: \"Two households, both alike in dignity. In fair Verona, where we lay our scene.\"\n",
      "  \n",
      "\tWilliam Shakespeare  \t wrote: \"Two households, both alike in dignity. In fair Verona, where we lay our scene.\"\n",
      "  \n",
      "\tWilliam Shakespeare  \t\n",
      "\n",
      "\n",
      "\n",
      "William Shakespeare  \t\n",
      "  \n",
      "\tWilliam Shakespeare\n",
      "William Shakespeare\n"
     ]
    }
   ],
   "source": [
    "# 2-5\n",
    "author = \"William Shakespeare\"\n",
    "quote = '\"Two households, both alike in dignity. In fair Verona, where we lay our scene.\"'\n",
    "print(f\"{author.title()} wrote: {quote}\")\n",
    "\n",
    "# 2-6\n",
    "famous_person = \"William Shakespeare\"\n",
    "quote = '\"Two households, both alike in dignity. In fair Verona, where we lay our scene.\"'\n",
    "message = f\"{famous_person.title()} wrote: {quote}\"\n",
    "print(message)\n",
    "\n",
    "# 2-7\n",
    "famous_person = \"  \\n\\tWilliam Shakespeare  \\t\"\n",
    "quote = '\"Two households, both alike in dignity. In fair Verona, where we lay our scene.\"'\n",
    "message = f\"{famous_person.title()} wrote: {quote}\"\n",
    "print(message)\n",
    "print(famous_person)\n",
    "print(\"\\n\" * 2)\n",
    "print(famous_person.lstrip())\n",
    "print(famous_person.rstrip())\n",
    "print(famous_person.strip())"
   ]
  },
  {
   "cell_type": "markdown",
   "metadata": {},
   "source": [
    "2-8. Number Eight: Write addition, subtraction, multiplication, and division\n",
    "operations that each result in the number 8. Be sure to enclose your operations\n",
    "in print() calls to see the results. You should create four lines that look like this:\n",
    "\n",
    "print(5+3)\n",
    "\n",
    "Your output should simply be four lines with the number 8 appearing once\n",
    "on each line.\n",
    "\n",
    "2-9. Favorite Number: Use a variable to represent your favorite number. Then,\n",
    "using that variable, create a message that reveals your favorite number. Print\n",
    "that message."
   ]
  },
  {
   "cell_type": "code",
   "execution_count": 95,
   "metadata": {},
   "outputs": [
    {
     "name": "stdout",
     "output_type": "stream",
     "text": [
      "8\n",
      "8\n",
      "8.0\n",
      "8\n",
      "8\n"
     ]
    }
   ],
   "source": [
    "# 2-8\n",
    "# Comment about stuff\n",
    "print(5 + 3)\n",
    "print(16 - 8)\n",
    "print(64 / 8)\n",
    "print(18 % 10)\n",
    "print(83 // 10)"
   ]
  },
  {
   "cell_type": "code",
   "execution_count": 96,
   "metadata": {},
   "outputs": [
    {
     "name": "stdout",
     "output_type": "stream",
     "text": [
      "18 is a pretty good number.\n"
     ]
    }
   ],
   "source": [
    "# 2-9\n",
    "# Comment about stuff\n",
    "favorite_number = input(\"What is your favorite number?\")\n",
    "print(f\"{favorite_number} is a pretty good number.\")"
   ]
  },
  {
   "cell_type": "code",
   "execution_count": 97,
   "metadata": {},
   "outputs": [],
   "source": [
    "# 2-10\n",
    "# The Zen of Python\n",
    "import this"
   ]
  },
  {
   "cell_type": "markdown",
   "metadata": {},
   "source": [
    "3-1. Names: Store the names of a few of your friends in a list called names. Print\n",
    "each person’s name by accessing each element in the list, one at a time.\n",
    "\n",
    "3-2. Greetings: Start with the list you used in Exercise 3-1, but instead of just\n",
    "printing each person’s name, print a message to them. The text of each message\n",
    "should be the same, but each message should be personalized with the\n",
    "person’s name.\n",
    "\n",
    "3-3. Your Own List: Think of your favorite mode of transportation, such as a\n",
    "motorcycle or a car, and make a list that stores several examples. Use your list\n",
    "to print a series of statements about these items, such as “I would like to own a\n",
    "Honda motorcycle.”"
   ]
  },
  {
   "cell_type": "code",
   "execution_count": 98,
   "metadata": {},
   "outputs": [
    {
     "name": "stdout",
     "output_type": "stream",
     "text": [
      "mike\n",
      "larry\n",
      "moe\n",
      "elizabeth\n",
      "rachel\n"
     ]
    }
   ],
   "source": [
    "# 3-1\n",
    "friend_names = ['mike', 'larry', 'moe', 'elizabeth', 'rachel']\n",
    "\n",
    "for name in friend_names:\n",
    "    print(name)"
   ]
  },
  {
   "cell_type": "code",
   "execution_count": 99,
   "metadata": {},
   "outputs": [
    {
     "name": "stdout",
     "output_type": "stream",
     "text": [
      "Greetings, Mike!\n",
      "Greetings, Larry!\n",
      "Greetings, Moe!\n",
      "Greetings, Elizabeth!\n",
      "Greetings, Rachel!\n",
      "['rachel', 'elizabeth', 'moe', 'larry', 'mike']\n",
      "['larry', 'elizabeth']\n",
      "['mike', 'moe']\n",
      "['rachel', 'elizabeth']\n",
      "['mike', 'larry', 'moe', 'elizabeth']\n",
      "Mike\n"
     ]
    }
   ],
   "source": [
    "# 3-2\n",
    "for name in friend_names:\n",
    "    print(f\"Greetings, {name.title()}!\")\n",
    "\n",
    "print(friend_names[::-1])\n",
    "print(friend_names[1::2])\n",
    "print(friend_names[:4:2])\n",
    "print(friend_names[:2:-1])\n",
    "print(friend_names[:4])\n",
    "print(friend_names[0].title())"
   ]
  },
  {
   "cell_type": "code",
   "execution_count": 100,
   "metadata": {},
   "outputs": [
    {
     "name": "stdout",
     "output_type": "stream",
     "text": [
      "I would like to own a Motorcycle.\n",
      "I would like to own a Sedan.\n",
      "I would like to own a Dirt Bike.\n",
      "I would like to own a Train.\n",
      "I would like to own a Bicycle.\n"
     ]
    }
   ],
   "source": [
    "# 3-3\n",
    "transportation_types = ['motorcycle', 'sedan', 'dirt bike', 'train', 'bicycle']\n",
    "\n",
    "for vehicle in transportation_types:\n",
    "    print(f\"I would like to own a {vehicle.title()}.\")"
   ]
  },
  {
   "cell_type": "markdown",
   "metadata": {},
   "source": [
    "3-4. Guest List: If you could invite anyone, living or deceased, to dinner, who\n",
    "would you invite? Make a list that includes at least three people you’d like to\n",
    "invite to dinner. Then use your list to print a message to each person, inviting\n",
    "them to dinner.\n",
    "\n",
    "3-5. Changing Guest List: You just heard that one of your guests can’t make the\n",
    "dinner, so you need to send out a new set of invitations. You’ll have to think of\n",
    "someone else to invite.\n",
    "\n",
    "- Start with your program from Exercise 3-4. Add a print() call at the end\n",
    "of your program stating the name of the guest who can’t make it.\n",
    "- Modify your list, replacing the name of the guest who can’t make it with\n",
    "the name of the new person you are inviting.\n",
    "- Print a second set of invitation messages, one for each person who is still\n",
    "in your list.\n",
    "\n",
    "3-6. More Guests: You just found a bigger dinner table, so now more space is\n",
    "available. Think of three more guests to invite to dinner.\n",
    "- Start with your program from Exercise 3-4 or Exercise 3-5. Add a print()\n",
    "call to the end of your program informing people that you found a bigger\n",
    "dinner table.\n",
    "- Use insert() to add one new guest to the beginning of your list.\n",
    "- Use insert() to add one new guest to the middle of your list.\n",
    "- Use append() to add one new guest to the end of your list.\n",
    "- Print a new set of invitation messages, one for each person in your list.\n",
    "\n",
    "3-7. Shrinking Guest List: You just found out that your new dinner table won’t\n",
    "arrive in time for the dinner, and you have space for only two guests.\n",
    "- Start with your program from Exercise 3-6. Add a new line that prints a\n",
    "message saying that you can invite only two people for dinner.\n",
    "- Use pop() to remove guests from your list one at a time until only two\n",
    "names remain in your list. Each time you pop a name from your list, print\n",
    "a message to that person letting them know you’re sorry you can’t invite\n",
    "them to dinner.\n",
    "- Print a message to each of the two people still on your list, letting them\n",
    "know they’re still invited.\n",
    "- Use del to remove the last two names from your list, so you have an empty\n",
    "list. Print your list to make sure you actually have an empty list at the end\n",
    "of your program."
   ]
  },
  {
   "cell_type": "code",
   "execution_count": 101,
   "metadata": {},
   "outputs": [
    {
     "name": "stdout",
     "output_type": "stream",
     "text": [
      "Hello, Mike, you are cordially invited to my shindig.\n",
      "Hello, Larry, you are cordially invited to my shindig.\n",
      "Hello, Moe, you are cordially invited to my shindig.\n",
      "Hello, Elizabeth, you are cordially invited to my shindig.\n",
      "Hello, Rachel, you are cordially invited to my shindig.\n"
     ]
    }
   ],
   "source": [
    "# 3-4\n",
    "guest_list = ['mike', 'larry', 'moe', 'elizabeth', 'rachel']\n",
    "\n",
    "for guest in guest_list:\n",
    "    print(f\"Hello, {guest.title()}, you are cordially invited to my shindig.\")"
   ]
  },
  {
   "cell_type": "code",
   "execution_count": 102,
   "metadata": {},
   "outputs": [
    {
     "name": "stdout",
     "output_type": "stream",
     "text": [
      "Hello, Mike, you are cordially invited to my shindig.\n",
      "Hello, Larry, you are cordially invited to my shindig.\n",
      "Hello, Moe, you are cordially invited to my shindig.\n",
      "Hello, Elizabeth, you are cordially invited to my shindig.\n",
      "Hello, Rachel, you are cordially invited to my shindig.\n",
      "\n",
      "Oh no, you can't make it, Larry?! How dare you refuse.\n",
      "Fine, I will invite someone else.\n",
      "\n",
      "You see what you made me do, Larry?\n",
      "\n",
      "You made me invite Dave... DAVE\n",
      "\n",
      "I GUESS this is the guest list now... (damn it, Larry):\n",
      "Mike\n",
      "Dave\n",
      "Moe\n",
      "Elizabeth\n",
      "Rachel\n"
     ]
    }
   ],
   "source": [
    "# 3-5\n",
    "guest_list = ['mike', 'larry', 'moe', 'elizabeth', 'rachel']\n",
    "\n",
    "for guest in guest_list:\n",
    "    print(f\"Hello, {guest.title()}, you are cordially invited to my shindig.\")\n",
    "\n",
    "print(f\"\\nOh no, you can't make it, {guest_list[1].title()}?! How dare you refuse.\\n\"\n",
    "f\"Fine, I will invite someone else.\\n\"\n",
    "f\"\\nYou see what you made me do, {guest_list[1].title()}?\\n\")\n",
    "\n",
    "guest_list[1] = 'dave'\n",
    "\n",
    "print(f\"You made me invite {guest_list[1].title()}... {guest_list[1].upper()}\\n\")\n",
    "\n",
    "print(\"I GUESS this is the guest list now... (damn it, Larry):\")\n",
    "for guest in guest_list:\n",
    "    print(guest.title())"
   ]
  },
  {
   "cell_type": "code",
   "execution_count": 103,
   "metadata": {},
   "outputs": [
    {
     "name": "stdout",
     "output_type": "stream",
     "text": [
      "Hello Kael, you are invited to the party.\n",
      "Hello Mike, you are invited to the party.\n",
      "Hello Dan, you are invited to the party.\n",
      "Hello Dave, you are invited to the party.\n",
      "Hello Moe, you are invited to the party.\n",
      "Hello Elizabeth, you are invited to the party.\n",
      "Hello Rachel, you are invited to the party.\n",
      "Hello Avery, you are invited to the party.\n"
     ]
    }
   ],
   "source": [
    "# 3-6\n",
    "guest_list.insert(0, 'kael')\n",
    "guest_list.insert(2, 'dan')\n",
    "guest_list.append('avery')\n",
    "\n",
    "for guest in guest_list:\n",
    "    print(f\"Hello {guest.title()}, you are invited to the party.\")"
   ]
  },
  {
   "cell_type": "code",
   "execution_count": 104,
   "metadata": {},
   "outputs": [
    {
     "name": "stdout",
     "output_type": "stream",
     "text": [
      "I can only invite 2 people to dinner. I currently have 8 people invited.\n",
      "Sorry Avery, I have to let you go.\n",
      "Sorry Rachel, I have to let you go.\n",
      "Sorry Elizabeth, I have to let you go.\n",
      "Sorry Moe, I have to let you go.\n",
      "Sorry Dave, I have to let you go.\n",
      "Sorry Dan, I have to let you go.\n",
      "\n",
      "My new guest list has 2 total people:\n",
      "Kael\n",
      "Mike\n"
     ]
    }
   ],
   "source": [
    "# 3-7\n",
    "print(f\"I can only invite 2 people to dinner. I currently have {len(guest_list)} people invited.\")\n",
    "\n",
    "while len(guest_list) > 2:\n",
    "    print(f\"Sorry {guest_list[-1].title()}, I have to let you go.\")\n",
    "    guest_list.pop()\n",
    "\n",
    "print(f\"\\nMy new guest list has {len(guest_list)} total people:\")\n",
    "for guest in guest_list:\n",
    "    print(guest.title())"
   ]
  },
  {
   "cell_type": "markdown",
   "metadata": {},
   "source": [
    "3-8. Seeing the World: Think of at least five places in the world you’d like to\n",
    "visit.\n",
    "- Store the locations in a list. Make sure the list is not in alphabetical order.\n",
    "- Print your list in its original order. Don’t worry about printing the list neatly,\n",
    "just print it as a raw Python list.\n",
    "- Use sorted() to print your list in alphabetical order without modifying the\n",
    "actual list.\n",
    "- Show that your list is still in its original order by printing it.\n",
    "- Use sorted() to print your list in reverse alphabetical order without changing\n",
    "the order of the original list.\n",
    "- Show that your list is still in its original order by printing it again.\n",
    "- Use reverse() to change the order of your list. Print the list to show that its\n",
    "order has changed.\n",
    "- Use reverse() to change the order of your list again. Print the list to show\n",
    "it’s back to its original order.\n",
    "- Use sort() to change your list so it’s stored in alphabetical order. Print the\n",
    "list to show that its order has been changed.\n",
    "- Use sort() to change your list so it’s stored in reverse alphabetical order.\n",
    "Print the list to show that its order has changed.\n",
    "\n",
    "3-9. Dinner Guests: Working with one of the programs from Exercises 3-4\n",
    "through 3-7 (page 42), use len() to print a message indicating the number\n",
    "of people you are inviting to dinner.\n",
    "\n",
    "3-10. Every Function: Think of something you could store in a list. For example,\n",
    "you could make a list of mountains, rivers, countries, cities, languages, or anything\n",
    "else you’d like. Write a program that creates a list containing these items\n",
    "and then uses each function introduced in this chapter at least once."
   ]
  },
  {
   "cell_type": "code",
   "execution_count": null,
   "metadata": {},
   "outputs": [],
   "source": [
    "1"
   ]
  }
 ],
 "metadata": {
  "interpreter": {
   "hash": "77b0fca11f5c97acb8aefe74dba7b131a51b5f55730f888d94f92ef2c92d313a"
  },
  "kernelspec": {
   "display_name": "Python 3.10.0 64-bit",
   "language": "python",
   "name": "python3"
  },
  "language_info": {
   "codemirror_mode": {
    "name": "ipython",
    "version": 3
   },
   "file_extension": ".py",
   "mimetype": "text/x-python",
   "name": "python",
   "nbconvert_exporter": "python",
   "pygments_lexer": "ipython3",
   "version": "3.10.0"
  },
  "orig_nbformat": 4
 },
 "nbformat": 4,
 "nbformat_minor": 2
}
