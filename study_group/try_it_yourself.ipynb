{
 "cells": [
  {
   "cell_type": "markdown",
   "metadata": {},
   "source": [
    "1-1. python.org: Explore the Python home page (https://python.org/) to find\n",
    "topics that interest you. As you become familiar with Python, different parts of\n",
    "the site will be more useful to you.\n",
    "\n",
    "1-2. Hello World Typos: Open the hello_world.py file you just created. Make a\n",
    "typo somewhere in the line and run the program again. Can you make a typo\n",
    "that generates an error? Can you make sense of the error message? Can you\n",
    "make a typo that doesn’t generate an error? Why do you think it didn’t make\n",
    "an error?\n",
    "\n",
    "1-3. Infinite Skills: If you had infinite programming skills, what would you build?\n",
    "You’re about to learn how to program. If you have an end goal in mind, you’ll\n",
    "have an immediate use for your new skills; now is a great time to draft descriptions\n",
    "of what you want to create. It’s a good habit to keep an “ideas” notebook\n",
    "that you can refer to whenever you want to start a new project. Take a few\n",
    "minutes now to describe three programs you want to create."
   ]
  },
  {
   "cell_type": "code",
   "execution_count": null,
   "metadata": {},
   "outputs": [],
   "source": []
  },
  {
   "cell_type": "markdown",
   "metadata": {},
   "source": [
    "Write a separate program to accomplish each of these exercises. Save each\n",
    "program with a filename that follows standard Python conventions, using\n",
    "lowercase\n",
    "letters and underscores, such as simple_message.py and simple\n",
    "_messages.py.\n",
    "\n",
    "2-1. Simple Message: Assign a message to a variable, and then print that\n",
    "message.\n",
    "\n",
    "2-2. Simple Messages: Assign a message to a variable, and print that message.\n",
    "Then change the value of the variable to a new message, and print the new\n",
    "message."
   ]
  },
  {
   "cell_type": "code",
   "execution_count": 1,
   "metadata": {},
   "outputs": [
    {
     "name": "stdout",
     "output_type": "stream",
     "text": [
      "Goodbye, forever!\n"
     ]
    }
   ],
   "source": [
    "# 2-1\n",
    "message_variable = \"Hello, World!\"\n",
    "message_variable\n",
    "\n",
    "# 2-2\n",
    "message_variable = \"Goodbye, forever!\"\n",
    "print(message_variable)"
   ]
  },
  {
   "cell_type": "markdown",
   "metadata": {},
   "source": [
    "Save each of the following exercises as a separate file with a name like\n",
    "name_cases.py. If you get stuck, take a break or see the suggestions in\n",
    "Appendix C.\n",
    "\n",
    "2-3. Personal Message: Use a variable to represent a person’s name, and print\n",
    "a message to that person. Your message should be simple, such as, “Hello Eric,\n",
    "would you like to learn some Python today?”\n",
    "\n",
    "2-4. Name Cases: Use a variable to represent a person’s name, and then print\n",
    "that person’s name in lowercase, uppercase, and title case.\n",
    "\n",
    "2-5. Famous Quote: Find a quote from a famous person you admire. Print the\n",
    "quote and the name of its author. Your output should look something like the\n",
    "following, including the quotation marks:\n",
    "Albert Einstein once said, “A person who never made a\n",
    "mistake never tried anything new.”\n",
    "\n",
    "2-6. Famous Quote 2: Repeat Exercise 2-5, but this time, represent the\n",
    "famous person’s name using a variable called famous_person. Then compose\n",
    "your message\n",
    "and represent it with a new variable called message. Print your\n",
    "message.\n",
    "\n",
    "2-7. Stripping Names: Use a variable to represent a person’s name, and include\n",
    "some whitespace characters at the beginning and end of the name. Make sure\n",
    "you use each character combination, \"\\t\" and \"\\n\", at least once.\n",
    "Print the name once, so the whitespace around the name is displayed.\n",
    "Then print the name using each of the three stripping functions, lstrip(),\n",
    "rstrip(), and strip()."
   ]
  },
  {
   "cell_type": "code",
   "execution_count": 2,
   "metadata": {},
   "outputs": [
    {
     "name": "stdout",
     "output_type": "stream",
     "text": [
      "Hello mike, would you like to learn some Python today?\n",
      "mike\n",
      "MIKE\n",
      "Mike\n",
      "Mike\n"
     ]
    }
   ],
   "source": [
    "# 2-3\n",
    "name = input(\"What is your name?\")\n",
    "print(f\"Hello {name}, would you like to learn some Python today?\")\n",
    "\n",
    "# 2-4\n",
    "print(name.lower())\n",
    "print(name.upper())\n",
    "print(name.capitalize())\n",
    "print(name.title())"
   ]
  },
  {
   "cell_type": "code",
   "execution_count": 3,
   "metadata": {},
   "outputs": [
    {
     "name": "stdout",
     "output_type": "stream",
     "text": [
      "William Shakespeare wrote: \"Two households, both alike in dignity. In fair Verona, where we lay our scene.\"\n",
      "William Shakespeare wrote: \"Two households, both alike in dignity. In fair Verona, where we lay our scene.\"\n",
      "  \n",
      "\tWilliam Shakespeare  \t wrote: \"Two households, both alike in dignity. In fair Verona, where we lay our scene.\"\n",
      "  \n",
      "\tWilliam Shakespeare  \t\n",
      "\n",
      "\n",
      "\n",
      "William Shakespeare  \t\n",
      "  \n",
      "\tWilliam Shakespeare\n",
      "William Shakespeare\n"
     ]
    }
   ],
   "source": [
    "# 2-5\n",
    "author = \"William Shakespeare\"\n",
    "quote = '\"Two households, both alike in dignity. In fair Verona, where we lay our scene.\"'\n",
    "print(f\"{author.title()} wrote: {quote}\")\n",
    "\n",
    "# 2-6\n",
    "famous_person = \"William Shakespeare\"\n",
    "quote = '\"Two households, both alike in dignity. In fair Verona, where we lay our scene.\"'\n",
    "message = f\"{famous_person.title()} wrote: {quote}\"\n",
    "print(message)\n",
    "\n",
    "# 2-7\n",
    "famous_person = \"  \\n\\tWilliam Shakespeare  \\t\"\n",
    "quote = '\"Two households, both alike in dignity. In fair Verona, where we lay our scene.\"'\n",
    "message = f\"{famous_person.title()} wrote: {quote}\"\n",
    "print(message)\n",
    "print(famous_person)\n",
    "print(\"\\n\" * 2)\n",
    "print(famous_person.lstrip())\n",
    "print(famous_person.rstrip())\n",
    "print(famous_person.strip())"
   ]
  },
  {
   "cell_type": "markdown",
   "metadata": {},
   "source": [
    "2-8. Number Eight: Write addition, subtraction, multiplication, and division\n",
    "operations that each result in the number 8. Be sure to enclose your operations\n",
    "in print() calls to see the results. You should create four lines that look like this:\n",
    "\n",
    "print(5+3)\n",
    "\n",
    "Your output should simply be four lines with the number 8 appearing once\n",
    "on each line.\n",
    "\n",
    "2-9. Favorite Number: Use a variable to represent your favorite number. Then,\n",
    "using that variable, create a message that reveals your favorite number. Print\n",
    "that message."
   ]
  },
  {
   "cell_type": "code",
   "execution_count": 4,
   "metadata": {},
   "outputs": [
    {
     "name": "stdout",
     "output_type": "stream",
     "text": [
      "8\n",
      "8\n",
      "8.0\n",
      "8\n",
      "8\n"
     ]
    }
   ],
   "source": [
    "# 2-8\n",
    "# Comment about stuff\n",
    "print(5 + 3)\n",
    "print(16 - 8)\n",
    "print(64 / 8)\n",
    "print(18 % 10)\n",
    "print(83 // 10)"
   ]
  },
  {
   "cell_type": "code",
   "execution_count": 5,
   "metadata": {},
   "outputs": [
    {
     "name": "stdout",
     "output_type": "stream",
     "text": [
      "18 is a pretty good number.\n"
     ]
    }
   ],
   "source": [
    "# 2-9\n",
    "# Comment about stuff\n",
    "favorite_number = input(\"What is your favorite number?\")\n",
    "print(f\"{favorite_number} is a pretty good number.\")"
   ]
  },
  {
   "cell_type": "code",
   "execution_count": 6,
   "metadata": {},
   "outputs": [
    {
     "name": "stdout",
     "output_type": "stream",
     "text": [
      "The Zen of Python, by Tim Peters\n",
      "\n",
      "Beautiful is better than ugly.\n",
      "Explicit is better than implicit.\n",
      "Simple is better than complex.\n",
      "Complex is better than complicated.\n",
      "Flat is better than nested.\n",
      "Sparse is better than dense.\n",
      "Readability counts.\n",
      "Special cases aren't special enough to break the rules.\n",
      "Although practicality beats purity.\n",
      "Errors should never pass silently.\n",
      "Unless explicitly silenced.\n",
      "In the face of ambiguity, refuse the temptation to guess.\n",
      "There should be one-- and preferably only one --obvious way to do it.\n",
      "Although that way may not be obvious at first unless you're Dutch.\n",
      "Now is better than never.\n",
      "Although never is often better than *right* now.\n",
      "If the implementation is hard to explain, it's a bad idea.\n",
      "If the implementation is easy to explain, it may be a good idea.\n",
      "Namespaces are one honking great idea -- let's do more of those!\n"
     ]
    }
   ],
   "source": [
    "# 2-10\n",
    "# The Zen of Python\n",
    "import this"
   ]
  },
  {
   "cell_type": "markdown",
   "metadata": {},
   "source": [
    "3-1. Names: Store the names of a few of your friends in a list called names. Print\n",
    "each person’s name by accessing each element in the list, one at a time.\n",
    "\n",
    "3-2. Greetings: Start with the list you used in Exercise 3-1, but instead of just\n",
    "printing each person’s name, print a message to them. The text of each message\n",
    "should be the same, but each message should be personalized with the\n",
    "person’s name.\n",
    "\n",
    "3-3. Your Own List: Think of your favorite mode of transportation, such as a\n",
    "motorcycle or a car, and make a list that stores several examples. Use your list\n",
    "to print a series of statements about these items, such as “I would like to own a\n",
    "Honda motorcycle.”"
   ]
  },
  {
   "cell_type": "code",
   "execution_count": 7,
   "metadata": {},
   "outputs": [
    {
     "name": "stdout",
     "output_type": "stream",
     "text": [
      "mike\n",
      "larry\n",
      "moe\n",
      "elizabeth\n",
      "rachel\n"
     ]
    }
   ],
   "source": [
    "# 3-1\n",
    "friend_names = ['mike', 'larry', 'moe', 'elizabeth', 'rachel']\n",
    "\n",
    "for name in friend_names:\n",
    "    print(name)"
   ]
  },
  {
   "cell_type": "code",
   "execution_count": 8,
   "metadata": {},
   "outputs": [
    {
     "name": "stdout",
     "output_type": "stream",
     "text": [
      "Greetings, Mike!\n",
      "Greetings, Larry!\n",
      "Greetings, Moe!\n",
      "Greetings, Elizabeth!\n",
      "Greetings, Rachel!\n",
      "['rachel', 'elizabeth', 'moe', 'larry', 'mike']\n",
      "['larry', 'elizabeth']\n",
      "['mike', 'moe']\n",
      "['rachel', 'elizabeth']\n",
      "['mike', 'larry', 'moe', 'elizabeth']\n",
      "Mike\n"
     ]
    }
   ],
   "source": [
    "# 3-2\n",
    "for name in friend_names:\n",
    "    print(f\"Greetings, {name.title()}!\")\n",
    "\n",
    "print(friend_names[::-1])\n",
    "print(friend_names[1::2])\n",
    "print(friend_names[:4:2])\n",
    "print(friend_names[:2:-1])\n",
    "print(friend_names[:4])\n",
    "print(friend_names[0].title())"
   ]
  },
  {
   "cell_type": "code",
   "execution_count": 9,
   "metadata": {},
   "outputs": [
    {
     "name": "stdout",
     "output_type": "stream",
     "text": [
      "I would like to own a Motorcycle.\n",
      "I would like to own a Sedan.\n",
      "I would like to own a Dirt Bike.\n",
      "I would like to own a Train.\n",
      "I would like to own a Bicycle.\n"
     ]
    }
   ],
   "source": [
    "# 3-3\n",
    "transportation_types = ['motorcycle', 'sedan', 'dirt bike', 'train', 'bicycle']\n",
    "\n",
    "for vehicle in transportation_types:\n",
    "    print(f\"I would like to own a {vehicle.title()}.\")"
   ]
  },
  {
   "cell_type": "markdown",
   "metadata": {},
   "source": [
    "3-4. Guest List: If you could invite anyone, living or deceased, to dinner, who\n",
    "would you invite? Make a list that includes at least three people you’d like to\n",
    "invite to dinner. Then use your list to print a message to each person, inviting\n",
    "them to dinner.\n",
    "\n",
    "3-5. Changing Guest List: You just heard that one of your guests can’t make the\n",
    "dinner, so you need to send out a new set of invitations. You’ll have to think of\n",
    "someone else to invite.\n",
    "\n",
    "- Start with your program from Exercise 3-4. Add a print() call at the end\n",
    "of your program stating the name of the guest who can’t make it.\n",
    "- Modify your list, replacing the name of the guest who can’t make it with\n",
    "the name of the new person you are inviting.\n",
    "- Print a second set of invitation messages, one for each person who is still\n",
    "in your list.\n",
    "\n",
    "3-6. More Guests: You just found a bigger dinner table, so now more space is\n",
    "available. Think of three more guests to invite to dinner.\n",
    "- Start with your program from Exercise 3-4 or Exercise 3-5. Add a print()\n",
    "call to the end of your program informing people that you found a bigger\n",
    "dinner table.\n",
    "- Use insert() to add one new guest to the beginning of your list.\n",
    "- Use insert() to add one new guest to the middle of your list.\n",
    "- Use append() to add one new guest to the end of your list.\n",
    "- Print a new set of invitation messages, one for each person in your list.\n",
    "\n",
    "3-7. Shrinking Guest List: You just found out that your new dinner table won’t\n",
    "arrive in time for the dinner, and you have space for only two guests.\n",
    "- Start with your program from Exercise 3-6. Add a new line that prints a\n",
    "message saying that you can invite only two people for dinner.\n",
    "- Use pop() to remove guests from your list one at a time until only two\n",
    "names remain in your list. Each time you pop a name from your list, print\n",
    "a message to that person letting them know you’re sorry you can’t invite\n",
    "them to dinner.\n",
    "- Print a message to each of the two people still on your list, letting them\n",
    "know they’re still invited.\n",
    "- Use del to remove the last two names from your list, so you have an empty\n",
    "list. Print your list to make sure you actually have an empty list at the end\n",
    "of your program."
   ]
  },
  {
   "cell_type": "code",
   "execution_count": 10,
   "metadata": {},
   "outputs": [
    {
     "name": "stdout",
     "output_type": "stream",
     "text": [
      "Hello, Mike, you are cordially invited to my shindig.\n",
      "Hello, Larry, you are cordially invited to my shindig.\n",
      "Hello, Moe, you are cordially invited to my shindig.\n",
      "Hello, Elizabeth, you are cordially invited to my shindig.\n",
      "Hello, Rachel, you are cordially invited to my shindig.\n"
     ]
    }
   ],
   "source": [
    "# 3-4\n",
    "guest_list = ['mike', 'larry', 'moe', 'elizabeth', 'rachel']\n",
    "\n",
    "for guest in guest_list:\n",
    "    print(f\"Hello, {guest.title()}, you are cordially invited to my shindig.\")"
   ]
  },
  {
   "cell_type": "code",
   "execution_count": 11,
   "metadata": {},
   "outputs": [
    {
     "name": "stdout",
     "output_type": "stream",
     "text": [
      "Hello, Mike, you are cordially invited to my shindig.\n",
      "Hello, Larry, you are cordially invited to my shindig.\n",
      "Hello, Moe, you are cordially invited to my shindig.\n",
      "Hello, Elizabeth, you are cordially invited to my shindig.\n",
      "Hello, Rachel, you are cordially invited to my shindig.\n",
      "\n",
      "Oh no, you can't make it, Larry?! How dare you refuse.\n",
      "Fine, I will invite someone else.\n",
      "\n",
      "You see what you made me do, Larry?\n",
      "\n",
      "You made me invite Dave... DAVE\n",
      "\n",
      "I GUESS this is the guest list now... (damn it, Larry):\n",
      "Mike\n",
      "Dave\n",
      "Moe\n",
      "Elizabeth\n",
      "Rachel\n"
     ]
    }
   ],
   "source": [
    "# 3-5\n",
    "guest_list = ['mike', 'larry', 'moe', 'elizabeth', 'rachel']\n",
    "\n",
    "for guest in guest_list:\n",
    "    print(f\"Hello, {guest.title()}, you are cordially invited to my shindig.\")\n",
    "\n",
    "print(f\"\\nOh no, you can't make it, {guest_list[1].title()}?! How dare you refuse.\\n\"\n",
    "f\"Fine, I will invite someone else.\\n\"\n",
    "f\"\\nYou see what you made me do, {guest_list[1].title()}?\\n\")\n",
    "\n",
    "guest_list[1] = 'dave'\n",
    "\n",
    "print(f\"You made me invite {guest_list[1].title()}... {guest_list[1].upper()}\\n\")\n",
    "\n",
    "print(\"I GUESS this is the guest list now... (damn it, Larry):\")\n",
    "for guest in guest_list:\n",
    "    print(guest.title())"
   ]
  },
  {
   "cell_type": "code",
   "execution_count": 12,
   "metadata": {},
   "outputs": [
    {
     "name": "stdout",
     "output_type": "stream",
     "text": [
      "Hello Kael, you are invited to the party.\n",
      "Hello Mike, you are invited to the party.\n",
      "Hello Dan, you are invited to the party.\n",
      "Hello Dave, you are invited to the party.\n",
      "Hello Moe, you are invited to the party.\n",
      "Hello Elizabeth, you are invited to the party.\n",
      "Hello Rachel, you are invited to the party.\n",
      "Hello Avery, you are invited to the party.\n"
     ]
    }
   ],
   "source": [
    "# 3-6\n",
    "guest_list.insert(0, 'kael')\n",
    "guest_list.insert(2, 'dan')\n",
    "guest_list.append('avery')\n",
    "\n",
    "for guest in guest_list:\n",
    "    print(f\"Hello {guest.title()}, you are invited to the party.\")"
   ]
  },
  {
   "cell_type": "code",
   "execution_count": 13,
   "metadata": {},
   "outputs": [
    {
     "name": "stdout",
     "output_type": "stream",
     "text": [
      "I can only invite 2 people to dinner. I currently have 8 people invited.\n",
      "Sorry Avery, I have to let you go.\n",
      "Sorry Rachel, I have to let you go.\n",
      "Sorry Elizabeth, I have to let you go.\n",
      "Sorry Moe, I have to let you go.\n",
      "Sorry Dave, I have to let you go.\n",
      "Sorry Dan, I have to let you go.\n",
      "\n",
      "My new guest list has 2 total people:\n",
      "Kael\n",
      "Mike\n"
     ]
    }
   ],
   "source": [
    "# 3-7\n",
    "print(f\"I can only invite 2 people to dinner. I currently have {len(guest_list)} people invited.\")\n",
    "\n",
    "while len(guest_list) > 2:\n",
    "    print(f\"Sorry {guest_list[-1].title()}, I have to let you go.\")\n",
    "    guest_list.pop()\n",
    "\n",
    "print(f\"\\nMy new guest list has {len(guest_list)} total people:\")\n",
    "for guest in guest_list:\n",
    "    print(guest.title())"
   ]
  },
  {
   "cell_type": "markdown",
   "metadata": {},
   "source": [
    "3-8. Seeing the World: Think of at least five places in the world you’d like to\n",
    "visit.\n",
    "- Store the locations in a list. Make sure the list is not in alphabetical order.\n",
    "- Print your list in its original order. Don’t worry about printing the list neatly,\n",
    "just print it as a raw Python list.\n",
    "- Use sorted() to print your list in alphabetical order without modifying the\n",
    "actual list.\n",
    "- Show that your list is still in its original order by printing it.\n",
    "- Use sorted() to print your list in reverse alphabetical order without changing\n",
    "the order of the original list.\n",
    "- Show that your list is still in its original order by printing it again.\n",
    "- Use reverse() to change the order of your list. Print the list to show that its\n",
    "order has changed.\n",
    "- Use reverse() to change the order of your list again. Print the list to show\n",
    "it’s back to its original order.\n",
    "- Use sort() to change your list so it’s stored in alphabetical order. Print the\n",
    "list to show that its order has been changed.\n",
    "- Use sort() to change your list so it’s stored in reverse alphabetical order.\n",
    "Print the list to show that its order has changed.\n",
    "\n",
    "3-9. Dinner Guests: Working with one of the programs from Exercises 3-4\n",
    "through 3-7 (page 42), use len() to print a message indicating the number\n",
    "of people you are inviting to dinner.\n",
    "\n",
    "3-10. Every Function: Think of something you could store in a list. For example,\n",
    "you could make a list of mountains, rivers, countries, cities, languages, or anything\n",
    "else you’d like. Write a program that creates a list containing these items\n",
    "and then uses each function introduced in this chapter at least once."
   ]
  },
  {
   "cell_type": "code",
   "execution_count": 14,
   "metadata": {},
   "outputs": [
    {
     "name": "stdout",
     "output_type": "stream",
     "text": [
      "['taj mahal', 'rio de janiero', 'great barrier reef', 'pyramids of giza', 'bogota', 'seoul']\n",
      "['bogota', 'great barrier reef', 'pyramids of giza', 'rio de janiero', 'seoul', 'taj mahal']\n",
      "['taj mahal', 'rio de janiero', 'great barrier reef', 'pyramids of giza', 'bogota', 'seoul']\n",
      "['seoul', 'bogota', 'pyramids of giza', 'great barrier reef', 'rio de janiero', 'taj mahal']\n",
      "['taj mahal', 'seoul', 'rio de janiero', 'pyramids of giza', 'great barrier reef', 'bogota']\n",
      "['taj mahal', 'rio de janiero', 'great barrier reef', 'pyramids of giza', 'bogota', 'seoul']\n",
      "['bogota', 'great barrier reef', 'pyramids of giza', 'rio de janiero', 'seoul', 'taj mahal']\n",
      "['taj mahal', 'seoul', 'rio de janiero', 'pyramids of giza', 'great barrier reef', 'bogota']\n"
     ]
    }
   ],
   "source": [
    "# 3-8\n",
    "locations = ['taj mahal', 'rio de janiero', 'great barrier reef', 'pyramids of giza', 'bogota', 'seoul']\n",
    "print(locations)\n",
    "print(sorted(locations))\n",
    "print(locations)\n",
    "locations.reverse()\n",
    "print(locations)\n",
    "print(sorted(locations,reverse=True))\n",
    "locations.reverse()\n",
    "print(locations)\n",
    "locations.sort()\n",
    "print(locations)\n",
    "locations.sort(reverse=True)\n",
    "print(locations)"
   ]
  },
  {
   "cell_type": "code",
   "execution_count": 15,
   "metadata": {},
   "outputs": [
    {
     "data": {
      "text/plain": [
       "2"
      ]
     },
     "execution_count": 15,
     "metadata": {},
     "output_type": "execute_result"
    }
   ],
   "source": [
    "# 3-9\n",
    "len(guest_list)"
   ]
  },
  {
   "cell_type": "markdown",
   "metadata": {},
   "source": [
    "4-1. Pizzas: Think of at least three kinds of your favorite pizza. Store these\n",
    "pizza names in a list, and then use a for loop to print the name of each pizza.\n",
    "- Modify your for loop to print a sentence using the name of the pizza\n",
    "instead of printing just the name of the pizza. For each pizza you should\n",
    "have one line of output containing a simple statement like I like pepperoni\n",
    "pizza.\n",
    "- Add a line at the end of your program, outside the for loop, that states\n",
    "how much you like pizza. The output should consist of three or more lines\n",
    "about the kinds of pizza you like and then an additional sentence, such as\n",
    "I really love pizza!\n",
    "\n",
    "4-2. Animals: Think of at least three different animals that have a common characteristic.\n",
    "Store the names of these animals in a list, and then use a for loop to\n",
    "print out the name of each animal.\n",
    "- Modify your program to print a statement about each animal, such as\n",
    "A dog would make a great pet.\n",
    "- Add a line at the end of your program stating what these animals have in\n",
    "common. You could print a sentence such as Any of these animals would\n",
    "make a great pet!"
   ]
  },
  {
   "cell_type": "code",
   "execution_count": 16,
   "metadata": {},
   "outputs": [
    {
     "name": "stdout",
     "output_type": "stream",
     "text": [
      "You wanted a pepperoni pizza.\n",
      "You wanted a meatlovers pizza.\n",
      "You wanted a hawaiian pizza.\n",
      "I really love pizza!\n"
     ]
    }
   ],
   "source": [
    "# 4-1\n",
    "pizza_types = ['pepperoni', 'meatlovers', 'hawaiian']\n",
    "for pizza in pizza_types:\n",
    "    print(f'You wanted a {pizza} pizza.')\n",
    "\n",
    "print(\"I really love pizza!\")"
   ]
  },
  {
   "cell_type": "code",
   "execution_count": 17,
   "metadata": {},
   "outputs": [
    {
     "name": "stdout",
     "output_type": "stream",
     "text": [
      "A lion would make a horrible pet!\n",
      "A cougar would make a horrible pet!\n",
      "A leopard would make a horrible pet!\n",
      "All of these animals are wild cats!\n"
     ]
    }
   ],
   "source": [
    "# 4-2\n",
    "animals = ['lion', 'cougar', 'leopard']\n",
    "for animal in animals:\n",
    "    print(f\"A {animal} would make a horrible pet!\")\n",
    "print(\"All of these animals are wild cats!\")"
   ]
  },
  {
   "cell_type": "markdown",
   "metadata": {},
   "source": [
    "4-3. Counting to Twenty: Use a for loop to print the numbers from 1 to 20,\n",
    "inclusive.\n",
    "\n",
    "4-4. One Million: Make a list of the numbers from one to one million, and then\n",
    "use a for loop to print the numbers. (If the output is taking too long, stop it by\n",
    "pressing ctrl-C or by closing the output window.)\n",
    "\n",
    "4-5. Summing a Million: Make a list of the numbers from one to one million,\n",
    "and then use min() and max() to make sure your list actually starts at one and\n",
    "ends at one million. Also, use the sum() function to see how quickly Python can\n",
    "add a million numbers.\n",
    "\n",
    "4-6. Odd Numbers: Use the third argument of the range() function to make a\n",
    "list of the odd numbers from 1 to 20. Use a for loop to print each number.\n",
    "\n",
    "4-7. Threes: Make a list of the multiples of 3 from 3 to 30. Use a for loop to\n",
    "print the numbers in your list.\n",
    "\n",
    "4-8. Cubes: A number raised to the third power is called a cube. For example,\n",
    "the cube of 2 is written as 2**3 in Python. Make a list of the first 10 cubes (that\n",
    "is, the cube of each integer from 1 through 10), and use a for loop to print out\n",
    "the value of each cube.\n",
    "\n",
    "4-9. Cube Comprehension: Use a list comprehension to generate a list of the\n",
    "first 10 cubes."
   ]
  },
  {
   "cell_type": "code",
   "execution_count": 18,
   "metadata": {},
   "outputs": [
    {
     "name": "stdout",
     "output_type": "stream",
     "text": [
      "1\n",
      "2\n",
      "3\n",
      "4\n",
      "5\n",
      "6\n",
      "7\n",
      "8\n",
      "9\n",
      "10\n",
      "11\n",
      "12\n",
      "13\n",
      "14\n",
      "15\n",
      "16\n",
      "17\n",
      "18\n",
      "19\n",
      "20\n"
     ]
    }
   ],
   "source": [
    "# 4-3\n",
    "for i in range(1, 21):\n",
    "    print(i)"
   ]
  },
  {
   "cell_type": "code",
   "execution_count": 19,
   "metadata": {},
   "outputs": [],
   "source": [
    "# 4-4\n",
    "# numbers = list(range(1, 1000001))\n",
    "\n",
    "# for number in numbers:\n",
    "#     print(number)\n",
    "\n",
    "numbers = [number for number in list(range(1, 1000001))]\n",
    "# print(numbers)"
   ]
  },
  {
   "cell_type": "code",
   "execution_count": 20,
   "metadata": {},
   "outputs": [
    {
     "name": "stdout",
     "output_type": "stream",
     "text": [
      "1\n",
      "1000000\n",
      "500000500000\n"
     ]
    }
   ],
   "source": [
    "# 4-5\n",
    "# min(numbers)\n",
    "# max(numbers)\n",
    "# sum(numbers)\n",
    "\n",
    "print(min(numbers))\n",
    "print(max(numbers))\n",
    "print(sum(numbers))"
   ]
  },
  {
   "cell_type": "code",
   "execution_count": 21,
   "metadata": {},
   "outputs": [
    {
     "data": {
      "text/plain": [
       "[1, 3, 5, 7, 9, 11, 13, 15, 17, 19]"
      ]
     },
     "execution_count": 21,
     "metadata": {},
     "output_type": "execute_result"
    }
   ],
   "source": [
    "# 4-6\n",
    "odd_numbers = list(range(1, 21, 2))\n",
    "\n",
    "odd_numbers"
   ]
  },
  {
   "cell_type": "code",
   "execution_count": 22,
   "metadata": {},
   "outputs": [
    {
     "name": "stdout",
     "output_type": "stream",
     "text": [
      "[3, 6, 9, 12, 15, 18, 21, 24, 27, 30]\n",
      "3\n",
      "6\n",
      "9\n",
      "12\n",
      "15\n",
      "18\n",
      "21\n",
      "24\n",
      "27\n",
      "30\n"
     ]
    }
   ],
   "source": [
    "# 4-7\n",
    "multiples_of_three = list(range(3, 31, 3))\n",
    "print(multiples_of_three)\n",
    "\n",
    "multiples_of_three = list(range(3, 31))\n",
    "for number in multiples_of_three:\n",
    "    if number % 3 == 0:\n",
    "        print(number)\n",
    "# multiples_of_three"
   ]
  },
  {
   "cell_type": "code",
   "execution_count": 23,
   "metadata": {},
   "outputs": [
    {
     "name": "stdout",
     "output_type": "stream",
     "text": [
      "1\n",
      "8\n",
      "27\n",
      "64\n",
      "125\n",
      "216\n",
      "343\n",
      "512\n",
      "729\n",
      "1000\n",
      "1331\n",
      "1728\n",
      "2197\n",
      "2744\n",
      "3375\n",
      "4096\n",
      "4913\n",
      "5832\n",
      "6859\n",
      "8000\n",
      "9261\n",
      "10648\n",
      "12167\n",
      "13824\n",
      "15625\n",
      "17576\n",
      "19683\n",
      "21952\n",
      "24389\n",
      "27000\n",
      "29791\n",
      "32768\n",
      "35937\n",
      "39304\n",
      "42875\n",
      "46656\n",
      "50653\n",
      "54872\n",
      "59319\n",
      "64000\n",
      "68921\n",
      "74088\n",
      "79507\n",
      "85184\n",
      "91125\n",
      "97336\n",
      "103823\n",
      "110592\n",
      "117649\n",
      "125000\n",
      "132651\n",
      "140608\n",
      "148877\n",
      "157464\n",
      "166375\n",
      "175616\n",
      "185193\n",
      "195112\n",
      "205379\n",
      "216000\n",
      "226981\n",
      "238328\n",
      "250047\n",
      "262144\n",
      "274625\n",
      "287496\n",
      "300763\n",
      "314432\n",
      "328509\n",
      "343000\n",
      "357911\n",
      "373248\n",
      "389017\n",
      "405224\n",
      "421875\n",
      "438976\n",
      "456533\n",
      "474552\n",
      "493039\n",
      "512000\n",
      "531441\n",
      "551368\n",
      "571787\n",
      "592704\n",
      "614125\n",
      "636056\n",
      "658503\n",
      "681472\n",
      "704969\n",
      "729000\n",
      "753571\n",
      "778688\n",
      "804357\n",
      "830584\n",
      "857375\n",
      "884736\n",
      "912673\n",
      "941192\n",
      "970299\n",
      "1000000\n"
     ]
    }
   ],
   "source": [
    "# 4-8\n",
    "numbers = list(range(1, 101))\n",
    "for number in numbers:\n",
    "    print(number ** 3)\n"
   ]
  },
  {
   "cell_type": "code",
   "execution_count": 24,
   "metadata": {},
   "outputs": [
    {
     "data": {
      "text/plain": [
       "[1, 8, 27, 64, 125, 216, 343, 512, 729, 1000]"
      ]
     },
     "execution_count": 24,
     "metadata": {},
     "output_type": "execute_result"
    }
   ],
   "source": [
    "# 4-9 - List Comprehension\n",
    "squares = [number ** 3 for number in list(range(1, 11))]\n",
    "squares\n",
    "\n",
    "# [number ** 3 for number in list(range(1, 11))]"
   ]
  },
  {
   "cell_type": "markdown",
   "metadata": {},
   "source": [
    "4-10. Slices: Using one of the programs you wrote in this chapter, add several\n",
    "lines to the end of the program that do the following:\n",
    "- Print the message The first three items in the list are:. Then use a slice to\n",
    "print the first three items from that program’s list.\n",
    "- Print the message Three items from the middle of the list are:. Use a slice to\n",
    "pint three items from the middle of the list.\n",
    "- Print the message The last three items in the list are:. Use a slice to print the\n",
    "last three items in the list.\n",
    "\n",
    "4-11. My Pizzas, Your Pizzas: Start with your program from Exercise 4-1\n",
    "(page 56). Make a copy of the list of pizzas, and call it friend_pizzas.\n",
    "Then, do the following:\n",
    "- Add a new pizza to the original list.\n",
    "- Add a different pizza to the list friend_pizzas.\n",
    "- Prove that you have two separate lists. Print the message My favorite\n",
    "pizzas are:, and then use a for loop to print the first list. Print the message\n",
    "My friend’s favorite pizzas are:, and then use a for loop to print the second\n",
    "list. Make sure each new pizza is stored in the appropriate list.\n",
    "\n",
    "4-12. More Loops: All versions of foods.py in this section have avoided using\n",
    "for loops when printing to save space. Choose a version of foods.py, and\n",
    "write two for loops to print each list of foods."
   ]
  },
  {
   "cell_type": "code",
   "execution_count": 25,
   "metadata": {},
   "outputs": [
    {
     "name": "stdout",
     "output_type": "stream",
     "text": [
      "The first three items in the list are: [1, 2, 3].\n",
      "Some middle items in the list are: [81, 82, 83, 84, 85, 86, 87, 88, 89, 90].\n",
      "The last three items in the list are: [100, 99, 98].\n",
      "The last three items in the list are: [98, 99, 100].\n"
     ]
    }
   ],
   "source": [
    "# 4-10, pg. 65\n",
    "numbers_slice = numbers[:3]\n",
    "\n",
    "print(f\"The first three items in the list are: {numbers[:3]}.\")\n",
    "# print(numbers_slice)\n",
    "# for number in numbers_slice:\n",
    "#     print(f\"The first\")\n",
    "\n",
    "# numbers_slice = numbers[80:90]\n",
    "\n",
    "print(f\"Some middle items in the list are: {numbers[80:90]}.\")\n",
    "\n",
    "print(f\"The last three items in the list are: {numbers[:-4:-1]}.\")\n",
    "print(f\"The last three items in the list are: {numbers[-3::]}.\")"
   ]
  },
  {
   "cell_type": "code",
   "execution_count": 26,
   "metadata": {},
   "outputs": [
    {
     "name": "stdout",
     "output_type": "stream",
     "text": [
      "You wanted a pepperoni pizza.\n",
      "You wanted a meatlovers pizza.\n",
      "You wanted a hawaiian pizza.\n",
      "I really love pizza!\n",
      "\n",
      "Oh you like pepperoni pizza? Gross!\n",
      "Oh you like meatlovers pizza? Gross!\n",
      "Oh you like hawaiian pizza? Gross!\n",
      "Oh you like veggie pizza? Gross!\n",
      "Oh you like anchovie pizza? Gross!\n",
      "You should really try my pizza, you nasty, nasty person.\n"
     ]
    }
   ],
   "source": [
    "# 4-11\n",
    "friend_pizzas = ['pepperoni', 'meatlovers', 'hawaiian', 'veggie', 'anchovie']\n",
    "for pizza in pizza_types:\n",
    "    print(f'You wanted a {pizza} pizza.')\n",
    "\n",
    "print(\"I really love pizza!\\n\")\n",
    "\n",
    "for pizza in friend_pizzas:\n",
    "    print(f'Oh you like {pizza} pizza? Gross!')\n",
    "\n",
    "print('You should really try my pizza, you nasty, nasty person.')"
   ]
  },
  {
   "cell_type": "code",
   "execution_count": 27,
   "metadata": {},
   "outputs": [
    {
     "name": "stdout",
     "output_type": "stream",
     "text": [
      "pizza\n",
      "falafel\n",
      "carrot cake\n",
      "cannoli\n",
      "ice cream\n",
      "\n",
      "\n",
      "pepperoni\n",
      "meatlovers\n",
      "hawaiian\n",
      "veggie\n",
      "anchovie\n"
     ]
    }
   ],
   "source": [
    "# 4-12, pg. 65\n",
    "foods = ['pizza', 'falafel', 'carrot cake', 'cannoli', 'ice cream']\n",
    "pizzas = ['pepperoni', 'meatlovers', 'hawaiian', 'veggie', 'anchovie']\n",
    "\n",
    "for food in foods:\n",
    "    print(food)\n",
    "\n",
    "print(\"\\n\")\n",
    "\n",
    "for pizza in pizzas:\n",
    "    print(pizza)"
   ]
  },
  {
   "cell_type": "markdown",
   "metadata": {},
   "source": [
    "4-13. Buffet: A buffet-style restaurant offers only five basic foods. Think of five\n",
    "simple foods, and store them in a tuple.\n",
    "- Use a for loop to print each food the restaurant offers.\n",
    "- Try to modify one of the items, and make sure that Python rejects the\n",
    "change.\n",
    "- The restaurant changes its menu, replacing two of the items with different\n",
    "foods. Add a line that rewrites the tuple, and then use a for loop to print\n",
    "each of the items on the revised menu."
   ]
  },
  {
   "cell_type": "code",
   "execution_count": 28,
   "metadata": {},
   "outputs": [
    {
     "name": "stdout",
     "output_type": "stream",
     "text": [
      "pizza\n",
      "falafel\n",
      "carrot cake\n",
      "cannoli\n",
      "ice cream\n",
      "\n",
      "\n",
      "pizza\n",
      "falafel\n",
      "carrot cake\n",
      "cannoli\n",
      "ice cream\n",
      "pickles\n",
      "onions\n"
     ]
    }
   ],
   "source": [
    "# 4-13\n",
    "buffet_food = ('pizza', 'falafel', 'carrot cake', 'cannoli', 'ice cream')\n",
    "for food in buffet_food:\n",
    "    print(food)\n",
    "# buffet_food.append('test_food')\n",
    "print('\\n')\n",
    "\n",
    "buffet_food = ('pizza', 'falafel', 'carrot cake', 'cannoli', 'ice cream', 'pickles', 'onions')\n",
    "for food in buffet_food:\n",
    "    print(food)"
   ]
  },
  {
   "cell_type": "markdown",
   "metadata": {},
   "source": [
    "5-1. Conditional Tests: Write a series of conditional tests. Print a statement\n",
    "describing each test and your prediction for the results of each test. Your code\n",
    "should look something like this:\n",
    "\n",
    "car = 'subaru'\n",
    "\n",
    "print(\"Is car == 'subaru'? I predict True.\")\n",
    "\n",
    "print(car == 'subaru')\n",
    "\n",
    "print(\"\\nIs car == 'audi'? I predict False.\")\n",
    "\n",
    "print(car == 'audi')\n",
    "\n",
    "- Look closely at your results, and make sure you understand why each line\n",
    "evaluates to True or False.\n",
    "- Create at least ten tests. Have at least five tests evaluate to True and\n",
    "another five tests evaluate to False.\n",
    "\n",
    "5-2. More Conditional Tests: You don’t have to limit the number of tests you\n",
    "create to ten. If you want to try more comparisons, write more tests and add\n",
    "them to conditional_tests.py. Have at least one True and one False result for\n",
    "each of the following:\n",
    "- Tests for equality and inequality with strings\n",
    "- Tests using the lower() method\n",
    "- Numerical tests involving equality and inequality, greater than and\n",
    "less than, greater than or equal to, and less than or equal to\n",
    "- Tests using the and keyword and the or keyword\n",
    "- Test whether an item is in a list\n",
    "- Test whether an item is not in a list"
   ]
  },
  {
   "cell_type": "code",
   "execution_count": 29,
   "metadata": {},
   "outputs": [
    {
     "name": "stdout",
     "output_type": "stream",
     "text": [
      "Is this car a Subaru?\n",
      "False\n",
      "Is this car a Prius?\n",
      "True\n"
     ]
    }
   ],
   "source": [
    "# 5-1\n",
    "car = 'prius'\n",
    "print('Is this car a Subaru?')\n",
    "print(car == 'subaru')\n",
    "print('Is this car a Prius?')\n",
    "print(car == 'prius')"
   ]
  },
  {
   "cell_type": "code",
   "execution_count": 30,
   "metadata": {},
   "outputs": [
    {
     "data": {
      "text/plain": [
       "True"
      ]
     },
     "execution_count": 30,
     "metadata": {},
     "output_type": "execute_result"
    }
   ],
   "source": [
    "# 5-2\n",
    "foods = ['pizza', 'falafel', 'carrot cake', 'cannoli', 'ice cream', 'pepperoni', 'meatlovers', 'hawaiian', 'veggie', 'anchovie']\n",
    "'pepperoni' in foods and 'falafel' in foods"
   ]
  },
  {
   "cell_type": "code",
   "execution_count": 31,
   "metadata": {},
   "outputs": [
    {
     "data": {
      "text/plain": [
       "False"
      ]
     },
     "execution_count": 31,
     "metadata": {},
     "output_type": "execute_result"
    }
   ],
   "source": [
    "'spaghetti' in foods or not 'falafel' in foods"
   ]
  },
  {
   "cell_type": "code",
   "execution_count": 32,
   "metadata": {},
   "outputs": [
    {
     "data": {
      "text/plain": [
       "True"
      ]
     },
     "execution_count": 32,
     "metadata": {},
     "output_type": "execute_result"
    }
   ],
   "source": [
    "not 'spaghetti' in foods or 'falafel' in foods"
   ]
  },
  {
   "cell_type": "code",
   "execution_count": 33,
   "metadata": {},
   "outputs": [
    {
     "data": {
      "text/plain": [
       "True"
      ]
     },
     "execution_count": 33,
     "metadata": {},
     "output_type": "execute_result"
    }
   ],
   "source": [
    "'spaghetti' in foods or 'falafel' in foods"
   ]
  },
  {
   "cell_type": "markdown",
   "metadata": {},
   "source": [
    "## Try It Yourself\n",
    "5-3. Alien Colors #1: Imagine an alien was just shot down in a game. Create a\n",
    "variable called alien_color and assign it a value of 'green', 'yellow', or 'red'.\n",
    "- Write an if statement to test whether the alien’s color is green. If it is, print\n",
    "a message that the player just earned 5 points.\n",
    "- Write one version of this program that passes the if test and another that\n",
    "fails. (The version that fails will have no output.)\n",
    "\n",
    "5-4. Alien Colors #2: Choose a color for an alien as you did in Exercise 5-3, and\n",
    "write an if-else chain.\n",
    "- If the alien’s color is green, print a statement that the player just earned\n",
    "5 points for shooting the alien.\n",
    "- If the alien’s color isn’t green, print a statement that the player just earned\n",
    "10 points.\n",
    "- Write one version of this program that runs the if block and another that\n",
    "runs the else block."
   ]
  },
  {
   "cell_type": "code",
   "execution_count": 34,
   "metadata": {},
   "outputs": [
    {
     "name": "stdout",
     "output_type": "stream",
     "text": [
      "Player just earned 5 points!\n"
     ]
    }
   ],
   "source": [
    "# 5-3\n",
    "alien_color = 'green'\n",
    "if alien_color == 'green':\n",
    "    print('Player just earned 5 points!')\n",
    "if alien_color == 'yellow':\n",
    "    print('Player just earned 5 points!')"
   ]
  },
  {
   "cell_type": "code",
   "execution_count": 35,
   "metadata": {},
   "outputs": [
    {
     "name": "stdout",
     "output_type": "stream",
     "text": [
      "Player just earned 5 points!\n"
     ]
    }
   ],
   "source": [
    "# 5-4\n",
    "alien_color = 'green'\n",
    "if alien_color == 'green':\n",
    "    print('Player just earned 5 points!')\n",
    "else:\n",
    "    print('Player just earned 10 points!')"
   ]
  },
  {
   "cell_type": "code",
   "execution_count": 36,
   "metadata": {},
   "outputs": [
    {
     "name": "stdout",
     "output_type": "stream",
     "text": [
      "Player just earned 5 points!\n"
     ]
    }
   ],
   "source": [
    "# 5-5\n",
    "alien_color = 'green'\n",
    "if alien_color == 'green':\n",
    "    print('Player just earned 5 points!')\n",
    "elif alien_color == 'yellow':\n",
    "    print('Player just earned 10 points!')\n",
    "elif alien_color == 'red':\n",
    "    print('Player just earned 15 points!')"
   ]
  },
  {
   "cell_type": "code",
   "execution_count": 37,
   "metadata": {},
   "outputs": [
    {
     "name": "stdout",
     "output_type": "stream",
     "text": [
      "You are a teenager.\n"
     ]
    }
   ],
   "source": [
    "# 5-6\n",
    "age = int(input(\"How old are you?\"))\n",
    "\n",
    "if age < 2:\n",
    "    print('You are a baby.')\n",
    "elif age >= 2 and age < 4:\n",
    "    print('You are a toddler.')\n",
    "elif age >= 4 and age < 13:\n",
    "    print('You are a kid.')\n",
    "elif age >= 13 and age < 20:\n",
    "    print('You are a teenager.')\n",
    "elif age >= 20 and age < 65:\n",
    "    print('You are an adult.')\n",
    "elif age >= 65:\n",
    "    print('You are an elder.')\n",
    "else:\n",
    "    print('You did not enter a valid age. Please try again.')"
   ]
  },
  {
   "cell_type": "code",
   "execution_count": 38,
   "metadata": {},
   "outputs": [
    {
     "name": "stdout",
     "output_type": "stream",
     "text": [
      "You really like banana! I could really for a banana right now...\n"
     ]
    }
   ],
   "source": [
    "# 5-7\n",
    "fruits = ['kiwi', 'apple', 'orange', 'banana', 'grape', 'blueberry']\n",
    "\n",
    "fruit = input('What is your favorite fruit?')\n",
    "\n",
    "if fruit in fruits:\n",
    "    print(f'You really like {fruit}! I could really for a {fruit} right now...')\n",
    "else:\n",
    "    print(f'{fruit} is not something we have available.')"
   ]
  },
  {
   "cell_type": "code",
   "execution_count": 39,
   "metadata": {},
   "outputs": [
    {
     "name": "stdout",
     "output_type": "stream",
     "text": [
      "Adding mushrooms.\n",
      "Sorry, we don't have french fries.\n",
      "Adding extra cheese.\n",
      "\n",
      "Finished making your pizza!\n"
     ]
    }
   ],
   "source": [
    "available_toppings = ['mushrooms', 'olives', 'green peppers',\n",
    "'pepperoni', 'pineapple', 'extra cheese']\n",
    "requested_toppings = ['mushrooms', 'french fries', 'extra cheese']\n",
    "\n",
    "for requested_topping in requested_toppings:\n",
    "    if requested_topping in available_toppings:\n",
    "        print(f'Adding {requested_topping}.')\n",
    "    else:\n",
    "        print(f\"Sorry, we don't have {requested_topping}.\")\n",
    "\n",
    "print(\"\\nFinished making your pizza!\")"
   ]
  },
  {
   "cell_type": "code",
   "execution_count": 40,
   "metadata": {},
   "outputs": [
    {
     "name": "stdout",
     "output_type": "stream",
     "text": [
      "Hello mike, thank you for logging in.\n",
      "Hello sally, thank you for logging in.\n",
      "Hello jim, thank you for logging in.\n",
      "Hello jemi, thank you for logging in.\n",
      "Hello dave, thank you for logging in.\n",
      "Hello admin, would you like to see a status report?\n"
     ]
    }
   ],
   "source": [
    "# 5-8\n",
    "usernames = ['mike', 'sally', 'jim', 'jemi', 'dave', 'admin']\n",
    "for username in usernames:\n",
    "    if username == 'admin':\n",
    "        print(f\"Hello {username}, would you like to see a status report?\")\n",
    "    else:\n",
    "        print(f\"Hello {username}, thank you for logging in.\")"
   ]
  },
  {
   "cell_type": "code",
   "execution_count": 41,
   "metadata": {},
   "outputs": [
    {
     "name": "stdout",
     "output_type": "stream",
     "text": [
      "Hello mike, thank you for logging in.\n",
      "Hello sally, thank you for logging in.\n",
      "Hello jim, thank you for logging in.\n",
      "Hello jemi, thank you for logging in.\n",
      "Hello dave, thank you for logging in.\n",
      "Hello admin, would you like to see a status report?\n"
     ]
    }
   ],
   "source": [
    "# 5-9\n",
    "usernames = ['mike', 'sally', 'jim', 'jemi', 'dave', 'admin']\n",
    "\n",
    "for username in usernames:\n",
    "    if username == 'admin':\n",
    "        print(f\"Hello {username}, would you like to see a status report?\")\n",
    "    elif username in usernames and username != 'admin':\n",
    "        print(f\"Hello {username}, thank you for logging in.\")\n",
    "    elif username == '':\n",
    "        print(f\"We need to find some users!\")"
   ]
  },
  {
   "cell_type": "code",
   "execution_count": 42,
   "metadata": {},
   "outputs": [
    {
     "name": "stdout",
     "output_type": "stream",
     "text": [
      "A system error occurred. Please try again.\n"
     ]
    }
   ],
   "source": [
    "# 5-9\n",
    "usernames = ['mike', 'sally', 'jim', 'jemi', 'dave', 'admin']\n",
    "username_input = input(\"What is your username?\")\n",
    "\n",
    "for username in username_input:\n",
    "    if username == 'admin':\n",
    "        print(f\"Hello {username}, would you like to see a status report?\")\n",
    "    elif username in usernames and username != 'admin':\n",
    "        print(f\"Hello {username}, thank you for logging in.\")\n",
    "    elif username == '':\n",
    "        print(f\"We need to find some users!\")\n",
    "\n",
    "if username_input in usernames and username_input == 'admin':\n",
    "    print(f\"Hello {username}, would you like to see a status report?\")\n",
    "elif username_input in usernames and username_input != 'admin':\n",
    "    print(f\"Hello {username_input}, thank you for logging in.\")\n",
    "elif username_input not in usernames:\n",
    "    print(\"A system error occurred. Please try again.\")\n",
    "elif username_input == '':\n",
    "    print(f\"We need to find some users!\")"
   ]
  },
  {
   "cell_type": "code",
   "execution_count": 43,
   "metadata": {},
   "outputs": [
    {
     "name": "stdout",
     "output_type": "stream",
     "text": [
      "This username 'mike' is already in use. Normally I would not disclose such information, but this is for practice so cybersecurity and SecDevOps best practices obviously go out the window. Enter a different username since you now have solid information on one of the current usernames...\n",
      "This username 'sally' is already in use. Normally I would not disclose such information, but this is for practice so cybersecurity and SecDevOps best practices obviously go out the window. Enter a different username since you now have solid information on one of the current usernames...\n",
      "This username 'jim' is already in use. Normally I would not disclose such information, but this is for practice so cybersecurity and SecDevOps best practices obviously go out the window. Enter a different username since you now have solid information on one of the current usernames...\n",
      "The username 'frank' is available.\n",
      "The username 'ellie' is available.\n",
      "The username 'avery' is available.\n",
      "The username 'tim' is available.\n"
     ]
    }
   ],
   "source": [
    "# 5-10\n",
    "current_users = ['mike', 'sally', 'jim', 'jemi', 'dave', 'admin']\n",
    "new_users = ['mike', 'sally', 'jim', 'frank', 'ellie', 'avery', 'tim']\n",
    "\n",
    "for user in new_users:\n",
    "    if user.lower() in current_users:\n",
    "        print(f\"This username '{user}' is already in use. Normally I would not disclose \"\n",
    "        \"such information, but this is for practice so cybersecurity and SecDevOps best \"\n",
    "        \"practices obviously go out the window. Enter a different username \"\n",
    "        \"since you now have solid information on one of the current usernames...\")\n",
    "    elif user.lower() not in current_users:\n",
    "        print(f\"The username '{user}' is available.\")"
   ]
  },
  {
   "cell_type": "code",
   "execution_count": 44,
   "metadata": {},
   "outputs": [
    {
     "name": "stdout",
     "output_type": "stream",
     "text": [
      "1st\n",
      "2nd\n",
      "3rd\n",
      "4th\n",
      "5th\n",
      "6th\n",
      "7th\n",
      "8th\n",
      "9th\n"
     ]
    }
   ],
   "source": [
    "# 5-11\n",
    "# numbers = []\n",
    "# for i in range(1,10):\n",
    "#     numbers.append(i)\n",
    "# numbers\n",
    "\n",
    "numbers = [number for number in list(range(1, 10))]\n",
    "numbers\n",
    "\n",
    "for number in numbers:\n",
    "    if number == 1:\n",
    "        # print(f\"{number}st\")\n",
    "        print(str(number) + \"st\")\n",
    "    elif number == 2:\n",
    "        print(f\"{number}nd\")\n",
    "    elif number == 3:\n",
    "        print(f\"{number}rd\")\n",
    "    else:\n",
    "        print(f\"{number}th\")"
   ]
  },
  {
   "cell_type": "markdown",
   "metadata": {},
   "source": [
    "## Try It Yourself\n",
    "5-12. Styling if statements: Review the programs you wrote in this chapter, and\n",
    "make sure you styled your conditional tests appropriately.\n",
    "\n",
    "5-13. Your Ideas: At this point, you’re a more capable programmer than you\n",
    "were when you started this book. Now that you have a better sense of how\n",
    "real-world situations are modeled in programs, you might be thinking of some\n",
    "problems you could solve with your own programs. Record any new ideas you\n",
    "have about problems you might want to solve as your programming skills continue\n",
    "to improve. Consider games you might want to write, data sets you might\n",
    "want to explore, and web applications you’d like to create."
   ]
  },
  {
   "cell_type": "code",
   "execution_count": 45,
   "metadata": {},
   "outputs": [],
   "source": [
    "# 5-12\n"
   ]
  },
  {
   "cell_type": "code",
   "execution_count": 46,
   "metadata": {},
   "outputs": [],
   "source": [
    "# 5-13"
   ]
  },
  {
   "cell_type": "markdown",
   "metadata": {},
   "source": [
    "## Ch. 6"
   ]
  },
  {
   "cell_type": "markdown",
   "metadata": {},
   "source": [
    "6-1. Person: Use a dictionary to store information about a person you know.\n",
    "Store their first name, last name, age, and the city in which they live. You\n",
    "should have keys such as first_name, last_name, age, and city. Print each\n",
    "piece of information stored in your dictionary.\n",
    "\n",
    "6-2. Favorite Numbers: Use a dictionary to store people’s favorite numbers.\n",
    "Think of five names, and use them as keys in your dictionary. Think of a favorite\n",
    "number for each person, and store each as a value in your dictionary. Print\n",
    "each person’s name and their favorite number. For even more fun, poll a few\n",
    "friends and get some actual data for your program.\n",
    "\n",
    "6-3. Glossary: A Python dictionary can be used to model an actual dictionary.\n",
    "However, to avoid confusion, let’s call it a glossary.\n",
    "- Think of five programming words you’ve learned about in the previous\n",
    "chapters. Use these words as the keys in your glossary, and store their\n",
    "meanings as values.\n",
    "- Print each word and its meaning as neatly formatted output. You might\n",
    "print the word followed by a colon and then its meaning, or print the word\n",
    "on one line and then print its meaning indented on a second line. Use the\n",
    "newline character (\\n) to insert a blank line between each word-meaning\n",
    "pair in your output."
   ]
  },
  {
   "cell_type": "code",
   "execution_count": 47,
   "metadata": {},
   "outputs": [
    {
     "name": "stdout",
     "output_type": "stream",
     "text": [
      "{'first_name': 'john', 'last_name': 'smith', 'age': '28', 'city': 'Seattle'}\n",
      "dict_keys(['first_name', 'last_name', 'age', 'city'])\n",
      "dict_values(['john', 'smith', '28', 'Seattle'])\n"
     ]
    }
   ],
   "source": [
    "# 6-1\n",
    "person = {\n",
    "    'first_name' : 'john',\n",
    "    'last_name' : 'smith',\n",
    "    'age' : '28',\n",
    "    'city' : 'Seattle',\n",
    "}\n",
    "\n",
    "print(person)\n",
    "print(person.keys())\n",
    "print(person.values())"
   ]
  },
  {
   "cell_type": "code",
   "execution_count": 48,
   "metadata": {},
   "outputs": [
    {
     "name": "stdout",
     "output_type": "stream",
     "text": [
      "{'julie': '57', 'dan': '21', 'michael': '37', 'jake': '18', 'triston': '9'}\n",
      "List of prople: dict_keys(['julie', 'dan', 'michael', 'jake', 'triston'])\n",
      "List of favorite numbers: dict_values(['57', '21', '37', '18', '9'])\n",
      "julie\n",
      "dan\n",
      "michael\n",
      "jake\n",
      "triston\n",
      "57\n",
      "21\n",
      "37\n",
      "18\n",
      "9\n",
      "['julie', 'dan', 'michael', 'jake', 'triston']\n",
      "['57', '21', '37', '18', '9']\n"
     ]
    }
   ],
   "source": [
    "# 6-2\n",
    "favorite_number = {\n",
    "    'julie' : '57',\n",
    "    'dan' : '21',\n",
    "    'michael' : '37',\n",
    "    'jake' : '18',\n",
    "    'triston' : '9',\n",
    "}\n",
    "\n",
    "print(favorite_number)\n",
    "print(f\"List of prople: {favorite_number.keys()}\")\n",
    "print(f\"List of favorite numbers: {favorite_number.values()}\")\n",
    "\n",
    "for key in favorite_number.keys():\n",
    "    print(key)\n",
    "\n",
    "for value in favorite_number.values():\n",
    "    print(value)\n",
    "\n",
    "key = [key for key in favorite_number.keys()]\n",
    "key\n",
    "print([key for key in favorite_number.keys()])\n",
    "\n",
    "value = [value for value in favorite_number.values()]\n",
    "print(value)\n",
    "# [value for value in favorite_number.values()]"
   ]
  },
  {
   "cell_type": "code",
   "execution_count": 49,
   "metadata": {},
   "outputs": [
    {
     "name": "stdout",
     "output_type": "stream",
     "text": [
      "{'julie': '57', 'dan': '21', 'michael': '37', 'jake': '18', 'triston': '9'}\n",
      "List of prople: dict_keys(['julie', 'dan', 'michael', 'jake', 'triston'])\n",
      "\n",
      "List of favorite numbers: dict_values(['57', '21', '37', '18', '9'])\n"
     ]
    }
   ],
   "source": [
    "# 6-3\n",
    "print(favorite_number)\n",
    "print(f\"List of prople: {favorite_number.keys()}\\n\")\n",
    "print(f\"List of favorite numbers: {favorite_number.values()}\")"
   ]
  },
  {
   "cell_type": "markdown",
   "metadata": {},
   "source": [
    "6-4. Glossary 2: Now that you know how to loop through a dictionary, clean\n",
    "up the code from Exercise 6-3 (page 99) by replacing your series of print()\n",
    "calls with a loop that runs through the dictionary’s keys and values. When\n",
    "you’re sure that your loop works, add five more Python terms to your glossary.\n",
    "When you run your program again, these new words and meanings should\n",
    "automatically be included in the output.\n",
    "\n",
    "6-5. Rivers: Make a dictionary containing three major rivers and the country\n",
    "each river runs through. One key-value pair might be 'nile': 'egypt'.\n",
    "- Use a loop to print a sentence about each river, such as The Nile runs\n",
    "through Egypt.\n",
    "- Use a loop to print the name of each river included in the dictionary.\n",
    "- Use a loop to print the name of each country included in the dictionary.\n",
    "\n",
    "6-6. Polling: Use the code in favorite_languages.py (page 97).\n",
    "- Make a list of people who should take the favorite languages poll. Include\n",
    "some names that are already in the dictionary and some that are not.\n",
    "- Loop through the list of people who should take the poll. If they have\n",
    "already taken the poll, print a message thanking them for responding.\n",
    "If they have not yet taken the poll, print a message inviting them to take\n",
    "the poll."
   ]
  },
  {
   "cell_type": "code",
   "execution_count": 50,
   "metadata": {},
   "outputs": [
    {
     "name": "stdout",
     "output_type": "stream",
     "text": [
      "{'first_name': 'john', 'last_name': 'smith', 'age': '28', 'city': 'Seattle'}\n",
      "dict_keys(['first_name', 'last_name', 'age', 'city'])\n",
      "dict_values(['john', 'smith', '28', 'Seattle'])\n",
      "first_name : john\n",
      "last_name : smith\n",
      "age : 28\n",
      "city : Seattle\n",
      "[['first_name', 'john'], ['last_name', 'smith'], ['age', '28'], ['city', 'Seattle']]\n",
      "[('first_name', 'john'), ('last_name', 'smith'), ('age', '28'), ('city', 'Seattle')]\n"
     ]
    }
   ],
   "source": [
    "# 6-4\n",
    "print(person)\n",
    "print(person.keys())\n",
    "print(person.values())\n",
    "\n",
    "for key, value in person.items():\n",
    "    print(f\"{key} : {value}\")\n",
    "\n",
    "key_value = [[key, value] for [key, value] in person.items()]\n",
    "print(key_value)\n",
    "\n",
    "key_value = [(key, value) for (key, value) in person.items()]\n",
    "print(key_value)\n",
    "\n",
    "# for key in person.keys():\n",
    "#     for value in person.values():\n",
    "#         print(f\"{key} : {value}\")\n",
    "\n",
    "# for value in person\n",
    "\n",
    "# for key, value in person.items():\n",
    "#     print(f\"\\nKey: {key}\")\n",
    "#     print(f\"Value: {value}\")\n",
    "\n",
    "# for key, value in person.key(), person.values():\n",
    "#     print(f\"{key} : {value}\")"
   ]
  },
  {
   "cell_type": "code",
   "execution_count": 51,
   "metadata": {},
   "outputs": [
    {
     "name": "stdout",
     "output_type": "stream",
     "text": [
      "The Nile River runs through Egypt.\n",
      "The Amazon River runs through Brazil.\n",
      "The Mississippi River runs through United States.\n",
      "The Xiangzhe River runs through China.\n"
     ]
    }
   ],
   "source": [
    "# 6-5\n",
    "rivers = {\n",
    "    'nile' : 'egypt',\n",
    "    'amazon' : 'brazil',\n",
    "    'mississippi' : 'united states',\n",
    "    'xiangzhe' : 'china',\n",
    "}\n",
    "\n",
    "for key, value in rivers.items():\n",
    "    print(f\"The {key.title()} River runs through {value.title()}.\")"
   ]
  },
  {
   "cell_type": "code",
   "execution_count": 52,
   "metadata": {},
   "outputs": [
    {
     "name": "stdout",
     "output_type": "stream",
     "text": [
      "Thank you Julie for taking the poll! I like Python too!\n",
      "Thank you Dan for taking the poll! I like Ruby too!\n",
      "Thank you Michael for taking the poll! I like C too!\n",
      "Thank you Jake for taking the poll! I like Rust too!\n",
      "Thank you Triston for taking the poll! I like Java too!\n"
     ]
    }
   ],
   "source": [
    "# 6-6\n",
    "# favorite_languages = {'python', 'ruby', 'python', 'c'}\n",
    "# favorite_languages\n",
    "\n",
    "favorite_languages = {\n",
    "    'julie' : 'python',\n",
    "    'dan' : 'ruby',\n",
    "    'michael' : 'c',\n",
    "    'jake' : 'rust',\n",
    "    'triston' : 'java',\n",
    "}\n",
    "\n",
    "for key, value in favorite_languages.items():\n",
    "    print(f\"Thank you {key.title()} for taking the poll! I like {value.title()} too!\")"
   ]
  },
  {
   "cell_type": "markdown",
   "metadata": {},
   "source": [
    "6-7. People: Start with the program you wrote for Exercise 6-1 (page 99).\n",
    "Make two new dictionaries representing different people, and store all three\n",
    "dictionaries in a list called people. Loop through your list of people. As you\n",
    "loop through the list, print everything you know about each person.\n",
    "\n",
    "6-8. Pets: Make several dictionaries, where each dictionary represents a different\n",
    "pet. In each dictionary, include the kind of animal and the owner’s name.\n",
    "Store these dictionaries in a list called pets. Next, loop through your list and as\n",
    "you do, print everything you know about each pet.\n",
    "\n",
    "6-9. Favorite Places: Make a dictionary called favorite_places. Think of three\n",
    "names to use as keys in the dictionary, and store one to three favorite places\n",
    "for each person. To make this exercise a bit more interesting, ask some friends\n",
    "to name a few of their favorite places. Loop through the dictionary, and print\n",
    "each person’s name and their favorite places.\n",
    "\n",
    "6-10. Favorite Numbers: Modify your program from Exercise 6-2 (page 99)\n",
    "so each person can have more than one favorite number. Then print each person’s\n",
    "name along with their favorite numbers.\n",
    "\n",
    "6-11. Cities: Make a dictionary called cities. Use the names of three cities as\n",
    "keys in your dictionary. Create a dictionary of information about each city and\n",
    "include the country that the city is in, its approximate population, and one fact\n",
    "about that city. The keys for each city’s dictionary should be something like\n",
    "country, population, and fact. Print the name of each city and all of the information\n",
    "you have stored about it.\n",
    "\n",
    "6-12. Extensions: We’re now working with examples that are complex enough\n",
    "that they can be extended in any number of ways. Use one of the example programs\n",
    "from this chapter, and extend it by adding new keys and values, changing\n",
    "the context of the program or improving the formatting of the output."
   ]
  },
  {
   "cell_type": "code",
   "execution_count": 55,
   "metadata": {},
   "outputs": [
    {
     "name": "stdout",
     "output_type": "stream",
     "text": [
      "{'first_name': 'john', 'last_name': 'smith', 'age': '28', 'city': 'Seattle'}\n",
      "dict_keys(['first_name', 'last_name', 'age', 'city'])\n",
      "dict_values(['john', 'smith', '28', 'Seattle'])\n"
     ]
    }
   ],
   "source": [
    "# 6-7\n",
    "# people_dictionary = {\n",
    "#     'jsmith' : {\n",
    "#         'first_name' : 'john',\n",
    "#         'last_name' : 'smith',\n",
    "#         'age' : '28',\n",
    "#         'city' : 'Seattle',\n",
    "#         },\n",
    "#     'mgreen' : {\n",
    "#         'first_name' : 'mary',\n",
    "#         'last_name' : 'green',\n",
    "#         'age' : '30',\n",
    "#         'city' : 'los angeles',        \n",
    "#         },\n",
    "#     'mdavis' : {\n",
    "#         'first_name' : 'mike',\n",
    "#         'last_name' : 'davis',\n",
    "#         'age' : '25',\n",
    "#         'city' : 'atlanta',        \n",
    "#         },\n",
    "#     }\n",
    "\n",
    "person1 = {\n",
    "    'username' : 'jsmith',\n",
    "    'first_name' : 'john',\n",
    "    'last_name' : 'smith',\n",
    "    'age' : '28',\n",
    "    'city' : 'Seattle',\n",
    "    }\n",
    "\n",
    "person2 = {\n",
    "    'username' : 'mgreen',\n",
    "    'first_name' : 'mary',\n",
    "    'last_name' : 'green',\n",
    "    'age' : '30',\n",
    "    'city' : 'los angeles',        \n",
    "    }\n",
    "\n",
    "person3 = {\n",
    "    'username' : 'mdavis',\n",
    "    'first_name' : 'mike',\n",
    "    'last_name' : 'davis',\n",
    "    'age' : '25',\n",
    "    'city' : 'atlanta',        \n",
    "    }\n",
    "\n",
    "people = [person1, person2, person3]\n",
    "\n",
    "# for key, value in people.items():\n",
    "#     print(f\"{key}\")\n",
    "#     print(f\"{value}\")\n",
    "\n",
    "# for person in people.items():\n",
    "#     print(person)\n",
    "\n",
    "\n",
    "print(person)\n",
    "print(person.keys())\n",
    "print(person.values())"
   ]
  },
  {
   "cell_type": "markdown",
   "metadata": {},
   "source": [
    "7-1. Rental Car: Write a program that asks the user what kind of rental car they\n",
    "would like. Print a message about that car, such as “Let me see if I can find you\n",
    "a Subaru.”\n",
    "\n",
    "7-2. Restaurant Seating: Write a program that asks the user how many people\n",
    "are in their dinner group. If the answer is more than eight, print a message saying\n",
    "they’ll have to wait for a table. Otherwise, report that their table is ready.\n",
    "\n",
    "7-3. Multiples of Ten: Ask the user for a number, and then report whether the\n",
    "number is a multiple of 10 or not."
   ]
  },
  {
   "cell_type": "code",
   "execution_count": 57,
   "metadata": {},
   "outputs": [
    {
     "name": "stdout",
     "output_type": "stream",
     "text": [
      "Let me see if I can find you a Subaru.\n"
     ]
    }
   ],
   "source": [
    "# 7-1\n",
    "rental_car = input(\"What kind of rental car would you like?\")\n",
    "\n",
    "print(f\"Let me see if I can find you a {rental_car.title()}.\")"
   ]
  },
  {
   "cell_type": "code",
   "execution_count": 63,
   "metadata": {},
   "outputs": [
    {
     "name": "stdout",
     "output_type": "stream",
     "text": [
      "I am sorry, we currently do not have seating available for a party of 9. You will have to wait about 45 minutes.\n"
     ]
    }
   ],
   "source": [
    "# 7-2\n",
    "dinner_group_size = input(\"How many people do you have in your party?\")\n",
    "dinner_group_size = int(dinner_group_size)\n",
    "\n",
    "if dinner_group_size > 8:\n",
    "    print(f\"I am sorry, we currently do not have seating available for a party of {dinner_group_size}.\"\n",
    "    \" You will have to wait about 45 minutes.\")\n",
    "elif dinner_group_size <= 8:\n",
    "    print(f\"Party of {dinner_group_size}, your table is ready. Please follow the hostess.\")"
   ]
  },
  {
   "cell_type": "code",
   "execution_count": 67,
   "metadata": {},
   "outputs": [
    {
     "name": "stdout",
     "output_type": "stream",
     "text": [
      "Conrats, the number 90 is divisible by 10!\n"
     ]
    }
   ],
   "source": [
    "# 7-3\n",
    "user_number = input(\"Tell me a number and I will tell you if it is divisible by 10.\")\n",
    "user_number = int(user_number)\n",
    "\n",
    "if user_number % 10 == 0:\n",
    "    print(f\"Conrats, the number {user_number} is divisible by 10!\")\n",
    "elif user_number % 10 != 0:\n",
    "    print(f\"Sorry, the number {user_number} is not divisible by 10.\")"
   ]
  },
  {
   "cell_type": "markdown",
   "metadata": {},
   "source": [
    "7-4. Pizza Toppings: Write a loop that prompts the user to enter a series of\n",
    "pizza toppings until they enter a 'quit' value. As they enter each topping,\n",
    "print a message saying you’ll add that topping to their pizza.\n",
    "\n",
    "7-5. Movie Tickets: A movie theater charges different ticket prices depending on\n",
    "a person’s age. If a person is under the age of 3, the ticket is free; if they are\n",
    "between 3 and 12, the ticket is $10; and if they are over age 12, the ticket is\n",
    "$15. Write a loop in which you ask users their age, and then tell them the cost\n",
    "of their movie ticket.\n",
    "\n",
    "7-6. Three Exits: Write different versions of either Exercise 7-4 or Exercise 7-5\n",
    "that do each of the following at least once:\n",
    "- Use a conditional test in the while statement to stop the loop.\n",
    "- Use an active variable to control how long the loop runs.\n",
    "- Use a break statement to exit the loop when the user enters a 'quit' value.\n",
    "\n",
    "7-7. Infinity: Write a loop that never ends, and run it. (To end the loop, press\n",
    "ctrl-C or close the window displaying the output.)"
   ]
  },
  {
   "cell_type": "code",
   "execution_count": 71,
   "metadata": {},
   "outputs": [
    {
     "name": "stdout",
     "output_type": "stream",
     "text": [
      "Adding pepperoni to your pizza topping list.\n",
      "Adding salami to your pizza topping list.\n",
      "Adding anchovies to your pizza topping list.\n",
      "\n",
      "You added ['pepperoni', 'salami', 'anchovies'] to your pizza.\n"
     ]
    }
   ],
   "source": [
    "# 7-4\n",
    "prompt = \"\\nPlease enter which topping you want on your pizza:\"\n",
    "prompt += \"\\nEnter 'quit' when you are finished.\"\n",
    "\n",
    "toppings = []\n",
    "\n",
    "while True:\n",
    "    topping = input(prompt)\n",
    "\n",
    "    if topping == 'quit':\n",
    "        print(f\"\\nYou added {toppings} to your pizza.\")\n",
    "        break\n",
    "    else:\n",
    "        print(f\"Adding {topping} to your pizza topping list.\")\n",
    "        toppings.append(topping)"
   ]
  },
  {
   "cell_type": "code",
   "execution_count": 81,
   "metadata": {},
   "outputs": [
    {
     "name": "stdout",
     "output_type": "stream",
     "text": [
      "You are over the age of 90 so GIMME DAT MONEY. Price is $10, fool.\n"
     ]
    }
   ],
   "source": [
    "# 7-5\n",
    "# 7-5. Movie Tickets: A movie theater charges different ticket prices depending on\n",
    "# a person’s age. If a person is under the age of 3, the ticket is free; if they are\n",
    "# between 3 and 12, the ticket is $10; and if they are over age 12, the ticket is\n",
    "# $15. Write a loop in which you ask users their age, and then tell them the cost\n",
    "# of their movie ticket.\n",
    "\n",
    "prompt = \"\\nPlease enter your age to receive an estimate of your total charge for the movie:\"\n",
    "prompt += \"\\nNo cheating!\"\n",
    "prompt += \"\\nEnter 'quit' when you are finished \"\n",
    "\n",
    "while True:\n",
    "    age = input(prompt)\n",
    "\n",
    "    if age == 'quit':\n",
    "        break\n",
    "    elif int(age) < 3:\n",
    "        print(\"Your ticket is free\")\n",
    "    elif int(age) >= 3 and int(age) <= 12:\n",
    "        print(f\"You are {age} so your ticket is $10.\")\n",
    "    elif int(age) > 12:\n",
    "        print(f\"You are over the age of {age} so GIMME DAT MONEY. Price is $10, fool.\")"
   ]
  },
  {
   "cell_type": "code",
   "execution_count": 2,
   "metadata": {},
   "outputs": [
    {
     "name": "stdout",
     "output_type": "stream",
     "text": [
      "Adding pepperoni to your pizza topping list.\n",
      "Adding salami to your pizza topping list.\n",
      "Adding anchovies to your pizza topping list.\n",
      "\n",
      "You added ['pepperoni', 'salami', 'anchovies'] to your pizza.\n",
      "You have reached three toppings, which is the maximum toppings allowable.\n"
     ]
    }
   ],
   "source": [
    "# 7-6. \n",
    "# Three Exits: Write different versions of either Exercise 7-4 or Exercise 7-5\n",
    "# that do each of the following at least once:\n",
    "# - Use a conditional test in the while statement to stop the loop.\n",
    "# - Use an active variable to control how long the loop runs.\n",
    "# - Use a break statement to exit the loop when the user enters a 'quit' value.\n",
    "\n",
    "prompt = \"\\nPlease enter which toppings (up to three) you want on your pizza:\"\n",
    "prompt += \"\\nEnter 'quit' when you are finished.\"\n",
    "\n",
    "toppings = []\n",
    "topping_count = 0\n",
    "\n",
    "while True:\n",
    "    topping = input(prompt)\n",
    "\n",
    "    if topping == 'quit':\n",
    "        print(f\"\\nYou added {toppings} toppings to your pizza.\")\n",
    "        break\n",
    "    else:\n",
    "        print(f\"Adding {topping} to your pizza topping list.\")\n",
    "        toppings.append(topping)\n",
    "        topping_count += 1\n",
    "        if topping_count <= 2:\n",
    "            continue\n",
    "        elif topping_count > 2:\n",
    "            print(f\"\\nYou added {toppings} to your pizza.\")\n",
    "            print(f\"You have reached three toppings, which is the maximum toppings allowable.\")\n",
    "            break"
   ]
  },
  {
   "cell_type": "markdown",
   "metadata": {},
   "source": [
    "7-8. Deli: Make a list called sandwich_orders and fill it with the names of various\n",
    "sandwiches. Then make an empty list called finished_sandwiches. Loop\n",
    "through the list of sandwich orders and print a message for each order, such\n",
    "as I made your tuna sandwich. As each sandwich is made, move it to the list\n",
    "of finished sandwiches. After all the sandwiches have been made, print a\n",
    "message listing each sandwich that was made.\n",
    "\n",
    "7-9. No Pastrami: Using the list sandwich_orders from Exercise 7-8, make sure\n",
    "the sandwich 'pastrami' appears in the list at least three times. Add code\n",
    "near the beginning of your program to print a message saying the deli has\n",
    "run out of pastrami, and then use a while loop to remove all occurrences of\n",
    "'pastrami' from sandwich_orders. Make sure no pastrami sandwiches end up\n",
    "in finished_sandwiches.\n",
    "\n",
    "7-10. Dream Vacation: Write a program that polls users about their dream vacation.\n",
    "Write a prompt similar to If you could visit one place in the world, where\n",
    "would you go? Include a block of code that prints the results of the poll."
   ]
  },
  {
   "cell_type": "code",
   "execution_count": 6,
   "metadata": {},
   "outputs": [
    {
     "name": "stdout",
     "output_type": "stream",
     "text": [
      "I made your pastrammi sandwich.\n",
      "I made your ham and cheese sandwich.\n",
      "\n",
      "\n",
      "\n",
      "I made your italian sandwich.\n",
      "I made your turkey sandwich.\n",
      "I made your ham and cheese sandwich.\n",
      "I made your pastrammi sandwich.\n",
      "\n",
      "\n",
      "\n",
      "italian\n",
      "turkey\n",
      "ham and cheese\n",
      "pastrammi\n"
     ]
    }
   ],
   "source": [
    "# 7-8\n",
    "sandwich_orders = ['pastrammi', 'ham and cheese', 'turkey', 'italian']\n",
    "finished_sandwiches = []\n",
    "\n",
    "for sandwich in sandwich_orders:\n",
    "    print(f\"I made your {sandwich} sandwich.\")\n",
    "    finished_sandwiches.append(sandwich)\n",
    "    sandwich_orders.pop()\n",
    "\n",
    "print(\"\\n\" * 2)\n",
    "\n",
    "sandwich_orders = ['pastrammi', 'ham and cheese', 'turkey', 'italian']\n",
    "finished_sandwiches = []\n",
    "\n",
    "while sandwich_orders:\n",
    "    sandwich = sandwich_orders.pop()\n",
    "\n",
    "    print(f\"I made your {sandwich} sandwich.\")\n",
    "    finished_sandwiches.append(sandwich)\n",
    "\n",
    "print(\"\\n\" * 2)\n",
    "\n",
    "for sandwich in finished_sandwiches:\n",
    "    print(sandwich)"
   ]
  },
  {
   "cell_type": "markdown",
   "metadata": {},
   "source": [
    "7-9. No Pastrami: Using the list sandwich_orders from Exercise 7-8, make sure\n",
    "the sandwich 'pastrami' appears in the list at least three times. Add code\n",
    "near the beginning of your program to print a message saying the deli has\n",
    "run out of pastrami, and then use a while loop to remove all occurrences of\n",
    "'pastrami' from sandwich_orders. Make sure no pastrami sandwiches end up\n",
    "in finished_sandwiches."
   ]
  },
  {
   "cell_type": "code",
   "execution_count": 11,
   "metadata": {},
   "outputs": [
    {
     "name": "stdout",
     "output_type": "stream",
     "text": [
      "The deli has run out of pastrami!\n",
      "I made your italian sandwich.\n",
      "I made your turkey sandwich.\n",
      "I made your ham and cheese sandwich.\n"
     ]
    }
   ],
   "source": [
    "# 7-9\n",
    "sandwich_orders = ['pastrami', 'ham and cheese', 'pastrami', 'turkey', 'pastrami', 'italian', 'pastrami', ]\n",
    "finished_sandwiches = []\n",
    "\n",
    "print(\"The deli has run out of pastrami!\")\n",
    "\n",
    "while sandwich_orders:\n",
    "    while 'pastrami' in sandwich_orders:\n",
    "        sandwich_orders.remove('pastrami')\n",
    "\n",
    "    sandwich = sandwich_orders.pop()\n",
    "\n",
    "    print(f\"I made your {sandwich} sandwich.\")\n",
    "    finished_sandwiches.append(sandwich)"
   ]
  },
  {
   "cell_type": "markdown",
   "metadata": {},
   "source": [
    "7-10. Dream Vacation: Write a program that polls users about their dream vacation.\n",
    "Write a prompt similar to If you could visit one place in the world, where\n",
    "would you go? Include a block of code that prints the results of the poll."
   ]
  },
  {
   "cell_type": "code",
   "execution_count": null,
   "metadata": {},
   "outputs": [],
   "source": [
    "# # 7-10\n",
    "# prompt = \"Where would you go for your dream vacation?\"\n",
    "# prompt += \"\\nEnter 'quit' when you are finished.\"\n",
    "\n",
    "# while True:\n"
   ]
  },
  {
   "cell_type": "code",
   "execution_count": null,
   "metadata": {},
   "outputs": [],
   "source": [
    "# responses = {}\n",
    "\n",
    "# polling_active = True\n",
    "\n",
    "# while polling_active:\n",
    "#     name = input(\"\\nWhat is your name?\")\n",
    "#     response = input(\"If you could visit one place in the world, where would you go?\")\n",
    "\n",
    "# responses[name] = response\n",
    "\n",
    "# repeat = input(\"Would you like to let another person respond? (yes / no)\")\n",
    "# if repeat == 'no':\n",
    "#     polling_active = False\n",
    "\n",
    "# print(\"\\n--- Poll Results ---\")\n",
    "# for name, response in responses.items():\n",
    "#     print(f\"{name} would like to climb {response}.\")"
   ]
  },
  {
   "cell_type": "code",
   "execution_count": null,
   "metadata": {},
   "outputs": [],
   "source": [
    "responses = {}\n",
    "\n",
    "# Set a flag to indicate that polling is active\n",
    "polling_active = True\n",
    "\n",
    "while polling_active:\n",
    "    # Prompt for the person's name and response\n",
    "    name = input(\"What's your name? \")\n",
    "    response = input(\"If you could visit one place in the world, where would you go?\")\n",
    "\n",
    "    # Store the response in the responses dictionary\n",
    "    responses[name.lower()] = response.lower()\n",
    "\n",
    "    # Find out if anyone else would like to take the poll\n",
    "    repeat = input(\"Would you like to let another person respond? (yes / no)\")\n",
    "    if repeat == 'no':\n",
    "        polling_active = False\n",
    "# Polling is complete. Show the results\n",
    "for name, response in responses.items():\n",
    "    print(f\"{name.title()} would like to travel to {response.title()}.\")"
   ]
  },
  {
   "cell_type": "markdown",
   "metadata": {},
   "source": [
    "## Ch. 8 - Functions"
   ]
  },
  {
   "cell_type": "markdown",
   "metadata": {},
   "source": [
    "8-1. Message: Write a function called display_message() that prints one sentence\n",
    "telling everyone what you are learning about in this chapter. Call the\n",
    "function, and make sure the message displays correctly.\n",
    "\n",
    "8-2. Favorite Book: Write a function called favorite_book() that accepts one\n",
    "parameter, title. The function should print a message, such as One of my\n",
    "favorite books is Alice in Wonderland. Call the function, making sure to\n",
    "include a book title as an argument in the function call."
   ]
  },
  {
   "cell_type": "code",
   "execution_count": 2,
   "metadata": {},
   "outputs": [
    {
     "name": "stdout",
     "output_type": "stream",
     "text": [
      "I am learning about python functions in this chapter\n"
     ]
    }
   ],
   "source": [
    "# 8-1\n",
    "def display_message():\n",
    "    '''Prints a sentence telling everyone what you are learning about in this chapter.'''\n",
    "    print(\"I am learning about python functions in this chapter\")\n",
    "\n",
    "display_message()"
   ]
  },
  {
   "cell_type": "code",
   "execution_count": 4,
   "metadata": {},
   "outputs": [
    {
     "name": "stdout",
     "output_type": "stream",
     "text": [
      "One of my favorite books is Alice In Wonderland.\n"
     ]
    }
   ],
   "source": [
    "# 8-2\n",
    "def favorite_book(title):\n",
    "    '''Prints a message about your favorite book.'''\n",
    "    print(f\"One of my favorite books is {title.title()}.\")\n",
    "\n",
    "favorite_book(\"alice in wonderland\")"
   ]
  },
  {
   "cell_type": "markdown",
   "metadata": {},
   "source": [
    "8-3. T-Shirt: Write a function called make_shirt() that accepts a size and the\n",
    "text of a message that should be printed on the shirt. The function should print\n",
    "a sentence summarizing the size of the shirt and the message printed on it.\n",
    "Call the function once using positional arguments to make a shirt. Call the\n",
    "function a second time using keyword arguments.\n",
    "\n",
    "8-4. Large Shirts: Modify the make_shirt() function so that shirts are large\n",
    "by default with a message that reads I love Python. Make a large shirt and a\n",
    "medium shirt with the default message, and a shirt of any size with a different\n",
    "message.\n",
    "\n",
    "8-5. Cities: Write a function called describe_city() that accepts the name of\n",
    "a city and its country. The function should print a simple sentence, such as\n",
    "Reykjavik is in Iceland. Give the parameter for the country a default value.\n",
    "Call your function for three different cities, at least one of which is not in the\n",
    "default country."
   ]
  },
  {
   "cell_type": "code",
   "execution_count": 12,
   "metadata": {},
   "outputs": [
    {
     "name": "stdout",
     "output_type": "stream",
     "text": [
      "You ordered a 'Large' shirt with the message: ''.\n",
      "You ordered a 'Medium' shirt with the message: 'Fight the power'.\n",
      "You ordered a 'Medium' shirt with the message: 'Fight the power'.\n"
     ]
    }
   ],
   "source": [
    "# 8-3\n",
    "def make_shirt(size='large', text=''):\n",
    "    \"\"\"Prints a sentence summarizing the size of the shirt and the message printed on it.\"\"\"\n",
    "    print(f\"You ordered a '{size.title()}' shirt with the message: '{text.capitalize()}'.\")\n",
    "\n",
    "make_shirt()\n",
    "make_shirt('medium', 'fight the power')\n",
    "make_shirt(text='fight the power', size='medium')\n"
   ]
  },
  {
   "cell_type": "code",
   "execution_count": 13,
   "metadata": {},
   "outputs": [
    {
     "name": "stdout",
     "output_type": "stream",
     "text": [
      "You ordered a 'Large' shirt with the message: 'I love python'.\n",
      "You ordered a 'Medium' shirt with the message: 'Fight the power'.\n",
      "You ordered a 'Medium' shirt with the message: 'Fight the power'.\n"
     ]
    }
   ],
   "source": [
    "# 8-4\n",
    "def make_shirt(size='large', text='I Love Python'):\n",
    "    \"\"\"Prints a sentence summarizing the size of the shirt and the message printed on it.\"\"\"\n",
    "    print(f\"You ordered a '{size.title()}' shirt with the message: '{text.capitalize()}'.\")\n",
    "\n",
    "make_shirt()\n",
    "make_shirt('medium', 'fight the power')\n",
    "make_shirt(text='fight the power', size='medium')"
   ]
  },
  {
   "cell_type": "code",
   "execution_count": 19,
   "metadata": {},
   "outputs": [
    {
     "name": "stdout",
     "output_type": "stream",
     "text": [
      "Reykjavik is in Iceland\n",
      "Atlanta is in United States\n",
      "Tokyo is in Japan\n"
     ]
    }
   ],
   "source": [
    "# 8-5\n",
    "def describe_city(city, country='united states'):\n",
    "    \"\"\"Return the city and country entered by the user.\"\"\"\n",
    "\n",
    "    city_country_statement = f\"{city.title()} is in {country.title()}\"\n",
    "    return city_country_statement\n",
    "\n",
    "print(describe_city('reykjavik', 'iceland'))\n",
    "print(describe_city('atlanta'))\n",
    "print(describe_city('tokyo', 'japan'))"
   ]
  },
  {
   "cell_type": "markdown",
   "metadata": {},
   "source": [
    "8-6. City Names: Write a function called city_country() that takes in the name\n",
    "of a city and its country. The function should return a string formatted like this:\n",
    "\n",
    "\"Santiago, Chile\"\n",
    "\n",
    "Call your function with at least three city-country pairs, and print the\n",
    "values that are returned.\n",
    "\n",
    "8-7. Album: Write a function called make_album() that builds a dictionary\n",
    "describing a music album. The function should take in an artist name and an\n",
    "album title, and it should return a dictionary containing these two pieces of\n",
    "information. Use the function to make three dictionaries representing different\n",
    "albums. Print each return value to show that the dictionaries are storing the\n",
    "album information correctly.\n",
    "\n",
    "Use None to add an optional parameter to make_album() that allows you to\n",
    "store the number of songs on an album. If the calling line includes a value for\n",
    "the number of songs, add that value to the album’s dictionary. Make at least\n",
    "one new function call that includes the number of songs on an album.\n",
    "\n",
    "8-8. User Albums: Start with your program from Exercise 8-7. Write a while\n",
    "loop that allows users to enter an album’s artist and title. Once you have that\n",
    "information, call make_album() with the user’s input and print the dictionary\n",
    "that’s created. Be sure to include a quit value in the while loop."
   ]
  },
  {
   "cell_type": "code",
   "execution_count": 4,
   "metadata": {},
   "outputs": [
    {
     "name": "stdout",
     "output_type": "stream",
     "text": [
      "San Salvador, El Salvador\n",
      "Atlanta, United States\n",
      "Cairo, Egypt\n"
     ]
    }
   ],
   "source": [
    "# 8-6\n",
    "def city_country(city, country):\n",
    "    \"\"\"Return the city and country entered by the user.\"\"\"\n",
    "\n",
    "    city_country_statement = f\"{city.title()}, {country.title()}\"\n",
    "    return city_country_statement\n",
    "\n",
    "print(city_country('san salvador', 'el salvador'))\n",
    "print(city_country('atlanta', 'united states'))\n",
    "print(city_country('cairo', 'egypt'))"
   ]
  },
  {
   "cell_type": "code",
   "execution_count": 32,
   "metadata": {},
   "outputs": [
    {
     "data": {
      "text/plain": [
       "'The album Whole Lotta Love was created by Jemi Hendrix and had None songs on it.'"
      ]
     },
     "execution_count": 32,
     "metadata": {},
     "output_type": "execute_result"
    }
   ],
   "source": [
    "# 8-7\n",
    "# def make_album(artist_name='', album_title='', number_of_songs=None):\n",
    "#     \"\"\"Return a dictionary of information about a music album.\"\"\"\n",
    "#     album = (f'The album {album_title.title()} was created by {artist_name.title()}')\n",
    "#     album = (f'{album} and had {number_of_songs} songs on it.')\n",
    "#     return album\n",
    "\n",
    "# make_album('jemi hendrix', 'whole lotta love')"
   ]
  },
  {
   "cell_type": "code",
   "execution_count": 37,
   "metadata": {},
   "outputs": [
    {
     "name": "stdout",
     "output_type": "stream",
     "text": [
      "{'artist_name': 'jemi hendrix', 'album': 'whole lotta love', 'number_of_songs': '55'}\n",
      "{'artist_name': 'jemi hendrix', 'album': 'whole lotta love'}\n"
     ]
    }
   ],
   "source": [
    "def make_album(artist_name='', album_title='', number_of_songs=None):\n",
    "    \"\"\"Return a dictionary of information about a music album.\"\"\"\n",
    "    album = {'artist_name' : artist_name.lower(), 'album' : album_title.lower()}\n",
    "    \n",
    "    # album = (f'The album {album_title.title()} was created by {artist_name.title()}')\n",
    "    # album = (f'{album} and had {number_of_songs} songs on it.')\n",
    "    if number_of_songs:\n",
    "        album['number_of_songs'] = number_of_songs\n",
    "        \n",
    "    return album\n",
    "\n",
    "print(make_album('jemi hendrix', 'whole lotta love', '55'))\n",
    "print(make_album('jemi hendrix', 'whole lotta love'))"
   ]
  },
  {
   "cell_type": "code",
   "execution_count": null,
   "metadata": {},
   "outputs": [],
   "source": [
    "# 8-8\n",
    "def make_album(artist_name='', album_title='', number_of_songs=None):\n",
    "    \"\"\"Return a dictionary of information about a music album.\"\"\"\n",
    "    album = {'artist_name' : artist_name.lower(), 'album' : album_title.lower()}\n",
    "    \n",
    "    # album = (f'The album {album_title.title()} was created by {artist_name.title()}')\n",
    "    # album = (f'{album} and had {number_of_songs} songs on it.')\n",
    "    if number_of_songs:\n",
    "        album['number_of_songs'] = number_of_songs\n",
    "        \n",
    "    return album\n",
    "\n",
    "print(make_album('jemi hendrix', 'whole lotta love', '55'))\n",
    "print(make_album('jemi hendrix', 'whole lotta love'))"
   ]
  },
  {
   "cell_type": "markdown",
   "metadata": {},
   "source": [
    "8-9. Messages: Make a list containing a series of short text messages. Pass the\n",
    "list to a function called show_messages(), which prints each text message.\n",
    "\n",
    "8-10. Sending Messages: Start with a copy of your program from Exercise 8-9.\n",
    "Write a function called send_messages() that prints each text message and\n",
    "moves each message to a new list called sent_messages as it’s printed. After\n",
    "calling the function, print both of your lists to make sure the messages were\n",
    "moved correctly.\n",
    "\n",
    "8-11. Archived Messages: Start with your work from Exercise 8-10. Call the\n",
    "function send_messages() with a copy of the list of messages. After calling the\n",
    "function, print both of your lists to show that the original list has retained its\n",
    "messages."
   ]
  },
  {
   "cell_type": "code",
   "execution_count": 1,
   "metadata": {},
   "outputs": [
    {
     "name": "stdout",
     "output_type": "stream",
     "text": [
      "message_1\n",
      "message_2\n",
      "message_3\n",
      "message_4\n",
      "message_5\n"
     ]
    }
   ],
   "source": [
    "# 8-9\n",
    "messages = ['message_1', 'message_2', 'message_3', 'message_4', 'message_5']\n",
    "\n",
    "def show_messages(messages):\n",
    "    \"\"\"Prints each message passed in.\"\"\"\n",
    "    for message in messages:\n",
    "        print(message)\n",
    "\n",
    "show_messages(messages)"
   ]
  },
  {
   "cell_type": "code",
   "execution_count": null,
   "metadata": {},
   "outputs": [],
   "source": [
    "# 7-9\n",
    "sandwich_orders = ['pastrami', 'ham and cheese', 'pastrami', 'turkey', 'pastrami', 'italian', 'pastrami', ]\n",
    "finished_sandwiches = []\n",
    "\n",
    "print(\"The deli has run out of pastrami!\")\n",
    "\n",
    "while sandwich_orders:\n",
    "    while 'pastrami' in sandwich_orders:\n",
    "        sandwich_orders.remove('pastrami')\n",
    "\n",
    "    sandwich = sandwich_orders.pop()\n",
    "\n",
    "    print(f\"I made your {sandwich} sandwich.\")\n",
    "    finished_sandwiches.append(sandwich)"
   ]
  },
  {
   "cell_type": "code",
   "execution_count": 4,
   "metadata": {},
   "outputs": [
    {
     "name": "stdout",
     "output_type": "stream",
     "text": [
      "Removed message_5 from the list and appended it to a new list.\n",
      "Removed message_4 from the list and appended it to a new list.\n",
      "Removed message_3 from the list and appended it to a new list.\n",
      "Removed message_2 from the list and appended it to a new list.\n",
      "Removed message_1 from the list and appended it to a new list.\n",
      "[]\n",
      "['message_1', 'message_2', 'message_3', 'message_4', 'message_5']\n"
     ]
    }
   ],
   "source": [
    "# 8-10\n",
    "messages = ['message_1', 'message_2', 'message_3', 'message_4', 'message_5']\n",
    "new_messages_list = []\n",
    "\n",
    "def send_messages(messages):\n",
    "    \"\"\"Prints each message passed in.\"\"\"\n",
    "    while messages:\n",
    "        message = messages.pop()\n",
    "        print(f\"Removed {message} from the list and appended it to a new list.\")\n",
    "        new_messages_list.append(message)\n",
    "\n",
    "        # for message in messages:\n",
    "        #     message = messages.pop()\n",
    "\n",
    "        # for message in messages:\n",
    "        #     print(message)\n",
    "\n",
    "send_messages(messages)\n",
    "print(messages)\n",
    "print(sorted(new_messages_list))"
   ]
  },
  {
   "cell_type": "code",
   "execution_count": 11,
   "metadata": {},
   "outputs": [
    {
     "name": "stdout",
     "output_type": "stream",
     "text": [
      "Removed message_5 from the list and appended it to a new list.\n",
      "Removed message_4 from the list and appended it to a new list.\n",
      "Removed message_3 from the list and appended it to a new list.\n",
      "Removed message_2 from the list and appended it to a new list.\n",
      "Removed message_1 from the list and appended it to a new list.\n",
      "[]\n",
      "['message_5', 'message_4', 'message_3', 'message_2', 'message_1']\n"
     ]
    }
   ],
   "source": [
    "# 8-11\n",
    "messages = ['message_1', 'message_2', 'message_3', 'message_4', 'message_5']\n",
    "sent_messages = []\n",
    "\n",
    "def send_messages(messages):\n",
    "    \"\"\"Prints each message passed in.\"\"\"\n",
    "    while messages:\n",
    "        message = messages.pop()\n",
    "        print(f\"Removed {message} from the list and appended it to a new list.\")\n",
    "        sent_messages.append(message)\n",
    "    # sent_messages.sort()\n",
    "\n",
    "send_messages(messages)\n",
    "print(messages)\n",
    "# print(sorted(sent_messages))\n",
    "print(sent_messages)"
   ]
  },
  {
   "cell_type": "code",
   "execution_count": 15,
   "metadata": {},
   "outputs": [
    {
     "name": "stdout",
     "output_type": "stream",
     "text": [
      "500000500000\n"
     ]
    }
   ],
   "source": [
    "numbers = list(range(1,1000001))\n",
    "new_numbers_list = []\n",
    "\n",
    "def check_numbers(numbers):\n",
    "    \"\"\"Checks all numbers in a list.\"\"\"\n",
    "    while numbers:\n",
    "        number = numbers.pop()\n",
    "        # number = int(number)\n",
    "        new_messages_list.append(number)\n",
    "    # print(sum(new_numbers_list))\n",
    "    print(sum(range(1,1000001)))\n",
    "\n",
    "check_numbers(new_numbers_list)"
   ]
  },
  {
   "cell_type": "markdown",
   "metadata": {},
   "source": [
    "8-12. Sandwiches: Write a function that accepts a list of items a person wants\n",
    "on a sandwich. The function should have one parameter that collects as many\n",
    "items as the function call provides, and it should print a summary of the sandwich that’s being ordered. Call the function three times, using a different number of arguments each time.\n",
    "\n",
    "8-13. User Profile: Start with a copy of user_profile.py from page 149. Build a profile of yourself by calling build_profile(), using your first and last names and three other key-value pairs that describe you.\n",
    "\n",
    "8-14. Cars: Write a function that stores information about a car in a dictionary. The function should always receive a manufacturer and a model name. It should then accept an arbitrary number of keyword arguments. Call the function with the required information and two other name-value pairs, such as a color or an optional feature. Your function should work for a call like this one:\n",
    "\n",
    "car = make_car('subaru', 'outback', color='blue', tow_package=True)\n",
    "\n",
    "Print the dictionary that’s returned to make sure all the information was\n",
    "stored correctly."
   ]
  },
  {
   "cell_type": "code",
   "execution_count": 7,
   "metadata": {},
   "outputs": [
    {
     "name": "stdout",
     "output_type": "stream",
     "text": [
      "Adding pizza to your list of toppings.\n"
     ]
    }
   ],
   "source": [
    "# 8-12\n",
    "sandwich_toppings = []\n",
    "\n",
    "def sandwich_items(list_of_sandwich_items=''):\n",
    "    \"\"\"Collects as many sandwich toppings as provided by the user.\"\"\"\n",
    "    sandwich_topping = input(\"What topping would you like on your sandwich?\")\n",
    "    \n",
    "    print(f\"Adding {sandwich_topping} to your list of toppings.\")\n",
    "    sandwich_toppings.append(sandwich_topping)\n",
    "    add_topping = input(\"Would you like to add another topping? (Y/N)\")\n",
    "    add_topping = add_topping.lower()\n",
    "\n",
    "    while add_topping == \"n\" or add_topping == \"no\":\n",
    "        break    \n",
    "\n",
    "sandwich_items('cheese')"
   ]
  },
  {
   "cell_type": "code",
   "execution_count": 8,
   "metadata": {},
   "outputs": [
    {
     "name": "stdout",
     "output_type": "stream",
     "text": [
      "\n",
      "Making a pizza with the following toppings:\n",
      "- pepperoni\n",
      "\n",
      "Making a pizza with the following toppings:\n",
      "- mushrooms\n",
      "- green peppers\n",
      "- extra cheese\n"
     ]
    }
   ],
   "source": [
    "def make_pizza(*toppings):\n",
    "    \"\"\"Summarize the pizza we are about to make.\"\"\"\n",
    "    print(\"\\nMaking a pizza with the following toppings:\")\n",
    "    for topping in toppings:\n",
    "        print(f\"- {topping}\")\n",
    "make_pizza('pepperoni')\n",
    "make_pizza('mushrooms', 'green peppers', 'extra cheese')"
   ]
  },
  {
   "cell_type": "code",
   "execution_count": 9,
   "metadata": {},
   "outputs": [
    {
     "name": "stdout",
     "output_type": "stream",
     "text": [
      "\n",
      "Making a sandwich with the following toppings:\n",
      "- cheese\n",
      "- ham\n",
      "- lettuce\n"
     ]
    }
   ],
   "source": [
    "sandwich_toppings = ['cheese', 'ham', 'lettuce']\n",
    "\n",
    "def sandwich_items(list_of_sandwich_items=''):\n",
    "    \"\"\"Collects as many sandwich toppings as provided by the user.\"\"\"\n",
    "    print(\"\\nMaking a sandwich with the following toppings:\")\n",
    "    for topping in list_of_sandwich_items:\n",
    "        print(f\"- {topping}\")\n",
    "\n",
    "\n",
    "    # sandwich_topping = input(\"What topping would you like on your sandwich?\")\n",
    "    \n",
    "    # print(f\"Adding {sandwich_topping} to your list of toppings.\")\n",
    "    # sandwich_toppings.append(sandwich_topping)\n",
    "    # add_topping = input(\"Would you like to add another topping? (Y/N)\")\n",
    "    # add_topping = add_topping.lower()\n",
    "\n",
    "    # while add_topping == \"n\" or add_topping == \"no\":\n",
    "    #     break    \n",
    "\n",
    "sandwich_items(sandwich_toppings)"
   ]
  },
  {
   "cell_type": "code",
   "execution_count": null,
   "metadata": {},
   "outputs": [],
   "source": [
    "# 8-13\n",
    "# def build_profile(first, last, **user_info):\n",
    "#     \"\"\"Build a dictionary containing everything we know about a user.\"\"\"\n",
    "#     user_info['first_name'] = first\n",
    "#     user_info['last_name'] = last\n",
    "#     return user_info\n",
    "\n",
    "# user_profile = build_profile('albert', 'einstein',\n",
    "#     location='princeton',\n",
    "#     field='physics')\n",
    "# print(user_profile)"
   ]
  },
  {
   "cell_type": "code",
   "execution_count": 11,
   "metadata": {},
   "outputs": [
    {
     "name": "stdout",
     "output_type": "stream",
     "text": [
      "{'location': 'princeton', 'field': 'physics', 'first_name': 'albert', 'last_name': 'einstein'}\n"
     ]
    }
   ],
   "source": [
    "def build_profile(first, last, **user_info):\n",
    "    \"\"\"Build a dictionary containing everything we know about a user.\"\"\"\n",
    "    user_info['first_name'] = first\n",
    "    user_info['last_name'] = last\n",
    "    return user_info\n",
    "\n",
    "user_profile = build_profile('albert', 'einstein',\n",
    "    location = 'princeton',\n",
    "    field = 'physics')\n",
    "print(user_profile)"
   ]
  },
  {
   "cell_type": "code",
   "execution_count": 12,
   "metadata": {},
   "outputs": [
    {
     "name": "stdout",
     "output_type": "stream",
     "text": [
      "{'year': '2009', 'drive_train': 'awd', 'body_type': 'sedan', 'make': 'hyundai', 'model': 'elantra'}\n"
     ]
    }
   ],
   "source": [
    "# 8-14\n",
    "def build_car_profile(manufacturer, model, **car_info):\n",
    "    \"\"\"Build a dictionary containing everything known about a car.\"\"\"\n",
    "    car_info['make'] = manufacturer\n",
    "    car_info['model'] = model\n",
    "    return car_info\n",
    "\n",
    "car_profile = build_car_profile('hyundai', 'elantra',\n",
    "    year = '2009',\n",
    "    drive_train = 'awd',\n",
    "    body_type = 'sedan')\n",
    "print(car_profile)"
   ]
  },
  {
   "cell_type": "markdown",
   "metadata": {},
   "source": [
    "8-15. Printing Models: Put the functions for the example printing_models.py in a separate file called printing_functions.py. Write an import statement at the top of printing_models.py, and modify the file to use the imported functions.\n",
    "\n",
    "8-16. Imports: Using a program you wrote that has one function in it, store that function in a separate file. Import the function into your main program file, and call the function using each of these approaches:\n",
    "\n",
    "- import module_name\n",
    "- from module_name import function_name\n",
    "- from module_name import function_name as fn\n",
    "- import module_name as mn\n",
    "- from module_name import *\n",
    "\n",
    "8-17. Styling Functions: Choose any three programs you wrote for this chapter,\n",
    "and make sure they follow the styling guidelines described in this section."
   ]
  },
  {
   "cell_type": "code",
   "execution_count": 14,
   "metadata": {},
   "outputs": [
    {
     "name": "stdout",
     "output_type": "stream",
     "text": [
      "Printing model: dodecahedron\n",
      "Printing model: robot pendant\n",
      "Printing model: phone case\n",
      "\n",
      "The following models have been printed:\n",
      "dodecahedron\n",
      "robot pendant\n",
      "phone case\n"
     ]
    }
   ],
   "source": [
    "# 8-15\n",
    "\n",
    "\n",
    "# Start with some designs that need to be printed.\n",
    "unprinted_designs = ['phone case', 'robot pendant', 'dodecahedron']\n",
    "completed_models = []\n",
    "\n",
    "# Simulate printing each design, until none are left.\n",
    "# Move each design to completed_models after printing.\n",
    "while unprinted_designs:\n",
    "    current_design = unprinted_designs.pop()\n",
    "    print(f\"Printing model: {current_design}\")\n",
    "    completed_models.append(current_design)\n",
    "\n",
    "# Display all completed models.\n",
    "print(\"\\nThe following models have been printed:\")\n",
    "for completed_model in completed_models:\n",
    "    print(completed_model)"
   ]
  },
  {
   "cell_type": "markdown",
   "metadata": {},
   "source": [
    "9-1. Restaurant: Make a class called Restaurant. The __init__() method for\n",
    "Restaurant should store two attributes: a restaurant_name and a cuisine_type.\n",
    "Make a method called describe_restaurant() that prints these two pieces of\n",
    "information, and a method called open_restaurant() that prints a message indicating that the restaurant is open. \n",
    "Make an instance called restaurant from your class. Print the two attributes\n",
    "individually, and then call both methods.\n",
    "\n",
    "9-2. Three Restaurants: Start with your class from Exercise 9-1. Create three\n",
    "different instances from the class, and call describe_restaurant() for each\n",
    "instance.\n",
    "\n",
    "9-3. Users: Make a class called User. Create two attributes called first_name\n",
    "and last_name, and then create several other attributes that are typically stored in a user profile. Make a method called describe_user() that prints a summary of the user’s information. Make another method called greet_user() that prints a personalized greeting to the user.\n",
    "Create several instances representing different users, and call both methods\n",
    "for each user."
   ]
  },
  {
   "cell_type": "code",
   "execution_count": 6,
   "metadata": {},
   "outputs": [
    {
     "name": "stdout",
     "output_type": "stream",
     "text": [
      "O'Shannan'S Korean Ice Cream offers fried tuna as a cuisine option.\n",
      "None\n",
      "O'Shannan'S Korean Ice Cream is now open for business!\n",
      "None\n"
     ]
    }
   ],
   "source": [
    "class Restaurant:\n",
    "    \"\"\"Create a model for a restaurant and its attributes.\"\"\"\n",
    "\n",
    "    def __init__(self, restaurant_name, cuisine_type):\n",
    "        self.restaurant_name = restaurant_name.title()\n",
    "        self.cuisine_type = cuisine_type\n",
    "        self.number_served = 0\n",
    "\n",
    "    def describe_restaurant(self):\n",
    "        \"\"\"Prints the restaurant name and cuisine type.\"\"\"\n",
    "        print(f\"{self.restaurant_name} offers {self.cuisine_type} as a cuisine option.\")\n",
    "    \n",
    "    def open_restaurant(self):\n",
    "        \"\"\"Print a message indicating a restaurant is open.\"\"\"\n",
    "        print(f\"{self.restaurant_name} is now open for business!\")\n",
    "    \n",
    "    def set_number_served(self, customer_number):\n",
    "        \"\"\"Return the number of customers currently served.\"\"\"\n",
    "        print(f\"You have currenly served {customer_number} customers.\")\n",
    "\n",
    "    def increment_number_served(self, customer_number):\n",
    "        \"\"\"Increment the number of customers served in any given timeframe.\"\"\"\n",
    "        if customer_number >= 0:\n",
    "            self.number_served += customer_number\n",
    "            print(f\"You have now served {self.number_served} customers.\")\n",
    "        else:\n",
    "            print(\"You can't subtract from the current number of customers served!\")\n",
    "\n",
    "# my_restaurant = Restaurant(\"O'Shannan's Korean Ice Cream\", \"fried tuna\")\n",
    "# print(my_restaurant.describe_restaurant())\n",
    "# print(my_restaurant.open_restaurant())\n",
    "\n",
    "# Add a method called set_number_served() that \n",
    "# lets you set the number of customers that have \n",
    "# been served. Call this method with a new number \n",
    "# and print the value again.\n",
    "\n",
    "# Add a method called increment_number_served() \n",
    "# that lets you increment the number of customers \n",
    "# who’ve been served. Call this method with any \n",
    "# num-ber you like that could represent how many \n",
    "# customers were served in, say, a day of business."
   ]
  },
  {
   "cell_type": "code",
   "execution_count": 8,
   "metadata": {},
   "outputs": [
    {
     "name": "stdout",
     "output_type": "stream",
     "text": [
      "O'Shannan'S Korean Ice Cream offers fried tuna as a cuisine option.\n",
      "None\n",
      "O'Shannan'S Korean Ice Cream is open for business!\n",
      "None\n"
     ]
    }
   ],
   "source": [
    "# 9-1\n",
    "class Restaurant:\n",
    "    \"\"\"An attempt to model the attributes of a restaurant.\"\"\"\n",
    "\n",
    "    def __init__(self, restaurant_name, cuisine_type):\n",
    "        \"\"\"Initialize restaurant attributes.\"\"\"\n",
    "        self.restaurant_name = restaurant_name.title()\n",
    "        self.cuisine_type = cuisine_type\n",
    "    \n",
    "    def describe_restaurant(self):\n",
    "        \"\"\"Describe a given restaurant.\"\"\"\n",
    "        print(f\"{self.restaurant_name} offers {self.cuisine_type} as a cuisine option.\")\n",
    "\n",
    "    def open_restaurant(self):\n",
    "        \"\"\"Print a message indicating a restaurant is open for business.\"\"\"\n",
    "        print(f\"{self.restaurant_name} is open for business!\")\n",
    "\n",
    "    \n",
    "my_restaurant = Restaurant(\"O'Shannan's Korean Ice Cream\", \"fried tuna\")\n",
    "print(my_restaurant.describe_restaurant())\n",
    "print(my_restaurant.open_restaurant())\n",
    "\n",
    "# print(Restaurant(\"O'Shannan's Korean Ice Cream\", \"fried tuna\").describe_restaurant())\n"
   ]
  },
  {
   "cell_type": "code",
   "execution_count": 10,
   "metadata": {},
   "outputs": [
    {
     "name": "stdout",
     "output_type": "stream",
     "text": [
      "O'Shannan'S Korean Ice Cream offers fried tuna as a cuisine option.\n",
      "None\n",
      "O'Shannan'S Korean Ice Cream is open for business!\n",
      "None\n",
      "Dave'S Pizza Parlor offers fried tuna as a cuisine option.\n",
      "None\n",
      "Dave'S Pizza Parlor is open for business!\n",
      "None\n",
      "Bob'S Brilliant Bakery offers fried tuna as a cuisine option.\n",
      "None\n",
      "Bob'S Brilliant Bakery is open for business!\n",
      "None\n"
     ]
    }
   ],
   "source": [
    "# 9-2\n",
    "class Restaurant:\n",
    "    \"\"\"An attempt to model the attributes of a restaurant.\"\"\"\n",
    "\n",
    "    def __init__(self, restaurant_name, cuisine_type):\n",
    "        \"\"\"Initialize restaurant attributes.\"\"\"\n",
    "        self.restaurant_name = restaurant_name.title()\n",
    "        self.cuisine_type = cuisine_type\n",
    "    \n",
    "    def describe_restaurant(self):\n",
    "        \"\"\"Describe a given restaurant.\"\"\"\n",
    "        print(f\"{self.restaurant_name} offers {self.cuisine_type} as a cuisine option.\")\n",
    "\n",
    "    def open_restaurant(self):\n",
    "        \"\"\"Print a message indicating a restaurant is open for business.\"\"\"\n",
    "        print(f\"{self.restaurant_name} is open for business!\")\n",
    "\n",
    "    \n",
    "my_restaurant = Restaurant(\"O'Shannan's Korean Ice Cream\", \"fried tuna\")\n",
    "print(my_restaurant.describe_restaurant())\n",
    "print(my_restaurant.open_restaurant())\n",
    "\n",
    "my_restaurant = Restaurant(\"dave's pizza parlor\", \"fried tuna\")\n",
    "print(my_restaurant.describe_restaurant())\n",
    "print(my_restaurant.open_restaurant())\n",
    "\n",
    "my_restaurant = Restaurant(\"bob's brilliant bakery\", \"fried tuna\")\n",
    "print(my_restaurant.describe_restaurant())\n",
    "print(my_restaurant.open_restaurant())"
   ]
  },
  {
   "cell_type": "code",
   "execution_count": null,
   "metadata": {},
   "outputs": [],
   "source": [
    "class User:\n",
    "    \"\"\"Class to collect details about users.\"\"\"\n",
    "\n",
    "    def __init__(self, first_name, last_name):\n",
    "        \"\"\"Initialize user attributes.\"\"\"\n",
    "        self.first_name = first_name.title()\n",
    "        self.last_name = last_name.title()\n",
    "\n",
    "    def describe_user(self):\n",
    "        \"\"\"Describe details about a user.\"\"\"\n",
    "        print(f\"User: \\nFirst name: {self.first_name}\\nLast name: {self.last_name}\")\n",
    "    \n",
    "    def greet_user(self):\n",
    "        \"\"\"Greets a provided user.\"\"\"\n",
    "        print(f\"Welcome, {self.first_name} {self.last_name}!\")\n",
    "    \n",
    "    def build_profile(self, first, last, **user_info):\n",
    "        \"\"\"Build a dictionary containing everything we know about a user.\"\"\"\n",
    "        user_info['first_name'] = first\n",
    "        user_info['last_name'] = last\n",
    "        return user_info\n",
    "\n",
    "class Admin(User):\n",
    "    \"\"\"Define the parameters of the Admin class of user.\"\"\"\n",
    "\n",
    "    def __init__(self, privileges):\n",
    "        \"\"\"Initialize the Admin user class\"\"\"\n",
    "        self.privileges = privileges\n",
    "\n",
    "\n",
    "# class Privileges:\n",
    "\n",
    "\n",
    "user_profile = User.build_profile('albert', 'einstein',\n",
    "                             location='princeton',\n",
    "                             field='physics')"
   ]
  },
  {
   "cell_type": "code",
   "execution_count": 17,
   "metadata": {},
   "outputs": [
    {
     "name": "stdout",
     "output_type": "stream",
     "text": [
      "User: \n",
      "First name: John\n",
      "Last name: Jacob\n",
      "None\n",
      "Welcome, John Jacob\n",
      "None\n",
      "User: \n",
      "First name: Mike\n",
      "Last name: Malone\n",
      "None\n",
      "Welcome, Mike Malone\n",
      "None\n",
      "User: \n",
      "First name: Sherri\n",
      "Last name: Straw\n",
      "None\n",
      "Welcome, Sherri Straw\n",
      "None\n"
     ]
    }
   ],
   "source": [
    "# 9-3\n",
    "class User:\n",
    "    \"\"\"An attempt to model the attributes of a user.\"\"\"\n",
    "\n",
    "    def __init__(self, first_name, last_name):\n",
    "        \"\"\"Initialize user attributes.\"\"\"\n",
    "        self.first_name = first_name.title()\n",
    "        self.last_name = last_name.title()\n",
    "\n",
    "    def describe_user(self):\n",
    "        \"\"\"Describe user attributes.\"\"\"\n",
    "        print(f\"User: \\nFirst name: {self.first_name}\\nLast name: {self.last_name}\")\n",
    "    \n",
    "    def greet_user(self):\n",
    "        \"\"\"Prints a personalized greeting to the user.\"\"\"\n",
    "        print(f\"Welcome, {self.first_name} {self.last_name}\")\n",
    "\n",
    "user1 = User(\"john\", \"jacob\")\n",
    "print(user1.describe_user())\n",
    "print(user1.greet_user())\n",
    "\n",
    "user2 = User(\"mike\", \"malone\")\n",
    "print(user2.describe_user())\n",
    "print(user2.greet_user())\n",
    "\n",
    "user3 = User(\"sherri\", \"straw\")\n",
    "print(user3.describe_user())\n",
    "print(user3.greet_user())"
   ]
  },
  {
   "cell_type": "code",
   "execution_count": 20,
   "metadata": {},
   "outputs": [
    {
     "name": "stdout",
     "output_type": "stream",
     "text": [
      "2019 Audi A4\n",
      "This car has 0 miles on it.\n",
      "None\n",
      "This car has 0 miles on it.\n"
     ]
    }
   ],
   "source": [
    "class Car:\n",
    "    \"\"\"A simple attempt to represent a car.\"\"\"\n",
    "\n",
    "    def __init__(self, make, model, year):\n",
    "        \"\"\"Initialize attributes to describe a car.\"\"\"\n",
    "        self.make = make\n",
    "        self.model = model\n",
    "        self.year = year\n",
    "        self.odometer_reading = 0\n",
    "    \n",
    "    def get_descriptive_name(self):\n",
    "        \"\"\"Return a neatly formatted descriptive name.\"\"\"\n",
    "        long_name = f\"{self.year} {self.make} {self.model}\"\n",
    "        return long_name.title()\n",
    "    \n",
    "    def read_odometer(self):\n",
    "        \"\"\"Print a statement showing the car's mileage.\"\"\"\n",
    "        print(f\"This car has {self.odometer_reading} miles on it.\")\n",
    "\n",
    "my_new_car = Car('audi', 'a4', 2019)\n",
    "print(my_new_car.get_descriptive_name())\n",
    "print(my_new_car.read_odometer())\n",
    "my_new_car.read_odometer()"
   ]
  },
  {
   "cell_type": "markdown",
   "metadata": {},
   "source": [
    "#### Modifying Attribute Values\n",
    "You can change an attribute’s value in three ways: you can change the value\n",
    "directly through an instance, set the value through a method, or increment\n",
    "the value (add a certain amount to it) through a method. Let’s look at each\n",
    "of these approaches."
   ]
  },
  {
   "cell_type": "code",
   "execution_count": 21,
   "metadata": {},
   "outputs": [
    {
     "name": "stdout",
     "output_type": "stream",
     "text": [
      "2019 Audi A4\n",
      "This car has 23 miles on it.\n"
     ]
    }
   ],
   "source": [
    "# Modifying an Attribute’s Value Directly\n",
    "class Car:\n",
    "    \"\"\"A simple attempt to represent a car.\"\"\"\n",
    "\n",
    "    def __init__(self, make, model, year):\n",
    "        \"\"\"Initialize attributes to describe a car.\"\"\"\n",
    "        self.make = make\n",
    "        self.model = model\n",
    "        self.year = year\n",
    "        self.odometer_reading = 0\n",
    "    \n",
    "    def get_descriptive_name(self):\n",
    "        \"\"\"Return a neatly formatted descriptive name.\"\"\"\n",
    "        long_name = f\"{self.year} {self.make} {self.model}\"\n",
    "        return long_name.title()\n",
    "    \n",
    "    def read_odometer(self):\n",
    "        \"\"\"Print a statement showing the car's mileage.\"\"\"\n",
    "        print(f\"This car has {self.odometer_reading} miles on it.\")\n",
    "\n",
    "my_new_car = Car('audi', 'a4', 2019)\n",
    "print(my_new_car.get_descriptive_name())\n",
    "\n",
    "my_new_car.odometer_reading = 23\n",
    "my_new_car.read_odometer()"
   ]
  },
  {
   "cell_type": "code",
   "execution_count": 25,
   "metadata": {},
   "outputs": [
    {
     "name": "stdout",
     "output_type": "stream",
     "text": [
      "2019 Audi A4\n",
      "This car has 23 miles on it.\n"
     ]
    }
   ],
   "source": [
    "# Modifying an Attribute’s Value Through a Method\n",
    "class Car:\n",
    "    \"\"\"A simple attempt to represent a car.\"\"\"\n",
    "\n",
    "    def __init__(self, make, model, year):\n",
    "        \"\"\"Initialize attributes to describe a car.\"\"\"\n",
    "        self.make = make\n",
    "        self.model = model\n",
    "        self.year = year\n",
    "        self.odometer_reading = 0\n",
    "    \n",
    "    def get_descriptive_name(self):\n",
    "        \"\"\"Return a neatly formatted descriptive name.\"\"\"\n",
    "        long_name = f\"{self.year} {self.make} {self.model}\"\n",
    "        return long_name.title()\n",
    "    \n",
    "    def read_odometer(self):\n",
    "        \"\"\"Print a statement showing the car's mileage.\"\"\"\n",
    "        print(f\"This car has {self.odometer_reading} miles on it.\")\n",
    "\n",
    "    def update_odometer(self, mileage):\n",
    "        \"\"\"\n",
    "        Set odometer reading to the given value.\n",
    "        Reject the change if it attempts to roll the odometer back.\n",
    "        \"\"\"\n",
    "        if mileage >= self.odometer_reading:\n",
    "            self.odometer_reading = mileage\n",
    "        else:\n",
    "            print(\"You can't roll back the odometer!\")\n",
    "\n",
    "my_new_car = Car('audi', 'a4', 2019)\n",
    "print(my_new_car.get_descriptive_name())\n",
    "\n",
    "my_new_car.update_odometer(23)\n",
    "my_new_car.read_odometer()"
   ]
  },
  {
   "cell_type": "code",
   "execution_count": 26,
   "metadata": {},
   "outputs": [
    {
     "name": "stdout",
     "output_type": "stream",
     "text": [
      "2019 Audi A4\n",
      "This car has 23500 miles on it.\n",
      "This car has 23600 miles on it.\n"
     ]
    }
   ],
   "source": [
    "# Incrementing an Attribute’s Value Through a Method\n",
    "class Car:\n",
    "    \"\"\"A simple attempt to represent a car.\"\"\"\n",
    "\n",
    "    def __init__(self, make, model, year):\n",
    "        \"\"\"Initialize attributes to describe a car.\"\"\"\n",
    "        self.make = make\n",
    "        self.model = model\n",
    "        self.year = year\n",
    "        self.odometer_reading = 0\n",
    "    \n",
    "    def get_descriptive_name(self):\n",
    "        \"\"\"Return a neatly formatted descriptive name.\"\"\"\n",
    "        long_name = f\"{self.year} {self.make} {self.model}\"\n",
    "        return long_name.title()\n",
    "    \n",
    "    def read_odometer(self):\n",
    "        \"\"\"Print a statement showing the car's mileage.\"\"\"\n",
    "        print(f\"This car has {self.odometer_reading} miles on it.\")\n",
    "\n",
    "    def update_odometer(self, mileage):\n",
    "        \"\"\"\n",
    "        Set odometer reading to the given value.\n",
    "        Reject the change if it attempts to roll the odometer back.\n",
    "        \"\"\"\n",
    "        if mileage >= self.odometer_reading:\n",
    "            self.odometer_reading = mileage\n",
    "        else:\n",
    "            print(\"You can't roll back the odometer!\")\n",
    "    \n",
    "    def increment_odometer(self, miles):\n",
    "        \"\"\"Add the given amount to the odometer reading.\"\"\"\n",
    "        self.odometer_reading += miles\n",
    "\n",
    "my_new_car = Car('audi', 'a4', 2019)\n",
    "print(my_new_car.get_descriptive_name())\n",
    "\n",
    "my_new_car.update_odometer(23_500)\n",
    "my_new_car.read_odometer()\n",
    "\n",
    "my_new_car.increment_odometer(100)\n",
    "my_new_car.read_odometer()"
   ]
  },
  {
   "cell_type": "markdown",
   "metadata": {},
   "source": [
    "9-4. Number Served: Start with your program from Exercise 9-1 (page 162).\n",
    "Add an attribute called number_served with a default value of 0. Create an\n",
    "instance called restaurant from this class. Print the number of customers the\n",
    "restaurant has served, and then change this value and print it again.\n",
    "\n",
    "Add a method called set_number_served() that lets you set the number\n",
    "of customers that have been served. Call this method with a new number and\n",
    "print the value again.\n",
    "\n",
    "Add a method called increment_number_served() that lets you increment\n",
    "the number of customers who’ve been served. Call this method with any number\n",
    "you like that could represent how many customers were served in, say, a\n",
    "day of business.\n",
    "\n",
    "9-5. Login Attempts: Add an attribute called login_attempts to your User\n",
    "class from Exercise 9-3 (page 162). Write a method called increment_login\n",
    "_attempts() that increments the value of login_attempts by 1. Write another\n",
    "method called reset_login_attempts() that resets the value of login_attempts\n",
    "to 0.\n",
    "\n",
    "Make an instance of the User class and call increment_login_attempts()\n",
    "several times. Print the value of login_attempts to make sure it was incremented properly, and then call reset_login_attempts(). Print login_attempts again to make sure it was reset to 0."
   ]
  },
  {
   "cell_type": "code",
   "execution_count": null,
   "metadata": {},
   "outputs": [],
   "source": [
    "class Restaurant:\n",
    "    \"\"\"Create a model for a restaurant and its attributes.\"\"\"\n",
    "\n",
    "    def __init__(self, restaurant_name, cuisine_type):\n",
    "        self.restaurant_name = restaurant_name.title()\n",
    "        self.cuisine_type = cuisine_type\n",
    "        self.number_served = 0\n",
    "\n",
    "    def describe_restaurant(self):\n",
    "        \"\"\"Prints the restaurant name and cuisine type.\"\"\"\n",
    "        print(f\"{self.restaurant_name} offers {self.cuisine_type} as a cuisine option.\")\n",
    "\n",
    "    \n",
    "    def open_restaurant(self):\n",
    "        \"\"\"Print a message indicating a restaurant is open.\"\"\"\n",
    "        print(f\"{self.restaurant_name} is now open for business!\")\n",
    "    \n",
    "    def set_number_served(self, customer_number):\n",
    "        \"\"\"Return the number of customers currently served.\"\"\"\n",
    "        print(f\"You have currenly served {customer_number} customers.\")\n",
    "\n",
    "    def increment_number_served(self, customer_number):\n",
    "        \"\"\"Increment the number of customers served in any given timeframe.\"\"\"\n",
    "        if customer_number >= 0:\n",
    "            self.number_served += customer_number\n",
    "            print(f\"You have now served {self.number_served} customers.\")\n",
    "        else:\n",
    "            print(\"You can't subtract from the current number of customers served!\")\n"
   ]
  },
  {
   "cell_type": "code",
   "execution_count": 1,
   "metadata": {},
   "outputs": [
    {
     "name": "stdout",
     "output_type": "stream",
     "text": [
      "O'Shannan'S Korean Ice Cream offers fried tuna as a cuisine option.\n",
      "O'Shannan'S Korean Ice Cream offers fried tuna as a cuisine option.\n",
      "O'Shannan'S Korean Ice Cream is open for business!\n",
      "You have currently served 5 customers.\n",
      "You have now served 6 customers.\n"
     ]
    }
   ],
   "source": [
    "# 9-4\n",
    "class Restaurant:\n",
    "    \"\"\"An attempt to model the attributes of a restaurant.\"\"\"\n",
    "\n",
    "    def __init__(self, restaurant_name, cuisine_type):\n",
    "        \"\"\"Initialize restaurant attributes.\"\"\"\n",
    "        self.restaurant_name = restaurant_name.title()\n",
    "        self.cuisine_type = cuisine_type\n",
    "        self.number_served = 0\n",
    "    \n",
    "    def describe_restaurant(self):\n",
    "        \"\"\"Describe a given restaurant.\"\"\"\n",
    "        restaurant_description = f\"{self.restaurant_name} offers {self.cuisine_type} as a cuisine option.\"\n",
    "        # print(restaurant_description)\n",
    "        return restaurant_description\n",
    "\n",
    "    def open_restaurant(self):\n",
    "        \"\"\"Print a message indicating a restaurant is open for business.\"\"\"\n",
    "        restaurant_open = f\"{self.restaurant_name} is open for business!\"\n",
    "        return restaurant_open\n",
    "    \n",
    "    def set_number_served(self, customer_number):\n",
    "        \"\"\"Print the number of customers currently served.\"\"\"\n",
    "        number_served = f\"You have currently served {customer_number} customers.\"\n",
    "        return number_served\n",
    "    \n",
    "    def increment_number_served(self, customer_number):\n",
    "        if customer_number >= 0:\n",
    "            self.number_served += customer_number\n",
    "            incremented_number_served = f\"You have now served {self.number_served} customers.\"\n",
    "            return incremented_number_served\n",
    "        else:\n",
    "            cannot_subtract_number_served = f\"You can't subtract from the current number of customers served!\"\n",
    "            return cannot_subtract_number_served\n",
    "    \n",
    "my_restaurant = Restaurant(\"O'Shannan's Korean Ice Cream\", \"fried tuna\")\n",
    "print(my_restaurant.describe_restaurant())\n",
    "print(my_restaurant.open_restaurant())\n",
    "\n",
    "print(my_restaurant.set_number_served(5))\n",
    "print(my_restaurant.increment_number_served(6))\n"
   ]
  },
  {
   "cell_type": "code",
   "execution_count": 21,
   "metadata": {},
   "outputs": [
    {
     "name": "stdout",
     "output_type": "stream",
     "text": [
      "User: \n",
      "First name: John\n",
      "Last name: Jacob\n",
      "Welcome, John Jacob\n",
      "John Jacob has made 1 login attempt(s).\n",
      "John Jacob has made 2 login attempt(s).\n",
      "John Jacob has made 3 login attempt(s).\n",
      "John Jacob has made 4 login attempt(s).\n",
      "John Jacob's total login attempts are now 0.\n"
     ]
    }
   ],
   "source": [
    "# 9-5\n",
    "class User:\n",
    "    \"\"\"An attempt to model the attributes of a user.\"\"\"\n",
    "\n",
    "    def __init__(self, first_name, last_name):\n",
    "        \"\"\"Initialize user attributes.\"\"\"\n",
    "        self.first_name = first_name.title()\n",
    "        self.last_name = last_name.title()\n",
    "        self.login_attempts = 0\n",
    "\n",
    "    def describe_user(self):\n",
    "        \"\"\"Describe user attributes.\"\"\"\n",
    "        user_description = f\"User: \\nFirst name: {self.first_name}\\nLast name: {self.last_name}\"\n",
    "        return user_description\n",
    "    \n",
    "    def greet_user(self):\n",
    "        \"\"\"Prints a personalized greeting to the user.\"\"\"\n",
    "        user_greeting = f\"Welcome, {self.first_name} {self.last_name}\"\n",
    "        return user_greeting\n",
    "\n",
    "    def build_profile(self, first, last, **user_info):\n",
    "        \"\"\"Build a dictionary containing everything we know about a user.\"\"\"\n",
    "        user_info['first_name'] = first\n",
    "        user_info['last_name'] = last\n",
    "        return user_info\n",
    "    \n",
    "    def increment_login_attempts(self):\n",
    "        \"\"\"Increment the number of user login attempts.\"\"\"\n",
    "        self.login_attempts += 1\n",
    "        logon_attempts_statement = f\"{self.first_name} {self.last_name} has made {self.login_attempts} login attempt(s).\"\n",
    "        return logon_attempts_statement\n",
    "\n",
    "    def reset_login_attempts(self):\n",
    "        \"\"\"Reset a user's total login attempts to 0.\"\"\"\n",
    "        self.login_attempts = 0\n",
    "        reset_logon_attempts_statement = f\"{self.first_name} {self.last_name}'s total login attempts are now {self.login_attempts}.\"\n",
    "        return reset_logon_attempts_statement\n",
    "\n",
    "user1 = User(\"john\", \"jacob\")\n",
    "print(user1.describe_user())\n",
    "print(user1.greet_user())\n",
    "\n",
    "print(user1.increment_login_attempts())\n",
    "print(user1.increment_login_attempts())\n",
    "print(user1.increment_login_attempts())\n",
    "print(user1.increment_login_attempts())\n",
    "\n",
    "print(user1.reset_login_attempts())"
   ]
  },
  {
   "cell_type": "code",
   "execution_count": 30,
   "metadata": {},
   "outputs": [
    {
     "name": "stdout",
     "output_type": "stream",
     "text": [
      "2019 Audi A4\n",
      "The 2019 Audi A4 has 23500 miles on it.\n",
      "The 2019 Audi A4 has 23600 miles on it.\n",
      "2019 Tesla Model S\n",
      "The 2019 Tesla Model S has 0 miles on it.\n"
     ]
    }
   ],
   "source": [
    "# The __init__() Method for a Child Class\n",
    "\"\"\"\n",
    "When you create a child class, the parent class\n",
    "must be part of the current file and must appear before the child class in\n",
    "the file.\n",
    "\"\"\"\n",
    "\n",
    "class Car:\n",
    "    \"\"\"A simple attempt to represent a car.\"\"\"\n",
    "\n",
    "    def __init__(self, make, model, year):\n",
    "        \"\"\"Initialize attributes to describe a car.\"\"\"\n",
    "        self.make = make.title()\n",
    "        self.model = model.title()\n",
    "        self.year = year\n",
    "        self.odometer_reading = 0\n",
    "    \n",
    "    def get_descriptive_name(self):\n",
    "        \"\"\"Return a neatly formatted descriptive name.\"\"\"\n",
    "        long_name = f\"{self.year} {self.make} {self.model}\"\n",
    "        return long_name.title()\n",
    "    \n",
    "    def read_odometer(self):\n",
    "        \"\"\"Print a statement showing the car's mileage.\"\"\"\n",
    "        odometer_reading = f\"The {self.year} {self.make} {self.model} has {self.odometer_reading} miles on it.\"\n",
    "        return odometer_reading\n",
    "\n",
    "    def update_odometer(self, mileage):\n",
    "        \"\"\"\n",
    "        Set odometer reading to the given value.\n",
    "        Reject the change if it attempts to roll the odometer back.\n",
    "        \"\"\"\n",
    "        if mileage >= self.odometer_reading:\n",
    "            self.odometer_reading = mileage\n",
    "        else:\n",
    "            print(\"You can't roll back the odometer!\")\n",
    "    \n",
    "    def increment_odometer(self, miles):\n",
    "        \"\"\"Add the given amount to the odometer reading.\"\"\"\n",
    "        self.odometer_reading += miles\n",
    "\n",
    "class ElectricCar(Car):\n",
    "    \"\"\"Represents aspects of a car, specific to electric vehicles.\"\"\"\n",
    "    \n",
    "    def __init__(self, make, model, year):\n",
    "        \"\"\"Initialize attributes of the parent class.\"\"\"\n",
    "        super().__init__(make, model, year)\n",
    "\n",
    "my_new_car = Car('audi', 'a4', 2019)\n",
    "print(my_new_car.get_descriptive_name())\n",
    "\n",
    "my_new_car.update_odometer(23_500)\n",
    "print(my_new_car.read_odometer())\n",
    "\n",
    "my_new_car.increment_odometer(100)\n",
    "print(my_new_car.read_odometer())\n",
    "\n",
    "my_tesla = ElectricCar('tesla', 'model s', 2019)\n",
    "print(my_tesla.get_descriptive_name())\n",
    "print(my_tesla.read_odometer())"
   ]
  },
  {
   "cell_type": "code",
   "execution_count": 32,
   "metadata": {},
   "outputs": [
    {
     "name": "stdout",
     "output_type": "stream",
     "text": [
      "2019 Audi A4\n",
      "The 2019 Audi A4 has 23500 miles on it.\n",
      "The 2019 Audi A4 has 23600 miles on it.\n",
      "2019 Tesla Model S\n",
      "The 2019 Tesla Model S has 0 miles on it.\n",
      "The 2019 Tesla Model S has a 75-kWh battery.\n"
     ]
    }
   ],
   "source": [
    "# Defining Attributes and Methods for the Child Class\n",
    "\"\"\"\n",
    "Once you have a child class that inherits from a parent class, you can add\n",
    "any new attributes and methods necessary to differentiate the child class\n",
    "from the parent class.\n",
    "\"\"\"\n",
    "\n",
    "class Car:\n",
    "    \"\"\"A simple attempt to represent a car.\"\"\"\n",
    "\n",
    "    def __init__(self, make, model, year):\n",
    "        \"\"\"Initialize attributes to describe a car.\"\"\"\n",
    "        self.make = make.title()\n",
    "        self.model = model.title()\n",
    "        self.year = year\n",
    "        self.odometer_reading = 0\n",
    "    \n",
    "    def get_descriptive_name(self):\n",
    "        \"\"\"Return a neatly formatted descriptive name.\"\"\"\n",
    "        long_name = f\"{self.year} {self.make} {self.model}\"\n",
    "        return long_name.title()\n",
    "    \n",
    "    def read_odometer(self):\n",
    "        \"\"\"Print a statement showing the car's mileage.\"\"\"\n",
    "        odometer_reading = f\"The {self.year} {self.make} {self.model} has {self.odometer_reading} miles on it.\"\n",
    "        return odometer_reading\n",
    "\n",
    "    def update_odometer(self, mileage):\n",
    "        \"\"\"\n",
    "        Set odometer reading to the given value.\n",
    "        Reject the change if it attempts to roll the odometer back.\n",
    "        \"\"\"\n",
    "        if mileage >= self.odometer_reading:\n",
    "            self.odometer_reading = mileage\n",
    "        else:\n",
    "            print(\"You can't roll back the odometer!\")\n",
    "    \n",
    "    def increment_odometer(self, miles):\n",
    "        \"\"\"Add the given amount to the odometer reading.\"\"\"\n",
    "        self.odometer_reading += miles\n",
    "\n",
    "class ElectricCar(Car):\n",
    "    \"\"\"Represents aspects of a car, specific to electric vehicles.\"\"\"\n",
    "    \n",
    "    def __init__(self, make, model, year):\n",
    "        \"\"\"Initialize attributes of the parent class.\n",
    "        Then initialize attributes specific to an electric car.\n",
    "        \"\"\"\n",
    "        super().__init__(make, model, year)\n",
    "        self.battery_size = 75\n",
    "\n",
    "    def describe_battery(self):\n",
    "        \"\"\"Print a statement describing the battery size.\"\"\"\n",
    "        battery_size_statement = f\"The {self.year} {self.make} {self.model} has a {self.battery_size}-kWh battery.\"\n",
    "        return battery_size_statement\n",
    "\n",
    "my_new_car = Car('audi', 'a4', 2019)\n",
    "print(my_new_car.get_descriptive_name())\n",
    "\n",
    "my_new_car.update_odometer(23_500)\n",
    "print(my_new_car.read_odometer())\n",
    "\n",
    "my_new_car.increment_odometer(100)\n",
    "print(my_new_car.read_odometer())\n",
    "\n",
    "my_tesla = ElectricCar('tesla', 'model s', 2019)\n",
    "print(my_tesla.get_descriptive_name())\n",
    "print(my_tesla.read_odometer())\n",
    "print(my_tesla.describe_battery())"
   ]
  },
  {
   "cell_type": "code",
   "execution_count": 33,
   "metadata": {},
   "outputs": [
    {
     "name": "stdout",
     "output_type": "stream",
     "text": [
      "2019 Audi A4\n",
      "The 2019 Audi A4 has 23500 miles on it.\n",
      "The 2019 Audi A4 has 23600 miles on it.\n",
      "2019 Tesla Model S\n",
      "The 2019 Tesla Model S has 0 miles on it.\n",
      "The 2019 Tesla Model S has a 75-kWh battery.\n"
     ]
    }
   ],
   "source": [
    "# Overriding Methods from the Parent Class\n",
    "\"\"\"\n",
    "You can override any method from the parent class that doesn’t fit what\n",
    "you’re trying to model with the child class. To do this, you define a method\n",
    "in the child class with the same name as the method you want to override in\n",
    "the parent class. Python will disregard the parent class method and only\n",
    "pay attention to the method you define in the child class.\n",
    "\"\"\"\n",
    "\n",
    "class Car:\n",
    "    \"\"\"A simple attempt to represent a car.\"\"\"\n",
    "\n",
    "    def __init__(self, make, model, year):\n",
    "        \"\"\"Initialize attributes to describe a car.\"\"\"\n",
    "        self.make = make.title()\n",
    "        self.model = model.title()\n",
    "        self.year = year\n",
    "        self.odometer_reading = 0\n",
    "    \n",
    "    def get_descriptive_name(self):\n",
    "        \"\"\"Return a neatly formatted descriptive name.\"\"\"\n",
    "        long_name = f\"{self.year} {self.make} {self.model}\"\n",
    "        return long_name.title()\n",
    "    \n",
    "    def read_odometer(self):\n",
    "        \"\"\"Print a statement showing the car's mileage.\"\"\"\n",
    "        odometer_reading = f\"The {self.year} {self.make} {self.model} has {self.odometer_reading} miles on it.\"\n",
    "        return odometer_reading\n",
    "\n",
    "    def update_odometer(self, mileage):\n",
    "        \"\"\"\n",
    "        Set odometer reading to the given value.\n",
    "        Reject the change if it attempts to roll the odometer back.\n",
    "        \"\"\"\n",
    "        if mileage >= self.odometer_reading:\n",
    "            self.odometer_reading = mileage\n",
    "        else:\n",
    "            print(\"You can't roll back the odometer!\")\n",
    "    \n",
    "    def increment_odometer(self, miles):\n",
    "        \"\"\"Add the given amount to the odometer reading.\"\"\"\n",
    "        self.odometer_reading += miles\n",
    "\n",
    "class ElectricCar(Car):\n",
    "    \"\"\"Represents aspects of a car, specific to electric vehicles.\"\"\"\n",
    "    \n",
    "    def __init__(self, make, model, year):\n",
    "        \"\"\"\n",
    "        Initialize attributes of the parent class.\n",
    "        Then initialize attributes specific to an electric car.\n",
    "        \"\"\"\n",
    "        super().__init__(make, model, year)\n",
    "        self.battery_size = 75\n",
    "\n",
    "    def describe_battery(self):\n",
    "        \"\"\"Print a statement describing the battery size.\"\"\"\n",
    "        battery_size_statement = f\"The {self.year} {self.make} {self.model} has a {self.battery_size}-kWh battery.\"\n",
    "        return battery_size_statement\n",
    "\n",
    "my_new_car = Car('audi', 'a4', 2019)\n",
    "print(my_new_car.get_descriptive_name())\n",
    "\n",
    "my_new_car.update_odometer(23_500)\n",
    "print(my_new_car.read_odometer())\n",
    "\n",
    "my_new_car.increment_odometer(100)\n",
    "print(my_new_car.read_odometer())\n",
    "\n",
    "my_tesla = ElectricCar('tesla', 'model s', 2019)\n",
    "print(my_tesla.get_descriptive_name())\n",
    "print(my_tesla.read_odometer())\n",
    "print(my_tesla.describe_battery())"
   ]
  },
  {
   "cell_type": "code",
   "execution_count": null,
   "metadata": {},
   "outputs": [],
   "source": []
  }
 ],
 "metadata": {
  "interpreter": {
   "hash": "77b0fca11f5c97acb8aefe74dba7b131a51b5f55730f888d94f92ef2c92d313a"
  },
  "kernelspec": {
   "display_name": "Python 3.10.0 64-bit",
   "language": "python",
   "name": "python3"
  },
  "language_info": {
   "codemirror_mode": {
    "name": "ipython",
    "version": 3
   },
   "file_extension": ".py",
   "mimetype": "text/x-python",
   "name": "python",
   "nbconvert_exporter": "python",
   "pygments_lexer": "ipython3",
   "version": "3.10.0"
  },
  "orig_nbformat": 4
 },
 "nbformat": 4,
 "nbformat_minor": 2
}
