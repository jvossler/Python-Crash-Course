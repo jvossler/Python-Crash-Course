{
 "cells": [
  {
   "cell_type": "markdown",
   "metadata": {},
   "source": [
    "# Chapter 4: Working With Lists"
   ]
  },
  {
   "cell_type": "markdown",
   "metadata": {},
   "source": [
    "### In Chapter 3 you learned how to make a simple list, and you learned to work with the individual elements in a list. In this chapter you’ll learn how to loop through an entire list using just a few lines of code regardless of how long the list is. Looping allows you to take the same action, or set of actions, with every item in a list. As a result, you’ll be able to work efficiently with lists of any length, including those with thousands or even millions of items."
   ]
  },
  {
   "cell_type": "markdown",
   "metadata": {},
   "source": [
    "# Looping Through an Entire List\n",
    "\n",
    "You’ll often want to run through all entries in a list, performing the same\n",
    "task with each item. For example, in a game you might want to move every\n",
    "element on the screen by the same amount, or in a list of numbers you\n",
    "might want to perform the same statistical operation on every element. Or\n",
    "perhaps you’ll want to display each headline from a list of articles on a website.\n",
    "When you want to do the same action with every item in a list, you can\n",
    "use Python’s **`for`** loop.\n",
    "\n",
    "Let’s say we have a list of magicians’ names, and we want to print out\n",
    "each name in the list. We could do this by retrieving each name from the\n",
    "list individually, but this approach could cause several problems. For one,\n",
    "it would be repetitive to do this with a long list of names. Also, we’d have to\n",
    "change our code each time the list’s length changed. \n",
    "**A for loop avoids both of these issues by letting Python manage these issues internally.**\n",
    "\n",
    "We begin by defining a list at u, just as we did in Chapter 3. At v,\n",
    "we define a for loop. This line tells Python to pull a name from the list\n",
    "magicians, and associate it with the variable magician. At w we tell Python to\n",
    "print the name that’s just been assigned to magician. Python then repeats\n",
    "lines v and w, once for each name in the list. It might help to read this\n",
    "code as “For every magician in the list of magicians, print the magician’s\n",
    "name.” \n",
    "\n",
    "The output is a simple printout of each name in the list:"
   ]
  },
  {
   "cell_type": "code",
   "execution_count": 49,
   "metadata": {},
   "outputs": [
    {
     "name": "stdout",
     "output_type": "stream",
     "text": [
      "Alice\n",
      "David\n",
      "Carolina\n"
     ]
    }
   ],
   "source": [
    "magicians = ['alice', 'david', 'carolina']\n",
    "for magician in magicians:\n",
    "    print(magician.title())"
   ]
  },
  {
   "cell_type": "markdown",
   "metadata": {},
   "source": [
    "## A Closer Look at Looping"
   ]
  },
  {
   "cell_type": "markdown",
   "metadata": {},
   "source": [
    "When you’re using loops for the first time, keep in mind that the set of\n",
    "steps is repeated once for each item in the list, no matter how many items\n",
    "are in the list. If you have a million items in your list, Python repeats these\n",
    "steps a million times—and usually very quickly.\n",
    "\n",
    "Also keep in mind when writing your own for loops that you can choose\n",
    "any name you want for the temporary variable that will be associated with\n",
    "each value in the list. However, it’s helpful to choose a meaningful name\n",
    "that represents a single item from the list.\n",
    "- for cat in cats:\n",
    "- for dog in dogs:\n",
    "- for item in list_of_items:\n",
    "\n",
    "These naming conventions can help you follow the action being done\n",
    "on each item within a for loop. Using singular and plural names can help\n",
    "you identify whether a section of code is working with a single element from\n",
    "the list or the entire list."
   ]
  },
  {
   "cell_type": "markdown",
   "metadata": {},
   "source": [
    "## Doing More Work Within a for Loop\n",
    "You can do just about anything with each item in a for loop.\n",
    "\n",
    "The only difference in this code is at u where we compose a message to\n",
    "each magician, starting with that magician’s name. The first time through\n",
    "the loop the value of magician is 'alice', so Python starts the first message\n",
    "with the name 'Alice'. The second time through the message will begin with\n",
    "'David', and the third time through the message will begin with 'Carolina'."
   ]
  },
  {
   "cell_type": "code",
   "execution_count": 2,
   "metadata": {},
   "outputs": [
    {
     "name": "stdout",
     "output_type": "stream",
     "text": [
      "Alice, that was a great trick!\n",
      "David, that was a great trick!\n",
      "Carolina, that was a great trick!\n"
     ]
    }
   ],
   "source": [
    "magicians = ['alice', 'david', 'carolina']\n",
    "for magician in magicians:\n",
    "    print(f\"{magician.title()}, that was a great trick!\")"
   ]
  },
  {
   "cell_type": "markdown",
   "metadata": {},
   "source": [
    "You can also write as many lines of code as you like in the for loop.\n",
    "Every indented line following the line for magician in magicians is considered\n",
    "inside the loop, and each indented line is executed once for each\n",
    "value in the list. Therefore, you can do as much work as you like with\n",
    "each value in the list.\n",
    "\n",
    "Let’s add a second line to our message, telling each magician that we’re\n",
    "looking forward to their next trick:\n",
    "\n",
    "Because we have indented both calls to print(), each line will be executed\n",
    "once for every magician in the list. The newline (\"\\n\") in the second print()\n",
    "call u inserts a blank line after each pass through the loop. This creates a set\n",
    "of messages that are neatly grouped for each person in the list:"
   ]
  },
  {
   "cell_type": "code",
   "execution_count": 3,
   "metadata": {},
   "outputs": [
    {
     "name": "stdout",
     "output_type": "stream",
     "text": [
      "Alice, that was a great trick!\n",
      "I can't wait to see your next trick, Alice.\n",
      "\n",
      "David, that was a great trick!\n",
      "I can't wait to see your next trick, David.\n",
      "\n",
      "Carolina, that was a great trick!\n",
      "I can't wait to see your next trick, Carolina.\n",
      "\n"
     ]
    }
   ],
   "source": [
    "magicians = ['alice', 'david', 'carolina']\n",
    "for magician in magicians:\n",
    "    print(f\"{magician.title()}, that was a great trick!\")\n",
    "    print(f\"I can't wait to see your next trick, {magician.title()}.\\n\")"
   ]
  },
  {
   "cell_type": "markdown",
   "metadata": {},
   "source": [
    "## Doing Something After a for Loop\n",
    "\n",
    "What happens once a for loop has finished executing? Usually, you’ll want\n",
    "to summarize a block of output or move on to other work that your program\n",
    "must accomplish.\n",
    "\n",
    "Any lines of code after the for loop that are not indented are executed\n",
    "once without repetition. Let’s write a thank you to the group of magicians\n",
    "as a whole, thanking them for putting on an excellent show. To display this\n",
    "group message after all of the individual messages have been printed, we\n",
    "place the thank you message after the for loop without indentation:\n",
    "\n",
    "The first two calls to print() are repeated once for each magician in the\n",
    "list, as you saw earlier. However, because the line at u is not indented, it’s\n",
    "printed only once:"
   ]
  },
  {
   "cell_type": "code",
   "execution_count": 4,
   "metadata": {},
   "outputs": [
    {
     "name": "stdout",
     "output_type": "stream",
     "text": [
      "Alice, that was a great trick!\n",
      "I can't wait to see your next trick, Alice.\n",
      "\n",
      "David, that was a great trick!\n",
      "I can't wait to see your next trick, David.\n",
      "\n",
      "Carolina, that was a great trick!\n",
      "I can't wait to see your next trick, Carolina.\n",
      "\n",
      "Thank you, everyone. That was a great show!\n"
     ]
    }
   ],
   "source": [
    "magicians = ['alice', 'david', 'carolina']\n",
    "for magician in magicians:\n",
    "    print(f\"{magician.title()}, that was a great trick!\")\n",
    "    print(f\"I can't wait to see your next trick, {magician.title()}.\\n\")\n",
    "print(\"Thank you, everyone. That was a great show!\")"
   ]
  },
  {
   "cell_type": "markdown",
   "metadata": {},
   "source": [
    "## Avoiding Indentation Errors\n",
    "\n",
    "Python uses indentation to determine how a line, or group of lines, is related\n",
    "to the rest of the program. In the previous examples, the lines that printed\n",
    "messages to individual magicians were part of the for loop because they\n",
    "were indented. Python’s use of indentation makes code very easy to read.\n",
    "\n",
    "Basically, it uses whitespace to force you to write neatly formatted code\n",
    "with a clear visual structure. In longer Python programs, you’ll notice\n",
    "blocks of code indented at a few different levels. These indentation levels\n",
    "help you gain a general sense of the overall program’s organization.\n",
    "\n",
    "As you begin to write code that relies on proper indentation, you’ll\n",
    "need to watch for a few common **`indentation errors`**. For example, people\n",
    "sometimes indent lines of code that don’t need to be indented or forget\n",
    "to indent lines that need to be indented. Seeing examples of these errors\n",
    "now will help you avoid them in the future and correct them when they do\n",
    "appear in your own programs.\n",
    "\n",
    "Let’s examine some of the more common indentation errors."
   ]
  },
  {
   "cell_type": "markdown",
   "metadata": {},
   "source": [
    "## Forgetting to Indent\n",
    "\n",
    "Always indent the line after the for statement in a loop. If you forget, Python\n",
    "will remind you:\n",
    "\n"
   ]
  },
  {
   "cell_type": "code",
   "execution_count": 5,
   "metadata": {},
   "outputs": [],
   "source": [
    "# magicians = ['alice', 'david', 'carolina']\n",
    "# for magician in magicians:\n",
    "# print(magician)"
   ]
  },
  {
   "cell_type": "markdown",
   "metadata": {},
   "source": [
    "The call to print() u should be indented, but it’s not. When Python\n",
    "expects an indented block and doesn’t find one, it lets you know which line\n",
    "it had a problem with.\n",
    "\n",
    "You can usually resolve this kind of indentation error by indenting the\n",
    "line or lines immediately after the for statement."
   ]
  },
  {
   "cell_type": "markdown",
   "metadata": {},
   "source": [
    "## Forgetting to Indent Additional Lines\n",
    "\n",
    "Sometimes your loop will run without any errors but won’t produce the\n",
    "expected result. This can happen when you’re trying to do several tasks in\n",
    "a loop and you forget to indent some of its lines.\n",
    "\n",
    "For example, this is what happens when we forget to indent the second\n",
    "line in the loop that tells each magician we’re looking forward to their next\n",
    "trick:\n",
    "\n",
    "The call to print() u is supposed to be indented, but because Python\n",
    "finds at least one indented line after the for statement, it doesn’t report an\n",
    "error. As a result, the first print() call is executed once for each name in the\n",
    "list because it is indented. The second print() call is not indented, so it is\n",
    "executed only once after the loop has finished running. Because the final\n",
    "value associated with magician is 'carolina', she is the only one who receives\n",
    "the “looking forward to the next trick” message:"
   ]
  },
  {
   "cell_type": "code",
   "execution_count": 6,
   "metadata": {},
   "outputs": [
    {
     "name": "stdout",
     "output_type": "stream",
     "text": [
      "Alice, that was a great trick!\n",
      "David, that was a great trick!\n",
      "Carolina, that was a great trick!\n",
      "I can't wait to see your next trick, Carolina.\n",
      "\n"
     ]
    }
   ],
   "source": [
    "magicians = ['alice', 'david', 'carolina']\n",
    "for magician in magicians:\n",
    "    print(f\"{magician.title()}, that was a great trick!\")\n",
    "print(f\"I can't wait to see your next trick, {magician.title()}.\\n\")"
   ]
  },
  {
   "cell_type": "markdown",
   "metadata": {},
   "source": [
    "This is a *`logical error`*. The syntax is valid Python code, but the code does\n",
    "not produce the desired result because a problem occurs in its logic. If you\n",
    "expect to see a certain action repeated once for each item in a list and it’s\n",
    "executed only once, determine whether you need to simply indent a line or\n",
    "a group of lines."
   ]
  },
  {
   "cell_type": "markdown",
   "metadata": {},
   "source": [
    "## Indenting Unnecessarily & Indenting Unnecessarily After the Loop\n",
    "\n",
    "If you accidentally indent a line that doesn’t need to be indented, Python\n",
    "informs you about the unexpected indent:\n",
    "\n",
    "We don’t need to indent the print() call u, because it isn’t part of a\n",
    "loop; hence, Python reports that error:\n",
    "\n",
    "You can avoid unexpected indentation errors by indenting only when\n",
    "you have a specific reason to do so. In the programs you’re writing at this\n",
    "point, the only lines you should indent are the actions you want to repeat\n",
    "for each item in a for loop."
   ]
  },
  {
   "cell_type": "code",
   "execution_count": 7,
   "metadata": {},
   "outputs": [],
   "source": [
    "# message = \"Hello Python world!\"\n",
    "#     print(message)"
   ]
  },
  {
   "cell_type": "markdown",
   "metadata": {},
   "source": [
    "## Forgetting the Colon\n",
    "\n",
    "The colon at the end of a for statement tells Python to interpret the next\n",
    "line as the start of a loop.\n",
    "\n",
    "If you accidentally forget the colon, as shown at u, you’ll get a syntax\n",
    "error because Python doesn’t know what you’re trying to do. Although\n",
    "this is an easy error to fix, it’s not always an easy error to find. You’d be\n",
    "surprised by the amount of time programmers spend hunting down singlecharacter\n",
    "errors like this. Such errors are difficult to find because we often\n",
    "just see what we expect to see."
   ]
  },
  {
   "cell_type": "code",
   "execution_count": 8,
   "metadata": {},
   "outputs": [],
   "source": [
    "# magicians = ['alice', 'david', 'carolina']\n",
    "# for magician in magicians\n",
    "#     print(magician)"
   ]
  },
  {
   "cell_type": "markdown",
   "metadata": {},
   "source": [
    "## Try It Yourself\n",
    "4-1. Pizzas: Think of at least three kinds of your favorite pizza. Store these\n",
    "pizza names in a list, and then use a for loop to print the name of each pizza.\n",
    "- Modify your for loop to print a sentence using the name of the pizza\n",
    "instead of printing just the name of the pizza. For each pizza you should\n",
    "have one line of output containing a simple statement like I like pepperoni\n",
    "pizza.\n",
    "- Add a line at the end of your program, outside the for loop, that states\n",
    "how much you like pizza. The output should consist of three or more lines\n",
    "about the kinds of pizza you like and then an additional sentence, such as\n",
    "I really love pizza!\n",
    "\n",
    "4-2. Animals: Think of at least three different animals that have a common characteristic.\n",
    "Store the names of these animals in a list, and then use a for loop to\n",
    "print out the name of each animal.\n",
    "- Modify your program to print a statement about each animal, such as\n",
    "A dog would make a great pet.\n",
    "- Add a line at the end of your program stating what these animals have in\n",
    "common. You could print a sentence such as Any of these animals would\n",
    "make a great pet!"
   ]
  },
  {
   "cell_type": "code",
   "execution_count": 9,
   "metadata": {},
   "outputs": [
    {
     "name": "stdout",
     "output_type": "stream",
     "text": [
      "Pepperoni is my favorite pizza topping!\n",
      "Hawaiian is my favorite pizza topping!\n",
      "Meatlovers is my favorite pizza topping!\n",
      "I really love ['pepperoni', 'hawaiian', 'meatlovers']!\n"
     ]
    }
   ],
   "source": [
    "pizzas = ['pepperoni', 'hawaiian', 'meatlovers']\n",
    "for pizza in pizzas:\n",
    "    print(f\"{pizza.title()} is my favorite pizza topping!\")\n",
    "print(f\"I really love {pizzas}!\")"
   ]
  },
  {
   "cell_type": "markdown",
   "metadata": {},
   "source": [
    "# Making Numerical Lists\n",
    "\n",
    "Many reasons exist to store a set of numbers. For example, you’ll need to\n",
    "keep track of the positions of each character in a game, and you might want\n",
    "to keep track of a player’s high scores as well. In data visualizations, you’ll\n",
    "almost always work with sets of numbers, such as temperatures, distances,\n",
    "population sizes, or latitude and longitude values, among other types of\n",
    "numerical sets.\n",
    "\n",
    "Lists are ideal for storing sets of numbers, and Python provides a\n",
    "variety of tools to help you work efficiently with lists of numbers. Once you\n",
    "understand how to use these tools effectively, your code will work well even\n",
    "when your lists contain millions of items."
   ]
  },
  {
   "cell_type": "markdown",
   "metadata": {},
   "source": [
    "## Using the `range()` Function\n",
    "\n",
    "Python’s **`range()`** function makes it easy to generate a series of numbers.\n",
    "For example, you can use the range() function to print a series of numbers\n",
    "like this:\n",
    "\n",
    "Although this code looks like it should print the numbers from 1 to 5, it\n",
    "doesn’t print the number 5:\n",
    "\n",
    "In this example, range() prints only the numbers 1 through 4. This is\n",
    "another result of the off-by-one behavior you’ll see often in programming\n",
    "languages. The range() function causes Python to start counting at the first\n",
    "value you give it, and it stops when it reaches the second value you provide.\n",
    "Because it stops at that second value, the output never contains the end\n",
    "value, which would have been 5 in this case."
   ]
  },
  {
   "cell_type": "code",
   "execution_count": 10,
   "metadata": {},
   "outputs": [
    {
     "name": "stdout",
     "output_type": "stream",
     "text": [
      "1\n",
      "2\n",
      "3\n",
      "4\n"
     ]
    }
   ],
   "source": [
    "for value in range(1, 5):\n",
    "    print(value)"
   ]
  },
  {
   "cell_type": "markdown",
   "metadata": {},
   "source": [
    "To print the numbers from 1 to 5, you would use range(1, 6):"
   ]
  },
  {
   "cell_type": "code",
   "execution_count": 11,
   "metadata": {},
   "outputs": [
    {
     "name": "stdout",
     "output_type": "stream",
     "text": [
      "1\n",
      "2\n",
      "3\n",
      "4\n",
      "5\n"
     ]
    }
   ],
   "source": [
    "for value in range(1, 6):\n",
    "    print(value)"
   ]
  },
  {
   "cell_type": "markdown",
   "metadata": {},
   "source": [
    "## Using range() to Make a List of Numbers\n",
    "\n",
    "If you want to make a list of numbers, you can convert the results of range()\n",
    "directly into a list using the **`list()`** function. **When you wrap list() around a call to the range() function, the output will be a list of numbers.**\n",
    "In the example in the previous section, we simply printed out a series of\n",
    "numbers. We can use list() to convert that same set of numbers into a list:"
   ]
  },
  {
   "cell_type": "code",
   "execution_count": 12,
   "metadata": {},
   "outputs": [
    {
     "name": "stdout",
     "output_type": "stream",
     "text": [
      "[1, 2, 3, 4, 5]\n"
     ]
    }
   ],
   "source": [
    "numbers = list(range(1, 6))\n",
    "print(numbers)"
   ]
  },
  {
   "cell_type": "markdown",
   "metadata": {},
   "source": [
    "We can also use the range() function to tell Python to skip numbers in a\n",
    "given range. **If you pass a third argument to range(), Python uses that value as a step size when generating numbers.**\n",
    "\n",
    "For example, here’s how to list the even numbers between 1 and 10:\n",
    "\n",
    "In this example, the range() function starts with the value 2 and then\n",
    "adds 2 to that value. It adds 2 repeatedly until it reaches or passes the end\n",
    "value, 11, and produces this result:"
   ]
  },
  {
   "cell_type": "code",
   "execution_count": 13,
   "metadata": {},
   "outputs": [
    {
     "name": "stdout",
     "output_type": "stream",
     "text": [
      "[2, 4, 6, 8, 10]\n"
     ]
    }
   ],
   "source": [
    "even_numbers = list(range(2, 11, 2))\n",
    "print(even_numbers)"
   ]
  },
  {
   "cell_type": "markdown",
   "metadata": {},
   "source": [
    "You can create almost any set of numbers you want to using the range()\n",
    "function. For example, consider how you might make a list of the first 10\n",
    "square numbers (that is, the square of each integer from 1 through 10). In\n",
    "Python, two asterisks (**) represent exponents. Here’s how you might put\n",
    "the first 10 square numbers into a list:\n",
    "\n",
    "We start with an empty list called squares u. At v, we tell Python to loop\n",
    "through each value from 1 to 10 using the range() function. Inside the loop,\n",
    "the current value is raised to the second power and assigned to the variable\n",
    "square w. At x, each new value of square is appended to the list squares.\n",
    "Finally, when the loop has finished running, the list of squares is printed y:"
   ]
  },
  {
   "cell_type": "code",
   "execution_count": 14,
   "metadata": {},
   "outputs": [
    {
     "name": "stdout",
     "output_type": "stream",
     "text": [
      "[1, 4, 9, 16, 25, 36, 49, 64, 81, 100]\n",
      "[1, 16, 81, 256, 625, 1296, 2401, 4096, 6561, 10000]\n"
     ]
    }
   ],
   "source": [
    "squares = []\n",
    "square_of_squares = []\n",
    "for value in range(1, 11):\n",
    "    square = value ** 2\n",
    "    square_of_square = value ** 2 ** 2\n",
    "    squares.append(square)\n",
    "    square_of_squares.append(square_of_square)\n",
    "\n",
    "print(squares)\n",
    "print(square_of_squares)"
   ]
  },
  {
   "cell_type": "markdown",
   "metadata": {},
   "source": [
    "To write this code more concisely, omit the temporary variable square\n",
    "and append each new value directly to the list:"
   ]
  },
  {
   "cell_type": "code",
   "execution_count": 15,
   "metadata": {},
   "outputs": [
    {
     "name": "stdout",
     "output_type": "stream",
     "text": [
      "[1, 4, 9, 16, 25, 36, 49, 64, 81, 100]\n"
     ]
    }
   ],
   "source": [
    "squares = []\n",
    "for value in range(1, 11):\n",
    "    squares.append(value**2)\n",
    "print(squares)"
   ]
  },
  {
   "cell_type": "markdown",
   "metadata": {},
   "source": [
    "The code at u does the same work as the lines at w and x in squares.py.\n",
    "Each value in the loop is raised to the second power and then immediately\n",
    "appended to the list of squares.\n",
    "\n",
    "You can use either of these two approaches when you’re making more\n",
    "complex lists. Sometimes using a temporary variable makes your code easier\n",
    "to read; other times it makes the code unnecessarily long. Focus first on\n",
    "writing code that you understand clearly, which does what you want it to do.\n",
    "Then look for more efficient approaches as you review your code."
   ]
  },
  {
   "cell_type": "markdown",
   "metadata": {},
   "source": [
    "## Simple Statistics with a List of Numbers\n",
    "\n",
    "A few Python functions are helpful when working with lists of numbers. For\n",
    "example, you can easily find the `minimum`, `maximum`, and `sum` of a list of\n",
    "numbers:\n",
    "\n",
    "**Note:** The examples in this section use short lists of numbers in order to fit easily on the\n",
    "page. They would work just as well if your list contained a million or more numbers."
   ]
  },
  {
   "cell_type": "code",
   "execution_count": 16,
   "metadata": {},
   "outputs": [
    {
     "name": "stdout",
     "output_type": "stream",
     "text": [
      "0\n",
      "9\n",
      "45\n"
     ]
    }
   ],
   "source": [
    "digits = [1, 2, 3, 4, 5, 6, 7, 8, 9, 0]\n",
    "print(min(digits))\n",
    "\n",
    "print(max(digits))\n",
    "\n",
    "print(sum(digits))"
   ]
  },
  {
   "cell_type": "markdown",
   "metadata": {},
   "source": [
    "# List Comprehensions\n",
    "\n",
    "A list comprehensikon allows you to generate a list in just one line of code. A list comprehension combines the for loop and the creation of new elements into one line, and auitomaticallu appends each new element. List comprehensions are not always presents to beginners, but you'll most likely see them as soon as you start looking at other people's code.\n",
    "\n",
    "To use this syntax, begin with a descriptive name for the list, such as\n",
    "squares. Next, open a set of square brackets and define the expression for\n",
    "the values you want to store in the new list. In this example the expression\n",
    "is value\\*\\*2, which raises the value to the second power. Then, write\n",
    "a for loop to generate the numbers you want to feed into the expression,\n",
    "and close the square brackets. The for loop in this example is for value\n",
    "in range(1, 11), which feeds the values 1 through 10 into the expression\n",
    "value\\*\\*2. Notice that no colon is used at the end of the for statement.\n",
    "The result is the same list of square numbers you saw earlier:\n",
    "\n",
    "The following example builds the same list of square numbers you saw\n",
    "earlier but uses a list comprehension:"
   ]
  },
  {
   "cell_type": "code",
   "execution_count": 17,
   "metadata": {},
   "outputs": [
    {
     "name": "stdout",
     "output_type": "stream",
     "text": [
      "[1, 4, 9, 16, 25, 36, 49, 64, 81, 100]\n"
     ]
    }
   ],
   "source": [
    "squares = [value**2 for value in range(1, 11)]\n",
    "print(squares)"
   ]
  },
  {
   "cell_type": "markdown",
   "metadata": {},
   "source": [
    "It takes practice to write your own list comprehensions, but you’ll find\n",
    "them worthwhile once you become comfortable creating ordinary lists.\n",
    "When you’re writing three or four lines of code to generate lists and it\n",
    "begins to feel repetitive, consider writing your own list comprehensions."
   ]
  },
  {
   "cell_type": "markdown",
   "metadata": {},
   "source": [
    "## Try It Yourself\n",
    "4-3. Counting to Twenty: Use a for loop to print the numbers from 1 to 20,\n",
    "inclusive.\n",
    "\n",
    "4-4. One Million: Make a list of the numbers from one to one million, and then\n",
    "use a for loop to print the numbers. (If the output is taking too long, stop it by\n",
    "pressing ctrl-C or by closing the output window.)\n",
    "\n",
    "4-5. Summing a Million: Make a list of the numbers from one to one million,\n",
    "and then use min() and max() to make sure your list actually starts at one and\n",
    "ends at one million. Also, use the sum() function to see how quickly Python can\n",
    "add a million numbers.\n",
    "\n",
    "4-6. Odd Numbers: Use the third argument of the range() function to make a\n",
    "list of the odd numbers from 1 to 20. Use a for loop to print each number.\n",
    "\n",
    "4-7. Threes: Make a list of the multiples of 3 from 3 to 30. Use a for loop to\n",
    "print the numbers in your list.\n",
    "\n",
    "4-8. Cubes: A number raised to the third power is called a cube. For example,\n",
    "the cube of 2 is written as 2**3 in Python. Make a list of the first 10 cubes (that\n",
    "is, the cube of each integer from 1 through 10), and use a for loop to print out\n",
    "the value of each cube.\n",
    "\n",
    "4-9. Cube Comprehension: Use a list comprehension to generate a list of the\n",
    "first 10 cubes."
   ]
  },
  {
   "cell_type": "code",
   "execution_count": 18,
   "metadata": {},
   "outputs": [
    {
     "data": {
      "text/plain": [
       "50000005000000"
      ]
     },
     "execution_count": 18,
     "metadata": {},
     "output_type": "execute_result"
    }
   ],
   "source": [
    "# million = [sum(value) for value in range(1, 1000001)]\n",
    "# for value in range(1, 1000001):\n",
    "\n",
    "million = range(1, 10000001)\n",
    "sum(million)   "
   ]
  },
  {
   "cell_type": "code",
   "execution_count": 19,
   "metadata": {},
   "outputs": [
    {
     "data": {
      "text/plain": [
       "27"
      ]
     },
     "execution_count": 19,
     "metadata": {},
     "output_type": "execute_result"
    }
   ],
   "source": [
    "3**3"
   ]
  },
  {
   "cell_type": "code",
   "execution_count": 20,
   "metadata": {},
   "outputs": [
    {
     "data": {
      "text/plain": [
       "81"
      ]
     },
     "execution_count": 20,
     "metadata": {},
     "output_type": "execute_result"
    }
   ],
   "source": [
    "3**2**2"
   ]
  },
  {
   "cell_type": "markdown",
   "metadata": {},
   "source": [
    "# Working with Part of a List - Slicing\n",
    "\n",
    "In Chapter 3 you learned how to access single elements in a list, and in this\n",
    "chapter you’ve been learning how to work through all the elements in a list.\n",
    "You can also work with a specific group of items in a list, which Python calls\n",
    "a **`slice`**."
   ]
  },
  {
   "cell_type": "markdown",
   "metadata": {},
   "source": [
    "## Slicing a List\n",
    "\n",
    "To make a slice, you specify the index of the first and last elements you\n",
    "want to work with. As with the range() function, Python stops one item\n",
    "before the second index you specify. **To output the first three elements in a list, you would request indices 0 through 3**, which would return elements\n",
    "0, 1, and 2.\n",
    "\n",
    "The following example involves a list of players on a team:\n",
    "\n",
    "The code at u prints a slice of this list, which includes just the first\n",
    "three players. The output retains the structure of the list and includes the\n",
    "first three players in the list:"
   ]
  },
  {
   "cell_type": "code",
   "execution_count": 21,
   "metadata": {},
   "outputs": [
    {
     "name": "stdout",
     "output_type": "stream",
     "text": [
      "['charles', 'martina', 'michael']\n"
     ]
    }
   ],
   "source": [
    "players = ['charles', 'martina', 'michael', 'florence', 'eli']\n",
    "print(players[0:3])"
   ]
  },
  {
   "cell_type": "markdown",
   "metadata": {},
   "source": [
    "You can generate any subset of a list. For example, if you want the second,\n",
    "third, and fourth items in a list, you would start the slice at index 1 and\n",
    "end at index 4:"
   ]
  },
  {
   "cell_type": "code",
   "execution_count": 22,
   "metadata": {},
   "outputs": [
    {
     "name": "stdout",
     "output_type": "stream",
     "text": [
      "['martina', 'michael', 'florence']\n"
     ]
    }
   ],
   "source": [
    "print(players[1:4])"
   ]
  },
  {
   "cell_type": "markdown",
   "metadata": {},
   "source": [
    "If you omit the first index in a slice, Python automatically starts your\n",
    "slice at the beginning of the list:"
   ]
  },
  {
   "cell_type": "code",
   "execution_count": 23,
   "metadata": {},
   "outputs": [
    {
     "name": "stdout",
     "output_type": "stream",
     "text": [
      "['charles', 'martina', 'michael', 'florence']\n"
     ]
    }
   ],
   "source": [
    "print(players[:4])"
   ]
  },
  {
   "cell_type": "markdown",
   "metadata": {},
   "source": [
    "A similar syntax works if you want a slice that includes the end of a list.\n",
    "For example, if you want all items from the third item through the last item,\n",
    "you can start with index 2 and omit the second index:\n",
    "\n",
    "Python returns all items from the third item through the end of the list:"
   ]
  },
  {
   "cell_type": "code",
   "execution_count": 24,
   "metadata": {},
   "outputs": [
    {
     "name": "stdout",
     "output_type": "stream",
     "text": [
      "['michael', 'florence', 'eli']\n"
     ]
    }
   ],
   "source": [
    "print(players[2:])"
   ]
  },
  {
   "cell_type": "markdown",
   "metadata": {},
   "source": [
    "This syntax allows you to output all of the elements from any point in\n",
    "your list to the end regardless of the length of the list. Recall that a negative\n",
    "index returns an element a certain distance from the end of a list;\n",
    "therefore, you can output any slice from the end of a list. For example, if\n",
    "we want to output the last three players on the roster, we can use the slice\n",
    "players[-3:]:\n",
    "\n",
    "This prints the names of the last three players and would continue to\n",
    "work as the list of players changes in size.\n",
    "\n",
    "**Note:** You can include a third value in the brackets indicating a slice. If a third value is\n",
    "included, this tells Python how many items to skip between items in the specified\n",
    "range."
   ]
  },
  {
   "cell_type": "code",
   "execution_count": 25,
   "metadata": {},
   "outputs": [
    {
     "name": "stdout",
     "output_type": "stream",
     "text": [
      "['michael', 'florence', 'eli']\n",
      "['martina', 'michael', 'florence', 'eli']\n"
     ]
    }
   ],
   "source": [
    "print(players[-3:])\n",
    "print(players[-4:])"
   ]
  },
  {
   "cell_type": "markdown",
   "metadata": {},
   "source": [
    "## Looping Through a Slice\n",
    "\n",
    "You can use a slice in a for loop if you want to loop through a subset of\n",
    "the elements in a list. In the next example we loop through the first three\n",
    "players and print their names as part of a simple roster:\n",
    "\n",
    "Instead of looping through the entire list of players at u, Python loops\n",
    "through only the first three names:"
   ]
  },
  {
   "cell_type": "code",
   "execution_count": 26,
   "metadata": {},
   "outputs": [
    {
     "name": "stdout",
     "output_type": "stream",
     "text": [
      "Here are the first three players on my team:\n",
      "Charles\n",
      "Martina\n",
      "Michael\n"
     ]
    }
   ],
   "source": [
    "players = ['charles', 'martina', 'michael', 'florence', 'eli']\n",
    "\n",
    "print(\"Here are the first three players on my team:\")\n",
    "for player in players[:3]:\n",
    "    print(player.title())"
   ]
  },
  {
   "cell_type": "markdown",
   "metadata": {},
   "source": [
    "Slices are very useful in a number of situations. For instance, when you’re\n",
    "creating a game, you could add a player’s final score to a list every time that\n",
    "player finishes playing. You could then get a player’s top three scores by sorting\n",
    "the list in decreasing order and taking a slice that includes just the first\n",
    "three scores. When you’re working with data, you can use slices to process\n",
    "your data in chunks of a specific size. Or, when you’re building a web application,\n",
    "you could use slices to display information in a series of pages with\n",
    "an appropriate amount of information on each page."
   ]
  },
  {
   "cell_type": "code",
   "execution_count": 32,
   "metadata": {},
   "outputs": [
    {
     "name": "stdout",
     "output_type": "stream",
     "text": [
      "Your top three scores are: [10, 9, 8]\n"
     ]
    }
   ],
   "source": [
    "scores = [1, 2, 3, 4, 5, 6, 7, 8, 9, 10]\n",
    "\n",
    "scores.sort(reverse=True)\n",
    "\n",
    "print(\"Your top three scores are: \" + str(scores[:3]))"
   ]
  },
  {
   "cell_type": "markdown",
   "metadata": {},
   "source": [
    "# Copying a List\n",
    "\n",
    "Often, you’ll want to start with an existing list and make an entirely new list\n",
    "based on the first one. Let’s explore how copying a list works and examine\n",
    "one situation in which copying a list is useful.\n",
    "\n",
    "#### To copy a list, you can make a slice that includes the entire original list by omitting the first index and the second index (**`[:]`**). This tells Python to make a slice that starts at the first  tem and ends with the last item, producing a copy of the entire list.\n",
    "\n",
    "At u we make a list of the foods we like called my_foods. At v we make a\n",
    "new list called friend_foods. We make a copy of my_foods by asking for a slice\n",
    "of my_foods without specifying any indices and store the copy in friend_foods.\n",
    "When we print each list, we see that they both contain the same foods:"
   ]
  },
  {
   "cell_type": "code",
   "execution_count": 34,
   "metadata": {},
   "outputs": [
    {
     "name": "stdout",
     "output_type": "stream",
     "text": [
      "My favorite foods are:\n",
      "['pizza', 'falafel', 'carrot cake']\n",
      "\n",
      "My frind's favorite foods are:\n",
      "['pizza', 'falafel', 'carrot cake']\n",
      "\n",
      "My new favorite foods are:\n",
      "['pizza', 'falafel', 'carrot cake', 'cannoli']\n",
      "\n",
      "My frind's new favorite foods are:\n",
      "['pizza', 'falafel', 'carrot cake', 'ice cream']\n"
     ]
    }
   ],
   "source": [
    "my_foods = ['pizza', 'falafel', 'carrot cake']\n",
    "friend_foods = my_foods[:]\n",
    "\n",
    "print(\"My favorite foods are:\")\n",
    "print(my_foods)\n",
    "\n",
    "print(\"\\nMy frind's favorite foods are:\")\n",
    "print(friend_foods)\n",
    "\n",
    "my_foods.append('cannoli')\n",
    "friend_foods.append('ice cream')\n",
    "\n",
    "print(\"\\nMy new favorite foods are:\")\n",
    "print(my_foods)\n",
    "\n",
    "print(\"\\nMy frind's new favorite foods are:\")\n",
    "print(friend_foods)"
   ]
  },
  {
   "cell_type": "markdown",
   "metadata": {},
   "source": [
    "If we had simply set friend_foods\n",
    "equal to my_foods, we would not produce two separate lists. For example,\n",
    "here’s what happens when you try to copy a list without using a slice:\n",
    "\n",
    "Instead of storing a copy of my_foods in friend_foods at u, we set friend\n",
    "_foods equal to my_foods. This syntax actually tells Python to associate\n",
    "the new variable friend_foods with the list that is already associated with\n",
    "my_foods, so now both variables point to the same list. As a result, when we\n",
    "add 'cannoli' to my_foods, it will also appear in friend_foods. Likewise 'ice\n",
    "cream' will appear in both lists, even though it appears to be added only to\n",
    "friend_foods.\n",
    "\n",
    "*Note: Don’t worry about the details in this example for now. Basically, if you’re trying to work with a copy of a list and you see unexpected behavior, **make sure you are copying the list using a slice**, as we did in the first example.* \n",
    "\n",
    "The output shows that both lists are the same now, which is not what we\n",
    "wanted:"
   ]
  },
  {
   "cell_type": "code",
   "execution_count": 35,
   "metadata": {},
   "outputs": [
    {
     "name": "stdout",
     "output_type": "stream",
     "text": [
      "My favorite foods are:\n",
      "['pizza', 'falafel', 'carrot cake', 'cannoli', 'ice cream']\n",
      "\n",
      "My friend's favorite foods are:\n",
      "['pizza', 'falafel', 'carrot cake', 'cannoli', 'ice cream']\n"
     ]
    }
   ],
   "source": [
    "my_foods = ['pizza', 'falafel', 'carrot cake']\n",
    "\n",
    "# This doesn't work:\n",
    "friend_foods = my_foods\n",
    "\n",
    "my_foods.append('cannoli')\n",
    "friend_foods.append('ice cream')\n",
    "\n",
    "print(\"My favorite foods are:\")\n",
    "print(my_foods)\n",
    "print(\"\\nMy friend's favorite foods are:\")\n",
    "print(friend_foods)"
   ]
  },
  {
   "cell_type": "markdown",
   "metadata": {},
   "source": [
    "## Try It Yourself\n",
    "4-10. Slices: Using one of the programs you wrote in this chapter, add several\n",
    "lines to the end of the program that do the following:\n",
    "- Print the message The first three items in the list are:. Then use a slice to\n",
    "print the first three items from that program’s list.\n",
    "- Print the message Three items from the middle of the list are:. Use a slice to\n",
    "print three items from the middle of the list.\n",
    "- Print the message The last three items in the list are:. Use a slice to print the\n",
    "last three items in the list.\n",
    "\n",
    "4-11. My Pizzas, Your Pizzas: Start with your program from Exercise 4-1\n",
    "(page 56). Make a copy of the list of pizzas, and call it friend_pizzas.\n",
    "Then, do the following:\n",
    "- Add a new pizza to the original list.\n",
    "- Add a different pizza to the list friend_pizzas.\n",
    "- Prove that you have two separate lists. Print the message My favorite\n",
    "pizzas are:, and then use a for loop to print the first list. Print the message\n",
    "My friend’s favorite pizzas are:, and then use a for loop to print the second\n",
    "list. Make sure each new pizza is stored in the appropriate list.\n",
    "\n",
    "4-12. More Loops: All versions of foods.py in this section have avoided using\n",
    "for loops when printing to save space. Choose a version of foods.py, and\n",
    "write two for loops to print each list of foods."
   ]
  },
  {
   "cell_type": "code",
   "execution_count": 42,
   "metadata": {},
   "outputs": [
    {
     "name": "stdout",
     "output_type": "stream",
     "text": [
      "pizza\n",
      "falafel\n",
      "carrot cake\n",
      "cannoli\n",
      "ice cream\n",
      "\n",
      "\n",
      "pizza\n",
      "falafel\n",
      "carrot cake\n",
      "cannoli\n",
      "ice cream\n"
     ]
    }
   ],
   "source": [
    "for food in my_foods:\n",
    "    print(food)\n",
    "\n",
    "print(\"\\n\")\n",
    "\n",
    "for food in friend_foods:\n",
    "    print(food)"
   ]
  },
  {
   "cell_type": "markdown",
   "metadata": {},
   "source": [
    "# Tuples\n",
    "\n",
    "Lists work well for storing collections of items that can change throughout\n",
    "the life of a program. The ability to modify lists is particularly important\n",
    "when you’re working with a list of users on a website or a list of characters in\n",
    "a game. However, sometimes you’ll want to create a list of items that cannot\n",
    "change. Tuples allow you to do just that. Python refers to values that cannot\n",
    "change as ***immutable***, and `an immutable list is called a tuple`.\n",
    "\n",
    "***When compared with lists, tuples are simple data structures. Use them when you want to store a set of values that should not be changed throughout the life of a program.***"
   ]
  },
  {
   "cell_type": "markdown",
   "metadata": {},
   "source": [
    "## Defining a Tuple\n",
    "\n",
    "A tuple looks just like a list except you use parentheses instead of square\n",
    "brackets. Once you define a tuple, you can access individual elements by\n",
    "using each item’s index, just as you would for a list.\n",
    "\n",
    "For example, if we have a rectangle that should always be a certain size,\n",
    "we can ensure that its size doesn’t change by putting the dimensions into a\n",
    "tuple:\n",
    "\n",
    "We define the tuple dimensions at u, using parentheses instead of square\n",
    "brackets. At v we print each element in the tuple individually, using the\n",
    "same syntax we’ve been using to access elements in a list:"
   ]
  },
  {
   "cell_type": "code",
   "execution_count": 46,
   "metadata": {},
   "outputs": [
    {
     "name": "stdout",
     "output_type": "stream",
     "text": [
      "200\n",
      "50\n"
     ]
    }
   ],
   "source": [
    "dimensions = (200, 50)\n",
    "print(dimensions[0])\n",
    "print(dimensions[1])"
   ]
  },
  {
   "cell_type": "markdown",
   "metadata": {},
   "source": [
    "**Note:** Tuples are technically defined by the presence of a comma; the parentheses make them look neater and more readable. If you want to define a tuple with one element, you need to include a trailing comma:\n",
    "\n",
    "`my_t = (3,)`\n",
    "\n",
    "*It doesn’t often make sense to build a tuple with one element, but this can happen when tuples are generated automatically.*"
   ]
  },
  {
   "cell_type": "markdown",
   "metadata": {},
   "source": [
    "## Looping Through All Values in a Tuple"
   ]
  },
  {
   "cell_type": "code",
   "execution_count": 47,
   "metadata": {},
   "outputs": [
    {
     "name": "stdout",
     "output_type": "stream",
     "text": [
      "200\n",
      "50\n"
     ]
    }
   ],
   "source": [
    "for dimension in dimensions:\n",
    "    print(dimension)"
   ]
  },
  {
   "cell_type": "markdown",
   "metadata": {},
   "source": [
    "## Writing over a Tuple\n",
    "\n",
    "Although you can’t modify a tuple, you can assign a new value to a variable\n",
    "that represents a tuple. So if we wanted to change our dimensions, we could\n",
    "redefine the entire tuple:\n",
    "\n",
    "The lines starting at u define the original tuple and print the initial\n",
    "dimensions. At v, we associate a new tuple with the variable dimensions. We\n",
    "then print the new dimensions at w. Python doesn’t raise any errors this\n",
    "time, because reassigning a variable is valid:"
   ]
  },
  {
   "cell_type": "code",
   "execution_count": 48,
   "metadata": {},
   "outputs": [
    {
     "name": "stdout",
     "output_type": "stream",
     "text": [
      "Original dimensions:\n",
      "200\n",
      "50\n",
      "\n",
      "Modified dimensions:\n",
      "400\n",
      "100\n"
     ]
    }
   ],
   "source": [
    "dimensions = (200, 50)\n",
    "print(\"Original dimensions:\")\n",
    "for dimension in dimensions:\n",
    "    print(dimension)\n",
    "\n",
    "dimensions = (400, 100)\n",
    "print(\"\\nModified dimensions:\")\n",
    "for dimension in dimensions:\n",
    "    print(dimension)"
   ]
  },
  {
   "cell_type": "markdown",
   "metadata": {},
   "source": [
    "## Try It Yourself\n",
    "4-13. Buffet: A buffet-style restaurant offers only five basic foods. Think of five\n",
    "simple foods, and store them in a tuple.\n",
    "- Use a for loop to print each food the restaurant offers.\n",
    "- Try to modify one of the items, and make sure that Python rejects the\n",
    "change.\n",
    "- The restaurant changes its menu, replacing two of the items with different foods. Add a line that rewrites the tuple, and then use a for loop to print each of the items on the revised menu."
   ]
  },
  {
   "cell_type": "markdown",
   "metadata": {},
   "source": [
    "# Styling Your Code\n",
    "\n",
    "Now that you’re writing longer programs, ideas about how to style your code\n",
    "are worthwhile to know. Take the time to make your code as easy as possible\n",
    "to read. Writing easy-to-read code helps you keep track of what your programs\n",
    "are doing and helps others understand your code as well.\n",
    "\n",
    "Python programmers have agreed on a number of styling conventions\n",
    "to ensure that everyone’s code is structured in roughly the same way.\n",
    "Once you’ve learned to write clean Python code, you should be able to\n",
    "understand the overall structure of anyone else’s Python code, as long as\n",
    "they follow the same guidelines. If you’re hoping to become a professional\n",
    "programmer at some point, you should begin following these guidelines as\n",
    "soon as possible to develop good habits."
   ]
  },
  {
   "cell_type": "markdown",
   "metadata": {},
   "source": [
    "## The Style Guide\n",
    "\n",
    "When someone wants to make a change to the Python language, they write\n",
    "a `Python Enhancement Proposal (PEP)`. One of the oldest PEPs is **`PEP 8`**, which\n",
    "instructs Python programmers on how to style their code. PEP 8 is fairly\n",
    "lengthy, but much of it relates to more complex coding structures than\n",
    "what you’ve seen so far.\n",
    "\n",
    "The Python style guide was written with the understanding that code\n",
    "is read more often than it is written. You’ll write your code once and then\n",
    "start reading it as you begin debugging. When you add features to a program,\n",
    "you’ll spend more time reading your code. When you share your\n",
    "code with other programmers, they’ll read your code as well.\n",
    "\n",
    "Given the choice between writing code that’s easier to write or code\n",
    "that’s easier to read, Python programmers will almost always encourage you\n",
    "to write code that’s easier to read. The following guidelines will help you\n",
    "write clear code from the start."
   ]
  },
  {
   "cell_type": "markdown",
   "metadata": {},
   "source": [
    "## Indentation\n",
    "\n",
    "PEP 8 recommends that you use four spaces per indentation level. Using\n",
    "four spaces improves readability while leaving room for multiple levels of\n",
    "indentation on each line.\n",
    "\n",
    "**Note:** In a word processing document, people often use tabs rather than\n",
    "spaces to indent. This works well for word processing documents, but the\n",
    "Python interpreter gets confused when tabs are mixed with spaces. Every\n",
    "text editor provides a setting that lets you use the tab key but then converts\n",
    "each tab to a set number of spaces. You should definitely use your tab key,\n",
    "but also make sure your editor is set to insert spaces rather than tabs into\n",
    "your document.\n",
    "\n",
    "Mixing tabs and spaces in your file can cause problems that are very\n",
    "difficult to diagnose. If you think you have a mix of tabs and spaces, you\n",
    "can convert all tabs in a file to spaces in most editors."
   ]
  },
  {
   "cell_type": "markdown",
   "metadata": {},
   "source": [
    "## Line Length\n",
    "\n",
    "**Many Python programmers recommend that each line should be less than 80 characters.** \n",
    "\n",
    "Historically, this guideline developed because most computers\n",
    "could fit only 79 characters on a single line in a terminal window.\n",
    "Currently, people can fit much longer lines on their screens, but other reasons\n",
    "exist to adhere to the 79-character standard line length. Professional\n",
    "programmers often have several files open on the same screen, and using\n",
    "the standard line length allows them to see entire lines in two or three files\n",
    "that are open side by side onscreen. PEP 8 also recommends that you limit\n",
    "all of your comments to 72 characters per line, because some of the tools\n",
    "that generate automatic documentation for larger projects add formatting\n",
    "characters at the beginning of each commented line."
   ]
  },
  {
   "cell_type": "markdown",
   "metadata": {},
   "source": [
    "## Blank Lines\n",
    "\n",
    "To group parts of your program visually, use blank lines.\n",
    "\n",
    "You should use blank lines to organize your files, but don’t do so excessively.\n",
    "\n",
    "Blank lines won’t affect how your code runs, but they will affect the readability of your code. The Python interpreter uses horizontal indentation to interpret the meaning of your code, but it disregards vertical spacing.\n",
    "\n",
    "For example, if you have five lines of code that build a list, and then another three lines that do something with that list, it’s appropriate to place a blank line between the two sections. However, you should not place three or four blank lines between the two sections."
   ]
  },
  {
   "cell_type": "markdown",
   "metadata": {},
   "source": [
    "## Try It Yourself\n",
    "4-14. PEP 8: Look through the original PEP 8 style guide at https://python.org/\n",
    "dev/peps/pep-0008/. You won’t use much of it now, but it might be interesting\n",
    "to skim through it.\n",
    "\n",
    "4-15. Code Review: Choose three of the programs you’ve written in this chapter\n",
    "and modify each one to comply with PEP 8:\n",
    "- Use four spaces for each indentation level. Set your text editor to insert\n",
    "four spaces every time you press tab, if you haven’t already done so (see\n",
    "Appendix B for instructions on how to do this).\n",
    "- Use less than 80 characters on each line, and set your editor to show a\n",
    "vertical guideline at the 80th character position.\n",
    "- Don’t use blank lines excessively in your program files."
   ]
  },
  {
   "cell_type": "markdown",
   "metadata": {},
   "source": [
    "# Summary\n",
    "In this chapter you learned how to work efficiently with the elements in a\n",
    "list. You learned how to work through a list using a for loop, how Python\n",
    "uses indentation to structure a program, and how to avoid some common\n",
    "indentation errors. You learned to make simple numerical lists, as well as a\n",
    "few operations you can perform on numerical lists. You learned how to slice\n",
    "a list to work with a subset of items and how to copy lists properly using a\n",
    "slice. You also learned about tuples, which provide a degree of protection\n",
    "to a set of values that shouldn’t change, and how to style your increasingly\n",
    "complex code to make it easy to read.\n",
    "\n",
    "In Chapter 5, you’ll learn to respond appropriately to different conditions\n",
    "by using if statements. You’ll learn to string together relatively complex\n",
    "sets of conditional tests to respond appropriately to exactly the kind\n",
    "of situation or information you’re looking for. You’ll also learn to use if\n",
    "statements while looping through a list to take specific actions with selected\n",
    "elements from a list."
   ]
  }
 ],
 "metadata": {
  "interpreter": {
   "hash": "fbc05aefc5138339e86326c0933e0017460d8d382a1640adfde37b07fe7115b6"
  },
  "kernelspec": {
   "display_name": "Python 3.9.7 64-bit",
   "name": "python3"
  },
  "language_info": {
   "codemirror_mode": {
    "name": "ipython",
    "version": 3
   },
   "file_extension": ".py",
   "mimetype": "text/x-python",
   "name": "python",
   "nbconvert_exporter": "python",
   "pygments_lexer": "ipython3",
   "version": "3.9.7"
  },
  "orig_nbformat": 4
 },
 "nbformat": 4,
 "nbformat_minor": 2
}
