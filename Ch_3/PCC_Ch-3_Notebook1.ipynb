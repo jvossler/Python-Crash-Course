{
 "cells": [
  {
   "cell_type": "code",
   "execution_count": 1,
   "metadata": {},
   "outputs": [
    {
     "name": "stdout",
     "output_type": "stream",
     "text": [
      "Hello World!\n"
     ]
    }
   ],
   "source": [
    "print(\"Hello World!\")"
   ]
  },
  {
   "cell_type": "code",
   "execution_count": 2,
   "metadata": {},
   "outputs": [
    {
     "name": "stdout",
     "output_type": "stream",
     "text": [
      "Hello Python World!\n"
     ]
    }
   ],
   "source": [
    "# Variables can be viewed as tags or labels for certain actions or characters\n",
    "message = \"Hello Python World!\"\n",
    "print(message)"
   ]
  },
  {
   "cell_type": "markdown",
   "metadata": {},
   "source": [
    "You can change the value of a variable in your program at any time, and Python will always keep track of its current value.\n",
    "- It’s much better to think of variables as labels that you can assign to values. You can also say that a variable references a certain value."
   ]
  },
  {
   "cell_type": "code",
   "execution_count": 3,
   "metadata": {},
   "outputs": [
    {
     "name": "stdout",
     "output_type": "stream",
     "text": [
      "Hello Python World Crash Course!\n"
     ]
    }
   ],
   "source": [
    "# Reassigning variable names\n",
    "message = \"Hello Python World Crash Course!\"\n",
    "print(message)"
   ]
  },
  {
   "cell_type": "markdown",
   "metadata": {},
   "source": [
    "- Variable names can contain only letters, numbers, and underscores. They can start with a letter or an underscore, but not with a number. For instance, you can call a variable message_1 but not 1_message.\n",
    "- Spaces are not allowed in variable names, but underscores can be used to separate words in variable names. For example, greeting_message works, but greeting message will cause errors.\n",
    "- Avoid using Python keywords and function names as variable names; that is, do not use words that Python has reserved for a particular programmatic purpose, such as the word print. (See “Python Keywords and Built-in Functions” on page 471.)\n",
    "- Variable names should be short but descriptive. For example, name is better than n, student_name is better than s_n, and name_length is better than length_of_persons_name.\n",
    "- Be careful when using the lowercase letter l and the uppercase letter O because they could be confused with the numbers 1 and 0."
   ]
  },
  {
   "cell_type": "code",
   "execution_count": 4,
   "metadata": {},
   "outputs": [
    {
     "name": "stdout",
     "output_type": "stream",
     "text": [
      "This is a simple message\n"
     ]
    }
   ],
   "source": [
    "simple_message = \"This is a simple message\"\n",
    "print(simple_message)"
   ]
  },
  {
   "cell_type": "code",
   "execution_count": 5,
   "metadata": {},
   "outputs": [
    {
     "name": "stdout",
     "output_type": "stream",
     "text": [
      "This is a simple messages variable\n"
     ]
    }
   ],
   "source": [
    "simple_messages = \"This is a simple messages variable\"\n",
    "print(simple_messages)"
   ]
  },
  {
   "cell_type": "code",
   "execution_count": 6,
   "metadata": {},
   "outputs": [
    {
     "name": "stdout",
     "output_type": "stream",
     "text": [
      "This is a string.\n",
      "This is also a string.\n"
     ]
    }
   ],
   "source": [
    "string_example = \"This is a string.\"\n",
    "string_example_second = 'This is also a string.'\n",
    "print(string_example)\n",
    "print(string_example_second)"
   ]
  },
  {
   "cell_type": "markdown",
   "metadata": {},
   "source": [
    "### Changing Case in a String with Methods\n",
    "One of the simplest tasks you can do with strings is change the case of the\n",
    "words in a string. Look at the following code, and try to determine what’s\n",
    "happening:\n",
    "\n",
    "In this example, the variable name refers to the lowercase string \"ada\n",
    "lovelace\". The method `title()` appears after the variable in the print() call.\n",
    "`A method is an action that Python can perform on a piece of data.` The dot\n",
    "(`.`) after name in name.title() tells Python to make the title() method act on\n",
    "the variable name. `Every method is followed by a set of parentheses, because\n",
    "methods often need additional information to do their work.` That information\n",
    "is provided inside the parentheses. The title() function doesn’t need\n",
    "any additional information, so its parentheses are empty."
   ]
  },
  {
   "cell_type": "code",
   "execution_count": 7,
   "metadata": {},
   "outputs": [
    {
     "name": "stdout",
     "output_type": "stream",
     "text": [
      "Ada Lovelace\n"
     ]
    }
   ],
   "source": [
    "name = \"ada lovelace\"\n",
    "print(name.title())"
   ]
  },
  {
   "cell_type": "markdown",
   "metadata": {},
   "source": [
    "Additional examples:\n",
    "\n",
    "- `The lower() method is particularly useful for storing data.`"
   ]
  },
  {
   "cell_type": "code",
   "execution_count": 8,
   "metadata": {},
   "outputs": [
    {
     "name": "stdout",
     "output_type": "stream",
     "text": [
      "ADA LOVELACE\n",
      "ada lovelace\n",
      "Ada lovelace\n"
     ]
    }
   ],
   "source": [
    "print(name.upper())\n",
    "print(name.lower())\n",
    "print(name.capitalize())"
   ]
  },
  {
   "cell_type": "markdown",
   "metadata": {},
   "source": [
    "### Using Variables in Strings\n",
    "\n",
    "#### f-strings\n",
    "In some situations, you’ll want to use a variable’s value inside a string. For\n",
    "example, you might want two variables to represent a first name and a last\n",
    "name respectively, and then want to combine those values to display someone’s\n",
    "full name:\n",
    "\n",
    "**`To insert a variable’s value into a string, place the letter f immediately\n",
    "before the opening quotation mark.`** Put braces around the name or names\n",
    "of any variable you want to use inside the string. Python will replace each\n",
    "variable with its value when the string is displayed.\n",
    "These strings are called **`f-strings`**.\n",
    "**The f is for *format***, because Python\n",
    "formats the string by replacing the name of any variable in braces with its\n",
    "value. The output from the previous code is:"
   ]
  },
  {
   "cell_type": "code",
   "execution_count": 9,
   "metadata": {},
   "outputs": [
    {
     "name": "stdout",
     "output_type": "stream",
     "text": [
      "ada lovelace\n"
     ]
    }
   ],
   "source": [
    "first_name = \"ada\"\n",
    "last_name = \"lovelace\"\n",
    "full_name = f\"{first_name} {last_name}\"\n",
    "print(full_name)"
   ]
  },
  {
   "cell_type": "markdown",
   "metadata": {},
   "source": [
    "You can do a lot with f-strings.\n",
    "\n",
    "For example, you can use f-strings to compose complete messages using the information associated with a variable, as shown here:"
   ]
  },
  {
   "cell_type": "code",
   "execution_count": 10,
   "metadata": {},
   "outputs": [
    {
     "name": "stdout",
     "output_type": "stream",
     "text": [
      "Hello, Ada Lovelace!\n",
      "Hello, Ada lovelace!\n",
      "Hello, ADA LOVELACE!\n",
      "Hello, ada lovelace!\n"
     ]
    }
   ],
   "source": [
    "first_name = \"ada\"\n",
    "last_name = \"lovelace\"\n",
    "full_name = f\"{first_name} {last_name}\"\n",
    "print(f\"Hello, {full_name.title()}!\")\n",
    "print(f\"Hello, {full_name.capitalize()}!\")\n",
    "print(f\"Hello, {full_name.upper()}!\")\n",
    "print(f\"Hello, {full_name.lower()}!\")"
   ]
  },
  {
   "cell_type": "markdown",
   "metadata": {},
   "source": [
    "You can also use f-strings\n",
    "to compose a message, and then assign the\n",
    "entire message to a variable:"
   ]
  },
  {
   "cell_type": "code",
   "execution_count": 11,
   "metadata": {},
   "outputs": [
    {
     "name": "stdout",
     "output_type": "stream",
     "text": [
      "Hello, Ada Lovelace!\n"
     ]
    }
   ],
   "source": [
    "first_name = \"ada\"\n",
    "last_name = \"lovelace\"\n",
    "full_name = f\"{first_name} {last_name}\"\n",
    "message = f\"Hello, {full_name.title()}!\"\n",
    "print(message)"
   ]
  },
  {
   "cell_type": "markdown",
   "metadata": {},
   "source": [
    "F-strings\n",
    "were first introduced in Python 3.6. If you’re using Python 3.5 or earlier,\n",
    "you’ll need to use the format() method rather than this f syntax. To use format(), list\n",
    "the variables you want to use in the string inside the parentheses following format.\n",
    "Each variable is referred to by a set of braces; the braces will be filled by the values\n",
    "listed in parentheses in the order provided:\n",
    "\n",
    "`full_name = \"{} {}\".format(first_name, last_name)`\n"
   ]
  },
  {
   "cell_type": "markdown",
   "metadata": {},
   "source": [
    "### Adding Whitespace to Strings with Tabs or Newlines\n",
    "\n",
    "In programming, whitespace refers to any nonprinting character, such as spaces, tabs, and end-of-line symbols. You can use whitespace to organize\n",
    "your output so it’s easier for users to read.\n",
    "\n",
    "To add a **`tab`** to your text, use the character combination **`\\t`** as shown here:"
   ]
  },
  {
   "cell_type": "code",
   "execution_count": 12,
   "metadata": {},
   "outputs": [
    {
     "name": "stdout",
     "output_type": "stream",
     "text": [
      "Python\n",
      "\tPython\n"
     ]
    }
   ],
   "source": [
    "print(\"Python\")\n",
    "\n",
    "print(\"\\tPython\")"
   ]
  },
  {
   "cell_type": "markdown",
   "metadata": {},
   "source": [
    "To add a **`newline`** in a string, use the character combination **`\\n`**:"
   ]
  },
  {
   "cell_type": "code",
   "execution_count": 13,
   "metadata": {},
   "outputs": [
    {
     "name": "stdout",
     "output_type": "stream",
     "text": [
      "Python\n",
      "\n",
      "Languages:\n",
      "Python\n",
      "C\n",
      "JavaScript\n"
     ]
    }
   ],
   "source": [
    "print(\"Python\\n\")\n",
    "\n",
    "print(\"Languages:\\nPython\\nC\\nJavaScript\")"
   ]
  },
  {
   "cell_type": "markdown",
   "metadata": {},
   "source": [
    "You can also **`combine tabs and newlines in a single string`**. The string\n",
    "\"**`\\n\\t`**\" tells Python to move to a new line, and start the next line with a tab.\n",
    "The following example shows how you can use a one-line\n",
    "string to generate\n",
    "four lines of output:"
   ]
  },
  {
   "cell_type": "code",
   "execution_count": 14,
   "metadata": {},
   "outputs": [
    {
     "name": "stdout",
     "output_type": "stream",
     "text": [
      "Languages:\n",
      "\tPython\n",
      "\tC\n",
      "\tJavaScript\n"
     ]
    }
   ],
   "source": [
    "print(\"Languages:\\n\\tPython\\n\\tC\\n\\tJavaScript\")"
   ]
  },
  {
   "cell_type": "markdown",
   "metadata": {},
   "source": [
    "### Stripping Whitespace\n",
    "\n",
    "Extra whitespace can be confusing in your programs. To programmers\n",
    "'python' and 'python ' look pretty much the same. But to a program, they\n",
    "are two different strings. Python detects the extra space in 'python ' and\n",
    "considers it significant unless you tell it otherwise.\n",
    "\n",
    "\n",
    "Python can look for extra whitespace on the right and left sides of a\n",
    "string. To ensure that no whitespace exists at the *`right end of a string`*, use\n",
    "the **`rstrip()`** method.\n",
    "\n",
    "You can also strip whitespace from the *`left side of a string`* using the\n",
    "**`lstrip()`** method, or from *`both sides at once`* using **`strip()`**:"
   ]
  },
  {
   "cell_type": "code",
   "execution_count": 15,
   "metadata": {},
   "outputs": [
    {
     "name": "stdout",
     "output_type": "stream",
     "text": [
      "Python \n",
      "Python\n"
     ]
    },
    {
     "data": {
      "text/plain": [
       "'Python '"
      ]
     },
     "execution_count": 15,
     "metadata": {},
     "output_type": "execute_result"
    }
   ],
   "source": [
    "favorite_language = \"Python \"\n",
    "print(favorite_language)\n",
    "print(favorite_language.rstrip())\n",
    "favorite_language"
   ]
  },
  {
   "cell_type": "markdown",
   "metadata": {},
   "source": [
    "To remove the whitespace from the string permanently, you have to\n",
    "associate the stripped value with the variable name:"
   ]
  },
  {
   "cell_type": "code",
   "execution_count": 16,
   "metadata": {},
   "outputs": [
    {
     "data": {
      "text/plain": [
       "'Python'"
      ]
     },
     "execution_count": 16,
     "metadata": {},
     "output_type": "execute_result"
    }
   ],
   "source": [
    "favorite_language = 'Python '\n",
    "favorite_language = favorite_language.rstrip()\n",
    "favorite_language"
   ]
  },
  {
   "cell_type": "markdown",
   "metadata": {},
   "source": [
    "### Avoiding Syntax Errors with Strings\n",
    "\n",
    "A syntax error occurs when Python doesn’t recognize a section of your program\n",
    "as valid Python code."
   ]
  },
  {
   "cell_type": "markdown",
   "metadata": {},
   "source": [
    "Here’s how to use single and double quotes correctly. Save this program\n",
    "as apostrophe.py and then run it:\n",
    "\n",
    "The apostrophe appears inside a set of double quotes, so the Python\n",
    "interpreter has no trouble reading the string correctly:"
   ]
  },
  {
   "cell_type": "code",
   "execution_count": 17,
   "metadata": {},
   "outputs": [
    {
     "name": "stdout",
     "output_type": "stream",
     "text": [
      "One of Python's strengths is its diverse community.\n"
     ]
    }
   ],
   "source": [
    "message = \"One of Python's strengths is its diverse community.\"\n",
    "print(message)"
   ]
  },
  {
   "cell_type": "markdown",
   "metadata": {},
   "source": [
    "However, if you use single quotes, Python can’t identify where the string\n",
    "should end:"
   ]
  },
  {
   "cell_type": "code",
   "execution_count": 18,
   "metadata": {},
   "outputs": [],
   "source": [
    "# message = 'One of Python's strengths is its diverse community.'\n",
    "# print(message)"
   ]
  },
  {
   "cell_type": "markdown",
   "metadata": {},
   "source": []
  },
  {
   "cell_type": "markdown",
   "metadata": {},
   "source": [
    "## Numbers"
   ]
  },
  {
   "cell_type": "markdown",
   "metadata": {},
   "source": [
    "### Integers and Floats"
   ]
  },
  {
   "cell_type": "markdown",
   "metadata": {},
   "source": [
    "### Integers"
   ]
  },
  {
   "cell_type": "code",
   "execution_count": 19,
   "metadata": {},
   "outputs": [
    {
     "data": {
      "text/plain": [
       "5"
      ]
     },
     "execution_count": 19,
     "metadata": {},
     "output_type": "execute_result"
    }
   ],
   "source": [
    "2 + 3"
   ]
  },
  {
   "cell_type": "code",
   "execution_count": 20,
   "metadata": {},
   "outputs": [
    {
     "data": {
      "text/plain": [
       "1"
      ]
     },
     "execution_count": 20,
     "metadata": {},
     "output_type": "execute_result"
    }
   ],
   "source": [
    "3 - 2"
   ]
  },
  {
   "cell_type": "code",
   "execution_count": 21,
   "metadata": {},
   "outputs": [
    {
     "data": {
      "text/plain": [
       "6"
      ]
     },
     "execution_count": 21,
     "metadata": {},
     "output_type": "execute_result"
    }
   ],
   "source": [
    "2 * 3"
   ]
  },
  {
   "cell_type": "code",
   "execution_count": 22,
   "metadata": {},
   "outputs": [
    {
     "data": {
      "text/plain": [
       "1.5"
      ]
     },
     "execution_count": 22,
     "metadata": {},
     "output_type": "execute_result"
    }
   ],
   "source": [
    "3 / 2"
   ]
  },
  {
   "cell_type": "markdown",
   "metadata": {},
   "source": [
    "#### Python uses two multiplication symbols to represent exponents"
   ]
  },
  {
   "cell_type": "code",
   "execution_count": 23,
   "metadata": {},
   "outputs": [
    {
     "data": {
      "text/plain": [
       "9"
      ]
     },
     "execution_count": 23,
     "metadata": {},
     "output_type": "execute_result"
    }
   ],
   "source": [
    "3 **2 "
   ]
  },
  {
   "cell_type": "code",
   "execution_count": 24,
   "metadata": {},
   "outputs": [
    {
     "data": {
      "text/plain": [
       "27"
      ]
     },
     "execution_count": 24,
     "metadata": {},
     "output_type": "execute_result"
    }
   ],
   "source": [
    "3 **3 "
   ]
  },
  {
   "cell_type": "code",
   "execution_count": 25,
   "metadata": {},
   "outputs": [
    {
     "data": {
      "text/plain": [
       "1000000"
      ]
     },
     "execution_count": 25,
     "metadata": {},
     "output_type": "execute_result"
    }
   ],
   "source": [
    "10 ** 6"
   ]
  },
  {
   "cell_type": "markdown",
   "metadata": {},
   "source": [
    "#### Order of Operations\n",
    "\n",
    "Python supports the order of operations too, so you can use multiple\n",
    "operations in one expression. You can also use parentheses to modify the\n",
    "order of operations so Python can evaluate your expression in the order\n",
    "you specify."
   ]
  },
  {
   "cell_type": "code",
   "execution_count": 26,
   "metadata": {},
   "outputs": [
    {
     "data": {
      "text/plain": [
       "14"
      ]
     },
     "execution_count": 26,
     "metadata": {},
     "output_type": "execute_result"
    }
   ],
   "source": [
    "2 + 3 * 4"
   ]
  },
  {
   "cell_type": "code",
   "execution_count": 27,
   "metadata": {},
   "outputs": [
    {
     "data": {
      "text/plain": [
       "20"
      ]
     },
     "execution_count": 27,
     "metadata": {},
     "output_type": "execute_result"
    }
   ],
   "source": [
    "(2 + 3) * 4"
   ]
  },
  {
   "cell_type": "markdown",
   "metadata": {},
   "source": [
    "### Floats\n",
    "\n",
    "Python calls any number with a decimal point a float."
   ]
  },
  {
   "cell_type": "code",
   "execution_count": 28,
   "metadata": {},
   "outputs": [
    {
     "data": {
      "text/plain": [
       "0.2"
      ]
     },
     "execution_count": 28,
     "metadata": {},
     "output_type": "execute_result"
    }
   ],
   "source": [
    "0.1 + 0.1"
   ]
  },
  {
   "cell_type": "code",
   "execution_count": 29,
   "metadata": {},
   "outputs": [
    {
     "data": {
      "text/plain": [
       "0.4"
      ]
     },
     "execution_count": 29,
     "metadata": {},
     "output_type": "execute_result"
    }
   ],
   "source": [
    "0.2 + 0.2"
   ]
  },
  {
   "cell_type": "code",
   "execution_count": 30,
   "metadata": {},
   "outputs": [
    {
     "data": {
      "text/plain": [
       "0.2"
      ]
     },
     "execution_count": 30,
     "metadata": {},
     "output_type": "execute_result"
    }
   ],
   "source": [
    "2 * 0.1"
   ]
  },
  {
   "cell_type": "code",
   "execution_count": 31,
   "metadata": {},
   "outputs": [
    {
     "data": {
      "text/plain": [
       "0.4"
      ]
     },
     "execution_count": 31,
     "metadata": {},
     "output_type": "execute_result"
    }
   ],
   "source": [
    "2 * 0.2"
   ]
  },
  {
   "cell_type": "markdown",
   "metadata": {},
   "source": [
    "Be aware that you can sometimes get an arbitrary number of decimal\n",
    "places in your answer\n",
    "\n",
    "This happens in all languages and is of little concern. Python tries to\n",
    "find a way to represent the result as precisely as possible, which is sometimes\n",
    "difficult given how computers have to represent numbers internally. Just\n",
    "ignore the extra decimal places for now; you’ll learn ways to deal with the\n",
    "extra places when you need to in the projects in Part II."
   ]
  },
  {
   "cell_type": "code",
   "execution_count": 32,
   "metadata": {},
   "outputs": [
    {
     "data": {
      "text/plain": [
       "0.30000000000000004"
      ]
     },
     "execution_count": 32,
     "metadata": {},
     "output_type": "execute_result"
    }
   ],
   "source": [
    "0.2 + 0.1"
   ]
  },
  {
   "cell_type": "code",
   "execution_count": 33,
   "metadata": {},
   "outputs": [
    {
     "data": {
      "text/plain": [
       "0.30000000000000004"
      ]
     },
     "execution_count": 33,
     "metadata": {},
     "output_type": "execute_result"
    }
   ],
   "source": [
    "3 * 0.1"
   ]
  },
  {
   "cell_type": "markdown",
   "metadata": {},
   "source": [
    "When you divide any two numbers, even if they are integers that result in a\n",
    "whole number, you’ll always get a float\n",
    "\n",
    "If you mix an integer and a float in any other operation, you’ll get a\n",
    "float as well\n",
    "\n",
    "Python defaults to a float in any operation that uses a float, even if the\n",
    "output is a whole number"
   ]
  },
  {
   "cell_type": "code",
   "execution_count": 34,
   "metadata": {},
   "outputs": [
    {
     "data": {
      "text/plain": [
       "2.0"
      ]
     },
     "execution_count": 34,
     "metadata": {},
     "output_type": "execute_result"
    }
   ],
   "source": [
    "4 / 2"
   ]
  },
  {
   "cell_type": "code",
   "execution_count": 35,
   "metadata": {},
   "outputs": [
    {
     "data": {
      "text/plain": [
       "3.0"
      ]
     },
     "execution_count": 35,
     "metadata": {},
     "output_type": "execute_result"
    }
   ],
   "source": [
    "1 + 2.0"
   ]
  },
  {
   "cell_type": "code",
   "execution_count": 36,
   "metadata": {},
   "outputs": [
    {
     "data": {
      "text/plain": [
       "6.0"
      ]
     },
     "execution_count": 36,
     "metadata": {},
     "output_type": "execute_result"
    }
   ],
   "source": [
    "2 * 3.0"
   ]
  },
  {
   "cell_type": "code",
   "execution_count": 37,
   "metadata": {},
   "outputs": [
    {
     "data": {
      "text/plain": [
       "9.0"
      ]
     },
     "execution_count": 37,
     "metadata": {},
     "output_type": "execute_result"
    }
   ],
   "source": [
    "3.0 ** 2"
   ]
  },
  {
   "cell_type": "markdown",
   "metadata": {},
   "source": [
    "### Underscores in Numbers"
   ]
  },
  {
   "cell_type": "markdown",
   "metadata": {},
   "source": [
    "When you’re writing long numbers, you can group digits using underscores\n",
    "to make large numbers more readable\n",
    "\n",
    "When you print a number that was defined using underscores, Python\n",
    "prints only the digits\n",
    "\n",
    "Python ignores the underscores when storing these kinds of values.\n",
    "Even\n",
    "if you don’t group the digits in threes, the value will still be unaffected.\n",
    "To Python, 1000 is the same as 1_000, which is the same as 10_00. This feature\n",
    "works for integers and floats, but it’s only available in Python 3.6\n",
    "and later."
   ]
  },
  {
   "cell_type": "code",
   "execution_count": 38,
   "metadata": {},
   "outputs": [],
   "source": [
    "universe_age = 14_000_000_000"
   ]
  },
  {
   "cell_type": "markdown",
   "metadata": {},
   "source": [
    "### Multiple Assignment"
   ]
  },
  {
   "cell_type": "markdown",
   "metadata": {},
   "source": [
    "You can assign values to more than one variable using just a single line.\n",
    "This can help shorten your programs and make them easier to read; you’ll\n",
    "use this technique most often when initializing a set of numbers.\n",
    "\n",
    "You need to `separate the variable names with commas, and do the\n",
    "same with the values`, and Python will assign each value to its respectively\n",
    "positioned variable. As long as the number of values matches the number of\n",
    "variables, Python will match them up correctly.\n",
    "\n",
    "For example, here’s how you can initialize the variables x, y, and z\n",
    "to zero:"
   ]
  },
  {
   "cell_type": "code",
   "execution_count": 39,
   "metadata": {},
   "outputs": [],
   "source": [
    "x, y, z = 0, 0, 0"
   ]
  },
  {
   "cell_type": "code",
   "execution_count": 40,
   "metadata": {},
   "outputs": [
    {
     "data": {
      "text/plain": [
       "0"
      ]
     },
     "execution_count": 40,
     "metadata": {},
     "output_type": "execute_result"
    }
   ],
   "source": [
    "x"
   ]
  },
  {
   "cell_type": "markdown",
   "metadata": {},
   "source": [
    "### Constants"
   ]
  },
  {
   "cell_type": "markdown",
   "metadata": {},
   "source": [
    "A constant is like a variable whose value stays the same throughout the life\n",
    "of a program. Python doesn’t have built-in\n",
    "constant types, but Python programmers\n",
    "use **`all capital letters`** to indicate a variable should be treated as a\n",
    "constant and never be changed\n",
    "\n",
    "- When you want to treat a variable as a constant in your code, make the\n",
    "name of the variable all capital letters."
   ]
  },
  {
   "cell_type": "code",
   "execution_count": 41,
   "metadata": {},
   "outputs": [
    {
     "data": {
      "text/plain": [
       "5000"
      ]
     },
     "execution_count": 41,
     "metadata": {},
     "output_type": "execute_result"
    }
   ],
   "source": [
    "MAX_CONNECTIONS = 5000\n",
    "MAX_CONNECTIONS"
   ]
  },
  {
   "cell_type": "markdown",
   "metadata": {},
   "source": [
    "### Comments"
   ]
  },
  {
   "cell_type": "markdown",
   "metadata": {},
   "source": [
    "As your programs become longer and more complicated, you should `add\n",
    "notes within your programs that describe your overall approach to the\n",
    "problem you’re solving`. A comment allows you to write notes in English\n",
    "within your programs.\n",
    "\n",
    "- Comments begin with a **`#`**\n",
    "- You should write meaningful comments\n",
    "  - When you’re determining whether to write a comment, ask yourself if\n",
    "you had to consider several approaches before coming up with a reasonable\n",
    "way to make something work; if so, write a comment about your solution.\n",
    "It’s much easier to delete extra comments later on than it is to go back\n",
    "and write comments for a sparsely commented program.\n",
    "\n",
    "The main reason to write comments is to explain what your code is supposed\n",
    "to do and how you are making it work. When you’re in the middle of working\n",
    "on a project, you understand how all of the pieces fit together. But when\n",
    "you return to a project after some time away, you’ll likely have forgotten\n",
    "some of the details. You can always study your code for a while and figure\n",
    "out how segments were supposed to work, but writing good comments can\n",
    "save you time by summarizing your overall approach in clear English."
   ]
  },
  {
   "cell_type": "markdown",
   "metadata": {},
   "source": [
    "### The Zen of Python\n",
    "\n",
    "Avoid complexity\n",
    "and aim for simplicity whenever possible"
   ]
  },
  {
   "cell_type": "code",
   "execution_count": 42,
   "metadata": {},
   "outputs": [
    {
     "name": "stdout",
     "output_type": "stream",
     "text": [
      "The Zen of Python, by Tim Peters\n",
      "\n",
      "Beautiful is better than ugly.\n",
      "Explicit is better than implicit.\n",
      "Simple is better than complex.\n",
      "Complex is better than complicated.\n",
      "Flat is better than nested.\n",
      "Sparse is better than dense.\n",
      "Readability counts.\n",
      "Special cases aren't special enough to break the rules.\n",
      "Although practicality beats purity.\n",
      "Errors should never pass silently.\n",
      "Unless explicitly silenced.\n",
      "In the face of ambiguity, refuse the temptation to guess.\n",
      "There should be one-- and preferably only one --obvious way to do it.\n",
      "Although that way may not be obvious at first unless you're Dutch.\n",
      "Now is better than never.\n",
      "Although never is often better than *right* now.\n",
      "If the implementation is hard to explain, it's a bad idea.\n",
      "If the implementation is easy to explain, it may be a good idea.\n",
      "Namespaces are one honking great idea -- let's do more of those!\n"
     ]
    }
   ],
   "source": [
    "import this"
   ]
  },
  {
   "cell_type": "markdown",
   "metadata": {},
   "source": [
    "# Ch. 3: Lists"
   ]
  },
  {
   "cell_type": "markdown",
   "metadata": {},
   "source": [
    "## What is a list?\n",
    "\n",
    "A list is a collection of items in a particular order. \n",
    "\n",
    "You can make a list that\n",
    "includes the letters of the alphabet, the digits from 0–9, or the names of\n",
    "all the people in your family. You can put anything you want into a list, and\n",
    "the items in your list don’t have to be related in any particular way. \n",
    "\n",
    "Because\n",
    "a list usually contains more than one element, it’s a good idea to make the\n",
    "name of your list plural, such as letters, digits, or names.\n",
    "\n",
    "In Python, square brackets (**`[]`**) indicate a **`list`**, and *`individual elements\n",
    "in the list are separated by commas`*. \n",
    "\n",
    "Here’s a simple example of a list that\n",
    "contains a few kinds of bicycles:"
   ]
  },
  {
   "cell_type": "code",
   "execution_count": 43,
   "metadata": {},
   "outputs": [
    {
     "name": "stdout",
     "output_type": "stream",
     "text": [
      "['trek', 'cannondale', 'redline', 'specialized']\n"
     ]
    }
   ],
   "source": [
    "bicycles = ['trek', 'cannondale', 'redline', 'specialized']\n",
    "\n",
    "# If you ask Python to print a list, Python returns its \n",
    "# representation of the list, including the square brackets:\n",
    "print(bicycles)"
   ]
  },
  {
   "cell_type": "markdown",
   "metadata": {},
   "source": [
    "### Accessing Elements in a List: Learn how to access the individual items in a list\n",
    "\n",
    "- **`Lists are ordered collections`**, so you can access any element in a list by\n",
    "telling Python the position, or index, of the item desired. To access an element\n",
    "in a list, write the name of the list followed by the index of the item\n",
    "enclosed in square brackets.\n",
    "- **Index Positions Start at 0, Not 1**\n",
    "\n",
    "For example, let’s pull out the first bicycle in the list bicycles:"
   ]
  },
  {
   "cell_type": "code",
   "execution_count": 44,
   "metadata": {},
   "outputs": [
    {
     "name": "stdout",
     "output_type": "stream",
     "text": [
      "trek\n"
     ]
    }
   ],
   "source": [
    "# The syntax for this is shown below. When we ask for a single item from a\n",
    "# list, Python returns just that element without square brackets:\n",
    "\n",
    "print(bicycles[0])"
   ]
  },
  {
   "cell_type": "markdown",
   "metadata": {},
   "source": [
    "You can also use the string methods from Chapter 2 on any element\n",
    "in this list. \n",
    "\n",
    "For example, you can format the element 'trek' more neatly by\n",
    "using the title() method:"
   ]
  },
  {
   "cell_type": "code",
   "execution_count": 45,
   "metadata": {},
   "outputs": [
    {
     "name": "stdout",
     "output_type": "stream",
     "text": [
      "Trek\n"
     ]
    }
   ],
   "source": [
    "print(bicycles[0].title())"
   ]
  },
  {
   "cell_type": "markdown",
   "metadata": {},
   "source": [
    "Python has a special syntax for accessing the last element in a list. \n",
    "\n",
    "By asking for the item at index **`-1`**, Python always returns the last item in the list:"
   ]
  },
  {
   "cell_type": "code",
   "execution_count": 46,
   "metadata": {},
   "outputs": [
    {
     "name": "stdout",
     "output_type": "stream",
     "text": [
      "specialized\n"
     ]
    }
   ],
   "source": [
    "# This syntax is quite useful,\n",
    "# because you’ll often want to access the last items in a list without knowing\n",
    "# exactly how long the list is. This convention extends to other negative index\n",
    "# values as well. The index -2 returns the second item from the end of the list,\n",
    "# the index -3 returns the third item from the end, and so forth.\n",
    "\n",
    "print(bicycles[-1])"
   ]
  },
  {
   "cell_type": "markdown",
   "metadata": {},
   "source": [
    "#### Print your entire list backwards"
   ]
  },
  {
   "cell_type": "code",
   "execution_count": 47,
   "metadata": {},
   "outputs": [
    {
     "name": "stdout",
     "output_type": "stream",
     "text": [
      "['specialized', 'redline', 'cannondale', 'trek']\n"
     ]
    }
   ],
   "source": [
    "print(bicycles[::-1])"
   ]
  },
  {
   "cell_type": "markdown",
   "metadata": {},
   "source": [
    "### Using Individual Values from a List\n",
    "\n",
    "You can use individual values from a list just as you would any other variable.\n",
    "For example, you can use f-strings to create a message based on a\n",
    "value from a list.\n",
    "\n",
    "Let’s try pulling the first bicycle from the list and composing a message\n",
    "using that value."
   ]
  },
  {
   "cell_type": "code",
   "execution_count": 48,
   "metadata": {},
   "outputs": [
    {
     "data": {
      "text/plain": [
       "['trek', 'cannondale', 'redline', 'specialized']"
      ]
     },
     "execution_count": 48,
     "metadata": {},
     "output_type": "execute_result"
    }
   ],
   "source": [
    "bicycles"
   ]
  },
  {
   "cell_type": "code",
   "execution_count": 49,
   "metadata": {},
   "outputs": [
    {
     "name": "stdout",
     "output_type": "stream",
     "text": [
      "My first bicycle was a Trek.\n",
      "My first bicycle was a Trek.\n"
     ]
    }
   ],
   "source": [
    "message = f'My first bicycle was a {bicycles[0].title()}.'\n",
    "print(message)\n",
    "message = f\"My first bicycle was a {bicycles[0].title()}.\"\n",
    "print(message)"
   ]
  },
  {
   "cell_type": "code",
   "execution_count": 50,
   "metadata": {},
   "outputs": [
    {
     "name": "stdout",
     "output_type": "stream",
     "text": [
      "My first vahicle was a honda truck.\n"
     ]
    }
   ],
   "source": [
    "vehicle_type = [\n",
    "    'motorcycle',\n",
    "    'scooter',\n",
    "    'sedan',\n",
    "    'truck',\n",
    "    'other'\n",
    "]\n",
    "\n",
    "vehicle_model = [\n",
    "    'honda',\n",
    "    'hyundai',\n",
    "    'chevrolet',\n",
    "    'ford'\n",
    "]\n",
    "\n",
    "message = f\"My first vahicle was a {vehicle_model[0]} {vehicle_type[3]}.\"\n",
    "print(message)\n"
   ]
  },
  {
   "cell_type": "markdown",
   "metadata": {},
   "source": [
    "### Changing, Adding, and Removing Elements in a List\n",
    "\n",
    "Most lists you create will be dynamic, meaning you’ll build a list and\n",
    "then add and remove elements from it as your program runs its course.\n",
    "\n",
    "The syntax for modifying an element is similar to the syntax for accessing\n",
    "an element in a list. To change an element, use the name of the list followed\n",
    "by the index of the element you want to change, and then provide the new\n",
    "value you want that item to have."
   ]
  },
  {
   "cell_type": "markdown",
   "metadata": {},
   "source": [
    "#### Modifying Elements in a List"
   ]
  },
  {
   "cell_type": "code",
   "execution_count": 51,
   "metadata": {},
   "outputs": [
    {
     "name": "stdout",
     "output_type": "stream",
     "text": [
      "['honda', 'yamaha', 'suzuki']\n"
     ]
    }
   ],
   "source": [
    "motorcycles = ['honda', 'yamaha', 'suzuki']\n",
    "print(motorcycles)"
   ]
  },
  {
   "cell_type": "code",
   "execution_count": 52,
   "metadata": {},
   "outputs": [
    {
     "data": {
      "text/plain": [
       "'honda'"
      ]
     },
     "execution_count": 52,
     "metadata": {},
     "output_type": "execute_result"
    }
   ],
   "source": [
    "motorcycles[0]"
   ]
  },
  {
   "cell_type": "code",
   "execution_count": 53,
   "metadata": {},
   "outputs": [],
   "source": [
    "motorcycles[0] = 'ducati'"
   ]
  },
  {
   "cell_type": "code",
   "execution_count": 54,
   "metadata": {},
   "outputs": [
    {
     "data": {
      "text/plain": [
       "'ducati'"
      ]
     },
     "execution_count": 54,
     "metadata": {},
     "output_type": "execute_result"
    }
   ],
   "source": [
    "motorcycles[0]"
   ]
  },
  {
   "cell_type": "markdown",
   "metadata": {},
   "source": [
    "The code at u defines the original list, with 'honda' as the first element.\n",
    "The code at v changes the value of the first item to 'ducati'. The output\n",
    "shows that the first item has indeed been changed, and the rest of the list\n",
    "stays the same.\n",
    "\n",
    "You can change the value of any item in a list, not just the first item."
   ]
  },
  {
   "cell_type": "markdown",
   "metadata": {},
   "source": [
    "#### Adding Elements to a List\n",
    "Python provides several ways to add new data to existing lists."
   ]
  },
  {
   "cell_type": "markdown",
   "metadata": {},
   "source": [
    "#### Appending Elements to the End of a List"
   ]
  },
  {
   "cell_type": "code",
   "execution_count": 55,
   "metadata": {},
   "outputs": [
    {
     "data": {
      "text/plain": [
       "['honda', 'yamaha', 'suzuki']"
      ]
     },
     "execution_count": 55,
     "metadata": {},
     "output_type": "execute_result"
    }
   ],
   "source": [
    "motorcycles = ['honda', 'yamaha', 'suzuki']\n",
    "motorcycles"
   ]
  },
  {
   "cell_type": "markdown",
   "metadata": {},
   "source": [
    "The **`append()`** method adds 'ducati' to the end of the list without\n",
    "affecting any of the other elements in the list.\n",
    "\n",
    "The append() method makes it easy to build lists dynamically. For\n",
    "example, you can start with an empty list and then add items to the list\n",
    "using a series of append() calls."
   ]
  },
  {
   "cell_type": "code",
   "execution_count": 56,
   "metadata": {},
   "outputs": [
    {
     "data": {
      "text/plain": [
       "['honda', 'yamaha', 'suzuki', 'ducati']"
      ]
     },
     "execution_count": 56,
     "metadata": {},
     "output_type": "execute_result"
    }
   ],
   "source": [
    "motorcycles.append('ducati')\n",
    "motorcycles"
   ]
  },
  {
   "cell_type": "markdown",
   "metadata": {},
   "source": [
    "Building lists this way is very common, because you often won’t know the data your users want to store in a program until after the program is running. To put your users in control, **`start by defining an empty list that will hold the users’ values`**. Then append each new value provided to the list you just created."
   ]
  },
  {
   "cell_type": "code",
   "execution_count": 57,
   "metadata": {},
   "outputs": [
    {
     "name": "stdout",
     "output_type": "stream",
     "text": [
      "['honda', 'yamaha', 'suzuki']\n"
     ]
    }
   ],
   "source": [
    "motorcycles = []\n",
    "\n",
    "motorcycles.append('honda')\n",
    "motorcycles.append('yamaha')\n",
    "motorcycles.append('suzuki')\n",
    "\n",
    "print(motorcycles)"
   ]
  },
  {
   "cell_type": "markdown",
   "metadata": {},
   "source": [
    "### Inserting Elements into a List\n",
    "You can add a new element at any position in your list by using the **`insert()`**\n",
    "method. You do this by specifying the index of the new element and the\n",
    "value of the new item."
   ]
  },
  {
   "cell_type": "code",
   "execution_count": 58,
   "metadata": {},
   "outputs": [
    {
     "name": "stdout",
     "output_type": "stream",
     "text": [
      "['honda', 'yamaha', 'suzuki']\n",
      "['ducati', 'honda', 'yamaha', 'suzuki']\n"
     ]
    }
   ],
   "source": [
    "motorcycles = ['honda', 'yamaha', 'suzuki']\n",
    "print(motorcycles)\n",
    "\n",
    "# In this example, the below code inserts the value 'ducati' at the beginning\n",
    "# of the list. The insert() method opens a space at position 0 and stores\n",
    "# the value 'ducati' at that location. This operation shifts every other value\n",
    "# in the list one position to the right:\n",
    "motorcycles.insert(0, 'ducati')\n",
    "print(motorcycles)"
   ]
  },
  {
   "cell_type": "markdown",
   "metadata": {},
   "source": [
    "### Removing Elements from a List\n",
    "Often, you’ll want to remove an item or a set of items from a list. For\n",
    "example, when a player shoots down an alien from the sky, you’ll most\n",
    "likely want to remove it from the list of active aliens. Or when a user\n",
    "decides to cancel their account on a web application you created, you’ll\n",
    "want to remove that user from the list of active users. You can remove an\n",
    "item according to its position in the list or according to its value."
   ]
  },
  {
   "cell_type": "markdown",
   "metadata": {},
   "source": [
    "#### Removing an Item Using the **`del`** Statement"
   ]
  },
  {
   "cell_type": "code",
   "execution_count": 59,
   "metadata": {},
   "outputs": [
    {
     "name": "stdout",
     "output_type": "stream",
     "text": [
      "['honda', 'yamaha', 'suzuki']\n",
      "['yamaha', 'suzuki']\n",
      "\n",
      "['honda', 'yamaha', 'suzuki']\n",
      "['honda', 'suzuki']\n"
     ]
    }
   ],
   "source": [
    "# If you know the position of the item you want to remove from a list, you can\n",
    "# use the del statement.\n",
    "motorcycles = ['honda', 'yamaha', 'suzuki']\n",
    "print(motorcycles)\n",
    "\n",
    "# The below code uses del to remove the first item, 'honda', from the list of\n",
    "# motorcycles:\n",
    "del motorcycles[0]\n",
    "print(motorcycles)\n",
    "print(\"\")\n",
    "\n",
    "# You can remove an item from any position in a list using the del statement\n",
    "# if you know its index. For example, here’s how to remove the second\n",
    "# item, 'yamaha', in the list:\n",
    "motorcycles = ['honda', 'yamaha', 'suzuki']\n",
    "print(motorcycles)\n",
    "\n",
    "del motorcycles[1]\n",
    "print(motorcycles)\n",
    "\n",
    "# In both examples, you can no longer access the value that was removed\n",
    "# from the list after the del statement is used."
   ]
  },
  {
   "cell_type": "markdown",
   "metadata": {},
   "source": [
    "#### Removing an Item Using the **`pop()`** Method\n",
    "\n",
    "Sometimes you’ll want to use the value of an item after you remove it from a\n",
    "list. For example, you might want to get the x and y position of an alien that\n",
    "was just shot down, so you can draw an explosion at that position. In a web\n",
    "application, you might want to remove a user from a list of active members\n",
    "and then add that user to a list of inactive members.\n",
    "\n",
    "**`The pop() method removes the last item in a list, but it lets you work with that item after removing it`**. The term pop comes from thinking of a\n",
    "list as a stack of items and popping one item off the top of the stack. In\n",
    "this analogy, the top of a stack corresponds to the end of a list."
   ]
  },
  {
   "cell_type": "code",
   "execution_count": 60,
   "metadata": {},
   "outputs": [
    {
     "name": "stdout",
     "output_type": "stream",
     "text": [
      "['honda', 'yamaha', 'suzuki']\n",
      "['honda', 'yamaha']\n",
      "suzuki\n"
     ]
    }
   ],
   "source": [
    "motorcycles = ['honda', 'yamaha', 'suzuki']\n",
    "print(motorcycles)\n",
    "\n",
    "# We pop a value from the list and store that value in the variable popped_motorcycle.\n",
    "popped_motorcycle = motorcycles.pop()\n",
    "print(motorcycles)\n",
    "print(popped_motorcycle)"
   ]
  },
  {
   "cell_type": "markdown",
   "metadata": {},
   "source": [
    "How might this pop() method be useful? Imagine that the motorcycles\n",
    "in the list are stored in chronological order according to when we owned\n",
    "them. If this is the case, we can use the pop() method to print a statement\n",
    "about the last motorcycle we bought:"
   ]
  },
  {
   "cell_type": "code",
   "execution_count": 61,
   "metadata": {},
   "outputs": [
    {
     "name": "stdout",
     "output_type": "stream",
     "text": [
      "['honda', 'yamaha', 'suzuki']\n",
      "The last motorcycle I owned was a Suzuki.\n"
     ]
    }
   ],
   "source": [
    "motorcycles = ['honda', 'yamaha', 'suzuki']\n",
    "print(motorcycles)\n",
    "\n",
    "last_owned = motorcycles.pop()\n",
    "\n",
    "# The output is a simple sentence about the most recent motorcycle we owned:\n",
    "print(f\"The last motorcycle I owned was a {last_owned.title()}.\")"
   ]
  },
  {
   "cell_type": "markdown",
   "metadata": {},
   "source": [
    "#### Popping Items from any Position in a List\n",
    "You can use pop() to remove an item from any position in a list by including\n",
    "the index of the item you want to remove in parentheses."
   ]
  },
  {
   "cell_type": "code",
   "execution_count": 62,
   "metadata": {},
   "outputs": [
    {
     "name": "stdout",
     "output_type": "stream",
     "text": [
      "['honda', 'yamaha', 'suzuki']\n",
      "The first motorcycle I owned was a Honda.\n"
     ]
    }
   ],
   "source": [
    "motorcycles = ['honda', 'yamaha', 'suzuki']\n",
    "print(motorcycles)\n",
    "\n",
    "# We start by popping the first motorcycle in the list, and then we\n",
    "# print a message about that motorcycle. The output is a simple sentence\n",
    "# describing the first motorcycle I ever owned:\n",
    "first_owned = motorcycles.pop(0)\n",
    "print(f\"The first motorcycle I owned was a {first_owned.title()}.\")"
   ]
  },
  {
   "cell_type": "markdown",
   "metadata": {},
   "source": [
    "**`Remember that each time you use pop(), the item you work with is no longer stored in the list.`**\n",
    "If you’re unsure whether to use the del statement or the pop() method,\n",
    "here’s a simple way to decide: when you want to delete an item from a list and not use that item in any way, use the **`del`** statement; if you want to use an item as you remove it, use the **`pop()`** method."
   ]
  },
  {
   "cell_type": "markdown",
   "metadata": {},
   "source": [
    "#### Removing an Item by Value\n",
    "Sometimes you won’t know the position of the value you want to remove\n",
    "from a list. If you only know the value of the item you want to remove, you\n",
    "can use the **`remove()`** method."
   ]
  },
  {
   "cell_type": "code",
   "execution_count": 63,
   "metadata": {},
   "outputs": [
    {
     "name": "stdout",
     "output_type": "stream",
     "text": [
      "['honda', 'yamaha', 'suzuki', 'ducati', 'ducati']\n",
      "['honda', 'yamaha', 'suzuki', 'ducati']\n"
     ]
    }
   ],
   "source": [
    "# For example, let’s say we want to remove the value 'ducati' from the list of\n",
    "# motorcycles.\n",
    "motorcycles = ['honda', 'yamaha', 'suzuki', 'ducati', 'ducati']\n",
    "print(motorcycles)\n",
    "\n",
    "# The below code tells Python to figure out where 'ducati' appears in the\n",
    "# list and remove that element:\n",
    "motorcycles.remove('ducati')\n",
    "print(motorcycles)"
   ]
  },
  {
   "cell_type": "markdown",
   "metadata": {},
   "source": [
    "##### **Note**\n",
    "\n",
    "The remove() method deletes only the first occurrence of the value you specify. If there’s\n",
    "a possibility the value appears more than once in the list, you’ll need to use a loop\n",
    "to make sure all occurrences of the value are removed. You’ll learn how to do this in\n",
    "Chapter 7."
   ]
  },
  {
   "cell_type": "markdown",
   "metadata": {},
   "source": [
    "You can also use the **`remove()`** method to work with a value that’s being\n",
    "removed from a list. Let’s remove the value 'ducati' and print a reason for\n",
    "removing it from the list:"
   ]
  },
  {
   "cell_type": "code",
   "execution_count": 64,
   "metadata": {},
   "outputs": [
    {
     "name": "stdout",
     "output_type": "stream",
     "text": [
      "['honda', 'yamaha', 'suzuki', 'ducati']\n",
      "['honda', 'yamaha', 'suzuki']\n",
      "\n",
      "A Ducati is too expensive for me.\n"
     ]
    }
   ],
   "source": [
    "motorcycles = ['honda', 'yamaha', 'suzuki', 'ducati']\n",
    "print(motorcycles)\n",
    "\n",
    "# After defining the list at u, we assign the value 'ducati' to a variable\n",
    "# called too_expensive v. We then use this variable to tell Python which value\n",
    "# to remove from the list at w. At x the value 'ducati' has been removed\n",
    "# from the list but is still accessible through the variable too_expensive, allowing\n",
    "# us to print a statement about why we removed 'ducati' from the list of\n",
    "# motorcycles:\n",
    "too_expensive = 'ducati'\n",
    "motorcycles.remove(too_expensive)\n",
    "print(motorcycles)\n",
    "print(f\"\\nA {too_expensive.title()} is too expensive for me.\")"
   ]
  },
  {
   "cell_type": "markdown",
   "metadata": {},
   "source": [
    "#### Try It Yourself\n",
    "The following exercises are a bit more complex than those in Chapter 2, but\n",
    "they give you an opportunity to use lists in all of the ways described.\n",
    "\n",
    "3-4. Guest List: If you could invite anyone, living or deceased, to dinner, who\n",
    "would you invite? Make a list that includes at least three people you’d like to\n",
    "invite to dinner. Then use your list to print a message to each person, inviting\n",
    "them to dinner.\n",
    "\n",
    "3-5. Changing Guest List: You just heard that one of your guests can’t make the\n",
    "dinner, so you need to send out a new set of invitations. You’ll have to think of\n",
    "someone else to invite.\n",
    "- Start with your program from Exercise 3-4. Add a print() call at the end\n",
    "of your program stating the name of the guest who can’t make it.\n",
    "- Modify your list, replacing the name of the guest who can’t make it with\n",
    "the name of the new person you are inviting.\n",
    "- Print a second set of invitation messages, one for each person who is still\n",
    "in your list.\n",
    "\n",
    "3-6. More Guests: You just found a bigger dinner table, so now more space is\n",
    "available. Think of three more guests to invite to dinner.\n",
    "- Start with your program from Exercise 3-4 or Exercise 3-5. Add a print()\n",
    "call to the end of your program informing people that you found a bigger\n",
    "dinner table.\n",
    "- Use insert() to add one new guest to the beginning of your list.\n",
    "- Use insert() to add one new guest to the middle of your list.\n",
    "- Use append() to add one new guest to the end of your list.\n",
    "- Print a new set of invitation messages, one for each person in your list."
   ]
  },
  {
   "cell_type": "code",
   "execution_count": 65,
   "metadata": {},
   "outputs": [
    {
     "name": "stdout",
     "output_type": "stream",
     "text": [
      "['john', 'rick', 'joe', 'moe', 'harry']\n",
      "['john', 'joe', 'moe', 'harry']\n"
     ]
    }
   ],
   "source": [
    "guest_list = ['john', 'rick', 'joe', 'moe', 'harry']\n",
    "print(guest_list)\n",
    "\n",
    "absent_guest = 'rick'\n",
    "\n",
    "guest_list.remove(absent_guest)\n",
    "print(guest_list)"
   ]
  },
  {
   "cell_type": "code",
   "execution_count": 66,
   "metadata": {},
   "outputs": [
    {
     "name": "stdout",
     "output_type": "stream",
     "text": [
      "['john', 'elizabeth', 'joe', 'moe', 'harry']\n",
      "\n",
      "shirley\n",
      "Hi, Avery, welcome to my partaaayyyy!\n",
      "Hi, John, welcome to my partaaayyyy!\n",
      "Hi, Elizabeth, welcome to my partaaayyyy!\n",
      "Hi, Alex, welcome to my partaaayyyy!\n",
      "Hi, Joe, welcome to my partaaayyyy!\n",
      "Hi, Moe, welcome to my partaaayyyy!\n",
      "Hi, Harry, welcome to my partaaayyyy!\n",
      "Hi, Meredith, welcome to my partaaayyyy!\n",
      "Hi, Derek, welcome to my partaaayyyy!\n",
      "Hi, Bob, welcome to my partaaayyyy!\n",
      "Hi, Michael, welcome to my partaaayyyy!\n",
      "Hi, Shirley, welcome to my partaaayyyy!\n"
     ]
    }
   ],
   "source": [
    "guest_list = ['john', 'rick', 'joe', 'moe', 'harry']\n",
    "new_guest = 'elizabeth'\n",
    "guest_list[1] = new_guest\n",
    "print(guest_list)\n",
    "print(\"\")\n",
    "\n",
    "guest_list.append('meredith')\n",
    "guest_list.append('derek')\n",
    "guest_list.append('michael')\n",
    "\n",
    "guest_list.insert(0, 'avery')\n",
    "guest_list.insert(3, 'alex')\n",
    "guest_list.insert(-1, 'bob')\n",
    "guest_list.append('shirley')\n",
    "print(guest_list[-1])\n",
    "\n",
    "def guest_invitations(guest_list):\n",
    "    for guests in guest_list:\n",
    "        print(f\"Hi, {guests.title()}, welcome to my partaaayyyy!\")\n",
    "guest_invitations(guest_list)"
   ]
  },
  {
   "cell_type": "markdown",
   "metadata": {},
   "source": [
    "3-7. Shrinking Guest List: You just found out that your new dinner table won’t\n",
    "arrive in time for the dinner, and you have space for only two guests.\n",
    "- Start with your program from Exercise 3-6. Add a new line that prints a\n",
    "message saying that you can invite only two people for dinner.\n",
    "- Use pop() to remove guests from your list one at a time until only two\n",
    "names remain in your list. Each time you pop a name from your list, print\n",
    "a message to that person letting them know you’re sorry you can’t invite\n",
    "them to dinner.\n",
    "- Print a message to each of the two people still on your list, letting them\n",
    "know they’re still invited.\n",
    "- Use del to remove the last two names from your list, so you have an empty\n",
    "list. Print your list to make sure you actually have an empty list at the end\n",
    "of your program."
   ]
  },
  {
   "cell_type": "code",
   "execution_count": 67,
   "metadata": {},
   "outputs": [
    {
     "name": "stdout",
     "output_type": "stream",
     "text": [
      "Sorry, I can only invite two people to dinner. The rest of you must suffer.\n",
      "Avery, John, you are invited to the feast.\n"
     ]
    }
   ],
   "source": [
    "# Shrinking guest list\n",
    "def guest_invitations_shrink(guest_list):\n",
    "    print(\"Sorry, I can only invite two people to dinner. The rest of you must suffer.\")\n",
    "    while len(guest_list) > 2:\n",
    "        guest_list.pop()\n",
    "guest_invitations_shrink(guest_list)\n",
    "print(f\"{guest_list[0].title()}, {guest_list[1].title()}, you are invited to the feast.\")"
   ]
  },
  {
   "cell_type": "code",
   "execution_count": 68,
   "metadata": {},
   "outputs": [
    {
     "name": "stdout",
     "output_type": "stream",
     "text": [
      "['avery', 'john']\n"
     ]
    }
   ],
   "source": [
    "print(guest_list)"
   ]
  },
  {
   "cell_type": "code",
   "execution_count": 69,
   "metadata": {},
   "outputs": [
    {
     "name": "stdout",
     "output_type": "stream",
     "text": [
      "[]\n"
     ]
    }
   ],
   "source": [
    "def cancel_party(guest_list):\n",
    "    while len(guest_list) > 0:\n",
    "        for guest in guest_list:\n",
    "            del guest_list[-1]\n",
    "cancel_party(guest_list)\n",
    "print(guest_list)"
   ]
  },
  {
   "cell_type": "markdown",
   "metadata": {},
   "source": [
    "## Organizing a List\n",
    "### Sorting a List Permanently with the **`sort()`** Method"
   ]
  },
  {
   "cell_type": "markdown",
   "metadata": {},
   "source": [
    "Python’s sort() method makes it relatively easy to sort a list. Imagine we\n",
    "have a list of cars and want to change the order of the list to store them\n",
    "alphabetically. To keep the task simple, let’s assume that all the values in\n",
    "the list are lowercase.\n",
    "\n",
    "The **`sort()`** method **changes the order of the list permanently**.\n",
    "The cars are now in alphabetical order, and we can never revert to\n",
    "the original order:"
   ]
  },
  {
   "cell_type": "code",
   "execution_count": 70,
   "metadata": {},
   "outputs": [
    {
     "name": "stdout",
     "output_type": "stream",
     "text": [
      "['audi', 'bmw', 'subaru', 'toyota']\n"
     ]
    }
   ],
   "source": [
    "cars = ['bmw', 'audi', 'toyota', 'subaru']\n",
    "cars.sort()\n",
    "print(cars)"
   ]
  },
  {
   "cell_type": "markdown",
   "metadata": {},
   "source": [
    "You can also sort this list in **reverse alphabetical order** by passing the\n",
    "argument **`reverse=True`** to the **sort()** method. The following example sorts\n",
    "the list of cars in reverse alphabetical order:\n",
    "\n",
    "Again, **the order of the list is permanently changed**:"
   ]
  },
  {
   "cell_type": "code",
   "execution_count": 71,
   "metadata": {},
   "outputs": [
    {
     "name": "stdout",
     "output_type": "stream",
     "text": [
      "['toyota', 'subaru', 'bmw', 'audi']\n"
     ]
    }
   ],
   "source": [
    "cars = ['bmw', 'audi', 'toyota', 'subaru']\n",
    "cars.sort(reverse=True)\n",
    "print(cars)"
   ]
  },
  {
   "cell_type": "markdown",
   "metadata": {},
   "source": [
    "### Sorting a List Temporarily with the sorted() Function\n",
    "\n",
    "**To maintain the original order of a list but present it in a sorted order**, you\n",
    "can use the **`sorted()`** function. The **`sorted()`** function lets you display your list\n",
    "in a particular order but doesn’t affect the actual order of the list."
   ]
  },
  {
   "cell_type": "markdown",
   "metadata": {},
   "source": [
    "**Note:**\n",
    "\n",
    "**Sorting a list alphabetically is a bit more complicated when all the values are not in lowercase**. \n",
    "There are several ways to interpret capital letters when determining a sort\n",
    "order, and specifying the exact order can be more complex than we want to deal with\n",
    "at this time. However, most approaches to sorting will build directly on what you\n",
    "learned in this section."
   ]
  },
  {
   "cell_type": "code",
   "execution_count": 78,
   "metadata": {},
   "outputs": [
    {
     "name": "stdout",
     "output_type": "stream",
     "text": [
      "Here is the original list:\n",
      "['bmw', 'audi', 'toyota', 'subaru']\n",
      "\n",
      "Here is the sorted list:\n",
      "['audi', 'bmw', 'subaru', 'toyota']\n",
      "\n",
      "Here is the sorted list in reverse:\n",
      "['toyota', 'subaru', 'bmw', 'audi']\n",
      "\n",
      "Here is the original list again:\n",
      "['bmw', 'audi', 'toyota', 'subaru']\n"
     ]
    }
   ],
   "source": [
    "cars = ['bmw', 'audi', 'toyota', 'subaru']\n",
    "\n",
    "print(\"Here is the original list:\")\n",
    "print(cars)\n",
    "\n",
    "print(\"\\nHere is the sorted list:\")\n",
    "print(sorted(cars))\n",
    "\n",
    "print(\"\\nHere is the sorted list in reverse:\")\n",
    "print(sorted(cars, reverse=True))\n",
    "\n",
    "# Notice that the list still exists in its original order after the sorted()\n",
    "# function has been used. The sorted() function can also accept a reverse=True\n",
    "# argument if you want to display a list in reverse alphabetical order.\n",
    "\n",
    "print(\"\\nHere is the original list again:\")\n",
    "print(cars)"
   ]
  },
  {
   "cell_type": "markdown",
   "metadata": {},
   "source": [
    "### Printing a List in Reverse Order\n",
    "\n",
    "To reverse the original order of a list, you can use the **`reverse()`** method.\n",
    "If we originally stored the list of cars in chronological order according to\n",
    "when we owned them, we could easily rearrange the list into reverse chronological\n",
    "order:\n",
    "\n",
    "Notice that reverse() doesn’t sort backward alphabetically; it simply\n",
    "reverses the order of the list:\n",
    "\n",
    "The reverse() method **changes the order of a list permanently**, but you\n",
    "can revert to the original order anytime by applying reverse() to the same\n",
    "list a second time."
   ]
  },
  {
   "cell_type": "code",
   "execution_count": 80,
   "metadata": {},
   "outputs": [
    {
     "name": "stdout",
     "output_type": "stream",
     "text": [
      "['bmw', 'audi', 'toyota', 'subaru']\n",
      "['subaru', 'toyota', 'audi', 'bmw']\n"
     ]
    }
   ],
   "source": [
    "cars = ['bmw', 'audi', 'toyota', 'subaru']\n",
    "print(cars)\n",
    "\n",
    "cars.reverse()\n",
    "print(cars)"
   ]
  },
  {
   "cell_type": "markdown",
   "metadata": {},
   "source": [
    "### Finding the Length of a List\n",
    "\n",
    "You can quickly find the length of a list by using the **`len()`** function. The list\n",
    "in this example has four items, so its length is 4:\n",
    "\n",
    "You’ll find len() useful when you need to identify the number of aliens\n",
    "that still need to be shot down in a game, determine the amount of data\n",
    "you have to manage in a visualization, or figure out the number of registered\n",
    "users on a website, among other tasks.\n",
    "\n",
    "**Note:** Python counts the items in a list starting with one, so you shouldn’t run into any offby-\n",
    "one errors when determining the length of a list."
   ]
  },
  {
   "cell_type": "code",
   "execution_count": 81,
   "metadata": {},
   "outputs": [
    {
     "name": "stdout",
     "output_type": "stream",
     "text": [
      "['bmw', 'audi', 'toyota', 'subaru']\n"
     ]
    },
    {
     "data": {
      "text/plain": [
       "4"
      ]
     },
     "execution_count": 81,
     "metadata": {},
     "output_type": "execute_result"
    }
   ],
   "source": [
    "cars = ['bmw', 'audi', 'toyota', 'subaru']\n",
    "print(cars)\n",
    "len(cars)"
   ]
  },
  {
   "cell_type": "markdown",
   "metadata": {},
   "source": [
    "### Try It Yourself\n",
    "3-8. Seeing the World: Think of at least five places in the world you’d like to\n",
    "visit.\n",
    "- Store the locations in a list. Make sure the list is not in alphabetical order.\n",
    "- Print your list in its original order. Don’t worry about printing the list neatly,\n",
    "just print it as a raw Python list.\n",
    "- Use sorted() to print your list in alphabetical order without modifying the\n",
    "actual list.\n",
    "- Show that your list is still in its original order by printing it.\n",
    "- Use sorted() to print your list in reverse alphabetical order without changing\n",
    "the order of the original list.\n",
    "- Show that your list is still in its original order by printing it again.\n",
    "- Use reverse() to change the order of your list. Print the list to show that its\n",
    "order has changed.\n",
    "- Use reverse() to change the order of your list again. Print the list to show\n",
    "it’s back to its original order.\n",
    "- Use sort() to change your list so it’s stored in alphabetical order. Print the\n",
    "list to show that its order has been changed.\n",
    "- Use sort() to change your list so it’s stored in reverse alphabetical order.\n",
    "Print the list to show that its order has changed.\n",
    "\n",
    "3-9. Dinner Guests: Working with one of the programs from Exercises 3-4\n",
    "through 3-7 (page 42), use len() to print a message indicating the number\n",
    "of people you are inviting to dinner.\n",
    "\n",
    "3-10. Every Function: Think of something you could store in a list. For example,\n",
    "you could make a list of mountains, rivers, countries, cities, languages, or anything\n",
    "else you’d like. Write a program that creates a list containing these items\n",
    "and then uses each function introduced in this chapter at least once."
   ]
  },
  {
   "cell_type": "markdown",
   "metadata": {},
   "source": [
    "## Avoiding Index Errors When Working with Lists"
   ]
  },
  {
   "cell_type": "markdown",
   "metadata": {},
   "source": [
    "One type of error is common to see when you’re working with lists for the\n",
    "first time. Let’s say you have a list with three items, and you ask for the\n",
    "fourth item:\n",
    "\n",
    "This example results in an index error:\n",
    "\n",
    "Traceback (most recent call last):\n",
    "\n",
    "- File \"motorcycles.py\", line 2, in <module>\n",
    "- print(motorcycles[3])\n",
    "- IndexError: list index out of range"
   ]
  },
  {
   "cell_type": "code",
   "execution_count": 82,
   "metadata": {},
   "outputs": [
    {
     "ename": "IndexError",
     "evalue": "list index out of range",
     "output_type": "error",
     "traceback": [
      "\u001b[1;31m---------------------------------------------------------------------------\u001b[0m",
      "\u001b[1;31mIndexError\u001b[0m                                Traceback (most recent call last)",
      "\u001b[1;32m~\\AppData\\Local\\Temp/ipykernel_14932/1062993423.py\u001b[0m in \u001b[0;36m<module>\u001b[1;34m\u001b[0m\n\u001b[0;32m      1\u001b[0m \u001b[0mmotorcycles\u001b[0m \u001b[1;33m=\u001b[0m \u001b[1;33m[\u001b[0m\u001b[1;34m'honda'\u001b[0m\u001b[1;33m,\u001b[0m \u001b[1;34m'yamaha'\u001b[0m\u001b[1;33m,\u001b[0m \u001b[1;34m'suzuki'\u001b[0m\u001b[1;33m]\u001b[0m\u001b[1;33m\u001b[0m\u001b[1;33m\u001b[0m\u001b[0m\n\u001b[1;32m----> 2\u001b[1;33m \u001b[0mprint\u001b[0m\u001b[1;33m(\u001b[0m\u001b[0mmotorcycles\u001b[0m\u001b[1;33m[\u001b[0m\u001b[1;36m3\u001b[0m\u001b[1;33m]\u001b[0m\u001b[1;33m)\u001b[0m\u001b[1;33m\u001b[0m\u001b[1;33m\u001b[0m\u001b[0m\n\u001b[0m",
      "\u001b[1;31mIndexError\u001b[0m: list index out of range"
     ]
    }
   ],
   "source": [
    "# motorcycles = ['honda', 'yamaha', 'suzuki']\n",
    "# print(motorcycles[3])"
   ]
  },
  {
   "cell_type": "markdown",
   "metadata": {},
   "source": [
    "Python attempts to give you the item at index 3. But when it searches\n",
    "the list, no item in motorcycles has an index of 3. Because of the off-by-one\n",
    "nature of indexing in lists, this error is typical. People think the third item\n",
    "is item number 3, because they start counting at 1. But in Python the third\n",
    "item is number 2, because it starts indexing at 0.\n",
    "\n",
    "An index error means Python can’t find an item at the index you\n",
    "requested. If an index error occurs in your program, try adjusting the index\n",
    "you’re asking for by one. Then run the program again to see if the results\n",
    "are correct.\n",
    "\n",
    "Keep in mind that whenever you want to access the last item in a list\n",
    "you use the index -1. This will always work, even if your list has changed\n",
    "size since the last time you accessed it:\n",
    "\n",
    "The index -1 always returns the last item in a list, in this case the value\n",
    "'suzuki':"
   ]
  },
  {
   "cell_type": "code",
   "execution_count": 83,
   "metadata": {},
   "outputs": [
    {
     "name": "stdout",
     "output_type": "stream",
     "text": [
      "suzuki\n"
     ]
    }
   ],
   "source": [
    "motorcycles = ['honda', 'yamaha', 'suzuki']\n",
    "print(motorcycles[-1])"
   ]
  },
  {
   "cell_type": "markdown",
   "metadata": {},
   "source": [
    "The only time this approach will cause an error is when you request the\n",
    "last item from an empty list:\n",
    "\n",
    "No items are in motorcycles, so Python returns another index error:\n",
    "\n",
    "Traceback (most recent call last):\n",
    "\n",
    "- File \"motorcyles.py\", line 3, in <module>\n",
    "- print(motorcycles[-1])\n",
    "- IndexError: list index out of range\n",
    "\n",
    "**Note:** If an index error occurs and you can’t figure out how to resolve it, try printing your\n",
    "list or just printing the length of your list. Your list might look much different than\n",
    "you thought it did, especially if it has been managed dynamically by your program.\n",
    "Seeing the actual list, or the exact number of items in your list, can help you sort out\n",
    "such logical errors."
   ]
  },
  {
   "cell_type": "code",
   "execution_count": 84,
   "metadata": {},
   "outputs": [
    {
     "ename": "IndexError",
     "evalue": "list index out of range",
     "output_type": "error",
     "traceback": [
      "\u001b[1;31m---------------------------------------------------------------------------\u001b[0m",
      "\u001b[1;31mIndexError\u001b[0m                                Traceback (most recent call last)",
      "\u001b[1;32m~\\AppData\\Local\\Temp/ipykernel_14932/1745818171.py\u001b[0m in \u001b[0;36m<module>\u001b[1;34m\u001b[0m\n\u001b[0;32m      1\u001b[0m \u001b[0mmotorcycles\u001b[0m \u001b[1;33m=\u001b[0m \u001b[1;33m[\u001b[0m\u001b[1;33m]\u001b[0m\u001b[1;33m\u001b[0m\u001b[1;33m\u001b[0m\u001b[0m\n\u001b[1;32m----> 2\u001b[1;33m \u001b[0mprint\u001b[0m\u001b[1;33m(\u001b[0m\u001b[0mmotorcycles\u001b[0m\u001b[1;33m[\u001b[0m\u001b[1;33m-\u001b[0m\u001b[1;36m1\u001b[0m\u001b[1;33m]\u001b[0m\u001b[1;33m)\u001b[0m\u001b[1;33m\u001b[0m\u001b[1;33m\u001b[0m\u001b[0m\n\u001b[0m",
      "\u001b[1;31mIndexError\u001b[0m: list index out of range"
     ]
    }
   ],
   "source": [
    "# motorcycles = []\n",
    "# print(motorcycles[-1])"
   ]
  },
  {
   "cell_type": "markdown",
   "metadata": {},
   "source": [
    "### Try It Yourself\n",
    "3-11. Intentional Error: If you haven’t received an index error in one of your\n",
    "programs yet, try to make one happen. Change an index in one of your programs\n",
    "to produce an index error. Make sure you correct the error before closing\n",
    "the program."
   ]
  },
  {
   "cell_type": "markdown",
   "metadata": {},
   "source": [
    "## Ch. 3 Summary\n",
    "In this chapter you learned what lists are and how to work with the individual\n",
    "items in a list. You learned how to define a list and how to add and\n",
    "remove elements. You learned to sort lists permanently and temporarily for\n",
    "display purposes. You also learned how to find the length of a list and how\n",
    "to avoid index errors when you’re working with lists.\n",
    "In Chapter 4 you’ll learn how to work with items in a list more efficiently.\n",
    "By looping through each item in a list using just a few lines of code\n",
    "you’ll be able to work efficiently, even when your list contains thousands or\n",
    "millions of items."
   ]
  },
  {
   "cell_type": "code",
   "execution_count": null,
   "metadata": {},
   "outputs": [],
   "source": []
  }
 ],
 "metadata": {
  "kernelspec": {
   "display_name": "Python 3.8.10 64-bit",
   "language": "python",
   "name": "python3"
  },
  "language_info": {
   "codemirror_mode": {
    "name": "ipython",
    "version": 3
   },
   "file_extension": ".py",
   "mimetype": "text/x-python",
   "name": "python",
   "nbconvert_exporter": "python",
   "pygments_lexer": "ipython3",
   "version": "3.8.10"
  },
  "orig_nbformat": 4,
  "vscode": {
   "interpreter": {
    "hash": "31f2aee4e71d21fbe5cf8b01ff0e069b9275f58929596ceb00d14d90e3e16cd6"
   }
  }
 },
 "nbformat": 4,
 "nbformat_minor": 2
}
