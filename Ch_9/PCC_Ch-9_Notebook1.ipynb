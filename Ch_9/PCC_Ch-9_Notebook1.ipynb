{
 "cells": [
  {
   "cell_type": "markdown",
   "metadata": {},
   "source": [
    "# Ch. 9: Classes\n",
    "\n",
    "In *object-oriented programming* you write *classes* that represebt real-world things and situations, and you create *objects* based on these classes. When you write a class, you define the general behavior that a whole category of objects can have.\n",
    "\n",
    "Making an object from a class if called *instantiation*, and you work with *instances* of a class.\n",
    "-  In this chapter you’ll write classes and create instances of those classes. You’ll specify the kind of information that can be stored in instances, and you’ll define actions that can be taken with these instances. You’ll also write classes that extend the functionality of existing classes, so similar classes can share code efficiently. You’ll store your classes in mod-ules and import classes written by other programmers into your own pro-gram files.\n"
   ]
  },
  {
   "cell_type": "markdown",
   "metadata": {},
   "source": [
    "# Creating and Using a Class"
   ]
  },
  {
   "cell_type": "markdown",
   "metadata": {},
   "source": [
    "## Creating a Class\n",
    "### Creating the Dog Class\n",
    "\n",
    "Each instance created from the Dog class will store a name and an age, and we’ll give each dog the ability to sit() and roll_over():\n",
    "\n",
    "1. Define a class *Dog*\n",
    "2. Write a docstring describing what this class does\n",
    "   \n",
    "### The `__init__()` Method\n",
    "3. **`__init__`** is a special method that Python runs automatically whenever we create a new instance based on the Dog class\n",
    "   1. Has `two leading underscores and two trailing underscores`, **a convention that helps prevent Python's default method names of conflicting with your method names.**\n",
    "      1. If you do not use the underscores correctly, the method won't be called automatically when you use your class, which can result in errors that are difficult to identify.\n",
    "\n",
    "We define the `__init__()` method to have three parameters: `self`, `name`, and `age`. ***The self parameter is required in the method definition, and it must come first before the other parameters.*** It must be included in the definition because when Python calls this method later (to create an instance of Dog), the method call will automatically pass the self argument. *Every method call associated with an instance automatically passes self, which is a reference to the instance itself; it gives the individual instance access to the attributes and methods in the class.* When we make an instance of Dog, Python will call the `__init__()` method from the Dog class. ***We’ll pass `Dog()` a name and an age as arguments; self is passed automatically, so we don’t need to pass it.*** Whenever we want to make an instance from the Dog class, we’ll provide values for only the last two parameters, name and age.\n",
    "\n",
    "1. Two of the variables have the prefix `self`. ***Any variable prefixed with `self` is available to every method in the class, and we'll also be able to access these variables through any instance created from the class.***\n",
    "   1. The line `self.name = name` takes the value associated with the parameter `name` and assigns it to the variable `name`, which is then attached to the instance being created.\n",
    "      1. Variables that are accessible through instances like this are called `attributes`.\n",
    "2. The Dog class has two other methods defined: sit() and roll_over(). Because these methods don’t need additional information to run, we just define them to have one parameter, `self`. The instances we create later will have access to these methods. In other words, they’ll be able to sit and roll over."
   ]
  },
  {
   "cell_type": "code",
   "execution_count": 2,
   "metadata": {},
   "outputs": [],
   "source": [
    "class Dog:\n",
    "    \"\"\"Aimple attempt to model a dog.\"\"\"\n",
    "\n",
    "    def __init__(self, name, age):\n",
    "        \"\"\"Initialize name and age attributes.\"\"\"\n",
    "        self.name = name\n",
    "        self.age = age\n",
    "\n",
    "    def sit(self):\n",
    "        \"\"\"Simulate a dog sitting in response to a command.\"\"\"\n",
    "        print(f\"{self.name} is now sitting.\")\n",
    "\n",
    "    def roll_over(self):\n",
    "        \"\"\"Simulate rolling over in response to a command.\"\"\"\n",
    "        print(f\"{self.name} rolled over!\")"
   ]
  },
  {
   "cell_type": "markdown",
   "metadata": {},
   "source": [
    "## Making an Instance from a Class\n",
    "\n",
    "Think of a class as a set of instructions for how to make an instance. The class Dog is a set of instructions that tells Python how to make individual instances representing specific dogs.Let’s make an instance representing a specific dog:"
   ]
  },
  {
   "cell_type": "code",
   "execution_count": 3,
   "metadata": {},
   "outputs": [
    {
     "name": "stdout",
     "output_type": "stream",
     "text": [
      "My dog's name is Willie.\n",
      "My dog is 6.\n"
     ]
    }
   ],
   "source": [
    "class Dog:\n",
    "    \"\"\"Aimple attempt to model a dog.\"\"\"\n",
    "\n",
    "    def __init__(self, name, age):\n",
    "        \"\"\"Initialize name and age attributes.\"\"\"\n",
    "        self.name = name\n",
    "        self.age = age\n",
    "\n",
    "    def sit(self):\n",
    "        \"\"\"Simulate a dog sitting in response to a command.\"\"\"\n",
    "        print(f\"{self.name} is now sitting.\")\n",
    "\n",
    "    def roll_over(self):\n",
    "        \"\"\"Simulate rolling over in response to a command.\"\"\"\n",
    "        print(f\"{self.name} rolled over!\")\n",
    "\n",
    "my_dog = Dog('willie', 6)\n",
    "\n",
    "print(f\"My dog's name is {my_dog.name.title()}.\")\n",
    "print(f\"My dog is {my_dog.age}.\")"
   ]
  },
  {
   "cell_type": "markdown",
   "metadata": {},
   "source": [
    "At u we tell Python to create a dog whose name is 'Willie' and whose age is 6. When Python reads this line, it calls the `__init__()` method in Dog with the arguments 'Willie' and 6. The `__init__()` method creates an instance representing this particular dog and sets the name and age attributes using the values we provided. Python then returns an instance representing this dog. We assign that instance to the variable my_dog. The naming conven-tion is helpful here: ***we can usually assume that a capitalized name like Dog refers to a class, and a lowercase name like my_dog refers to a single instance created from a class.***"
   ]
  },
  {
   "cell_type": "markdown",
   "metadata": {},
   "source": [
    "### Accessing Attributes\n",
    "\n",
    "To access the attributes of an instance, you use dot notation. At v we access the value of my_dog’s attribute name by writing:\n",
    "\n",
    "*`my_dog.name`*"
   ]
  },
  {
   "cell_type": "markdown",
   "metadata": {},
   "source": [
    "### Calling Methods\n",
    "\n",
    "After we create an instance from the class Dog, we can use dot notation to call any method defined in Dog. Let’s make our dog sit and roll over:\n",
    "\n",
    "To call a method, give the name of the instance (in this case, my_dog) and the method you want to call, separated by a dot. When Python reads my_dog.sit(), it looks for the method sit() in the class Dog and runs that code. Python interprets the line my_dog.roll_over() in the same way.\n",
    "\n",
    "This syntax is quite useful. When attributes and methods have been given ***appropriately descriptive names*** like name, age, sit(), and roll_over(), we can easily infer what a block of code, even one we’ve never seen before, is supposed to do."
   ]
  },
  {
   "cell_type": "code",
   "execution_count": 4,
   "metadata": {},
   "outputs": [
    {
     "name": "stdout",
     "output_type": "stream",
     "text": [
      "willie is now sitting.\n",
      "willie rolled over!\n"
     ]
    }
   ],
   "source": [
    "class Dog:\n",
    "    \"\"\"Aimple attempt to model a dog.\"\"\"\n",
    "\n",
    "    def __init__(self, name, age):\n",
    "        \"\"\"Initialize name and age attributes.\"\"\"\n",
    "        self.name = name\n",
    "        self.age = age\n",
    "\n",
    "    def sit(self):\n",
    "        \"\"\"Simulate a dog sitting in response to a command.\"\"\"\n",
    "        print(f\"{self.name} is now sitting.\")\n",
    "\n",
    "    def roll_over(self):\n",
    "        \"\"\"Simulate rolling over in response to a command.\"\"\"\n",
    "        print(f\"{self.name} rolled over!\")\n",
    "\n",
    "my_dog = Dog('willie', 6)\n",
    "\n",
    "my_dog.sit()\n",
    "my_dog.roll_over()"
   ]
  },
  {
   "cell_type": "markdown",
   "metadata": {},
   "source": [
    "### Creating Multiple Instances\n",
    "\n",
    "You can create as many instances from a class as you need. Let’s create a second dog called your_dog:\n",
    "\n",
    "In this example we create a dog named Willie and a dog named Lucy. Each dog is a separate instance with its own set of attributes, capable of the same set of actions:\n",
    "\n",
    "Even if we used the same name and age for the second dog, Python would still create a separate instance from the Dog class. You can make\n",
    "as many instances from one class as you need, as long as you give each instance a unique variable name or it occupies a unique spot in a list or dictionary.\n",
    "\n"
   ]
  },
  {
   "cell_type": "code",
   "execution_count": 5,
   "metadata": {},
   "outputs": [
    {
     "name": "stdout",
     "output_type": "stream",
     "text": [
      "My dog's name is Willie.\n",
      "My dog is 6 years old.\n",
      "Willie is now sitting.\n",
      "\n",
      "Your dog's name is Lucy.\n",
      "Your dog is 3 years old.\n",
      "Lucy is now sitting.\n"
     ]
    }
   ],
   "source": [
    "class Dog:\n",
    "    \"\"\"A simple attempt to model a dog.\"\"\"\n",
    "\n",
    "    def __init__(self, name, age):\n",
    "        \"\"\"Initialize name and age attributes.\"\"\"\n",
    "        self.name = name.title()\n",
    "        self.age = age\n",
    "\n",
    "    def sit(self):\n",
    "        \"\"\"Simulate a dog sitting in response to a command.\"\"\"\n",
    "        print(f\"{self.name} is now sitting.\")\n",
    "\n",
    "    def roll_over(self):\n",
    "        \"\"\"Simulate rolling over in response to a command.\"\"\"\n",
    "        print(f\"{self.name} rolled over!\")\n",
    "\n",
    "my_dog = Dog('willie', 6)\n",
    "your_dog = Dog('Lucy', 3)\n",
    "\n",
    "print(f\"My dog's name is {my_dog.name}.\")\n",
    "print(f\"My dog is {my_dog.age} years old.\")\n",
    "my_dog.sit()\n",
    "\n",
    "print(f\"\\nYour dog's name is {your_dog.name}.\")\n",
    "print(f\"Your dog is {your_dog.age} years old.\")\n",
    "your_dog.sit()"
   ]
  },
  {
   "cell_type": "markdown",
   "metadata": {},
   "source": [
    "## Try It Yourself\n",
    "\n",
    "9-1. Restaurant: Make a class called Restaurant. The `__init__()` method for Restaurant should store two attributes: a restaurant_name and a cuisine_type. Make a method called describe_restaurant() that prints these two pieces of information, and a method called open_restaurant() that prints a message indi-cating that the restaurant is open.\n",
    "\n",
    "Make an instance called restaurant from your class. Print the two attri-butes individually, and then call both methods.\n",
    "\n",
    "9-2. Three Restaurants: Start with your class from Exercise 9-1. Create three different instances from the class, and call describe_restaurant() for each instance.\n",
    "\n",
    "9-3. Users: Make a class called User. Create two attributes called first_nameand last_name, and then create several other attributes that are typically stored in a user profile. Make a method called describe_user() that prints a summary of the user’s information. Make another method called greet_user() that prints a personalized greeting to the user.\n",
    "\n",
    "Create several instances representing different users, and call both methods for each user."
   ]
  },
  {
   "cell_type": "code",
   "execution_count": 6,
   "metadata": {},
   "outputs": [
    {
     "name": "stdout",
     "output_type": "stream",
     "text": [
      "\n",
      "My favorite restaurant is Wonton Central and they offer chinese to eat.\n",
      "\n",
      "Your favorite resaurant is Texas Roadhouse and they offer barbecue as a cuisine.\n",
      "\n",
      "Wonton Central offers chinese as a cuisine option.\n",
      "Texas Roadhouse is now open for business!\n",
      "\n",
      "\n",
      "Wonton Central is now open for business!\n",
      "Texas Roadhouse offers barbecue as a cuisine option.\n"
     ]
    }
   ],
   "source": [
    "class Restaurant:\n",
    "    \"\"\"Create a model for a restaurant and its attributes.\"\"\"\n",
    "\n",
    "    def __init__(self, restaurant_name, cuisine_type):\n",
    "        self.restaurant_name = restaurant_name.title()\n",
    "        self.cuisine_type = cuisine_type\n",
    "\n",
    "    def describe_restaurant(self):\n",
    "        \"\"\"Prints the restaurant name and cuisine type.\"\"\"\n",
    "        print(f\"{self.restaurant_name} offers {self.cuisine_type} as a cuisine option.\")\n",
    "\n",
    "    \n",
    "    def open_restaurant(self):\n",
    "        \"\"\"Print a message indicating a restaurant is open.\"\"\"\n",
    "        print(f\"{self.restaurant_name} is now open for business!\")\n",
    "\n",
    "my_restaurant = Restaurant('wonton central', 'chinese')\n",
    "your_restaurant = Restaurant('texas roadhouse', 'barbecue')\n",
    "\n",
    "print(f\"\\nMy favorite restaurant is {my_restaurant.restaurant_name} and they offer {my_restaurant.cuisine_type} to eat.\")\n",
    "print(f\"\\nYour favorite resaurant is {your_restaurant.restaurant_name} and they offer {your_restaurant.cuisine_type} as a cuisine.\\n\")\n",
    "\n",
    "my_restaurant.describe_restaurant()\n",
    "your_restaurant.open_restaurant()\n",
    "print(\"\\n\")\n",
    "my_restaurant.open_restaurant()\n",
    "your_restaurant.describe_restaurant()\n",
    "\n",
    "# print(my_restaurant)\n",
    "# print(your_restaurant)\n",
    "# Restaurant('test restaurant', 'test cuisine')\n",
    "# print(Restaurant)"
   ]
  },
  {
   "cell_type": "code",
   "execution_count": 7,
   "metadata": {},
   "outputs": [
    {
     "name": "stdout",
     "output_type": "stream",
     "text": [
      "User: \n",
      "First name: John\n",
      "Last name: Halladay\n",
      "\n",
      "\n",
      "Welcome, John Halladay!\n"
     ]
    }
   ],
   "source": [
    "class User:\n",
    "    \"\"\"Class to collect details about users.\"\"\"\n",
    "\n",
    "    def __init__(self, first_name, last_name):\n",
    "        self.first_name = first_name.title()\n",
    "        self.last_name = last_name.title()\n",
    "\n",
    "    def describe_user(self):\n",
    "        \"\"\"Describe details about a user.\"\"\"\n",
    "        print(f\"User: \\nFirst name: {self.first_name}\\nLast name: {self.last_name}\")\n",
    "    \n",
    "    def greet_user(self):\n",
    "        \"\"\"Greets a provided user.\"\"\"\n",
    "        print(f\"Welcome, {self.first_name} {self.last_name}!\")\n",
    "\n",
    "user_info = User('john', 'halladay')\n",
    "\n",
    "user_info.describe_user()\n",
    "print(\"\\n\")\n",
    "user_info.greet_user()"
   ]
  },
  {
   "cell_type": "markdown",
   "metadata": {},
   "source": [
    "# Working with Classes and Instances\n",
    "You can use classes to represent many real-world situations. Once you write\n",
    "a class, you’ll spend most of your time working with instances created from\n",
    "that class. One of the first tasks you’ll want to do is modify the attributes\n",
    "associated with a particular instance. **You can modify the attributes of an\n",
    "instance directly or write methods that update attributes in specific ways.**\n",
    "\n",
    "At u in the Car class, we define the __init__() method with the self\n",
    "parameter first, just like we did before with our Dog class. We also give\n",
    "it three other parameters: make, model, and year. ***The `__init__()` method\n",
    "takes in these parameters and assigns them to the attributes that will be\n",
    "associated with instances made from this class.*** When we make a new Car\n",
    "instance, we’ll need to specify a make, model, and year for our instance.\n",
    "\n",
    "At v we define a method called get_descriptive_name() that puts a car’s\n",
    "year, make, and model into one string neatly describing the car. This will spare\n",
    "us from having to print each attribute’s value individually. ***To work with the\n",
    "attribute values in this method, we use `self.make`, `self.model`, and `self.year`.***\n",
    "At w we make an instance from the Car class and assign it to the variable\n",
    "my_new_car. Then we call get_descriptive_name() to show what kind of car\n",
    "we have:"
   ]
  },
  {
   "cell_type": "markdown",
   "metadata": {},
   "source": [
    "## The Car Class\n",
    "\n",
    "At u in the Car class, we define the __init__() method with the selfparameter first, just like we did before with our Dog class. We also give it three other parameters: make, model, and year. The __init__() method takes in these parameters and assigns them to the attributes that will be associated with instances made from this class. When we make a new Carinstance, we’ll need to specify a make, model, and year for our instance.\n",
    "\n",
    "At v we define a method called get_descriptive_name() that puts a car’s year, make, and model into one string neatly describing the car. This will spare us from having to print each attribute’s value individually. To work with the attribute values in this method, we use self.make, self.model, and self.year. At w we make an instance from the Car class and assign it to the variable my_new_car. Then we call get_descriptive_name() to show what kind of car we have:"
   ]
  },
  {
   "cell_type": "code",
   "execution_count": 8,
   "metadata": {},
   "outputs": [
    {
     "name": "stdout",
     "output_type": "stream",
     "text": [
      "2018 Lincoln Continental\n",
      "2018 Lincoln Continental\n"
     ]
    }
   ],
   "source": [
    "class Car:\n",
    "    \"\"\"A simple attempt to represent a car.\"\"\"\n",
    "\n",
    "    def __init__(self, make, model, year):\n",
    "        \"\"\"Initialize attributes to describe a car.\"\"\"\n",
    "        self.make = make.title()\n",
    "        self.model = model.title()\n",
    "        self.year = year\n",
    "\n",
    "    def get_descriptive_name(self):\n",
    "        \"\"\"Return a neatly formatted descriptive name.\"\"\"\n",
    "        long_name = f\"{self.year} {self.make} {self.model}\"\n",
    "        return long_name\n",
    "\n",
    "make = input('What is the make of your new car?')\n",
    "model = input('What is the model of your new car?')\n",
    "year = int(input('What is the year of the new car?'))\n",
    "\n",
    "my_new_car = Car(make, model, year)\n",
    "\n",
    "print(my_new_car.get_descriptive_name())\n",
    "print(Car(make, model, year).get_descriptive_name()) # Same thing as the line above"
   ]
  },
  {
   "cell_type": "markdown",
   "metadata": {},
   "source": [
    "To make the class more interesting, let’s add an attribute that changes over time. We’ll add an attribute that stores the car’s overall mileage."
   ]
  },
  {
   "cell_type": "markdown",
   "metadata": {},
   "source": [
    "## Setting a Default Value for an Attribute\n",
    "\n",
    "***When an instance is created, attributes can be defined without being passed in as parameters. These attributes can be defined in the `__init__()` method, where they are assigned a default value.***\n",
    "\n",
    "Let’s add an attribute called odometer_reading that always starts with a value of 0. We’ll also add a method read_odometer() that helps us read each car’s odometer:\n",
    "\n",
    "This time when Python calls the `__init__()` method to create a new instance, it stores the make, model, and year values as attributes like it did in the previous example. Then Python creates a new attribute called odometer_reading and sets its initial value to 0 u. We also have a new method called read_odometer() at v that makes it easy to read a car’s mileage. Our car starts with a mileage of 0:\n",
    "\n",
    "Not many cars are sold with exactly 0 miles on the odometer, so we need a way to change the value of this attribute."
   ]
  },
  {
   "cell_type": "code",
   "execution_count": 9,
   "metadata": {},
   "outputs": [
    {
     "name": "stdout",
     "output_type": "stream",
     "text": [
      "Escape Escape Escape\n",
      "This car has 0 miles on it.\n"
     ]
    }
   ],
   "source": [
    "make = input('What is the make of your new car?')\n",
    "model = input('What is the model of your new car?')\n",
    "year = input('What is the year of the new car?')\n",
    "\n",
    "class Car:\n",
    "    def __init__(self, make, model, year):\n",
    "        \"\"\"Initialize attributes to describe a car.\"\"\"\n",
    "        self.make = make.title()\n",
    "        self.model = model.title()\n",
    "        self.year = year\n",
    "        self.odomoter_reading = 0\n",
    "\n",
    "    def get_descriptive_name(self):\n",
    "        \"\"\"Return a neatly formatted descriptive name.\"\"\"\n",
    "        long_name = f\"{self.year} {self.make} {self.model}\"\n",
    "        return long_name\n",
    "\n",
    "    def read_odometer(self):\n",
    "        \"\"\"Print a statement showing the car's mileage\"\"\"\n",
    "        print(f\"This car has {self.odomoter_reading} miles on it.\")\n",
    "\n",
    "my_new_car = Car(make, model, year)\n",
    "print(my_new_car.get_descriptive_name())\n",
    "my_new_car.read_odometer()"
   ]
  },
  {
   "cell_type": "markdown",
   "metadata": {},
   "source": [
    "## Modifying Attribute Values\n",
    "\n",
    "You can change an attribute’s value in three ways: \n",
    "- you can change the value directly through an instance, \n",
    "- set the value through a method, \n",
    "- or increment the value (add a certain amount to it) through a method. \n",
    "\n",
    "Let’s look at each of these approaches."
   ]
  },
  {
   "cell_type": "markdown",
   "metadata": {},
   "source": [
    "### Modifying an Attribute’s Value Directly\n",
    "\n",
    "The simplest way to modify the value of an attribute is to access the attribute directly through an instance. Here we set the odometer reading to 23 directly:\n",
    "\n",
    "At u we use dot notation to access the car’s odometer_reading attri-bute and set its value directly. This line tells Python to take the instance my_new_car, find the attribute odometer_reading associated with it, and set the value of that attribute to 23:\n",
    "\n",
    "Sometimes you’ll want to access attributes directly like this, but other times you’ll want to write a method that updates the value for you."
   ]
  },
  {
   "cell_type": "code",
   "execution_count": 10,
   "metadata": {},
   "outputs": [
    {
     "name": "stdout",
     "output_type": "stream",
     "text": [
      "  \n",
      "This car has 23 miles on it.\n"
     ]
    }
   ],
   "source": [
    "make = input('What is the make of your new car?')\n",
    "model = input('What is the model of your new car?')\n",
    "year = input('What is the year of the new car?')\n",
    "\n",
    "class Car:\n",
    "    def __init__(self, make, model, year):\n",
    "        \"\"\"Initialize attributes to describe a car.\"\"\"\n",
    "        self.make = make.title()\n",
    "        self.model = model.title()\n",
    "        self.year = year\n",
    "        self.odomoter_reading = 0\n",
    "\n",
    "    def get_descriptive_name(self):\n",
    "        \"\"\"Return a neatly formatted descriptive name.\"\"\"\n",
    "        long_name = f\"{self.year} {self.make} {self.model}\"\n",
    "        return long_name\n",
    "\n",
    "    def read_odometer(self):\n",
    "        \"\"\"Print a statement showing the car's mileage\"\"\"\n",
    "        print(f\"This car has {self.odomoter_reading} miles on it.\")\n",
    "\n",
    "my_new_car = Car(make, model, year)\n",
    "print(my_new_car.get_descriptive_name())\n",
    "\n",
    "# Access odometer_reading() attribute and change it via this specific instance\n",
    "my_new_car.odomoter_reading = 23\n",
    "my_new_car.read_odometer()"
   ]
  },
  {
   "cell_type": "markdown",
   "metadata": {},
   "source": [
    "### Modifying an Attribute’s Value Through a Method\n",
    "\n",
    "It can be helpful to have methods that update certain attributes for you. Instead of accessing the attribute directly, you pass the new value to a method that handles the updating internally.\n",
    "\n",
    "Here’s an example showing a method called update_odometer():\n",
    "\n",
    "The only modification to Car is the addition of update_odometer() at u. This method takes in a mileage value and assigns it to self.odometer_reading. At v we call update_odometer() and give it 23 as an argument (corresponding to the mileage parameter in the method definition). It sets the odometer reading to 23, and read_odometer() prints the reading:"
   ]
  },
  {
   "cell_type": "code",
   "execution_count": 11,
   "metadata": {},
   "outputs": [
    {
     "name": "stdout",
     "output_type": "stream",
     "text": [
      "  \n",
      "This car has 23 miles on it.\n"
     ]
    }
   ],
   "source": [
    "make = input('What is the make of your new car?')\n",
    "model = input('What is the model of your new car?')\n",
    "year = input('What is the year of the new car?')\n",
    "\n",
    "class Car:\n",
    "    def __init__(self, make, model, year):\n",
    "        \"\"\"Initialize attributes to describe a car.\"\"\"\n",
    "        self.make = make.title()\n",
    "        self.model = model.title()\n",
    "        self.year = year\n",
    "        self.odomoter_reading = 0\n",
    "\n",
    "    def get_descriptive_name(self):\n",
    "        \"\"\"Return a neatly formatted descriptive name.\"\"\"\n",
    "        long_name = f\"{self.year} {self.make} {self.model}\"\n",
    "        return long_name\n",
    "\n",
    "    def read_odometer(self):\n",
    "        \"\"\"Print a statement showing the car's mileage\"\"\"\n",
    "        print(f\"This car has {self.odomoter_reading} miles on it.\")\n",
    "\n",
    "    def update_odometer(self, mileage):\n",
    "        \"\"\"Set odometer reading to the given value.\"\"\"\n",
    "        self.odomoter_reading = mileage\n",
    "\n",
    "\n",
    "my_new_car = Car(make, model, year)\n",
    "print(my_new_car.get_descriptive_name())\n",
    "\n",
    "# Access odometer_reading() attribute and change it via this specific instance\n",
    "my_new_car.odomoter_reading = 23\n",
    "my_new_car.read_odometer()"
   ]
  },
  {
   "cell_type": "markdown",
   "metadata": {},
   "source": [
    "We can extend the method update_odometer() to do additional work every time the odometer reading is modified. Let’s add a little logic to make sure no one tries to roll back the odometer reading:\n",
    "\n",
    "Now update_odometer() checks that the new reading makes sense before modifying the attribute. If the new mileage, mileage, is greater than or equal to the existing mileage, self.odometer_reading, you can update the odometer reading to the new mileage u. If the new mileage is less than the existing mileage, you’ll get a warning that you can’t roll back an odometer v."
   ]
  },
  {
   "cell_type": "code",
   "execution_count": 12,
   "metadata": {},
   "outputs": [
    {
     "name": "stdout",
     "output_type": "stream",
     "text": [
      "  \n",
      "This car has 23 miles on it.\n"
     ]
    }
   ],
   "source": [
    "make = input('What is the make of your new car?')\n",
    "model = input('What is the model of your new car?')\n",
    "year = input('What is the year of the new car?')\n",
    "\n",
    "class Car:\n",
    "    def __init__(self, make, model, year):\n",
    "        \"\"\"Initialize attributes to describe a car.\"\"\"\n",
    "        self.make = make.title()\n",
    "        self.model = model.title()\n",
    "        self.year = year\n",
    "        self.odomoter_reading = 0\n",
    "\n",
    "    def get_descriptive_name(self):\n",
    "        \"\"\"Return a neatly formatted descriptive name.\"\"\"\n",
    "        long_name = f\"{self.year} {self.make} {self.model}\"\n",
    "        return long_name\n",
    "\n",
    "    def read_odometer(self):\n",
    "        \"\"\"Print a statement showing the car's mileage\"\"\"\n",
    "        print(f\"This car has {self.odomoter_reading} miles on it.\")\n",
    "\n",
    "    def update_odometer(self, mileage):\n",
    "        \"\"\"Set odometer reading to the given value.\n",
    "        Reject the change if it attempts to roll the odometer back.\n",
    "        \"\"\"\n",
    "        if mileage >= self.odomoter_reading:\n",
    "            self.odomoter_reading = mileage\n",
    "        else:\n",
    "            print(\"You can't roll back the odometer!\")\n",
    "\n",
    "my_new_car = Car(make, model, year)\n",
    "print(my_new_car.get_descriptive_name())\n",
    "\n",
    "# Access odometer_reading() attribute and change it via this specific instance\n",
    "my_new_car.odomoter_reading = 23\n",
    "my_new_car.read_odometer()"
   ]
  },
  {
   "cell_type": "markdown",
   "metadata": {},
   "source": [
    "### Incrementing an Attribute’s Value Through a Method\n",
    "\n",
    "Sometimes you’ll want to increment an attribute’s value by a certain amount rather than set an entirely new value. Say we buy a used car and put 100 miles on it between the time we buy it and the time we register it. Here’s a method that allows us to pass this incremental amount and add that value to the odometer reading:\n",
    "\n",
    "The new method increment_odometer() at u takes in a number of miles, and adds this value to self.odometer_reading. At v we create a used car, my_used_car. We set its odometer to 23,500 by calling update_odometer() and passing it 23_500 at w. At x we call increment_odometer() and pass it 100 to add the 100 miles that we drove between buying the car and registering it:\n",
    "\n",
    "You can easily modify this method to reject negative increments so no one uses this function to roll back an odometer.\n",
    "\n",
    "**NOTE** ***You can use methods like this to control how users of your program update values such as an odometer reading, but anyone with access to the program can set the odometer reading to any value by accessing the attribute directly. Effective security takes extreme attention to detail in addition to basic checks like those shown here.***"
   ]
  },
  {
   "cell_type": "code",
   "execution_count": 13,
   "metadata": {},
   "outputs": [
    {
     "name": "stdout",
     "output_type": "stream",
     "text": [
      "  \n",
      "This car has 23500 miles on it.\n",
      "This car has 23600 miles on it.\n"
     ]
    }
   ],
   "source": [
    "make = input('What is the make of your new car?')\n",
    "model = input('What is the model of your new car?')\n",
    "year = input('What is the year of the new car?')\n",
    "\n",
    "class Car:\n",
    "    def __init__(self, make, model, year):\n",
    "        \"\"\"Initialize attributes to describe a car.\"\"\"\n",
    "        self.make = make.title()\n",
    "        self.model = model.title()\n",
    "        self.year = year\n",
    "        self.odomoter_reading = 0\n",
    "\n",
    "    def get_descriptive_name(self):\n",
    "        \"\"\"Return a neatly formatted descriptive name.\"\"\"\n",
    "        long_name = f\"{self.year} {self.make} {self.model}\"\n",
    "        return long_name\n",
    "\n",
    "    def read_odometer(self):\n",
    "        \"\"\"Print a statement showing the car's mileage\"\"\"\n",
    "        print(f\"This car has {self.odomoter_reading} miles on it.\")\n",
    "\n",
    "    def update_odometer(self, mileage):\n",
    "        \"\"\"Set odometer reading to the given value.\n",
    "        Reject the change if it attempts to roll the odometer back.\n",
    "        \"\"\"\n",
    "        if mileage >= self.odomoter_reading:\n",
    "            self.odomoter_reading = mileage\n",
    "        else:\n",
    "            print(\"You can't roll back the odometer!\")\n",
    "\n",
    "    def increment_odometer(self, miles):\n",
    "        \"\"\"Add the given amount to the odometer reading.\"\"\"\n",
    "        self.odomoter_reading += miles\n",
    "\n",
    "my_new_car = Car(make, model, year)\n",
    "print(my_new_car.get_descriptive_name())\n",
    "\n",
    "my_new_car.update_odometer(23_500)\n",
    "my_new_car.read_odometer()\n",
    "\n",
    "my_new_car.increment_odometer(100)\n",
    "my_new_car.read_odometer()"
   ]
  },
  {
   "cell_type": "markdown",
   "metadata": {},
   "source": [
    "## Try It yourself\n",
    "\n",
    "9-4. Number Served: Start with your program from Exercise 9-1 (page 162). Add an attribute called number_served with a default value of 0. Create an instance called restaurant from this class. Print the number of customers the restaurant has served, and then change this value and print it again.\n",
    "\n",
    "Add a method called set_number_served() that lets you set the number of customers that have been served. Call this method with a new number and print the value again.\n",
    "\n",
    "Add a method called increment_number_served() that lets you increment the number of customers who’ve been served. Call this method with any num-ber you like that could represent how many customers were served in, say, a day of business.\n",
    "\n",
    "9-5. Login Attempts: Add an attribute called login_attempts to your Userclass from Exercise 9-3 (page 162). Write a method called increment_login_attempts() that increments the value of login_attempts by 1. Write another method called reset_login_attempts() that resets the value of login_attemptsto 0.\n",
    "\n",
    "Make an instance of the User class and call increment_login_attempts()several times. Print the value of login_attempts to make sure it was incremented properly, and then call reset_login_attempts(). Print login_attempts again to make sure it was reset to 0."
   ]
  },
  {
   "cell_type": "code",
   "execution_count": 14,
   "metadata": {},
   "outputs": [
    {
     "name": "stdout",
     "output_type": "stream",
     "text": [
      "\n",
      "My favorite restaurant is Wonton Central and they offer chinese to eat.\n",
      "\n",
      "Your favorite resaurant is Texas Roadhouse and they offer barbecue as a cuisine.\n",
      "\n",
      "Wonton Central offers chinese as a cuisine option.\n",
      "Texas Roadhouse is now open for business!\n",
      "\n",
      "\n",
      "Wonton Central is now open for business!\n",
      "Texas Roadhouse offers barbecue as a cuisine option.\n",
      "\n",
      "\n"
     ]
    }
   ],
   "source": [
    "class Restaurant:\n",
    "    \"\"\"Create a model for a restaurant and its attributes.\"\"\"\n",
    "\n",
    "    def __init__(self, restaurant_name, cuisine_type):\n",
    "        self.restaurant_name = restaurant_name.title()\n",
    "        self.cuisine_type = cuisine_type\n",
    "        self.number_served = 0\n",
    "\n",
    "    def describe_restaurant(self):\n",
    "        \"\"\"Prints the restaurant name and cuisine type.\"\"\"\n",
    "        print(f\"{self.restaurant_name} offers {self.cuisine_type} as a cuisine option.\")\n",
    "\n",
    "    \n",
    "    def open_restaurant(self):\n",
    "        \"\"\"Print a message indicating a restaurant is open.\"\"\"\n",
    "        print(f\"{self.restaurant_name} is now open for business!\")\n",
    "\n",
    "    def set_number_served(self, customer_number):\n",
    "        \"\"\"Print the number of customers served.\"\"\"\n",
    "        if customer_number >= self.number_served:\n",
    "            self.number_served = customer_number\n",
    "        else:\n",
    "            print(\"You can't subtract from the current number of customers served!\")\n",
    "        \n",
    "\n",
    "my_restaurant = Restaurant('wonton central', 'chinese')\n",
    "your_restaurant = Restaurant('texas roadhouse', 'barbecue')\n",
    "\n",
    "print(f\"\\nMy favorite restaurant is {my_restaurant.restaurant_name} and they offer {my_restaurant.cuisine_type} to eat.\")\n",
    "print(f\"\\nYour favorite resaurant is {your_restaurant.restaurant_name} and they offer {your_restaurant.cuisine_type} as a cuisine.\\n\")\n",
    "\n",
    "my_restaurant.describe_restaurant()\n",
    "your_restaurant.open_restaurant()\n",
    "print(\"\\n\")\n",
    "my_restaurant.open_restaurant()\n",
    "your_restaurant.describe_restaurant()\n",
    "print(\"\\n\")\n",
    "\n",
    "# restaurant = Restaurant('wonton central', 'chinese')"
   ]
  },
  {
   "cell_type": "markdown",
   "metadata": {},
   "source": [
    "To make the class more interesting, let’s add an attribute that changes\n",
    "over time. We’ll add an attribute that stores the car’s overall mileage."
   ]
  },
  {
   "cell_type": "markdown",
   "metadata": {},
   "source": [
    "## Setting a Default Value for an Attribute\n",
    "***When an instance is created, attributes can be defined without being\n",
    "passed in as parameters. These attributes can be defined in the `__init__()`\n",
    "method, where they are assigned a default value.***\n",
    "\n",
    "Let’s add an attribute called odometer_reading that always starts with a\n",
    "value of 0. We’ll also add a method read_odometer() that helps us read each\n",
    "car’s odometer:"
   ]
  },
  {
   "cell_type": "code",
   "execution_count": 15,
   "metadata": {},
   "outputs": [
    {
     "name": "stdout",
     "output_type": "stream",
     "text": [
      "  \n",
      "This car has 23500 miles on it.\n",
      "This car has 23600 miles on it.\n"
     ]
    },
    {
     "data": {
      "text/plain": [
       "'Sometimes you’ll want to access attributes directly like this, but other\\ntimes you’ll want to write a method that updates the value for you.'"
      ]
     },
     "execution_count": 15,
     "metadata": {},
     "output_type": "execute_result"
    }
   ],
   "source": [
    "make = input('What is the make of your new car?')\n",
    "model = input('What is the model of your new car?')\n",
    "year = input('What is the year of the new car?')\n",
    "\n",
    "class Car:\n",
    "    def __init__(self, make, model, year):\n",
    "        \"\"\"Initialize attributes to describe a car.\"\"\"\n",
    "        self.make = make\n",
    "        self.model = model\n",
    "        self.year = year\n",
    "        # Defining an attribute without passing it in\n",
    "        # as a parameter by defining it in the __init__ \n",
    "        # method and assigning it a default value\n",
    "        self.odometer_reading = 0\n",
    "\n",
    "    def get_descriptive_name(self):\n",
    "        \"\"\"Return a neatly formatted descriptive name.\"\"\"\n",
    "        long_name = f\"{self.year} {self.make} {self.model}\"\n",
    "        return long_name\n",
    "\n",
    "    def read_odometer(self):\n",
    "        \"\"\"Print a statement showing the car's mileage\"\"\"\n",
    "        print(f\"This car has {self.odometer_reading} miles on it.\")\n",
    "\n",
    "    def update_odometer(self, mileage):\n",
    "        \"\"\"Set odometer reading to the given value.\n",
    "        Reject the change if it attempts to roll the odometer back.\n",
    "        \"\"\"\n",
    "        if mileage >= self.odometer_reading:\n",
    "            self.odometer_reading = mileage\n",
    "        else:\n",
    "            print(\"You can't roll back the odometer!\")\n",
    "\n",
    "    def increment_odometer(self, miles):\n",
    "        \"\"\"Add the given amount to the odometer reading.\"\"\"\n",
    "        self.odometer_reading += miles\n",
    "\n",
    "my_new_car = Car(make, model, year)\n",
    "print(my_new_car.get_descriptive_name())\n",
    "\n",
    "my_new_car.update_odometer(23_500)\n",
    "my_new_car.read_odometer()\n",
    "\n",
    "my_new_car.increment_odometer(100)\n",
    "my_new_car.read_odometer()\n",
    "\n",
    "### Modifying an Attribute’s Value Directly\n",
    "\"\"\"Sometimes you’ll want to access attributes directly like this, but other\n",
    "times you’ll want to write a method that updates the value for you.\"\"\"\n",
    "# my_new_car.odometer_reading = 23\n",
    "# my_new_car.read_odometer()"
   ]
  },
  {
   "cell_type": "markdown",
   "metadata": {},
   "source": [
    "## Modifying an Attribute’s Value Through a Method\n",
    "\n",
    "It can be helpful to have methods that update certain attributes for you.\n",
    "Instead of accessing the attribute directly, you pass the new value to a\n",
    "method that handles the updating internally.\n",
    "\n",
    "The only modification to Car is the addition of update_odometer() at u.\n",
    "This method takes in a mileage value and assigns it to self.odometer_reading.\n",
    "At v we call update_odometer() and give it 23 as an argument (corresponding\n",
    "to the mileage parameter in the method definition). It sets the odometer\n",
    "reading to 23, and read_odometer() prints the reading:\n",
    "\n",
    "## Incrementing an Attribute’s Value Through a Method\n",
    "\n",
    "Sometimes you’ll want to increment an attribute’s value by a certain\n",
    "amount rather than set an entirely new value. Say we buy a used car and\n",
    "put 100 miles on it between the time we buy it and the time we register it.\n",
    "Here’s a method that allows us to pass this incremental amount and add\n",
    "that value to the odometer reading:\n",
    "\n",
    "The new method increment_odometer() at u takes in a number of miles,\n",
    "and adds this value to self.odometer_reading. At v we create a used car,\n",
    "my_used_car. We set its odometer to 23,500 by calling update_odometer() and\n",
    "passing it 23_500 at w. At x we call increment_odometer() and pass it 100 to add\n",
    "the 100 miles that we drove between buying the car and registering it:"
   ]
  },
  {
   "cell_type": "code",
   "execution_count": 16,
   "metadata": {},
   "outputs": [
    {
     "name": "stdout",
     "output_type": "stream",
     "text": [
      "  \n",
      "This car has 23500 miles on it.\n",
      "This car has 23600 miles on it.\n"
     ]
    }
   ],
   "source": [
    "class Car:\n",
    "    def __init__(self, make, model, year):\n",
    "        \"\"\"Initialize attributes to describe a car.\"\"\"\n",
    "        self.make = make.title()\n",
    "        self.model = model.title()\n",
    "        self.year = year\n",
    "        # Defining an attribute without passing it in\n",
    "        # as a parameter by defining it in the __init__ \n",
    "        # method and assigning it a default value\n",
    "        self.odometer_reading = 0\n",
    "\n",
    "    def get_descriptive_name(self):\n",
    "        \"\"\"Return a neatly formatted descriptive name.\"\"\"\n",
    "        long_name = f\"{self.year} {self.make} {self.model}\"\n",
    "        return long_name\n",
    "\n",
    "    def read_odometer(self):\n",
    "        \"\"\"Print a statement showing the car's mileage\"\"\"\n",
    "        print(f\"This car has {self.odometer_reading} miles on it.\")\n",
    "\n",
    "    def update_odometer(self, mileage):\n",
    "        \"\"\"Set odometer reading to the given value.\n",
    "        Reject the change if it attempts to roll the odometer back.\n",
    "        \"\"\"\n",
    "        if mileage >= self.odometer_reading:\n",
    "            self.odometer_reading = mileage\n",
    "        else:\n",
    "            print(\"You can't roll back the odometer!\")\n",
    "\n",
    "    def increment_odometer(self, miles):\n",
    "        \"\"\"Add the given amount to the odometer reading.\"\"\"\n",
    "        if miles < 0:\n",
    "            print(\"You can't remove miles from the odomoter!\")\n",
    "        else:\n",
    "            self.odometer_reading += miles\n",
    "\n",
    "make = input('What is the make of your new car?')\n",
    "model = input('What is the model of your new car?')\n",
    "year = input('What is the year of the new car?')\n",
    "\n",
    "my_used_car = Car(make, model, year)\n",
    "# my_used_car = Car('subaru', 'outback', 2015)\n",
    "print(my_used_car.get_descriptive_name())\n",
    "\n",
    "my_used_car.update_odometer(23_500)\n",
    "my_used_car.read_odometer()\n",
    "\n",
    "my_used_car.increment_odometer(100)\n",
    "my_used_car.read_odometer()"
   ]
  },
  {
   "cell_type": "markdown",
   "metadata": {},
   "source": [
    "## Try It Yourself\n",
    "9-4. Number Served: Start with your program from Exercise 9-1 (page 162).\n",
    "Add an attribute called number_served with a default value of 0. Create an\n",
    "instance called restaurant from this class. Print the number of customers the\n",
    "restaurant has served, and then change this value and print it again.\n",
    "\n",
    "Add a method called set_number_served() that lets you set the number\n",
    "of customers that have been served. Call this method with a new number and\n",
    "print the value again.\n",
    "\n",
    "Add a method called increment_number_served() that lets you increment\n",
    "the number of customers who’ve been served. Call this method with any number\n",
    "you like that could represent how many customers were served in, say, a\n",
    "day of business.\n",
    "\n",
    "9-5. Login Attempts: Add an attribute called login_attempts to your User\n",
    "class from Exercise 9-3 (page 162). Write a method called increment_login\n",
    "_attempts() that increments the value of login_attempts by 1. Write another\n",
    "method called reset_login_attempts() that resets the value of login_attempts\n",
    "to 0.\n",
    "\n",
    "Make an instance of the User class and call increment_login_attempts()\n",
    "several times. Print the value of login_attempts to make sure it was incremented\n",
    "properly, and then call reset_login_attempts(). Print login_attempts again to\n",
    "make sure it was reset to 0."
   ]
  },
  {
   "cell_type": "code",
   "execution_count": 17,
   "metadata": {},
   "outputs": [
    {
     "name": "stdout",
     "output_type": "stream",
     "text": [
      "\n",
      "My favorite restaurant is Wonton Central and they offer chinese to eat.\n",
      "\n",
      "Your favorite resaurant is Texas Roadhouse and they offer barbecue as a cuisine.\n",
      "\n",
      "Wonton Central offers chinese as a cuisine option.\n",
      "Texas Roadhouse is now open for business!\n",
      "\n",
      "\n",
      "Wonton Central is now open for business!\n",
      "Texas Roadhouse offers barbecue as a cuisine option.\n",
      "\n",
      "\n"
     ]
    }
   ],
   "source": [
    "class Restaurant:\n",
    "    \"\"\"Create a model for a restaurant and its attributes.\"\"\"\n",
    "\n",
    "    def __init__(self, restaurant_name, cuisine_type):\n",
    "        self.restaurant_name = restaurant_name.title()\n",
    "        self.cuisine_type = cuisine_type\n",
    "        self.number_served = 0\n",
    "\n",
    "    def describe_restaurant(self):\n",
    "        \"\"\"Prints the restaurant name and cuisine type.\"\"\"\n",
    "        print(f\"{self.restaurant_name} offers {self.cuisine_type} as a cuisine option.\")\n",
    "\n",
    "    \n",
    "    def open_restaurant(self):\n",
    "        \"\"\"Print a message indicating a restaurant is open.\"\"\"\n",
    "        print(f\"{self.restaurant_name} is now open for business!\")\n",
    "\n",
    "    def set_number_served(self, customer_number):\n",
    "        \"\"\"Print the number of customers served.\"\"\"\n",
    "        if customer_number >= 0:\n",
    "            self.number_served += customer_number\n",
    "            print(f\"You have currently served {self.number_served} customers.\")\n",
    "        else:\n",
    "            print(\"You can't subtract from the current number of customers served!\")\n",
    "        \n",
    "\n",
    "my_restaurant = Restaurant('wonton central', 'chinese')\n",
    "your_restaurant = Restaurant('texas roadhouse', 'barbecue')\n",
    "\n",
    "print(f\"\\nMy favorite restaurant is {my_restaurant.restaurant_name} and they offer {my_restaurant.cuisine_type} to eat.\")\n",
    "print(f\"\\nYour favorite resaurant is {your_restaurant.restaurant_name} and they offer {your_restaurant.cuisine_type} as a cuisine.\\n\")\n",
    "\n",
    "my_restaurant.describe_restaurant()\n",
    "your_restaurant.open_restaurant()\n",
    "print(\"\\n\")\n",
    "my_restaurant.open_restaurant()\n",
    "your_restaurant.describe_restaurant()\n",
    "print(\"\\n\")\n",
    "\n",
    "# restaurant = Restaurant('wonton central', 'chinese')"
   ]
  },
  {
   "cell_type": "markdown",
   "metadata": {},
   "source": [
    "# Inheritance\n",
    "\n",
    "You don’t always have to start from scratch when writing a class. If the class\n",
    "you’re writing is a specialized version of another class you wrote, you can\n",
    "use `inheritance.` **When one class `inherits` from another, it takes on the attributes\n",
    "and methods of the first class.** The original class is called the `parent\n",
    "class`, and the new class is the `child class`. The child class can inherit any\n",
    "or all of the attributes and methods of its parent class, but it’s also free to\n",
    "define new attributes and methods of its own.\n",
    "\n",
    "## The __init__() Method for a Child Class\n",
    "\n",
    "When you’re writing a new class based on an existing class, you’ll often\n",
    "want to call the __init__() method from the parent class. This will initialize\n",
    "any attributes that were defined in the parent __init__() method and make\n",
    "them available in the child class.\n",
    "\n",
    "As an example, let’s model an electric car. An electric car is just a specific\n",
    "kind of car, so we can base our new ElectricCar class on the Car class\n",
    "we wrote earlier. Then we’ll only have to write code for the attributes and\n",
    "behavior specific to electric cars.\n",
    "\n",
    "Let’s start by making a simple version of the ElectricCar class, which\n",
    "does everything the Car class does:\n",
    "\n",
    "\n",
    "At u we start with Car. **When you create a child class, the parent class\n",
    "must be part of the current file and must appear before the child class in\n",
    "the file. At v we define the child class, ElectricCar. The name of the parent\n",
    "class must be included in parentheses in the definition of a child class.**\n",
    "The __init__() method at w takes in the information required to make a Car\n",
    "instance.\n",
    "\n",
    "The **`super()`** function at x is a special function that allows you to call\n",
    "a method from the parent class. This line tells Python to call the __init__()\n",
    "method from Car, which gives an ElectricCar instance all the attributes\n",
    "defined in that method. The name super comes from a convention of calling\n",
    "the parent class a `superclass` and the child class a `subclass`.\n",
    "\n",
    "We test whether inheritance is working properly by trying to create an\n",
    "electric car with the same kind of information we’d provide when making\n",
    "a regular car. At y we make an instance of the ElectricCar class and assign\n",
    "it to my_tesla. This line calls the __init__() method defined in ElectricCar,\n",
    "which in turn tells Python to call the __init__() method defined in the parent\n",
    "class Car. We provide the arguments 'tesla', 'model s', and 2019.\n",
    "\n",
    "Aside from __init__(), there are no attributes or methods yet that are\n",
    "particular to an electric car. At this point we’re just making sure the electric\n",
    "car has the appropriate Car behaviors:\n",
    "\n",
    "The ElectricCar instance works just like an instance of Car, so now we\n",
    "can begin defining attributes and methods specific to electric cars."
   ]
  },
  {
   "cell_type": "code",
   "execution_count": 18,
   "metadata": {},
   "outputs": [
    {
     "name": "stdout",
     "output_type": "stream",
     "text": [
      "2019 Tesla Model S\n"
     ]
    }
   ],
   "source": [
    "class Car:\n",
    "    \"\"\"A simple attempt to represent a car.\"\"\"\n",
    "    \n",
    "    def __init__(self, make, model, year):\n",
    "        self.make = make.title()\n",
    "        self.model = model.title()\n",
    "        self.year = year\n",
    "        self.odometer_reading = 0\n",
    "    \n",
    "    def get_descriptive_name(self):\n",
    "        long_name = f\"{self.year} {self.make} {self.model}\"\n",
    "        return long_name.title()\n",
    "    \n",
    "    def read_odometer(self):\n",
    "        print(f\"This car has {self.odometer_reading} miles on it.\")\n",
    "    \n",
    "    def update_odometer(self, mileage):\n",
    "        if mileage >= self.odometer_reading:\n",
    "            self.odometer_reading = mileage\n",
    "        else:\n",
    "            print(\"You can't roll back an odometer!\")\n",
    "    \n",
    "    def increment_odometer(self, miles):\n",
    "        self.odometer_reading += miles\n",
    "\n",
    "\n",
    "class ElectricCar(Car):\n",
    "    \"\"\"Represents aspects of a car, specific to electric vehicles.\"\"\"\n",
    "\n",
    "    def __init__(self, make, model, year):\n",
    "        \"\"\"Initialize attributes of the parent class.\"\"\"\n",
    "        super().__init__(make, model, year)\n",
    "\n",
    "my_tesla = ElectricCar('tesla', 'model s', 2019)\n",
    "print(my_tesla.get_descriptive_name())"
   ]
  },
  {
   "cell_type": "markdown",
   "metadata": {},
   "source": [
    "## Defining Attributes and Methods for the Child Class\n",
    "\n",
    "Once you have a child class that inherits from a parent class, you can add\n",
    "any new attributes and methods necessary to differentiate the child class\n",
    "from the parent class.\n",
    "\n",
    "Let’s add an attribute that’s specific to electric cars (a battery, for\n",
    "example) and a method to report on this attribute. We’ll store the battery\n",
    "size and write a method that prints a description of the battery:\n",
    "\n",
    "At u we add a new attribute self.battery_size and set its initial value to,\n",
    "say, 75. This attribute will be associated with all instances created from the\n",
    "ElectricCar class but won’t be associated with any instances of Car. We also\n",
    "add a method called describe_battery() that prints information about the\n",
    "battery at v. When we call this method, we get a description that is clearly\n",
    "specific to an electric car:\n",
    "\n",
    "There’s no limit to how much you can specialize the ElectricCar class.\n",
    "You can add as many attributes and methods as you need to model an electric\n",
    "car to whatever degree of accuracy you need. An attribute or method\n",
    "that could belong to any car, rather than one that’s specific to an electric\n",
    "car, should be added to the Car class instead of the ElectricCar class. Then\n",
    "anyone who uses the Car class will have that functionality available as well,\n",
    "and the ElectricCar class will only contain code for the information and\n",
    "behavior specific to electric vehicles."
   ]
  },
  {
   "cell_type": "code",
   "execution_count": 19,
   "metadata": {},
   "outputs": [
    {
     "name": "stdout",
     "output_type": "stream",
     "text": [
      "2019 Tesla Model S\n",
      "This car has a 75-kWh battery.\n"
     ]
    }
   ],
   "source": [
    "class Car:\n",
    "    \"\"\"A simple attempt to represent a car.\"\"\"\n",
    "    \n",
    "    def __init__(self, make, model, year):\n",
    "        self.make = make.title()\n",
    "        self.model = model.title()\n",
    "        self.year = year\n",
    "        self.odometer_reading = 0\n",
    "    \n",
    "    def get_descriptive_name(self):\n",
    "        long_name = f\"{self.year} {self.make} {self.model}\"\n",
    "        return long_name.title()\n",
    "    \n",
    "    def read_odometer(self):\n",
    "        print(f\"This car has {self.odometer_reading} miles on it.\")\n",
    "    \n",
    "    def update_odometer(self, mileage):\n",
    "        if mileage >= self.odometer_reading:\n",
    "            self.odometer_reading = mileage\n",
    "        else:\n",
    "            print(\"You can't roll back an odometer!\")\n",
    "    \n",
    "    def increment_odometer(self, miles):\n",
    "        self.odometer_reading += miles\n",
    "\n",
    "\n",
    "class ElectricCar(Car):\n",
    "    \"\"\"Represents aspects of a car, specific to electric vehicles.\"\"\"\n",
    "\n",
    "    def __init__(self, make, model, year):\n",
    "        \"\"\"\n",
    "        Initialize attributes of the parent class.\n",
    "        Then initialize attributes specific to an electric car.\n",
    "        \"\"\"\n",
    "        super().__init__(make, model, year)\n",
    "        self.battery_size = 75\n",
    "    \n",
    "    def describe_battery(self):\n",
    "        \"\"\"Print a statement describing the battery size.\"\"\"\n",
    "        print(f\"This car has a {self.battery_size}-kWh battery.\")\n",
    "\n",
    "my_tesla = ElectricCar('tesla', 'model s', 2019)\n",
    "print(my_tesla.get_descriptive_name())\n",
    "my_tesla.describe_battery()\n",
    "\n",
    "# # You have to assign the class to a variable, \n",
    "# # otherwise a new instance does not have \n",
    "# # anywhere to be stored. For example, the \n",
    "# # below code will error.\n",
    "# ElectricCar('tesla', 'model s', 2019)\n",
    "# print(ElectricCar.get_descriptive_name())\n",
    "# ElectricCar.describe_battery()"
   ]
  },
  {
   "cell_type": "markdown",
   "metadata": {},
   "source": [
    "## Overriding Methods from the Parent Class\n",
    "**You can override any method from the parent class that doesn’t fit what\n",
    "you’re trying to model with the child class.** To do this, you define a method\n",
    "in the child class with the same name as the method you want to override in\n",
    "the parent class. Python will disregard the parent class method and only\n",
    "pay attention to the method you define in the child class.\n",
    "\n",
    "Say the class Car had a method called fill_gas_tank(). This method is\n",
    "meaningless for an all-electric vehicle, so you might want to override this\n",
    "method. Here’s one way to do that:\n",
    "\n",
    "Now if someone tries to call fill_gas_tank() with an electric car, Python\n",
    "will ignore the method fill_gas_tank() in Car and run this code instead. When\n",
    "you use inheritance, you can make your child classes retain what you need\n",
    "and override anything you don’t need from the parent class."
   ]
  },
  {
   "cell_type": "code",
   "execution_count": 20,
   "metadata": {},
   "outputs": [
    {
     "name": "stdout",
     "output_type": "stream",
     "text": [
      "2019 Tesla Model S\n",
      "This car has a 75-kWh battery.\n"
     ]
    }
   ],
   "source": [
    "class Car:\n",
    "    \"\"\"A simple attempt to represent a car.\"\"\"\n",
    "    \n",
    "    def __init__(self, make, model, year):\n",
    "        self.make = make.title()\n",
    "        self.model = model.title()\n",
    "        self.year = year\n",
    "        self.odometer_reading = 0\n",
    "    \n",
    "    def get_descriptive_name(self):\n",
    "        long_name = f\"{self.year} {self.make} {self.model}\"\n",
    "        return long_name.title()\n",
    "    \n",
    "    def read_odometer(self):\n",
    "        print(f\"This car has {self.odometer_reading} miles on it.\")\n",
    "    \n",
    "    def update_odometer(self, mileage):\n",
    "        if mileage >= self.odometer_reading:\n",
    "            self.odometer_reading = mileage\n",
    "        else:\n",
    "            print(\"You can't roll back an odometer!\")\n",
    "    \n",
    "    def increment_odometer(self, miles):\n",
    "        self.odometer_reading += miles\n",
    "\n",
    "\n",
    "class ElectricCar(Car):\n",
    "    \"\"\"Represents aspects of a car, specific to electric vehicles.\"\"\"\n",
    "\n",
    "    def __init__(self, make, model, year):\n",
    "        \"\"\"\n",
    "        Initialize attributes of the parent class.\n",
    "        Then initialize attributes specific to an electric car.\n",
    "        \"\"\"\n",
    "        super().__init__(make, model, year)\n",
    "        self.battery_size = 75\n",
    "    \n",
    "    def describe_battery(self):\n",
    "        \"\"\"Print a statement describing the battery size.\"\"\"\n",
    "        print(f\"This car has a {self.battery_size}-kWh battery.\")\n",
    "\n",
    "    def fill_gas_tank(self):\n",
    "        \"\"\"Electric cars don't have gas tanks.\"\"\"\n",
    "        Print(\"This car doesn't need a gas tank!\")\n",
    "\n",
    "my_tesla = ElectricCar('tesla', 'model s', 2019)\n",
    "print(my_tesla.get_descriptive_name())\n",
    "my_tesla.describe_battery()"
   ]
  },
  {
   "cell_type": "markdown",
   "metadata": {},
   "source": [
    "### Instances as attributes\n",
    "\n",
    "When modeling something from the real world in code, you may find that\n",
    "you’re adding more and more detail to a class. You’ll find that you have a\n",
    "growing list of attributes and methods and that your files are becoming\n",
    "lengthy. In these situations, you might recognize that part of one class can\n",
    "be written as a separate class. You can break your large class into smaller\n",
    "classes that work together.\n",
    "\n",
    "For example, if we continue adding detail to the ElectricCar class, we\n",
    "might notice that we’re adding many attributes and methods specific to\n",
    "the car’s battery. When we see this happening, we can stop and move those\n",
    "attributes and methods to a separate class called Battery. Then we can use a\n",
    "Battery instance as an attribute in the ElectricCar class:\n",
    "\n",
    "At u we define a new class called Battery that doesn’t inherit from any\n",
    "other class. The __init__() method at v has one parameter, battery_size,\n",
    "in addition to self. This is an optional parameter that sets the battery’s\n",
    "size to 75 if no value is provided. The method describe_battery() has been\n",
    "moved to this class as well w.\n",
    "\n",
    "In the ElectricCar class, we now add an attribute called self.battery x.\n",
    "This line tells Python to create a new instance of Battery (with a default size\n",
    "of 75, because we’re not specifying a value) and assign that instance to the\n",
    "attribute self.battery. This will happen every time the __init__() method\n",
    "is called; any ElectricCar instance will now have a Battery instance created\n",
    "automatically.\n",
    "\n",
    "We create an electric car and assign it to the variable my_tesla. When\n",
    "we want to describe the battery, we need to work through the car’s battery\n",
    "attribute:\n",
    "\n",
    "This line tells Python to look at the instance my_tesla, find its battery\n",
    "attribute, and call the method describe_battery() that’s associated with the\n",
    "Battery instance stored in the attribute.\n",
    "\n",
    "The output is identical to what we saw previously:\n",
    "\n",
    "This looks like a lot of extra work, but now we can describe the battery\n",
    "in as much detail as we want without cluttering the ElectricCar class. Let’s\n",
    "add another method to Battery that reports the range of the car based on\n",
    "the battery size:\n",
    "\n",
    "The new method get_range() at u performs some simple analysis. If the\n",
    "battery’s capacity is 75 kWh, get_range() sets the range to 260 miles, and if\n",
    "the capacity is 100 kWh, it sets the range to 315 miles. It then reports this\n",
    "value. When we want to use this method, we again have to call it through\n",
    "the car’s battery attribute at v.\n",
    "\n",
    "The output tells us the range of the car based on its battery size:"
   ]
  },
  {
   "cell_type": "code",
   "execution_count": 21,
   "metadata": {},
   "outputs": [
    {
     "name": "stdout",
     "output_type": "stream",
     "text": [
      "2019 Tesla Model S\n",
      "This car has a 75-kWh battery.\n",
      "This car can go about 260 miles on full charge.\n"
     ]
    }
   ],
   "source": [
    "class Car:\n",
    "    \"\"\"A simple attempt to represent a car.\"\"\"\n",
    "    \n",
    "    def __init__(self, make, model, year):\n",
    "        self.make = make.title()\n",
    "        self.model = model.title()\n",
    "        self.year = year\n",
    "        self.odometer_reading = 0\n",
    "    \n",
    "    def get_descriptive_name(self):\n",
    "        long_name = f\"{self.year} {self.make} {self.model}\"\n",
    "        return long_name.title()\n",
    "    \n",
    "    def read_odometer(self):\n",
    "        print(f\"This car has {self.odometer_reading} miles on it.\")\n",
    "    \n",
    "    def update_odometer(self, mileage):\n",
    "        if mileage >= self.odometer_reading:\n",
    "            self.odometer_reading = mileage\n",
    "        else:\n",
    "            print(\"You can't roll back an odometer!\")\n",
    "    \n",
    "    def increment_odometer(self, miles):\n",
    "        self.odometer_reading += miles\n",
    "\n",
    "class Battery:\n",
    "    \"\"\"A simple attempt to model a battery for an electric car.\"\"\"\n",
    "\n",
    "    def __init__(self, battery_size= 75):\n",
    "        \"\"\"Initialize the battery's attributes.\"\"\"\n",
    "        self.battery_size = battery_size\n",
    "\n",
    "    def describe_battery(self):\n",
    "        \"\"\"Print a statement describing the battery size.\"\"\"\n",
    "        print(f\"This car has a {self.battery_size}-kWh battery.\")\n",
    "    \n",
    "    def get_range(self):\n",
    "        \"\"\"Priunt a statement about the range this battery provides.\"\"\"\n",
    "        if self.battery_size == 75:\n",
    "            range = 260\n",
    "        elif self.battery_size == 100:\n",
    "            range = 315\n",
    "\n",
    "        print(f\"This car can go about {range} miles on full charge.\")\n",
    "\n",
    "class ElectricCar(Car):\n",
    "    \"\"\"Represents aspects of a car, specific to electric vehicles.\"\"\"\n",
    "\n",
    "    def __init__(self, make, model, year):\n",
    "        \"\"\"\n",
    "        Initialize attributes of the parent class.\n",
    "        Then initialize attributes specific to an electric car.\n",
    "        \"\"\"\n",
    "        super().__init__(make, model, year)\n",
    "        self.battery = Battery()\n",
    "    \n",
    "    # def describe_battery(self):\n",
    "    #     \"\"\"Print a statement describing the battery size.\"\"\"\n",
    "    #     print(f\"This car has a {self.battery_size}-kWh battery.\")\n",
    "\n",
    "    def fill_gas_tank(self):\n",
    "        \"\"\"Electric cars don't have gas tanks.\"\"\"\n",
    "        Print(\"This car doesn't need a gas tank!\")\n",
    "\n",
    "my_tesla = ElectricCar('tesla', 'model s', '2019')\n",
    "print(my_tesla.get_descriptive_name())\n",
    "my_tesla.battery.describe_battery()\n",
    "my_tesla.battery.get_range()"
   ]
  },
  {
   "cell_type": "markdown",
   "metadata": {},
   "source": [
    "## Modeling Real-World Objects\n",
    "As you begin to model more complicated things like electric cars, you’ll\n",
    "wrestle with interesting questions. Is the range of an electric car a property\n",
    "of the battery or of the car? If we’re only describing one car, it’s probably\n",
    "fine to maintain the association of the method get_range() with the Battery\n",
    "class. But if we’re describing a manufacturer’s entire line of cars, we probably\n",
    "want to move get_range() to the ElectricCar class. The get_range() method\n",
    "would still check the battery size before determining the range, but it would\n",
    "report a range specific to the kind of car it’s associated with. Alternatively,\n",
    "we could maintain the association of the get_range() method with the battery\n",
    "but pass it a parameter such as car_model. The get_range() method would\n",
    "then report a range based on the battery size and car model.\n",
    "\n",
    "This brings you to an interesting point in your growth as a programmer.\n",
    "When you wrestle with questions like these, you’re thinking at a higher\n",
    "logical level rather than a syntax-focused level. You’re thinking not about\n",
    "Python, but about how to represent the real world in code. When you reach\n",
    "this point, you’ll realize there are often no right or wrong approaches to\n",
    "modeling real-world situations. Some approaches are more efficient than\n",
    "others, but it takes practice to find the most efficient representations. If\n",
    "your code is working as you want it to, you’re doing well! Don’t be discouraged\n",
    "if you find you’re ripping apart your classes and rewriting them several\n",
    "times using different approaches. In the quest to write accurate, efficient\n",
    "code, everyone goes through this process."
   ]
  },
  {
   "cell_type": "markdown",
   "metadata": {},
   "source": [
    "## Try It yourself\n",
    "\n",
    "9-3. Users: Make a class called User. Create two attributes called first_nameand last_name, and then create several other attributes that are typically stored in a user profile. Make a method called describe_user() that prints a summary of the user’s information. Make another method called greet_user() that prints a personalized greeting to the user.\n",
    "\n",
    "Create several instances representing different users, and call both methods for each user.\n",
    "\n",
    "9-4. Number Served: Start with your program from Exercise 9-1 (page 162). Add an attribute called number_served with a default value of 0. Create an instance called restaurant from this class. Print the number of customers the restaurant has served, and then change this value and print it again.\n",
    "\n",
    "9-5. Login Attempts: Add an attribute called login_attempts to your Userclass from Exercise 9-3 (page 162). Write a method called increment_login_attempts() that increments the value of login_attempts by 1. Write another method called reset_login_attempts() that resets the value of login_attemptsto 0.\n",
    "\n",
    "Make an instance of the User class and call increment_login_attempts()several times. Print the value of login_attempts to make sure it was incremented properly, and then call reset_login_attempts(). Print login_attempts again to make sure it was reset to 0."
   ]
  },
  {
   "cell_type": "markdown",
   "metadata": {},
   "source": [
    "## Try It Yourself\n",
    "9-6. Ice Cream Stand: An ice cream stand is a specific kind of restaurant. Write\n",
    "a class called IceCreamStand that inherits from the Restaurant class you wrote\n",
    "in Exercise 9-1 (page 162) or Exercise 9-4 (page 167). Either version of\n",
    "the class will work; just pick the one you like better. Add an attribute called\n",
    "flavors that stores a list of ice cream flavors. Write a method that displays\n",
    "these flavors. Create an instance of IceCreamStand, and call this method.\n",
    "\n",
    "9-7. Admin: An administrator is a special kind of user. Write a class called\n",
    "Admin that inherits from the User class you wrote in Exercise 9-3 (page 162)\n",
    "or Exercise 9-5 (page 167). Add an attribute, privileges, that stores a list\n",
    "of strings like \"can add post\", \"can delete post\", \"can ban user\", and so on.\n",
    "Write a method called show_privileges() that lists the administrator’s set of\n",
    "privileges. Create an instance of Admin, and call your method.\n",
    "\n",
    "9-8. Privileges: Write a separate Privileges class. The class should have one\n",
    "attribute, privileges, that stores a list of strings as described in Exercise 9-7.\n",
    "Move the show_privileges() method to this class. Make a Privileges instance\n",
    "as an attribute in the Admin class. Create a new instance of Admin and use your\n",
    "method to show its privileges.\n",
    "\n",
    "9-9. Battery Upgrade: Use the final version of electric_car.py from this section.\n",
    "Add a method to the Battery class called upgrade_battery(). This method\n",
    "should check the battery size and set the capacity to 100 if it isn’t already.\n",
    "Make an electric car with a default battery size, call get_range() once, and\n",
    "then call get_range() a second time after upgrading the battery. You should\n",
    "see an increase in the car’s range."
   ]
  },
  {
   "cell_type": "code",
   "execution_count": 25,
   "metadata": {},
   "outputs": [
    {
     "name": "stdout",
     "output_type": "stream",
     "text": [
      "You picked the vanilla flavor of ice cream.\n"
     ]
    }
   ],
   "source": [
    "# Exc. 9-6: Ice Cream Stand\n",
    "class IceCreamStand(Restaurant):\n",
    "    \"\"\"A class about an ice cream stand's attributes.\"\"\"\n",
    "\n",
    "    def __init__(self, flavors):\n",
    "        \"\"\"Initialize ice cream stand class.\"\"\"\n",
    "        # super().__init__('ice cream stand', 'ice cream')\n",
    "        self.flavors = flavors\n",
    "\n",
    "    def pick_flavors(self):\n",
    "        ice_cream_flavors = []\n",
    "        # flavor = input(\"Which ice cream flavor did you get?\")\n",
    "        ice_cream_flavors.append(self.flavors)\n",
    "        print(f\"You picked the {self.flavors} flavor of ice cream.\")\n",
    "\n",
    "my_ice_cream = IceCreamStand('vanilla')\n",
    "my_ice_cream.pick_flavors()"
   ]
  },
  {
   "cell_type": "code",
   "execution_count": 23,
   "metadata": {},
   "outputs": [
    {
     "ename": "SyntaxError",
     "evalue": "unexpected EOF while parsing (2033608999.py, line 5)",
     "output_type": "error",
     "traceback": [
      "\u001b[0;36m  Input \u001b[0;32mIn [23]\u001b[0;36m\u001b[0m\n\u001b[0;31m    def __init__(self):\u001b[0m\n\u001b[0m                       ^\u001b[0m\n\u001b[0;31mSyntaxError\u001b[0m\u001b[0;31m:\u001b[0m unexpected EOF while parsing\n"
     ]
    }
   ],
   "source": [
    "# Exc. 9-7: Admin\n",
    "# class Admin(User):\n",
    "#     \"\"\"A class about admin user characteristics.\"\"\"\n",
    "\n",
    "#     def __init__(self):"
   ]
  },
  {
   "cell_type": "code",
   "execution_count": null,
   "metadata": {},
   "outputs": [],
   "source": [
    "# Exc. 9-8: Privileges\n"
   ]
  }
 ],
 "metadata": {
  "kernelspec": {
   "display_name": "Python 3.8.10 64-bit",
   "language": "python",
   "name": "python3"
  },
  "language_info": {
   "codemirror_mode": {
    "name": "ipython",
    "version": 3
   },
   "file_extension": ".py",
   "mimetype": "text/x-python",
   "name": "python",
   "nbconvert_exporter": "python",
   "pygments_lexer": "ipython3",
   "version": "3.10.6 (main, Nov 14 2022, 16:10:14) [GCC 11.3.0]"
  },
  "orig_nbformat": 4,
  "vscode": {
   "interpreter": {
    "hash": "916dbcbb3f70747c44a77c7bcd40155683ae19c65e1c03b4aa3499c5328201f1"
   }
  }
 },
 "nbformat": 4,
 "nbformat_minor": 2
}
