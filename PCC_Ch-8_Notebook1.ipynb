{
 "cells": [
  {
   "cell_type": "code",
   "execution_count": null,
   "metadata": {},
   "outputs": [],
   "source": []
  },
  {
   "cell_type": "markdown",
   "metadata": {},
   "source": [
    "# Ch. 8: Functions\n",
    "\n",
    "In this chapter you’ll learn to write\n",
    "functions, which are named blocks of code\n",
    "that are designed to do one specific job.\n",
    "When you want to perform a particular task\n",
    "that you’ve defined in a function, you call the function\n",
    "responsible for it. If you need to perform that task\n",
    "multiple times throughout your program, you don’t need to type all the\n",
    "code for the same task again and again; you just call the function dedicated\n",
    "to handling that task, and the call tells Python to run the code inside the\n",
    "function. You’ll find that using functions makes your programs easier to\n",
    "write, read, test, and fix.\n",
    "\n",
    "In this chapter you’ll also learn ways to pass information to functions.\n",
    "You’ll learn how to write certain functions whose primary job is to display\n",
    "information and other functions designed to process data and return a\n",
    "value or set of values. Finally, you’ll learn to store functions in separate files\n",
    "called modules to help organize your main program files."
   ]
  },
  {
   "cell_type": "markdown",
   "metadata": {},
   "source": [
    "# Defining a Function\n",
    "Here’s a simple function named greet_user() that prints a greeting:\n",
    "\n",
    "u def greet_user():\n",
    "\n",
    "v \"\"\"Display a simple greeting.\"\"\"\n",
    "\n",
    "w print(\"Hello!\")\n",
    "\n",
    "x greet_user()\n",
    "\n",
    "This example shows the simplest structure of a function. The line at u\n",
    "uses the keyword def to inform Python that you’re defining a function. This\n",
    "is the **`function definition`**, ***which tells Python the name of the function and, if\n",
    "applicable, what kind of information the function needs to do its job. The\n",
    "parentheses hold that information. In this case, the name of the function\n",
    "is greet_user(), and it needs no information to do its job, so its parentheses\n",
    "are empty. (Even so, the parentheses are required.) Finally, the definition\n",
    "ends in a colon.***\n",
    "\n",
    "Any indented lines that follow def greet_user(): make up the `body` of\n",
    "the function. The text at v is a comment called a `docstring`, which describes\n",
    "what the function does. ***Docstrings are enclosed in triple quotes, which\n",
    "Python looks for when it generates documentation for the functions in your\n",
    "programs.***\n",
    "\n",
    "The line print(\"Hello!\")  is the only line of actual code in the body\n",
    "of this function, so greet_user() has just one job: print(\"Hello!\").\n",
    "***When you want to use this function, you call it.*** A `function call` tells\n",
    "Python to execute the code in the function. To `call` a function, you write\n",
    "the name of the function, followed by any necessary information in parentheses,\n",
    "as shown at x. Because no information is needed here, calling our\n",
    "function is as simple as entering greet_user(). As expected, it prints Hello!:"
   ]
  },
  {
   "cell_type": "code",
   "execution_count": 1,
   "metadata": {},
   "outputs": [
    {
     "name": "stdout",
     "output_type": "stream",
     "text": [
      "Hello!\n"
     ]
    }
   ],
   "source": [
    "def greet_user():\n",
    "    \"\"\"Display a simple greeting.\"\"\"\n",
    "    print(\"Hello!\")\n",
    "\n",
    "greet_user()"
   ]
  },
  {
   "cell_type": "markdown",
   "metadata": {},
   "source": [
    "## Passing Information to a Function\n",
    "Modified slightly, the function greet_user() can not only tell the user Hello!\n",
    "but also greet them by name. **For the function to do this, you enter username\n",
    "in the parentheses of the function’s definition at def greet_user(). By adding\n",
    "username here you allow the function to accept any value of username you\n",
    "specify. The function now expects you to provide a value for username each\n",
    "time you call it. When you call greet_user(), you can pass it a name, such as\n",
    "'jesse', inside the parentheses:**\n",
    "\n",
    "Entering greet_user('jesse') calls greet_user() and gives the function the\n",
    "information it needs to execute the print() call. The function accepts the\n",
    "name you passed it and displays the greeting for that name:\n",
    "\n",
    "Likewise, entering greet_user('sarah') calls greet_user(), passes it 'sarah',\n",
    "and prints Hello, Sarah! You can call greet_user() as often as you want and\n",
    "pass it any name you want to produce a predictable output every time."
   ]
  },
  {
   "cell_type": "code",
   "execution_count": 2,
   "metadata": {},
   "outputs": [
    {
     "name": "stdout",
     "output_type": "stream",
     "text": [
      "Hello, Jesse!\n"
     ]
    }
   ],
   "source": [
    "def greet_user(username):\n",
    "    \"\"\"Display a simple greeting.\"\"\"\n",
    "    print(f\"Hello, {username.title()}!\")\n",
    "\n",
    "greet_user('jesse')"
   ]
  },
  {
   "cell_type": "markdown",
   "metadata": {},
   "source": [
    "## Arguments and Parameters\n",
    "In the preceding greet_user() function, we defined greet_user() to require a\n",
    "value for the variable username. Once we called the function and gave it the\n",
    "information (a person’s name), it printed the right greeting.\n",
    "\n",
    "The variable `username` in the definition of greet_user() is an example of a\n",
    "`parameter`, a piece of information the function needs to do its job. The value\n",
    "'jesse' in greet_user('jesse') is an example of an `argument`. **An argument\n",
    "is a piece of information that’s passed from a function call to a function.**\n",
    "When we call the function, we place the value we want the function to work\n",
    "with in parentheses. *In this case the argument 'jesse' was passed to the\n",
    "function greet_user(), and the value was assigned to the parameter username.*\n",
    "\n",
    "**NOTE** People sometimes speak of arguments and parameters interchangeably. Don’t be surprised\n",
    "if you see the variables in a function definition referred to as arguments or the\n",
    "variables in a function call referred to as parameters."
   ]
  },
  {
   "cell_type": "markdown",
   "metadata": {},
   "source": [
    "## Try It Yourself\n",
    "8-1. Message: Write a function called display_message() that prints one sentence\n",
    "telling everyone what you are learning about in this chapter. Call the\n",
    "function, and make sure the message displays correctly.\n",
    "\n",
    "8-2. Favorite Book: Write a function called favorite_book() that accepts one\n",
    "parameter, title. The function should print a message, such as One of my\n",
    "favorite books is Alice in Wonderland. Call the function, making sure to\n",
    "include a book title as an argument in the function call."
   ]
  },
  {
   "cell_type": "code",
   "execution_count": 3,
   "metadata": {},
   "outputs": [
    {
     "name": "stdout",
     "output_type": "stream",
     "text": [
      "Hi guys, I'm learning about Functions!\n"
     ]
    }
   ],
   "source": [
    "def display_message(subject):\n",
    "    \"\"\"Print sentence telling everyone what you are learning in the chapter.\"\"\"\n",
    "    print(f\"Hi guys, I'm learning about {subject.title()}!\")\n",
    "\n",
    "display_message('functions')"
   ]
  },
  {
   "cell_type": "code",
   "execution_count": 4,
   "metadata": {},
   "outputs": [
    {
     "name": "stdout",
     "output_type": "stream",
     "text": [
      "One of my favorite books is Harry Potter.\n"
     ]
    }
   ],
   "source": [
    "def favorite_book(title):\n",
    "    \"\"\"Print the title of your favorite book.\"\"\"\n",
    "    print(f\"One of my favorite books is {title.title()}.\")\n",
    "\n",
    "favorite_book('harry potter')"
   ]
  },
  {
   "cell_type": "markdown",
   "metadata": {},
   "source": [
    "# Passing Arguments\n",
    "Because a function definition can have multiple parameters, a function call\n",
    "may need multiple arguments. You can pass arguments to your functions\n",
    "in a number of ways. You can use `positional arguments`, which need to be in\n",
    "the same order the parameters were written; `keyword arguments`, where each\n",
    "argument consists of a variable name and a value; and `lists and dictionaries\n",
    "of values`. Let’s look at each of these in turn."
   ]
  },
  {
   "cell_type": "markdown",
   "metadata": {},
   "source": [
    "## Positional Arguments\n",
    "***When you call a function, Python must match each argument in the function\n",
    "call with a parameter in the function definition.*** The simplest way to\n",
    "do this is based on the order of the arguments provided. Values matched\n",
    "up this way are called `positional arguments`.\n",
    "\n",
    "To see how this works, consider a function that displays information\n",
    "about pets. The function tells us what kind of animal each pet is and the\n",
    "pet’s name, as shown here:\n",
    "\n",
    "u def describe_pet(animal_type, pet_name):\n",
    "\n",
    "\"\"\"Display information about a pet.\"\"\"\n",
    "\n",
    "print(f\"\\nI have a {animal_type}.\")\n",
    "\n",
    "print(f\"My {animal_type}'s name is {pet_name.title()}.\")\n",
    "\n",
    "v describe_pet('hamster', 'harry')\n",
    "\n",
    "The definition shows that this function needs a type of animal and the\n",
    "animal’s name u. When we call describe_pet(), we need to provide an animal\n",
    "type and a name, in that order. For example, in the function call, the\n",
    "argument 'hamster' is assigned to the parameter animal_type and the argument\n",
    "'harry' is assigned to the parameter pet_name v. In the function body,\n",
    "these two parameters are used to display information about the pet being\n",
    "described.\n",
    "\n",
    "The output describes a hamster named Harry:"
   ]
  },
  {
   "cell_type": "code",
   "execution_count": 5,
   "metadata": {},
   "outputs": [
    {
     "name": "stdout",
     "output_type": "stream",
     "text": [
      "\n",
      "I have a hamster.\n",
      "My hamster's name is Harry.\n"
     ]
    }
   ],
   "source": [
    "def describe_pet(animal_type, pet_name):\n",
    "    \"\"\"Display information about a pet.\"\"\"\n",
    "    print(f\"\\nI have a {animal_type}.\")\n",
    "    print(f\"My {animal_type}'s name is {pet_name.title()}.\")\n",
    "\n",
    "describe_pet('hamster', 'harry')"
   ]
  },
  {
   "cell_type": "markdown",
   "metadata": {},
   "source": [
    "## Multiple Function Calls\n",
    "**You can call a function as many times as needed.** Describing a second, different\n",
    "pet requires just one more call to describe_pet():\n",
    "\n",
    "In this second function call, we pass describe_pet() the arguments 'dog'\n",
    "and 'willie'. As with the previous set of arguments we used, Python matches\n",
    "'dog' with the parameter animal_type and 'willie' with the parameter pet_name.\n",
    "As before, the function does its job, but this time it prints values for a dog\n",
    "named Willie. Now we have a hamster named Harry and a dog named Willie:\n",
    "\n",
    "Calling a function multiple times is a very efficient way to work. The\n",
    "code describing a pet is written once in the function. Then, anytime you\n",
    "want to describe a new pet, you call the function with the new pet’s information.\n",
    "Even if the code for describing a pet were to expand to ten lines,\n",
    "you could still describe a new pet in just one line by calling the function\n",
    "again.\n",
    "\n",
    "You can use as many positional arguments as you need in your functions.\n",
    "Python works through the arguments you provide when calling the\n",
    "function and matches each one with the corresponding parameter in\n",
    "the function’s definition."
   ]
  },
  {
   "cell_type": "code",
   "execution_count": 6,
   "metadata": {},
   "outputs": [
    {
     "name": "stdout",
     "output_type": "stream",
     "text": [
      "\n",
      "I have a hamster.\n",
      "My hamster's name is Harry.\n",
      "\n",
      "I have a dog.\n",
      "My dog's name is Willie.\n"
     ]
    }
   ],
   "source": [
    "def describe_pet(animal_type, pet_name):\n",
    "    \"\"\"Display information about a pet.\"\"\"\n",
    "    print(f\"\\nI have a {animal_type}.\")\n",
    "    print(f\"My {animal_type}'s name is {pet_name.title()}.\")\n",
    "\n",
    "describe_pet('hamster', 'harry')\n",
    "describe_pet('dog', 'willie')"
   ]
  },
  {
   "cell_type": "markdown",
   "metadata": {},
   "source": [
    "## Order Matters in Positional Arguments\n",
    "You can get unexpected results if you mix up the order of the arguments in\n",
    "a function call when using positional arguments:\n",
    "\n",
    "In this function call we list the name first and the type of animal second.\n",
    "Because the argument 'harry' is listed first this time, that value is assigned\n",
    "to the parameter animal_type. Likewise, 'hamster' is assigned to pet_name. Now\n",
    "we have a “harry” named “Hamster”:\n",
    "\n",
    "If you get funny results like this, ***check to make sure the order of the\n",
    "arguments in your function call matches the order of the parameters in the\n",
    "function’s definition.***"
   ]
  },
  {
   "cell_type": "code",
   "execution_count": 7,
   "metadata": {},
   "outputs": [
    {
     "name": "stdout",
     "output_type": "stream",
     "text": [
      "\n",
      "I have a harry.\n",
      "My harry's name is Hamster.\n"
     ]
    }
   ],
   "source": [
    "def describe_pet(animal_type, pet_name):\n",
    "    \"\"\"Display information about a pet.\"\"\"\n",
    "    print(f\"\\nI have a {animal_type}.\")\n",
    "    print(f\"My {animal_type}'s name is {pet_name.title()}.\")\n",
    "\n",
    "describe_pet('harry', 'hamster')"
   ]
  },
  {
   "cell_type": "markdown",
   "metadata": {},
   "source": [
    "# Keyword Arguments\n",
    "A `keyword argument` is a name-value pair that you pass to a function. You\n",
    "directly associate the name and the value within the argument, so when you\n",
    "pass the argument to the function, there’s no confusion (you won’t end up\n",
    "with a harry named Hamster). Keyword arguments free you from having\n",
    "to worry about correctly ordering your arguments in the function call, and\n",
    "they clarify the role of each value in the function call.\n",
    "\n",
    "Let’s rewrite pets.py using keyword arguments to call describe_pet():\n",
    "\n",
    "The function describe_pet() hasn’t changed. But when we call the function,\n",
    "we explicitly tell Python which parameter each argument should be\n",
    "matched with. When Python reads the function call, it knows to assign the\n",
    "argument 'hamster' to the parameter animal_type and the argument 'harry'\n",
    "to pet_name. The output correctly shows that we have a hamster named\n",
    "Harry.\n",
    "\n",
    "The order of keyword arguments doesn’t matter because Python\n",
    "knows where each value should go. The following two function calls are\n",
    "equivalent:\n",
    "\n",
    "**NOTE** ***When you use keyword arguments, be sure to use the exact names of the parameters in\n",
    "the function’s definition.***"
   ]
  },
  {
   "cell_type": "code",
   "execution_count": 8,
   "metadata": {},
   "outputs": [
    {
     "name": "stdout",
     "output_type": "stream",
     "text": [
      "\n",
      "I have a hamster.\n",
      "My hamster's name is Harry.\n",
      "\n",
      "I have a hamster.\n",
      "My hamster's name is Harry.\n"
     ]
    }
   ],
   "source": [
    "def describe_pet(animal_type, pet_name):\n",
    "    \"\"\"Display information about a pet.\"\"\"\n",
    "    print(f\"\\nI have a {animal_type}.\")\n",
    "    print(f\"My {animal_type}'s name is {pet_name.title()}.\")\n",
    "\n",
    "describe_pet(animal_type='hamster', pet_name='harry')\n",
    "describe_pet(pet_name='harry', animal_type='hamster')"
   ]
  },
  {
   "cell_type": "markdown",
   "metadata": {},
   "source": [
    "## Default Values\n",
    "When writing a function, you can define a `default value` for each parameter.\n",
    "If an argument for a parameter is provided in the function call, Python uses\n",
    "the argument value. If not, it uses the parameter’s default value. So when\n",
    "you define a default value for a parameter, you can exclude the corresponding\n",
    "argument you’d usually write in the function call. Using default values\n",
    "can simplify your function calls and clarify the ways in which your functions\n",
    "are typically used.\n",
    "\n",
    "For example, if you notice that most of the calls to describe_pet() are\n",
    "being used to describe dogs, you can set the default value of animal_type to\n",
    "'dog'. Now anyone calling describe_pet() for a dog can omit that information:\n",
    "\n",
    "We changed the definition of describe_pet() to include a default value,\n",
    "'dog', for animal_type. Now when the function is called with no animal_type\n",
    "specified, Python knows to use the value 'dog' for this parameter:\n",
    "\n",
    "***Note that the order of the parameters in the function definition had\n",
    "to be changed. Because the default value makes it unnecessary to specify a\n",
    "type of animal as an argument, the only argument left in the function call\n",
    "is the pet’s name. Python still interprets this as a positional argument, so if\n",
    "the function is called with just a pet’s name, that argument will match up\n",
    "with the first parameter listed in the function’s definition. This is the reason\n",
    "the first parameter needs to be pet_name.***\n",
    "\n",
    "The simplest way to use this function now is to provide just a dog’s\n",
    "name in the function call:\n",
    "\n",
    "This function call would have the same output as the previous example.\n",
    "The only argument provided is 'willie', so it is matched up with the first\n",
    "parameter in the definition, pet_name. Because no argument is provided for\n",
    "animal_type, Python uses the default value 'dog'.\n",
    "\n",
    "To describe an animal other than a dog, you could use a function call\n",
    "like this:\n",
    "\n",
    "describe_pet(pet_name='harry', animal_type='hamster')\n",
    "\n",
    "Because an explicit argument for animal_type is provided, Python will\n",
    "ignore the parameter’s default value.\n",
    "\n",
    "**NOTE** ***When you use default values, any parameter with a default value needs to be listed\n",
    "after all the parameters that don’t have default values. This allows Python to continue\n",
    "interpreting positional arguments correctly.***"
   ]
  },
  {
   "cell_type": "code",
   "execution_count": 9,
   "metadata": {},
   "outputs": [
    {
     "name": "stdout",
     "output_type": "stream",
     "text": [
      "\n",
      "I have a dog.\n",
      "My dog's name is Willie.\n",
      "\n",
      "I have a dog.\n",
      "My dog's name is Willie.\n",
      "\n",
      "I have a hamster.\n",
      "My hamster's name is Harry.\n"
     ]
    }
   ],
   "source": [
    "def describe_pet(pet_name, animal_type='dog'):\n",
    "    \"\"\"Display information about a pet.\"\"\"\n",
    "    print(f\"\\nI have a {animal_type}.\")\n",
    "    print(f\"My {animal_type}'s name is {pet_name.title()}.\")\n",
    "\n",
    "describe_pet('willie')\n",
    "describe_pet(pet_name='willie')\n",
    "\n",
    "describe_pet(pet_name='harry', animal_type='hamster')"
   ]
  },
  {
   "cell_type": "markdown",
   "metadata": {},
   "source": [
    "## Equivalent Function Calls\n",
    "Because positional arguments, keyword arguments, and default values can\n",
    "all be used together, often you’ll have several equivalent ways to call a function.\n",
    "Consider the following definition for describe_pet() with one default\n",
    "value provided:\n",
    "\n",
    "With this definition, an argument always needs to be provided for\n",
    "pet_name, and this value can be provided using the positional or keyword\n",
    "format. If the animal being described is not a dog, an argument for\n",
    "animal_type must be included in the call, and this argument can also be\n",
    "specified using the positional or keyword format.\n",
    "\n",
    "All of the following calls would work for this function:\n",
    "\n",
    "Each of these function calls would have the same output as the previous\n",
    "examples.\n",
    "\n",
    "**NOTE** It doesn’t really matter which calling style you use. As long as your function calls produce\n",
    "the output you want, just use the style you find easiest to understand."
   ]
  },
  {
   "cell_type": "code",
   "execution_count": 10,
   "metadata": {},
   "outputs": [
    {
     "name": "stdout",
     "output_type": "stream",
     "text": [
      "\n",
      "I have a dog.\n",
      "My dog's name is Willie.\n",
      "\n",
      "I have a dog.\n",
      "My dog's name is Willie.\n",
      "\n",
      "I have a hamster.\n",
      "My hamster's name is Harry.\n",
      "\n",
      "I have a hamster.\n",
      "My hamster's name is Harry.\n",
      "\n",
      "I have a hamster.\n",
      "My hamster's name is Harry.\n"
     ]
    }
   ],
   "source": [
    "def describe_pet(pet_name, animal_type='dog'):\n",
    "    \"\"\"Display information about a pet.\"\"\"\n",
    "    print(f\"\\nI have a {animal_type}.\")\n",
    "    print(f\"My {animal_type}'s name is {pet_name.title()}.\")\n",
    "\n",
    "# A dog named Willie\n",
    "describe_pet('willie')\n",
    "describe_pet(pet_name='willie')\n",
    "\n",
    "# A hamster named Harry\n",
    "describe_pet('harry', 'hamster')\n",
    "describe_pet(pet_name='harry', animal_type='hamster')\n",
    "describe_pet(animal_type='hamster', pet_name='harry')"
   ]
  },
  {
   "cell_type": "markdown",
   "metadata": {},
   "source": [
    "## Avoiding Argument Errors\n",
    "When you start to use functions, don’t be surprised if you encounter errors\n",
    "about unmatched arguments. Unmatched arguments occur when you\n",
    "provide fewer or more arguments than a function needs to do its work.\n",
    "For example, here’s what happens if we try to call describe_pet() with no\n",
    "arguments:\n",
    "\n",
    "Python recognizes that some information is missing from the function\n",
    "call, and the traceback tells us that:\n",
    "\n",
    "At u the traceback tells us the location of the problem, allowing us to\n",
    "look back and see that something went wrong in our function call. At v\n",
    "the offending function call is written out for us to see. At w the traceback\n",
    "tells us the call is missing two arguments and reports the names of the missing\n",
    "arguments. If this function were in a separate file, we could probably\n",
    "rewrite the call correctly without having to open that file and read the function\n",
    "code.\n",
    "\n",
    "Python is helpful in that it reads the function’s code for us and tells us\n",
    "the names of the arguments we need to provide. This is another motivation\n",
    "for giving your variables and functions descriptive names. If you do,\n",
    "Python’s error messages will be more useful to you and anyone else who\n",
    "might use your code.\n",
    "\n",
    "If you provide too many arguments, you should get a similar traceback\n",
    "that can help you correctly match your function call to the function\n",
    "definition."
   ]
  },
  {
   "cell_type": "code",
   "execution_count": 11,
   "metadata": {},
   "outputs": [
    {
     "name": "stdout",
     "output_type": "stream",
     "text": [
      "\n",
      "I have a horse.\n",
      "My horse's name is Sheila.\n"
     ]
    }
   ],
   "source": [
    "def describe_pet(animal_type, pet_name):\n",
    "    \"\"\"Display information about a pet.\"\"\" \n",
    "    print(f\"\\nI have a {animal_type}.\")\n",
    "    print(f\"My {animal_type}'s name is {pet_name.title()}.\")\n",
    "\n",
    "describe_pet(animal_type='horse', pet_name='sheila')"
   ]
  },
  {
   "cell_type": "markdown",
   "metadata": {},
   "source": [
    "## Try It Yourself\n",
    "8-3. T-Shirt: Write a function called make_shirt() that accepts a size and the\n",
    "text of a message that should be printed on the shirt. The function should print\n",
    "a sentence summarizing the size of the shirt and the message printed on it.\n",
    "\n",
    "Call the function once using positional arguments to make a shirt. Call the\n",
    "function a second time using keyword arguments.\n",
    "\n",
    "8-4. Large Shirts: Modify the make_shirt() function so that shirts are large\n",
    "by default with a message that reads I love Python. Make a large shirt and a\n",
    "medium shirt with the default message, and a shirt of any size with a different\n",
    "message.\n",
    "\n",
    "8-5. Cities: Write a function called describe_city() that accepts the name of\n",
    "a city and its country. The function should print a simple sentence, such as\n",
    "Reykjavik is in Iceland. Give the parameter for the country a default value.\n",
    "Call your function for three different cities, at least one of which is not in the\n",
    "default country."
   ]
  },
  {
   "cell_type": "code",
   "execution_count": 12,
   "metadata": {},
   "outputs": [
    {
     "name": "stdout",
     "output_type": "stream",
     "text": [
      "\n",
      "Your Medium-sized shirt with the message 'We are the champions' will be available next week.\n",
      "\n",
      "Your Large-sized shirt with the message 'My friends' will be available next week.\n"
     ]
    }
   ],
   "source": [
    "# 8-3. T-Shirt\n",
    "def make_shirt(shirt_size, message_text):\n",
    "    \"\"\"Print a sentence summarizing the size of the shirt \n",
    "    and the message printed on it.\"\"\"\n",
    "    print(f\"\\nYour {shirt_size.title()}-sized shirt with the message '{message_text.capitalize()}' will be available next week.\")\n",
    "\n",
    "make_shirt('medium', 'we are the champions')\n",
    "make_shirt(message_text='my friends', shirt_size='large')"
   ]
  },
  {
   "cell_type": "code",
   "execution_count": 13,
   "metadata": {},
   "outputs": [
    {
     "name": "stdout",
     "output_type": "stream",
     "text": [
      "\n",
      "Your Large-sized shirt with the message 'I Love Python' will be available next week.\n",
      "\n",
      "Your Small-sized shirt with the message 'Python Is Great!' will be available next week.\n",
      "\n",
      "Your Medium-sized shirt with the message 'I Love Python' will be available next week.\n",
      "\n",
      "Your Large-sized shirt with the message 'Do You Love Python, Too?' will be available next week.\n",
      "\n",
      "Your Extra Large-sized shirt with the message 'Python Is King' will be available next week.\n"
     ]
    }
   ],
   "source": [
    "# 8-4. Large Shirts\n",
    "def make_shirt(shirt_size='Large', message_text='I Love Python'):\n",
    "    \"\"\"Print a sentence summarizing the size of the shirt \n",
    "    and the message printed on it.\"\"\"\n",
    "    print(f\"\\nYour {shirt_size.title()}-sized shirt with the message '{message_text.title()}' will be available next week.\")\n",
    "\n",
    "# Variations\n",
    "make_shirt()\n",
    "make_shirt('small', 'python is great!')\n",
    "make_shirt(shirt_size='medium')\n",
    "make_shirt(message_text=\"Do you love Python, too?\")\n",
    "make_shirt(message_text='python is king', shirt_size='extra large')"
   ]
  },
  {
   "cell_type": "code",
   "execution_count": 14,
   "metadata": {},
   "outputs": [
    {
     "name": "stdout",
     "output_type": "stream",
     "text": [
      "\n",
      "The city of Chicago is in the country United States.\n",
      "\n",
      "The city of Los Angeles is in the country United States.\n",
      "\n",
      "The city of Kandahar is in the country Afghanistan.\n",
      "\n",
      "The city of Moscow is in the country Russia.\n",
      "\n",
      "The city of Beijing is in the country China.\n"
     ]
    }
   ],
   "source": [
    "def describe_city(city_name='Chicago', country_name='United States'):\n",
    "    \"\"\"Prints a sentence with the city and country.\"\"\"\n",
    "    print(f\"\\nThe city of {city_name.title()} is in the country {country_name.title()}.\")\n",
    "\n",
    "describe_city()\n",
    "describe_city('los angeles', 'united states')\n",
    "describe_city('kandahar', 'afghanistan')\n",
    "describe_city(country_name='russia', city_name='moscow')\n",
    "describe_city(city_name='beijing', country_name='china')"
   ]
  },
  {
   "cell_type": "markdown",
   "metadata": {},
   "source": [
    "# Return Values\n",
    "\n",
    "A function doesn’t always have to display its output directly. Instead, it can\n",
    "process some data and then return a value or set of values. The value the\n",
    "function returns is called a `return value`. The return statement takes a value\n",
    "from inside a function and sends it back to the line that called the function.\n",
    "Return values allow you to move much of your program’s grunt work into\n",
    "functions, which can simplify the body of your program."
   ]
  },
  {
   "cell_type": "markdown",
   "metadata": {},
   "source": [
    "## Returning a Simple Value\n",
    "Let’s look at a function that takes a first and last name, and returns a neatly\n",
    "formatted full name:\n",
    "\n",
    "The definition of get_formatted_name() takes as parameters a first and last\n",
    "name u. The function combines these two names, adds a space between\n",
    "them, and assigns the result to full_name v. The value of full_name is converted\n",
    "to title case, and then returned to the calling line at w.\n",
    "\n",
    "***When you call a function that returns a value, you need to provide a\n",
    "variable that the return value can be assigned to***. In this case, the returned\n",
    "value is assigned to the variable musician at x. The output shows a neatly formatted\n",
    "name made up of the parts of a person’s name:\n",
    "\n",
    "This might seem like a lot of work to get a neatly formatted name when\n",
    "we could have just written:\n",
    "\n",
    "But when you consider working with a large program that needs to\n",
    "store many first and last names separately, functions like get_formatted_name()\n",
    "become very useful. You store first and last names separately and then call\n",
    "this function whenever you want to display a full name."
   ]
  },
  {
   "cell_type": "code",
   "execution_count": 15,
   "metadata": {},
   "outputs": [
    {
     "name": "stdout",
     "output_type": "stream",
     "text": [
      "Jimi Hendrix\n"
     ]
    }
   ],
   "source": [
    "def get_formatted_name(first_name, last_name):\n",
    "    \"\"\"Return a full name, neatly formatted\"\"\"\n",
    "    full_name = f\"{first_name} {last_name}\"\n",
    "    return full_name.title()\n",
    "\n",
    "musician = get_formatted_name('jimi', 'hendrix')\n",
    "print(musician)"
   ]
  },
  {
   "cell_type": "markdown",
   "metadata": {},
   "source": [
    "## Making an Argument Optional\n",
    "Sometimes it makes sense to make an argument optional so that people\n",
    "using the function can choose to provide extra information only if they\n",
    "want to. You can use default values to make an argument optional.\n",
    "For example, say we want to expand get_formatted_name() to handle\n",
    "middle names as well. A first attempt to include middle names might look\n",
    "like this:\n",
    "\n",
    "This function works when given a first, middle, and last name. The\n",
    "function takes in all three parts of a name and then builds a string out of\n",
    "them. The function adds spaces where appropriate and converts the full\n",
    "name to title case:\n",
    "\n",
    "But middle names aren’t always needed, and this function as written\n",
    "would not work if you tried to call it with only a first name and a last name.\n",
    "***To make the middle name optional, we can give the middle_name argument\n",
    "an empty default value and ignore the argument unless the user provides a\n",
    "value. To make get_formatted_name() work without a middle name, we set the\n",
    "default value of middle_name to an empty string and move it to the end of the\n",
    "list of parameters:***\n",
    "\n",
    "In this example, the name is built from three possible parts. Because\n",
    "there’s always a first and last name, these parameters are listed first in the\n",
    "function’s definition. The middle name is optional, so it’s listed last in the\n",
    "definition, and its default value is an empty string u.\n",
    "\n",
    "In the body of the function, we check to see if a middle name has been\n",
    "provided. `Python interprets non-empty strings as True`, so *if middle_name* evaluates\n",
    "to True if a middle name argument is in the function call v. If a middle\n",
    "name is provided, the first, middle, and last names are combined to form a\n",
    "full name. This name is then changed to title case and returned to the function\n",
    "call line where it’s assigned to the variable musician and printed. If no\n",
    "middle name is provided, the empty string fails the if test and the else block\n",
    "runs w. The full name is made with just a first and last name, and the formatted\n",
    "name is returned to the calling line where it’s assigned to musician and\n",
    "printed.\n",
    "\n",
    "Calling this function with a first and last name is straightforward. If\n",
    "we’re using a middle name, however, we have to make sure the middle\n",
    "name is the last argument passed so Python will match up the positional\n",
    "arguments correctly x.\n",
    "\n",
    "This modified version of our function works for people with just a first\n",
    "and last name, and it works for people who have a middle name as well:\n",
    "\n",
    "Optional values allow functions to handle a wide range of use cases\n",
    "while letting function calls remain as simple as possible."
   ]
  },
  {
   "cell_type": "code",
   "execution_count": 16,
   "metadata": {},
   "outputs": [
    {
     "name": "stdout",
     "output_type": "stream",
     "text": [
      "<function get_formatted_name at 0x7fee6c3f7dc0>\n",
      "Joe Shmo Blow\n",
      "John Lee Hooker\n"
     ]
    }
   ],
   "source": [
    "def get_formatted_name(first_name, middle_name, last_name):\n",
    "    \"\"\"Return a full name, neatly formatted.\"\"\"\n",
    "    full_name = f\"{first_name} {middle_name} {last_name}\"\n",
    "    return full_name.title()\n",
    "\n",
    "get_formatted_name('joe', 'shmo', 'blow')\n",
    "print(get_formatted_name)\n",
    "\n",
    "test = get_formatted_name('joe', 'shmo', 'blow')\n",
    "print(test)\n",
    "\n",
    "musician = get_formatted_name('john', 'lee', 'hooker')\n",
    "print(musician)"
   ]
  },
  {
   "cell_type": "code",
   "execution_count": 17,
   "metadata": {},
   "outputs": [
    {
     "name": "stdout",
     "output_type": "stream",
     "text": [
      "Jimi Hendrix\n",
      "John Lee Hooker\n",
      "Brian Alan Taggert\n"
     ]
    }
   ],
   "source": [
    "def get_formatted_name(first_name, last_name, middle_name=''):\n",
    "    \"\"\"Return a full name, neatly formatted.\"\"\"\n",
    "    if middle_name:\n",
    "        full_name = f\"{first_name} {middle_name} {last_name}\"\n",
    "    else:\n",
    "        full_name = f\"{first_name} {last_name}\"\n",
    "    return full_name.title()\n",
    "\n",
    "musician = get_formatted_name('jimi', 'hendrix')\n",
    "print(musician)\n",
    "\n",
    "musician = get_formatted_name('john', 'hooker', 'lee')\n",
    "print(musician)\n",
    "\n",
    "musician = get_formatted_name(last_name='taggert', middle_name='alan', first_name='brian')\n",
    "print(musician)"
   ]
  },
  {
   "cell_type": "markdown",
   "metadata": {},
   "source": [
    "## Returning a Dictionary\n",
    "\n",
    "A function can return any kind of value you need it to, including more complicated\n",
    "data structures like lists and dictionaries. For example, the following\n",
    "function takes in parts of a name and returns a dictionary representing\n",
    "a person:\n",
    "\n",
    "The function build_person() takes in a first and last name, and puts\n",
    "these values into a dictionary at u. The value of first_name is stored with\n",
    "the key 'first', and the value of last_name is stored with the key 'last'. The\n",
    "entire dictionary representing the person is returned at v. The return\n",
    "value is printed at w with the original two pieces of textual information\n",
    "now stored in a dictionary:\n",
    "\n",
    "This function takes in simple textual information and puts it into a\n",
    "more meaningful data structure that lets you work with the information\n",
    "beyond just printing it. The strings 'jimi' and 'hendrix' are now labeled as\n",
    "a first name and last name. You can easily extend this function to accept\n",
    "optional values like a middle name, an age, an occupation, or any other\n",
    "information you want to store about a person. For example, the following\n",
    "change allows you to store a person’s age as well:\n",
    "\n",
    "We add a new optional parameter age to the function definition and\n",
    "assign the parameter the special value `None`, which is ***used when a variable\n",
    "has no specific value assigned to it. You can think of None as a placeholder\n",
    "value. In conditional tests, None evaluates to False.*** If the function call\n",
    "includes a value for age, that value is stored in the dictionary. This function\n",
    "always stores a person’s name, but it can also be modified to store any other\n",
    "information you want about a person."
   ]
  },
  {
   "cell_type": "code",
   "execution_count": 18,
   "metadata": {},
   "outputs": [
    {
     "name": "stdout",
     "output_type": "stream",
     "text": [
      "{'first': 'jimi', 'last': 'hendrix'}\n"
     ]
    }
   ],
   "source": [
    "def build_person(first_name, last_name):\n",
    "    \"\"\"Return a dictionary of information about a person.\"\"\"\n",
    "    person = {'first' : first_name, 'last' : last_name}\n",
    "    return person\n",
    "\n",
    "musician = build_person('jimi', 'hendrix')\n",
    "print(musician)"
   ]
  },
  {
   "cell_type": "code",
   "execution_count": 19,
   "metadata": {},
   "outputs": [
    {
     "name": "stdout",
     "output_type": "stream",
     "text": [
      "{'first': 'jimi', 'last': 'hendrix', 'age': 27}\n"
     ]
    }
   ],
   "source": [
    "def build_person(first_name, last_name, age=None):\n",
    "    \"\"\"Return a dictionary of information about a person.\"\"\"\n",
    "    person = {'first' : first_name, 'last' : last_name}\n",
    "    if age:\n",
    "        person['age'] = age\n",
    "    return person\n",
    "\n",
    "musician = build_person('jimi', 'hendrix', age=27)\n",
    "print(musician)"
   ]
  },
  {
   "cell_type": "markdown",
   "metadata": {},
   "source": [
    "## Using a Function with a while Loop\n",
    "You can use functions with all the Python structures you’ve learned about\n",
    "so far. For example, let’s use the get_formatted_name() function with a while\n",
    "loop to greet users more formally. Here’s a first attempt at greeting people\n",
    "using their first and last names:\n",
    "\n",
    "For this example, we use a simple version of get_formatted_name() that\n",
    "doesn’t involve middle names. The while loop asks the user to enter their\n",
    "name, and we prompt for their first and last name separately u.\n",
    "\n",
    "But there’s one problem with this while loop: We haven’t defined a quit\n",
    "condition. Where do you put a quit condition when you ask for a series of\n",
    "inputs? We want the user to be able to quit as easily as possible, so each\n",
    "prompt should offer a way to quit. The break statement offers a straightforward\n",
    "way to exit the loop at either prompt:\n",
    "\n",
    "We add a message that informs the user how to quit, and then we\n",
    "break out of the loop if the user enters the quit value at either prompt.\n",
    "Now the program will continue greeting people until someone enters 'q'\n",
    "for either name:"
   ]
  },
  {
   "cell_type": "code",
   "execution_count": 20,
   "metadata": {},
   "outputs": [
    {
     "name": "stdout",
     "output_type": "stream",
     "text": [
      "\n",
      "Please tell me your name:\n",
      "(enter 'q' at any time to quit)\n"
     ]
    }
   ],
   "source": [
    "def get_formatted_name(first_name, last_name):\n",
    "    \"\"\"Return a full name, neatly formatted.\"\"\"\n",
    "    full_name = f\"{first_name.title()} {last_name.title()}\"\n",
    "    return full_name.title()\n",
    "\n",
    "while True:\n",
    "    print(\"\\nPlease tell me your name:\")\n",
    "    print(\"(enter 'q' at any time to quit)\")\n",
    "\n",
    "    f_name = input(\"First name: \")\n",
    "    if f_name == 'q':\n",
    "        break\n",
    "    \n",
    "    l_name = input(\"Last name: \")\n",
    "    if l_name == 'q':\n",
    "        break\n",
    "    \n",
    "    formatted_name = get_formatted_name(f_name, l_name)\n",
    "    print(f\"\\nHello, {formatted_name}!\")"
   ]
  },
  {
   "cell_type": "markdown",
   "metadata": {},
   "source": [
    "## Try It Yourself\n",
    "8-6. City Names: Write a function called city_country() that takes in the name\n",
    "of a city and its country. The function should return a string formatted like this:\n",
    "\"Santiago, Chile\"\n",
    "Call your function with at least three city-country pairs, and print the\n",
    "values that are returned.\n",
    "\n",
    "8-7. Album: Write a function called make_album() that builds a dictionary\n",
    "describing a music album. The function should take in an artist name and an\n",
    "album title, and it should return a dictionary containing these two pieces of\n",
    "information. Use the function to make three dictionaries representing different\n",
    "albums. Print each return value to show that the dictionaries are storing the\n",
    "album information correctly.\n",
    "Use None to add an optional parameter to make_album() that allows you to\n",
    "store the number of songs on an album. If the calling line includes a value for\n",
    "the number of songs, add that value to the album’s dictionary. Make at least\n",
    "one new function call that includes the number of songs on an album.\n",
    "\n",
    "8-8. User Albums: Start with your program from Exercise 8-7. Write a while\n",
    "loop that allows users to enter an album’s artist and title. Once you have that\n",
    "information, call make_album() with the user’s input and print the dictionary\n",
    "that’s created. Be sure to include a quit value in the while loop."
   ]
  },
  {
   "cell_type": "code",
   "execution_count": 21,
   "metadata": {},
   "outputs": [
    {
     "name": "stdout",
     "output_type": "stream",
     "text": [
      "\n",
      "Chicago, United States\n",
      "\n",
      "Cairo, Egypt\n",
      "\n",
      "Tokyo, Japan\n"
     ]
    }
   ],
   "source": [
    "def city_country(city, country):\n",
    "    \"\"\"Prints the name of a city and its country.\"\"\"\n",
    "    print(f\"\\n{city.title()}, {country.title()}\")\n",
    "\n",
    "city_country('chicago', 'united states')\n",
    "city_country('cairo', 'egypt')\n",
    "city_country('tokyo', 'japan')"
   ]
  },
  {
   "cell_type": "code",
   "execution_count": 22,
   "metadata": {},
   "outputs": [
    {
     "name": "stdout",
     "output_type": "stream",
     "text": [
      "{'first': 'jimi', 'last': 'hendrix', 'age': 27}\n"
     ]
    }
   ],
   "source": [
    "def build_person(first_name, last_name, age=None):\n",
    "    \"\"\"Return a dictionary of information about a person.\"\"\"\n",
    "    person = {'first' : first_name, 'last' : last_name}\n",
    "    if age:\n",
    "        person['age'] = age\n",
    "    return person\n",
    "\n",
    "musician = build_person('jimi', 'hendrix', age=27)\n",
    "print(musician)"
   ]
  },
  {
   "cell_type": "code",
   "execution_count": 23,
   "metadata": {},
   "outputs": [
    {
     "name": "stdout",
     "output_type": "stream",
     "text": [
      "{'artist': 'Joh Van Dam', 'album': 'Heartache'}\n",
      "{'artist': 'Kenny Holiday', 'album': 'Christmas Is For Suckers And Grandma'}\n",
      "{'artist': 'Nancy Grace', 'album': \"I'M Secretly A Democrat\"}\n"
     ]
    }
   ],
   "source": [
    "def make_album(artist_name, album_title):\n",
    "    \"\"\"Builds a dictionary describing a music album.\"\"\"\n",
    "    music_album = {'artist' : artist_name.title(), 'album' : album_title.title()}\n",
    "    return music_album\n",
    "\n",
    "print(make_album('joh van dam', 'heartache'))\n",
    "print(make_album('kenny holiday', 'christmas is for suckers and grandma'))\n",
    "print(make_album('nancy grace', \"i'm secretly a democrat\"))"
   ]
  },
  {
   "cell_type": "code",
   "execution_count": 24,
   "metadata": {},
   "outputs": [
    {
     "name": "stdout",
     "output_type": "stream",
     "text": [
      "\n",
      "Please tell me your name:\n",
      "(enter 'q' at any time to quit)\n"
     ]
    }
   ],
   "source": [
    "def get_formatted_name(first_name, last_name):\n",
    "    \"\"\"Return a full name, neatly formatted.\"\"\"\n",
    "    full_name = f\"{first_name.title()} {last_name.title()}\"\n",
    "    return full_name.title()\n",
    "\n",
    "while True:\n",
    "    print(\"\\nPlease tell me your name:\")\n",
    "    print(\"(enter 'q' at any time to quit)\")\n",
    "\n",
    "    f_name = input(\"First name: \")\n",
    "    if f_name == 'q':\n",
    "        break\n",
    "    \n",
    "    l_name = input(\"Last name: \")\n",
    "    if l_name == 'q':\n",
    "        break\n",
    "    \n",
    "    formatted_name = get_formatted_name(f_name, l_name)\n",
    "    print(f\"\\nHello, {formatted_name}!\")"
   ]
  },
  {
   "cell_type": "markdown",
   "metadata": {},
   "source": [
    "8-7. Album: Write a function called make_album() that builds a dictionary\n",
    "describing a music album. The function should take in an artist name and an\n",
    "album title, and it should return a dictionary containing these two pieces of\n",
    "information. Use the function to make three dictionaries representing different\n",
    "albums. Print each return value to show that the dictionaries are storing the\n",
    "album information correctly.\n",
    "Use None to add an optional parameter to make_album() that allows you to\n",
    "store the number of songs on an album. If the calling line includes a value for\n",
    "the number of songs, add that value to the album’s dictionary. Make at least\n",
    "one new function call that includes the number of songs on an album.\n",
    "\n",
    "8-8. User Albums: Start with your program from Exercise 8-7. Write a while\n",
    "loop that allows users to enter an album’s artist and title. Once you have that\n",
    "information, call make_album() with the user’s input and print the dictionary\n",
    "that’s created. Be sure to include a quit value in the while loop."
   ]
  },
  {
   "cell_type": "code",
   "execution_count": 25,
   "metadata": {},
   "outputs": [
    {
     "name": "stdout",
     "output_type": "stream",
     "text": [
      "Tell me the artist's name and album:\n",
      "(enter 'q' at any time to quit)\n",
      "Oh cool, you listen to Heartache by Joh Van Dam from 1949\n",
      "Oh cool, you listen to Christmas Is For Suckers And Grandma by Kenny Holiday from 1959\n",
      "Oh cool, you listen to I'M Secretly A Democrat by Nancy Grace from 1969\n"
     ]
    }
   ],
   "source": [
    "def make_album(artist_name, album_title, album_year=None):\n",
    "    \"\"\"Builds a dictionary describing a music album.\"\"\"\n",
    "    artist_details = f\"{album_title.title()} by {artist_name.title()} from {album_year}\"\n",
    "    return artist_details\n",
    "\n",
    "while True:\n",
    "    print(\"Tell me the artist's name and album:\")\n",
    "    print(\"(enter 'q' at any time to quit)\")\n",
    "\n",
    "    a_name = input(\"Artist name: \")\n",
    "    if a_name == 'q':\n",
    "        break\n",
    "\n",
    "    a_title = input(\"Album: \")\n",
    "    if a_title == 'q':\n",
    "        break\n",
    "\n",
    "    a_year = input(\"Album year: \")\n",
    "    if a_year == 'q':\n",
    "        break\n",
    "\n",
    "    album_details = make_album(a_name, a_title, a_year)\n",
    "    print(f\"Oh cool, you listen to {album_details}!\")\n",
    "\n",
    "\n",
    "print('Oh cool, you listen to ' + make_album('joh van dam', 'heartache', '1949'))\n",
    "print('Oh cool, you listen to ' + make_album('kenny holiday', 'christmas is for suckers and grandma', '1959'))\n",
    "print('Oh cool, you listen to ' + make_album('nancy grace', \"i'm secretly a democrat\", '1969'))"
   ]
  },
  {
   "cell_type": "code",
   "execution_count": 26,
   "metadata": {},
   "outputs": [
    {
     "data": {
      "text/plain": [
       "\"I'M Secretly A Democrat by Nancy Grace from 1969\""
      ]
     },
     "execution_count": 26,
     "metadata": {},
     "output_type": "execute_result"
    }
   ],
   "source": [
    "make_album('nancy grace', \"i'm secretly a democrat\", '1969')"
   ]
  },
  {
   "cell_type": "code",
   "execution_count": 27,
   "metadata": {},
   "outputs": [
    {
     "name": "stdout",
     "output_type": "stream",
     "text": [
      "{'artist': 'Joh Van Dam', 'album': 'Heartache'}\n",
      "{'artist': 'Kenny Holiday', 'album': 'Christmas Is For Suckers And Grandma'}\n",
      "{'artist': 'Nancy Grace', 'album': \"I'M Secretly A Democrat\"}\n"
     ]
    }
   ],
   "source": [
    "def make_album(artist_name, album_title):\n",
    "    \"\"\"Builds a dictionary describing a music album.\"\"\"\n",
    "    music_album = {'artist' : artist_name.title(), 'album' : album_title.title()}\n",
    "    return music_album\n",
    "\n",
    "print(make_album('joh van dam', 'heartache'))\n",
    "print(make_album('kenny holiday', 'christmas is for suckers and grandma'))\n",
    "print(make_album('nancy grace', \"i'm secretly a democrat\"))"
   ]
  },
  {
   "cell_type": "markdown",
   "metadata": {},
   "source": [
    "## Passing a List\n",
    "You’ll often find it useful to pass a list to a function, whether it’s a list of\n",
    "names, numbers, or more complex objects, such as dictionaries. When you\n",
    "pass a list to a function, the function gets direct access to the contents of\n",
    "the list. Let’s use functions to make working with lists more efficient.\n",
    "\n",
    "Say we have a list of users and want to print a greeting to each. The\n",
    "following example sends a list of names to a function called greet_users(),\n",
    "which greets each person in the list individually:\n",
    "\n",
    "We define greet_users() so it expects a list of names, which it assigns\n",
    "to the parameter names. The function loops through the list it receives and\n",
    "prints a greeting to each user. At u we define a list of users and then pass\n",
    "the list usernames to greet_users() in our function call:\n",
    "\n",
    "This is the output we wanted. Every user sees a personalized greeting,\n",
    "and you can call the function any time you want to greet a specific set\n",
    "of users."
   ]
  },
  {
   "cell_type": "code",
   "execution_count": 28,
   "metadata": {},
   "outputs": [
    {
     "name": "stdout",
     "output_type": "stream",
     "text": [
      "Hello, Hannah!\n",
      "Hello, Ty!\n",
      "Hello, Margot!\n"
     ]
    }
   ],
   "source": [
    "def greet_users(names):\n",
    "    \"\"\"Print a simple greeting to each user in the list.\"\"\"\n",
    "    for name in names:\n",
    "        msg = f\"Hello, {name.title()}!\"\n",
    "        print(msg)\n",
    "\n",
    "usernames = ['hannah', 'ty', 'margot']\n",
    "greet_users(usernames)"
   ]
  },
  {
   "cell_type": "markdown",
   "metadata": {},
   "source": [
    "## Modifying a List in a Function\n",
    "**When you pass a list to a function, the function can modify the list. Any\n",
    "changes made to the list inside the function’s body are permanent, allowing\n",
    "you to work efficiently even when you’re dealing with large amounts of data.**\n",
    "\n",
    "Consider a company that creates 3D printed models of designs that\n",
    "users submit. Designs that need to be printed are stored in a list, and after\n",
    "being printed they’re moved to a separate list. The following code does this\n",
    "without using functions:\n",
    "\n",
    "This program starts with a list of designs that need to be printed and\n",
    "an empty list called completed_models that each design will be moved to after\n",
    "it has been printed. As long as designs remain in unprinted_designs, the while\n",
    "loop simulates printing each design by removing a design from the end of\n",
    "the list, storing it in current_design, and displaying a message that the current\n",
    "design is being printed. It then adds the design to the list of completed\n",
    "models. When the loop is finished running, a list of the designs that have\n",
    "been printed is displayed:\n",
    "\n"
   ]
  },
  {
   "cell_type": "code",
   "execution_count": 29,
   "metadata": {},
   "outputs": [
    {
     "name": "stdout",
     "output_type": "stream",
     "text": [
      "Printing model: dodecahedron\n",
      "Printing model: robot pendant\n",
      "Printing model: phone case\n",
      "\n",
      "The following models have been printed:\n",
      "dodecahedron\n",
      "robot pendant\n",
      "phone case\n"
     ]
    }
   ],
   "source": [
    "# Start with some designs that need to be printed.\n",
    "unprinted_designs = ['phone case', 'robot pendant', 'dodecahedron']\n",
    "completed_models = []\n",
    "\n",
    "# Simulate printing each design, until none are left.\n",
    "# Move each design to completed_models list after printing.\n",
    "\n",
    "while unprinted_designs:\n",
    "    current_design = unprinted_designs.pop()\n",
    "    print(f\"Printing model: {current_design}\")\n",
    "    completed_models.append(current_design)\n",
    "\n",
    "# Display all the completed models.\n",
    "print(\"\\nThe following models have been printed:\")\n",
    "for completed_model in completed_models:\n",
    "    print(completed_model)"
   ]
  },
  {
   "cell_type": "markdown",
   "metadata": {},
   "source": [
    "We can reorganize this code by writing two functions, each of which\n",
    "does one specific job. Most of the code won’t change; we’re just making\n",
    "it more carefully structured. The first function will handle printing the\n",
    "designs, and the second will summarize the prints that have been made:\n",
    "\n",
    "At u we define the function print_models() with two parameters: a list of\n",
    "designs that need to be printed and a list of completed models. Given these\n",
    "two lists, the function simulates printing each design by emptying the list\n",
    "of unprinted designs and filling up the list of completed models. At v we\n",
    "define the function show_completed_models() with one parameter: the list of\n",
    "completed models. Given this list, show_completed_models() displays the name\n",
    "of each model that was printed.\n",
    "\n",
    "This program has the same output as the version without functions, but\n",
    "the code is much more organized. The code that does most of the work has\n",
    "been moved to two separate functions, which makes the main part of the\n",
    "program easier to understand. Look at the body of the program to see how\n",
    "much easier it is to understand what this program is doing:\n",
    "\n",
    "We set up a list of unprinted designs and an empty list that will hold the\n",
    "completed models. Then, because we’ve already defined our two functions,\n",
    "all we have to do is call them and pass them the right arguments. We call\n",
    "print_models() and pass it the two lists it needs; as expected, print_models()\n",
    "simulates printing the designs. Then we call show_completed_models() and\n",
    "pass it the list of completed models so it can report the models that have\n",
    "been printed. The descriptive function names allow others to read this\n",
    "code and understand it, even without comments.\n",
    "\n",
    "This program is easier to extend and maintain than the version without\n",
    "functions. If we need to print more designs later on, we can simply call\n",
    "print_models() again. If we realize the printing code needs to be modified,\n",
    "we can change the code once, and our changes will take place everywhere\n",
    "the function is called. This technique is more efficient than having to update\n",
    "code separately in several places in the program.\n",
    "\n",
    "This example also demonstrates the idea that every function should\n",
    "have one specific job. The first function prints each design, and the second\n",
    "displays the completed models. This is more beneficial than using one function\n",
    "to do both jobs. If you’re writing a function and notice the function\n",
    "is doing too many different tasks, try to split the code into two functions.\n",
    "Remember that you can always call a function from another function,\n",
    "which can be helpful when splitting a complex task into a series of steps."
   ]
  },
  {
   "cell_type": "code",
   "execution_count": 30,
   "metadata": {},
   "outputs": [],
   "source": [
    "def print_models(unprinted_designs, completed_models):\n",
    "    \"\"\"\n",
    "    Simulate printing each design, until none are left.\n",
    "    Move each design to completed_models after printing.\n",
    "    \"\"\"\n",
    "    while unprinted_designs:\n",
    "        current_design = unprinted_designs.pop()\n",
    "        print(f\"Printing model: {current_design}\")\n",
    "        completed_models.append(current_design)"
   ]
  },
  {
   "cell_type": "code",
   "execution_count": 31,
   "metadata": {},
   "outputs": [],
   "source": [
    "def show_completed_models(completed_models):\n",
    "    \"\"\"\n",
    "    Show all the models that were printed\n",
    "    \"\"\"\n",
    "    print(\"\\nThe following models have been printed:\")\n",
    "    for completed_model in completed_models:\n",
    "        print(completed_model)"
   ]
  },
  {
   "cell_type": "code",
   "execution_count": 32,
   "metadata": {},
   "outputs": [
    {
     "name": "stdout",
     "output_type": "stream",
     "text": [
      "Printing model: dodecahedron\n",
      "Printing model: robot pendant\n",
      "Printing model: phone case\n",
      "\n",
      "The following models have been printed:\n",
      "dodecahedron\n",
      "robot pendant\n",
      "phone case\n"
     ]
    }
   ],
   "source": [
    "unprinted_designs = ['phone case', 'robot pendant', 'dodecahedron']\n",
    "completed_models = []\n",
    "\n",
    "print_models(unprinted_designs, completed_models)\n",
    "show_completed_models(completed_models)"
   ]
  },
  {
   "cell_type": "markdown",
   "metadata": {},
   "source": [
    "## Preventing a Function from Modifying a List\n",
    "Sometimes you’ll want to prevent a function from modifying a list. For\n",
    "example, say that you start with a list of unprinted designs and write a\n",
    "function to move them to a list of completed models, as in the previous\n",
    "example. You may decide that even though you’ve printed all the designs,\n",
    "you want to keep the original list of unprinted designs for your records.\n",
    "\n",
    "But because you moved all the design names out of unprinted_designs, the\n",
    "list is now empty, and the empty list is the only version you have; the original\n",
    "is gone. In this case, you can address this issue by passing the function a\n",
    "copy of the list, not the original. Any changes the function makes to the list\n",
    "will affect only the copy, leaving the original list intact.\n",
    "\n",
    "You can send a copy of a list to a function like this:\n",
    "\n",
    "*`function_name(list_name[:])`*\n",
    "\n",
    "The slice notation `[:]` makes a copy of the list to send to the function.\n",
    "If we didn’t want to empty the list of unprinted designs in printing_models.py,\n",
    "we could call print_models() like this:\n",
    "\n",
    "*`print_models(unprinted_designs[:], completed_models)`*\n",
    "\n",
    "The function print_models() can do its work because it still receives the\n",
    "names of all unprinted designs. But this time it uses a copy of the original\n",
    "unprinted designs list, not the actual unprinted_designs list. The list\n",
    "completed_models will fill up with the names of printed models like it did\n",
    "before, but the original list of unprinted designs will be unaffected by the\n",
    "function.\n",
    "\n",
    "Even though you can preserve the contents of a list by passing a copy\n",
    "of it to your functions, you should pass the original list to functions unless\n",
    "you have a specific reason to pass a copy. It’s more efficient for a function\n",
    "to work with an existing list to avoid using the time and memory needed to\n",
    "make a separate copy, especially when you’re working with large lists."
   ]
  },
  {
   "cell_type": "code",
   "execution_count": 33,
   "metadata": {},
   "outputs": [
    {
     "name": "stdout",
     "output_type": "stream",
     "text": [
      "Printing model: dodecahedron\n",
      "Printing model: robot pendant\n",
      "Printing model: phone case\n",
      "\n",
      "The following models have been printed:\n",
      "dodecahedron\n",
      "robot pendant\n",
      "phone case\n",
      "\n",
      "['phone case', 'robot pendant', 'dodecahedron']\n"
     ]
    }
   ],
   "source": [
    "unprinted_designs = ['phone case', 'robot pendant', 'dodecahedron']\n",
    "completed_models = []\n",
    "\n",
    "print_models(unprinted_designs[:], completed_models)\n",
    "show_completed_models(completed_models)\n",
    "print(\"\")\n",
    "print(unprinted_designs)"
   ]
  },
  {
   "cell_type": "markdown",
   "metadata": {},
   "source": [
    "## Try It Yourself\n",
    "8-9. Messages: Make a list containing a series of short text messages. Pass the\n",
    "list to a function called show_messages(), which prints each text message.\n",
    "\n",
    "8-10. Sending Messages: Start with a copy of your program from Exercise 8-9.\n",
    "Write a function called send_messages() that prints each text message and\n",
    "moves each message to a new list called sent_messages as it’s printed. After\n",
    "calling the function, print both of your lists to make sure the messages were\n",
    "moved correctly.\n",
    "\n",
    "8-11. Archived Messages: Start with your work from Exercise 8-10. Call the\n",
    "function send_messages() with a copy of the list of messages. After calling the\n",
    "function, print both of your lists to show that the original list has retained its\n",
    "messages."
   ]
  },
  {
   "cell_type": "code",
   "execution_count": 34,
   "metadata": {},
   "outputs": [
    {
     "name": "stdout",
     "output_type": "stream",
     "text": [
      "How are you doing?\n",
      "I'm doing fine.\n",
      "Well, that's good to hear.\n"
     ]
    }
   ],
   "source": [
    "short_text_messages = ['How are you doing?', \"I'm doing fine.\", \"Well, that's good to hear.\"]\n",
    "\n",
    "def show_messages(text_messages):\n",
    "    \"\"\"\n",
    "    Print each short text message.\n",
    "    \"\"\"\n",
    "    for text_message in text_messages:\n",
    "        print(text_message)\n",
    "\n",
    "show_messages(short_text_messages)"
   ]
  },
  {
   "cell_type": "code",
   "execution_count": null,
   "metadata": {},
   "outputs": [],
   "source": []
  },
  {
   "cell_type": "code",
   "execution_count": 35,
   "metadata": {},
   "outputs": [
    {
     "name": "stdout",
     "output_type": "stream",
     "text": [
      "Printing model: dodecahedron\n",
      "Printing model: robot pendant\n",
      "Printing model: phone case\n",
      "\n",
      "The following models have been printed:\n",
      "dodecahedron\n",
      "robot pendant\n",
      "phone case\n"
     ]
    }
   ],
   "source": [
    "def print_models(unprinted_designs, completed_models):\n",
    "    \"\"\"\n",
    "    Simulate printing each design, until none are left.\n",
    "    Move each design to completed_models after printing.\n",
    "    \"\"\"\n",
    "    while unprinted_designs:\n",
    "        current_design = unprinted_designs.pop()\n",
    "        print(f\"Printing model: {current_design}\")\n",
    "        completed_models.append(current_design)\n",
    "\n",
    "def show_completed_models(completed_models):\n",
    "    \"\"\"\n",
    "    Show all the models that were printed\n",
    "    \"\"\"\n",
    "    print(\"\\nThe following models have been printed:\")\n",
    "    for completed_model in completed_models:\n",
    "        print(completed_model)\n",
    "\n",
    "unprinted_designs = ['phone case', 'robot pendant', 'dodecahedron']\n",
    "completed_models = []\n",
    "\n",
    "print_models(unprinted_designs, completed_models)\n",
    "show_completed_models(completed_models)"
   ]
  },
  {
   "cell_type": "code",
   "execution_count": null,
   "metadata": {},
   "outputs": [],
   "source": []
  },
  {
   "cell_type": "code",
   "execution_count": 36,
   "metadata": {},
   "outputs": [
    {
     "name": "stdout",
     "output_type": "stream",
     "text": [
      "How are you doing?\n",
      "I'm doing fine.\n",
      "Well, that's good to hear.\n",
      "\n",
      "['How are you doing?', \"I'm doing fine.\", \"Well, that's good to hear.\"]\n",
      "\n",
      "Well, that's good to hear.\n",
      "I'm doing fine.\n",
      "How are you doing?\n",
      "\n",
      "['How are you doing?', \"I'm doing fine.\", \"Well, that's good to hear.\"]\n",
      "[\"Well, that's good to hear.\", \"I'm doing fine.\", 'How are you doing?']\n"
     ]
    }
   ],
   "source": [
    "def show_messages(text_messages):\n",
    "    \"\"\"\n",
    "    Print each short text message.\n",
    "    \"\"\"\n",
    "    for text_message in text_messages:\n",
    "        print(text_message)\n",
    "\n",
    "def send_messages(text_messages, sent_messages):\n",
    "    \"\"\"\n",
    "    Send messages, then create a list of sent messages.\n",
    "    \"\"\"\n",
    "    while text_messages:\n",
    "        current_message = text_messages.pop()\n",
    "        print(current_message)\n",
    "        sent_messages.append(current_message)\n",
    "\n",
    "short_text_messages = ['How are you doing?', \"I'm doing fine.\", \"Well, that's good to hear.\"]\n",
    "sent_messages = []\n",
    "\n",
    "# Keep the original list together with [:]\n",
    "show_messages(short_text_messages[:])\n",
    "print(\"\")\n",
    "print(short_text_messages)\n",
    "print(\"\")\n",
    "# Keep the original list together with [:]\n",
    "send_messages(short_text_messages[:], sent_messages)\n",
    "print(\"\")\n",
    "print(short_text_messages)\n",
    "print(sent_messages)\n",
    "    "
   ]
  },
  {
   "cell_type": "markdown",
   "metadata": {},
   "source": [
    "# Passing an Arbitrary Number of Arguments\n",
    "Sometimes you won’t know ahead of time how many arguments a function\n",
    "needs to accept. Fortunately, Python allows a function to collect an arbitrary\n",
    "number of arguments from the calling statement.\n",
    "\n",
    "For example, consider a function that builds a pizza. It needs to accept a\n",
    "number of toppings, but you can’t know ahead of time how many toppings\n",
    "a person will want. The function in the following example has one parameter,\n",
    "`*toppings`, but **this parameter collects as many arguments as the calling\n",
    "line provides**:\n",
    "\n",
    "> def make_pizza(*toppings):\n",
    "\n",
    ">> \"\"\"Print the list of toppings that have been requested.\"\"\"\n",
    "\n",
    ">> print(toppings)\n",
    "\n",
    "> make_pizza('pepperoni')\n",
    " \n",
    "> make_pizza('mushrooms', 'green peppers', 'extra cheese')\n",
    "\n",
    "The asterisk in the parameter name *toppings tells Python to make an\n",
    "empty tuple called toppings and pack whatever values it receives into this\n",
    "tuple. The print() call in the function body produces output showing that\n",
    "Python can handle a function call with one value and a call with three\n",
    "values. It treats the different calls similarly. Note that Python packs the\n",
    "arguments into a tuple, even if the function receives only one value:\n",
    "\n",
    "Now we can replace the print() call with a loop that runs through the\n",
    "list of toppings and describes the pizza being ordered:\n",
    "\n",
    "The function responds appropriately, whether it receives one value or\n",
    "three values:\n",
    "\n",
    "This syntax works no matter how many arguments the function\n",
    "receives."
   ]
  },
  {
   "cell_type": "markdown",
   "metadata": {},
   "source": []
  },
  {
   "cell_type": "code",
   "execution_count": 37,
   "metadata": {},
   "outputs": [
    {
     "name": "stdout",
     "output_type": "stream",
     "text": [
      "('pepperoni',)\n",
      "('mushrooms', 'green peppers', 'extra cheese')\n"
     ]
    }
   ],
   "source": [
    "def make_pizza(*toppings):\n",
    "    \"\"\"Print the list of toppings that have been requested.\"\"\"\n",
    "    print(toppings)\n",
    "\n",
    "make_pizza('pepperoni')\n",
    "make_pizza('mushrooms', 'green peppers', 'extra cheese')"
   ]
  },
  {
   "cell_type": "code",
   "execution_count": 38,
   "metadata": {},
   "outputs": [
    {
     "name": "stdout",
     "output_type": "stream",
     "text": [
      "\n",
      "Making a pizza with the following toppings:\n",
      "- pepperoni\n",
      "\n",
      "Making a pizza with the following toppings:\n",
      "- mushrooms\n",
      "- green peppers\n",
      "- extra cheese\n"
     ]
    }
   ],
   "source": [
    "def make_pizza(*toppings):\n",
    "    \"\"\"Summarize the pizza we are about to make.\"\"\"\n",
    "    print(\"\\nMaking a pizza with the following toppings:\")\n",
    "    for topping in toppings:\n",
    "        print(f\"- {topping}\")\n",
    "\n",
    "make_pizza('pepperoni')\n",
    "make_pizza('mushrooms', 'green peppers', 'extra cheese')"
   ]
  },
  {
   "cell_type": "markdown",
   "metadata": {},
   "source": [
    "## Mixing Positional and Arbitrary Arguments\n",
    "**If you want a function to accept several different kinds of arguments, the parameter that accepts an arbitrary number of arguments must be placed last in the function definition. Python matches positional and keyword arguments first and then collects any remaining arguments in the final parameter.**\n",
    "\n",
    "For example, if the function needs to take in a size for the pizza, that parameter must come before the parameter *toppings:\n",
    "\n",
    "In the function definition, Python assigns the first value it receives to the parameter size. All other values that come after are stored in the tuple toppings. The function calls include an argument for the size first, followed by as many toppings as needed.\n",
    "\n",
    "Now each pizza has a size and a number of toppings, and each piece of information is printed in the proper place, showing size first and toppings after:\n",
    "\n",
    "**NOTE** You’ll often see the generic parameter name `*args`, which collects arbitrary positional arguments like this."
   ]
  },
  {
   "cell_type": "code",
   "execution_count": 40,
   "metadata": {},
   "outputs": [
    {
     "name": "stdout",
     "output_type": "stream",
     "text": [
      "\n",
      "Making a 16-inch pizza with the following toppings:\n",
      "- pepperoni\n",
      "\n",
      "Making a 12-inch pizza with the following toppings:\n",
      "- mushrooms\n",
      "- green peppers\n",
      "- extra cheese\n"
     ]
    }
   ],
   "source": [
    "def make_pizza(size, *toppings):\n",
    "    \"\"\"Sumarize the pizza we are about to make.\"\"\"\n",
    "    print(f\"\\nMaking a {size}-inch pizza with the following toppings:\")\n",
    "    for topping in toppings:\n",
    "        print(f\"- {topping}\")\n",
    "\n",
    "make_pizza(16, 'pepperoni')\n",
    "make_pizza(12, 'mushrooms', 'green peppers', 'extra cheese')"
   ]
  },
  {
   "cell_type": "markdown",
   "metadata": {},
   "source": [
    "## Using Arbitrary Keyword Arguments\n",
    "Sometimes you’ll want to accept an arbitrary number of arguments, but you won’t know ahead of time what kind of information will be passed to the function. In this case, you can write functions that accept as many key-value pairs as the calling statement provides. One example involves building user profiles: you know you’ll get information about a user, but you’re not sure what kind of information you’ll receive. The function build_profile() in the following example always takes in a first and last name, but it accepts an arbitrary number of keyword arguments as well:\n",
    "\n",
    "The definition of build_profile() expects a first and last name, and then it allows the user to pass in as many name-value pairs as they want. **The double asterisks before the parameter `**user_info` cause Python to create an empty dictionary called user_info and pack whatever name-value pairs it receives into this dictionary.** Within the function, you can access the key-value pairs in user_info just as you would for any dictionary.\n",
    "\n",
    "In the body of build_profile(), we add the first and last names to the user_info dictionary because we’ll always receive these two pieces of infor-mation from the user u, and they haven’t been placed into the dictionary yet. Then we return the user_info dictionary to the function call line.\n",
    "\n",
    "We call build_profile(), passing it the first name 'albert', the last name 'einstein', and the two key-value pairs location='princeton' and field='physics'. We assign the returned profile to user_profile and print user_profile:"
   ]
  },
  {
   "cell_type": "code",
   "execution_count": 42,
   "metadata": {},
   "outputs": [
    {
     "name": "stdout",
     "output_type": "stream",
     "text": [
      "{'location': 'princeton', 'field': 'physics', 'first_name': 'albert', 'last_name': 'einstein'}\n"
     ]
    }
   ],
   "source": [
    "def build_profile(first, last, **user_info):\n",
    "    \"\"\"Build a dictionary containing everything we know about the user.\"\"\"\n",
    "    user_info['first_name'] = first\n",
    "    user_info['last_name'] = last\n",
    "    return user_info\n",
    "\n",
    "user_profile = build_profile('albert', 'einstein', location = 'princeton', field = 'physics')\n",
    "\n",
    "print(user_profile)"
   ]
  },
  {
   "cell_type": "markdown",
   "metadata": {},
   "source": [
    "The returned dictionary contains the user’s first and last names and, in this case, the location and field of study as well. The function would work no matter how many additional key-value pairs are provided in the function call.\n",
    "\n",
    "You can mix positional, keyword, and arbitrary values in many dif-ferent ways when writing your own functions. It’s useful to know that all these argument types exist because you’ll see them often when you start reading other people’s code. It takes practice to learn to use the different types correctly and to know when to use each type. For now, remember to use the simplest approach that gets the job done. As you progress you’ll learn to use the most efficient approach each time.\n",
    "\n",
    "**NOTE** *You’ll often see the parameter name `**kwargs` used to collect non-specific keyword arguments.*\n"
   ]
  },
  {
   "cell_type": "markdown",
   "metadata": {},
   "source": [
    "## TRY IT YOURSELF\n",
    "8-12. Sandwiches: Write a function that accepts a list of items a person wants on a sandwich. The function should have one parameter that collects as many items as the function call provides, and it should print a summary of the sand-wich that’s being ordered. Call the function three times, using a different num-ber of arguments each time.\n",
    "\n",
    "8-13. User Profile: Start with a copy of user_profile.py from page 149. Build a profile of yourself by calling build_profile(), using your first and last names and three other key-value pairs that describe you.\n",
    "\n",
    "8-14. Cars: Write a function that stores information about a car in a diction-ary. The function should always receive a manufacturer and a model name. It should then accept an arbitrary number of keyword arguments. Call the func-tion with the required information and two other name-value pairs, such as a color or an optional feature. Your function should work for a call like this one:\n",
    "\n",
    "car = make_car('subaru', 'outback', color='blue', tow_package=True)\n",
    "\n",
    "Print the dictionary that’s returned to make sure all the information was stored correctly.\n"
   ]
  },
  {
   "cell_type": "code",
   "execution_count": 43,
   "metadata": {},
   "outputs": [
    {
     "name": "stdout",
     "output_type": "stream",
     "text": [
      "Are these the items you want on your sandwich?:\n",
      "- turkey\n",
      "- pickles\n",
      "- provolone cheese\n"
     ]
    }
   ],
   "source": [
    "def sandwich_items(*items):\n",
    "    \"\"\"Prints the items a person wants on their sandwich.\"\"\"\n",
    "    print(\"Are these the items you want on your sandwich?:\")\n",
    "    for item in items:\n",
    "        print(f\"- {item}\")\n",
    "\n",
    "sandwich_items('turkey', 'pickles', 'provolone cheese')"
   ]
  },
  {
   "cell_type": "code",
   "execution_count": 44,
   "metadata": {},
   "outputs": [
    {
     "name": "stdout",
     "output_type": "stream",
     "text": [
      "{'location': 'princeton', 'field': 'physics', 'first_name': 'J', 'last_name': 'Sway'}\n"
     ]
    }
   ],
   "source": [
    "def build_profile(first, last, **user_info):\n",
    "    \"\"\"Build a dictionary containing everything we know about the user.\"\"\"\n",
    "    user_info['first_name'] = first.title()\n",
    "    user_info['last_name'] = last.title()\n",
    "    return user_info\n",
    "\n",
    "user_profile = build_profile('j', 'sway', location = 'princeton', field = 'physics')\n",
    "\n",
    "print(user_profile)"
   ]
  },
  {
   "cell_type": "markdown",
   "metadata": {},
   "source": [
    "# Storing Your Functions in Modules\n",
    "\n",
    "One advantage of functions is the way they separate blocks of code from your main program. By using descriptive names for your functions, your main program will be much easier to follow. You can go a step further by storing your functions in a separate file called a `module` and then `importing` that module into your main program. **An `import statement` tells Python to make the code in a module available in the currently running program file.**\n",
    "\n",
    "***Storing your functions in a separate file allows you to hide the details of your program’s code and focus on its higher-level logic. It also allows you to reuse functions in many different programs.*** When you store your functions in separate files, you can share those files with other programmers without having to share your entire program. Knowing how to import functions also allows you to use libraries of functions that other programmers have written.There are several ways to import a module, and I’ll show you each of these briefly.Importing an Entire ModuleTo start importing functions, we first need to create a module. A moduleis a file ending in .py that contains the code you want to import into your "
   ]
  },
  {
   "cell_type": "markdown",
   "metadata": {},
   "source": [
    "## Importing an Entire Module\n",
    "\n",
    "To start importing functions, we first need to create a module. **A `module` is a file ending in `.py` that contains the code you want to import into your\n",
    "program.** Let’s make a module that contains the function make_pizza(). To make this module, we’ll remove everything from the file pizza.py except the function make_pizza():\n",
    "\n",
    "Now we’ll make a separate file called making_pizzas.py in the same directory as pizza.py. This file imports the module we just created and then makes two calls to make_pizza():\n",
    "\n",
    "When Python reads this file, the line import pizza tells Python to open the file pizza.py and copy all the functions from it into this program. You don’t actually see code being copied between files because Python copies the code behind the scenes just before the program runs. All you need to know is that any function defined in pizza.py will now be available in making_pizzas.py. \n",
    "\n",
    "To call a function from an imported module, enter the name of the module you imported, pizza, followed by the name of the function, make_pizza(), separated by a dot u. This code produces the same output as   the original program that didn’t import a module\n",
    "\n",
    "This first approach to importing, in which you simply write `import followed by the name of the module`, makes every function from the module available in your program. If you use this kind of import statement to import an entire module named `module_name.py`, each function in the module is available through the following syntax:\n",
    "\n",
    "*`module_name.function_name()`*"
   ]
  },
  {
   "cell_type": "code",
   "execution_count": null,
   "metadata": {},
   "outputs": [],
   "source": [
    "# # pizza.py\n",
    "# def make_pizza(size, *toppings):\n",
    "#     \"\"\"Summarize the pizza we are about to make.\"\"\"\n",
    "#     print(f\"Making a {size}-inch pizza with the folling toppings:\")\n",
    "#     for topping in toppings:\n",
    "#         print(f\"- {topping}\")\n",
    "\n",
    "# # make_pizzas.py\n",
    "# import pizza\n",
    "\n",
    "# pizza.make_pizza(16, 'pepperoni')\n",
    "# pizza.make_pizza(12, 'mushrooms', 'green peppers', 'extra cheese')"
   ]
  },
  {
   "cell_type": "markdown",
   "metadata": {},
   "source": [
    "## Importing Specific Functions\n",
    "\n",
    "**You can also import a specific function from a module.** Here’s the general syntax for this approach:\n",
    "\n",
    "*`from module_name import function_name`*\n",
    "\n",
    "You can import as many functions as you want from a module by sepa-rating each function’s name with a comma:\n",
    "\n",
    "*`from module_name import function_0, function_1, function_2`*\n",
    "\n",
    "The making_pizzas.py example would look like this if we want to import just the function we’re going to use:\n",
    "\n",
    "*`from pizza import make_pizzamake_pizza(16, 'pepperoni')`*\n",
    "\n",
    "*`make_pizza(12, 'mushrooms', 'green peppers', 'extra cheese')`*\n",
    "\n",
    "With this syntax, you don’t need to use the dot notation when you call a function. Because we’ve explicitly imported the function make_pizza() in the import statement, we can call it by name when we use the function."
   ]
  },
  {
   "cell_type": "code",
   "execution_count": 45,
   "metadata": {},
   "outputs": [
    {
     "name": "stdout",
     "output_type": "stream",
     "text": [
      "Making a 16-inch pizza with the folling toppings:\n",
      "- pepperoni\n",
      "Making a 12-inch pizza with the folling toppings:\n",
      "- mushrooms\n",
      "- green peppers\n",
      "- extra cheese\n"
     ]
    }
   ],
   "source": [
    "from pizza import make_pizza\n",
    "\n",
    "make_pizza(16, 'pepperoni')\n",
    "make_pizza(12, 'mushrooms', 'green peppers', 'extra cheese')"
   ]
  },
  {
   "cell_type": "markdown",
   "metadata": {},
   "source": [
    "## Using `as` to Give a Function an Alias\n",
    "\n",
    "If the name of a function you’re importing might conflict with an exist-ing name in your program or if the function name is long, you can use a short, unique `alias`—an alternate name similar to a nickname for the func-tion. You’ll give the function this special nickname when you import the function.\n",
    "\n",
    "The general syntax for providing an alias is:\n",
    "\n",
    "*`from module_name import function_name as fn`*\n"
   ]
  },
  {
   "cell_type": "code",
   "execution_count": 47,
   "metadata": {},
   "outputs": [
    {
     "name": "stdout",
     "output_type": "stream",
     "text": [
      "Making a 16-inch pizza with the folling toppings:\n",
      "- pepperoni\n",
      "Making a 12-inch pizza with the folling toppings:\n",
      "- mushrooms\n",
      "- green peppers\n",
      "- extra cheese\n"
     ]
    }
   ],
   "source": [
    "from pizza import make_pizza as mp\n",
    "\n",
    "mp(16, 'pepperoni')\n",
    "mp(12, 'mushrooms', 'green peppers', 'extra cheese')"
   ]
  },
  {
   "cell_type": "markdown",
   "metadata": {},
   "source": [
    "## Using as to Give a Module an Alias\n",
    "\n",
    "**You can also provide an alias for a module name.** Giving a module a short alias, like p for pizza, allows you to call the module’s functions more quickly.\n",
    "\n",
    "These function names, which clearly tell you what each function does, are more important to the readability of your code than using the full module name.\n",
    "\n",
    "The general syntax for this approach is:\n",
    "\n",
    "*`import module_name as mn`*"
   ]
  },
  {
   "cell_type": "code",
   "execution_count": 49,
   "metadata": {},
   "outputs": [
    {
     "name": "stdout",
     "output_type": "stream",
     "text": [
      "Making a 16-inch pizza with the folling toppings:\n",
      "- pepperoni\n",
      "Making a 12-inch pizza with the folling toppings:\n",
      "- mushrooms\n",
      "- green peppers\n",
      "- extra cheese\n"
     ]
    }
   ],
   "source": [
    "import pizza as p\n",
    "\n",
    "p.make_pizza(16, 'pepperoni')\n",
    "p.make_pizza(12, 'mushrooms', 'green peppers', 'extra cheese')"
   ]
  },
  {
   "cell_type": "markdown",
   "metadata": {},
   "source": [
    "## Importing All Functions in a Module\n",
    "\n",
    "You can tell Python to import every function in a module by using the aster-isk (`*`) operator:\n",
    "\n",
    "**The asterisk in the import statement tells Python to copy every func-tion from the module pizza into this program file.** Because every function is imported, you can call each function by name without using the dot notation. ***However, it’s best not to use this approach when you’re working with larger modules that you didn’t write***: if the module has a function name that matches an existing name in your project, you can get some unexpected results. Python may see several functions or variables with the same name, and instead of importing all the functions separately, it will overwrite the functions.\n",
    "\n",
    "The best approach is to import the function or functions you want, or import the entire module and use the dot notation. This leads to clear code that’s easy to read and understand. I include this section so you’ll recognize import statements like the following when you see them in other people’s code:\n",
    "\n",
    "*`from module_name import *`*"
   ]
  },
  {
   "cell_type": "code",
   "execution_count": 51,
   "metadata": {},
   "outputs": [
    {
     "name": "stdout",
     "output_type": "stream",
     "text": [
      "Making a 16-inch pizza with the folling toppings:\n",
      "- pepperoni\n",
      "Making a 12-inch pizza with the folling toppings:\n",
      "- mushrooms\n",
      "- green peppers\n",
      "- extra cheese\n"
     ]
    }
   ],
   "source": [
    "from pizza import *\n",
    "\n",
    "make_pizza(16, 'pepperoni')\n",
    "make_pizza(12, 'mushrooms', 'green peppers', 'extra cheese')"
   ]
  },
  {
   "cell_type": "markdown",
   "metadata": {},
   "source": [
    "# Styling Functions\n",
    "\n",
    "Functions should have descriptive names, and these names should use lowercase letters and underscores. Descriptive names help you and others understand what your code is trying to do. Module names should use these conventions as well.\n",
    "\n",
    "Every function should have a comment that explains concisely what the function does. This comment should appear immediately after the function definition and use the docstring format. In a well-documented function, other programmers can use the function by reading only the description in the docstring. They should be able to trust that the code works as described, and as long as they know the name of the function, the arguments it needs, and the kind of value it returns, they should be able to use it in their programs.\n",
    "\n",
    "If you specify a default value for a parameter, no spaces should be used on either side of the equal sign:\n",
    "\n",
    "*`def function_name(parameter_0, parameter_1='default value')`*\n",
    "\n",
    "The same convention should be used for keyword arguments in func-tion calls:\n",
    "\n",
    "*`function_name(value_0, parameter_1='value')`*\n",
    "\n",
    "`PEP 8 (https://www.python.org/dev/peps/pep-0008/)` recommends that you limit lines of code to **`79`** characters so every line is visible in a reasonably sized editor window.\n",
    "\n",
    "\n",
    "def function_name(\n",
    "    \n",
    "    >> parameter_0, parameter_1, parameter_2,\n",
    "    \n",
    "    >> parameter_3, parameter_4, parameter_5):\n",
    "    \n",
    "    > function body...\n",
    "\n",
    "\n",
    "If your program or module has more than one function, you can sepa-rate each by two blank lines to make it easier to see where one function ends and the next one begins.\n",
    "\n",
    "***All import statements should be written at the beginning of a file.*** The only exception is if you use comments at the beginning of your file to describe the overall program.\n"
   ]
  },
  {
   "cell_type": "markdown",
   "metadata": {},
   "source": [
    "## TRY IT YOURSELF\n",
    "\n",
    "8-15. Printing Models: Put the functions for the example printing_models.py in a separate file called printing_functions.py. Write an import statement at the top of printing_models.py, and modify the file to use the imported functions.\n",
    "\n",
    "8-16. Imports: Using a program you wrote that has one function in it, store that function in a separate file. Import the function into your main program file, and call the function using each of these approaches:\n",
    "\n",
    "`import module_name`\n",
    "\n",
    "`from module_name import function_name`\n",
    "\n",
    "`from module_name import function_name as fn`\n",
    "\n",
    "`import module_name as mn`\n",
    "\n",
    "`from module_name import *`\n",
    "\n",
    "8-17. Styling Functions: Choose any three programs you wrote for this chapter, and make sure they follow the styling guidelines described in this section."
   ]
  },
  {
   "cell_type": "markdown",
   "metadata": {},
   "source": [
    "# Summary\n",
    "\n",
    "In this chapter you learned how to write functions and to pass arguments so that your functions have access to the information they need to do their work. You learned how to use positional and keyword arguments, and how to accept an arbitrary number of arguments. You saw functions that display output and functions that return values. You learned how to use functions with lists, dictionaries, if statements, and while loops. You also saw how to store your functions in separate files called `modules`, so your program files will be simpler and easier to understand. Finally, you learned to style your functions so your programs will continue to be well-structured and as easy as possible for you and others to read.\n",
    "\n",
    "One of your goals as a programmer should be to write simple code that does what you want it to, and functions help you do this. They allow you to write blocks of code and leave them alone once you know they work. When you know a function does its job correctly, you can trust that it will continue to work and move on to your next coding task.\n",
    "\n",
    "Functions allow you to write code once and then reuse that code as many times as you want. When you need to run the code in a function, all you need to do is write a one-line call and the function does its job. When you need to modify a function’s behavior, you only have to modify one block of code, and your change takes effect everywhere you’ve made a call to that function.\n",
    "\n",
    "Using functions makes your programs easier to read, and good func-tion names summarize what each part of a program does. Reading a series of function calls gives you a much quicker sense of what a program does than reading a long series of code blocks.\n",
    "\n",
    "Functions also make your code easier to test and debug. When the bulk of your program’s work is done by a set of functions, each of which has a specific job, it’s much easier to test and maintain the code you’ve written. You can write a separate program that calls each function and tests whether each function works in all the situations it may encounter. When you do this, you can be confident that your functions will work properly each time you call them.\n",
    "\n",
    "In Chapter 9 you’ll learn to write classes. `Classes` combine functions and data into one neat package that can be used in flexible and efficient ways."
   ]
  },
  {
   "cell_type": "code",
   "execution_count": null,
   "metadata": {},
   "outputs": [],
   "source": []
  }
 ],
 "metadata": {
  "interpreter": {
   "hash": "916dbcbb3f70747c44a77c7bcd40155683ae19c65e1c03b4aa3499c5328201f1"
  },
  "kernelspec": {
   "display_name": "Python 3.9.7 64-bit",
   "name": "python3"
  },
  "language_info": {
   "codemirror_mode": {
    "name": "ipython",
    "version": 3
   },
   "file_extension": ".py",
   "mimetype": "text/x-python",
   "name": "python",
   "nbconvert_exporter": "python",
   "pygments_lexer": "ipython3",
   "version": "3.10.0"
  },
  "orig_nbformat": 4
 },
 "nbformat": 4,
 "nbformat_minor": 2
}
