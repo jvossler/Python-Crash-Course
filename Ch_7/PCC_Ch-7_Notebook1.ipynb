{
 "cells": [
  {
   "cell_type": "markdown",
   "metadata": {},
   "source": [
    "# Ch. 7: User Input and while Loops\n",
    "\n",
    "Most programs are written to solve an end\n",
    "user’s problem. To do so, you usually need\n",
    "to get some information from the user. For a\n",
    "simple example, let’s say someone wants to find\n",
    "out whether they’re old enough to vote. If you write a\n",
    "program to answer this question, you need to know the user’s age before\n",
    "you can provide an answer. The program will need to ask the user to enter,\n",
    "or input, their age; once the program has this input, it can compare it to the\n",
    "voting age to determine if the user is old enough and then report the result.\n",
    "\n",
    "In this chapter you’ll learn how to accept user input so your program\n",
    "can then work with it. When your program needs a name, you’ll be able\n",
    "to prompt the user for a name. When your program needs a list of names,\n",
    "you’ll be able to prompt the user for a series of names. To do this, you’ll use\n",
    "the **`input()`** function.\n",
    "\n",
    "You’ll also learn how to keep programs running as long as users want\n",
    "them to, so they can enter as much information as they need to; then, your\n",
    "program can work with that information. You’ll use Python’s **`while`** loop to\n",
    "keep programs running as long as certain conditions remain true.\n",
    "\n",
    "With the ability to work with user input and the ability to control how\n",
    "long your programs run, you’ll be able to write fully interactive programs."
   ]
  },
  {
   "cell_type": "markdown",
   "metadata": {},
   "source": [
    "# How the input() Function Works\n",
    "\n",
    "The **`input()`** function pauses your program and waits for the user to enter\n",
    "some text. Once Python receives the user’s input, it assigns that input to a\n",
    "variable to make it convenient for you to work with.\n",
    "\n",
    "For example, the following program asks the user to enter some text,\n",
    "then displays that message back to the user:\n",
    "\n",
    "The input() function takes one argument: the **`prompt`**, or instructions,\n",
    "that we want to display to the user so they know what to do. In this example,\n",
    "when Python runs the first line, the user sees the prompt Tell me something,\n",
    "and I will repeat it back to you: . The program waits while the user enters\n",
    "their response and continues after the user presses enter. The response is\n",
    "assigned to the variable message, then print(message) displays the input back to\n",
    "the user:\n",
    "\n",
    "**NOTE** Sublime Text and many other editors don’t run programs that prompt the user for input.\n",
    "You can use these editors to write programs that prompt for input, but you’ll need to run\n",
    "these programs from a terminal. See “Running Python Programs from a Terminal” on\n",
    "page 12."
   ]
  },
  {
   "cell_type": "markdown",
   "metadata": {},
   "source": [
    "# How the input() Function Works\n",
    "\n",
    "The **`input()`** function pauses your program and waits for the user to enter\n",
    "some text. Once Python receives the user’s input, it assigns that input to a\n",
    "variable to make it convenient for you to work with.\n",
    "\n",
    "For example, the following program asks the user to enter some text,\n",
    "then displays that message back to the user:\n",
    "\n",
    "The input() function takes one argument: the **`prompt`**, or instructions,\n",
    "that we want to display to the user so they know what to do. In this example,\n",
    "when Python runs the first line, the user sees the prompt Tell me something,\n",
    "and I will repeat it back to you: . The program waits while the user enters\n",
    "their response and continues after the user presses enter. The response is\n",
    "assigned to the variable message, then print(message) displays the input back to\n",
    "the user:\n",
    "\n",
    "**NOTE** Sublime Text and many other editors don’t run programs that prompt the user for input.\n",
    "You can use these editors to write programs that prompt for input, but you’ll need to run\n",
    "these programs from a terminal. See “Running Python Programs from a Terminal” on\n",
    "page 12."
   ]
  },
  {
   "cell_type": "code",
   "execution_count": 1,
   "metadata": {},
   "outputs": [
    {
     "name": "stdout",
     "output_type": "stream",
     "text": [
      "Hello World!\n"
     ]
    }
   ],
   "source": [
    "message = input(\"Tell me something and I will repeat it back to you: \")\n",
    "print(message)"
   ]
  },
  {
   "cell_type": "markdown",
   "metadata": {},
   "source": [
    "## Writing Clear Prompts\n",
    "\n",
    "Each time you use the input() function, you should include a clear, easy-tofollow\n",
    "prompt that tells the user exactly what kind of information you’re\n",
    "looking for. Any statement that tells the user what to enter should work. For\n",
    "example:\n",
    "\n",
    "Add a space at the end of your prompts (after the colon in the preceding\n",
    "example) to separate the prompt from the user’s response and to make\n",
    "it clear to your user where to enter their text. For example:"
   ]
  },
  {
   "cell_type": "code",
   "execution_count": 2,
   "metadata": {},
   "outputs": [
    {
     "name": "stdout",
     "output_type": "stream",
     "text": [
      "\n",
      "Hello, Joe!\n"
     ]
    }
   ],
   "source": [
    "name = input(\"Please enter your name: \")\n",
    "print(f\"\\nHello, {name}!\")"
   ]
  },
  {
   "cell_type": "markdown",
   "metadata": {},
   "source": [
    "Sometimes you’ll want to write a prompt that’s longer than one line.\n",
    "For example, you might want to tell the user why you’re asking for certain\n",
    "input. You can assign your prompt to a variable and pass that variable to the\n",
    "input() function. This allows you to build your prompt over several lines,\n",
    "then write a clean input() statement.\n",
    "\n",
    "This example shows one way to build a multi-line string. The first line\n",
    "assigns the first part of the message to the variable prompt. In the second\n",
    "line, the operator += takes the string that was assigned to prompt and adds\n",
    "the new string onto the end.\n",
    "\n",
    "The prompt now spans two lines, again with space after the question\n",
    "mark for clarity:"
   ]
  },
  {
   "cell_type": "code",
   "execution_count": 3,
   "metadata": {},
   "outputs": [
    {
     "name": "stdout",
     "output_type": "stream",
     "text": [
      "\n",
      "Hello, Joe!\n"
     ]
    }
   ],
   "source": [
    "prompt = \"If you tell us who you are, we can personalize the messages you see.\"\n",
    "prompt += \"\\nWhat is your first name? \"\n",
    "\n",
    "name = input(prompt)\n",
    "print(f\"\\nHello, {name}!\")"
   ]
  },
  {
   "cell_type": "markdown",
   "metadata": {},
   "source": [
    "## Using int() to Accept Numerical Input\n",
    "**When you use the input() function, Python interprets everything the user\n",
    "enters as a string**. Consider the following interpreter session, which asks for\n",
    "the user’s age:\n",
    "\n",
    "The user enters the number 21, but when we ask Python for the value of\n",
    "age, it returns '21', the string representation of the numerical value entered.\n",
    "We know Python interpreted the input as a string because the number is now\n",
    "enclosed in quotes. If all you want to do is print the input, this works well. But\n",
    "if you try to use the input as a number, you’ll get an error:\n",
    "\n",
    "> age = input(\"How old are you? \")\n",
    ">> How old are you? 21\n",
    "\n",
    "> age >= 18\n",
    ">>> Traceback (most recent call last):\n",
    ">>> File \"<stdin>\", line 1, in <module>\n",
    ">>> TypeError: unorderable types: str() >= int()"
   ]
  },
  {
   "cell_type": "code",
   "execution_count": 4,
   "metadata": {},
   "outputs": [
    {
     "data": {
      "text/plain": [
       "'21'"
      ]
     },
     "execution_count": 4,
     "metadata": {},
     "output_type": "execute_result"
    }
   ],
   "source": [
    "age = input(\"How old are you?\")\n",
    "age"
   ]
  },
  {
   "cell_type": "markdown",
   "metadata": {},
   "source": [
    "When you try to use the input to do a numerical comparison u, Python\n",
    "produces an error because it can’t compare a string to an integer: the string\n",
    "'21' that’s assigned to age can’t be compared to the numerical value 18 v.\n",
    "\n",
    "We can resolve this issue by using the int() function, which tells\n",
    "Python to treat the input as a numerical value. The int() function converts\n",
    "a string representation of a number to a numerical representation,\n",
    "as shown here:\n",
    "\n"
   ]
  },
  {
   "cell_type": "code",
   "execution_count": 8,
   "metadata": {},
   "outputs": [
    {
     "name": "stdout",
     "output_type": "stream",
     "text": [
      "You can't buy alcohol yet? Lame...\n"
     ]
    }
   ],
   "source": [
    "age = input(\"How old are you?\")\n",
    "age = int(age)\n",
    "age >= 18\n",
    "if age >= 18:\n",
    "    print(f\"Wow, you are {age} years old! Gimme some alcohol.\")\n",
    "else:\n",
    "    print(\"You can't buy alcohol yet? Lame...\")\n"
   ]
  },
  {
   "cell_type": "markdown",
   "metadata": {},
   "source": [
    "In this example, when we enter 21 at the prompt, Python interprets the\n",
    "number as a string, but the value is then converted to a numerical representation\n",
    "by int() u. Now Python can run the conditional test: it compares age\n",
    "(which now represents the numerical value 21) and 18 to see if age is greater\n",
    "than or equal to 18. This test evaluates to True.\n",
    "\n",
    "How do you use the int() function in an actual program? Consider a\n",
    "program that determines whether people are tall enough to ride a roller\n",
    "coaster:\n",
    "\n",
    "The program can compare height to 48 because height = int(height)\n",
    "converts the input value to a numerical representation before the comparison\n",
    "is made. If the number entered is greater than or equal to 48, we tell\n",
    "the user that they’re tall enough:\n",
    "\n",
    "When you use numerical input to do calculations and comparisons,\n",
    "be sure to convert the input value to a numerical representation first."
   ]
  },
  {
   "cell_type": "code",
   "execution_count": 10,
   "metadata": {},
   "outputs": [
    {
     "name": "stdout",
     "output_type": "stream",
     "text": [
      "\n",
      "You'll be able to ride when you're a little older.\n"
     ]
    }
   ],
   "source": [
    "height = input(\"How tall ar eyou, in inches?\")\n",
    "height = int(height)\n",
    "\n",
    "if height >= 48:\n",
    "    print(\"\\n You're tall enough to ride!\")\n",
    "else:\n",
    "    print(\"\\nYou'll be able to ride when you're a little older.\")"
   ]
  },
  {
   "cell_type": "markdown",
   "metadata": {},
   "source": [
    "## The Modulo Operator\n",
    "\n",
    "A useful tool for working with numerical information is the modulo operator (%),\n",
    "which divides one number by another number and returns the remainder:\n",
    "> 4 % 3\n",
    "> \n",
    ">> 1\n",
    "\n",
    "> 5 % 3\n",
    "> \n",
    ">> 2\n",
    "\n",
    "> 6 % 3\n",
    "> \n",
    ">> 0\n",
    "\n",
    "> 7 % 3\n",
    "> \n",
    ">> 1\n",
    "\n",
    "The modulo operator doesn’t tell you how many times one number fits\n",
    "into another; it just tells you what the remainder is.\n",
    "\n",
    "When one number is divisible by another number, the remainder is 0,\n",
    "so the modulo operator always returns 0. You can use this fact to determine\n",
    "if a number is even or odd:\n",
    "\n",
    "Even numbers are always divisible by two, so if the modulo of a number\n",
    "and two is zero (here, if number % 2 == 0) the number is even. Otherwise,\n",
    "it’s odd."
   ]
  },
  {
   "cell_type": "code",
   "execution_count": 12,
   "metadata": {},
   "outputs": [
    {
     "name": "stdout",
     "output_type": "stream",
     "text": [
      "\n",
      "The number 6 is even.\n"
     ]
    }
   ],
   "source": [
    "number = input(\"Enter a number, and I'll tell you if it's even or odd: \")\n",
    "number = int(number)\n",
    "\n",
    "if number % 2 == 0:\n",
    "    print(f\"\\nThe number {number} is even.\")\n",
    "else:\n",
    "    print(f\"The number {number} is odd.\")"
   ]
  },
  {
   "cell_type": "markdown",
   "metadata": {},
   "source": [
    "## Try It Yourself\n",
    "7-1. Rental Car: Write a program that asks the user what kind of rental car they\n",
    "would like. Print a message about that car, such as “Let me see if I can find you\n",
    "a Subaru.”\n",
    "\n",
    "7-2. Restaurant Seating: Write a program that asks the user how many people\n",
    "are in their dinner group. If the answer is more than eight, print a message saying\n",
    "they’ll have to wait for a table. Otherwise, report that their table is ready.\n",
    "\n",
    "7-3. Multiples of Ten: Ask the user for a number, and then report whether the\n",
    "number is a multiple of 10 or not."
   ]
  },
  {
   "cell_type": "code",
   "execution_count": 13,
   "metadata": {},
   "outputs": [
    {
     "name": "stdout",
     "output_type": "stream",
     "text": [
      "Let me see if I can find you a Toyota...\n"
     ]
    }
   ],
   "source": [
    "rental_car = input(\"What kind of rental car would you like?\")\n",
    "\n",
    "print(f\"Let me see if I can find you a {rental_car.title()}...\")"
   ]
  },
  {
   "cell_type": "code",
   "execution_count": 16,
   "metadata": {},
   "outputs": [
    {
     "name": "stdout",
     "output_type": "stream",
     "text": [
      "Since your party size of 9 is too large, the wait will be 30 minutes.\n"
     ]
    }
   ],
   "source": [
    "party_size = input(\"How many people are in your dinner group?\")\n",
    "\n",
    "party_size = int(party_size)\n",
    "\n",
    "if party_size > 8:\n",
    "    print(f\"Since your party size of {party_size} is too large, the wait will be 30 minutes.\")\n",
    "else:\n",
    "    print(f\"Party of {party_size}, your table is ready.\")"
   ]
  },
  {
   "cell_type": "code",
   "execution_count": 18,
   "metadata": {},
   "outputs": [
    {
     "name": "stdout",
     "output_type": "stream",
     "text": [
      "The number 50 is divisible by 10!\n"
     ]
    }
   ],
   "source": [
    "number = input(\"Pick a number between 1 and 1,000,000.\")\n",
    "number = int(number)\n",
    "\n",
    "if number % 10 == 0:\n",
    "    print(f\"The number {number} is divisible by 10!\")\n",
    "else:\n",
    "    print(f\"The number {number} is not divisible by 10. Sad panda...\")"
   ]
  },
  {
   "cell_type": "markdown",
   "metadata": {},
   "source": [
    "# Introducing while Loops\n",
    "The for loop takes a collection of items and executes a block of code once\n",
    "for each item in the collection. In contrast, the while loop runs as long as,\n",
    "or while, a certain condition is true."
   ]
  },
  {
   "cell_type": "markdown",
   "metadata": {},
   "source": [
    "## The while Loop in Action\n",
    "You can use a while loop to count up through a series of numbers. For\n",
    "example, the following while loop counts from 1 to 5:\n",
    "\n",
    "In the first line, we start counting from 1 by assigning current_number\n",
    "the value 1. The while loop is then set to keep running as long as the value\n",
    "of current_number is less than or equal to 5. The code inside the loop prints\n",
    "the value of current_number and then adds 1 to that value with current_number\n",
    "+= 1. **`(The += operator is shorthand for current_number = current_number + 1.)`**\n",
    "\n",
    "Python repeats the loop as long as the condition current_number <= 5\n",
    "is true. Because 1 is less than 5, Python prints 1 and then adds 1, making\n",
    "the current number 2. Because 2 is less than 5, Python prints 2\n",
    "and adds 1 again, making the current number 3, and so on. Once the\n",
    "value of current_number is greater than 5, the loop stops running and the\n",
    "program ends:\n",
    "\n",
    "The programs you use every day most likely contain while loops. For\n",
    "example, a game needs a while loop to keep running as long as you want\n",
    "to keep playing, and so it can stop running as soon as you ask it to quit.\n",
    "Programs wouldn’t be fun to use if they stopped running before we told\n",
    "them to or kept running even after we wanted to quit, so while loops are\n",
    "quite useful."
   ]
  },
  {
   "cell_type": "code",
   "execution_count": 19,
   "metadata": {},
   "outputs": [
    {
     "name": "stdout",
     "output_type": "stream",
     "text": [
      "1\n",
      "2\n",
      "3\n",
      "4\n",
      "5\n"
     ]
    }
   ],
   "source": [
    "current_number = 1\n",
    "\n",
    "while current_number <= 5:\n",
    "    print(current_number)\n",
    "    current_number += 1"
   ]
  },
  {
   "cell_type": "markdown",
   "metadata": {},
   "source": [
    "## Letting the User Choose When to Quit\n",
    "\n",
    "We can make the parrot.py program run as long as the user wants by putting\n",
    "most of the program inside a while loop. We’ll define a quit value and then\n",
    "keep the program running as long as the user has not entered the quit value:\n",
    "\n",
    "**NOTE** The first time the program runs\n",
    "and Python reaches the while statement, it needs to compare the value\n",
    "of message to 'quit', but no user input has been entered yet. If Python has\n",
    "nothing to compare, it won’t be able to continue running the program. To\n",
    "solve this problem, we make sure to give message an initial value. Although\n",
    "it’s just an empty string, it will make sense to Python and allow it to perform\n",
    "the comparison that makes the while loop work.\n",
    "\n",
    "This program works well, except that it prints the word 'quit' as if it\n",
    "were an actual message. A simple if test fixes this:\n",
    "\n",
    "Now the program makes a quick check before displaying the message\n",
    "and only prints the message if it does not match the quit value:"
   ]
  },
  {
   "cell_type": "code",
   "execution_count": 23,
   "metadata": {},
   "outputs": [
    {
     "name": "stdout",
     "output_type": "stream",
     "text": [
      "Test\n",
      "1\n",
      "2\n",
      "3\n",
      "Hello\n"
     ]
    }
   ],
   "source": [
    "prompt = \"\\nTell me something, and I will repeat it back to you:\"\n",
    "prompt += \"\\nEnter 'quit' to end the program. \"\n",
    "\n",
    "message = \"\"\n",
    "while message != 'quit':\n",
    "    message = input(prompt)\n",
    "\n",
    "    # exit the while loop without displaying the 'quit' message in the output\n",
    "    if message != 'quit':\n",
    "        print(message)"
   ]
  },
  {
   "cell_type": "markdown",
   "metadata": {},
   "source": [
    "## Using a Flag\n",
    "In the previous example, we had the program perform certain tasks while\n",
    "a given condition was true. But what about more complicated programs in\n",
    "which many different events could cause the program to stop running?\n",
    "\n",
    "For example, in a game, several different events can end the game.\n",
    "When the player runs out of ships, their time runs out, or the cities they\n",
    "were supposed to protect are all destroyed, the game should end. It needs\n",
    "to end if any one of these events happens. If many possible events might\n",
    "occur to stop the program, trying to test all these conditions in one while\n",
    "statement becomes complicated and difficult.\n",
    "\n",
    "For a program that should run only as long as many conditions are true,\n",
    "you can define one variable that determines whether or not the entire program\n",
    "is active. This variable, called a **`flag`**, acts as a signal to the program. We\n",
    "can write our programs so they run while the flag is set to True and stop running\n",
    "when any of several events sets the value of the flag to False. As a result,\n",
    "our overall while statement needs to check only one condition: whether or\n",
    "not the flag is currently True. Then, all our other tests (to see if an event has\n",
    "occurred that should set the flag to False) can be neatly organized in the rest\n",
    "of the program.\n",
    "\n",
    "Let’s add a flag to parrot.py from the previous section. This flag, which\n",
    "we’ll call active (though you can call it anything), will monitor whether or\n",
    "not the program should continue running:"
   ]
  },
  {
   "cell_type": "code",
   "execution_count": 25,
   "metadata": {},
   "outputs": [
    {
     "name": "stdout",
     "output_type": "stream",
     "text": [
      "test\n"
     ]
    }
   ],
   "source": [
    "prompt = \"\\nTell me something, and I will repeat it back to you:\"\n",
    "prompt += \"\\nEnter 'quit' to end the program.\"\n",
    "\n",
    "active = True\n",
    "while active:\n",
    "    message = input(prompt)\n",
    "\n",
    "    if message == 'quit':\n",
    "        active = False\n",
    "    else:\n",
    "        print(message)"
   ]
  },
  {
   "cell_type": "markdown",
   "metadata": {},
   "source": [
    "We set the variable active to True u so the program starts in an active\n",
    "state. Doing so makes the while statement simpler because no comparison is\n",
    "made in the while statement itself; the logic is taken care of in other parts of\n",
    "the program. As long as the active variable remains True, the loop will continue\n",
    "running v.\n",
    "\n",
    "In the if statement inside the while loop, we check the value of message\n",
    "once the user enters their input. If the user enters 'quit' w, we set active\n",
    "to False, and the while loop stops. If the user enters anything other than\n",
    "'quit' x, we print their input as a message.\n",
    "\n",
    "This program has the same output as the previous example where we\n",
    "placed the conditional test directly in the while statement. But now that we\n",
    "have a flag to indicate whether the overall program is in an active state, it\n",
    "would be easy to add more tests (such as elif statements) for events that\n",
    "should cause active to become False. This is useful in complicated programs\n",
    "like games in which there may be many events that should each make the\n",
    "program stop running. When any of these events causes the active flag to\n",
    "become False, the main game loop will exit, a Game Over message can be\n",
    "displayed, and the player can be given the option to play again."
   ]
  },
  {
   "cell_type": "markdown",
   "metadata": {},
   "source": [
    "## Using break to Exit a Loop\n",
    "\n",
    "**To exit a while loop immediately without running any remaining code in the\n",
    "loop, regardless of the results of any conditional test, use the `break` statement.**\n",
    "*The break statement directs the flow of your program; you can use it to control\n",
    "which lines of code are executed and which aren’t, so the program only\n",
    "executes code that you want it to, when you want it to.*\n",
    "\n",
    "For example, consider a program that asks the user about places they’ve\n",
    "visited. We can stop the while loop in this program by calling break as soon\n",
    "as the user enters the 'quit' value:\n",
    "\n",
    "A loop that starts with while True u will run forever unless it reaches a\n",
    "break statement. The loop in this program continues asking the user to enter\n",
    "the names of cities they’ve been to until they enter 'quit'. When they enter\n",
    "'quit', the break statement runs, causing Python to exit the loop:\n",
    "\n",
    "**NOTE** You can use the break statement in any of Python’s loops. For example, you could use\n",
    "break to quit a for loop that’s working through a list or a dictionary."
   ]
  },
  {
   "cell_type": "code",
   "execution_count": 27,
   "metadata": {},
   "outputs": [
    {
     "name": "stdout",
     "output_type": "stream",
     "text": [
      "I'd love to go to Paris!\n",
      "I'd love to go to New York!\n",
      "I'd love to go to Chicago!\n"
     ]
    }
   ],
   "source": [
    "prompt = \"\\nPlease enter the name of a city you have visited:\"\n",
    "prompt += \"\\n(Enter 'quit' when you are finished.) \"\n",
    "\n",
    "while True:\n",
    "    city = input(prompt)\n",
    "\n",
    "    if city == 'quit':\n",
    "        break\n",
    "    else:\n",
    "        print(f\"I'd love to go to {city.title()}!\")"
   ]
  },
  {
   "cell_type": "markdown",
   "metadata": {},
   "source": [
    "## Using continue in a Loop\n",
    "*Rather than breaking out of a loop entirely without executing the rest of its\n",
    "code, you can use the **`continue`** statement to return to the beginning of the\n",
    "loop based on the result of a conditional test.* For example, consider a loop\n",
    "that counts from 1 to 10 but prints only the odd numbers in that range:\n",
    "\n",
    "First we set current_number to 0. Because it’s less than 10, Python\n",
    "enters the while loop. Once inside the loop, we increment the count by 1\n",
    "at u, so current_number is 1. The if statement then checks the modulo of\n",
    "current_number and 2. If the modulo is 0 (which means current_number is\n",
    "divisible by 2), the continue statement tells Python to ignore the rest of\n",
    "the loop and return to the beginning. If the current number is not divisible\n",
    "by 2, the rest of the loop is executed and Python prints the current\n",
    "number:"
   ]
  },
  {
   "cell_type": "code",
   "execution_count": 30,
   "metadata": {},
   "outputs": [
    {
     "name": "stdout",
     "output_type": "stream",
     "text": [
      "1\n",
      "3\n",
      "5\n",
      "7\n",
      "9\n"
     ]
    }
   ],
   "source": [
    "current_number = 0\n",
    "while current_number < 10:\n",
    "    current_number += 1\n",
    "    if current_number % 2 == 0:\n",
    "        continue\n",
    "\n",
    "    print(current_number)"
   ]
  },
  {
   "cell_type": "markdown",
   "metadata": {},
   "source": [
    "## Avoiding Infinite Loops\n",
    "Every while loop needs a way to stop running so it won’t continue to run forever.\n",
    "For example, this counting loop should count from 1 to 5:\n",
    "\n",
    "But if you accidentally omit the line x += 1 (as shown next), the loop\n",
    "will run forever:\n",
    "\n",
    "Now the value of x will start at 1 but never change. As a result, the conditional\n",
    "test x <= 5 will always evaluate to True and the while loop will run\n",
    "forever, printing a series of 1s, like this:\n",
    "\n",
    "Every programmer accidentally writes an infinite while loop from time\n",
    "to time, especially when a program’s loops have subtle exit conditions. If\n",
    "your program gets stuck in an infinite loop, press ctrl-C or just close the\n",
    "terminal window displaying your program’s output.\n",
    "\n",
    "To avoid writing infinite loops, test every while loop and make sure\n",
    "the loop stops when you expect it to. If you want your program to end\n",
    "when the user enters a certain input value, run the program and enter\n",
    "that value. If the program doesn’t end, scrutinize the way your program\n",
    "handles the value that should cause the loop to exit. Make sure at least\n",
    "one part of the program can make the loop’s condition False or cause it\n",
    "to reach a break statement.\n",
    "\n",
    "**NOTE** Sublime Text and some other editors have an embedded output window. This can\n",
    "make it difficult to stop an infinite loop, and you might have to close the editor to\n",
    "end the loop. Try clicking in the output area of the editor before pressing ctrl-C,\n",
    "and you should be able to cancel an infinite loop."
   ]
  },
  {
   "cell_type": "code",
   "execution_count": 31,
   "metadata": {},
   "outputs": [
    {
     "name": "stdout",
     "output_type": "stream",
     "text": [
      "1\n",
      "2\n",
      "3\n",
      "4\n",
      "5\n"
     ]
    }
   ],
   "source": [
    "x = 1\n",
    "while x <= 5:\n",
    "    print(x)\n",
    "    x += 1\n",
    "\n",
    "# # This loop runs forever!\n",
    "# x = 1\n",
    "# while x <= 5:\n",
    "#     print(x)"
   ]
  },
  {
   "cell_type": "markdown",
   "metadata": {},
   "source": [
    "## Try It Yourself\n",
    "7-4. Pizza Toppings: Write a loop that prompts the user to enter a series of\n",
    "pizza toppings until they enter a 'quit' value. As they enter each topping,\n",
    "print a message saying you’ll add that topping to their pizza.\n",
    "\n",
    "7-5. Movie Tickets: A movie theater charges different ticket prices depending on\n",
    "a person’s age. If a person is under the age of 3, the ticket is free; if they are\n",
    "between 3 and 12, the ticket is $10; and if they are over age 12, the ticket is\n",
    "$15. Write a loop in which you ask users their age, and then tell them the cost\n",
    "of their movie ticket.\n",
    "\n",
    "7-6. Three Exits: Write different versions of either Exercise 7-4 or Exercise 7-5\n",
    "that do each of the following at least once:\n",
    "- Use a conditional test in the while statement to stop the loop.\n",
    "- Use an active variable to control how long the loop runs.\n",
    "- Use a break statement to exit the loop when the user enters a 'quit' value.\n",
    "\n",
    "7-7. Infinity: Write a loop that never ends, and run it. (To end the loop, press\n",
    "ctrl-C or close the window displaying the output.)"
   ]
  },
  {
   "cell_type": "code",
   "execution_count": 41,
   "metadata": {},
   "outputs": [
    {
     "name": "stdout",
     "output_type": "stream",
     "text": [
      "You added pepperoni to your list of toppings.\n",
      "\n",
      "One pizza with ['pepperoni'] coming right up!\n"
     ]
    }
   ],
   "source": [
    "prompt = \"\\nWhich toppings would you like on your pizza?\"\n",
    "prompt += \"\\nEnter 'quit' to exit the menu when you are finished.\"\n",
    "\n",
    "toppings = []\n",
    "while True:\n",
    "    topping = input(prompt)\n",
    "    if topping == 'quit':\n",
    "        print(f\"\\nOne pizza with {toppings} coming right up!\")\n",
    "        break\n",
    "    else:\n",
    "        print(f\"You added {topping} to your list of toppings.\")\n",
    "        toppings.append(topping)"
   ]
  },
  {
   "cell_type": "code",
   "execution_count": 8,
   "metadata": {},
   "outputs": [],
   "source": [
    "prompt = input(\"\\nHow old are you?\"\n",
    "            \"\\n Enter 'quit' to finish.\")\n",
    "\n",
    "appropriate_ticket_age = True\n",
    "while appropriate_ticket_age:\n",
    "    age = int(prompt)\n",
    "    # age = int(age)\n",
    "    if age < 3:\n",
    "        print(f\"You are {age}, so your ticket is free!\")\n",
    "    elif age >= 3 and age <= 12:\n",
    "        print(f\"You are {age}, so your ticket is $12.\")\n",
    "    elif age > 12:\n",
    "        print(f\"Wow, you're really {age}? A bit too old for a Disney Princess movie, don't you think?\")\n",
    "        \n",
    "    # else:\n",
    "    #     break\n",
    "\n",
    "    # elif age == 'quit':\n",
    "    #     appropriate_ticket_age = False\n",
    "    #     break"
   ]
  },
  {
   "cell_type": "markdown",
   "metadata": {},
   "source": [
    "# Using a while Loop with Lists and Dictionaries\n",
    "So far, we’ve worked with only one piece of user information at a time. We\n",
    "received the user’s input and then printed the input or a response to it.\n",
    "The next time through the while loop, we’d receive another input value\n",
    "and respond to that. But to keep track of many users and pieces of information,\n",
    "we’ll need to use lists and dictionaries with our while loops.\n",
    "\n",
    "A for loop is effective for looping through a list, but you shouldn’t modify\n",
    "a list inside a for loop because Python will have trouble keeping track of the\n",
    "items in the list. **`To modify a list as you work through it, use a while loop.`**\n",
    "Using while loops with lists and dictionaries allows you to collect, store, and\n",
    "organize lots of input to examine and report on later."
   ]
  },
  {
   "cell_type": "markdown",
   "metadata": {},
   "source": [
    "## Moving Items from One List to Another\n",
    "Consider a list of newly registered but unverified users of a website. After\n",
    "we verify these users, how can we move them to a separate list of confirmed\n",
    "users? One way would be to use a while loop to pull users from the list of\n",
    "unconfirmed users as we verify them and then add them to a separate list of\n",
    "confirmed users. Here’s what that code might look like:\n",
    "\n",
    "We begin with a list of unconfirmed users at u (Alice, Brian, and\n",
    "Candace) and an empty list to hold confirmed users. The while loop at v\n",
    "runs as long as the list unconfirmed_users is not empty. Within this loop, the\n",
    "pop() method at w removes unverified users one at a time from the end\n",
    "of unconfirmed_users. Here, because Candace is last in the unconfirmed_users\n",
    "list, her name will be the first to be removed, assigned to current_user, and\n",
    "added to the confirmed_users list at x. Next is Brian, then Alice.\n",
    "\n",
    "We simulate confirming each user by printing a verification message\n",
    "and then adding them to the list of confirmed users. As the list of unconfirmed\n",
    "users shrinks, the list of confirmed users grows. When the list of\n",
    "unconfirmed users is empty, the loop stops and the list of confirmed users\n",
    "is printed:"
   ]
  },
  {
   "cell_type": "code",
   "execution_count": 82,
   "metadata": {},
   "outputs": [
    {
     "name": "stdout",
     "output_type": "stream",
     "text": [
      "Verifying user: Candace\n",
      "Verifying user: Brian\n",
      "Verifying user: Alice\n",
      "\n",
      "\n",
      "The following users have been confirmed:\n",
      "Candace\n",
      "Brian\n",
      "Alice\n"
     ]
    }
   ],
   "source": [
    "# Start with users that need to be verified\n",
    "# and an empty list to hold confirmed users.\n",
    "unconfirmed_users = ['alice', 'brian', 'candace']\n",
    "confirmed_users = []\n",
    "\n",
    "# Verify each user until there are no more unconfirmed users.\n",
    "# Move each verified user into the list of confirmed users.\n",
    "while unconfirmed_users:\n",
    "    current_user = unconfirmed_users.pop()\n",
    "    \n",
    "    print(f\"Verifying user: {current_user.title()}\")\n",
    "    # print(f\"Confirmed user: {current_user.title()}\")\n",
    "    confirmed_users.append(current_user)\n",
    "\n",
    "print(\"\\n\")\n",
    "print(\"The following users have been confirmed:\")\n",
    "\n",
    "# Display all confirmed users\n",
    "for confirmed_user in confirmed_users:\n",
    "    print(f\"{confirmed_user.title()}\")\n",
    "\n",
    "# print(\"\\n\")\n",
    "# for confirmed_user in confirmed_users:\n",
    "#     print(f\"Confirmed user: {confirmed_user.title()}\")"
   ]
  },
  {
   "cell_type": "markdown",
   "metadata": {},
   "source": [
    "## Removing All Instances of Specific Values from a List\n",
    "\n",
    "In Chapter 3 we used remove() to remove a specific value from a list. The\n",
    "remove() function worked because the value we were interested in appeared\n",
    "only once in the list. But what if you want to remove all instances of a value\n",
    "from a list?\n",
    "\n",
    "Say you have a list of pets with the value 'cat' repeated several times. To\n",
    "remove all instances of that value, you can run a while loop until 'cat' is no\n",
    "longer in the list, as shown here:\n",
    "\n",
    "We start with a list containing multiple instances of 'cat'. After printing\n",
    "the list, Python enters the while loop because it finds the value 'cat' in the list\n",
    "at least once. Once inside the loop, Python removes the first instance of 'cat',\n",
    "returns to the while line, and then reenters the loop when it finds that 'cat' is\n",
    "still in the list. It removes each instance of 'cat' until the value is no longer in\n",
    "the list, at which point Python exits the loop and prints the list again:"
   ]
  },
  {
   "cell_type": "code",
   "execution_count": 84,
   "metadata": {},
   "outputs": [
    {
     "name": "stdout",
     "output_type": "stream",
     "text": [
      "['dog', 'cat', 'dog', 'goldfish', 'cat', 'rabbit', 'cat']\n",
      "['dog', 'dog', 'goldfish', 'rabbit']\n"
     ]
    }
   ],
   "source": [
    "pets = ['dog', 'cat', 'dog', 'goldfish', 'cat', 'rabbit', 'cat']\n",
    "print(pets)\n",
    "\n",
    "while 'cat' in pets:\n",
    "    pets.remove('cat')\n",
    "\n",
    "print(pets)"
   ]
  },
  {
   "cell_type": "markdown",
   "metadata": {},
   "source": [
    "## Filling a Dictionary with User Input\n",
    "You can prompt for as much input as you need in each pass through a while\n",
    "loop. Let’s make a polling program in which each pass through the loop\n",
    "prompts for the participant’s name and response. We’ll store the data we\n",
    "gather in a dictionary, because we want to connect each response with a\n",
    "particular user:\n",
    "\n",
    "The program first defines an empty dictionary (responses) and sets a flag\n",
    "(polling_active) to indicate that polling is active. As long as polling_active is\n",
    "True, Python will run the code in the while loop.\n",
    "\n",
    "Within the loop, the user is prompted to enter their name and a mountain\n",
    "they’d like to climb u. That information is stored in the responses dictionary\n",
    "v, and the user is asked whether or not to keep the poll running w.\n",
    "If they enter yes, the program enters the while loop again. If they enter no,\n",
    "the polling_active flag is set to False, the while loop stops running, and the\n",
    "final code block at x displays the results of the poll.\n",
    "\n",
    "If you run this program and enter sample responses, you should see\n",
    "output like this:"
   ]
  },
  {
   "cell_type": "code",
   "execution_count": 1,
   "metadata": {},
   "outputs": [
    {
     "name": "stdout",
     "output_type": "stream",
     "text": [
      "Kayla would like to climb Mount Rainier.\n",
      "Mike would like to climb Kilimanjaro.\n"
     ]
    }
   ],
   "source": [
    "responses = {}\n",
    "\n",
    "# Set a flag to indicate that polling is active\n",
    "polling_active = True\n",
    "\n",
    "while polling_active:\n",
    "    # Prompt for the person's name and response\n",
    "    name = input(\"\\nWhat is your name? \")\n",
    "    response = input(\"Which mountain would you like to climb someday? \")\n",
    "\n",
    "    # Store the response in the dictionary\n",
    "    responses[name] = response\n",
    "\n",
    "    # Find out if anyone else is going to take the poll\n",
    "    repeat = input(\"Would you like to let another person respond? (yes/no) \")\n",
    "    if repeat == 'no':\n",
    "        polling_active = False\n",
    "# Polling is complete. Show the results.\n",
    "for name, response in responses.items():\n",
    "    print(f\"{name.title()} would like to climb {response.title()}.\")"
   ]
  },
  {
   "cell_type": "markdown",
   "metadata": {},
   "source": [
    "## TRY IT YOURSELF\n",
    "7-8. Deli: Make a list called sandwich_orders and fill it with the names of various\n",
    "sandwiches. Then make an empty list called finished_sandwiches. Loop\n",
    "through the list of sandwich orders and print a message for each order, such\n",
    "as I made your tuna sandwich. As each sandwich is made, move it to the list\n",
    "of finished sandwiches. After all the sandwiches have been made, print a\n",
    "message listing each sandwich that was made.\n",
    "\n",
    "7-9. No Pastrami: Using the list sandwich_orders from Exercise 7-8, make sure\n",
    "the sandwich 'pastrami' appears in the list at least three times. Add code\n",
    "near the beginning of your program to print a message saying the deli has\n",
    "run out of pastrami, and then use a while loop to remove all occurrences of\n",
    "'pastrami' from sandwich_orders. Make sure no pastrami sandwiches end up\n",
    "in finished_sandwiches.\n",
    "\n",
    "7-10. Dream Vacation: Write a program that polls users about their dream vacation.\n",
    "Write a prompt similar to If you could visit one place in the world, where\n",
    "would you go? Include a block of code that prints the results of the poll."
   ]
  },
  {
   "cell_type": "code",
   "execution_count": 90,
   "metadata": {},
   "outputs": [
    {
     "name": "stdout",
     "output_type": "stream",
     "text": [
      "I made you a Chicken Sandwich.\n",
      "I made you a Italian Blt.\n",
      "I made you a Philly Cheesesteak.\n",
      "\n",
      "I made the following sandwiches: \n",
      "Chicken Sandwich\n",
      "Italian Blt\n",
      "Philly Cheesesteak\n"
     ]
    }
   ],
   "source": [
    "sandwich_orders = ['philly cheesesteak', 'Italian BLT', 'chicken sandwich']\n",
    "finished_sandwiches = []\n",
    "\n",
    "while sandwich_orders:\n",
    "    finished_sandwich = sandwich_orders.pop()\n",
    "    print(f\"I made you a {finished_sandwich.title()}.\")\n",
    "    finished_sandwiches.append(finished_sandwich)\n",
    "\n",
    "print(\"\\nI made the following sandwiches: \")\n",
    "\n",
    "# View all made sandwiches\n",
    "for finished_sandwich in finished_sandwiches:\n",
    "    print(f\"{finished_sandwich.title()}\")"
   ]
  },
  {
   "cell_type": "code",
   "execution_count": 92,
   "metadata": {},
   "outputs": [
    {
     "name": "stdout",
     "output_type": "stream",
     "text": [
      "Oh no, the deli has run out of pastrami!\n",
      "Here is what we still have available: \n",
      "\n",
      "Philly Cheesesteak\n",
      "Italian Blt\n",
      "Chicken Sandwich\n"
     ]
    }
   ],
   "source": [
    "sandwich_orders = ['philly cheesesteak', 'pastrami', 'Italian BLT', 'pastrami' , 'chicken sandwich', 'pastrami']\n",
    "prompt = \"Oh no, the deli has run out of pastrami!\"\n",
    "prompt += \"\\nHere is what we still have available: \\n\"\n",
    "\n",
    "print(prompt)\n",
    "\n",
    "while 'pastrami' in sandwich_orders:\n",
    "    sandwich_orders.remove('pastrami')\n",
    "\n",
    "for sandwich in sandwich_orders:\n",
    "    print(f\"{sandwich.title()}\")"
   ]
  },
  {
   "cell_type": "code",
   "execution_count": 99,
   "metadata": {},
   "outputs": [
    {
     "name": "stdout",
     "output_type": "stream",
     "text": [
      "A would like to travel to A.\n"
     ]
    }
   ],
   "source": [
    "responses = {}\n",
    "\n",
    "# Set a flag to indicate that polling is active\n",
    "polling_active = True\n",
    "\n",
    "while polling_active:\n",
    "    # Prompt for the person's name and response\n",
    "    name = input(\"What's your name? \")\n",
    "    response = input(\"If you could visit one place in the world, where would you go?\")\n",
    "\n",
    "    # Store the response in the responses dictionary\n",
    "    responses[name.lower()] = response.lower()\n",
    "\n",
    "    # Find out if anyone else would like to take the poll\n",
    "    repeat = input(\"Would you like to let another person respond? (yes / no)\")\n",
    "    if repeat == 'no':\n",
    "        polling_active = False\n",
    "# Polling is complete. Show the results\n",
    "for name, response in responses.items():\n",
    "    print(f\"{name.title()} would like to travel to {response.title()}.\")"
   ]
  },
  {
   "cell_type": "code",
   "execution_count": 100,
   "metadata": {},
   "outputs": [
    {
     "name": "stdout",
     "output_type": "stream",
     "text": [
      "{'a': 'a'}\n"
     ]
    }
   ],
   "source": [
    "print(responses)"
   ]
  },
  {
   "cell_type": "markdown",
   "metadata": {},
   "source": [
    "# Summary\n",
    "In this chapter you learned how to use `input()` to allow users to provide\n",
    "their own information in your programs. You learned to work with both\n",
    "**text and numerical input** and how to use `while` loops to make your programs\n",
    "run as long as your users want them to. *You saw several ways to control the\n",
    "flow of a while loop by setting an active flag, using the break statement, and\n",
    "using the `continue` statement.* You learned how to use a while loop to move\n",
    "items from one list to another and how to remove all instances of a value\n",
    "from a list. *You also learned how while loops can be used with dictionaries.*\n",
    "\n",
    "In Chapter 8 you’ll learn about `functions`. Functions allow you to break\n",
    "your programs into small parts, each of which does one specific job. You\n",
    "can call a function as many times as you want, and you can store your\n",
    "functions in separate files. By using functions, you’ll be able to write more\n",
    "efficient code that’s easier to troubleshoot and maintain and that can be\n",
    "reused in many different programs."
   ]
  },
  {
   "cell_type": "markdown",
   "metadata": {},
   "source": []
  }
 ],
 "metadata": {
  "kernelspec": {
   "display_name": "Python 3",
   "language": "python",
   "name": "python3"
  },
  "language_info": {
   "codemirror_mode": {
    "name": "ipython",
    "version": 3
   },
   "file_extension": ".py",
   "mimetype": "text/x-python",
   "name": "python",
   "nbconvert_exporter": "python",
   "pygments_lexer": "ipython3",
   "version": "3.10.6 (main, Nov 14 2022, 16:10:14) [GCC 11.3.0]"
  },
  "orig_nbformat": 4,
  "vscode": {
   "interpreter": {
    "hash": "916dbcbb3f70747c44a77c7bcd40155683ae19c65e1c03b4aa3499c5328201f1"
   }
  }
 },
 "nbformat": 4,
 "nbformat_minor": 2
}
