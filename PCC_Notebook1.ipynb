{
 "cells": [
  {
   "cell_type": "code",
   "execution_count": 1,
   "source": [
    "print(\"Hello World!\")"
   ],
   "outputs": [
    {
     "output_type": "stream",
     "name": "stdout",
     "text": [
      "Hello World!\n"
     ]
    }
   ],
   "metadata": {}
  },
  {
   "cell_type": "code",
   "execution_count": 2,
   "source": [
    "# Variables can be viewed as tags or labels for certain actions or characters\r\n",
    "message = \"Hello Python World!\"\r\n",
    "print(message)"
   ],
   "outputs": [
    {
     "output_type": "stream",
     "name": "stdout",
     "text": [
      "Hello Python World!\n"
     ]
    }
   ],
   "metadata": {}
  },
  {
   "cell_type": "markdown",
   "source": [
    "You can change the value of a variable in your program at any time, and Python will always keep track of its current value.\r\n",
    "- It’s much better to think of variables as labels that you can assign to values. You can also say that a variable references a certain value."
   ],
   "metadata": {}
  },
  {
   "cell_type": "code",
   "execution_count": 3,
   "source": [
    "# Reassigning variable names\r\n",
    "message = \"Hello Python World Crash Course!\"\r\n",
    "print(message)"
   ],
   "outputs": [
    {
     "output_type": "stream",
     "name": "stdout",
     "text": [
      "Hello Python World Crash Course!\n"
     ]
    }
   ],
   "metadata": {}
  },
  {
   "cell_type": "markdown",
   "source": [
    "- Variable names can contain only letters, numbers, and underscores. They can start with a letter or an underscore, but not with a number. For instance, you can call a variable message_1 but not 1_message.\r\n",
    "- Spaces are not allowed in variable names, but underscores can be used to separate words in variable names. For example, greeting_message works, but greeting message will cause errors.\r\n",
    "- Avoid using Python keywords and function names as variable names; that is, do not use words that Python has reserved for a particular programmatic purpose, such as the word print. (See “Python Keywords and Built-in Functions” on page 471.)\r\n",
    "- Variable names should be short but descriptive. For example, name is better than n, student_name is better than s_n, and name_length is better than length_of_persons_name.\r\n",
    "- Be careful when using the lowercase letter l and the uppercase letter O because they could be confused with the numbers 1 and 0."
   ],
   "metadata": {}
  },
  {
   "cell_type": "code",
   "execution_count": 4,
   "source": [
    "simple_message = \"This is a simple message\"\r\n",
    "print(simple_message)"
   ],
   "outputs": [
    {
     "output_type": "stream",
     "name": "stdout",
     "text": [
      "This is a simple message\n"
     ]
    }
   ],
   "metadata": {}
  },
  {
   "cell_type": "code",
   "execution_count": 5,
   "source": [
    "simple_messages = \"This is a simple messages variable\"\r\n",
    "print(simple_messages)"
   ],
   "outputs": [
    {
     "output_type": "stream",
     "name": "stdout",
     "text": [
      "This is a simple messages variable\n"
     ]
    }
   ],
   "metadata": {}
  },
  {
   "cell_type": "code",
   "execution_count": 7,
   "source": [
    "string_example = \"This is a string.\"\r\n",
    "string_example_second = 'This is also a string.'\r\n",
    "print(string_example)\r\n",
    "print(string_example_second)"
   ],
   "outputs": [
    {
     "output_type": "stream",
     "name": "stdout",
     "text": [
      "This is a string.\n",
      "This is also a string.\n"
     ]
    }
   ],
   "metadata": {}
  },
  {
   "cell_type": "markdown",
   "source": [
    "### Changing Case in a String with Methods\r\n",
    "One of the simplest tasks you can do with strings is change the case of the\r\n",
    "words in a string. Look at the following code, and try to determine what’s\r\n",
    "happening:\r\n",
    "\r\n",
    "In this example, the variable name refers to the lowercase string \"ada\r\n",
    "lovelace\". The method `title()` appears after the variable in the print() call.\r\n",
    "`A method is an action that Python can perform on a piece of data.` The dot\r\n",
    "(`.`) after name in name.title() tells Python to make the title() method act on\r\n",
    "the variable name. `Every method is followed by a set of parentheses, because\r\n",
    "methods often need additional information to do their work.` That information\r\n",
    "is provided inside the parentheses. The title() function doesn’t need\r\n",
    "any additional information, so its parentheses are empty."
   ],
   "metadata": {}
  },
  {
   "cell_type": "code",
   "execution_count": 8,
   "source": [
    "name = \"ada lovelace\"\r\n",
    "print(name.title())"
   ],
   "outputs": [
    {
     "output_type": "stream",
     "name": "stdout",
     "text": [
      "Ada Lovelace\n"
     ]
    }
   ],
   "metadata": {}
  },
  {
   "cell_type": "markdown",
   "source": [
    "Additional examples:\r\n",
    "\r\n",
    "- `The lower() method is particularly useful for storing data.`"
   ],
   "metadata": {}
  },
  {
   "cell_type": "code",
   "execution_count": 9,
   "source": [
    "print(name.upper())\r\n",
    "print(name.lower())\r\n",
    "print(name.capitalize())"
   ],
   "outputs": [
    {
     "output_type": "stream",
     "name": "stdout",
     "text": [
      "ADA LOVELACE\n",
      "ada lovelace\n",
      "Ada lovelace\n"
     ]
    }
   ],
   "metadata": {}
  },
  {
   "cell_type": "markdown",
   "source": [
    "### Using Variables in Strings\r\n",
    "\r\n",
    "#### f-strings\r\n",
    "In some situations, you’ll want to use a variable’s value inside a string. For\r\n",
    "example, you might want two variables to represent a first name and a last\r\n",
    "name respectively, and then want to combine those values to display someone’s\r\n",
    "full name:\r\n",
    "\r\n",
    "**`To insert a variable’s value into a string, place the letter f immediately\r\n",
    "before the opening quotation mark.`** Put braces around the name or names\r\n",
    "of any variable you want to use inside the string. Python will replace each\r\n",
    "variable with its value when the string is displayed.\r\n",
    "These strings are called **`f-strings`**.\r\n",
    "**The f is for *format***, because Python\r\n",
    "formats the string by replacing the name of any variable in braces with its\r\n",
    "value. The output from the previous code is:"
   ],
   "metadata": {}
  },
  {
   "cell_type": "code",
   "execution_count": 10,
   "source": [
    "first_name = \"ada\"\r\n",
    "last_name = \"lovelace\"\r\n",
    "full_name = f\"{first_name} {last_name}\"\r\n",
    "print(full_name)"
   ],
   "outputs": [
    {
     "output_type": "stream",
     "name": "stdout",
     "text": [
      "ada lovelace\n"
     ]
    }
   ],
   "metadata": {}
  },
  {
   "cell_type": "markdown",
   "source": [
    "You can do a lot with f-strings.\r\n",
    "\r\n",
    "For example, you can use f-strings to compose complete messages using the information associated with a variable, as shown here:"
   ],
   "metadata": {}
  },
  {
   "cell_type": "code",
   "execution_count": 15,
   "source": [
    "first_name = \"ada\"\r\n",
    "last_name = \"lovelace\"\r\n",
    "full_name = f\"{first_name} {last_name}\"\r\n",
    "print(f\"Hello, {full_name.title()}!\")\r\n",
    "print(f\"Hello, {full_name.capitalize()}!\")\r\n",
    "print(f\"Hello, {full_name.upper()}!\")\r\n",
    "print(f\"Hello, {full_name.lower()}!\")"
   ],
   "outputs": [
    {
     "output_type": "stream",
     "name": "stdout",
     "text": [
      "Hello, Ada Lovelace!\n",
      "Hello, Ada lovelace!\n",
      "Hello, ADA LOVELACE!\n",
      "Hello, ada lovelace!\n"
     ]
    }
   ],
   "metadata": {}
  },
  {
   "cell_type": "markdown",
   "source": [
    "You can also use f-strings\r\n",
    "to compose a message, and then assign the\r\n",
    "entire message to a variable:"
   ],
   "metadata": {}
  },
  {
   "cell_type": "code",
   "execution_count": 14,
   "source": [
    "first_name = \"ada\"\r\n",
    "last_name = \"lovelace\"\r\n",
    "full_name = f\"{first_name} {last_name}\"\r\n",
    "message = f\"Hello, {full_name.title()}!\"\r\n",
    "print(message)"
   ],
   "outputs": [
    {
     "output_type": "stream",
     "name": "stdout",
     "text": [
      "Hello, Ada Lovelace!\n"
     ]
    }
   ],
   "metadata": {}
  },
  {
   "cell_type": "markdown",
   "source": [
    "F-strings\r\n",
    "were first introduced in Python 3.6. If you’re using Python 3.5 or earlier,\r\n",
    "you’ll need to use the format() method rather than this f syntax. To use format(), list\r\n",
    "the variables you want to use in the string inside the parentheses following format.\r\n",
    "Each variable is referred to by a set of braces; the braces will be filled by the values\r\n",
    "listed in parentheses in the order provided:\r\n",
    "\r\n",
    "`full_name = \"{} {}\".format(first_name, last_name)`\r\n"
   ],
   "metadata": {}
  },
  {
   "cell_type": "markdown",
   "source": [
    "### Adding Whitespace to Strings with Tabs or Newlines\r\n",
    "\r\n",
    "In programming, whitespace refers to any nonprinting character, such as spaces, tabs, and end-of-line symbols. You can use whitespace to organize\r\n",
    "your output so it’s easier for users to read.\r\n",
    "\r\n",
    "To add a **`tab`** to your text, use the character combination **`\\t`** as shown here:"
   ],
   "metadata": {}
  },
  {
   "cell_type": "code",
   "execution_count": 16,
   "source": [
    "print(\"Python\")\r\n",
    "\r\n",
    "print(\"\\tPython\")"
   ],
   "outputs": [
    {
     "output_type": "stream",
     "name": "stdout",
     "text": [
      "Python\n",
      "\tPython\n"
     ]
    }
   ],
   "metadata": {}
  },
  {
   "cell_type": "markdown",
   "source": [
    "To add a **`newline`** in a string, use the character combination **`\\n`**:"
   ],
   "metadata": {}
  },
  {
   "cell_type": "code",
   "execution_count": 19,
   "source": [
    "print(\"Python\\n\")\r\n",
    "\r\n",
    "print(\"Languages:\\nPython\\nC\\nJavaScript\")"
   ],
   "outputs": [
    {
     "output_type": "stream",
     "name": "stdout",
     "text": [
      "Python\n",
      "\n",
      "Languages:\n",
      "Python\n",
      "C\n",
      "JavaScript\n"
     ]
    }
   ],
   "metadata": {}
  },
  {
   "cell_type": "markdown",
   "source": [
    "You can also **`combine tabs and newlines in a single string`**. The string\r\n",
    "\"**`\\n\\t`**\" tells Python to move to a new line, and start the next line with a tab.\r\n",
    "The following example shows how you can use a one-line\r\n",
    "string to generate\r\n",
    "four lines of output:"
   ],
   "metadata": {}
  },
  {
   "cell_type": "code",
   "execution_count": 20,
   "source": [
    "print(\"Languages:\\n\\tPython\\n\\tC\\n\\tJavaScript\")"
   ],
   "outputs": [
    {
     "output_type": "stream",
     "name": "stdout",
     "text": [
      "Languages:\n",
      "\tPython\n",
      "\tC\n",
      "\tJavaScript\n"
     ]
    }
   ],
   "metadata": {}
  },
  {
   "cell_type": "markdown",
   "source": [
    "### Stripping Whitespace\r\n",
    "\r\n",
    "Extra whitespace can be confusing in your programs. To programmers\r\n",
    "'python' and 'python ' look pretty much the same. But to a program, they\r\n",
    "are two different strings. Python detects the extra space in 'python ' and\r\n",
    "considers it significant unless you tell it otherwise."
   ],
   "metadata": {}
  },
  {
   "cell_type": "code",
   "execution_count": null,
   "source": [],
   "outputs": [],
   "metadata": {}
  }
 ],
 "metadata": {
  "orig_nbformat": 4,
  "language_info": {
   "name": "python",
   "version": "3.9.7",
   "mimetype": "text/x-python",
   "codemirror_mode": {
    "name": "ipython",
    "version": 3
   },
   "pygments_lexer": "ipython3",
   "nbconvert_exporter": "python",
   "file_extension": ".py"
  },
  "kernelspec": {
   "name": "python3",
   "display_name": "Python 3.9.7 64-bit"
  },
  "interpreter": {
   "hash": "fbc05aefc5138339e86326c0933e0017460d8d382a1640adfde37b07fe7115b6"
  }
 },
 "nbformat": 4,
 "nbformat_minor": 2
}