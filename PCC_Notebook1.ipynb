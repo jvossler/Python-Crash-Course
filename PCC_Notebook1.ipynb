{
 "cells": [
  {
   "cell_type": "code",
   "execution_count": 1,
   "source": [
    "print(\"Hello World!\")"
   ],
   "outputs": [
    {
     "output_type": "stream",
     "name": "stdout",
     "text": [
      "Hello World!\n"
     ]
    }
   ],
   "metadata": {}
  },
  {
   "cell_type": "code",
   "execution_count": 2,
   "source": [
    "# Variables can be viewed as tags or labels for certain actions or characters\r\n",
    "message = \"Hello Python World!\"\r\n",
    "print(message)"
   ],
   "outputs": [
    {
     "output_type": "stream",
     "name": "stdout",
     "text": [
      "Hello Python World!\n"
     ]
    }
   ],
   "metadata": {}
  },
  {
   "cell_type": "markdown",
   "source": [
    "You can change the value of a variable in your program at any time, and Python will always keep track of its current value.\r\n",
    "- It’s much better to think of variables as labels that you can assign to values. You can also say that a variable references a certain value."
   ],
   "metadata": {}
  },
  {
   "cell_type": "code",
   "execution_count": 3,
   "source": [
    "# Reassigning variable names\r\n",
    "message = \"Hello Python World Crash Course!\"\r\n",
    "print(message)"
   ],
   "outputs": [
    {
     "output_type": "stream",
     "name": "stdout",
     "text": [
      "Hello Python World Crash Course!\n"
     ]
    }
   ],
   "metadata": {}
  },
  {
   "cell_type": "markdown",
   "source": [
    "- Variable names can contain only letters, numbers, and underscores. They can start with a letter or an underscore, but not with a number. For instance, you can call a variable message_1 but not 1_message.\r\n",
    "- Spaces are not allowed in variable names, but underscores can be used to separate words in variable names. For example, greeting_message works, but greeting message will cause errors.\r\n",
    "- Avoid using Python keywords and function names as variable names; that is, do not use words that Python has reserved for a particular programmatic purpose, such as the word print. (See “Python Keywords and Built-in Functions” on page 471.)\r\n",
    "- Variable names should be short but descriptive. For example, name is better than n, student_name is better than s_n, and name_length is better than length_of_persons_name.\r\n",
    "- Be careful when using the lowercase letter l and the uppercase letter O because they could be confused with the numbers 1 and 0."
   ],
   "metadata": {}
  },
  {
   "cell_type": "code",
   "execution_count": 4,
   "source": [
    "simple_message = \"This is a simple message\"\r\n",
    "print(simple_message)"
   ],
   "outputs": [
    {
     "output_type": "stream",
     "name": "stdout",
     "text": [
      "This is a simple message\n"
     ]
    }
   ],
   "metadata": {}
  },
  {
   "cell_type": "code",
   "execution_count": 5,
   "source": [
    "simple_messages = \"This is a simple messages variable\"\r\n",
    "print(simple_messages)"
   ],
   "outputs": [
    {
     "output_type": "stream",
     "name": "stdout",
     "text": [
      "This is a simple messages variable\n"
     ]
    }
   ],
   "metadata": {}
  },
  {
   "cell_type": "code",
   "execution_count": 6,
   "source": [
    "string_example = \"This is a string.\"\r\n",
    "string_example_second = 'This is also a string.'\r\n",
    "print(string_example)\r\n",
    "print(string_example_second)"
   ],
   "outputs": [
    {
     "output_type": "stream",
     "name": "stdout",
     "text": [
      "This is a string.\n",
      "This is also a string.\n"
     ]
    }
   ],
   "metadata": {}
  },
  {
   "cell_type": "markdown",
   "source": [
    "### Changing Case in a String with Methods\r\n",
    "One of the simplest tasks you can do with strings is change the case of the\r\n",
    "words in a string. Look at the following code, and try to determine what’s\r\n",
    "happening:\r\n",
    "\r\n",
    "In this example, the variable name refers to the lowercase string \"ada\r\n",
    "lovelace\". The method `title()` appears after the variable in the print() call.\r\n",
    "`A method is an action that Python can perform on a piece of data.` The dot\r\n",
    "(`.`) after name in name.title() tells Python to make the title() method act on\r\n",
    "the variable name. `Every method is followed by a set of parentheses, because\r\n",
    "methods often need additional information to do their work.` That information\r\n",
    "is provided inside the parentheses. The title() function doesn’t need\r\n",
    "any additional information, so its parentheses are empty."
   ],
   "metadata": {}
  },
  {
   "cell_type": "code",
   "execution_count": 7,
   "source": [
    "name = \"ada lovelace\"\r\n",
    "print(name.title())"
   ],
   "outputs": [
    {
     "output_type": "stream",
     "name": "stdout",
     "text": [
      "Ada Lovelace\n"
     ]
    }
   ],
   "metadata": {}
  },
  {
   "cell_type": "markdown",
   "source": [
    "Additional examples:\r\n",
    "\r\n",
    "- `The lower() method is particularly useful for storing data.`"
   ],
   "metadata": {}
  },
  {
   "cell_type": "code",
   "execution_count": 8,
   "source": [
    "print(name.upper())\r\n",
    "print(name.lower())\r\n",
    "print(name.capitalize())"
   ],
   "outputs": [
    {
     "output_type": "stream",
     "name": "stdout",
     "text": [
      "ADA LOVELACE\n",
      "ada lovelace\n",
      "Ada lovelace\n"
     ]
    }
   ],
   "metadata": {}
  },
  {
   "cell_type": "markdown",
   "source": [
    "### Using Variables in Strings\r\n",
    "\r\n",
    "#### f-strings\r\n",
    "In some situations, you’ll want to use a variable’s value inside a string. For\r\n",
    "example, you might want two variables to represent a first name and a last\r\n",
    "name respectively, and then want to combine those values to display someone’s\r\n",
    "full name:\r\n",
    "\r\n",
    "**`To insert a variable’s value into a string, place the letter f immediately\r\n",
    "before the opening quotation mark.`** Put braces around the name or names\r\n",
    "of any variable you want to use inside the string. Python will replace each\r\n",
    "variable with its value when the string is displayed.\r\n",
    "These strings are called **`f-strings`**.\r\n",
    "**The f is for *format***, because Python\r\n",
    "formats the string by replacing the name of any variable in braces with its\r\n",
    "value. The output from the previous code is:"
   ],
   "metadata": {}
  },
  {
   "cell_type": "code",
   "execution_count": 9,
   "source": [
    "first_name = \"ada\"\r\n",
    "last_name = \"lovelace\"\r\n",
    "full_name = f\"{first_name} {last_name}\"\r\n",
    "print(full_name)"
   ],
   "outputs": [
    {
     "output_type": "stream",
     "name": "stdout",
     "text": [
      "ada lovelace\n"
     ]
    }
   ],
   "metadata": {}
  },
  {
   "cell_type": "markdown",
   "source": [
    "You can do a lot with f-strings.\r\n",
    "\r\n",
    "For example, you can use f-strings to compose complete messages using the information associated with a variable, as shown here:"
   ],
   "metadata": {}
  },
  {
   "cell_type": "code",
   "execution_count": 10,
   "source": [
    "first_name = \"ada\"\r\n",
    "last_name = \"lovelace\"\r\n",
    "full_name = f\"{first_name} {last_name}\"\r\n",
    "print(f\"Hello, {full_name.title()}!\")\r\n",
    "print(f\"Hello, {full_name.capitalize()}!\")\r\n",
    "print(f\"Hello, {full_name.upper()}!\")\r\n",
    "print(f\"Hello, {full_name.lower()}!\")"
   ],
   "outputs": [
    {
     "output_type": "stream",
     "name": "stdout",
     "text": [
      "Hello, Ada Lovelace!\n",
      "Hello, Ada lovelace!\n",
      "Hello, ADA LOVELACE!\n",
      "Hello, ada lovelace!\n"
     ]
    }
   ],
   "metadata": {}
  },
  {
   "cell_type": "markdown",
   "source": [
    "You can also use f-strings\r\n",
    "to compose a message, and then assign the\r\n",
    "entire message to a variable:"
   ],
   "metadata": {}
  },
  {
   "cell_type": "code",
   "execution_count": 11,
   "source": [
    "first_name = \"ada\"\r\n",
    "last_name = \"lovelace\"\r\n",
    "full_name = f\"{first_name} {last_name}\"\r\n",
    "message = f\"Hello, {full_name.title()}!\"\r\n",
    "print(message)"
   ],
   "outputs": [
    {
     "output_type": "stream",
     "name": "stdout",
     "text": [
      "Hello, Ada Lovelace!\n"
     ]
    }
   ],
   "metadata": {}
  },
  {
   "cell_type": "markdown",
   "source": [
    "F-strings\r\n",
    "were first introduced in Python 3.6. If you’re using Python 3.5 or earlier,\r\n",
    "you’ll need to use the format() method rather than this f syntax. To use format(), list\r\n",
    "the variables you want to use in the string inside the parentheses following format.\r\n",
    "Each variable is referred to by a set of braces; the braces will be filled by the values\r\n",
    "listed in parentheses in the order provided:\r\n",
    "\r\n",
    "`full_name = \"{} {}\".format(first_name, last_name)`\r\n"
   ],
   "metadata": {}
  },
  {
   "cell_type": "markdown",
   "source": [
    "### Adding Whitespace to Strings with Tabs or Newlines\r\n",
    "\r\n",
    "In programming, whitespace refers to any nonprinting character, such as spaces, tabs, and end-of-line symbols. You can use whitespace to organize\r\n",
    "your output so it’s easier for users to read.\r\n",
    "\r\n",
    "To add a **`tab`** to your text, use the character combination **`\\t`** as shown here:"
   ],
   "metadata": {}
  },
  {
   "cell_type": "code",
   "execution_count": 12,
   "source": [
    "print(\"Python\")\r\n",
    "\r\n",
    "print(\"\\tPython\")"
   ],
   "outputs": [
    {
     "output_type": "stream",
     "name": "stdout",
     "text": [
      "Python\n",
      "\tPython\n"
     ]
    }
   ],
   "metadata": {}
  },
  {
   "cell_type": "markdown",
   "source": [
    "To add a **`newline`** in a string, use the character combination **`\\n`**:"
   ],
   "metadata": {}
  },
  {
   "cell_type": "code",
   "execution_count": 13,
   "source": [
    "print(\"Python\\n\")\r\n",
    "\r\n",
    "print(\"Languages:\\nPython\\nC\\nJavaScript\")"
   ],
   "outputs": [
    {
     "output_type": "stream",
     "name": "stdout",
     "text": [
      "Python\n",
      "\n",
      "Languages:\n",
      "Python\n",
      "C\n",
      "JavaScript\n"
     ]
    }
   ],
   "metadata": {}
  },
  {
   "cell_type": "markdown",
   "source": [
    "You can also **`combine tabs and newlines in a single string`**. The string\r\n",
    "\"**`\\n\\t`**\" tells Python to move to a new line, and start the next line with a tab.\r\n",
    "The following example shows how you can use a one-line\r\n",
    "string to generate\r\n",
    "four lines of output:"
   ],
   "metadata": {}
  },
  {
   "cell_type": "code",
   "execution_count": 14,
   "source": [
    "print(\"Languages:\\n\\tPython\\n\\tC\\n\\tJavaScript\")"
   ],
   "outputs": [
    {
     "output_type": "stream",
     "name": "stdout",
     "text": [
      "Languages:\n",
      "\tPython\n",
      "\tC\n",
      "\tJavaScript\n"
     ]
    }
   ],
   "metadata": {}
  },
  {
   "cell_type": "markdown",
   "source": [
    "### Stripping Whitespace\r\n",
    "\r\n",
    "Extra whitespace can be confusing in your programs. To programmers\r\n",
    "'python' and 'python ' look pretty much the same. But to a program, they\r\n",
    "are two different strings. Python detects the extra space in 'python ' and\r\n",
    "considers it significant unless you tell it otherwise.\r\n",
    "\r\n",
    "\r\n",
    "Python can look for extra whitespace on the right and left sides of a\r\n",
    "string. To ensure that no whitespace exists at the *`right end of a string`*, use\r\n",
    "the **`rstrip()`** method.\r\n",
    "\r\n",
    "You can also strip whitespace from the *`left side of a string`* using the\r\n",
    "**`lstrip()`** method, or from *`both sides at once`* using **`strip()`**:"
   ],
   "metadata": {}
  },
  {
   "cell_type": "code",
   "execution_count": 15,
   "source": [
    "favorite_language = \"Python \"\r\n",
    "print(favorite_language)\r\n",
    "print(favorite_language.rstrip())\r\n",
    "favorite_language"
   ],
   "outputs": [
    {
     "output_type": "stream",
     "name": "stdout",
     "text": [
      "Python \n",
      "Python\n"
     ]
    },
    {
     "output_type": "execute_result",
     "data": {
      "text/plain": [
       "'Python '"
      ]
     },
     "metadata": {},
     "execution_count": 15
    }
   ],
   "metadata": {}
  },
  {
   "cell_type": "markdown",
   "source": [
    "To remove the whitespace from the string permanently, you have to\r\n",
    "associate the stripped value with the variable name:"
   ],
   "metadata": {}
  },
  {
   "cell_type": "code",
   "execution_count": 16,
   "source": [
    "favorite_language = 'Python '\r\n",
    "favorite_language = favorite_language.rstrip()\r\n",
    "favorite_language"
   ],
   "outputs": [
    {
     "output_type": "execute_result",
     "data": {
      "text/plain": [
       "'Python'"
      ]
     },
     "metadata": {},
     "execution_count": 16
    }
   ],
   "metadata": {}
  },
  {
   "cell_type": "markdown",
   "source": [
    "### Avoiding Syntax Errors with Strings\r\n",
    "\r\n",
    "A syntax error occurs when Python doesn’t recognize a section of your program\r\n",
    "as valid Python code."
   ],
   "metadata": {}
  },
  {
   "cell_type": "markdown",
   "source": [
    "Here’s how to use single and double quotes correctly. Save this program\r\n",
    "as apostrophe.py and then run it:\r\n",
    "\r\n",
    "The apostrophe appears inside a set of double quotes, so the Python\r\n",
    "interpreter has no trouble reading the string correctly:"
   ],
   "metadata": {}
  },
  {
   "cell_type": "code",
   "execution_count": 17,
   "source": [
    "message = \"One of Python's strengths is its diverse community.\"\r\n",
    "print(message)"
   ],
   "outputs": [
    {
     "output_type": "stream",
     "name": "stdout",
     "text": [
      "One of Python's strengths is its diverse community.\n"
     ]
    }
   ],
   "metadata": {}
  },
  {
   "cell_type": "markdown",
   "source": [
    "However, if you use single quotes, Python can’t identify where the string\r\n",
    "should end:"
   ],
   "metadata": {}
  },
  {
   "cell_type": "code",
   "execution_count": 18,
   "source": [
    "# message = 'One of Python's strengths is its diverse community.'\r\n",
    "# print(message)"
   ],
   "outputs": [],
   "metadata": {}
  },
  {
   "cell_type": "markdown",
   "source": [],
   "metadata": {}
  },
  {
   "cell_type": "markdown",
   "source": [
    "## Numbers"
   ],
   "metadata": {}
  },
  {
   "cell_type": "markdown",
   "source": [
    "### Integers and Floats"
   ],
   "metadata": {}
  },
  {
   "cell_type": "markdown",
   "source": [
    "### Integers"
   ],
   "metadata": {}
  },
  {
   "cell_type": "code",
   "execution_count": 19,
   "source": [
    "2 + 3"
   ],
   "outputs": [
    {
     "output_type": "execute_result",
     "data": {
      "text/plain": [
       "5"
      ]
     },
     "metadata": {},
     "execution_count": 19
    }
   ],
   "metadata": {}
  },
  {
   "cell_type": "code",
   "execution_count": 20,
   "source": [
    "3 - 2"
   ],
   "outputs": [
    {
     "output_type": "execute_result",
     "data": {
      "text/plain": [
       "1"
      ]
     },
     "metadata": {},
     "execution_count": 20
    }
   ],
   "metadata": {}
  },
  {
   "cell_type": "code",
   "execution_count": 21,
   "source": [
    "2 * 3"
   ],
   "outputs": [
    {
     "output_type": "execute_result",
     "data": {
      "text/plain": [
       "6"
      ]
     },
     "metadata": {},
     "execution_count": 21
    }
   ],
   "metadata": {}
  },
  {
   "cell_type": "code",
   "execution_count": 22,
   "source": [
    "3 / 2"
   ],
   "outputs": [
    {
     "output_type": "execute_result",
     "data": {
      "text/plain": [
       "1.5"
      ]
     },
     "metadata": {},
     "execution_count": 22
    }
   ],
   "metadata": {}
  },
  {
   "cell_type": "markdown",
   "source": [
    "#### Python uses two multiplication symbols to represent exponents"
   ],
   "metadata": {}
  },
  {
   "cell_type": "code",
   "execution_count": 23,
   "source": [
    "3 **2 "
   ],
   "outputs": [
    {
     "output_type": "execute_result",
     "data": {
      "text/plain": [
       "9"
      ]
     },
     "metadata": {},
     "execution_count": 23
    }
   ],
   "metadata": {}
  },
  {
   "cell_type": "code",
   "execution_count": 24,
   "source": [
    "3 **3 "
   ],
   "outputs": [
    {
     "output_type": "execute_result",
     "data": {
      "text/plain": [
       "27"
      ]
     },
     "metadata": {},
     "execution_count": 24
    }
   ],
   "metadata": {}
  },
  {
   "cell_type": "code",
   "execution_count": 25,
   "source": [
    "10 ** 6"
   ],
   "outputs": [
    {
     "output_type": "execute_result",
     "data": {
      "text/plain": [
       "1000000"
      ]
     },
     "metadata": {},
     "execution_count": 25
    }
   ],
   "metadata": {}
  },
  {
   "cell_type": "markdown",
   "source": [
    "#### Order of Operations\r\n",
    "\r\n",
    "Python supports the order of operations too, so you can use multiple\r\n",
    "operations in one expression. You can also use parentheses to modify the\r\n",
    "order of operations so Python can evaluate your expression in the order\r\n",
    "you specify."
   ],
   "metadata": {}
  },
  {
   "cell_type": "code",
   "execution_count": 26,
   "source": [
    "2 + 3 * 4"
   ],
   "outputs": [
    {
     "output_type": "execute_result",
     "data": {
      "text/plain": [
       "14"
      ]
     },
     "metadata": {},
     "execution_count": 26
    }
   ],
   "metadata": {}
  },
  {
   "cell_type": "code",
   "execution_count": 27,
   "source": [
    "(2 + 3) * 4"
   ],
   "outputs": [
    {
     "output_type": "execute_result",
     "data": {
      "text/plain": [
       "20"
      ]
     },
     "metadata": {},
     "execution_count": 27
    }
   ],
   "metadata": {}
  },
  {
   "cell_type": "markdown",
   "source": [
    "### Floats\r\n",
    "\r\n",
    "Python calls any number with a decimal point a float."
   ],
   "metadata": {}
  },
  {
   "cell_type": "code",
   "execution_count": 28,
   "source": [
    "0.1 + 0.1"
   ],
   "outputs": [
    {
     "output_type": "execute_result",
     "data": {
      "text/plain": [
       "0.2"
      ]
     },
     "metadata": {},
     "execution_count": 28
    }
   ],
   "metadata": {}
  },
  {
   "cell_type": "code",
   "execution_count": 29,
   "source": [
    "0.2 + 0.2"
   ],
   "outputs": [
    {
     "output_type": "execute_result",
     "data": {
      "text/plain": [
       "0.4"
      ]
     },
     "metadata": {},
     "execution_count": 29
    }
   ],
   "metadata": {}
  },
  {
   "cell_type": "code",
   "execution_count": 30,
   "source": [
    "2 * 0.1"
   ],
   "outputs": [
    {
     "output_type": "execute_result",
     "data": {
      "text/plain": [
       "0.2"
      ]
     },
     "metadata": {},
     "execution_count": 30
    }
   ],
   "metadata": {}
  },
  {
   "cell_type": "code",
   "execution_count": 31,
   "source": [
    "2 * 0.2"
   ],
   "outputs": [
    {
     "output_type": "execute_result",
     "data": {
      "text/plain": [
       "0.4"
      ]
     },
     "metadata": {},
     "execution_count": 31
    }
   ],
   "metadata": {}
  },
  {
   "cell_type": "markdown",
   "source": [
    "Be aware that you can sometimes get an arbitrary number of decimal\r\n",
    "places in your answer\r\n",
    "\r\n",
    "This happens in all languages and is of little concern. Python tries to\r\n",
    "find a way to represent the result as precisely as possible, which is sometimes\r\n",
    "difficult given how computers have to represent numbers internally. Just\r\n",
    "ignore the extra decimal places for now; you’ll learn ways to deal with the\r\n",
    "extra places when you need to in the projects in Part II."
   ],
   "metadata": {}
  },
  {
   "cell_type": "code",
   "execution_count": 32,
   "source": [
    "0.2 + 0.1"
   ],
   "outputs": [
    {
     "output_type": "execute_result",
     "data": {
      "text/plain": [
       "0.30000000000000004"
      ]
     },
     "metadata": {},
     "execution_count": 32
    }
   ],
   "metadata": {}
  },
  {
   "cell_type": "code",
   "execution_count": 33,
   "source": [
    "3 * 0.1"
   ],
   "outputs": [
    {
     "output_type": "execute_result",
     "data": {
      "text/plain": [
       "0.30000000000000004"
      ]
     },
     "metadata": {},
     "execution_count": 33
    }
   ],
   "metadata": {}
  },
  {
   "cell_type": "markdown",
   "source": [
    "When you divide any two numbers, even if they are integers that result in a\r\n",
    "whole number, you’ll always get a float\r\n",
    "\r\n",
    "If you mix an integer and a float in any other operation, you’ll get a\r\n",
    "float as well\r\n",
    "\r\n",
    "Python defaults to a float in any operation that uses a float, even if the\r\n",
    "output is a whole number"
   ],
   "metadata": {}
  },
  {
   "cell_type": "code",
   "execution_count": 34,
   "source": [
    "4 / 2"
   ],
   "outputs": [
    {
     "output_type": "execute_result",
     "data": {
      "text/plain": [
       "2.0"
      ]
     },
     "metadata": {},
     "execution_count": 34
    }
   ],
   "metadata": {}
  },
  {
   "cell_type": "code",
   "execution_count": 35,
   "source": [
    "1 + 2.0"
   ],
   "outputs": [
    {
     "output_type": "execute_result",
     "data": {
      "text/plain": [
       "3.0"
      ]
     },
     "metadata": {},
     "execution_count": 35
    }
   ],
   "metadata": {}
  },
  {
   "cell_type": "code",
   "execution_count": 36,
   "source": [
    "2 * 3.0"
   ],
   "outputs": [
    {
     "output_type": "execute_result",
     "data": {
      "text/plain": [
       "6.0"
      ]
     },
     "metadata": {},
     "execution_count": 36
    }
   ],
   "metadata": {}
  },
  {
   "cell_type": "code",
   "execution_count": 37,
   "source": [
    "3.0 ** 2"
   ],
   "outputs": [
    {
     "output_type": "execute_result",
     "data": {
      "text/plain": [
       "9.0"
      ]
     },
     "metadata": {},
     "execution_count": 37
    }
   ],
   "metadata": {}
  },
  {
   "cell_type": "markdown",
   "source": [
    "### Underscores in Numbers"
   ],
   "metadata": {}
  },
  {
   "cell_type": "markdown",
   "source": [
    "When you’re writing long numbers, you can group digits using underscores\r\n",
    "to make large numbers more readable\r\n",
    "\r\n",
    "When you print a number that was defined using underscores, Python\r\n",
    "prints only the digits\r\n",
    "\r\n",
    "Python ignores the underscores when storing these kinds of values.\r\n",
    "Even\r\n",
    "if you don’t group the digits in threes, the value will still be unaffected.\r\n",
    "To Python, 1000 is the same as 1_000, which is the same as 10_00. This feature\r\n",
    "works for integers and floats, but it’s only available in Python 3.6\r\n",
    "and later."
   ],
   "metadata": {}
  },
  {
   "cell_type": "code",
   "execution_count": 38,
   "source": [
    "universe_age = 14_000_000_000"
   ],
   "outputs": [],
   "metadata": {}
  },
  {
   "cell_type": "markdown",
   "source": [
    "### Multiple Assignment"
   ],
   "metadata": {}
  },
  {
   "cell_type": "markdown",
   "source": [
    "You can assign values to more than one variable using just a single line.\r\n",
    "This can help shorten your programs and make them easier to read; you’ll\r\n",
    "use this technique most often when initializing a set of numbers.\r\n",
    "\r\n",
    "You need to `separate the variable names with commas, and do the\r\n",
    "same with the values`, and Python will assign each value to its respectively\r\n",
    "positioned variable. As long as the number of values matches the number of\r\n",
    "variables, Python will match them up correctly.\r\n",
    "\r\n",
    "For example, here’s how you can initialize the variables x, y, and z\r\n",
    "to zero:"
   ],
   "metadata": {}
  },
  {
   "cell_type": "code",
   "execution_count": 39,
   "source": [
    "x, y, z = 0, 0, 0"
   ],
   "outputs": [],
   "metadata": {}
  },
  {
   "cell_type": "code",
   "execution_count": 40,
   "source": [
    "x"
   ],
   "outputs": [
    {
     "output_type": "execute_result",
     "data": {
      "text/plain": [
       "0"
      ]
     },
     "metadata": {},
     "execution_count": 40
    }
   ],
   "metadata": {}
  },
  {
   "cell_type": "markdown",
   "source": [
    "### Constants"
   ],
   "metadata": {}
  },
  {
   "cell_type": "markdown",
   "source": [
    "A constant is like a variable whose value stays the same throughout the life\r\n",
    "of a program. Python doesn’t have built-in\r\n",
    "constant types, but Python programmers\r\n",
    "use **`all capital letters`** to indicate a variable should be treated as a\r\n",
    "constant and never be changed\r\n",
    "\r\n",
    "- When you want to treat a variable as a constant in your code, make the\r\n",
    "name of the variable all capital letters."
   ],
   "metadata": {}
  },
  {
   "cell_type": "code",
   "execution_count": 41,
   "source": [
    "MAX_CONNECTIONS = 5000\r\n",
    "MAX_CONNECTIONS"
   ],
   "outputs": [
    {
     "output_type": "execute_result",
     "data": {
      "text/plain": [
       "5000"
      ]
     },
     "metadata": {},
     "execution_count": 41
    }
   ],
   "metadata": {}
  },
  {
   "cell_type": "markdown",
   "source": [
    "### Comments"
   ],
   "metadata": {}
  },
  {
   "cell_type": "markdown",
   "source": [
    "As your programs become longer and more complicated, you should `add\r\n",
    "notes within your programs that describe your overall approach to the\r\n",
    "problem you’re solving`. A comment allows you to write notes in English\r\n",
    "within your programs.\r\n",
    "\r\n",
    "- Comments begin with a **`#`**\r\n",
    "- You should write meaningful comments\r\n",
    "  - When you’re determining whether to write a comment, ask yourself if\r\n",
    "you had to consider several approaches before coming up with a reasonable\r\n",
    "way to make something work; if so, write a comment about your solution.\r\n",
    "It’s much easier to delete extra comments later on than it is to go back\r\n",
    "and write comments for a sparsely commented program.\r\n",
    "\r\n",
    "The main reason to write comments is to explain what your code is supposed\r\n",
    "to do and how you are making it work. When you’re in the middle of working\r\n",
    "on a project, you understand how all of the pieces fit together. But when\r\n",
    "you return to a project after some time away, you’ll likely have forgotten\r\n",
    "some of the details. You can always study your code for a while and figure\r\n",
    "out how segments were supposed to work, but writing good comments can\r\n",
    "save you time by summarizing your overall approach in clear English."
   ],
   "metadata": {}
  },
  {
   "cell_type": "markdown",
   "source": [
    "### The Zen of Python\r\n",
    "\r\n",
    "Avoid complexity\r\n",
    "and aim for simplicity whenever possible"
   ],
   "metadata": {}
  },
  {
   "cell_type": "code",
   "execution_count": 42,
   "source": [
    "import this"
   ],
   "outputs": [
    {
     "output_type": "stream",
     "name": "stdout",
     "text": [
      "The Zen of Python, by Tim Peters\n",
      "\n",
      "Beautiful is better than ugly.\n",
      "Explicit is better than implicit.\n",
      "Simple is better than complex.\n",
      "Complex is better than complicated.\n",
      "Flat is better than nested.\n",
      "Sparse is better than dense.\n",
      "Readability counts.\n",
      "Special cases aren't special enough to break the rules.\n",
      "Although practicality beats purity.\n",
      "Errors should never pass silently.\n",
      "Unless explicitly silenced.\n",
      "In the face of ambiguity, refuse the temptation to guess.\n",
      "There should be one-- and preferably only one --obvious way to do it.\n",
      "Although that way may not be obvious at first unless you're Dutch.\n",
      "Now is better than never.\n",
      "Although never is often better than *right* now.\n",
      "If the implementation is hard to explain, it's a bad idea.\n",
      "If the implementation is easy to explain, it may be a good idea.\n",
      "Namespaces are one honking great idea -- let's do more of those!\n"
     ]
    }
   ],
   "metadata": {}
  },
  {
   "cell_type": "markdown",
   "source": [
    "# Ch. 3: Lists"
   ],
   "metadata": {}
  },
  {
   "cell_type": "markdown",
   "source": [
    "## What is a list?\r\n",
    "\r\n",
    "A list is a collection of items in a particular order. \r\n",
    "\r\n",
    "You can make a list that\r\n",
    "includes the letters of the alphabet, the digits from 0–9, or the names of\r\n",
    "all the people in your family. You can put anything you want into a list, and\r\n",
    "the items in your list don’t have to be related in any particular way. \r\n",
    "\r\n",
    "Because\r\n",
    "a list usually contains more than one element, it’s a good idea to make the\r\n",
    "name of your list plural, such as letters, digits, or names.\r\n",
    "\r\n",
    "In Python, square brackets (**`[]`**) indicate a **`list`**, and *`individual elements\r\n",
    "in the list are separated by commas`*. \r\n",
    "\r\n",
    "Here’s a simple example of a list that\r\n",
    "contains a few kinds of bicycles:"
   ],
   "metadata": {}
  },
  {
   "cell_type": "code",
   "execution_count": 43,
   "source": [
    "bicycles = ['trek', 'cannondale', 'redline', 'specialized']\r\n",
    "\r\n",
    "# If you ask Python to print a list, Python returns its \r\n",
    "# representation of the list, including the square brackets:\r\n",
    "print(bicycles)"
   ],
   "outputs": [
    {
     "output_type": "stream",
     "name": "stdout",
     "text": [
      "['trek', 'cannondale', 'redline', 'specialized']\n"
     ]
    }
   ],
   "metadata": {}
  },
  {
   "cell_type": "markdown",
   "source": [
    "### Accessing Elements in a List: Learn how to access the individual items in a list\r\n",
    "\r\n",
    "- **`Lists are ordered collections`**, so you can access any element in a list by\r\n",
    "telling Python the position, or index, of the item desired. To access an element\r\n",
    "in a list, write the name of the list followed by the index of the item\r\n",
    "enclosed in square brackets.\r\n",
    "- **Index Positions Start at 0, Not 1**\r\n",
    "\r\n",
    "For example, let’s pull out the first bicycle in the list bicycles:"
   ],
   "metadata": {}
  },
  {
   "cell_type": "code",
   "execution_count": 44,
   "source": [
    "# The syntax for this is shown below. When we ask for a single item from a\r\n",
    "# list, Python returns just that element without square brackets:\r\n",
    "\r\n",
    "print(bicycles[0])"
   ],
   "outputs": [
    {
     "output_type": "stream",
     "name": "stdout",
     "text": [
      "trek\n"
     ]
    }
   ],
   "metadata": {}
  },
  {
   "cell_type": "markdown",
   "source": [
    "You can also use the string methods from Chapter 2 on any element\r\n",
    "in this list. \r\n",
    "\r\n",
    "For example, you can format the element 'trek' more neatly by\r\n",
    "using the title() method:"
   ],
   "metadata": {}
  },
  {
   "cell_type": "code",
   "execution_count": 45,
   "source": [
    "print(bicycles[0].title())"
   ],
   "outputs": [
    {
     "output_type": "stream",
     "name": "stdout",
     "text": [
      "Trek\n"
     ]
    }
   ],
   "metadata": {}
  },
  {
   "cell_type": "markdown",
   "source": [
    "Python has a special syntax for accessing the last element in a list. \r\n",
    "\r\n",
    "By asking for the item at index **`-1`**, Python always returns the last item in the list:"
   ],
   "metadata": {}
  },
  {
   "cell_type": "code",
   "execution_count": 46,
   "source": [
    "# This syntax is quite useful,\r\n",
    "# because you’ll often want to access the last items in a list without knowing\r\n",
    "# exactly how long the list is. This convention extends to other negative index\r\n",
    "# values as well. The index -2 returns the second item from the end of the list,\r\n",
    "# the index -3 returns the third item from the end, and so forth.\r\n",
    "\r\n",
    "print(bicycles[-1])"
   ],
   "outputs": [
    {
     "output_type": "stream",
     "name": "stdout",
     "text": [
      "specialized\n"
     ]
    }
   ],
   "metadata": {}
  },
  {
   "cell_type": "markdown",
   "source": [
    "#### Print your entire list backwards"
   ],
   "metadata": {}
  },
  {
   "cell_type": "code",
   "execution_count": 47,
   "source": [
    "print(bicycles[::-1])"
   ],
   "outputs": [
    {
     "output_type": "stream",
     "name": "stdout",
     "text": [
      "['specialized', 'redline', 'cannondale', 'trek']\n"
     ]
    }
   ],
   "metadata": {}
  },
  {
   "cell_type": "markdown",
   "source": [
    "### Using Individual Values from a List\r\n",
    "\r\n",
    "You can use individual values from a list just as you would any other variable.\r\n",
    "For example, you can use f-strings to create a message based on a\r\n",
    "value from a list.\r\n",
    "\r\n",
    "Let’s try pulling the first bicycle from the list and composing a message\r\n",
    "using that value."
   ],
   "metadata": {}
  },
  {
   "cell_type": "code",
   "execution_count": 48,
   "source": [
    "bicycles"
   ],
   "outputs": [
    {
     "output_type": "execute_result",
     "data": {
      "text/plain": [
       "['trek', 'cannondale', 'redline', 'specialized']"
      ]
     },
     "metadata": {},
     "execution_count": 48
    }
   ],
   "metadata": {}
  },
  {
   "cell_type": "code",
   "execution_count": 49,
   "source": [
    "message = f'My first bicycle was a {bicycles[0].title()}.'\r\n",
    "print(message)\r\n",
    "message = f\"My first bicycle was a {bicycles[0].title()}.\"\r\n",
    "print(message)"
   ],
   "outputs": [
    {
     "output_type": "stream",
     "name": "stdout",
     "text": [
      "My first bicycle was a Trek.\n",
      "My first bicycle was a Trek.\n"
     ]
    }
   ],
   "metadata": {}
  },
  {
   "cell_type": "code",
   "execution_count": 50,
   "source": [
    "vehicle_type = [\r\n",
    "    'motorcycle',\r\n",
    "    'scooter',\r\n",
    "    'sedan',\r\n",
    "    'truck',\r\n",
    "    'other'\r\n",
    "]\r\n",
    "\r\n",
    "vehicle_model = [\r\n",
    "    'honda',\r\n",
    "    'hyundai',\r\n",
    "    'chevrolet',\r\n",
    "    'ford'\r\n",
    "]\r\n",
    "\r\n",
    "message = f\"My first vahicle was a {vehicle_model[0]} {vehicle_type[3]}.\"\r\n",
    "print(message)\r\n"
   ],
   "outputs": [
    {
     "output_type": "stream",
     "name": "stdout",
     "text": [
      "My first vahicle was a honda truck.\n"
     ]
    }
   ],
   "metadata": {}
  },
  {
   "cell_type": "markdown",
   "source": [
    "### Changing, Adding, and Removing Elements in a List\r\n",
    "\r\n",
    "Most lists you create will be dynamic, meaning you’ll build a list and\r\n",
    "then add and remove elements from it as your program runs its course.\r\n",
    "\r\n",
    "The syntax for modifying an element is similar to the syntax for accessing\r\n",
    "an element in a list. To change an element, use the name of the list followed\r\n",
    "by the index of the element you want to change, and then provide the new\r\n",
    "value you want that item to have."
   ],
   "metadata": {}
  },
  {
   "cell_type": "markdown",
   "source": [
    "#### Modifying Elements in a List"
   ],
   "metadata": {}
  },
  {
   "cell_type": "code",
   "execution_count": 51,
   "source": [
    "motorcycles = ['honda', 'yamaha', 'suzuki']\r\n",
    "print(motorcycles)"
   ],
   "outputs": [
    {
     "output_type": "stream",
     "name": "stdout",
     "text": [
      "['honda', 'yamaha', 'suzuki']\n"
     ]
    }
   ],
   "metadata": {}
  },
  {
   "cell_type": "code",
   "execution_count": 52,
   "source": [
    "motorcycles[0]"
   ],
   "outputs": [
    {
     "output_type": "execute_result",
     "data": {
      "text/plain": [
       "'honda'"
      ]
     },
     "metadata": {},
     "execution_count": 52
    }
   ],
   "metadata": {}
  },
  {
   "cell_type": "code",
   "execution_count": 53,
   "source": [
    "motorcycles[0] = 'ducati'"
   ],
   "outputs": [],
   "metadata": {}
  },
  {
   "cell_type": "code",
   "execution_count": 54,
   "source": [
    "motorcycles[0]"
   ],
   "outputs": [
    {
     "output_type": "execute_result",
     "data": {
      "text/plain": [
       "'ducati'"
      ]
     },
     "metadata": {},
     "execution_count": 54
    }
   ],
   "metadata": {}
  },
  {
   "cell_type": "markdown",
   "source": [
    "The code at u defines the original list, with 'honda' as the first element.\r\n",
    "The code at v changes the value of the first item to 'ducati'. The output\r\n",
    "shows that the first item has indeed been changed, and the rest of the list\r\n",
    "stays the same.\r\n",
    "\r\n",
    "You can change the value of any item in a list, not just the first item."
   ],
   "metadata": {}
  },
  {
   "cell_type": "markdown",
   "source": [
    "#### Adding Elements to a List\r\n",
    "Python provides several ways to add new data to existing lists."
   ],
   "metadata": {}
  },
  {
   "cell_type": "markdown",
   "source": [
    "#### Appending Elements to the End of a List"
   ],
   "metadata": {}
  },
  {
   "cell_type": "code",
   "execution_count": 55,
   "source": [
    "motorcycles = ['honda', 'yamaha', 'suzuki']\r\n",
    "motorcycles"
   ],
   "outputs": [
    {
     "output_type": "execute_result",
     "data": {
      "text/plain": [
       "['honda', 'yamaha', 'suzuki']"
      ]
     },
     "metadata": {},
     "execution_count": 55
    }
   ],
   "metadata": {}
  },
  {
   "cell_type": "markdown",
   "source": [
    "The **`append()`** method adds 'ducati' to the end of the list without\r\n",
    "affecting any of the other elements in the list.\r\n",
    "\r\n",
    "The append() method makes it easy to build lists dynamically. For\r\n",
    "example, you can start with an empty list and then add items to the list\r\n",
    "using a series of append() calls."
   ],
   "metadata": {}
  },
  {
   "cell_type": "code",
   "execution_count": 56,
   "source": [
    "motorcycles.append('ducati')\r\n",
    "motorcycles"
   ],
   "outputs": [
    {
     "output_type": "execute_result",
     "data": {
      "text/plain": [
       "['honda', 'yamaha', 'suzuki', 'ducati']"
      ]
     },
     "metadata": {},
     "execution_count": 56
    }
   ],
   "metadata": {}
  },
  {
   "cell_type": "markdown",
   "source": [
    "Building lists this way is very common, because you often won’t know the data your users want to store in a program until after the program is running. To put your users in control, **`start by defining an empty list that will hold the users’ values`**. Then append each new value provided to the list you just created."
   ],
   "metadata": {}
  },
  {
   "cell_type": "code",
   "execution_count": 57,
   "source": [
    "motorcycles = []\r\n",
    "\r\n",
    "motorcycles.append('honda')\r\n",
    "motorcycles.append('yamaha')\r\n",
    "motorcycles.append('suzuki')\r\n",
    "\r\n",
    "print(motorcycles)"
   ],
   "outputs": [
    {
     "output_type": "stream",
     "name": "stdout",
     "text": [
      "['honda', 'yamaha', 'suzuki']\n"
     ]
    }
   ],
   "metadata": {}
  },
  {
   "cell_type": "markdown",
   "source": [
    "### Inserting Elements into a List\r\n",
    "You can add a new element at any position in your list by using the **`insert()`**\r\n",
    "method. You do this by specifying the index of the new element and the\r\n",
    "value of the new item."
   ],
   "metadata": {}
  },
  {
   "cell_type": "code",
   "execution_count": 58,
   "source": [
    "motorcycles = ['honda', 'yamaha', 'suzuki']\r\n",
    "print(motorcycles)\r\n",
    "\r\n",
    "# In this example, the below code inserts the value 'ducati' at the beginning\r\n",
    "# of the list. The insert() method opens a space at position 0 and stores\r\n",
    "# the value 'ducati' at that location. This operation shifts every other value\r\n",
    "# in the list one position to the right:\r\n",
    "motorcycles.insert(0, 'ducati')\r\n",
    "print(motorcycles)"
   ],
   "outputs": [
    {
     "output_type": "stream",
     "name": "stdout",
     "text": [
      "['honda', 'yamaha', 'suzuki']\n",
      "['ducati', 'honda', 'yamaha', 'suzuki']\n"
     ]
    }
   ],
   "metadata": {}
  },
  {
   "cell_type": "markdown",
   "source": [
    "### Removing Elements from a List\r\n",
    "Often, you’ll want to remove an item or a set of items from a list. For\r\n",
    "example, when a player shoots down an alien from the sky, you’ll most\r\n",
    "likely want to remove it from the list of active aliens. Or when a user\r\n",
    "decides to cancel their account on a web application you created, you’ll\r\n",
    "want to remove that user from the list of active users. You can remove an\r\n",
    "item according to its position in the list or according to its value."
   ],
   "metadata": {}
  },
  {
   "cell_type": "markdown",
   "source": [
    "#### Removing an Item Using the **`del`** Statement"
   ],
   "metadata": {}
  },
  {
   "cell_type": "code",
   "execution_count": 65,
   "source": [
    "# If you know the position of the item you want to remove from a list, you can\r\n",
    "# use the del statement.\r\n",
    "motorcycles = ['honda', 'yamaha', 'suzuki']\r\n",
    "print(motorcycles)\r\n",
    "\r\n",
    "# The below code uses del to remove the first item, 'honda', from the list of\r\n",
    "# motorcycles:\r\n",
    "del motorcycles[0]\r\n",
    "print(motorcycles)\r\n",
    "print(\"\")\r\n",
    "\r\n",
    "# You can remove an item from any position in a list using the del statement\r\n",
    "# if you know its index. For example, here’s how to remove the second\r\n",
    "# item, 'yamaha', in the list:\r\n",
    "motorcycles = ['honda', 'yamaha', 'suzuki']\r\n",
    "print(motorcycles)\r\n",
    "\r\n",
    "del motorcycles[1]\r\n",
    "print(motorcycles)\r\n",
    "\r\n",
    "# In both examples, you can no longer access the value that was removed\r\n",
    "# from the list after the del statement is used."
   ],
   "outputs": [
    {
     "output_type": "stream",
     "name": "stdout",
     "text": [
      "['honda', 'yamaha', 'suzuki']\n",
      "['yamaha', 'suzuki']\n",
      "\n",
      "['honda', 'yamaha', 'suzuki']\n",
      "['honda', 'suzuki']\n"
     ]
    }
   ],
   "metadata": {}
  },
  {
   "cell_type": "markdown",
   "source": [
    "#### Removing an Item Using the **`pop()`** Method\r\n",
    "\r\n",
    "Sometimes you’ll want to use the value of an item after you remove it from a\r\n",
    "list. For example, you might want to get the x and y position of an alien that\r\n",
    "was just shot down, so you can draw an explosion at that position. In a web\r\n",
    "application, you might want to remove a user from a list of active members\r\n",
    "and then add that user to a list of inactive members.\r\n",
    "\r\n",
    "**`The pop() method removes the last item in a list, but it lets you work with that item after removing it`**. The term pop comes from thinking of a\r\n",
    "list as a stack of items and popping one item off the top of the stack. In\r\n",
    "this analogy, the top of a stack corresponds to the end of a list."
   ],
   "metadata": {}
  },
  {
   "cell_type": "code",
   "execution_count": 66,
   "source": [
    "motorcycles = ['honda', 'yamaha', 'suzuki']\r\n",
    "print(motorcycles)\r\n",
    "\r\n",
    "# We pop a value from the list and store that value in the variable popped_motorcycle.\r\n",
    "popped_motorcycle = motorcycles.pop()\r\n",
    "print(motorcycles)\r\n",
    "print(popped_motorcycle)"
   ],
   "outputs": [
    {
     "output_type": "stream",
     "name": "stdout",
     "text": [
      "['honda', 'yamaha', 'suzuki']\n",
      "['honda', 'yamaha']\n",
      "suzuki\n"
     ]
    }
   ],
   "metadata": {}
  },
  {
   "cell_type": "markdown",
   "source": [
    "How might this pop() method be useful? Imagine that the motorcycles\r\n",
    "in the list are stored in chronological order according to when we owned\r\n",
    "them. If this is the case, we can use the pop() method to print a statement\r\n",
    "about the last motorcycle we bought:"
   ],
   "metadata": {}
  },
  {
   "cell_type": "code",
   "execution_count": 67,
   "source": [
    "motorcycles = ['honda', 'yamaha', 'suzuki']\r\n",
    "print(motorcycles)\r\n",
    "\r\n",
    "last_owned = motorcycles.pop()\r\n",
    "\r\n",
    "# The output is a simple sentence about the most recent motorcycle we owned:\r\n",
    "print(f\"The last motorcycle I owned was a {last_owned.title()}.\")"
   ],
   "outputs": [
    {
     "output_type": "stream",
     "name": "stdout",
     "text": [
      "['honda', 'yamaha', 'suzuki']\n",
      "The last motorcycle I owned was a Suzuki.\n"
     ]
    }
   ],
   "metadata": {}
  },
  {
   "cell_type": "markdown",
   "source": [
    "#### Popping Items from any Position in a List\r\n",
    "You can use pop() to remove an item from any position in a list by including\r\n",
    "the index of the item you want to remove in parentheses."
   ],
   "metadata": {}
  },
  {
   "cell_type": "code",
   "execution_count": 68,
   "source": [
    "motorcycles = ['honda', 'yamaha', 'suzuki']\r\n",
    "print(motorcycles)\r\n",
    "\r\n",
    "# We start by popping the first motorcycle in the list, and then we\r\n",
    "# print a message about that motorcycle. The output is a simple sentence\r\n",
    "# describing the first motorcycle I ever owned:\r\n",
    "first_owned = motorcycles.pop(0)\r\n",
    "print(f\"The first motorcycle I owned was a {first_owned.title()}.\")"
   ],
   "outputs": [
    {
     "output_type": "stream",
     "name": "stdout",
     "text": [
      "['honda', 'yamaha', 'suzuki']\n",
      "The first motorcycle I owned was a Honda.\n"
     ]
    }
   ],
   "metadata": {}
  },
  {
   "cell_type": "markdown",
   "source": [
    "**`Remember that each time you use pop(), the item you work with is no longer stored in the list.`**\r\n",
    "If you’re unsure whether to use the del statement or the pop() method,\r\n",
    "here’s a simple way to decide: when you want to delete an item from a list and not use that item in any way, use the **`del`** statement; if you want to use an item as you remove it, use the **`pop()`** method."
   ],
   "metadata": {}
  },
  {
   "cell_type": "markdown",
   "source": [
    "#### Removing an Item by Value\r\n",
    "Sometimes you won’t know the position of the value you want to remove\r\n",
    "from a list. If you only know the value of the item you want to remove, you\r\n",
    "can use the **`remove()`** method."
   ],
   "metadata": {}
  },
  {
   "cell_type": "code",
   "execution_count": 72,
   "source": [
    "# For example, let’s say we want to remove the value 'ducati' from the list of\r\n",
    "# motorcycles.\r\n",
    "motorcycles = ['honda', 'yamaha', 'suzuki', 'ducati', 'ducati']\r\n",
    "print(motorcycles)\r\n",
    "\r\n",
    "# The below code tells Python to figure out where 'ducati' appears in the\r\n",
    "# list and remove that element:\r\n",
    "motorcycles.remove('ducati')\r\n",
    "print(motorcycles)"
   ],
   "outputs": [
    {
     "output_type": "stream",
     "name": "stdout",
     "text": [
      "['honda', 'yamaha', 'suzuki', 'ducati', 'ducati']\n",
      "['honda', 'yamaha', 'suzuki', 'ducati']\n"
     ]
    }
   ],
   "metadata": {}
  },
  {
   "cell_type": "markdown",
   "source": [
    "##### **Note**\r\n",
    "\r\n",
    "The remove() method deletes only the first occurrence of the value you specify. If there’s\r\n",
    "a possibility the value appears more than once in the list, you’ll need to use a loop\r\n",
    "to make sure all occurrences of the value are removed. You’ll learn how to do this in\r\n",
    "Chapter 7."
   ],
   "metadata": {}
  },
  {
   "cell_type": "markdown",
   "source": [
    "You can also use the **`remove()`** method to work with a value that’s being\r\n",
    "removed from a list. Let’s remove the value 'ducati' and print a reason for\r\n",
    "removing it from the list:"
   ],
   "metadata": {}
  },
  {
   "cell_type": "code",
   "execution_count": 73,
   "source": [
    "motorcycles = ['honda', 'yamaha', 'suzuki', 'ducati']\r\n",
    "print(motorcycles)\r\n",
    "\r\n",
    "# After defining the list at u, we assign the value 'ducati' to a variable\r\n",
    "# called too_expensive v. We then use this variable to tell Python which value\r\n",
    "# to remove from the list at w. At x the value 'ducati' has been removed\r\n",
    "# from the list but is still accessible through the variable too_expensive, allowing\r\n",
    "# us to print a statement about why we removed 'ducati' from the list of\r\n",
    "# motorcycles:\r\n",
    "too_expensive = 'ducati'\r\n",
    "motorcycles.remove(too_expensive)\r\n",
    "print(motorcycles)\r\n",
    "print(f\"\\nA {too_expensive.title()} is too expensive for me.\")"
   ],
   "outputs": [
    {
     "output_type": "stream",
     "name": "stdout",
     "text": [
      "['honda', 'yamaha', 'suzuki', 'ducati']\n",
      "['honda', 'yamaha', 'suzuki']\n",
      "\n",
      "A Ducati is too expensive for me.\n"
     ]
    }
   ],
   "metadata": {}
  },
  {
   "cell_type": "markdown",
   "source": [
    "#### Try It Yourself\r\n",
    "The following exercises are a bit more complex than those in Chapter 2, but\r\n",
    "they give you an opportunity to use lists in all of the ways described.\r\n",
    "\r\n",
    "3-4. Guest List: If you could invite anyone, living or deceased, to dinner, who\r\n",
    "would you invite? Make a list that includes at least three people you’d like to\r\n",
    "invite to dinner. Then use your list to print a message to each person, inviting\r\n",
    "them to dinner.\r\n",
    "\r\n",
    "3-5. Changing Guest List: You just heard that one of your guests can’t make the\r\n",
    "dinner, so you need to send out a new set of invitations. You’ll have to think of\r\n",
    "someone else to invite.\r\n",
    "- Start with your program from Exercise 3-4. Add a print() call at the end\r\n",
    "of your program stating the name of the guest who can’t make it.\r\n",
    "- Modify your list, replacing the name of the guest who can’t make it with\r\n",
    "the name of the new person you are inviting.\r\n",
    "- Print a second set of invitation messages, one for each person who is still\r\n",
    "in your list.\r\n",
    "\r\n",
    "3-6. More Guests: You just found a bigger dinner table, so now more space is\r\n",
    "available. Think of three more guests to invite to dinner.\r\n",
    "- Start with your program from Exercise 3-4 or Exercise 3-5. Add a print()\r\n",
    "call to the end of your program informing people that you found a bigger\r\n",
    "dinner table.\r\n",
    "- Use insert() to add one new guest to the beginning of your list.\r\n",
    "- Use insert() to add one new guest to the middle of your list.\r\n",
    "- Use append() to add one new guest to the end of your list.\r\n",
    "- Print a new set of invitation messages, one for each person in your list."
   ],
   "metadata": {}
  },
  {
   "cell_type": "code",
   "execution_count": 84,
   "source": [
    "guest_list = ['john', 'rick', 'joe', 'moe', 'harry']\r\n",
    "print(guest_list)\r\n",
    "\r\n",
    "absent_guest = 'rick'\r\n",
    "\r\n",
    "guest_list.remove(absent_guest)\r\n",
    "print(guest_list)"
   ],
   "outputs": [
    {
     "output_type": "stream",
     "name": "stdout",
     "text": [
      "['john', 'rick', 'joe', 'moe', 'harry']\n",
      "['john', 'joe', 'moe', 'harry']\n"
     ]
    }
   ],
   "metadata": {}
  },
  {
   "cell_type": "code",
   "execution_count": 105,
   "source": [
    "guest_list = ['john', 'rick', 'joe', 'moe', 'harry']\r\n",
    "new_guest = 'elizabeth'\r\n",
    "guest_list[1] = new_guest\r\n",
    "print(guest_list)\r\n",
    "print(\"\")\r\n",
    "\r\n",
    "def guest_invitations():\r\n",
    "    for i in guest_list:\r\n",
    "        print(f\"Hi, {i.title()}, welcome to my partaaayyyy!\")\r\n",
    "guest_invitations()"
   ],
   "outputs": [
    {
     "output_type": "stream",
     "name": "stdout",
     "text": [
      "['john', 'elizabeth', 'joe', 'moe', 'harry']\n",
      "\n",
      "Hi, John, welcome to my partaaayyyy!\n",
      "Hi, Elizabeth, welcome to my partaaayyyy!\n",
      "Hi, Joe, welcome to my partaaayyyy!\n",
      "Hi, Moe, welcome to my partaaayyyy!\n",
      "Hi, Harry, welcome to my partaaayyyy!\n"
     ]
    }
   ],
   "metadata": {}
  },
  {
   "cell_type": "code",
   "execution_count": null,
   "source": [],
   "outputs": [],
   "metadata": {}
  }
 ],
 "metadata": {
  "orig_nbformat": 4,
  "language_info": {
   "name": "python",
   "version": "3.9.7",
   "mimetype": "text/x-python",
   "codemirror_mode": {
    "name": "ipython",
    "version": 3
   },
   "pygments_lexer": "ipython3",
   "nbconvert_exporter": "python",
   "file_extension": ".py"
  },
  "kernelspec": {
   "name": "python3",
   "display_name": "Python 3.9.7 64-bit"
  },
  "interpreter": {
   "hash": "fbc05aefc5138339e86326c0933e0017460d8d382a1640adfde37b07fe7115b6"
  }
 },
 "nbformat": 4,
 "nbformat_minor": 2
}