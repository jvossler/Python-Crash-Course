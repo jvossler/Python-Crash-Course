{
 "cells": [
  {
   "cell_type": "code",
   "execution_count": 1,
   "source": [
    "print(\"Hello World!\")"
   ],
   "outputs": [
    {
     "output_type": "stream",
     "name": "stdout",
     "text": [
      "Hello World!\n"
     ]
    }
   ],
   "metadata": {}
  },
  {
   "cell_type": "code",
   "execution_count": 2,
   "source": [
    "# Variables can be viewed as tags or labels for certain actions or characters\r\n",
    "message = \"Hello Python World!\"\r\n",
    "print(message)"
   ],
   "outputs": [
    {
     "output_type": "stream",
     "name": "stdout",
     "text": [
      "Hello Python World!\n"
     ]
    }
   ],
   "metadata": {}
  },
  {
   "cell_type": "markdown",
   "source": [
    "You can change the value of a variable in your program at any time, and Python will always keep track of its current value.\r\n",
    "- It’s much better to think of variables as labels that you can assign to values. You can also say that a variable references a certain value."
   ],
   "metadata": {}
  },
  {
   "cell_type": "code",
   "execution_count": 3,
   "source": [
    "# Reassigning variable names\r\n",
    "message = \"Hello Python World Crash Course!\"\r\n",
    "print(message)"
   ],
   "outputs": [
    {
     "output_type": "stream",
     "name": "stdout",
     "text": [
      "Hello Python World Crash Course!\n"
     ]
    }
   ],
   "metadata": {}
  },
  {
   "cell_type": "markdown",
   "source": [
    "- Variable names can contain only letters, numbers, and underscores. They can start with a letter or an underscore, but not with a number. For instance, you can call a variable message_1 but not 1_message.\r\n",
    "- Spaces are not allowed in variable names, but underscores can be used to separate words in variable names. For example, greeting_message works, but greeting message will cause errors.\r\n",
    "- Avoid using Python keywords and function names as variable names; that is, do not use words that Python has reserved for a particular programmatic purpose, such as the word print. (See “Python Keywords and Built-in Functions” on page 471.)\r\n",
    "- Variable names should be short but descriptive. For example, name is better than n, student_name is better than s_n, and name_length is better than length_of_persons_name.\r\n",
    "- Be careful when using the lowercase letter l and the uppercase letter O because they could be confused with the numbers 1 and 0."
   ],
   "metadata": {}
  },
  {
   "cell_type": "code",
   "execution_count": 4,
   "source": [
    "simple_message = \"This is a simple message\"\r\n",
    "print(simple_message)"
   ],
   "outputs": [
    {
     "output_type": "stream",
     "name": "stdout",
     "text": [
      "This is a simple message\n"
     ]
    }
   ],
   "metadata": {}
  },
  {
   "cell_type": "code",
   "execution_count": 5,
   "source": [
    "simple_messages = \"This is a simple messages variable\"\r\n",
    "print(simple_messages)"
   ],
   "outputs": [
    {
     "output_type": "stream",
     "name": "stdout",
     "text": [
      "This is a simple messages variable\n"
     ]
    }
   ],
   "metadata": {}
  },
  {
   "cell_type": "code",
   "execution_count": 7,
   "source": [
    "string_example = \"This is a string.\"\r\n",
    "string_example_second = 'This is also a string.'\r\n",
    "print(string_example)\r\n",
    "print(string_example_second)"
   ],
   "outputs": [
    {
     "output_type": "stream",
     "name": "stdout",
     "text": [
      "This is a string.\n",
      "This is also a string.\n"
     ]
    }
   ],
   "metadata": {}
  },
  {
   "cell_type": "markdown",
   "source": [
    "### Changing Case in a String with Methods\r\n",
    "One of the simplest tasks you can do with strings is change the case of the\r\n",
    "words in a string. Look at the following code, and try to determine what’s\r\n",
    "happening:\r\n",
    "\r\n",
    "In this example, the variable name refers to the lowercase string \"ada\r\n",
    "lovelace\". The method `title()` appears after the variable in the print() call.\r\n",
    "`A method is an action that Python can perform on a piece of data.` The dot\r\n",
    "(`.`) after name in name.title() tells Python to make the title() method act on\r\n",
    "the variable name. `Every method is followed by a set of parentheses, because\r\n",
    "methods often need additional information to do their work.` That information\r\n",
    "is provided inside the parentheses. The title() function doesn’t need\r\n",
    "any additional information, so its parentheses are empty."
   ],
   "metadata": {}
  },
  {
   "cell_type": "code",
   "execution_count": 8,
   "source": [
    "name = \"ada lovelace\"\r\n",
    "print(name.title())"
   ],
   "outputs": [
    {
     "output_type": "stream",
     "name": "stdout",
     "text": [
      "Ada Lovelace\n"
     ]
    }
   ],
   "metadata": {}
  },
  {
   "cell_type": "markdown",
   "source": [
    "Additional examples:\r\n",
    "\r\n",
    "- `The lower() method is particularly useful for storing data.`"
   ],
   "metadata": {}
  },
  {
   "cell_type": "code",
   "execution_count": 9,
   "source": [
    "print(name.upper())\r\n",
    "print(name.lower())\r\n",
    "print(name.capitalize())"
   ],
   "outputs": [
    {
     "output_type": "stream",
     "name": "stdout",
     "text": [
      "ADA LOVELACE\n",
      "ada lovelace\n",
      "Ada lovelace\n"
     ]
    }
   ],
   "metadata": {}
  },
  {
   "cell_type": "markdown",
   "source": [
    "### Using Variables in Strings\r\n",
    "\r\n",
    "#### f-strings\r\n",
    "In some situations, you’ll want to use a variable’s value inside a string. For\r\n",
    "example, you might want two variables to represent a first name and a last\r\n",
    "name respectively, and then want to combine those values to display someone’s\r\n",
    "full name:\r\n",
    "\r\n",
    "**`To insert a variable’s value into a string, place the letter f immediately\r\n",
    "before the opening quotation mark.`** Put braces around the name or names\r\n",
    "of any variable you want to use inside the string. Python will replace each\r\n",
    "variable with its value when the string is displayed.\r\n",
    "These strings are called **`f-strings`**.\r\n",
    "**The f is for *format***, because Python\r\n",
    "formats the string by replacing the name of any variable in braces with its\r\n",
    "value. The output from the previous code is:"
   ],
   "metadata": {}
  },
  {
   "cell_type": "code",
   "execution_count": 10,
   "source": [
    "first_name = \"ada\"\r\n",
    "last_name = \"lovelace\"\r\n",
    "full_name = f\"{first_name} {last_name}\"\r\n",
    "print(full_name)"
   ],
   "outputs": [
    {
     "output_type": "stream",
     "name": "stdout",
     "text": [
      "ada lovelace\n"
     ]
    }
   ],
   "metadata": {}
  },
  {
   "cell_type": "markdown",
   "source": [
    "You can do a lot with f-strings.\r\n",
    "\r\n",
    "For example, you can use f-strings to compose complete messages using the information associated with a variable, as shown here:"
   ],
   "metadata": {}
  },
  {
   "cell_type": "code",
   "execution_count": 15,
   "source": [
    "first_name = \"ada\"\r\n",
    "last_name = \"lovelace\"\r\n",
    "full_name = f\"{first_name} {last_name}\"\r\n",
    "print(f\"Hello, {full_name.title()}!\")\r\n",
    "print(f\"Hello, {full_name.capitalize()}!\")\r\n",
    "print(f\"Hello, {full_name.upper()}!\")\r\n",
    "print(f\"Hello, {full_name.lower()}!\")"
   ],
   "outputs": [
    {
     "output_type": "stream",
     "name": "stdout",
     "text": [
      "Hello, Ada Lovelace!\n",
      "Hello, Ada lovelace!\n",
      "Hello, ADA LOVELACE!\n",
      "Hello, ada lovelace!\n"
     ]
    }
   ],
   "metadata": {}
  },
  {
   "cell_type": "markdown",
   "source": [
    "You can also use f-strings\r\n",
    "to compose a message, and then assign the\r\n",
    "entire message to a variable:"
   ],
   "metadata": {}
  },
  {
   "cell_type": "code",
   "execution_count": 14,
   "source": [
    "first_name = \"ada\"\r\n",
    "last_name = \"lovelace\"\r\n",
    "full_name = f\"{first_name} {last_name}\"\r\n",
    "message = f\"Hello, {full_name.title()}!\"\r\n",
    "print(message)"
   ],
   "outputs": [
    {
     "output_type": "stream",
     "name": "stdout",
     "text": [
      "Hello, Ada Lovelace!\n"
     ]
    }
   ],
   "metadata": {}
  },
  {
   "cell_type": "markdown",
   "source": [
    "F-strings\r\n",
    "were first introduced in Python 3.6. If you’re using Python 3.5 or earlier,\r\n",
    "you’ll need to use the format() method rather than this f syntax. To use format(), list\r\n",
    "the variables you want to use in the string inside the parentheses following format.\r\n",
    "Each variable is referred to by a set of braces; the braces will be filled by the values\r\n",
    "listed in parentheses in the order provided:\r\n",
    "\r\n",
    "`full_name = \"{} {}\".format(first_name, last_name)`\r\n"
   ],
   "metadata": {}
  },
  {
   "cell_type": "markdown",
   "source": [
    "### Adding Whitespace to Strings with Tabs or Newlines\r\n",
    "\r\n",
    "In programming, whitespace refers to any nonprinting character, such as spaces, tabs, and end-of-line symbols. You can use whitespace to organize\r\n",
    "your output so it’s easier for users to read.\r\n",
    "\r\n",
    "To add a **`tab`** to your text, use the character combination **`\\t`** as shown here:"
   ],
   "metadata": {}
  },
  {
   "cell_type": "code",
   "execution_count": 16,
   "source": [
    "print(\"Python\")\r\n",
    "\r\n",
    "print(\"\\tPython\")"
   ],
   "outputs": [
    {
     "output_type": "stream",
     "name": "stdout",
     "text": [
      "Python\n",
      "\tPython\n"
     ]
    }
   ],
   "metadata": {}
  },
  {
   "cell_type": "markdown",
   "source": [
    "To add a **`newline`** in a string, use the character combination **`\\n`**:"
   ],
   "metadata": {}
  },
  {
   "cell_type": "code",
   "execution_count": 19,
   "source": [
    "print(\"Python\\n\")\r\n",
    "\r\n",
    "print(\"Languages:\\nPython\\nC\\nJavaScript\")"
   ],
   "outputs": [
    {
     "output_type": "stream",
     "name": "stdout",
     "text": [
      "Python\n",
      "\n",
      "Languages:\n",
      "Python\n",
      "C\n",
      "JavaScript\n"
     ]
    }
   ],
   "metadata": {}
  },
  {
   "cell_type": "markdown",
   "source": [
    "You can also **`combine tabs and newlines in a single string`**. The string\r\n",
    "\"**`\\n\\t`**\" tells Python to move to a new line, and start the next line with a tab.\r\n",
    "The following example shows how you can use a one-line\r\n",
    "string to generate\r\n",
    "four lines of output:"
   ],
   "metadata": {}
  },
  {
   "cell_type": "code",
   "execution_count": 20,
   "source": [
    "print(\"Languages:\\n\\tPython\\n\\tC\\n\\tJavaScript\")"
   ],
   "outputs": [
    {
     "output_type": "stream",
     "name": "stdout",
     "text": [
      "Languages:\n",
      "\tPython\n",
      "\tC\n",
      "\tJavaScript\n"
     ]
    }
   ],
   "metadata": {}
  },
  {
   "cell_type": "markdown",
   "source": [
    "### Stripping Whitespace\r\n",
    "\r\n",
    "Extra whitespace can be confusing in your programs. To programmers\r\n",
    "'python' and 'python ' look pretty much the same. But to a program, they\r\n",
    "are two different strings. Python detects the extra space in 'python ' and\r\n",
    "considers it significant unless you tell it otherwise.\r\n",
    "\r\n",
    "\r\n",
    "Python can look for extra whitespace on the right and left sides of a\r\n",
    "string. To ensure that no whitespace exists at the *`right end of a string`*, use\r\n",
    "the **`rstrip()`** method.\r\n",
    "\r\n",
    "You can also strip whitespace from the *`left side of a string`* using the\r\n",
    "**`lstrip()`** method, or from *`both sides at once`* using **`strip()`**:"
   ],
   "metadata": {}
  },
  {
   "cell_type": "code",
   "execution_count": 27,
   "source": [
    "favorite_language = \"Python \"\r\n",
    "print(favorite_language)\r\n",
    "print(favorite_language.rstrip())\r\n",
    "favorite_language"
   ],
   "outputs": [
    {
     "output_type": "stream",
     "name": "stdout",
     "text": [
      "Python \n",
      "Python\n"
     ]
    },
    {
     "output_type": "execute_result",
     "data": {
      "text/plain": [
       "'Python '"
      ]
     },
     "metadata": {},
     "execution_count": 27
    }
   ],
   "metadata": {}
  },
  {
   "cell_type": "markdown",
   "source": [
    "To remove the whitespace from the string permanently, you have to\r\n",
    "associate the stripped value with the variable name:"
   ],
   "metadata": {}
  },
  {
   "cell_type": "code",
   "execution_count": 28,
   "source": [
    "favorite_language = 'Python '\r\n",
    "favorite_language = favorite_language.rstrip()\r\n",
    "favorite_language"
   ],
   "outputs": [
    {
     "output_type": "execute_result",
     "data": {
      "text/plain": [
       "'Python'"
      ]
     },
     "metadata": {},
     "execution_count": 28
    }
   ],
   "metadata": {}
  },
  {
   "cell_type": "markdown",
   "source": [
    "### Avoiding Syntax Errors with Strings\r\n",
    "\r\n",
    "A syntax error occurs when Python doesn’t recognize a section of your program\r\n",
    "as valid Python code."
   ],
   "metadata": {}
  },
  {
   "cell_type": "markdown",
   "source": [
    "Here’s how to use single and double quotes correctly. Save this program\r\n",
    "as apostrophe.py and then run it:\r\n",
    "\r\n",
    "The apostrophe appears inside a set of double quotes, so the Python\r\n",
    "interpreter has no trouble reading the string correctly:"
   ],
   "metadata": {}
  },
  {
   "cell_type": "code",
   "execution_count": 29,
   "source": [
    "message = \"One of Python's strengths is its diverse community.\"\r\n",
    "print(message)"
   ],
   "outputs": [
    {
     "output_type": "stream",
     "name": "stdout",
     "text": [
      "One of Python's strengths is its diverse community.\n"
     ]
    }
   ],
   "metadata": {}
  },
  {
   "cell_type": "markdown",
   "source": [
    "However, if you use single quotes, Python can’t identify where the string\r\n",
    "should end:"
   ],
   "metadata": {}
  },
  {
   "cell_type": "code",
   "execution_count": 30,
   "source": [
    "# message = 'One of Python's strengths is its diverse community.'\r\n",
    "# print(message)"
   ],
   "outputs": [
    {
     "output_type": "error",
     "ename": "SyntaxError",
     "evalue": "invalid syntax (Temp/ipykernel_9432/3826981731.py, line 1)",
     "traceback": [
      "\u001b[1;36m  File \u001b[1;32m\"C:\\Users\\josep\\AppData\\Local\\Temp/ipykernel_9432/3826981731.py\"\u001b[1;36m, line \u001b[1;32m1\u001b[0m\n\u001b[1;33m    message = 'One of Python's strengths is its diverse community.'\u001b[0m\n\u001b[1;37m                             ^\u001b[0m\n\u001b[1;31mSyntaxError\u001b[0m\u001b[1;31m:\u001b[0m invalid syntax\n"
     ]
    }
   ],
   "metadata": {}
  },
  {
   "cell_type": "markdown",
   "source": [],
   "metadata": {}
  },
  {
   "cell_type": "markdown",
   "source": [
    "## Numbers"
   ],
   "metadata": {}
  },
  {
   "cell_type": "markdown",
   "source": [
    "### Integers and Floats"
   ],
   "metadata": {}
  },
  {
   "cell_type": "markdown",
   "source": [
    "### Integers"
   ],
   "metadata": {}
  },
  {
   "cell_type": "code",
   "execution_count": 31,
   "source": [
    "2 + 3"
   ],
   "outputs": [
    {
     "output_type": "execute_result",
     "data": {
      "text/plain": [
       "5"
      ]
     },
     "metadata": {},
     "execution_count": 31
    }
   ],
   "metadata": {}
  },
  {
   "cell_type": "code",
   "execution_count": 32,
   "source": [
    "3 - 2"
   ],
   "outputs": [
    {
     "output_type": "execute_result",
     "data": {
      "text/plain": [
       "1"
      ]
     },
     "metadata": {},
     "execution_count": 32
    }
   ],
   "metadata": {}
  },
  {
   "cell_type": "code",
   "execution_count": 33,
   "source": [
    "2 * 3"
   ],
   "outputs": [
    {
     "output_type": "execute_result",
     "data": {
      "text/plain": [
       "6"
      ]
     },
     "metadata": {},
     "execution_count": 33
    }
   ],
   "metadata": {}
  },
  {
   "cell_type": "code",
   "execution_count": 34,
   "source": [
    "3 / 2"
   ],
   "outputs": [
    {
     "output_type": "execute_result",
     "data": {
      "text/plain": [
       "1.5"
      ]
     },
     "metadata": {},
     "execution_count": 34
    }
   ],
   "metadata": {}
  },
  {
   "cell_type": "markdown",
   "source": [
    "#### Python uses two multiplication symbols to represent exponents"
   ],
   "metadata": {}
  },
  {
   "cell_type": "code",
   "execution_count": 35,
   "source": [
    "3 **2 "
   ],
   "outputs": [
    {
     "output_type": "execute_result",
     "data": {
      "text/plain": [
       "9"
      ]
     },
     "metadata": {},
     "execution_count": 35
    }
   ],
   "metadata": {}
  },
  {
   "cell_type": "code",
   "execution_count": 36,
   "source": [
    "3 **3 "
   ],
   "outputs": [
    {
     "output_type": "execute_result",
     "data": {
      "text/plain": [
       "27"
      ]
     },
     "metadata": {},
     "execution_count": 36
    }
   ],
   "metadata": {}
  },
  {
   "cell_type": "code",
   "execution_count": 37,
   "source": [
    "10 ** 6"
   ],
   "outputs": [
    {
     "output_type": "execute_result",
     "data": {
      "text/plain": [
       "1000000"
      ]
     },
     "metadata": {},
     "execution_count": 37
    }
   ],
   "metadata": {}
  },
  {
   "cell_type": "markdown",
   "source": [
    "#### Order of Operations\r\n",
    "\r\n",
    "Python supports the order of operations too, so you can use multiple\r\n",
    "operations in one expression. You can also use parentheses to modify the\r\n",
    "order of operations so Python can evaluate your expression in the order\r\n",
    "you specify."
   ],
   "metadata": {}
  },
  {
   "cell_type": "code",
   "execution_count": 38,
   "source": [
    "2 + 3 * 4"
   ],
   "outputs": [
    {
     "output_type": "execute_result",
     "data": {
      "text/plain": [
       "14"
      ]
     },
     "metadata": {},
     "execution_count": 38
    }
   ],
   "metadata": {}
  },
  {
   "cell_type": "code",
   "execution_count": 39,
   "source": [
    "(2 + 3) * 4"
   ],
   "outputs": [
    {
     "output_type": "execute_result",
     "data": {
      "text/plain": [
       "20"
      ]
     },
     "metadata": {},
     "execution_count": 39
    }
   ],
   "metadata": {}
  },
  {
   "cell_type": "markdown",
   "source": [
    "### Floats\r\n",
    "\r\n",
    "Python calls any number with a decimal point a float."
   ],
   "metadata": {}
  },
  {
   "cell_type": "code",
   "execution_count": 40,
   "source": [
    "0.1 + 0.1"
   ],
   "outputs": [
    {
     "output_type": "execute_result",
     "data": {
      "text/plain": [
       "0.2"
      ]
     },
     "metadata": {},
     "execution_count": 40
    }
   ],
   "metadata": {}
  },
  {
   "cell_type": "code",
   "execution_count": 41,
   "source": [
    "0.2 + 0.2"
   ],
   "outputs": [
    {
     "output_type": "execute_result",
     "data": {
      "text/plain": [
       "0.4"
      ]
     },
     "metadata": {},
     "execution_count": 41
    }
   ],
   "metadata": {}
  },
  {
   "cell_type": "code",
   "execution_count": 43,
   "source": [
    "2 * 0.1"
   ],
   "outputs": [
    {
     "output_type": "execute_result",
     "data": {
      "text/plain": [
       "0.2"
      ]
     },
     "metadata": {},
     "execution_count": 43
    }
   ],
   "metadata": {}
  },
  {
   "cell_type": "code",
   "execution_count": 44,
   "source": [
    "2 * 0.2"
   ],
   "outputs": [
    {
     "output_type": "execute_result",
     "data": {
      "text/plain": [
       "0.4"
      ]
     },
     "metadata": {},
     "execution_count": 44
    }
   ],
   "metadata": {}
  },
  {
   "cell_type": "markdown",
   "source": [
    "Be aware that you can sometimes get an arbitrary number of decimal\r\n",
    "places in your answer\r\n",
    "\r\n",
    "This happens in all languages and is of little concern. Python tries to\r\n",
    "find a way to represent the result as precisely as possible, which is sometimes\r\n",
    "difficult given how computers have to represent numbers internally. Just\r\n",
    "ignore the extra decimal places for now; you’ll learn ways to deal with the\r\n",
    "extra places when you need to in the projects in Part II."
   ],
   "metadata": {}
  },
  {
   "cell_type": "code",
   "execution_count": 45,
   "source": [
    "0.2 + 0.1"
   ],
   "outputs": [
    {
     "output_type": "execute_result",
     "data": {
      "text/plain": [
       "0.30000000000000004"
      ]
     },
     "metadata": {},
     "execution_count": 45
    }
   ],
   "metadata": {}
  },
  {
   "cell_type": "code",
   "execution_count": 46,
   "source": [
    "3 * 0.1"
   ],
   "outputs": [
    {
     "output_type": "execute_result",
     "data": {
      "text/plain": [
       "0.30000000000000004"
      ]
     },
     "metadata": {},
     "execution_count": 46
    }
   ],
   "metadata": {}
  },
  {
   "cell_type": "markdown",
   "source": [
    "When you divide any two numbers, even if they are integers that result in a\r\n",
    "whole number, you’ll always get a float\r\n",
    "\r\n",
    "If you mix an integer and a float in any other operation, you’ll get a\r\n",
    "float as well\r\n",
    "\r\n",
    "Python defaults to a float in any operation that uses a float, even if the\r\n",
    "output is a whole number"
   ],
   "metadata": {}
  },
  {
   "cell_type": "code",
   "execution_count": 47,
   "source": [
    "4 / 2"
   ],
   "outputs": [
    {
     "output_type": "execute_result",
     "data": {
      "text/plain": [
       "2.0"
      ]
     },
     "metadata": {},
     "execution_count": 47
    }
   ],
   "metadata": {}
  },
  {
   "cell_type": "code",
   "execution_count": 48,
   "source": [
    "1 + 2.0"
   ],
   "outputs": [
    {
     "output_type": "execute_result",
     "data": {
      "text/plain": [
       "3.0"
      ]
     },
     "metadata": {},
     "execution_count": 48
    }
   ],
   "metadata": {}
  },
  {
   "cell_type": "code",
   "execution_count": 49,
   "source": [
    "2 * 3.0"
   ],
   "outputs": [
    {
     "output_type": "execute_result",
     "data": {
      "text/plain": [
       "6.0"
      ]
     },
     "metadata": {},
     "execution_count": 49
    }
   ],
   "metadata": {}
  },
  {
   "cell_type": "code",
   "execution_count": 50,
   "source": [
    "3.0 ** 2"
   ],
   "outputs": [
    {
     "output_type": "execute_result",
     "data": {
      "text/plain": [
       "9.0"
      ]
     },
     "metadata": {},
     "execution_count": 50
    }
   ],
   "metadata": {}
  },
  {
   "cell_type": "markdown",
   "source": [
    "### Underscores in Numbers"
   ],
   "metadata": {}
  },
  {
   "cell_type": "markdown",
   "source": [
    "When you’re writing long numbers, you can group digits using underscores\r\n",
    "to make large numbers more readable\r\n",
    "\r\n",
    "When you print a number that was defined using underscores, Python\r\n",
    "prints only the digits\r\n",
    "\r\n",
    "Python ignores the underscores when storing these kinds of values.\r\n",
    "Even\r\n",
    "if you don’t group the digits in threes, the value will still be unaffected.\r\n",
    "To Python, 1000 is the same as 1_000, which is the same as 10_00. This feature\r\n",
    "works for integers and floats, but it’s only available in Python 3.6\r\n",
    "and later."
   ],
   "metadata": {}
  },
  {
   "cell_type": "code",
   "execution_count": 51,
   "source": [
    "universe_age = 14_000_000_000"
   ],
   "outputs": [],
   "metadata": {}
  },
  {
   "cell_type": "markdown",
   "source": [
    "### Multiple Assignment"
   ],
   "metadata": {}
  },
  {
   "cell_type": "markdown",
   "source": [
    "You can assign values to more than one variable using just a single line.\r\n",
    "This can help shorten your programs and make them easier to read; you’ll\r\n",
    "use this technique most often when initializing a set of numbers.\r\n",
    "\r\n",
    "You need to `separate the variable names with commas, and do the\r\n",
    "same with the values`, and Python will assign each value to its respectively\r\n",
    "positioned variable. As long as the number of values matches the number of\r\n",
    "variables, Python will match them up correctly.\r\n",
    "\r\n",
    "For example, here’s how you can initialize the variables x, y, and z\r\n",
    "to zero:"
   ],
   "metadata": {}
  },
  {
   "cell_type": "code",
   "execution_count": 52,
   "source": [
    "x, y, z = 0, 0, 0"
   ],
   "outputs": [],
   "metadata": {}
  },
  {
   "cell_type": "code",
   "execution_count": 53,
   "source": [
    "x"
   ],
   "outputs": [
    {
     "output_type": "execute_result",
     "data": {
      "text/plain": [
       "0"
      ]
     },
     "metadata": {},
     "execution_count": 53
    }
   ],
   "metadata": {}
  },
  {
   "cell_type": "markdown",
   "source": [
    "### Constants"
   ],
   "metadata": {}
  },
  {
   "cell_type": "markdown",
   "source": [
    "A constant is like a variable whose value stays the same throughout the life\r\n",
    "of a program. Python doesn’t have built-in\r\n",
    "constant types, but Python programmers\r\n",
    "use **`all capital letters`** to indicate a variable should be treated as a\r\n",
    "constant and never be changed\r\n",
    "\r\n",
    "- When you want to treat a variable as a constant in your code, make the\r\n",
    "name of the variable all capital letters."
   ],
   "metadata": {}
  },
  {
   "cell_type": "code",
   "execution_count": 55,
   "source": [
    "MAX_CONNECTIONS = 5000\r\n",
    "MAX_CONNECTIONS"
   ],
   "outputs": [
    {
     "output_type": "execute_result",
     "data": {
      "text/plain": [
       "5000"
      ]
     },
     "metadata": {},
     "execution_count": 55
    }
   ],
   "metadata": {}
  },
  {
   "cell_type": "markdown",
   "source": [
    "### Comments"
   ],
   "metadata": {}
  },
  {
   "cell_type": "markdown",
   "source": [
    "As your programs become longer and more complicated, you should `add\r\n",
    "notes within your programs that describe your overall approach to the\r\n",
    "problem you’re solving`. A comment allows you to write notes in English\r\n",
    "within your programs.\r\n",
    "\r\n",
    "- Comments begin with a **`#`**\r\n",
    "- You should write meaningful comments\r\n",
    "  - When you’re determining whether to write a comment, ask yourself if\r\n",
    "you had to consider several approaches before coming up with a reasonable\r\n",
    "way to make something work; if so, write a comment about your solution.\r\n",
    "It’s much easier to delete extra comments later on than it is to go back\r\n",
    "and write comments for a sparsely commented program.\r\n",
    "\r\n",
    "The main reason to write comments is to explain what your code is supposed\r\n",
    "to do and how you are making it work. When you’re in the middle of working\r\n",
    "on a project, you understand how all of the pieces fit together. But when\r\n",
    "you return to a project after some time away, you’ll likely have forgotten\r\n",
    "some of the details. You can always study your code for a while and figure\r\n",
    "out how segments were supposed to work, but writing good comments can\r\n",
    "save you time by summarizing your overall approach in clear English."
   ],
   "metadata": {}
  },
  {
   "cell_type": "markdown",
   "source": [
    "### The Zen of Python\r\n",
    "\r\n",
    "Avoid complexity\r\n",
    "and aim for simplicity whenever possible"
   ],
   "metadata": {}
  },
  {
   "cell_type": "code",
   "execution_count": 56,
   "source": [
    "import this"
   ],
   "outputs": [
    {
     "output_type": "stream",
     "name": "stdout",
     "text": [
      "The Zen of Python, by Tim Peters\n",
      "\n",
      "Beautiful is better than ugly.\n",
      "Explicit is better than implicit.\n",
      "Simple is better than complex.\n",
      "Complex is better than complicated.\n",
      "Flat is better than nested.\n",
      "Sparse is better than dense.\n",
      "Readability counts.\n",
      "Special cases aren't special enough to break the rules.\n",
      "Although practicality beats purity.\n",
      "Errors should never pass silently.\n",
      "Unless explicitly silenced.\n",
      "In the face of ambiguity, refuse the temptation to guess.\n",
      "There should be one-- and preferably only one --obvious way to do it.\n",
      "Although that way may not be obvious at first unless you're Dutch.\n",
      "Now is better than never.\n",
      "Although never is often better than *right* now.\n",
      "If the implementation is hard to explain, it's a bad idea.\n",
      "If the implementation is easy to explain, it may be a good idea.\n",
      "Namespaces are one honking great idea -- let's do more of those!\n"
     ]
    }
   ],
   "metadata": {}
  },
  {
   "cell_type": "code",
   "execution_count": null,
   "source": [],
   "outputs": [],
   "metadata": {}
  }
 ],
 "metadata": {
  "orig_nbformat": 4,
  "language_info": {
   "name": "python",
   "version": "3.9.7",
   "mimetype": "text/x-python",
   "codemirror_mode": {
    "name": "ipython",
    "version": 3
   },
   "pygments_lexer": "ipython3",
   "nbconvert_exporter": "python",
   "file_extension": ".py"
  },
  "kernelspec": {
   "name": "python3",
   "display_name": "Python 3.9.7 64-bit"
  },
  "interpreter": {
   "hash": "fbc05aefc5138339e86326c0933e0017460d8d382a1640adfde37b07fe7115b6"
  }
 },
 "nbformat": 4,
 "nbformat_minor": 2
}