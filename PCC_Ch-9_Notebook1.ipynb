{
 "cells": [
  {
   "cell_type": "markdown",
   "metadata": {},
   "source": [
    "# Ch. 9: Classes\n",
    "\n",
    "In *object-oriented programming* you write *classes* that represebt real-world things and situations, and you create *objects* based on these classes. When you write a class, you define the general behavior that a whole category of objects can have.\n",
    "\n",
    "Making an object from a class if called *instantiation*, and you work with *instances* of a class.\n",
    "-  In this chapter you’ll write classes and create instances of those classes. You’ll specify the kind of information that can be stored in instances, and you’ll define actions that can be taken with these instances. You’ll also write classes that extend the functionality of existing classes, so similar classes can share code efficiently. You’ll store your classes in mod-ules and import classes written by other programmers into your own pro-gram files.\n"
   ]
  },
  {
   "cell_type": "markdown",
   "metadata": {},
   "source": [
    "# Creating and Using a Class"
   ]
  },
  {
   "cell_type": "markdown",
   "metadata": {},
   "source": [
    "## Creating a Class\n",
    "### Creating the Dog Class\n",
    "\n",
    "Each instance created from the Dog class will store a name and an age, and we’ll give each dog the ability to sit() and roll_over():\n",
    "\n",
    "1. Define a class *Dog*\n",
    "2. Write a docstring describing what this class does\n",
    "   \n",
    "### The `__init__()` Method\n",
    "3. **`__init__`** is a special method that Python runs automatically whenever we create a new instance based on the Dog class\n",
    "   1. Has `two leading underscores and two trailing underscores`, **a convention that helps prevent Python's default method names of conflicting with your method names.**\n",
    "      1. If you do not use the underscores correctly, the method won't be called automatically when you use your class, which can result in errors that are difficult to identify.\n",
    "\n",
    "We define the `__init__()` method to have three parameters: `self`, `name`, and `age`. ***The self parameter is required in the method definition, and it must come first before the other parameters.*** It must be included in the definition because when Python calls this method later (to create an instance of Dog), the method call will automatically pass the self argument. *Every method call associated with an instance automatically passes self, which is a reference to the instance itself; it gives the individual instance access to the attributes and methods in the class.* When we make an instance of Dog, Python will call the `__init__()` method from the Dog class. ***We’ll pass `Dog()` a name and an age as arguments; self is passed automatically, so we don’t need to pass it.*** Whenever we want to make an instance from the Dog class, we’ll provide values for only the last two parameters, name and age.\n",
    "\n",
    "1. Two of the variables have the prefix `self`. ***Any variable prefixed with `self` is available to every method in the class, and we'll also be able to access these variables through any instance created from the class.***\n",
    "   1. The line `self.name = name` takes the value associated with the parameter `name` and assigns it to the variable `name`, which is then attached to the instance being created.\n",
    "      1. Variables that are accessible through instances like this are called `attributes`.\n",
    "2. The Dog class has two other methods defined: sit() and roll_over(). Because these methods don’t need additional information to run, we just define them to have one parameter, `self`. The instances we create later will have access to these methods. In other words, they’ll be able to sit and roll over."
   ]
  },
  {
   "cell_type": "code",
   "execution_count": null,
   "metadata": {},
   "outputs": [],
   "source": [
    "class Dog:\n",
    "    \"\"\"Aimple attempt to model a dog.\"\"\"\n",
    "\n",
    "    def __init__(self, name, age):\n",
    "        \"\"\"Initialize name and age attributes.\"\"\"\n",
    "        self.name = name\n",
    "        self.age = age\n",
    "\n",
    "    def sit(self):\n",
    "        \"\"\"Simulate a dog sitting in response to a command.\"\"\"\n",
    "        print(f\"{self.name} is now sitting.\")\n",
    "\n",
    "    def roll_over(self):\n",
    "        \"\"\"Simulate rolling over in response to a command.\"\"\"\n",
    "        print(f\"{self.name} rolled over!\")"
   ]
  },
  {
   "cell_type": "markdown",
   "metadata": {},
   "source": []
  }
 ],
 "metadata": {
  "language_info": {
   "name": "python"
  },
  "orig_nbformat": 4
 },
 "nbformat": 4,
 "nbformat_minor": 2
}
