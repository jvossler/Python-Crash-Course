{
 "cells": [
  {
   "cell_type": "markdown",
   "metadata": {},
   "source": [
    "# Ch. 9: Classes\n",
    "\n",
    "In *object-oriented programming* you write *classes* that represebt real-world things and situations, and you create *objects* based on these classes. When you write a class, you define the general behavior that a whole category of objects can have.\n",
    "\n",
    "Making an object from a class if called *instantiation*, and you work with *instances* of a class.\n",
    "-  In this chapter you’ll write classes and create instances of those classes. You’ll specify the kind of information that can be stored in instances, and you’ll define actions that can be taken with these instances. You’ll also write classes that extend the functionality of existing classes, so similar classes can share code efficiently. You’ll store your classes in mod-ules and import classes written by other programmers into your own pro-gram files.\n"
   ]
  },
  {
   "cell_type": "markdown",
   "metadata": {},
   "source": [
    "# Creating and Using a Class"
   ]
  },
  {
   "cell_type": "markdown",
   "metadata": {},
   "source": [
    "## Creating a Class\n",
    "### Creating the Dog Class\n",
    "\n",
    "Each instance created from the Dog class will store a name and an age, and we’ll give each dog the ability to sit() and roll_over():\n",
    "\n",
    "1. Define a class *Dog*\n",
    "2. Write a docstring describing what this class does\n",
    "   \n",
    "### The `__init__()` Method\n",
    "3. **`__init__`** is a special method that Python runs automatically whenever we create a new instance based on the Dog class\n",
    "   1. Has `two leading underscores and two trailing underscores`, **a convention that helps prevent Python's default method names of conflicting with your method names.**\n",
    "      1. If you do not use the underscores correctly, the method won't be called automatically when you use your class, which can result in errors that are difficult to identify.\n",
    "\n",
    "We define the `__init__()` method to have three parameters: `self`, `name`, and `age`. ***The self parameter is required in the method definition, and it must come first before the other parameters.*** It must be included in the definition because when Python calls this method later (to create an instance of Dog), the method call will automatically pass the self argument. *Every method call associated with an instance automatically passes self, which is a reference to the instance itself; it gives the individual instance access to the attributes and methods in the class.* When we make an instance of Dog, Python will call the `__init__()` method from the Dog class. ***We’ll pass `Dog()` a name and an age as arguments; self is passed automatically, so we don’t need to pass it.*** Whenever we want to make an instance from the Dog class, we’ll provide values for only the last two parameters, name and age.\n",
    "\n",
    "1. Two of the variables have the prefix `self`. ***Any variable prefixed with `self` is available to every method in the class, and we'll also be able to access these variables through any instance created from the class.***\n",
    "   1. The line `self.name = name` takes the value associated with the parameter `name` and assigns it to the variable `name`, which is then attached to the instance being created.\n",
    "      1. Variables that are accessible through instances like this are called `attributes`.\n",
    "2. The Dog class has two other methods defined: sit() and roll_over(). Because these methods don’t need additional information to run, we just define them to have one parameter, `self`. The instances we create later will have access to these methods. In other words, they’ll be able to sit and roll over."
   ]
  },
  {
   "cell_type": "code",
   "execution_count": null,
   "metadata": {},
   "outputs": [],
   "source": [
    "class Dog:\n",
    "    \"\"\"Aimple attempt to model a dog.\"\"\"\n",
    "\n",
    "    def __init__(self, name, age):\n",
    "        \"\"\"Initialize name and age attributes.\"\"\"\n",
    "        self.name = name\n",
    "        self.age = age\n",
    "\n",
    "    def sit(self):\n",
    "        \"\"\"Simulate a dog sitting in response to a command.\"\"\"\n",
    "        print(f\"{self.name} is now sitting.\")\n",
    "\n",
    "    def roll_over(self):\n",
    "        \"\"\"Simulate rolling over in response to a command.\"\"\"\n",
    "        print(f\"{self.name} rolled over!\")"
   ]
  },
  {
   "cell_type": "markdown",
   "metadata": {},
   "source": [
    "## Making an Instance from a Class\n",
    "\n",
    "Think of a class as a set of instructions for how to make an instance. The class Dog is a set of instructions that tells Python how to make individual instances representing specific dogs.Let’s make an instance representing a specific dog:"
   ]
  },
  {
   "cell_type": "code",
   "execution_count": 2,
   "metadata": {},
   "outputs": [
    {
     "name": "stdout",
     "output_type": "stream",
     "text": [
      "My dog's name is Willie.\n",
      "My dog is 6.\n"
     ]
    }
   ],
   "source": [
    "class Dog:\n",
    "    \"\"\"Aimple attempt to model a dog.\"\"\"\n",
    "\n",
    "    def __init__(self, name, age):\n",
    "        \"\"\"Initialize name and age attributes.\"\"\"\n",
    "        self.name = name\n",
    "        self.age = age\n",
    "\n",
    "    def sit(self):\n",
    "        \"\"\"Simulate a dog sitting in response to a command.\"\"\"\n",
    "        print(f\"{self.name} is now sitting.\")\n",
    "\n",
    "    def roll_over(self):\n",
    "        \"\"\"Simulate rolling over in response to a command.\"\"\"\n",
    "        print(f\"{self.name} rolled over!\")\n",
    "\n",
    "my_dog = Dog('willie', 6)\n",
    "\n",
    "print(f\"My dog's name is {my_dog.name.title()}.\")\n",
    "print(f\"My dog is {my_dog.age}.\")"
   ]
  },
  {
   "cell_type": "markdown",
   "metadata": {},
   "source": [
    "At u we tell Python to create a dog whose name is 'Willie' and whose age is 6. When Python reads this line, it calls the `__init__()` method in Dog with the arguments 'Willie' and 6. The `__init__()` method creates an instance representing this particular dog and sets the name and age attributes using the values we provided. Python then returns an instance representing this dog. We assign that instance to the variable my_dog. The naming conven-tion is helpful here: ***we can usually assume that a capitalized name like Dog refers to a class, and a lowercase name like my_dog refers to a single instance created from a class.***"
   ]
  },
  {
   "cell_type": "markdown",
   "metadata": {},
   "source": [
    "### Accessing Attributes\n",
    "\n",
    "To access the attributes of an instance, you use dot notation. At v we access the value of my_dog’s attribute name by writing:\n",
    "\n",
    "*`my_dog.name`*"
   ]
  },
  {
   "cell_type": "markdown",
   "metadata": {},
   "source": [
    "### Calling Methods\n",
    "\n",
    "After we create an instance from the class Dog, we can use dot notation to call any method defined in Dog. Let’s make our dog sit and roll over:\n",
    "\n",
    "To call a method, give the name of the instance (in this case, my_dog) and the method you want to call, separated by a dot. When Python reads my_dog.sit(), it looks for the method sit() in the class Dog and runs that code. Python interprets the line my_dog.roll_over() in the same way.\n",
    "\n",
    "This syntax is quite useful. When attributes and methods have been given ***appropriately descriptive names*** like name, age, sit(), and roll_over(), we can easily infer what a block of code, even one we’ve never seen before, is supposed to do."
   ]
  },
  {
   "cell_type": "code",
   "execution_count": 3,
   "metadata": {},
   "outputs": [
    {
     "name": "stdout",
     "output_type": "stream",
     "text": [
      "willie is now sitting.\n",
      "willie rolled over!\n"
     ]
    }
   ],
   "source": [
    "class Dog:\n",
    "    \"\"\"Aimple attempt to model a dog.\"\"\"\n",
    "\n",
    "    def __init__(self, name, age):\n",
    "        \"\"\"Initialize name and age attributes.\"\"\"\n",
    "        self.name = name\n",
    "        self.age = age\n",
    "\n",
    "    def sit(self):\n",
    "        \"\"\"Simulate a dog sitting in response to a command.\"\"\"\n",
    "        print(f\"{self.name} is now sitting.\")\n",
    "\n",
    "    def roll_over(self):\n",
    "        \"\"\"Simulate rolling over in response to a command.\"\"\"\n",
    "        print(f\"{self.name} rolled over!\")\n",
    "\n",
    "my_dog = Dog('willie', 6)\n",
    "\n",
    "my_dog.sit()\n",
    "my_dog.roll_over()"
   ]
  },
  {
   "cell_type": "markdown",
   "metadata": {},
   "source": [
    "### Creating Multiple Instances\n",
    "\n",
    "You can create as many instances from a class as you need. Let’s create a second dog called your_dog:\n",
    "\n",
    "In this example we create a dog named Willie and a dog named Lucy. Each dog is a separate instance with its own set of attributes, capable of the same set of actions:\n",
    "\n",
    "Even if we used the same name and age for the second dog, Python would still create a separate instance from the Dog class. You can make\n",
    "as many instances from one class as you need, as long as you give each instance a unique variable name or it occupies a unique spot in a list or dictionary.\n",
    "\n"
   ]
  },
  {
   "cell_type": "code",
   "execution_count": 11,
   "metadata": {},
   "outputs": [
    {
     "name": "stdout",
     "output_type": "stream",
     "text": [
      "My dog's name is Willie.\n",
      "My dog is 6 years old.\n",
      "Willie is now sitting.\n",
      "\n",
      "Your dog's name is Lucy.\n",
      "Your dog is 3 years old.\n",
      "Lucy is now sitting.\n"
     ]
    }
   ],
   "source": [
    "class Dog:\n",
    "    \"\"\"A simple attempt to model a dog.\"\"\"\n",
    "\n",
    "    def __init__(self, name, age):\n",
    "        \"\"\"Initialize name and age attributes.\"\"\"\n",
    "        self.name = name.title()\n",
    "        self.age = age\n",
    "\n",
    "    def sit(self):\n",
    "        \"\"\"Simulate a dog sitting in response to a command.\"\"\"\n",
    "        print(f\"{self.name} is now sitting.\")\n",
    "\n",
    "    def roll_over(self):\n",
    "        \"\"\"Simulate rolling over in response to a command.\"\"\"\n",
    "        print(f\"{self.name} rolled over!\")\n",
    "\n",
    "my_dog = Dog('willie', 6)\n",
    "your_dog = Dog('Lucy', 3)\n",
    "\n",
    "print(f\"My dog's name is {my_dog.name}.\")\n",
    "print(f\"My dog is {my_dog.age} years old.\")\n",
    "my_dog.sit()\n",
    "\n",
    "print(f\"\\nYour dog's name is {your_dog.name}.\")\n",
    "print(f\"Your dog is {your_dog.age} years old.\")\n",
    "your_dog.sit()"
   ]
  },
  {
   "cell_type": "markdown",
   "metadata": {},
   "source": [
    "## Try It Yourself\n",
    "\n",
    "9-1. Restaurant: Make a class called Restaurant. The `__init__()` method for Restaurant should store two attributes: a restaurant_name and a cuisine_type. Make a method called describe_restaurant() that prints these two pieces of information, and a method called open_restaurant() that prints a message indi-cating that the restaurant is open.\n",
    "\n",
    "Make an instance called restaurant from your class. Print the two attri-butes individually, and then call both methods.\n",
    "\n",
    "9-2. Three Restaurants: Start with your class from Exercise 9-1. Create three different instances from the class, and call describe_restaurant() for each instance.\n",
    "\n",
    "9-3. Users: Make a class called User. Create two attributes called first_nameand last_name, and then create several other attributes that are typically stored in a user profile. Make a method called describe_user() that prints a summary of the user’s information. Make another method called greet_user() that prints a personalized greeting to the user.\n",
    "\n",
    "Create several instances representing different users, and call both methods for each user."
   ]
  },
  {
   "cell_type": "code",
   "execution_count": 13,
   "metadata": {},
   "outputs": [
    {
     "name": "stdout",
     "output_type": "stream",
     "text": [
      "\n",
      "My favorite restaurant is Wonton Central and they offer chinese to eat.\n",
      "\n",
      "Your favorite resaurant is Texas Roadhouse and they offer barbecue as a cuisine.\n",
      "Wonton Central offers chinese as a cuisine option.\n"
     ]
    }
   ],
   "source": [
    "class Restaurant:\n",
    "    \"\"\"Create a model for a restaurant and its attributes.\"\"\"\n",
    "\n",
    "    def __init__(self, restaurant_name, cuisine_type):\n",
    "        self.restaurant_name = restaurant_name.title()\n",
    "        self.cuisine_type = cuisine_type\n",
    "\n",
    "    def describe_restaurant(self):\n",
    "        \"\"\"Prints the restaurant name and cuisine type.\"\"\"\n",
    "        print(f\"{self.restaurant_name} offers {self.cuisine_type} as a cuisine option.\")\n",
    "\n",
    "    \n",
    "    def open_restaurant(self):\n",
    "        \"\"\"Print a message indicating a restaurant is open.\"\"\"\n",
    "        print(f\"{self.restaurant_name} is now open for business!\")\n",
    "\n",
    "my_restaurant = Restaurant('wonton central', 'chinese')\n",
    "your_restaurant = Restaurant('texas roadhouse', 'barbecue')\n",
    "\n",
    "print(f\"\\nMy favorite restaurant is {my_restaurant.restaurant_name} and they offer {my_restaurant.cuisine_type} to eat.\")\n",
    "print(f\"\\nYour favorite resaurant is {your_restaurant.restaurant_name} and they offer {your_restaurant.cuisine_type} as a cuisine.\")\n",
    "\n",
    "my_restaurant.describe_restaurant()"
   ]
  },
  {
   "cell_type": "code",
   "execution_count": null,
   "metadata": {},
   "outputs": [],
   "source": []
  }
 ],
 "metadata": {
  "interpreter": {
   "hash": "382911a3b25c08601c92d532ecf77b76535fbec3aff100266cbea416b7e83b72"
  },
  "kernelspec": {
   "display_name": "Python 3.10.0 64-bit",
   "language": "python",
   "name": "python3"
  },
  "language_info": {
   "codemirror_mode": {
    "name": "ipython",
    "version": 3
   },
   "file_extension": ".py",
   "mimetype": "text/x-python",
   "name": "python",
   "nbconvert_exporter": "python",
   "pygments_lexer": "ipython3",
   "version": "3.10.0"
  },
  "orig_nbformat": 4
 },
 "nbformat": 4,
 "nbformat_minor": 2
}
