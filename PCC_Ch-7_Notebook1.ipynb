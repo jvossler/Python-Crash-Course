{
 "cells": [
  {
   "cell_type": "markdown",
   "metadata": {},
   "source": [
    "# Ch. 7: User Input and while Loops\n",
    "\n",
    "Most programs are written to solve an end\n",
    "user’s problem. To do so, you usually need\n",
    "to get some information from the user. For a\n",
    "simple example, let’s say someone wants to find\n",
    "out whether they’re old enough to vote. If you write a\n",
    "program to answer this question, you need to know the user’s age before\n",
    "you can provide an answer. The program will need to ask the user to enter,\n",
    "or input, their age; once the program has this input, it can compare it to the\n",
    "voting age to determine if the user is old enough and then report the result.\n",
    "\n",
    "In this chapter you’ll learn how to accept user input so your program\n",
    "can then work with it. When your program needs a name, you’ll be able\n",
    "to prompt the user for a name. When your program needs a list of names,\n",
    "you’ll be able to prompt the user for a series of names. To do this, you’ll use\n",
    "the **`input()`** function.\n",
    "\n",
    "You’ll also learn how to keep programs running as long as users want\n",
    "them to, so they can enter as much information as they need to; then, your\n",
    "program can work with that information. You’ll use Python’s **`while`** loop to\n",
    "keep programs running as long as certain conditions remain true.\n",
    "\n",
    "With the ability to work with user input and the ability to control how\n",
    "long your programs run, you’ll be able to write fully interactive programs."
   ]
  },
  {
   "cell_type": "markdown",
   "metadata": {},
   "source": [
    "# How the input() Function Works\n",
    "\n",
    "The **`input()`** function pauses your program and waits for the user to enter\n",
    "some text. Once Python receives the user’s input, it assigns that input to a\n",
    "variable to make it convenient for you to work with.\n",
    "\n",
    "For example, the following program asks the user to enter some text,\n",
    "then displays that message back to the user:\n",
    "\n",
    "The input() function takes one argument: the **`prompt`**, or instructions,\n",
    "that we want to display to the user so they know what to do. In this example,\n",
    "when Python runs the first line, the user sees the prompt Tell me something,\n",
    "and I will repeat it back to you: . The program waits while the user enters\n",
    "their response and continues after the user presses enter. The response is\n",
    "assigned to the variable message, then print(message) displays the input back to\n",
    "the user:\n",
    "\n",
    "**NOTE** Sublime Text and many other editors don’t run programs that prompt the user for input.\n",
    "You can use these editors to write programs that prompt for input, but you’ll need to run\n",
    "these programs from a terminal. See “Running Python Programs from a Terminal” on\n",
    "page 12."
   ]
  },
  {
   "cell_type": "code",
   "execution_count": 1,
   "metadata": {},
   "outputs": [
    {
     "name": "stdout",
     "output_type": "stream",
     "text": [
      "Hello World\n"
     ]
    }
   ],
   "source": [
    "message = input(\"Tell me something and I will repeat it back to you: \")\n",
    "print(message)"
   ]
  },
  {
   "cell_type": "markdown",
   "metadata": {},
   "source": [
    "## Writing Clear Prompts\n",
    "\n",
    "Each time you use the input() function, you should include a clear, easy-tofollow\n",
    "prompt that tells the user exactly what kind of information you’re\n",
    "looking for. Any statement that tells the user what to enter should work. For\n",
    "example:\n",
    "\n",
    "Add a space at the end of your prompts (after the colon in the preceding\n",
    "example) to separate the prompt from the user’s response and to make\n",
    "it clear to your user where to enter their text. For example:"
   ]
  },
  {
   "cell_type": "code",
   "execution_count": 2,
   "metadata": {},
   "outputs": [
    {
     "name": "stdout",
     "output_type": "stream",
     "text": [
      "\n",
      "Hello, Joe!\n"
     ]
    }
   ],
   "source": [
    "name = input(\"Please enter your name: \")\n",
    "print(f\"\\nHello, {name}!\")"
   ]
  },
  {
   "cell_type": "markdown",
   "metadata": {},
   "source": [
    "Sometimes you’ll want to write a prompt that’s longer than one line.\n",
    "For example, you might want to tell the user why you’re asking for certain\n",
    "input. You can assign your prompt to a variable and pass that variable to the\n",
    "input() function. This allows you to build your prompt over several lines,\n",
    "then write a clean input() statement.\n",
    "\n",
    "This example shows one way to build a multi-line string. The first line\n",
    "assigns the first part of the message to the variable prompt. In the second\n",
    "line, the operator += takes the string that was assigned to prompt and adds\n",
    "the new string onto the end.\n",
    "\n",
    "The prompt now spans two lines, again with space after the question\n",
    "mark for clarity:"
   ]
  },
  {
   "cell_type": "code",
   "execution_count": 3,
   "metadata": {},
   "outputs": [
    {
     "name": "stdout",
     "output_type": "stream",
     "text": [
      "\n",
      "Hello, Joe!\n"
     ]
    }
   ],
   "source": [
    "prompt = \"If you tell us who you are, we can personalize the messages you see.\"\n",
    "prompt += \"\\nWhat is your first name? \"\n",
    "\n",
    "name = input(prompt)\n",
    "print(f\"\\nHello, {name}!\")"
   ]
  },
  {
   "cell_type": "markdown",
   "metadata": {},
   "source": [
    "## Using int() to Accept Numerical Input\n",
    "**When you use the input() function, Python interprets everything the user\n",
    "enters as a string**. Consider the following interpreter session, which asks for\n",
    "the user’s age:\n",
    "\n",
    "The user enters the number 21, but when we ask Python for the value of\n",
    "age, it returns '21', the string representation of the numerical value entered.\n",
    "We know Python interpreted the input as a string because the number is now\n",
    "enclosed in quotes. If all you want to do is print the input, this works well. But\n",
    "if you try to use the input as a number, you’ll get an error:\n",
    "\n",
    "> age = input(\"How old are you? \")\n",
    ">> How old are you? 21\n",
    "\n",
    "> age >= 18\n",
    ">>> Traceback (most recent call last):\n",
    ">>> File \"<stdin>\", line 1, in <module>\n",
    ">>> TypeError: unorderable types: str() >= int()"
   ]
  },
  {
   "cell_type": "code",
   "execution_count": 5,
   "metadata": {},
   "outputs": [
    {
     "data": {
      "text/plain": [
       "'21'"
      ]
     },
     "execution_count": 5,
     "metadata": {},
     "output_type": "execute_result"
    }
   ],
   "source": [
    "age = input(\"How old are you?\")\n",
    "age"
   ]
  },
  {
   "cell_type": "code",
   "execution_count": null,
   "metadata": {},
   "outputs": [],
   "source": []
  }
 ],
 "metadata": {
  "interpreter": {
   "hash": "382911a3b25c08601c92d532ecf77b76535fbec3aff100266cbea416b7e83b72"
  },
  "kernelspec": {
   "display_name": "Python 3.10.0 64-bit",
   "name": "python3"
  },
  "language_info": {
   "codemirror_mode": {
    "name": "ipython",
    "version": 3
   },
   "file_extension": ".py",
   "mimetype": "text/x-python",
   "name": "python",
   "nbconvert_exporter": "python",
   "pygments_lexer": "ipython3",
   "version": "3.10.0"
  },
  "orig_nbformat": 4
 },
 "nbformat": 4,
 "nbformat_minor": 2
}
