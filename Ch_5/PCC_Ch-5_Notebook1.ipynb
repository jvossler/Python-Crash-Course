{
 "cells": [
  {
   "cell_type": "markdown",
   "metadata": {},
   "source": [
    "# If Statements"
   ]
  },
  {
   "cell_type": "markdown",
   "metadata": {},
   "source": [
    "Programming often involves examining\n",
    "a set of conditions and deciding which\n",
    "action to take based on those conditions.\n",
    "Python’s **`if`** statement allows you to examine the\n",
    "current state of a program and respond appropriately\n",
    "to that state.\n",
    "\n",
    "In this chapter you’ll learn to write conditional tests, which allow you to\n",
    "check any condition of interest. You’ll learn to write simple if statements,\n",
    "and you’ll learn how to create a more complex series of if statements to\n",
    "identify when the exact conditions you want are present. You’ll then apply\n",
    "this concept to lists, so you’ll be able to write a for loop that handles most\n",
    "items in a list one way but handles certain items with specific values in a\n",
    "different way."
   ]
  },
  {
   "cell_type": "markdown",
   "metadata": {},
   "source": [
    "The following short example shows how if tests let you respond to special\n",
    "situations correctly. Imagine you have a list of cars and you want to print\n",
    "out the name of each car. Car names are proper names, so the names of\n",
    "most cars should be printed in title case. However, the value 'bmw' should\n",
    "be printed in all uppercase. The following code loops through a list of car\n",
    "names and looks for the value 'bmw'. Whenever the value is 'bmw', it’s printed\n",
    "in uppercase instead of title case:\n",
    "\n",
    "The loop in this example first checks if the current value of car is 'bmw' u.\n",
    "If it is, the value is printed in uppercase. If the value of car is anything other\n",
    "than 'bmw', it’s printed in title case:"
   ]
  },
  {
   "cell_type": "code",
   "execution_count": 1,
   "metadata": {},
   "outputs": [
    {
     "name": "stdout",
     "output_type": "stream",
     "text": [
      "Audi\n",
      "BMW\n",
      "Subaru\n",
      "Toyota\n"
     ]
    }
   ],
   "source": [
    "cars = ['audi', 'bmw', 'subaru', 'toyota']\n",
    "\n",
    "for car in cars:\n",
    "    if car == 'bmw':\n",
    "        print(car.upper())\n",
    "    else:\n",
    "        print(car.title())"
   ]
  },
  {
   "cell_type": "markdown",
   "metadata": {},
   "source": [
    "# Conditional Tests\n",
    "\n",
    "At the heart of every if statement is an expression that can be evaluated as\n",
    "**True or False** and is called a **`conditional test`**. Python uses the values True and\n",
    "False to decide whether the code in an if statement should be executed. If a\n",
    "conditional test evaluates to True, Python executes the code following the if\n",
    "statement. If the test evaluates to False, Python ignores the code following\n",
    "the if statement."
   ]
  },
  {
   "cell_type": "markdown",
   "metadata": {},
   "source": [
    "## Checking for Equality\n",
    "\n",
    "Most conditional tests compare the current value of a variable to a specific\n",
    "value of interest. The simplest conditional test checks whether the value of a\n",
    "variable is equal to the value of interest:\n",
    "\n",
    "The line at u sets the value of car to 'bmw' using a single equal sign,\n",
    "as you’ve seen many times already. The line at v checks whether the value\n",
    "of car is 'bmw' using a double equal sign (==). This equality operator returns\n",
    "True if the values on the left and right side of the operator match, and\n",
    "False if they don’t match. The values in this example match, so Python\n",
    "returns True.\n",
    "When the value of car is anything other than 'bmw', this test returns\n",
    "False:\n",
    "\n",
    "**A single equal sign is really a statement**; you might read the code at u\n",
    "as “Set the value of car equal to 'audi'.” On the other hand, a double equal\n",
    "sign, like the one at v, asks a question: “Is the value of car equal to 'bmw'?”\n",
    "Most programming languages use equal signs in this way."
   ]
  },
  {
   "cell_type": "code",
   "execution_count": 2,
   "metadata": {},
   "outputs": [
    {
     "data": {
      "text/plain": [
       "True"
      ]
     },
     "execution_count": 2,
     "metadata": {},
     "output_type": "execute_result"
    }
   ],
   "source": [
    "car = 'bmw'\n",
    "car == 'bmw'"
   ]
  },
  {
   "cell_type": "code",
   "execution_count": 3,
   "metadata": {},
   "outputs": [
    {
     "data": {
      "text/plain": [
       "False"
      ]
     },
     "execution_count": 3,
     "metadata": {},
     "output_type": "execute_result"
    }
   ],
   "source": [
    "car = 'bmw'\n",
    "car == 'audi'"
   ]
  },
  {
   "cell_type": "markdown",
   "metadata": {},
   "source": [
    "## Ignoring Case When Checking for Equality\n",
    "\n",
    "Testing for equality is case sensitive in Python. For example, two values with\n",
    "different capitalization are not considered equal:\n",
    "\n",
    "If case matters, this behavior is advantageous. But if case doesn’t matter\n",
    "and instead you just want to test the value of a variable, you can convert the\n",
    "variable’s value to lowercase before doing the comparison: \n",
    "\n",
    "This test would return True no matter how the value 'Audi' is formatted\n",
    "because the test is now case insensitive. The lower() function doesn’t change\n",
    "the value that was originally stored in car, so you can do this kind of comparison\n",
    "without affecting the original variable:"
   ]
  },
  {
   "cell_type": "markdown",
   "metadata": {},
   "source": [
    "**Websites enforce certain rules for the data that users enter in a manner similar to this**. For example, a site might use a conditional test\n",
    "like this to ensure that every user has a truly unique username, not just a\n",
    "variation on the capitalization of another person’s username. When someone\n",
    "submits a new username, that new username is converted to lowercase\n",
    "and compared to the lowercase versions of all existing usernames. During\n",
    "this check, a username like 'John' will be rejected if any variation of 'john'\n",
    "is already in use."
   ]
  },
  {
   "cell_type": "code",
   "execution_count": 4,
   "metadata": {},
   "outputs": [
    {
     "data": {
      "text/plain": [
       "False"
      ]
     },
     "execution_count": 4,
     "metadata": {},
     "output_type": "execute_result"
    }
   ],
   "source": [
    "car = 'Audi'\n",
    "car == 'audi'"
   ]
  },
  {
   "cell_type": "code",
   "execution_count": 5,
   "metadata": {},
   "outputs": [
    {
     "data": {
      "text/plain": [
       "True"
      ]
     },
     "execution_count": 5,
     "metadata": {},
     "output_type": "execute_result"
    }
   ],
   "source": [
    "car = 'Audi'\n",
    "car.lower() == 'audi'"
   ]
  },
  {
   "cell_type": "code",
   "execution_count": 6,
   "metadata": {},
   "outputs": [
    {
     "data": {
      "text/plain": [
       "'Audi'"
      ]
     },
     "execution_count": 6,
     "metadata": {},
     "output_type": "execute_result"
    }
   ],
   "source": [
    "# The value stored in car has not been affected by the lower() method.\n",
    "car"
   ]
  },
  {
   "cell_type": "markdown",
   "metadata": {},
   "source": [
    "## Checking for Inequality\n",
    "\n",
    "When you want to determine whether two values are not equal, you can\n",
    "combine an exclamation point and an equal sign (**`!=`**). The exclamation\n",
    "point represents ***not***, as it does in many programming languages.\n",
    "\n",
    "Let’s use another if statement to examine how to use the inequality\n",
    "operator. We’ll store a requested pizza topping in a variable and then print\n",
    "a message if the person did not order anchovies:\n",
    "\n",
    "The line at u compares the value of requested_topping to the value\n",
    "'anchovies'. If these two values do not match, Python returns True and executes\n",
    "the code following the if statement. If the two values match, Python\n",
    "returns False and does not run the code following the if statement.\n",
    "\n",
    "Because the value of requested_topping is not 'anchovies', the print()\n",
    "function is executed:"
   ]
  },
  {
   "cell_type": "code",
   "execution_count": 7,
   "metadata": {},
   "outputs": [
    {
     "name": "stdout",
     "output_type": "stream",
     "text": [
      "Hold the anchovies!\n"
     ]
    }
   ],
   "source": [
    "requested_topping = 'mushrooms'\n",
    "\n",
    "if requested_topping != 'anchovies':\n",
    "    print('Hold the anchovies!')"
   ]
  },
  {
   "cell_type": "markdown",
   "metadata": {},
   "source": [
    "*Most of the conditional expressions you write will test for equality, but sometimes you’ll find it more efficient to test for inequality.*"
   ]
  },
  {
   "cell_type": "markdown",
   "metadata": {},
   "source": [
    "## Numerical Comparisons\n",
    "\n",
    "Testing numerical values is pretty straightforward. For example, the following\n",
    "code checks whether a person is 18 years old:"
   ]
  },
  {
   "cell_type": "code",
   "execution_count": 8,
   "metadata": {},
   "outputs": [
    {
     "data": {
      "text/plain": [
       "True"
      ]
     },
     "execution_count": 8,
     "metadata": {},
     "output_type": "execute_result"
    }
   ],
   "source": [
    "age = 18\n",
    "\n",
    "age == 18"
   ]
  },
  {
   "cell_type": "markdown",
   "metadata": {},
   "source": [
    "You can also test to see if two numbers are not equal. For example, the\n",
    "following code prints a message if the given answer is not correct:\n",
    "\n",
    "The conditional test at u passes, because the value of answer (17) is not\n",
    "equal to 42. Because the test passes, the indented code block is executed:"
   ]
  },
  {
   "cell_type": "code",
   "execution_count": 9,
   "metadata": {},
   "outputs": [
    {
     "name": "stdout",
     "output_type": "stream",
     "text": [
      "That is not the correct answer. Please try again!\n"
     ]
    }
   ],
   "source": [
    "answer = 17\n",
    "\n",
    "if answer != 42:\n",
    "    print(\"That is not the correct answer. Please try again!\")"
   ]
  },
  {
   "cell_type": "markdown",
   "metadata": {},
   "source": [
    "You can include various mathematical comparisons in your conditional\n",
    "statements as well, such as less than, less than or equal to, greater than, and\n",
    "greater than or equal to:\n",
    "\n",
    "***Each mathematical comparison can be used as part of an if statement, which can help you detect the exact conditions of interest.***"
   ]
  },
  {
   "cell_type": "code",
   "execution_count": 10,
   "metadata": {},
   "outputs": [
    {
     "data": {
      "text/plain": [
       "True"
      ]
     },
     "execution_count": 10,
     "metadata": {},
     "output_type": "execute_result"
    }
   ],
   "source": [
    "age = 19\n",
    "\n",
    "age < 21"
   ]
  },
  {
   "cell_type": "code",
   "execution_count": 11,
   "metadata": {},
   "outputs": [
    {
     "data": {
      "text/plain": [
       "True"
      ]
     },
     "execution_count": 11,
     "metadata": {},
     "output_type": "execute_result"
    }
   ],
   "source": [
    "age <= 21"
   ]
  },
  {
   "cell_type": "code",
   "execution_count": 12,
   "metadata": {},
   "outputs": [
    {
     "data": {
      "text/plain": [
       "False"
      ]
     },
     "execution_count": 12,
     "metadata": {},
     "output_type": "execute_result"
    }
   ],
   "source": [
    "age > 21"
   ]
  },
  {
   "cell_type": "code",
   "execution_count": 13,
   "metadata": {},
   "outputs": [
    {
     "data": {
      "text/plain": [
       "False"
      ]
     },
     "execution_count": 13,
     "metadata": {},
     "output_type": "execute_result"
    }
   ],
   "source": [
    "age >= 21"
   ]
  },
  {
   "cell_type": "markdown",
   "metadata": {},
   "source": [
    "## Checking Multiple Conditions\n",
    "\n",
    "You may want to check multiple conditions at the same time. For example,\n",
    "sometimes you might need two conditions to be True to take an action. Other\n",
    "times you might be satisfied with just one condition being True. The keywords\n",
    "and and or can help you in these situations."
   ]
  },
  {
   "cell_type": "markdown",
   "metadata": {},
   "source": [
    "### Using `and` to Check Multiple Conditions\n",
    "\n",
    "To check whether two conditions are both True simultaneously, use the keyword\n",
    "and to combine the two conditional tests; if each test passes, the overall\n",
    "expression evaluates to True. If either test fails or if both tests fail, the\n",
    "expression evaluates to False.\n",
    "\n",
    "For example, you can check whether two people are both over 21 using\n",
    "the following test:\n",
    "\n",
    "At u we define two ages, age_0 and age_1. At v we check whether both\n",
    "ages are 21 or older. The test on the left passes, but the test on the right fails,\n",
    "so the overall conditional expression evaluates to False. At w we change age_1\n",
    "to 22. The value of age_1 is now greater than 21, so both individual tests pass,\n",
    "causing the overall conditional expression to evaluate as True."
   ]
  },
  {
   "cell_type": "code",
   "execution_count": 14,
   "metadata": {},
   "outputs": [
    {
     "data": {
      "text/plain": [
       "False"
      ]
     },
     "execution_count": 14,
     "metadata": {},
     "output_type": "execute_result"
    }
   ],
   "source": [
    "age_0 = 22\n",
    "age_1 = 18\n",
    "\n",
    "age_0 >= 21 and age_1 >= 21"
   ]
  },
  {
   "cell_type": "code",
   "execution_count": 15,
   "metadata": {},
   "outputs": [
    {
     "data": {
      "text/plain": [
       "True"
      ]
     },
     "execution_count": 15,
     "metadata": {},
     "output_type": "execute_result"
    }
   ],
   "source": [
    "age_0 = 22\n",
    "age_1 = 23\n",
    "\n",
    "age_0 >= 21 and age_1 >= 21"
   ]
  },
  {
   "cell_type": "markdown",
   "metadata": {},
   "source": [
    "To improve readability, you can use parentheses around the individual\n",
    "tests, but they are not required. If you use parentheses, your test would look\n",
    "like this:"
   ]
  },
  {
   "cell_type": "code",
   "execution_count": 16,
   "metadata": {},
   "outputs": [
    {
     "data": {
      "text/plain": [
       "True"
      ]
     },
     "execution_count": 16,
     "metadata": {},
     "output_type": "execute_result"
    }
   ],
   "source": [
    "(age_0 >= 21) and (age_1 >= 21)"
   ]
  },
  {
   "cell_type": "markdown",
   "metadata": {},
   "source": [
    "### Using `or` to Check Multiple Conditions\n",
    "\n",
    "The keyword or allows you to check multiple conditions as well, but it\n",
    "passes when either or both of the individual tests pass. An or expression\n",
    "fails only when both individual tests fail.\n",
    "\n",
    "Let’s consider two ages again, but this time we’ll look for only one person\n",
    "to be over 21:\n",
    "\n",
    "We start with two age variables again at u. Because the test for age_0 at v\n",
    "passes, the overall expression evaluates to True. We then lower age_0 to 18. In\n",
    "the test at w, both tests now fail and the overall expression evaluates to False."
   ]
  },
  {
   "cell_type": "code",
   "execution_count": 17,
   "metadata": {},
   "outputs": [
    {
     "data": {
      "text/plain": [
       "True"
      ]
     },
     "execution_count": 17,
     "metadata": {},
     "output_type": "execute_result"
    }
   ],
   "source": [
    "age_0 = 22\n",
    "age_1 = 18\n",
    "\n",
    "age_0 >= 21 or age_1 >= 21"
   ]
  },
  {
   "cell_type": "code",
   "execution_count": 18,
   "metadata": {},
   "outputs": [
    {
     "data": {
      "text/plain": [
       "False"
      ]
     },
     "execution_count": 18,
     "metadata": {},
     "output_type": "execute_result"
    }
   ],
   "source": [
    "age_0 = 18\n",
    "age_1 = 18\n",
    "\n",
    "age_0 >= 21 or age_1 >= 21"
   ]
  },
  {
   "cell_type": "markdown",
   "metadata": {},
   "source": [
    "## Checking Whether a Value Is in a List\n",
    "\n",
    "Sometimes it’s important to check whether a list contains a certain value\n",
    "before taking an action. For example, you might want to check whether a\n",
    "new username already exists in a list of current usernames before completing\n",
    "someone’s registration on a website. In a mapping project, you might\n",
    "want to check whether a submitted location already exists in a list of known\n",
    "locations.\n",
    "\n",
    "To find out whether a particular value is already in a list, use the keyword\n",
    "in. Let’s consider some code you might write for a pizzeria. We’ll\n",
    "make a list of toppings a customer has requested for a pizza and then\n",
    "check whether certain toppings are in the list.\n",
    "\n",
    "At u and v, the keyword in tells Python to check for the existence of\n",
    "'mushrooms' and 'pepperoni' in the list requested_toppings. This technique is\n",
    "quite powerful because you can create a list of essential values, and then\n",
    "easily check whether the value you’re testing matches one of the values in\n",
    "the list."
   ]
  },
  {
   "cell_type": "code",
   "execution_count": 19,
   "metadata": {},
   "outputs": [
    {
     "data": {
      "text/plain": [
       "True"
      ]
     },
     "execution_count": 19,
     "metadata": {},
     "output_type": "execute_result"
    }
   ],
   "source": [
    "requested_toppings = ['mushrooms', 'onions', 'pineapple']\n",
    "'mushrooms' in requested_toppings"
   ]
  },
  {
   "cell_type": "code",
   "execution_count": 20,
   "metadata": {},
   "outputs": [
    {
     "data": {
      "text/plain": [
       "False"
      ]
     },
     "execution_count": 20,
     "metadata": {},
     "output_type": "execute_result"
    }
   ],
   "source": [
    "'pepperoni' in requested_toppings"
   ]
  },
  {
   "cell_type": "markdown",
   "metadata": {},
   "source": [
    "## Checking Whether a Value Is Not in a List\n",
    "\n",
    "Other times, it’s important to know if a value does not appear in a list. You\n",
    "can use the keyword not in this situation. For example, consider a list of users\n",
    "who are banned from commenting in a forum. You can check whether a\n",
    "user has been banned before allowing that person to submit a comment:\n",
    "\n",
    "The line at u reads quite clearly. If the value of user is not in the list\n",
    "banned_users, Python returns True and executes the indented line.\n",
    "\n",
    "The user 'marie' is not in the list banned_users, so she sees a message\n",
    "inviting her to post a response:"
   ]
  },
  {
   "cell_type": "code",
   "execution_count": 21,
   "metadata": {},
   "outputs": [
    {
     "name": "stdout",
     "output_type": "stream",
     "text": [
      "Marie, you can post a reponse if you wish.\n"
     ]
    }
   ],
   "source": [
    "banned_users = ['andrew', 'carolina', 'david']\n",
    "# user_input = str(input())\n",
    "user = 'marie'\n",
    "\n",
    "if user in banned_users:\n",
    "    print(f\"{user.title()}, you have been banned from posting to this chat.\")\n",
    "elif user not in banned_users:\n",
    "    print(f\"{user.title()}, you can post a reponse if you wish.\")"
   ]
  },
  {
   "cell_type": "markdown",
   "metadata": {},
   "source": [
    "# Boolean Expressions\n",
    "\n",
    "As you learn more about programming, you’ll hear the term Boolean\n",
    "expression at some point. A Boolean expression is just another name for a\n",
    "conditional test. A Boolean value is either True or False, just like the value\n",
    "of a conditional expression after it has been evaluated.\n",
    "\n",
    "Boolean values are often used to keep track of certain conditions, such\n",
    "as whether a game is running or whether a user can edit certain content on\n",
    "a website:\n",
    "\n",
    "Boolean values provide an efficient way to track the state of a program\n",
    "or a particular condition that is important in your program."
   ]
  },
  {
   "cell_type": "code",
   "execution_count": 22,
   "metadata": {},
   "outputs": [],
   "source": [
    "game_active = True\n",
    "can_edit = False"
   ]
  },
  {
   "cell_type": "markdown",
   "metadata": {},
   "source": [
    "### Try It Yourself\n",
    "5-1. Conditional Tests: Write a series of conditional tests. Print a statement\n",
    "describing each test and your prediction for the results of each test. Your code\n",
    "should look something like this:\n",
    "\n",
    "car = 'subaru'\n",
    "\n",
    "print(\"Is car == 'subaru'? I predict True.\")\n",
    "\n",
    "print(car == 'subaru')\n",
    "\n",
    "print(\"\\nIs car == 'audi'? I predict False.\")\n",
    "\n",
    "print(car == 'audi')\n",
    "\n",
    "- Look closely at your results, and make sure you understand why each line\n",
    "evaluates to True or False.\n",
    "- Create at least ten tests. Have at least five tests evaluate to True and\n",
    "another five tests evaluate to False.\n",
    "\n",
    "5-2. More Conditional Tests: You don’t have to limit the number of tests you\n",
    "create to ten. If you want to try more comparisons, write more tests and add\n",
    "them to conditional_tests.py. Have at least one True and one False result for\n",
    "each of the following:\n",
    "- Tests for equality and inequality with strings\n",
    "- Tests using the lower() method\n",
    "- Numerical tests involving equality and inequality, greater than and\n",
    "less than, greater than or equal to, and less than or equal to\n",
    "- Tests using the and keyword and the or keyword\n",
    "- Test whether an item is in a list\n",
    "- Test whether an item is not in a list"
   ]
  },
  {
   "cell_type": "code",
   "execution_count": 23,
   "metadata": {},
   "outputs": [
    {
     "name": "stdout",
     "output_type": "stream",
     "text": [
      "Is car == 'subaru'? I predict True.\n",
      "True\n",
      "\n",
      "Is car == 'audi'? I predict False.\n",
      "False\n"
     ]
    }
   ],
   "source": [
    "car = 'subaru'\n",
    "print(\"Is car == 'subaru'? I predict True.\")\n",
    "print(car == 'subaru')\n",
    "\n",
    "print(\"\\nIs car == 'audi'? I predict False.\")\n",
    "print(car == 'audi')"
   ]
  },
  {
   "cell_type": "markdown",
   "metadata": {},
   "source": [
    "# if Statements\n",
    "\n",
    "When you understand conditional tests, you can start writing if statements.\n",
    "Several different kinds of if statements exist, and your choice of which to\n",
    "use depends on the number of conditions you need to test. You saw several\n",
    "examples of if statements in the discussion about conditional tests, but now\n",
    "let’s dig deeper into the topic."
   ]
  },
  {
   "cell_type": "markdown",
   "metadata": {},
   "source": [
    "## Simple if Statements\n",
    "\n",
    "The simplest kind of if statement has one test and one action:\n",
    "\n",
    "if conditional_test:\n",
    "- do something"
   ]
  },
  {
   "cell_type": "markdown",
   "metadata": {},
   "source": [
    "You can put any conditional test in the first line and just about any\n",
    "action in the indented block following the test. If the conditional test\n",
    "evaluates to True, Python executes the code following the if statement.\n",
    "If the test evaluates to False, Python ignores the code following the if\n",
    "statement.\n",
    "\n",
    "Let’s say we have a variable representing a person’s age, and we want to\n",
    "know if that person is old enough to vote. The following code tests whether\n",
    "the person can vote:\n",
    "\n",
    "At u Python checks to see whether the value of age is greater than or\n",
    "equal to 18. It is, so Python executes the indented print() call at v:"
   ]
  },
  {
   "cell_type": "code",
   "execution_count": 24,
   "metadata": {},
   "outputs": [
    {
     "name": "stdout",
     "output_type": "stream",
     "text": [
      "You are old enough to vote!\n"
     ]
    }
   ],
   "source": [
    "age = 19\n",
    "\n",
    "if age >= 18:\n",
    "    print(\"You are old enough to vote!\")"
   ]
  },
  {
   "cell_type": "markdown",
   "metadata": {},
   "source": [
    "Indentation plays the same role in if statements as it did in for loops.\n",
    "All indented lines after an if statement will be executed if the test passes,\n",
    "and the entire block of indented lines will be ignored if the test does\n",
    "not pass.\n",
    "\n",
    "You can have as many lines of code as you want in the block following\n",
    "the if statement. Let’s add another line of output if the person is old\n",
    "enough to vote, asking if the individual has registered to vote yet:\n",
    "\n",
    "The conditional test passes, and both print() calls are indented, so both\n",
    "lines are printed:\n",
    "\n",
    "If the value of age is less than 18, this program would produce no\n",
    "output."
   ]
  },
  {
   "cell_type": "code",
   "execution_count": 25,
   "metadata": {},
   "outputs": [
    {
     "name": "stdout",
     "output_type": "stream",
     "text": [
      "You are old enough to vote!\n",
      "Have you registered to vote yet?\n"
     ]
    }
   ],
   "source": [
    "age = 19\n",
    "\n",
    "if age >= 18:\n",
    "    print(\"You are old enough to vote!\")\n",
    "    print(\"Have you registered to vote yet?\")"
   ]
  },
  {
   "cell_type": "markdown",
   "metadata": {},
   "source": [
    "## if-else Statements\n",
    "\n",
    "Often, you’ll want to take one action when a conditional test passes and a different\n",
    "action in all other cases. Python’s if-else syntax makes this possible.\n",
    "An if-else block is similar to a simple if statement, but the else statement\n",
    "allows you to define an action or set of actions that are executed when the\n",
    "conditional test fails.\n",
    "\n",
    "We’ll display the same message we had previously if the person is old\n",
    "enough to vote, but this time we’ll add a message for anyone who is not\n",
    "old enough to vote:\n",
    "\n",
    "If the conditional test at u passes, the first block of indented print()\n",
    "calls is executed. If the test evaluates to False, the else block at v is executed.\n",
    "Because age is less than 18 this time, the conditional test fails and\n",
    "the code in the else block is executed:\n",
    "\n",
    "This code works because it has only two possible situations to evaluate:\n",
    "a person is either old enough to vote or not old enough to vote. The if-else\n",
    "structure works well in situations in which you want Python to always execute\n",
    "one of two possible actions. In a simple if-else chain like this, one of the two\n",
    "actions will always be executed."
   ]
  },
  {
   "cell_type": "code",
   "execution_count": 26,
   "metadata": {},
   "outputs": [
    {
     "name": "stdout",
     "output_type": "stream",
     "text": [
      "You are old enough to vote!\n",
      "Have you registered to vote yet?\n"
     ]
    }
   ],
   "source": [
    "age = 18\n",
    "# age = int(input())\n",
    "\n",
    "if age >= 18:\n",
    "    print(\"You are old enough to vote!\")\n",
    "    print(\"Have you registered to vote yet?\")\n",
    "else:\n",
    "    print(\"Sorry, you are too young to vote.\")\n",
    "    print(\"Please register to vote as soon as you turn 18!\")"
   ]
  },
  {
   "cell_type": "markdown",
   "metadata": {},
   "source": [
    "## The if-elif-else Chain\n",
    "\n",
    "Often, you’ll need to test more than two possible situations, and to evaluate\n",
    "these you can use Python’s if-elif-else syntax. Python executes only one\n",
    "block in an if-elif-else chain. It runs each conditional test in order until\n",
    "one passes. When a test passes, the code following that test is executed and\n",
    "Python skips the rest of the tests.\n",
    "\n",
    "Many real-world situations involve more than two possible conditions.\n",
    "For example, consider an amusement park that charges different rates for\n",
    "different age groups:\n",
    "- Admission for anyone under age 4 is free.\n",
    "- Admission for anyone between the ages of 4 and 18 is $25.\n",
    "- Admission for anyone age 18 or older is $40.\n",
    "\n",
    "How can we use an if statement to determine a person’s admission rate?\n",
    "The following code tests for the age group of a person and then prints an\n",
    "admission price message:\n",
    "\n",
    "The if test at u tests whether a person is under 4 years old. If the test\n",
    "passes, an appropriate message is printed and Python skips the rest of the\n",
    "tests. The elif line at v is really another if test, which runs only if the previous\n",
    "test failed. At this point in the chain, we know the person is at least\n",
    "4 years old because the first test failed. If the person is under 18, an appropriate\n",
    "message is printed and Python skips the else block. If both the if\n",
    "and elif tests fail, Python runs the code in the else block at w.\n",
    "\n",
    "In this example the test at u evaluates to False, so its code block is not\n",
    "executed. However, the second test evaluates to True (12 is less than 18) so\n",
    "its code is executed. The output is one sentence, informing the user of the\n",
    "admission cost:"
   ]
  },
  {
   "cell_type": "code",
   "execution_count": 27,
   "metadata": {},
   "outputs": [
    {
     "name": "stdout",
     "output_type": "stream",
     "text": [
      "Your admission cost is $25.\n"
     ]
    }
   ],
   "source": [
    "age = 12\n",
    "\n",
    "if age < 4:\n",
    "    print(\"Your admission cost is $0.\")\n",
    "elif age < 18:\n",
    "    print(\"Your admission cost is $25.\")\n",
    "else:\n",
    "    print(\"Your admission cose if $40.\")"
   ]
  },
  {
   "cell_type": "markdown",
   "metadata": {},
   "source": [
    "Any age greater than 17 would cause the first two tests to fail. In these\n",
    "situations, the else block would be executed and the admission price would\n",
    "be $40.\n",
    "\n",
    "Rather than printing the admission price within the if-elif-else block,\n",
    "it would be more concise to set just the price inside the if-elif-else chain\n",
    "and then have a simple print() call that runs after the chain has been\n",
    "evaluated:"
   ]
  },
  {
   "cell_type": "code",
   "execution_count": 28,
   "metadata": {},
   "outputs": [
    {
     "name": "stdout",
     "output_type": "stream",
     "text": [
      "Your admission cost is $25.\n"
     ]
    }
   ],
   "source": [
    "age = 12\n",
    "\n",
    "if age < 4:\n",
    "    price = 0\n",
    "elif age < 18:\n",
    "    price = 25\n",
    "else:\n",
    "    price = 40\n",
    "\n",
    "print(f\"Your admission cost is ${price}.\")"
   ]
  },
  {
   "cell_type": "markdown",
   "metadata": {},
   "source": [
    "The lines at u, v, and w set the value of price according to the person’s\n",
    "age, as in the previous example. After the price is set by the if-elif-else chain,\n",
    "a separate unindented print() call  uses this value to display a message\n",
    "reporting the person’s admission price.\n",
    "\n",
    "This code produces the same output as the previous example, but the\n",
    "purpose of the if-elif-else chain is narrower. Instead of determining a\n",
    "price and displaying a message, it simply determines the admission price.\n",
    "In addition to being more efficient, this revised code is easier to modify\n",
    "than the original approach. To change the text of the output message,\n",
    "you would need to change only one print() call rather than three separate\n",
    "print() calls."
   ]
  },
  {
   "cell_type": "markdown",
   "metadata": {},
   "source": [
    "## Using Multiple elif Blocks\n",
    "\n",
    "You can use as many elif blocks in your code as you like. For example, if the\n",
    "amusement park were to implement a discount for seniors, you could add\n",
    "one more conditional test to the code to determine whether someone qualified\n",
    "for the senior discount. Let’s say that anyone 65 or older pays half the\n",
    "regular admission, or $20:\n",
    "\n",
    "Most of this code is unchanged. The second elif block at u now checks\n",
    "to make sure a person is less than age 65 before assigning them the full\n",
    "admission rate of $40. Notice that the value assigned in the else block at v\n",
    "needs to be changed to $20, because the only ages that make it to this block\n",
    "are people 65 or older."
   ]
  },
  {
   "cell_type": "code",
   "execution_count": 29,
   "metadata": {},
   "outputs": [
    {
     "name": "stdout",
     "output_type": "stream",
     "text": [
      "Youir admission cost is $25.\n"
     ]
    }
   ],
   "source": [
    "age = 12\n",
    "\n",
    "if age < 4:\n",
    "    proce = 0\n",
    "elif age < 18:\n",
    "    price = 25\n",
    "elif age < 65:\n",
    "    price = 40\n",
    "else:\n",
    "    price = 20\n",
    "\n",
    "print(f\"Youir admission cost is ${price}.\")"
   ]
  },
  {
   "cell_type": "markdown",
   "metadata": {},
   "source": [
    "## Omitting the else Block\n",
    "\n",
    "Python does not require an else block at the end of an if-elif chain. Sometimes\n",
    "an else block is useful; sometimes it is clearer to use an additional\n",
    "elif statement that catches the specific condition of interest:\n",
    "\n",
    "The extra elif block at u assigns a price of $20 when the person is 65\n",
    "or older, which is a bit clearer than the general else block. With this change,\n",
    "every block of code must pass a specific test in order to be executed.\n",
    "\n",
    "The else block is a catchall statement. It matches any condition that\n",
    "wasn’t matched by a specific if or elif test, and that can sometimes include\n",
    "invalid or even malicious data. If you have a specific final condition you are\n",
    "testing for, consider using a final elif block and omit the else block. As a\n",
    "result, you’ll gain extra confidence that your code will run only under the\n",
    "correct conditions."
   ]
  },
  {
   "cell_type": "code",
   "execution_count": 30,
   "metadata": {},
   "outputs": [
    {
     "name": "stdout",
     "output_type": "stream",
     "text": [
      "Youir admission cost is $25.\n"
     ]
    }
   ],
   "source": [
    "age = 12\n",
    "\n",
    "if age < 4:\n",
    "    proce = 0\n",
    "elif age < 18:\n",
    "    price = 25\n",
    "elif age < 65:\n",
    "    price = 40\n",
    "elif age >= 65:\n",
    "    price = 20\n",
    "\n",
    "print(f\"Youir admission cost is ${price}.\")"
   ]
  },
  {
   "cell_type": "markdown",
   "metadata": {},
   "source": [
    "## Testing Multiple Conditions\n",
    "\n",
    "The if-elif-else chain is powerful, but it’s only appropriate to use when you\n",
    "just need one test to pass. As soon as Python finds one test that passes, it\n",
    "skips the rest of the tests. This behavior is beneficial, because it’s efficient\n",
    "and allows you to test for one specific condition.\n",
    "\n",
    "However, sometimes it’s important to check all of the conditions of\n",
    "interest. In this case, you should use a series of simple if statements with no\n",
    "elif or else blocks. This technique makes sense when more than one condition\n",
    "could be True, and you want to act on every condition that is True.\n",
    "\n",
    "Let’s reconsider the pizzeria example. If someone requests a two-topping\n",
    "pizza, you’ll need to be sure to include both toppings on their pizza:\n",
    "\n",
    "We start at u with a list containing the requested toppings. The if\n",
    "statement at v checks to see whether the person requested mushrooms\n",
    "on their pizza. If so, a message is printed confirming that topping. The\n",
    "test for pepperoni at w is another simple if statement, not an elif or else\n",
    "statement, so this test is run regardless of whether the previous test passed\n",
    "or not. The code at x checks whether extra cheese was requested regardless\n",
    "of the results from the first two tests. These three independent tests\n",
    "are executed every time this program is run.\n",
    "\n",
    "Because every condition in this example is evaluated, both mushrooms\n",
    "and extra cheese are added to the pizza:\n",
    "\n",
    "In summary, if you want only one block of code to run, use an if-elifelse\n",
    "chain. If more than one block of code needs to run, use a series of\n",
    "independent if statements."
   ]
  },
  {
   "cell_type": "code",
   "execution_count": 31,
   "metadata": {},
   "outputs": [
    {
     "name": "stdout",
     "output_type": "stream",
     "text": [
      "Adding mushrooms.\n",
      "Adding extra cheese.\n",
      "\n",
      "Finished making your pizza!\n"
     ]
    }
   ],
   "source": [
    "requested_toppings = ['mushrooms', 'extra cheese']\n",
    "\n",
    "if 'mushrooms' in requested_toppings:\n",
    "    print(\"Adding mushrooms.\")\n",
    "if 'pepperoni' in requested_toppings:\n",
    "    print(\"Adding pepperoni.\")\n",
    "if 'extra cheese' in requested_toppings:\n",
    "    print(\"Adding extra cheese.\")\n",
    "\n",
    "print(\"\\nFinished making your pizza!\")"
   ]
  },
  {
   "cell_type": "markdown",
   "metadata": {},
   "source": [
    "## Try It Yourself\n",
    "\n",
    "5-3. Alien Colors #1: Imagine an alien was just shot down in a game. Create a\n",
    "variable called alien_color and assign it a value of 'green', 'yellow', or 'red'.\n",
    "- Write an if statement to test whether the alien’s color is green. If it is, print\n",
    "a message that the player just earned 5 points.\n",
    "- Write one version of this program that passes the if test and another that\n",
    "fails. (The version that fails will have no output.)\n",
    "\n",
    "5-4. Alien Colors #2: Choose a color for an alien as you did in Exercise 5-3, and\n",
    "write an if-else chain.\n",
    "- If the alien’s color is green, print a statement that the player just earned\n",
    "5 points for shooting the alien.\n",
    "- If the alien’s color isn’t green, print a statement that the player just earned\n",
    "10 points.\n",
    "- Write one version of this program that runs the if block and another that\n",
    "runs the else block.\n",
    "\n",
    "5-5. Alien Colors #3: Turn your if-else chain from Exercise 5-4 into an if-elifelse\n",
    "chain.\n",
    "- If the alien is green, print a message that the player earned 5 points.\n",
    "- If the alien is yellow, print a message that the player earned 10 points.\n",
    "- If the alien is red, print a message that the player earned 15 points.\n",
    "- Write three versions of this program, making sure each message is printed\n",
    "for the appropriate color alien.\n",
    "\n",
    "5-6. Stages of Life: Write an if-elif-else chain that determines a person’s\n",
    "stage of life. Set a value for the variable age, and then:\n",
    "- If the person is less than 2 years old, print a message that the person is\n",
    "a baby.\n",
    "- If the person is at least 2 years old but less than 4, print a message that\n",
    "the person is a toddler.\n",
    "- If the person is at least 4 years old but less than 13, print a message that\n",
    "the person is a kid.\n",
    "- If the person is at least 13 years old but less than 20, print a message that\n",
    "the person is a teenager.\n",
    "- If the person is at least 20 years old but less than 65, print a message that\n",
    "the person is an adult.\n",
    "- If the person is age 65 or older, print a message that the person is an\n",
    "elder.\n",
    "\n",
    "5-7. Favorite Fruit: Make a list of your favorite fruits, and then write a series of\n",
    "independent if statements that check for certain fruits in your list.\n",
    "- Make a list of your three favorite fruits and call it favorite_fruits.\n",
    "- Write five if statements. Each should check whether a certain kind of fruit\n",
    "is in your list. If the fruit is in your list, the if block should print a statement,\n",
    "such as You really like bananas!"
   ]
  },
  {
   "cell_type": "code",
   "execution_count": 45,
   "metadata": {},
   "outputs": [
    {
     "name": "stdout",
     "output_type": "stream",
     "text": [
      "You earned 10 points!\n"
     ]
    }
   ],
   "source": [
    "alien_color = 'blue'\n",
    "\n",
    "if alien_color == 'green':\n",
    "    print(\"You earned 5 points!\")\n",
    "\n",
    "if alien_color == 'green':\n",
    "    print(\"You earned 5 points!\")\n",
    "else:\n",
    "    print(\"You earned 10 points!\")\n",
    "\n",
    "if alien_color == 'green':\n",
    "    print(\"You earned 5 points!\")\n",
    "elif alien_color == 'yellow':\n",
    "    print(\"You earned 10 points!\")\n",
    "elif alien_color == 'red':\n",
    "    print(\"You earned 15 points!\")\n",
    "else:\n",
    "    None"
   ]
  },
  {
   "cell_type": "markdown",
   "metadata": {},
   "source": [
    "# Using if Statements with Lists\n",
    "\n",
    "You can do some interesting work when you combine lists and if statements.\n",
    "You can watch for special values that need to be treated differently\n",
    "than other values in the list. You can manage changing conditions efficiently,\n",
    "such as the availability of certain items in a restaurant throughout a\n",
    "shift. You can also begin to prove that your code works as you expect it to in\n",
    "all possible situations.\n",
    "\n",
    "## Checking for Special Items\n",
    "This chapter began with a simple example that showed how to handle a special\n",
    "value like 'bmw', which needed to be printed in a different format than\n",
    "other values in the list. Now that you have a basic understanding of conditional\n",
    "tests and if statements, let’s take a closer look at how you can watch\n",
    "for special values in a list and handle those values appropriately.\n",
    "\n",
    "Let’s continue with the pizzeria example. The pizzeria displays a message\n",
    "whenever a topping is added to your pizza, as it’s being made. The code for\n",
    "this action can be written very efficiently by making a list of toppings the\n",
    "customer has requested and using a loop to announce each topping as it’s\n",
    "added to the pizza:\n",
    "\n",
    "The output is straightforward because this code is just a simple for loop:"
   ]
  },
  {
   "cell_type": "code",
   "execution_count": 48,
   "metadata": {},
   "outputs": [
    {
     "name": "stdout",
     "output_type": "stream",
     "text": [
      "Adding mushrooms.\n",
      "Adding green peppers.\n",
      "Adding extra cheese.\n",
      "\n",
      "Finished making your pizza!\n"
     ]
    }
   ],
   "source": [
    "requested_toppings = ['mushrooms', 'green peppers', 'extra cheese']\n",
    "\n",
    "for requested_topping in requested_toppings:\n",
    "    print(f\"Adding {requested_topping}.\")\n",
    "\n",
    "print(\"\\nFinished making your pizza!\")"
   ]
  },
  {
   "cell_type": "markdown",
   "metadata": {},
   "source": [
    "But what if the pizzeria runs out of green peppers? An if statement\n",
    "inside the for loop can handle this situation appropriately:\n",
    "\n",
    "This time we check each requested item before adding it to the pizza.\n",
    "The code at u checks to see if the person requested green peppers. If so,\n",
    "we display a message informing them why they can’t have green peppers.\n",
    "The else block at v ensures that all other toppings will be added to the\n",
    "pizza.\n",
    "\n",
    "The output shows that each requested topping is handled appropriately."
   ]
  },
  {
   "cell_type": "code",
   "execution_count": 49,
   "metadata": {},
   "outputs": [
    {
     "name": "stdout",
     "output_type": "stream",
     "text": [
      "Adding mushrooms.\n",
      "Sorry, we are out of peppers right now.\n",
      "Adding extra cheese.\n",
      "\n",
      "Finished making your pizza!\n"
     ]
    }
   ],
   "source": [
    "requested_toppings = ['mushrooms', 'green peppers', 'extra cheese']\n",
    "\n",
    "for requested_topping in requested_toppings:\n",
    "    if requested_topping == 'green peppers':\n",
    "        print(\"Sorry, we are out of peppers right now.\")\n",
    "    else:\n",
    "        print(f\"Adding {requested_topping}.\")\n",
    "\n",
    "print(\"\\nFinished making your pizza!\")"
   ]
  },
  {
   "cell_type": "markdown",
   "metadata": {},
   "source": [
    "## Checking That a List Is Not Empty\n",
    "\n",
    "We’ve made a simple assumption about every list we’ve worked with so far;\n",
    "we’ve assumed that each list has at least one item in it. Soon we’ll let users\n",
    "provide the information that’s stored in a list, so we won’t be able to assume\n",
    "that a list has any items in it each time a loop is run. In this situation, it’s\n",
    "useful to check whether a list is empty before running a for loop.\n",
    "\n",
    "As an example, let’s check whether the list of requested toppings is\n",
    "empty before building the pizza. If the list is empty, we’ll prompt the user\n",
    "and make sure they want a plain pizza. If the list is not empty, we’ll build\n",
    "the pizza just as we did in the previous examples:\n",
    "\n",
    "This time we start out with an empty list of requested toppings at u.\n",
    "Instead of jumping right into a for loop, we do a quick check at v. When the\n",
    "name of a list is used in an if statement, Python returns True if the list contains\n",
    "at least one item; an empty list evaluates to False. If requested_toppings\n",
    "passes the conditional test, we run the same for loop we used in the previous\n",
    "example. If the conditional test fails, we print a message asking the customer\n",
    "if they really want a plain pizza with no toppings w.\n",
    "\n",
    "The list is empty in this case, so the output asks if the user really wants\n",
    "a plain pizza:\n",
    "\n",
    "If the list is not empty, the output will show each requested topping\n",
    "being added to the pizza."
   ]
  },
  {
   "cell_type": "code",
   "execution_count": 50,
   "metadata": {},
   "outputs": [
    {
     "name": "stdout",
     "output_type": "stream",
     "text": [
      "Are you sure you want a plain pizza?\n"
     ]
    }
   ],
   "source": [
    "requested_toppings = []\n",
    "\n",
    "if requested_toppings:\n",
    "    for requested_topping in requested_toppings:\n",
    "        print(f\"Adding {requested_topping}.\")\n",
    "    print(\"\\nFinished making your pizza!\")\n",
    "else:\n",
    "    print(\"Are you sure you want a plain pizza?\")"
   ]
  },
  {
   "cell_type": "markdown",
   "metadata": {},
   "source": [
    "## Using Multiple Lists\n",
    "\n",
    "People will ask for just about anything, especially when it comes to pizza\n",
    "toppings. What if a customer actually wants french fries on their pizza? You\n",
    "can use lists and if statements to make sure your input makes sense before\n",
    "you act on it.\n",
    "\n",
    "Let’s watch out for unusual topping requests before we build a pizza.\n",
    "The following example defines two lists. The first is a list of available toppings\n",
    "at the pizzeria, and the second is the list of toppings that the user has\n",
    "requested. This time, each item in requested_toppings is checked against the\n",
    "list of available toppings before it’s added to the pizza:\n",
    "\n",
    "At u we define a list of available toppings at this pizzeria. Note that\n",
    "this could be a tuple if the pizzeria has a stable selection of toppings. At v,\n",
    "we make a list of toppings that a customer has requested. Note the unusual\n",
    "request, 'french fries'. At w we loop through the list of requested toppings.\n",
    "Inside the loop, we first check to see if each requested topping is actually\n",
    "in the list of available toppings x. If it is, we add that topping to the pizza.\n",
    "If the requested topping is not in the list of available toppings, the else block\n",
    "will run y. The else block prints a message telling the user which toppings\n",
    "are unavailable.\n",
    "\n",
    "This code syntax produces clean, informative output:\n",
    "\n",
    "In just a few lines of code, we’ve managed a real-world situation pretty\n",
    "effectively!"
   ]
  },
  {
   "cell_type": "code",
   "execution_count": 52,
   "metadata": {},
   "outputs": [
    {
     "name": "stdout",
     "output_type": "stream",
     "text": [
      "Adding mushrooms.\n",
      "Sorry, we don't have french fries.\n",
      "Adding extra cheese.\n",
      "\n",
      "Finished making your pizza!\n"
     ]
    }
   ],
   "source": [
    "available_toppings = ['mushrooms', 'olives', 'green peppers',\n",
    "'pepperoni', 'pineapple', 'extra cheese']\n",
    "requested_toppings = ['mushrooms', 'french fries', 'extra cheese']\n",
    "\n",
    "for requested_topping in requested_toppings:\n",
    "    if requested_topping in available_toppings:\n",
    "        print(f\"Adding {requested_topping}.\")\n",
    "    else:\n",
    "        print(f\"Sorry, we don't have {requested_topping}.\")\n",
    "\n",
    "print(\"\\nFinished making your pizza!\")"
   ]
  },
  {
   "cell_type": "markdown",
   "metadata": {},
   "source": [
    "## Try It Yourself\n",
    "\n",
    "5-8. Hello Admin: Make a list of five or more usernames, including the name\n",
    "'admin'. Imagine you are writing code that will print a greeting to each user\n",
    "after they log in to a website. Loop through the list, and print a greeting to\n",
    "each user:\n",
    "- If the username is 'admin', print a special greeting, such as Hello admin,\n",
    "would you like to see a status report?\n",
    "- Otherwise, print a generic greeting, such as Hello Jaden, thank you for\n",
    "logging in again.\n",
    "\n",
    "5-9. No Users: Add an if test to hello_admin.py to make sure the list of users is\n",
    "not empty.\n",
    "- If the list is empty, print the message We need to find some users!\n",
    "- Remove all of the usernames from your list, and make sure the correct\n",
    "message is printed."
   ]
  },
  {
   "cell_type": "code",
   "execution_count": 58,
   "metadata": {},
   "outputs": [
    {
     "name": "stdout",
     "output_type": "stream",
     "text": [
      "We need some more users!\n"
     ]
    }
   ],
   "source": [
    "usernames = ['mike', 'henry', 'lisa', 'jane', 'joe', 'admin']\n",
    "# usernames = []\n",
    "\n",
    "if usernames:\n",
    "    for username in usernames:\n",
    "        if username == 'admin':\n",
    "            print(f\"Hello {username}, would you like to see a status report?\")\n",
    "        else:\n",
    "            print(f\"Hello {username}, thank you for logging in.\")\n",
    "else:\n",
    "    print(\"We need some more users!\")\n",
    "\n"
   ]
  },
  {
   "cell_type": "markdown",
   "metadata": {},
   "source": [
    "5-10. Checking Usernames: Do the following to create a program that simulates\n",
    "how websites ensure that everyone has a unique username.\n",
    "- Make a list of five or more usernames called current_users.\n",
    "- Make another list of five usernames called new_users. Make sure one or\n",
    "two of the new usernames are also in the current_users list.\n",
    "- Loop through the new_users list to see if each new username has already\n",
    "been used. If it has, print a message that the person will need to enter a\n",
    "new username. If a username has not been used, print a message saying\n",
    "that the username is available.\n",
    "- Make sure your comparison is case insensitive. If 'John' has been used,\n",
    "'JOHN' should not be accepted. (To do this, you’ll need to make a copy of\n",
    "current_users containing the lowercase versions of all existing users.)"
   ]
  },
  {
   "cell_type": "code",
   "execution_count": 80,
   "metadata": {},
   "outputs": [
    {
     "name": "stdout",
     "output_type": "stream",
     "text": [
      "['mike', 'henry', 'lisa', 'jane', 'joe', 'jamil', 'avery', 'admin']\n",
      "The username dave is available.\n",
      "The username jerry is available.\n",
      "Greetings user, avery is in use. You will need to enter a different username.\n",
      "The username michelle is available.\n",
      "Greetings user, jamil is in use. You will need to enter a different username.\n"
     ]
    }
   ],
   "source": [
    "current_users = ['mike', 'Henry', 'lisa', 'jane', 'joe', 'jamil', 'avery', 'admin']\n",
    "# List comprehension\n",
    "current_users = [user.lower() for user in current_users]\n",
    "print(current_users)\n",
    "\n",
    "new_users = ['dave', 'jerry', 'avery', 'michelle', 'jamil']\n",
    "\n",
    "for user in new_users:\n",
    "    if user.lower() in current_users:\n",
    "        print(f\"Greetings user, {user} is in use. You will need to enter a different username.\")\n",
    "    else:\n",
    "        print(f\"The username {user} is available.\")"
   ]
  },
  {
   "cell_type": "markdown",
   "metadata": {},
   "source": [
    "5-11. Ordinal Numbers: Ordinal numbers indicate their position in a list, such\n",
    "as 1st or 2nd. Most ordinal numbers end in th, except 1, 2, and 3.\n",
    "- Store the numbers 1 through 9 in a list.\n",
    "- Loop through the list.\n",
    "- Use an if-elif-else chain inside the loop to print the proper ordinal ending\n",
    "for each number. Your output should read \"1st 2nd 3rd 4th 5th 6th\n",
    "7th 8th 9th\", and each result should be on a separate line."
   ]
  },
  {
   "cell_type": "code",
   "execution_count": 85,
   "metadata": {},
   "outputs": [
    {
     "name": "stdout",
     "output_type": "stream",
     "text": [
      "1st\n",
      "2nd\n",
      "3rd\n",
      "4th\n",
      "5th\n",
      "6th\n",
      "7th\n",
      "8th\n",
      "9th\n"
     ]
    }
   ],
   "source": [
    "numbers = [1, 2, 3, 4, 5, 6, 7, 8, 9]\n",
    "\n",
    "if numbers:\n",
    "    for number in numbers:\n",
    "        if number == 1:\n",
    "            print(f\"{number}st\")\n",
    "        elif number == 2:\n",
    "            print(f\"{number}nd\")\n",
    "        elif number == 3:\n",
    "            print(f\"{number}rd\")\n",
    "        else:\n",
    "            print(f\"{number}th\")"
   ]
  },
  {
   "cell_type": "markdown",
   "metadata": {},
   "source": [
    "## Styling Your if Statements\n",
    "\n",
    "In every example in this chapter, you’ve seen good styling habits. The only\n",
    "recommendation PEP 8 provides for styling conditional tests is to use a\n",
    "single space around comparison operators, such as ==, >=, <=. For example:\n",
    "\n",
    "if age < 4:\n",
    "\n",
    "is better than:\n",
    "\n",
    "if age<4:\n",
    "\n",
    "Such spacing does not affect the way Python interprets your code; it just\n",
    "makes your code easier for you and others to read."
   ]
  },
  {
   "cell_type": "markdown",
   "metadata": {},
   "source": [
    "## Try It Yourself\n",
    "\n",
    "5-12. Styling if statements: Review the programs you wrote in this chapter, and\n",
    "make sure you styled your conditional tests appropriately.\n",
    "\n",
    "5-13. Your Ideas: At this point, you’re a more capable programmer than you\n",
    "were when you started this book. Now that you have a better sense of how\n",
    "real-world situations are modeled in programs, you might be thinking of some\n",
    "problems you could solve with your own programs. Record any new ideas you\n",
    "have about problems you might want to solve as your programming skills continue\n",
    "to improve. Consider games you might want to write, data sets you might\n",
    "want to explore, and web applications you’d like to create."
   ]
  },
  {
   "cell_type": "markdown",
   "metadata": {},
   "source": [
    "# Summary\n",
    "In this chapter you learned how to write conditional tests, which always\n",
    "evaluate to True or False. You learned to write simple if statements, if-else\n",
    "chains, and if-elif-else chains. You began using these structures to identify\n",
    "particular conditions you needed to test and to know when those conditions\n",
    "have been met in your programs. You learned to handle certain items in a\n",
    "list differently than all other items while continuing to utilize the efficiency\n",
    "of a for loop. You also revisited Python’s style recommendations to ensure\n",
    "that your increasingly complex programs are still relatively easy to read and\n",
    "understand.\n",
    "\n",
    "In Chapter 6 you’ll learn about Python’s dictionaries. A dictionary is\n",
    "similar to a list, but it allows you to connect pieces of information. You’ll\n",
    "learn to build dictionaries, loop through them, and use them in combination\n",
    "with lists and if statements. Learning about dictionaries will enable\n",
    "you to model an even wider variety of real-world situations."
   ]
  },
  {
   "cell_type": "code",
   "execution_count": null,
   "metadata": {},
   "outputs": [],
   "source": []
  }
 ],
 "metadata": {
  "interpreter": {
   "hash": "382911a3b25c08601c92d532ecf77b76535fbec3aff100266cbea416b7e83b72"
  },
  "kernelspec": {
   "display_name": "Python 3.10.0 64-bit",
   "name": "python3"
  },
  "language_info": {
   "codemirror_mode": {
    "name": "ipython",
    "version": 3
   },
   "file_extension": ".py",
   "mimetype": "text/x-python",
   "name": "python",
   "nbconvert_exporter": "python",
   "pygments_lexer": "ipython3",
   "version": "3.10.0"
  },
  "orig_nbformat": 4
 },
 "nbformat": 4,
 "nbformat_minor": 2
}
