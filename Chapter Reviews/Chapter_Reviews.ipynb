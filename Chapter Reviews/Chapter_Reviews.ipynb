{
 "cells": [
  {
   "cell_type": "code",
   "execution_count": 1,
   "metadata": {},
   "outputs": [],
   "source": [
    "# # Import libraries to interact with html, tables, and plotting data\n",
    "\n",
    "# import pandas as pd\n",
    "# import numpy as np # used for linear algebra and random sampling\n",
    "# import seaborn as sns\n",
    "# from matplotlib import pyplot as plt\n",
    "# # used for plotting charts within the notebook (instead of a separate window)\n",
    "# # Allow plots to appear in the notebook.\n",
    "# %matplotlib inline\n",
    "# import bs4\n",
    "# from bs4 import BeautifulSoup\n",
    "# from html.parser import HTMLParser\n",
    "# import glob\n",
    "# import requests\n",
    "# import urllib.request\n",
    "# from urllib.request import Request, urlopen\n",
    "# # !pip install requests\n",
    "# # !pip install requests-html\n",
    "# # !pip install lxml\n",
    "# # !pip install html5lib\n",
    "# # import requests-html\n",
    "# import lxml\n",
    "# import html5lib\n",
    "# import webbrowser\n",
    "# # Using Pickle to save data models in their current state so a ML model retrain is not necessary\n",
    "# import pickle\n",
    "# import joblib\n",
    "# import sklearn\n",
    "# import tensorflow as tf\n",
    "# from sklearn.linear_model import LinearRegression\n",
    "# from sklearn.model_selection import train_test_split\n",
    "# from sklearn import metrics\n",
    "# from sklearn.datasets import load_boston\n",
    "# from sklearn.dummy import DummyRegressor\n",
    "# from sklearn import model_selection\n",
    "# from sklearn.model_selection import cross_val_score\n",
    "\n",
    "\n",
    "# print(f'TensorFlow v{tf.__version__}')\n",
    "# print(f'Pandas v{pd.__version__}\\nNumpy v{np.__version__}')\n",
    "# print(f'joblib v{joblib.__version__}')\n",
    "# print(f'sklearn v{sklearn.__version__}')"
   ]
  },
  {
   "cell_type": "code",
   "execution_count": 2,
   "metadata": {},
   "outputs": [
    {
     "name": "stdout",
     "output_type": "stream",
     "text": [
      "Hello world\n"
     ]
    }
   ],
   "source": [
    "# 2.1\n",
    "\n",
    "message = \"Hello world\"\n",
    "print(message) # Hello world\n"
   ]
  },
  {
   "cell_type": "code",
   "execution_count": 3,
   "metadata": {},
   "outputs": [
    {
     "name": "stdout",
     "output_type": "stream",
     "text": [
      "Goodbye world\n"
     ]
    }
   ],
   "source": [
    "# 2.2\n",
    "\n",
    "message = \"Goodbye world\"\n",
    "print(message)"
   ]
  },
  {
   "cell_type": "code",
   "execution_count": 4,
   "metadata": {},
   "outputs": [
    {
     "name": "stdout",
     "output_type": "stream",
     "text": [
      "ada lovelace\n",
      "Hello, Ada Lovelace\n",
      "Hello, Ada Lovelace\n"
     ]
    }
   ],
   "source": [
    "first_name = \"ada\"\n",
    "last_name = \"lovelace\"\n",
    "full_name = f\"{first_name} {last_name}\"\n",
    "print(full_name) # ada lovelace\n",
    "print(f\"Hello, {full_name.title()}\")\n",
    "message = f\"Hello, {full_name.title()}\"\n",
    "print(message) # Hello, Ada Lovelace"
   ]
  },
  {
   "cell_type": "code",
   "execution_count": 5,
   "metadata": {},
   "outputs": [
    {
     "name": "stdout",
     "output_type": "stream",
     "text": [
      "Hello, Michael. Would you like to learn some Python today?\n"
     ]
    }
   ],
   "source": [
    "# 2.3\n",
    "\n",
    "name = \"michael\"\n",
    "hello_message = f\"Hello, {name.title()}. Would you like \"\n",
    "hello_message += \"to learn some Python today?\"\n",
    "print(hello_message)"
   ]
  },
  {
   "cell_type": "code",
   "execution_count": 6,
   "metadata": {},
   "outputs": [
    {
     "name": "stdout",
     "output_type": "stream",
     "text": [
      "michael\n",
      "MICHAEL\n",
      "Michael\n"
     ]
    }
   ],
   "source": [
    "# 2.4\n",
    "\n",
    "print(name.lower())\n",
    "print(name.upper())\n",
    "print(name.title())"
   ]
  },
  {
   "cell_type": "code",
   "execution_count": 7,
   "metadata": {},
   "outputs": [
    {
     "name": "stdout",
     "output_type": "stream",
     "text": [
      "Albert Einstein once said, \"A person who never made a mistake never tried anything new.\"\n"
     ]
    }
   ],
   "source": [
    "# 2.5\n",
    "\n",
    "famous_person = \"Albert Einstein\"\n",
    "quote = \"A person who never made a mistake never tried anything new.\"\n",
    "\n",
    "print(f\"{famous_person.title()} once said, \\\"{quote}\\\"\")"
   ]
  },
  {
   "cell_type": "code",
   "execution_count": 8,
   "metadata": {},
   "outputs": [
    {
     "name": "stdout",
     "output_type": "stream",
     "text": [
      "Albert Einstein once said, \"A person who never made a mistake never tried anything new.\"\n"
     ]
    }
   ],
   "source": [
    "# 2.6\n",
    "\n",
    "message = quote\n",
    "\n",
    "print(f\"{famous_person.title()} once said, \\\"{message}\\\"\")"
   ]
  },
  {
   "cell_type": "code",
   "execution_count": 9,
   "metadata": {},
   "outputs": [
    {
     "name": "stdout",
     "output_type": "stream",
     "text": [
      "  mike\n",
      "\t halladay  \n",
      "mike\n",
      "\t halladay  \n",
      "  mike\n",
      "\t halladay\n",
      "mike\n",
      "\t halladay\n"
     ]
    }
   ],
   "source": [
    "# 2.7\n",
    "# Strip the spaces from the beginning and end of the string\n",
    "name = \"  mike\\n\\t halladay  \"\n",
    "print(name)\n",
    "\n",
    "print(name.lstrip())\n",
    "print(name.rstrip())\n",
    "print(name.strip())"
   ]
  },
  {
   "cell_type": "code",
   "execution_count": 10,
   "metadata": {},
   "outputs": [
    {
     "name": "stdout",
     "output_type": "stream",
     "text": [
      "8\n",
      "8\n",
      "8\n",
      "8.0\n"
     ]
    }
   ],
   "source": [
    "# 2.8\n",
    "print(5 + 3)\n",
    "print(11 - 3)\n",
    "print(4 * 2)\n",
    "print(64 / 8)"
   ]
  },
  {
   "cell_type": "code",
   "execution_count": 11,
   "metadata": {},
   "outputs": [
    {
     "name": "stdout",
     "output_type": "stream",
     "text": [
      "My favorite number is 18\n"
     ]
    }
   ],
   "source": [
    "# 2.9\n",
    "# Print a message with my favorite number\n",
    "favorite_number = 18\n",
    "print(f\"My favorite number is {favorite_number}\")"
   ]
  },
  {
   "cell_type": "code",
   "execution_count": 12,
   "metadata": {},
   "outputs": [
    {
     "name": "stdout",
     "output_type": "stream",
     "text": [
      "The Zen of Python, by Tim Peters\n",
      "\n",
      "Beautiful is better than ugly.\n",
      "Explicit is better than implicit.\n",
      "Simple is better than complex.\n",
      "Complex is better than complicated.\n",
      "Flat is better than nested.\n",
      "Sparse is better than dense.\n",
      "Readability counts.\n",
      "Special cases aren't special enough to break the rules.\n",
      "Although practicality beats purity.\n",
      "Errors should never pass silently.\n",
      "Unless explicitly silenced.\n",
      "In the face of ambiguity, refuse the temptation to guess.\n",
      "There should be one-- and preferably only one --obvious way to do it.\n",
      "Although that way may not be obvious at first unless you're Dutch.\n",
      "Now is better than never.\n",
      "Although never is often better than *right* now.\n",
      "If the implementation is hard to explain, it's a bad idea.\n",
      "If the implementation is easy to explain, it may be a good idea.\n",
      "Namespaces are one honking great idea -- let's do more of those!\n"
     ]
    }
   ],
   "source": [
    "import this"
   ]
  },
  {
   "cell_type": "code",
   "execution_count": 13,
   "metadata": {},
   "outputs": [
    {
     "name": "stdout",
     "output_type": "stream",
     "text": [
      "John\n",
      "Jacob\n",
      "Jingle\n",
      "Heiner\n",
      "Schmidt\n",
      "Karen\n"
     ]
    }
   ],
   "source": [
    "# 3-1\n",
    "\n",
    "names = ['john', 'jacob', 'jingle', 'heiner', 'schmidt', 'karen']\n",
    "for name in names:\n",
    "    print(name.title())"
   ]
  },
  {
   "cell_type": "code",
   "execution_count": 14,
   "metadata": {},
   "outputs": [
    {
     "name": "stdout",
     "output_type": "stream",
     "text": [
      "Dear John, good to see you.\n",
      "Dear Jacob, good to see you.\n",
      "Dear Jingle, good to see you.\n",
      "Dear Heiner, good to see you.\n",
      "Dear Schmidt, good to see you.\n",
      "Dear Karen, good to see you.\n"
     ]
    }
   ],
   "source": [
    "# 3-2\n",
    "for name in names:\n",
    "    print(f'Dear {name.title()}, good to see you.')"
   ]
  },
  {
   "cell_type": "code",
   "execution_count": 15,
   "metadata": {},
   "outputs": [
    {
     "name": "stdout",
     "output_type": "stream",
     "text": [
      "I would like to own a Honda Motorcycle.\n",
      "I would like to own a Nissan Rogue.\n",
      "I would like to own a Kawasaki Ninja.\n",
      "I would like to own a Harley Davidson.\n",
      "I would like to own a Mclaren F1.\n"
     ]
    }
   ],
   "source": [
    "# 3-3\n",
    "\n",
    "favorite_transportation = ['honda motorcycle', 'nissan rogue', 'kawasaki ninja', 'harley davidson', 'mclaren f1']\n",
    "for transportation in favorite_transportation:\n",
    "    print(f\"I would like to own a {transportation.title()}.\")\n",
    "    "
   ]
  },
  {
   "cell_type": "code",
   "execution_count": 16,
   "metadata": {},
   "outputs": [
    {
     "name": "stdout",
     "output_type": "stream",
     "text": [
      "I would like to own a Hyundai Senata.\n",
      "I would like to own a Honda Motorcycle.\n",
      "I would like to own a Nissan Rogue.\n",
      "I would like to own a Kawasaki Ninja.\n",
      "I would like to own a Harley Davidson.\n",
      "I would like to own a Mclaren F1.\n",
      "I would like to own a Ferrari Enzo.\n"
     ]
    }
   ],
   "source": [
    "favorite_transportation.append('ferrari enzo')\n",
    "favorite_transportation.insert(0, 'hyundai senata')\n",
    "for transportation in favorite_transportation:\n",
    "    print(f\"I would like to own a {transportation.title()}.\")"
   ]
  },
  {
   "cell_type": "code",
   "execution_count": 17,
   "metadata": {},
   "outputs": [
    {
     "name": "stdout",
     "output_type": "stream",
     "text": [
      "Hello, Pablo Picasso, you are invited to dinner.\n",
      "Hello, Michaelangelo, you are invited to dinner.\n",
      "Hello, Leonardo Da Vinci, you are invited to dinner.\n"
     ]
    }
   ],
   "source": [
    "# 3-4\n",
    "\n",
    "guest_list = ['pablo picasso', 'michaelangelo', 'leonardo da vinci']\n",
    "for guest in guest_list:\n",
    "    print(f\"Hello, {guest.title()}, you are invited to dinner.\")"
   ]
  },
  {
   "cell_type": "code",
   "execution_count": 18,
   "metadata": {},
   "outputs": [
    {
     "name": "stdout",
     "output_type": "stream",
     "text": [
      "It's a shame that Pablo Picasso can't make dinner.\n",
      "The new guest list is:\n",
      "Vincent Van Gogh\n",
      "Michaelangelo\n",
      "Leonardo Da Vinci\n"
     ]
    }
   ],
   "source": [
    "# 3-5\n",
    "no_show = \"pablo picasso\"\n",
    "print(f\"It's a shame that {no_show.title()} can't make dinner.\")\n",
    "guest_list.remove(no_show)\n",
    "guest_list.insert(0, \"vincent van gogh\")\n",
    "\n",
    "print(\"The new guest list is:\")\n",
    "for guest in guest_list:\n",
    "    print(guest.title())"
   ]
  },
  {
   "cell_type": "code",
   "execution_count": 19,
   "metadata": {},
   "outputs": [
    {
     "name": "stdout",
     "output_type": "stream",
     "text": [
      "Hey guys, I found a bigger table!\n",
      "3\n",
      "We now have:\n",
      "Ernest Hemingway\n",
      "Vincent Van Gogh\n",
      "Sir Isaac Newton\n",
      "Michaelangelo\n",
      "Leonardo Da Vinci\n",
      "Alexander The Great\n"
     ]
    }
   ],
   "source": [
    "# 3-6\n",
    "\n",
    "print(\"Hey guys, I found a bigger table!\")\n",
    "\n",
    "print(len(guest_list))\n",
    "guest_list.insert(0, \"ernest hemingway\")\n",
    "guest_list.insert(2, \"sir isaac newton\")\n",
    "guest_list.append(\"alexander the great\")\n",
    "\n",
    "print(\"We now have:\")\n",
    "for guest in guest_list:\n",
    "    print(guest.title())"
   ]
  },
  {
   "cell_type": "code",
   "execution_count": 20,
   "metadata": {},
   "outputs": [
    {
     "name": "stdout",
     "output_type": "stream",
     "text": [
      "Sorry fellas, I can now only have two people over for dinner.\n",
      "Sorry, Alexander The Great, you cannot attend.\n",
      "Sorry, Leonardo Da Vinci, you cannot attend.\n",
      "Sorry, Michaelangelo, you cannot attend.\n",
      "Sorry, Sir Isaac Newton, you cannot attend.\n",
      "Ernest Hemingway\n",
      "Vincent Van Gogh\n",
      "You are invited to the smaller dinner.\n",
      "[]\n"
     ]
    }
   ],
   "source": [
    "# 3-7\n",
    "\n",
    "print(\"Sorry fellas, I can now only have two people over for dinner.\")\n",
    "\n",
    "while len(guest_list) > 2:\n",
    "    print(f\"Sorry, {guest_list[-1].title()}, you cannot attend.\")\n",
    "    guest_list.pop()\n",
    "for guest in guest_list:\n",
    "    print(guest.title())\n",
    "    \n",
    "print(\"You are invited to the smaller dinner.\")\n",
    "\n",
    "while len(guest_list) > 0:\n",
    "    del guest_list[0]\n",
    "    \n",
    "print(guest_list)"
   ]
  },
  {
   "cell_type": "code",
   "execution_count": 21,
   "metadata": {},
   "outputs": [
    {
     "name": "stdout",
     "output_type": "stream",
     "text": [
      "Germany\n",
      "Japan\n",
      "Australia\n",
      "Switzerland\n",
      "Ireland\n"
     ]
    }
   ],
   "source": [
    "# 3-8\n",
    "\n",
    "vacations = [\"germany\", \"japan\", \"australia\", \"switzerland\", \"ireland\"]\n",
    "for vacation in vacations:\n",
    "    print(vacation.title())"
   ]
  },
  {
   "cell_type": "code",
   "execution_count": 22,
   "metadata": {},
   "outputs": [
    {
     "name": "stdout",
     "output_type": "stream",
     "text": [
      "['australia', 'germany', 'ireland', 'japan', 'switzerland']\n"
     ]
    }
   ],
   "source": [
    "print(sorted(vacations))"
   ]
  },
  {
   "cell_type": "code",
   "execution_count": 23,
   "metadata": {},
   "outputs": [
    {
     "name": "stdout",
     "output_type": "stream",
     "text": [
      "['germany', 'japan', 'australia', 'switzerland', 'ireland']\n"
     ]
    }
   ],
   "source": [
    "print(vacations)"
   ]
  },
  {
   "cell_type": "code",
   "execution_count": 24,
   "metadata": {},
   "outputs": [
    {
     "name": "stdout",
     "output_type": "stream",
     "text": [
      "['ireland', 'switzerland', 'australia', 'japan', 'germany']\n"
     ]
    }
   ],
   "source": [
    "vacations.reverse()\n",
    "print(vacations)"
   ]
  },
  {
   "cell_type": "code",
   "execution_count": 25,
   "metadata": {},
   "outputs": [
    {
     "name": "stdout",
     "output_type": "stream",
     "text": [
      "['germany', 'japan', 'australia', 'switzerland', 'ireland']\n"
     ]
    }
   ],
   "source": [
    "vacations.reverse()\n",
    "print(vacations)"
   ]
  },
  {
   "cell_type": "code",
   "execution_count": 26,
   "metadata": {},
   "outputs": [
    {
     "name": "stdout",
     "output_type": "stream",
     "text": [
      "['australia', 'germany', 'ireland', 'japan', 'switzerland']\n"
     ]
    }
   ],
   "source": [
    "vacations.sort()\n",
    "print(vacations)"
   ]
  },
  {
   "cell_type": "code",
   "execution_count": 27,
   "metadata": {},
   "outputs": [
    {
     "name": "stdout",
     "output_type": "stream",
     "text": [
      "['switzerland', 'japan', 'ireland', 'germany', 'australia']\n"
     ]
    }
   ],
   "source": [
    "vacations.sort(reverse=True)\n",
    "print(vacations)"
   ]
  },
  {
   "cell_type": "code",
   "execution_count": 28,
   "metadata": {},
   "outputs": [
    {
     "name": "stdout",
     "output_type": "stream",
     "text": [
      "0\n"
     ]
    }
   ],
   "source": [
    "# 3-9\n",
    "\n",
    "print(len(guest_list))\n",
    "\n",
    "# 3-10 & 3-11\n",
    "# Not doing"
   ]
  },
  {
   "cell_type": "code",
   "execution_count": 29,
   "metadata": {},
   "outputs": [
    {
     "name": "stdout",
     "output_type": "stream",
     "text": [
      "I like pepperoni pizzas.\n",
      "I like sausage pizzas.\n",
      "I like meatlovers pizzas.\n",
      "I really love pizza!\n"
     ]
    }
   ],
   "source": [
    "# 4-1\n",
    "\n",
    "pizzas = [\"pepperoni\", \"sausage\", \"meatlovers\"]\n",
    "for pizza in pizzas:\n",
    "    print(f\"I like {pizza} pizzas.\")\n",
    "    \n",
    "print(\"I really love pizza!\")"
   ]
  },
  {
   "cell_type": "code",
   "execution_count": 30,
   "metadata": {},
   "outputs": [
    {
     "name": "stdout",
     "output_type": "stream",
     "text": [
      "An horned lizard would make a great pet.\n",
      "An iguana would make a great pet.\n",
      "An chameleon would make a great pet.\n",
      "Any of these animals would make a great pet!\n"
     ]
    }
   ],
   "source": [
    "# 4-2\n",
    "\n",
    "animals = [\"horned lizard\", \"iguana\", \"chameleon\"]\n",
    "# print(animals[:4])\n",
    "for animal in animals:\n",
    "    print(f\"An {animal} would make a great pet.\")\n",
    "    \n",
    "print(\"Any of these animals would make a great pet!\")"
   ]
  },
  {
   "cell_type": "code",
   "execution_count": 31,
   "metadata": {},
   "outputs": [
    {
     "name": "stdout",
     "output_type": "stream",
     "text": [
      "1\n",
      "2\n",
      "3\n",
      "4\n"
     ]
    }
   ],
   "source": [
    "for value in range(1, 5):\n",
    "    print(value)"
   ]
  },
  {
   "cell_type": "code",
   "execution_count": 32,
   "metadata": {},
   "outputs": [
    {
     "name": "stdout",
     "output_type": "stream",
     "text": [
      "[1, 2, 3, 4, 5]\n"
     ]
    }
   ],
   "source": [
    "numbers = list(range(1, 6))\n",
    "print(numbers)"
   ]
  },
  {
   "cell_type": "code",
   "execution_count": 33,
   "metadata": {},
   "outputs": [
    {
     "name": "stdout",
     "output_type": "stream",
     "text": [
      "[2, 4, 6, 8, 10]\n"
     ]
    }
   ],
   "source": [
    "even_numbers = list(range(2, 11, 2))\n",
    "print(even_numbers)"
   ]
  },
  {
   "cell_type": "code",
   "execution_count": 34,
   "metadata": {},
   "outputs": [
    {
     "name": "stdout",
     "output_type": "stream",
     "text": [
      "[1, 4, 9, 16, 25, 36, 49, 64, 81, 100]\n"
     ]
    }
   ],
   "source": [
    "squares = []\n",
    "for value in range(1, 11):\n",
    "    square = value ** 2\n",
    "    squares.append(square)\n",
    "\n",
    "print(squares)"
   ]
  },
  {
   "cell_type": "code",
   "execution_count": 35,
   "metadata": {},
   "outputs": [
    {
     "name": "stdout",
     "output_type": "stream",
     "text": [
      "0\n",
      "9\n",
      "45\n"
     ]
    }
   ],
   "source": [
    "digits = [1, 2, 3, 4 , 5, 6, 7, 8, 9, 0]\n",
    "print(min(digits))\n",
    "print(max(digits))\n",
    "print(sum(digits))"
   ]
  },
  {
   "cell_type": "markdown",
   "metadata": {},
   "source": [
    "### List Comprehension\n",
    "#### To use this syntax, begin with a descriptive name for the list (variable name). Next, open a set of square brackets and define the expression for the values you want to store in the new list."
   ]
  },
  {
   "cell_type": "code",
   "execution_count": 36,
   "metadata": {},
   "outputs": [
    {
     "name": "stdout",
     "output_type": "stream",
     "text": [
      "[1, 4, 9, 16, 25, 36, 49, 64, 81, 100]\n"
     ]
    }
   ],
   "source": [
    "# List comprehension\n",
    "\n",
    "squares = [value**2 for value in range(1, 11)]\n",
    "print(squares)"
   ]
  },
  {
   "cell_type": "code",
   "execution_count": 37,
   "metadata": {},
   "outputs": [
    {
     "name": "stdout",
     "output_type": "stream",
     "text": [
      "1\n",
      "2\n",
      "3\n",
      "4\n",
      "5\n",
      "6\n",
      "7\n",
      "8\n",
      "9\n",
      "10\n",
      "11\n",
      "12\n",
      "13\n",
      "14\n",
      "15\n",
      "16\n",
      "17\n",
      "18\n",
      "19\n",
      "20\n"
     ]
    }
   ],
   "source": [
    "# 4-3\n",
    "\n",
    "for number in range(1, 21):\n",
    "\n",
    "    print(number)"
   ]
  },
  {
   "cell_type": "code",
   "execution_count": 38,
   "metadata": {},
   "outputs": [],
   "source": [
    "# 4-4\n",
    "\n",
    "# for number in range(1, 1000001):\n",
    "#     print(number)"
   ]
  },
  {
   "cell_type": "code",
   "execution_count": 39,
   "metadata": {},
   "outputs": [
    {
     "name": "stdout",
     "output_type": "stream",
     "text": [
      "1\n",
      "1000000\n",
      "500000500000\n"
     ]
    }
   ],
   "source": [
    "# 4-5\n",
    "\n",
    "million_numbers = [number for number in range(1, 1000001)]\n",
    "\n",
    "print(min(million_numbers))\n",
    "print(max(million_numbers))\n",
    "print(sum(million_numbers))"
   ]
  },
  {
   "cell_type": "code",
   "execution_count": 40,
   "metadata": {},
   "outputs": [
    {
     "name": "stdout",
     "output_type": "stream",
     "text": [
      "1\n",
      "3\n",
      "5\n",
      "7\n",
      "9\n",
      "11\n",
      "13\n",
      "15\n",
      "17\n",
      "19\n"
     ]
    }
   ],
   "source": [
    "# 4-6\n",
    "\n",
    "odd_numbers = list(range(1,21,2))\n",
    "# print(odd_numbers)\n",
    "for number in odd_numbers:\n",
    "    print(number)"
   ]
  },
  {
   "cell_type": "code",
   "execution_count": 41,
   "metadata": {},
   "outputs": [
    {
     "name": "stdout",
     "output_type": "stream",
     "text": [
      "3\n",
      "6\n",
      "9\n",
      "12\n",
      "15\n",
      "18\n",
      "21\n",
      "24\n",
      "27\n",
      "30\n"
     ]
    }
   ],
   "source": [
    "# 4-7\n",
    "\n",
    "multiples_of_three = list(range(3, 31, 3))\n",
    "for number in multiples_of_three:\n",
    "    print(number)"
   ]
  },
  {
   "cell_type": "code",
   "execution_count": 42,
   "metadata": {},
   "outputs": [
    {
     "name": "stdout",
     "output_type": "stream",
     "text": [
      "1\n",
      "8\n",
      "27\n",
      "64\n",
      "125\n",
      "216\n",
      "343\n",
      "512\n",
      "729\n",
      "1000\n"
     ]
    }
   ],
   "source": [
    "# 4-8 && 4-9\n",
    "\n",
    "cubes = [value**3 for value in range(1, 11)]\n",
    "for cube in cubes:\n",
    "    print(cube)"
   ]
  },
  {
   "cell_type": "code",
   "execution_count": 43,
   "metadata": {},
   "outputs": [
    {
     "name": "stdout",
     "output_type": "stream",
     "text": [
      "['charles', 'martina', 'michael']\n",
      "['martina', 'michael', 'florence']\n",
      "['michael', 'florence', 'eli', 'brook', 'joe', 'chip', 'dale']\n",
      "['joe', 'chip', 'dale']\n",
      "['chip', 'dale']\n",
      "['charles', 'martina', 'michael', 'florence', 'eli', 'brook', 'joe']\n",
      "['charles', 'michael', 'eli', 'joe']\n",
      "['martina', 'florence']\n",
      "Martina\n",
      "Florence\n",
      "Brook\n"
     ]
    }
   ],
   "source": [
    "# 4-10\n",
    "\n",
    "players = ['charles', 'martina', 'michael', 'florence', 'eli', 'brook', 'joe', 'chip', 'dale']\n",
    "\n",
    "print(players[0:3])\n",
    "print(players[1:4])\n",
    "print(players[2:])\n",
    "print(players[-3:])\n",
    "print(players[-2:])\n",
    "print(players[:-2])\n",
    "print(players[:-2:2])\n",
    "print(players[1:5:2])\n",
    "\n",
    "for player in players[1:6:2]:\n",
    "    print(player.title())"
   ]
  },
  {
   "cell_type": "code",
   "execution_count": 44,
   "metadata": {},
   "outputs": [
    {
     "name": "stdout",
     "output_type": "stream",
     "text": [
      "['pizza', 'falafel', 'carrot cake', 'pudding']\n",
      "['pizza', 'falafel', 'carrot cake', 'pudding']\n",
      "['pizza', 'falafel', 'carrot cake', 'pudding', 'apple pie']\n",
      "['pizza', 'falafel', 'carrot cake', 'pudding', 'cherry pie']\n"
     ]
    }
   ],
   "source": [
    "# 4-11\n",
    "\n",
    "my_foods = ['pizza', 'falafel', 'carrot cake', 'pudding']\n",
    "\n",
    "# You need the [:] to make a copy of the list without further \n",
    "# tracking of the original list. Basically, forking vs cloning.\n",
    "friend_foods = my_foods[:]\n",
    "print(my_foods)\n",
    "print(friend_foods)\n",
    "\n",
    "my_foods.append('apple pie')\n",
    "friend_foods.append('cherry pie')\n",
    "\n",
    "print(my_foods)\n",
    "print(friend_foods)"
   ]
  },
  {
   "cell_type": "code",
   "execution_count": 45,
   "metadata": {},
   "outputs": [
    {
     "name": "stdout",
     "output_type": "stream",
     "text": [
      "pizza\n",
      "falafel\n",
      "carrot cake\n",
      "pudding\n",
      "apple pie\n",
      "\n",
      "\n",
      "pizza\n",
      "falafel\n",
      "carrot cake\n",
      "pudding\n",
      "cherry pie\n"
     ]
    }
   ],
   "source": [
    "# 4-12\n",
    "\n",
    "for food in my_foods:\n",
    "    print(food)\n",
    "\n",
    "print(\"\\n\")\n",
    "\n",
    "for food in friend_foods:\n",
    "    print(food)"
   ]
  },
  {
   "cell_type": "markdown",
   "metadata": {},
   "source": [
    "### Tuples\n",
    "#### Unlike a list, a tuple is immutable (cannot be changed)"
   ]
  },
  {
   "cell_type": "code",
   "execution_count": 46,
   "metadata": {},
   "outputs": [
    {
     "name": "stdout",
     "output_type": "stream",
     "text": [
      "('sausage', 'egg', 'cheese', 'biscuits', 'gravy')\n",
      "['sausage', 'chocolate bars', 'egg', 'cheese', 'biscuits', 'gravy']\n"
     ]
    }
   ],
   "source": [
    "# 4-13\n",
    "\n",
    "buffet_foods = ('sausage', 'egg', 'cheese', 'biscuits', 'gravy')\n",
    "print(buffet_foods)\n",
    "\n",
    "# # Will not work, trying to modify a tuple\n",
    "# buffet_foods.insert(1, 'chocolate bars')\n",
    "\n",
    "buffet_foods = list(buffet_foods)\n",
    "\n",
    "buffet_foods.insert(1, 'chocolate bars')\n",
    "print(buffet_foods)"
   ]
  },
  {
   "cell_type": "code",
   "execution_count": 47,
   "metadata": {},
   "outputs": [
    {
     "name": "stdout",
     "output_type": "stream",
     "text": [
      "Edward, thank you for the poll.\n",
      "Jen, thank you for the poll.\n",
      "Phil, thank you for the poll.\n",
      "Sarah, thank you for the poll.\n",
      "C was one of the selected programming languages.\n",
      "Python was one of the selected programming languages.\n",
      "Ruby was one of the selected programming languages.\n",
      "The person selected Ruby as their language.\n"
     ]
    }
   ],
   "source": [
    "# 6-1\n",
    "\n",
    "favorite_languages = {\n",
    "    'jen': 'python',\n",
    "    'sarah': 'c',\n",
    "    'edward': 'ruby',\n",
    "    'phil': 'python',\n",
    "    }\n",
    "\n",
    "for name in sorted(favorite_languages.keys()):\n",
    "    print(f\"{name.title()}, thank you for the poll.\")\n",
    "\n",
    "for language in sorted(set(favorite_languages.values())):\n",
    "    print(f\"{language.title()} was one of the selected programming languages.\")\n",
    "    \n",
    "get_language = favorite_languages.get('edward', 'Someone with this name did not take the poll.')\n",
    "print(f\"The person selected {get_language.title()} as their language.\")"
   ]
  },
  {
   "cell_type": "code",
   "execution_count": 48,
   "metadata": {},
   "outputs": [
    {
     "name": "stdout",
     "output_type": "stream",
     "text": [
      "\n",
      "Key: Jen\n",
      "Value: Python\n",
      "\n",
      "Key: Sarah\n",
      "Value: C\n",
      "\n",
      "Key: Edward\n",
      "Value: Ruby\n",
      "\n",
      "Key: Phil\n",
      "Value: Python\n"
     ]
    }
   ],
   "source": [
    "for key, value in favorite_languages.items():\n",
    "    print(f\"\\nKey: {key.title()}\")\n",
    "    print(f\"Value: {value.title()}\")"
   ]
  },
  {
   "cell_type": "markdown",
   "metadata": {},
   "source": []
  },
  {
   "cell_type": "code",
   "execution_count": 49,
   "metadata": {},
   "outputs": [
    {
     "name": "stdout",
     "output_type": "stream",
     "text": [
      "You ordered a thick-crust pizza with the following toppings:\n",
      "\tmushrooms\n",
      "\textra cheese\n"
     ]
    }
   ],
   "source": [
    "# Store information about a pizza being ordered.\n",
    "pizza = {\n",
    "    'crust': 'thick',\n",
    "    'toppings': ['mushrooms', 'extra cheese'],\n",
    "    }\n",
    "\n",
    "# Summarize the order.\n",
    "print(f\"You ordered a {pizza['crust']}-crust pizza \"    \n",
    "      \"with the following toppings:\")\n",
    "for topping in pizza['toppings']:\n",
    "    print(f\"\\t{topping}\")"
   ]
  },
  {
   "cell_type": "code",
   "execution_count": 50,
   "metadata": {},
   "outputs": [
    {
     "name": "stdout",
     "output_type": "stream",
     "text": [
      "\n",
      "Username: aeinstein\n",
      "\tFull name: Albert Einstein\n",
      "\tLocation: Princeton\n",
      "\n",
      "Username: mcurie\n",
      "\tFull name: Marie Curie\n",
      "\tLocation: Paris\n"
     ]
    }
   ],
   "source": [
    "users = {\n",
    "    'aeinstein': {\n",
    "        'first': 'albert',\n",
    "        'last': 'einstein',\n",
    "        'location': 'princeton',\n",
    "        },\n",
    "    'mcurie': {\n",
    "        'first': 'marie',\n",
    "        'last': 'curie',\n",
    "        'location': 'paris',\n",
    "        },\n",
    "    }\n",
    "for username, user_info in users.items():\n",
    "    print(f\"\\nUsername: {username}\")\n",
    "    full_name = f\"{user_info['first']} {user_info['last']}\"\n",
    "    location = user_info['location']\n",
    "    \n",
    "    print(f\"\\tFull name: {full_name.title()}\")\n",
    "    print(f\"\\tLocation: {location.title()}\")"
   ]
  },
  {
   "cell_type": "markdown",
   "metadata": {},
   "source": [
    "868km/h == 540mi/h"
   ]
  },
  {
   "cell_type": "code",
   "execution_count": 51,
   "metadata": {},
   "outputs": [],
   "source": [
    "# responses = {} # Empty dictionary\n",
    "\n",
    "# # Set a flag to indicate that polling is active.\n",
    "# polling_active = True\n",
    "# while polling_active:\n",
    "#     # Prompt for the person's name and response.\n",
    "#     name = input(\"\\nWhat is your name? \")\n",
    "#     response = input(\"Which mountain would you like to climb someday? \")\n",
    "    \n",
    "#     # Store the response in the dictionary.\n",
    "#     responses[name] = response\n",
    "    \n",
    "#     # Find out if anyone else is going to take the poll.\n",
    "#     repeat = input(\"Would you like to let another person respond? (yes/ no) \")\n",
    "#     if repeat == 'no':\n",
    "#         polling_active = False\n",
    "        \n",
    "# # Polling is complete. Show the results.\n",
    "# print(\"\\n--- Poll Results ---\")\n",
    "# for name, response in responses.items():\n",
    "#     print(f\"{name} would like to climb {response}.\")\n",
    "\n",
    "# print(responses)"
   ]
  },
  {
   "cell_type": "markdown",
   "metadata": {},
   "source": [
    "### Ch 8: Functions"
   ]
  },
  {
   "cell_type": "code",
   "execution_count": 52,
   "metadata": {},
   "outputs": [
    {
     "name": "stdout",
     "output_type": "stream",
     "text": [
      "Hello!\n"
     ]
    }
   ],
   "source": [
    "def greet_user():\n",
    "    \"\"\"Display a simple greeting.\"\"\"\n",
    "    print(\"Hello!\")\n",
    "\n",
    "greet_user()"
   ]
  },
  {
   "cell_type": "code",
   "execution_count": 53,
   "metadata": {},
   "outputs": [
    {
     "name": "stdout",
     "output_type": "stream",
     "text": [
      "Hello, jesse!\n"
     ]
    }
   ],
   "source": [
    "def greet_user(username):\n",
    "    \"\"\"Display a simple greeting.\"\"\"\n",
    "    print(f\"Hello, {username}!\")\n",
    "\n",
    "greet_user('jesse')"
   ]
  },
  {
   "cell_type": "code",
   "execution_count": 54,
   "metadata": {},
   "outputs": [
    {
     "name": "stdout",
     "output_type": "stream",
     "text": [
      "I'm learning to code!\n"
     ]
    }
   ],
   "source": [
    "# 8-1\n",
    "\n",
    "def display_message():\n",
    "    \"\"\"Display a message.\"\"\"\n",
    "    print(\"I'm learning to code!\")\n",
    "\n",
    "display_message()"
   ]
  },
  {
   "cell_type": "code",
   "execution_count": 55,
   "metadata": {},
   "outputs": [
    {
     "name": "stdout",
     "output_type": "stream",
     "text": [
      "One of my favorite books is The Lord Of The Rings.\n"
     ]
    }
   ],
   "source": [
    "# 8-2\n",
    "\n",
    "def favorite_book(title):\n",
    "    \"\"\"Display a message about your favorite book.\"\"\"\n",
    "    print(f\"One of my favorite books is {title.title()}.\")\n",
    "\n",
    "favorite_book('the lord of the rings')"
   ]
  },
  {
   "cell_type": "code",
   "execution_count": 56,
   "metadata": {},
   "outputs": [
    {
     "name": "stdout",
     "output_type": "stream",
     "text": [
      "\n",
      "I have a dog.\n",
      "My dog's name is Willie.\n",
      "\n",
      "I have a cat.\n",
      "My cat's name is Jessie.\n"
     ]
    }
   ],
   "source": [
    "def describe_pet(animal_type, pet_name):\n",
    "    \"\"\"Display information about a pet.\"\"\"\n",
    "    print(f\"\\nI have a {animal_type}.\")\n",
    "    print(f\"My {animal_type}'s name is {pet_name.title()}.\")\n",
    "\n",
    "describe_pet('dog', 'willie')\n",
    "describe_pet(animal_type='cat', pet_name='jessie')"
   ]
  },
  {
   "cell_type": "code",
   "execution_count": 57,
   "metadata": {},
   "outputs": [
    {
     "name": "stdout",
     "output_type": "stream",
     "text": [
      "\n",
      "I have a dog.\n",
      "My dog's name is Willie.\n"
     ]
    }
   ],
   "source": [
    "def describe_pet(pet_name, animal_type='dog'):\n",
    "    \"\"\"Display information about a pet.\"\"\"\n",
    "    print(f\"\\nI have a {animal_type}.\")\n",
    "    print(f\"My {animal_type}'s name is {pet_name.title()}.\")\n",
    "\n",
    "describe_pet(pet_name='willie')"
   ]
  },
  {
   "cell_type": "code",
   "execution_count": 58,
   "metadata": {},
   "outputs": [
    {
     "name": "stdout",
     "output_type": "stream",
     "text": [
      "\n",
      "I want a large shirt with the following text:\n",
      "I love Python!\n"
     ]
    }
   ],
   "source": [
    "# 8-3\n",
    "\n",
    "def make_shirt(size, text):\n",
    "    \"\"\"Display the size and text of a shirt.\"\"\"\n",
    "    print(f\"\\nI want a {size} shirt with the following text:\")\n",
    "    print(text)\n",
    "    \n",
    "make_shirt('large', 'I love Python!')"
   ]
  },
  {
   "cell_type": "code",
   "execution_count": 59,
   "metadata": {},
   "outputs": [
    {
     "name": "stdout",
     "output_type": "stream",
     "text": [
      "\n",
      "I want a large shirt with the following text:\n",
      "I love Python!\n"
     ]
    }
   ],
   "source": [
    "# 8-4\n",
    "\n",
    "def make_shirt(size, text='I love Python!'):\n",
    "    \"\"\"Display the size and text of a shirt.\"\"\"\n",
    "    print(f\"\\nI want a {size} shirt with the following text:\")\n",
    "    print(text)\n",
    "\n",
    "make_shirt('large')"
   ]
  },
  {
   "cell_type": "code",
   "execution_count": 60,
   "metadata": {},
   "outputs": [
    {
     "name": "stdout",
     "output_type": "stream",
     "text": [
      "\n",
      "New York is in United States.\n",
      "\n",
      "Los Angeles is in Canada.\n",
      "\n",
      "Paris is in France.\n"
     ]
    }
   ],
   "source": [
    "# 8-5\n",
    "\n",
    "def describe_city(city, country='united states'):\n",
    "    \"\"\"Display the name of a city and its country.\"\"\"\n",
    "    print(f\"\\n{city.title()} is in {country.title()}.\")\n",
    "\n",
    "describe_city('new york')\n",
    "describe_city('los angeles', 'canada')\n",
    "describe_city('paris', 'france')"
   ]
  },
  {
   "cell_type": "code",
   "execution_count": 61,
   "metadata": {},
   "outputs": [
    {
     "name": "stdout",
     "output_type": "stream",
     "text": [
      "Jesse Wilson\n"
     ]
    }
   ],
   "source": [
    "def get_formatted_name(first_name, last_name):\n",
    "    \"\"\"Return a full name, neatly formatted.\"\"\"\n",
    "    full_name = f\"{first_name} {last_name}\"\n",
    "    return full_name.title()\n",
    "\n",
    "# get_formatted_name('jesse', 'wilson')\n",
    "musician = get_formatted_name('jesse', 'wilson')\n",
    "print(musician)"
   ]
  },
  {
   "cell_type": "code",
   "execution_count": 62,
   "metadata": {},
   "outputs": [
    {
     "name": "stdout",
     "output_type": "stream",
     "text": [
      "Jesse Wilson James\n"
     ]
    }
   ],
   "source": [
    "def get_formatted_name(first_name, middle_name, last_name):\n",
    "    \"\"\"Return a full name, neatly formatted.\"\"\"\n",
    "    full_name = f\"{first_name} {middle_name} {last_name}\"\n",
    "    return full_name.title()\n",
    "\n",
    "musician = get_formatted_name('jesse', 'wilson', 'james')\n",
    "print(musician)"
   ]
  },
  {
   "cell_type": "code",
   "execution_count": 63,
   "metadata": {},
   "outputs": [
    {
     "name": "stdout",
     "output_type": "stream",
     "text": [
      "Jesse Wilson\n"
     ]
    }
   ],
   "source": [
    "def get_formatted_name(first_name, last_name, middle_name=''):\n",
    "    \"\"\"Return a full name, neatly formatted.\"\"\"\n",
    "    if middle_name:\n",
    "        full_name = f\"{first_name} {middle_name} {last_name}\"\n",
    "    else:\n",
    "        full_name = f\"{first_name} {last_name}\"\n",
    "    return full_name.title()\n",
    "\n",
    "musician = get_formatted_name('jesse', 'wilson')\n",
    "print(musician)"
   ]
  },
  {
   "cell_type": "code",
   "execution_count": 64,
   "metadata": {},
   "outputs": [],
   "source": [
    "# def get_formatted_name(first_name, last_name):\n",
    "#     \"\"\"Return a full name, neatly formatted.\"\"\"\n",
    "#     full_name = f\"{first_name} {last_name}\"\n",
    "#     return full_name.title()\n",
    "# # This is an infinite loop!\n",
    "# while True:\n",
    "#     print(\"\\nPlease tell me your name:\")\n",
    "#     print(\"(enter 'q' at any time to quit)\")\n",
    "#     f_name = input(\"First name: \")\n",
    "#     if f_name == 'q':\n",
    "#         break\n",
    "#     l_name = input(\"Last name: \")\n",
    "#     if l_name == 'q':\n",
    "#         break\n",
    "    \n",
    "#     formatted_name = get_formatted_name(f_name, l_name)\n",
    "#     print(f\"\\nHello, {formatted_name}!\")"
   ]
  },
  {
   "cell_type": "code",
   "execution_count": 65,
   "metadata": {},
   "outputs": [
    {
     "name": "stdout",
     "output_type": "stream",
     "text": [
      "Paris, France\n",
      "Los Angeles, United States\n",
      "New York, United States\n"
     ]
    }
   ],
   "source": [
    "# 8-6\n",
    "\n",
    "def city_country(city, country):\n",
    "    \"\"\"Return a city and country.\"\"\"\n",
    "    return f\"{city.title()}, {country.title()}\"\n",
    "\n",
    "print(city_country('paris', 'france'))\n",
    "print(city_country('los angeles', 'united states'))\n",
    "print(city_country('new york', 'united states'))"
   ]
  },
  {
   "cell_type": "code",
   "execution_count": 66,
   "metadata": {},
   "outputs": [
    {
     "name": "stdout",
     "output_type": "stream",
     "text": [
      "{'artist': 'jesse', 'album': 'the lord of the rings'}\n",
      "{'artist': 'jesse', 'album': 'the lord of the rings', 'tracks': '10'}\n"
     ]
    }
   ],
   "source": [
    "# 8-7\n",
    "\n",
    "def make_album(artist_name, album_title, tracks=''):\n",
    "    \"\"\"Return a dictionary containing information about an album.\"\"\"\n",
    "    album_info = {'artist': artist_name, 'album': album_title}\n",
    "    if tracks:\n",
    "        album_info['tracks'] = tracks\n",
    "    return album_info\n",
    "\n",
    "print(make_album('jesse', 'the lord of the rings'))\n",
    "print(make_album('jesse', 'the lord of the rings', '10'))"
   ]
  },
  {
   "cell_type": "code",
   "execution_count": 67,
   "metadata": {},
   "outputs": [
    {
     "name": "stdout",
     "output_type": "stream",
     "text": [
      "\n",
      "Please tell me your name:\n",
      "(enter 'q' at any time to quit)\n",
      "{'artist': 'Joe Shmoe', 'album': 'album title', 'tracks': '10'}\n"
     ]
    }
   ],
   "source": [
    "# 8-8\n",
    "\n",
    "def make_album(artist_name, album_title, tracks=''):\n",
    "    \"\"\"Return a dictionary containing information about an album.\"\"\"\n",
    "    album_info = {'artist': artist_name, 'album': album_title}\n",
    "    if tracks:\n",
    "        album_info['tracks'] = tracks\n",
    "    return album_info\n",
    "\n",
    "while True:\n",
    "    print(\"\\nPlease tell me your name:\")\n",
    "    print(\"(enter 'q' at any time to quit)\")\n",
    "    f_name = input(\"First name: \")\n",
    "    if f_name == 'q':\n",
    "        break\n",
    "    l_name = input(\"Last name: \")\n",
    "    if l_name == 'q':\n",
    "        break\n",
    "    formatted_name = get_formatted_name(f_name, l_name)\n",
    "    album_title = input(\"What's the album title?\")\n",
    "    tracks = input(\"How many tracks are on this album?\")\n",
    "    print(make_album(formatted_name, album_title, tracks))\n",
    "    break"
   ]
  },
  {
   "cell_type": "code",
   "execution_count": 68,
   "metadata": {},
   "outputs": [
    {
     "name": "stdout",
     "output_type": "stream",
     "text": [
      "['Hello, Jesse!', 'Hello, Willie!', 'Hello, Jessie!', 'Hello, James!']\n",
      "Hello, Jesse!\n",
      "Hello, Willie!\n",
      "Hello, Jessie!\n",
      "Hello, James!\n",
      "None\n"
     ]
    }
   ],
   "source": [
    "def greet_users(names):\n",
    "    \"\"\"Display a simple greeting to each user.\"\"\"\n",
    "    greeting = [f\"Hello, {name.title()}!\" for name in names]\n",
    "    print(greeting)\n",
    "    for name in names:\n",
    "        msg = f\"Hello, {name.title()}!\"\n",
    "        print(msg)\n",
    "        \n",
    "usernames = ['jesse', 'willie', 'jessie', 'james']\n",
    "print(greet_users(usernames))"
   ]
  },
  {
   "cell_type": "code",
   "execution_count": 69,
   "metadata": {},
   "outputs": [
    {
     "name": "stdout",
     "output_type": "stream",
     "text": [
      "Printing model: dodecahedron\n",
      "Printing model: robot pendant\n",
      "Printing model: phone case\n",
      "\n",
      "The following models have been printed:\n",
      "dodecahedron\n",
      "robot pendant\n",
      "phone case\n"
     ]
    }
   ],
   "source": [
    "# Start with some designs that need to be printed. Think of a few, \n",
    "# then write them out in your own words.\n",
    "unprinted_designs = ['phone case', 'robot pendant', 'dodecahedron']\n",
    "completed_models = []\n",
    "# Simulate printing each design, until none are left.\n",
    "#  Move each design to completed_models after printing.\n",
    "while unprinted_designs:\n",
    "    current_design = unprinted_designs.pop()\n",
    "    print(f\"Printing model: {current_design}\")\n",
    "    completed_models.append(current_design)\n",
    "    \n",
    "# Display all completed models.\n",
    "print(\"\\nThe following models have been printed:\")\n",
    "for completed_model in completed_models:\n",
    "    print(completed_model)"
   ]
  },
  {
   "cell_type": "code",
   "execution_count": 70,
   "metadata": {},
   "outputs": [
    {
     "name": "stdout",
     "output_type": "stream",
     "text": [
      "Printing model: dodecahedron\n",
      "Printing model: robot pendant\n",
      "Printing model: phone case\n",
      "\n",
      "The following models have been printed:\n",
      "dodecahedron\n",
      "robot pendant\n",
      "phone case\n",
      "['phone case', 'robot pendant', 'dodecahedron'] ['dodecahedron', 'robot pendant', 'phone case']\n"
     ]
    }
   ],
   "source": [
    "# Start with some designs that need to be printed. Think of a few, \n",
    "# then write them out in your own words.\n",
    "\n",
    "# Create a function that prints the models.\n",
    "# Simulate printing each design, until none are left.\n",
    "#  Move each design to completed_models after printing.\n",
    "def printing_designs(unprinted_designs, completed_models):\n",
    "    while unprinted_designs:\n",
    "        current_design = unprinted_designs.pop()\n",
    "        print(f\"Printing model: {current_design}\")\n",
    "        completed_models.append(current_design)\n",
    "    return completed_models\n",
    "\n",
    "# Display all completed models. Given the following code, and then execute it:\n",
    "unprinted_designs = ['phone case', 'robot pendant', 'dodecahedron']\n",
    "completed_models = []\n",
    "\n",
    "# Simulate printing each design, until none are left.\n",
    "printing_designs(unprinted_designs[:], completed_models)\n",
    "\n",
    "# Display all completed models.\n",
    "print(\"\\nThe following models have been printed:\")\n",
    "for completed_model in completed_models:\n",
    "    print(completed_model)\n",
    "\n",
    "print(unprinted_designs, completed_models)"
   ]
  },
  {
   "cell_type": "code",
   "execution_count": 71,
   "metadata": {},
   "outputs": [
    {
     "name": "stdout",
     "output_type": "stream",
     "text": [
      "hello\n",
      "world\n",
      "how are you\n"
     ]
    }
   ],
   "source": [
    "# 8-9\n",
    "\n",
    "def show_messages(messages):\n",
    "    \"\"\"Print a list of messages.\"\"\"\n",
    "    for message in messages:\n",
    "        print(message)\n",
    "\n",
    "messages = ['hello', 'world', 'how are you']\n",
    "\n",
    "show_messages(messages)"
   ]
  },
  {
   "cell_type": "code",
   "execution_count": 72,
   "metadata": {},
   "outputs": [
    {
     "name": "stdout",
     "output_type": "stream",
     "text": [
      "how are you\n",
      "world\n",
      "hello\n"
     ]
    }
   ],
   "source": [
    "# 8-10\n",
    "\n",
    "messages = ['hello', 'world', 'how are you']\n",
    "sent_messages = []\n",
    "\n",
    "def send_messages(messages):\n",
    "    \"\"\"Print a list of messages.\"\"\"\n",
    "    while messages:\n",
    "        current_message = messages.pop()\n",
    "        print(current_message)\n",
    "        sent_messages.append(current_message)\n",
    "        \n",
    "send_messages(messages)"
   ]
  },
  {
   "cell_type": "code",
   "execution_count": 73,
   "metadata": {},
   "outputs": [
    {
     "name": "stdout",
     "output_type": "stream",
     "text": [
      "how are you\n",
      "world\n",
      "hello\n",
      "['hello', 'world', 'how are you'] ['how are you', 'world', 'hello']\n"
     ]
    }
   ],
   "source": [
    "# 8-11\n",
    "\n",
    "messages = ['hello', 'world', 'how are you']\n",
    "sent_messages = []\n",
    "\n",
    "def send_messages(messages):\n",
    "    \"\"\"Print a list of messages.\"\"\"\n",
    "    while messages:\n",
    "        current_message = messages.pop()\n",
    "        print(current_message)\n",
    "        sent_messages.append(current_message)\n",
    "        \n",
    "send_messages(messages[:])\n",
    "print(messages, sent_messages)"
   ]
  },
  {
   "cell_type": "markdown",
   "metadata": {},
   "source": [
    "You can mix positional, keyword, and arbitrary values in many different ways when writing your own functions.\n",
    "\n",
    "You’ll often see the generic parameter name `*args,` which collects arbitrary positional arguments like this.\n",
    "\n",
    "You’ll often see the parameter name `**kwargs` used to collect non-specific keyword arguments.\n"
   ]
  },
  {
   "cell_type": "code",
   "execution_count": 74,
   "metadata": {},
   "outputs": [
    {
     "name": "stdout",
     "output_type": "stream",
     "text": [
      "{'location': 'princeton', 'field': 'physics', 'first_name': 'albert', 'last_name': 'einstein'}\n"
     ]
    }
   ],
   "source": [
    "def build_profile(first, last, **user_info):\n",
    "    \"\"\"Build a dictionary containing everything we know about a user.\"\"\"\n",
    "    user_info['first_name'] = first\n",
    "    user_info['last_name'] = last\n",
    "    return user_info\n",
    "user_profile = build_profile('albert', 'einstein',\n",
    "                             location='princeton',\n",
    "                             field='physics')\n",
    "print(user_profile)"
   ]
  },
  {
   "cell_type": "code",
   "execution_count": 75,
   "metadata": {},
   "outputs": [
    {
     "name": "stdout",
     "output_type": "stream",
     "text": [
      "\n",
      "Making a sandwich with the following toppings:\n",
      "\t- ham\n",
      "\t- cheese\n"
     ]
    }
   ],
   "source": [
    "# 8-12\n",
    "\n",
    "def make_sandwich(*toppings):\n",
    "    \"\"\"Print the list of toppings that have been requested.\"\"\"\n",
    "    print(f\"\\nMaking a sandwich with the following toppings:\")\n",
    "    for topping in toppings:\n",
    "        print(f\"\\t- {topping}\")\n",
    "\n",
    "make_sandwich('ham', 'cheese')"
   ]
  },
  {
   "cell_type": "code",
   "execution_count": 76,
   "metadata": {},
   "outputs": [
    {
     "name": "stdout",
     "output_type": "stream",
     "text": [
      "{'first_name': 'albert', 'last_name': 'einstein'}\n",
      "{'location': 'princeton', 'field': 'physics', 'first_name': 'albert', 'last_name': 'einstein'}\n"
     ]
    }
   ],
   "source": [
    "# 8-13\n",
    "\n",
    "def user_profile(**user_info):\n",
    "    \"\"\"Build a dictionary containing everything we know about a user.\"\"\"\n",
    "    return user_info\n",
    "\n",
    "user_info = user_profile(first_name='albert', last_name='einstein')\n",
    "print(user_info)\n",
    "\n",
    "def build_profile(first, last, **user_info):\n",
    "    \"\"\"Build a dictionary containing everything we know about a user.\"\"\"\n",
    "    user_info['first_name'] = first\n",
    "    user_info['last_name'] = last\n",
    "    return user_info\n",
    "\n",
    "# build_profile('albert', 'einstein', location='princeton', field='physics')\n",
    "print(build_profile('albert', 'einstein', location='princeton', field='physics'))"
   ]
  },
  {
   "cell_type": "code",
   "execution_count": 77,
   "metadata": {},
   "outputs": [
    {
     "data": {
      "text/plain": [
       "{'color': 'blue',\n",
       " 'tow_package': True,\n",
       " 'manufacturer': 'subaru',\n",
       " 'model': 'outback'}"
      ]
     },
     "execution_count": 77,
     "metadata": {},
     "output_type": "execute_result"
    }
   ],
   "source": [
    "# 8-14\n",
    "\n",
    "def make_car(manufacturer, model, **car_info):\n",
    "    \"\"\"Build a dictionary containing everything we know about a car.\"\"\"\n",
    "    car_info['manufacturer'] = manufacturer\n",
    "    car_info['model'] = model\n",
    "    return car_info\n",
    "\n",
    "make_car('subaru', 'outback', color='blue', tow_package=True)"
   ]
  },
  {
   "cell_type": "code",
   "execution_count": 78,
   "metadata": {},
   "outputs": [
    {
     "name": "stdout",
     "output_type": "stream",
     "text": [
      "Printing model: dodecahedron\n",
      "Printing model: robot pendant\n",
      "Printing model: phone case\n"
     ]
    }
   ],
   "source": [
    "# 8-15\n",
    "\n",
    "from printing_functions import print_models as pm\n",
    "# from printing_functions import *\n",
    "\n",
    "# Display all completed models. Given the following code, and then execute it:\n",
    "unprinted_designs = ['phone case', 'robot pendant', 'dodecahedron']\n",
    "completed_models = []\n",
    "\n",
    "# Simulate printing each design, until none are left.\n",
    "pm(unprinted_designs[:], completed_models)"
   ]
  },
  {
   "cell_type": "markdown",
   "metadata": {},
   "source": [
    "The __init__ method is a special method that is called when you create a new instance of a class. You can use this method to initialize the attributes of the new instance."
   ]
  },
  {
   "cell_type": "code",
   "execution_count": 79,
   "metadata": {},
   "outputs": [],
   "source": [
    "class Dog:\n",
    "    \"\"\"A simple attempt to model a dog.\"\"\"\n",
    "    \n",
    "    def __init__(self, name, age):\n",
    "        \"\"\"Initialize name and age attributes.\"\"\"\n",
    "        self.name = name.title()\n",
    "        self.age = age\n",
    "        \n",
    "    def sit(self):\n",
    "        \"\"\"Simulate a dog sitting in response to a command.\"\"\"\n",
    "        print(f\"{self.name} is now sitting.\")\n",
    "        \n",
    "    def roll_over(self):\n",
    "        \"\"\"Simulate rolling over in response to a command.\"\"\"\n",
    "        print(f\"{self.name} rolled over!\")"
   ]
  },
  {
   "cell_type": "code",
   "execution_count": 80,
   "metadata": {},
   "outputs": [
    {
     "name": "stdout",
     "output_type": "stream",
     "text": [
      "My dog's name is Willie.\n",
      "My dog is 6 years old.\n",
      "Willie is now sitting.\n",
      "Willie rolled over!\n"
     ]
    }
   ],
   "source": [
    "my_dog = Dog('willie', 6)\n",
    "\n",
    "print(f\"My dog's name is {my_dog.name}.\")\n",
    "print(f\"My dog is {my_dog.age} years old.\")\n",
    "my_dog.sit()\n",
    "my_dog.roll_over()"
   ]
  },
  {
   "cell_type": "code",
   "execution_count": 81,
   "metadata": {},
   "outputs": [
    {
     "name": "stdout",
     "output_type": "stream",
     "text": [
      "My dog's name is Willie.\n",
      "My dog is 6 years old.\n",
      "Willie is now sitting.\n",
      "Your dog's name is Lucy.\n",
      "Your dog is 3 years old.\n",
      "Lucy is now sitting.\n"
     ]
    }
   ],
   "source": [
    "my_dog = Dog('willie', 6)\n",
    "your_dog = Dog('lucy', 3)\n",
    "\n",
    "print(f\"My dog's name is {my_dog.name}.\")\n",
    "print(f\"My dog is {my_dog.age} years old.\")\n",
    "my_dog.sit()\n",
    "\n",
    "print(f\"Your dog's name is {your_dog.name}.\")\n",
    "print(f\"Your dog is {your_dog.age} years old.\")\n",
    "your_dog.sit()"
   ]
  },
  {
   "cell_type": "code",
   "execution_count": 82,
   "metadata": {},
   "outputs": [
    {
     "name": "stdout",
     "output_type": "stream",
     "text": [
      "The Best serves wonderful pizza.\n"
     ]
    }
   ],
   "source": [
    "# 9-1\n",
    "\n",
    "class Restaurant:\n",
    "    \"\"\"A simple attempt to model a restaurant.\"\"\"\n",
    "    \n",
    "    def __init__(self, name, cuisine_type):\n",
    "        \"\"\"Initialize name and cuisine_type attributes.\"\"\"\n",
    "        self.name = name.title()\n",
    "        self.cuisine_type = cuisine_type\n",
    "        \n",
    "    def describe_restaurant(self):\n",
    "        \"\"\"Describe the restaurant.\"\"\"\n",
    "        print(f\"{self.name} serves wonderful {self.cuisine_type}.\")\n",
    "        \n",
    "    def open_restaurant(self):\n",
    "        \"\"\"Simulate opening the restaurant.\"\"\"\n",
    "        print(f\"{self.name} is now open!\")\n",
    "        \n",
    "restaurant = Restaurant('the best', 'pizza')\n",
    "restaurant.describe_restaurant()"
   ]
  },
  {
   "cell_type": "code",
   "execution_count": 83,
   "metadata": {},
   "outputs": [
    {
     "name": "stdout",
     "output_type": "stream",
     "text": [
      "The Best serves wonderful pizza.\n",
      "The Worst serves wonderful lasagna.\n",
      "The Middle Of The Road serves wonderful spaghetti.\n"
     ]
    }
   ],
   "source": [
    "# 9-2\n",
    "# Start with your class from Exercise 9-1. Create three \n",
    "# different instances from the class, and call describe_restaurant() for each \n",
    "# instance.\n",
    "\n",
    "my_restaurant = Restaurant('the best', 'pizza')\n",
    "my_restaurant.describe_restaurant()\n",
    "\n",
    "your_restaurant = Restaurant('the worst', 'lasagna')\n",
    "your_restaurant.describe_restaurant()\n",
    "\n",
    "her_restaurant = Restaurant('the middle of the road', 'spaghetti')\n",
    "her_restaurant.describe_restaurant()"
   ]
  },
  {
   "cell_type": "code",
   "execution_count": 84,
   "metadata": {},
   "outputs": [],
   "source": [
    "# 9-3\n",
    "\n",
    "class User:\n",
    "    \"\"\"A simple attempt to model a user.\"\"\"\n",
    "    \n",
    "    def __init__(self, first_name, last_name):\n",
    "        \"\"\"Initialize first_name and last_name attributes.\"\"\"\n",
    "        self.first_name = first_name.title()\n",
    "        self.last_name = last_name.title()\n",
    "        \n",
    "    def describe_user(self):\n",
    "        \"\"\"Describe the user.\"\"\"\n",
    "        print(f\"\\nThe user's name is {self.first_name} {self.last_name}.\")\n",
    "        \n",
    "    def greet_user(self):\n",
    "        \"\"\"Simulate greeting the user.\"\"\"\n",
    "        print(f\"\\nWelcome, {self.first_name}!\")"
   ]
  },
  {
   "cell_type": "code",
   "execution_count": 85,
   "metadata": {},
   "outputs": [
    {
     "name": "stdout",
     "output_type": "stream",
     "text": [
      "\n",
      "The user's name is Albert Einstein.\n",
      "\n",
      "Welcome, Michael!\n"
     ]
    }
   ],
   "source": [
    "describe_user = User('albert', 'einstein')\n",
    "describe_user.describe_user()\n",
    "\n",
    "greet_user = User('michael', 'dubay')\n",
    "greet_user.greet_user()"
   ]
  },
  {
   "cell_type": "code",
   "execution_count": 86,
   "metadata": {},
   "outputs": [],
   "source": [
    "class Car:\n",
    "    \"\"\"A simple attempt to model a car.\"\"\"\n",
    "    \n",
    "    def __init__(self, make, model, year):\n",
    "        \"\"\"Initialize make, model, and year attributes.\"\"\"\n",
    "        self.make = make.title()\n",
    "        self.model = model.title()\n",
    "        self.year = year\n",
    "        self.odometer_reading = 0\n",
    "        \n",
    "    def get_descriptive_name(self):\n",
    "        \"\"\"Return a neatly formatted descriptive name.\"\"\"\n",
    "        long_name = f\"{self.year} {self.make} {self.model}\"\n",
    "        return long_name.title()\n",
    "    \n",
    "    def read_odometer(self):\n",
    "        \"\"\"Print a statement showing the car's mileage.\"\"\"\n",
    "        print(f\"This car has {self.odometer_reading} miles on it.\")\n",
    "        \n",
    "    def update_odometer(self, mileage):\n",
    "        \"\"\"\n",
    "        Set the odometer reading to the given value.\n",
    "        Reject the change if it attempts to roll the odometer back.\n",
    "        \"\"\"\n",
    "        if mileage >= self.odometer_reading:\n",
    "            self.odometer_reading = mileage\n",
    "        else:\n",
    "            print(\"You can't roll back an odometer!\")\n",
    "    \n",
    "    def increment_odometer(self, miles):\n",
    "        \"\"\"Add the given amount to the odometer reading.\"\"\"\n",
    "        if miles >= 0:\n",
    "            self.odometer_reading += miles\n",
    "        else:\n",
    "            print(\"You can't roll back an odometer!\")"
   ]
  },
  {
   "cell_type": "code",
   "execution_count": 87,
   "metadata": {},
   "outputs": [
    {
     "name": "stdout",
     "output_type": "stream",
     "text": [
      "2016 Audi A4\n",
      "This car has 0 miles on it.\n",
      "This car has 23 miles on it.\n",
      "2013 Subaru Outback\n",
      "This car has 23500 miles on it.\n",
      "This car has 23600 miles on it.\n"
     ]
    }
   ],
   "source": [
    "my_new_car = Car('audi', 'a4', '2016')\n",
    "print(my_new_car.get_descriptive_name())\n",
    "my_new_car.read_odometer()\n",
    "\n",
    "my_new_car.odometer_reading = 23\n",
    "my_new_car.read_odometer()\n",
    "\n",
    "### Modifying an Attribute’s Value Through a Method\n",
    "# Sometimes you’ll want to access attributes directly like this, but other \n",
    "# times you’ll want to write a method that updates the value for you.\n",
    "\n",
    "my_used_car = Car('subaru', 'outback', '2013')\n",
    "print(my_used_car.get_descriptive_name())\n",
    "\n",
    "my_used_car.update_odometer(23_500)\n",
    "my_used_car.read_odometer()\n",
    "\n",
    "my_used_car.increment_odometer(100)\n",
    "my_used_car.read_odometer()"
   ]
  },
  {
   "cell_type": "code",
   "execution_count": 88,
   "metadata": {},
   "outputs": [],
   "source": [
    "# 9-4\n",
    "\n",
    "class Restaurant:\n",
    "    \"\"\"A simple attempt to model a restaurant.\"\"\"\n",
    "    \n",
    "    def __init__(self, name, cuisine_type):\n",
    "        \"\"\"Initialize name and cuisine_type attributes.\"\"\"\n",
    "        self.name = name.title()\n",
    "        self.cuisine_type = cuisine_type\n",
    "        self.number_served = 0\n",
    "        \n",
    "    def describe_restaurant(self):\n",
    "        \"\"\"Describe the restaurant.\"\"\"\n",
    "        print(f\"{self.name} serves wonderful {self.cuisine_type}.\")\n",
    "        \n",
    "    def open_restaurant(self):\n",
    "        \"\"\"Simulate opening the restaurant.\"\"\"\n",
    "        print(f\"{self.name} is now open!\")\n",
    "    \n",
    "    def customers_served(self):\n",
    "        \"\"\"Print the number of customers served.\"\"\"\n",
    "        print(f\"We have served {self.number_served} customers.\")\n",
    "    \n",
    "    def set_number_served(self, customers):\n",
    "        \"\"\"Set the number of customers served.\"\"\"\n",
    "        self.number_served = customers\n",
    "    \n",
    "    def increment_number_served(self, customers):\n",
    "        \"\"\"Add the given amount to the number of customers served.\"\"\"\n",
    "        if customers >= 0:\n",
    "            self.number_served += customers\n",
    "        else:\n",
    "            print(\"Please provide a positive number of customers.\")"
   ]
  },
  {
   "cell_type": "code",
   "execution_count": 89,
   "metadata": {},
   "outputs": [],
   "source": [
    "    # def number_served(self):\n",
    "    #     \"\"\"Print the number of customers served.\"\"\"\n",
    "    #     if self.customers_served == 0:\n",
    "    #         print(f\"{self.name} has not served any customers.\")\n",
    "    #     elif self.customers_served > 0:\n",
    "    #         print(f\"{self.name} has served {self.number_served} customers.\")"
   ]
  },
  {
   "cell_type": "code",
   "execution_count": 90,
   "metadata": {},
   "outputs": [
    {
     "name": "stdout",
     "output_type": "stream",
     "text": [
      "The Best serves wonderful pizza.\n",
      "We have served 10 customers.\n",
      "We have served 15 customers.\n"
     ]
    }
   ],
   "source": [
    "my_restaurant = Restaurant('the best', 'pizza')\n",
    "my_restaurant.describe_restaurant()\n",
    "\n",
    "restaurant = Restaurant('the worst', 'lasagna')\n",
    "restaurant.set_number_served(10)\n",
    "restaurant.customers_served()\n",
    "restaurant.increment_number_served(5)\n",
    "restaurant.customers_served()"
   ]
  },
  {
   "cell_type": "code",
   "execution_count": 91,
   "metadata": {},
   "outputs": [],
   "source": [
    "# 9-5\n",
    "# Login Attempts: Add an attribute called login_attempts to your User \n",
    "# class from Exercise 9-3. Write a method called increment_login_attempts() \n",
    "# that increments the value of login_attempts by 1. Write another method \n",
    "# called reset_login_attempts() that resets the value of login_attempts to 0.  \n",
    "\n",
    "class User:\n",
    "    \"\"\"A simple attempt to model a user.\"\"\"\n",
    "    \n",
    "    def __init__(self, first_name, last_name):\n",
    "        \"\"\"Initialize first_name and last_name attributes.\"\"\"\n",
    "        self.first_name = first_name.title()\n",
    "        self.last_name = last_name.title()\n",
    "        self.login_attempts = 0\n",
    "        \n",
    "    def describe_user(self):\n",
    "        \"\"\"Describe the user.\"\"\"\n",
    "        print(f\"\\nThe user's name is {self.first_name} {self.last_name}.\")\n",
    "        \n",
    "    def greet_user(self):\n",
    "        \"\"\"Simulate greeting the user.\"\"\"\n",
    "        print(f\"\\nWelcome, {self.first_name}!\")\n",
    "    \n",
    "    def increment_login_attempts(self):\n",
    "        \"\"\"Increment the value of login_attempts by 1.\"\"\"\n",
    "        self.login_attempts += 1\n",
    "        \n",
    "    def reset_login_attempts(self):\n",
    "        \"\"\"Reset the value of login_attempts to 0.\"\"\"\n",
    "        self.login_attempts = 0\n",
    "        \n",
    "    def show_login_attempts(self):\n",
    "        \"\"\"Print the value of login_attempts.\"\"\"\n",
    "        print(f\"\\nThe user {self.first_name} {self.last_name} has attempted to \"\n",
    "              f\"login {self.login_attempts} times.\")"
   ]
  },
  {
   "cell_type": "code",
   "execution_count": 92,
   "metadata": {},
   "outputs": [
    {
     "name": "stdout",
     "output_type": "stream",
     "text": [
      "\n",
      "The user's name is Albert Einstein.\n",
      "\n",
      "Welcome, Michael!\n",
      "\n",
      "The user Albert Einstein has attempted to login 1 times.\n",
      "\n",
      "The user Albert Einstein has attempted to login 0 times.\n"
     ]
    }
   ],
   "source": [
    "describe_user = User('albert', 'einstein')\n",
    "describe_user.describe_user()\n",
    "\n",
    "greet_user = User('michael', 'dubay')\n",
    "greet_user.greet_user()\n",
    "\n",
    "user_info = User('albert', 'einstein')\n",
    "user_info.increment_login_attempts()\n",
    "user_info.show_login_attempts()\n",
    "user_info.reset_login_attempts()\n",
    "user_info.show_login_attempts()"
   ]
  },
  {
   "cell_type": "code",
   "execution_count": null,
   "metadata": {},
   "outputs": [],
   "source": []
  }
 ],
 "metadata": {
  "kernelspec": {
   "display_name": "Python 3.8.10 64-bit",
   "language": "python",
   "name": "python3"
  },
  "language_info": {
   "codemirror_mode": {
    "name": "ipython",
    "version": 3
   },
   "file_extension": ".py",
   "mimetype": "text/x-python",
   "name": "python",
   "nbconvert_exporter": "python",
   "pygments_lexer": "ipython3",
   "version": "3.8.10"
  },
  "orig_nbformat": 4,
  "vscode": {
   "interpreter": {
    "hash": "767d51c1340bd893661ea55ea3124f6de3c7a262a8b4abca0554b478b1e2ff90"
   }
  }
 },
 "nbformat": 4,
 "nbformat_minor": 2
}
