{
 "cells": [
  {
   "cell_type": "code",
   "execution_count": 1,
   "metadata": {},
   "outputs": [
    {
     "name": "stdout",
     "output_type": "stream",
     "text": [
      "Hello world\n"
     ]
    }
   ],
   "source": [
    "# 2.1\n",
    "\n",
    "message = \"Hello world\"\n",
    "print(message) # Hello world\n"
   ]
  },
  {
   "cell_type": "code",
   "execution_count": 2,
   "metadata": {},
   "outputs": [
    {
     "name": "stdout",
     "output_type": "stream",
     "text": [
      "Goodbye world\n"
     ]
    }
   ],
   "source": [
    "# 2.2\n",
    "\n",
    "message = \"Goodbye world\"\n",
    "print(message)"
   ]
  },
  {
   "cell_type": "code",
   "execution_count": 3,
   "metadata": {},
   "outputs": [
    {
     "name": "stdout",
     "output_type": "stream",
     "text": [
      "ada lovelace\n",
      "Hello, Ada Lovelace\n",
      "Hello, Ada Lovelace\n"
     ]
    }
   ],
   "source": [
    "first_name = \"ada\"\n",
    "last_name = \"lovelace\"\n",
    "full_name = f\"{first_name} {last_name}\"\n",
    "print(full_name) # ada lovelace\n",
    "print(f\"Hello, {full_name.title()}\")\n",
    "message = f\"Hello, {full_name.title()}\"\n",
    "print(message) # Hello, Ada Lovelace"
   ]
  },
  {
   "cell_type": "code",
   "execution_count": 4,
   "metadata": {},
   "outputs": [
    {
     "name": "stdout",
     "output_type": "stream",
     "text": [
      "Hello, Michael. Would you like to learn some Python today?\n"
     ]
    }
   ],
   "source": [
    "# 2.3\n",
    "\n",
    "name = \"michael\"\n",
    "hello_message = f\"Hello, {name.title()}. Would you like \"\n",
    "hello_message += \"to learn some Python today?\"\n",
    "print(hello_message)"
   ]
  },
  {
   "cell_type": "code",
   "execution_count": 5,
   "metadata": {},
   "outputs": [
    {
     "name": "stdout",
     "output_type": "stream",
     "text": [
      "michael\n",
      "MICHAEL\n",
      "Michael\n"
     ]
    }
   ],
   "source": [
    "# 2.4\n",
    "\n",
    "print(name.lower())\n",
    "print(name.upper())\n",
    "print(name.title())"
   ]
  },
  {
   "cell_type": "code",
   "execution_count": 6,
   "metadata": {},
   "outputs": [
    {
     "name": "stdout",
     "output_type": "stream",
     "text": [
      "Albert Einstein once said, \"A person who never made a mistake never tried anything new.\"\n"
     ]
    }
   ],
   "source": [
    "# 2.5\n",
    "\n",
    "famous_person = \"Albert Einstein\"\n",
    "quote = \"A person who never made a mistake never tried anything new.\"\n",
    "\n",
    "print(f\"{famous_person.title()} once said, \\\"{quote}\\\"\")"
   ]
  },
  {
   "cell_type": "code",
   "execution_count": 7,
   "metadata": {},
   "outputs": [
    {
     "name": "stdout",
     "output_type": "stream",
     "text": [
      "Albert Einstein once said, \"A person who never made a mistake never tried anything new.\"\n"
     ]
    }
   ],
   "source": [
    "# 2.6\n",
    "\n",
    "message = quote\n",
    "\n",
    "print(f\"{famous_person.title()} once said, \\\"{message}\\\"\")"
   ]
  },
  {
   "cell_type": "code",
   "execution_count": 8,
   "metadata": {},
   "outputs": [
    {
     "name": "stdout",
     "output_type": "stream",
     "text": [
      "  mike\n",
      "\t halladay  \n",
      "mike\n",
      "\t halladay  \n",
      "  mike\n",
      "\t halladay\n",
      "mike\n",
      "\t halladay\n"
     ]
    }
   ],
   "source": [
    "# 2.7\n",
    "# Strip the spaces from the beginning and end of the string\n",
    "name = \"  mike\\n\\t halladay  \"\n",
    "print(name)\n",
    "\n",
    "print(name.lstrip())\n",
    "print(name.rstrip())\n",
    "print(name.strip())"
   ]
  },
  {
   "cell_type": "code",
   "execution_count": 9,
   "metadata": {},
   "outputs": [
    {
     "name": "stdout",
     "output_type": "stream",
     "text": [
      "8\n",
      "8\n",
      "8\n",
      "8.0\n"
     ]
    }
   ],
   "source": [
    "# 2.8\n",
    "print(5 + 3)\n",
    "print(11 - 3)\n",
    "print(4 * 2)\n",
    "print(64 / 8)"
   ]
  },
  {
   "cell_type": "code",
   "execution_count": 10,
   "metadata": {},
   "outputs": [
    {
     "name": "stdout",
     "output_type": "stream",
     "text": [
      "My favorite number is 18\n"
     ]
    }
   ],
   "source": [
    "# 2.9\n",
    "# Print a message with my favorite number\n",
    "favorite_number = 18\n",
    "print(f\"My favorite number is {favorite_number}\")"
   ]
  },
  {
   "cell_type": "code",
   "execution_count": 11,
   "metadata": {},
   "outputs": [
    {
     "name": "stdout",
     "output_type": "stream",
     "text": [
      "The Zen of Python, by Tim Peters\n",
      "\n",
      "Beautiful is better than ugly.\n",
      "Explicit is better than implicit.\n",
      "Simple is better than complex.\n",
      "Complex is better than complicated.\n",
      "Flat is better than nested.\n",
      "Sparse is better than dense.\n",
      "Readability counts.\n",
      "Special cases aren't special enough to break the rules.\n",
      "Although practicality beats purity.\n",
      "Errors should never pass silently.\n",
      "Unless explicitly silenced.\n",
      "In the face of ambiguity, refuse the temptation to guess.\n",
      "There should be one-- and preferably only one --obvious way to do it.\n",
      "Although that way may not be obvious at first unless you're Dutch.\n",
      "Now is better than never.\n",
      "Although never is often better than *right* now.\n",
      "If the implementation is hard to explain, it's a bad idea.\n",
      "If the implementation is easy to explain, it may be a good idea.\n",
      "Namespaces are one honking great idea -- let's do more of those!\n"
     ]
    }
   ],
   "source": [
    "import this"
   ]
  },
  {
   "cell_type": "code",
   "execution_count": 12,
   "metadata": {},
   "outputs": [
    {
     "name": "stdout",
     "output_type": "stream",
     "text": [
      "John\n",
      "Jacob\n",
      "Jingle\n",
      "Heiner\n",
      "Schmidt\n",
      "Karen\n"
     ]
    }
   ],
   "source": [
    "# 3-1\n",
    "\n",
    "names = ['john', 'jacob', 'jingle', 'heiner', 'schmidt', 'karen']\n",
    "for name in names:\n",
    "    print(name.title())"
   ]
  },
  {
   "cell_type": "code",
   "execution_count": 13,
   "metadata": {},
   "outputs": [
    {
     "name": "stdout",
     "output_type": "stream",
     "text": [
      "Dear John, good to see you.\n",
      "Dear Jacob, good to see you.\n",
      "Dear Jingle, good to see you.\n",
      "Dear Heiner, good to see you.\n",
      "Dear Schmidt, good to see you.\n",
      "Dear Karen, good to see you.\n"
     ]
    }
   ],
   "source": [
    "# 3-2\n",
    "for name in names:\n",
    "    print(f'Dear {name.title()}, good to see you.')"
   ]
  },
  {
   "cell_type": "code",
   "execution_count": 14,
   "metadata": {},
   "outputs": [
    {
     "name": "stdout",
     "output_type": "stream",
     "text": [
      "I would like to own a Honda Motorcycle.\n",
      "I would like to own a Nissan Rogue.\n",
      "I would like to own a Kawasaki Ninja.\n",
      "I would like to own a Harley Davidson.\n",
      "I would like to own a Mclaren F1.\n"
     ]
    }
   ],
   "source": [
    "# 3-3\n",
    "\n",
    "favorite_transportation = ['honda motorcycle', 'nissan rogue', 'kawasaki ninja', 'harley davidson', 'mclaren f1']\n",
    "for transportation in favorite_transportation:\n",
    "    print(f\"I would like to own a {transportation.title()}.\")\n",
    "    "
   ]
  },
  {
   "cell_type": "code",
   "execution_count": 15,
   "metadata": {},
   "outputs": [
    {
     "name": "stdout",
     "output_type": "stream",
     "text": [
      "I would like to own a Hyundai Senata.\n",
      "I would like to own a Honda Motorcycle.\n",
      "I would like to own a Nissan Rogue.\n",
      "I would like to own a Kawasaki Ninja.\n",
      "I would like to own a Harley Davidson.\n",
      "I would like to own a Mclaren F1.\n",
      "I would like to own a Ferrari Enzo.\n"
     ]
    }
   ],
   "source": [
    "favorite_transportation.append('ferrari enzo')\n",
    "favorite_transportation.insert(0, 'hyundai senata')\n",
    "for transportation in favorite_transportation:\n",
    "    print(f\"I would like to own a {transportation.title()}.\")"
   ]
  },
  {
   "cell_type": "code",
   "execution_count": 16,
   "metadata": {},
   "outputs": [
    {
     "name": "stdout",
     "output_type": "stream",
     "text": [
      "Hello, Pablo Picasso, you are invited to dinner.\n",
      "Hello, Michaelangelo, you are invited to dinner.\n",
      "Hello, Leonardo Da Vinci, you are invited to dinner.\n"
     ]
    }
   ],
   "source": [
    "# 3-4\n",
    "\n",
    "guest_list = ['pablo picasso', 'michaelangelo', 'leonardo da vinci']\n",
    "for guest in guest_list:\n",
    "    print(f\"Hello, {guest.title()}, you are invited to dinner.\")"
   ]
  },
  {
   "cell_type": "code",
   "execution_count": 17,
   "metadata": {},
   "outputs": [
    {
     "name": "stdout",
     "output_type": "stream",
     "text": [
      "It's a shame that Pablo Picasso can't make dinner.\n",
      "The new guest list is:\n",
      "Vincent Van Gogh\n",
      "Michaelangelo\n",
      "Leonardo Da Vinci\n"
     ]
    }
   ],
   "source": [
    "# 3-5\n",
    "no_show = \"pablo picasso\"\n",
    "print(f\"It's a shame that {no_show.title()} can't make dinner.\")\n",
    "guest_list.remove(no_show)\n",
    "guest_list.insert(0, \"vincent van gogh\")\n",
    "\n",
    "print(\"The new guest list is:\")\n",
    "for guest in guest_list:\n",
    "    print(guest.title())"
   ]
  },
  {
   "cell_type": "code",
   "execution_count": 18,
   "metadata": {},
   "outputs": [
    {
     "name": "stdout",
     "output_type": "stream",
     "text": [
      "Hey guys, I found a bigger table!\n",
      "3\n",
      "We now have:\n",
      "Ernest Hemingway\n",
      "Vincent Van Gogh\n",
      "Sir Isaac Newton\n",
      "Michaelangelo\n",
      "Leonardo Da Vinci\n",
      "Alexander The Great\n"
     ]
    }
   ],
   "source": [
    "# 3-6\n",
    "\n",
    "print(\"Hey guys, I found a bigger table!\")\n",
    "\n",
    "print(len(guest_list))\n",
    "guest_list.insert(0, \"ernest hemingway\")\n",
    "guest_list.insert(2, \"sir isaac newton\")\n",
    "guest_list.append(\"alexander the great\")\n",
    "\n",
    "print(\"We now have:\")\n",
    "for guest in guest_list:\n",
    "    print(guest.title())"
   ]
  },
  {
   "cell_type": "code",
   "execution_count": 19,
   "metadata": {},
   "outputs": [
    {
     "name": "stdout",
     "output_type": "stream",
     "text": [
      "Sorry fellas, I can now only have two people over for dinner.\n",
      "Sorry, Alexander The Great, you cannot attend.\n",
      "Sorry, Leonardo Da Vinci, you cannot attend.\n",
      "Sorry, Michaelangelo, you cannot attend.\n",
      "Sorry, Sir Isaac Newton, you cannot attend.\n",
      "Ernest Hemingway\n",
      "Vincent Van Gogh\n",
      "You are invited to the smaller dinner.\n",
      "[]\n"
     ]
    }
   ],
   "source": [
    "# 3-7\n",
    "\n",
    "print(\"Sorry fellas, I can now only have two people over for dinner.\")\n",
    "\n",
    "while len(guest_list) > 2:\n",
    "    print(f\"Sorry, {guest_list[-1].title()}, you cannot attend.\")\n",
    "    guest_list.pop()\n",
    "for guest in guest_list:\n",
    "    print(guest.title())\n",
    "    \n",
    "print(\"You are invited to the smaller dinner.\")\n",
    "\n",
    "while len(guest_list) > 0:\n",
    "    del guest_list[0]\n",
    "    \n",
    "print(guest_list)"
   ]
  },
  {
   "cell_type": "code",
   "execution_count": 20,
   "metadata": {},
   "outputs": [
    {
     "name": "stdout",
     "output_type": "stream",
     "text": [
      "Germany\n",
      "Japan\n",
      "Australia\n",
      "Switzerland\n",
      "Ireland\n"
     ]
    }
   ],
   "source": [
    "# 3-8\n",
    "\n",
    "vacations = [\"germany\", \"japan\", \"australia\", \"switzerland\", \"ireland\"]\n",
    "for vacation in vacations:\n",
    "    print(vacation.title())"
   ]
  },
  {
   "cell_type": "code",
   "execution_count": 21,
   "metadata": {},
   "outputs": [
    {
     "name": "stdout",
     "output_type": "stream",
     "text": [
      "['australia', 'germany', 'ireland', 'japan', 'switzerland']\n"
     ]
    }
   ],
   "source": [
    "print(sorted(vacations))"
   ]
  },
  {
   "cell_type": "code",
   "execution_count": 22,
   "metadata": {},
   "outputs": [
    {
     "name": "stdout",
     "output_type": "stream",
     "text": [
      "['germany', 'japan', 'australia', 'switzerland', 'ireland']\n"
     ]
    }
   ],
   "source": [
    "print(vacations)"
   ]
  },
  {
   "cell_type": "code",
   "execution_count": 23,
   "metadata": {},
   "outputs": [
    {
     "name": "stdout",
     "output_type": "stream",
     "text": [
      "['ireland', 'switzerland', 'australia', 'japan', 'germany']\n"
     ]
    }
   ],
   "source": [
    "vacations.reverse()\n",
    "print(vacations)"
   ]
  },
  {
   "cell_type": "code",
   "execution_count": 24,
   "metadata": {},
   "outputs": [
    {
     "name": "stdout",
     "output_type": "stream",
     "text": [
      "['germany', 'japan', 'australia', 'switzerland', 'ireland']\n"
     ]
    }
   ],
   "source": [
    "vacations.reverse()\n",
    "print(vacations)"
   ]
  },
  {
   "cell_type": "code",
   "execution_count": 25,
   "metadata": {},
   "outputs": [
    {
     "name": "stdout",
     "output_type": "stream",
     "text": [
      "['australia', 'germany', 'ireland', 'japan', 'switzerland']\n"
     ]
    }
   ],
   "source": [
    "vacations.sort()\n",
    "print(vacations)"
   ]
  },
  {
   "cell_type": "code",
   "execution_count": 26,
   "metadata": {},
   "outputs": [
    {
     "name": "stdout",
     "output_type": "stream",
     "text": [
      "['switzerland', 'japan', 'ireland', 'germany', 'australia']\n"
     ]
    }
   ],
   "source": [
    "vacations.sort(reverse=True)\n",
    "print(vacations)"
   ]
  },
  {
   "cell_type": "code",
   "execution_count": 27,
   "metadata": {},
   "outputs": [
    {
     "name": "stdout",
     "output_type": "stream",
     "text": [
      "0\n"
     ]
    }
   ],
   "source": [
    "# 3-9\n",
    "\n",
    "print(len(guest_list))\n",
    "\n",
    "# 3-10 & 3-11\n",
    "# Not doing"
   ]
  },
  {
   "cell_type": "code",
   "execution_count": 28,
   "metadata": {},
   "outputs": [
    {
     "name": "stdout",
     "output_type": "stream",
     "text": [
      "I like pepperoni pizzas.\n",
      "I like sausage pizzas.\n",
      "I like meatlovers pizzas.\n",
      "I really love pizza!\n"
     ]
    }
   ],
   "source": [
    "# 4-1\n",
    "\n",
    "pizzas = [\"pepperoni\", \"sausage\", \"meatlovers\"]\n",
    "for pizza in pizzas:\n",
    "    print(f\"I like {pizza} pizzas.\")\n",
    "    \n",
    "print(\"I really love pizza!\")"
   ]
  },
  {
   "cell_type": "code",
   "execution_count": 29,
   "metadata": {},
   "outputs": [
    {
     "name": "stdout",
     "output_type": "stream",
     "text": [
      "An horned lizard would make a great pet.\n",
      "An iguana would make a great pet.\n",
      "An chameleon would make a great pet.\n",
      "Any of these animals would make a great pet!\n"
     ]
    }
   ],
   "source": [
    "# 4-2\n",
    "\n",
    "animals = [\"horned lizard\", \"iguana\", \"chameleon\"]\n",
    "# print(animals[:4])\n",
    "for animal in animals:\n",
    "    print(f\"An {animal} would make a great pet.\")\n",
    "    \n",
    "print(\"Any of these animals would make a great pet!\")"
   ]
  },
  {
   "cell_type": "code",
   "execution_count": 30,
   "metadata": {},
   "outputs": [
    {
     "name": "stdout",
     "output_type": "stream",
     "text": [
      "1\n",
      "2\n",
      "3\n",
      "4\n"
     ]
    }
   ],
   "source": [
    "for value in range(1, 5):\n",
    "    print(value)"
   ]
  },
  {
   "cell_type": "code",
   "execution_count": 31,
   "metadata": {},
   "outputs": [
    {
     "name": "stdout",
     "output_type": "stream",
     "text": [
      "[1, 2, 3, 4, 5]\n"
     ]
    }
   ],
   "source": [
    "numbers = list(range(1, 6))\n",
    "print(numbers)"
   ]
  },
  {
   "cell_type": "code",
   "execution_count": 32,
   "metadata": {},
   "outputs": [
    {
     "name": "stdout",
     "output_type": "stream",
     "text": [
      "[2, 4, 6, 8, 10]\n"
     ]
    }
   ],
   "source": [
    "even_numbers = list(range(2, 11, 2))\n",
    "print(even_numbers)"
   ]
  },
  {
   "cell_type": "code",
   "execution_count": 33,
   "metadata": {},
   "outputs": [
    {
     "name": "stdout",
     "output_type": "stream",
     "text": [
      "[1, 4, 9, 16, 25, 36, 49, 64, 81, 100]\n"
     ]
    }
   ],
   "source": [
    "squares = []\n",
    "for value in range(1, 11):\n",
    "    square = value ** 2\n",
    "    squares.append(square)\n",
    "\n",
    "print(squares)"
   ]
  },
  {
   "cell_type": "code",
   "execution_count": 34,
   "metadata": {},
   "outputs": [
    {
     "name": "stdout",
     "output_type": "stream",
     "text": [
      "0\n",
      "9\n",
      "45\n"
     ]
    }
   ],
   "source": [
    "digits = [1, 2, 3, 4 , 5, 6, 7, 8, 9, 0]\n",
    "print(min(digits))\n",
    "print(max(digits))\n",
    "print(sum(digits))"
   ]
  },
  {
   "cell_type": "markdown",
   "metadata": {},
   "source": [
    "### List Comprehension\n",
    "#### To use this syntax, begin with a descriptive name for the list (variable name). Next, open a set of square brackets and define the expression for the values you want to store in the new list."
   ]
  },
  {
   "cell_type": "code",
   "execution_count": 35,
   "metadata": {},
   "outputs": [
    {
     "name": "stdout",
     "output_type": "stream",
     "text": [
      "[1, 4, 9, 16, 25, 36, 49, 64, 81, 100]\n"
     ]
    }
   ],
   "source": [
    "# List comprehension\n",
    "\n",
    "squares = [value**2 for value in range(1, 11)]\n",
    "print(squares)"
   ]
  },
  {
   "cell_type": "code",
   "execution_count": 36,
   "metadata": {},
   "outputs": [
    {
     "name": "stdout",
     "output_type": "stream",
     "text": [
      "1\n",
      "2\n",
      "3\n",
      "4\n",
      "5\n",
      "6\n",
      "7\n",
      "8\n",
      "9\n",
      "10\n",
      "11\n",
      "12\n",
      "13\n",
      "14\n",
      "15\n",
      "16\n",
      "17\n",
      "18\n",
      "19\n",
      "20\n"
     ]
    }
   ],
   "source": [
    "# 4-3\n",
    "\n",
    "for number in range(1, 21):\n",
    "\n",
    "    print(number)"
   ]
  },
  {
   "cell_type": "code",
   "execution_count": 37,
   "metadata": {},
   "outputs": [],
   "source": [
    "# 4-4\n",
    "\n",
    "# for number in range(1, 1000001):\n",
    "#     print(number)"
   ]
  },
  {
   "cell_type": "code",
   "execution_count": 38,
   "metadata": {},
   "outputs": [
    {
     "name": "stdout",
     "output_type": "stream",
     "text": [
      "1\n",
      "1000000\n",
      "500000500000\n"
     ]
    }
   ],
   "source": [
    "# 4-5\n",
    "\n",
    "million_numbers = [number for number in range(1, 1000001)]\n",
    "\n",
    "print(min(million_numbers))\n",
    "print(max(million_numbers))\n",
    "print(sum(million_numbers))"
   ]
  },
  {
   "cell_type": "code",
   "execution_count": 39,
   "metadata": {},
   "outputs": [
    {
     "name": "stdout",
     "output_type": "stream",
     "text": [
      "1\n",
      "3\n",
      "5\n",
      "7\n",
      "9\n",
      "11\n",
      "13\n",
      "15\n",
      "17\n",
      "19\n"
     ]
    }
   ],
   "source": [
    "# 4-6\n",
    "\n",
    "odd_numbers = list(range(1,21,2))\n",
    "# print(odd_numbers)\n",
    "for number in odd_numbers:\n",
    "    print(number)"
   ]
  },
  {
   "cell_type": "code",
   "execution_count": 40,
   "metadata": {},
   "outputs": [
    {
     "name": "stdout",
     "output_type": "stream",
     "text": [
      "3\n",
      "6\n",
      "9\n",
      "12\n",
      "15\n",
      "18\n",
      "21\n",
      "24\n",
      "27\n",
      "30\n"
     ]
    }
   ],
   "source": [
    "# 4-7\n",
    "\n",
    "multiples_of_three = list(range(3, 31, 3))\n",
    "for number in multiples_of_three:\n",
    "    print(number)"
   ]
  },
  {
   "cell_type": "code",
   "execution_count": 41,
   "metadata": {},
   "outputs": [
    {
     "name": "stdout",
     "output_type": "stream",
     "text": [
      "1\n",
      "8\n",
      "27\n",
      "64\n",
      "125\n",
      "216\n",
      "343\n",
      "512\n",
      "729\n",
      "1000\n"
     ]
    }
   ],
   "source": [
    "# 4-8 && 4-9\n",
    "\n",
    "cubes = [value**3 for value in range(1, 11)]\n",
    "for cube in cubes:\n",
    "    print(cube)"
   ]
  },
  {
   "cell_type": "code",
   "execution_count": 42,
   "metadata": {},
   "outputs": [
    {
     "name": "stdout",
     "output_type": "stream",
     "text": [
      "['charles', 'martina', 'michael']\n",
      "['martina', 'michael', 'florence']\n",
      "['michael', 'florence', 'eli', 'brook', 'joe', 'chip', 'dale']\n",
      "['joe', 'chip', 'dale']\n",
      "['chip', 'dale']\n",
      "['charles', 'martina', 'michael', 'florence', 'eli', 'brook', 'joe']\n",
      "['charles', 'michael', 'eli', 'joe']\n",
      "['martina', 'florence']\n",
      "Martina\n",
      "Florence\n",
      "Brook\n"
     ]
    }
   ],
   "source": [
    "# 4-10\n",
    "\n",
    "players = ['charles', 'martina', 'michael', 'florence', 'eli', 'brook', 'joe', 'chip', 'dale']\n",
    "\n",
    "print(players[0:3])\n",
    "print(players[1:4])\n",
    "print(players[2:])\n",
    "print(players[-3:])\n",
    "print(players[-2:])\n",
    "print(players[:-2])\n",
    "print(players[:-2:2])\n",
    "print(players[1:5:2])\n",
    "\n",
    "for player in players[1:6:2]:\n",
    "    print(player.title())"
   ]
  },
  {
   "cell_type": "code",
   "execution_count": 43,
   "metadata": {},
   "outputs": [
    {
     "name": "stdout",
     "output_type": "stream",
     "text": [
      "['pizza', 'falafel', 'carrot cake', 'pudding']\n",
      "['pizza', 'falafel', 'carrot cake', 'pudding']\n",
      "['pizza', 'falafel', 'carrot cake', 'pudding', 'apple pie']\n",
      "['pizza', 'falafel', 'carrot cake', 'pudding', 'cherry pie']\n"
     ]
    }
   ],
   "source": [
    "# 4-11\n",
    "\n",
    "my_foods = ['pizza', 'falafel', 'carrot cake', 'pudding']\n",
    "\n",
    "# You need the [:] to make a copy of the list without further \n",
    "# tracking of the original list. Basically, forking vs cloning.\n",
    "friend_foods = my_foods[:]\n",
    "print(my_foods)\n",
    "print(friend_foods)\n",
    "\n",
    "my_foods.append('apple pie')\n",
    "friend_foods.append('cherry pie')\n",
    "\n",
    "print(my_foods)\n",
    "print(friend_foods)"
   ]
  },
  {
   "cell_type": "code",
   "execution_count": 44,
   "metadata": {},
   "outputs": [
    {
     "name": "stdout",
     "output_type": "stream",
     "text": [
      "pizza\n",
      "falafel\n",
      "carrot cake\n",
      "pudding\n",
      "apple pie\n",
      "\n",
      "\n",
      "pizza\n",
      "falafel\n",
      "carrot cake\n",
      "pudding\n",
      "cherry pie\n"
     ]
    }
   ],
   "source": [
    "# 4-12\n",
    "\n",
    "for food in my_foods:\n",
    "    print(food)\n",
    "\n",
    "print(\"\\n\")\n",
    "\n",
    "for food in friend_foods:\n",
    "    print(food)"
   ]
  },
  {
   "cell_type": "markdown",
   "metadata": {},
   "source": [
    "### Tuples\n",
    "#### Unlike a list, a tuple is immutable (cannot be changed)"
   ]
  },
  {
   "cell_type": "code",
   "execution_count": 45,
   "metadata": {},
   "outputs": [
    {
     "name": "stdout",
     "output_type": "stream",
     "text": [
      "('sausage', 'egg', 'cheese', 'biscuits', 'gravy')\n",
      "['sausage', 'chocolate bars', 'egg', 'cheese', 'biscuits', 'gravy']\n"
     ]
    }
   ],
   "source": [
    "# 4-13\n",
    "\n",
    "buffet_foods = ('sausage', 'egg', 'cheese', 'biscuits', 'gravy')\n",
    "print(buffet_foods)\n",
    "\n",
    "# # Will not work, trying to modify a tuple\n",
    "# buffet_foods.insert(1, 'chocolate bars')\n",
    "\n",
    "buffet_foods = list(buffet_foods)\n",
    "\n",
    "buffet_foods.insert(1, 'chocolate bars')\n",
    "print(buffet_foods)"
   ]
  },
  {
   "cell_type": "code",
   "execution_count": 46,
   "metadata": {},
   "outputs": [
    {
     "name": "stdout",
     "output_type": "stream",
     "text": [
      "Edward, thank you for the poll.\n",
      "Jen, thank you for the poll.\n",
      "Phil, thank you for the poll.\n",
      "Sarah, thank you for the poll.\n",
      "C was one of the selected programming languages.\n",
      "Python was one of the selected programming languages.\n",
      "Ruby was one of the selected programming languages.\n",
      "The person selected Ruby as their language.\n"
     ]
    }
   ],
   "source": [
    "# 6-1\n",
    "\n",
    "favorite_languages = {\n",
    "    'jen': 'python',\n",
    "    'sarah': 'c',\n",
    "    'edward': 'ruby',\n",
    "    'phil': 'python',\n",
    "    }\n",
    "\n",
    "for name in sorted(favorite_languages.keys()):\n",
    "    print(f\"{name.title()}, thank you for the poll.\")\n",
    "\n",
    "for language in sorted(set(favorite_languages.values())):\n",
    "    print(f\"{language.title()} was one of the selected programming languages.\")\n",
    "    \n",
    "get_language = favorite_languages.get('edward', 'Someone with this name did not take the poll.')\n",
    "print(f\"The person selected {get_language.title()} as their language.\")"
   ]
  },
  {
   "cell_type": "code",
   "execution_count": 47,
   "metadata": {},
   "outputs": [
    {
     "name": "stdout",
     "output_type": "stream",
     "text": [
      "\n",
      "Key: Jen\n",
      "Value: Python\n",
      "\n",
      "Key: Sarah\n",
      "Value: C\n",
      "\n",
      "Key: Edward\n",
      "Value: Ruby\n",
      "\n",
      "Key: Phil\n",
      "Value: Python\n"
     ]
    }
   ],
   "source": [
    "for key, value in favorite_languages.items():\n",
    "    print(f\"\\nKey: {key.title()}\")\n",
    "    print(f\"Value: {value.title()}\")"
   ]
  },
  {
   "cell_type": "markdown",
   "metadata": {},
   "source": []
  },
  {
   "cell_type": "code",
   "execution_count": 49,
   "metadata": {},
   "outputs": [
    {
     "name": "stdout",
     "output_type": "stream",
     "text": [
      "You ordered a thick-crust pizza with the following toppings:\n",
      "\tmushrooms\n",
      "\textra cheese\n"
     ]
    }
   ],
   "source": [
    "# Store information about a pizza being ordered.\n",
    "pizza = {\n",
    "    'crust': 'thick',\n",
    "    'toppings': ['mushrooms', 'extra cheese'],\n",
    "    }\n",
    "\n",
    "# Summarize the order.\n",
    "print(f\"You ordered a {pizza['crust']}-crust pizza \"    \n",
    "      \"with the following toppings:\")\n",
    "for topping in pizza['toppings']:\n",
    "    print(f\"\\t{topping}\")"
   ]
  },
  {
   "cell_type": "code",
   "execution_count": 55,
   "metadata": {},
   "outputs": [
    {
     "name": "stdout",
     "output_type": "stream",
     "text": [
      "\n",
      "Username: aeinstein\n",
      "\tFull name: Albert Einstein\n",
      "\tLocation: Princeton\n",
      "\n",
      "Username: mcurie\n",
      "\tFull name: Marie Curie\n",
      "\tLocation: Paris\n"
     ]
    }
   ],
   "source": [
    "users = {\n",
    "    'aeinstein': {\n",
    "        'first': 'albert',\n",
    "        'last': 'einstein',\n",
    "        'location': 'princeton',\n",
    "        },\n",
    "    'mcurie': {\n",
    "        'first': 'marie',\n",
    "        'last': 'curie',\n",
    "        'location': 'paris',\n",
    "        },\n",
    "    }\n",
    "for username, user_info in users.items():\n",
    "    print(f\"\\nUsername: {username}\")\n",
    "    full_name = f\"{user_info['first']} {user_info['last']}\"\n",
    "    location = user_info['location']\n",
    "    \n",
    "    print(f\"\\tFull name: {full_name.title()}\")\n",
    "    print(f\"\\tLocation: {location.title()}\")"
   ]
  },
  {
   "cell_type": "markdown",
   "metadata": {},
   "source": [
    "868km/h == 540mi/h"
   ]
  },
  {
   "cell_type": "code",
   "execution_count": null,
   "metadata": {},
   "outputs": [],
   "source": []
  }
 ],
 "metadata": {
  "kernelspec": {
   "display_name": "Python 3.8.10 64-bit",
   "language": "python",
   "name": "python3"
  },
  "language_info": {
   "codemirror_mode": {
    "name": "ipython",
    "version": 3
   },
   "file_extension": ".py",
   "mimetype": "text/x-python",
   "name": "python",
   "nbconvert_exporter": "python",
   "pygments_lexer": "ipython3",
   "version": "3.8.10"
  },
  "orig_nbformat": 4,
  "vscode": {
   "interpreter": {
    "hash": "916dbcbb3f70747c44a77c7bcd40155683ae19c65e1c03b4aa3499c5328201f1"
   }
  }
 },
 "nbformat": 4,
 "nbformat_minor": 2
}
